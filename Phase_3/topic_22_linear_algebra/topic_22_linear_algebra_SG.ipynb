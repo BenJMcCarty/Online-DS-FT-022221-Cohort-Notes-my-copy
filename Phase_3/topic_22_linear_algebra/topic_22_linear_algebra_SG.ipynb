{
 "cells": [
  {
   "cell_type": "markdown",
   "metadata": {},
   "source": [
    "# Topic 22: Linear Algebra"
   ]
  },
  {
   "cell_type": "markdown",
   "metadata": {},
   "source": [
    "- 04/28921\n",
    "- onl01-dtsc-ft-022221\n"
   ]
  },
  {
   "cell_type": "markdown",
   "metadata": {},
   "source": [
    "## Announcements"
   ]
  },
  {
   "cell_type": "markdown",
   "metadata": {},
   "source": [
    "- **One on Ones Resume Next Week**\n",
    "- We have our **Cohort Phase 2 Project Presentation Sharing session tomorrow at 4 pm EST**\n",
    "    - Sharing is optional!\n",
    "    \n",
    "- **Make sure to check the new \"Notes from James\" page at the start of topics 25,26,27,32.**\n",
    "    - Summary is: topic 25 will be 2-study groups.\n",
    "    - Topic 27 and 32 are combined into 1 study group.\n",
    "    - Topic 26 is a bit redundant and includes more gradient descent from scratch labs."
   ]
  },
  {
   "cell_type": "markdown",
   "metadata": {},
   "source": [
    "## Learning Objectives"
   ]
  },
  {
   "cell_type": "markdown",
   "metadata": {},
   "source": [
    "- Be able to explain the difference(s) between vectors, matrices, tensors, etc. and their dimensionality.\n",
    "\n",
    "- Understand the the difference between the shape and size of an array\n",
    "\n",
    "- Discuss linear algebra operations with numpy\n",
    "\n",
    "- Learn about using linear algebra to solve systems of equations\n",
    "- Simple linear algebra regression analysis"
   ]
  },
  {
   "cell_type": "markdown",
   "metadata": {},
   "source": [
    "## Questions/Comments?"
   ]
  },
  {
   "cell_type": "markdown",
   "metadata": {},
   "source": [
    "- "
   ]
  },
  {
   "cell_type": "markdown",
   "metadata": {},
   "source": [
    "### Resources:"
   ]
  },
  {
   "cell_type": "markdown",
   "metadata": {},
   "source": [
    "- **Videos (added to Canvas Topic 22 Supplemental Videos):**\n",
    " - **[YouTube Playlist: 3Blue 1Brown - Essence of Linear Algebra](https://www.youtube.com/playlist?list=PLZHQObOWTQDPD3MizzM2xVFitgF8hE_ab)**\n",
    "- [YouTube Intuitive Explanation of Dot Product](https://youtu.be/FrDAU2N0FEg)\n",
    "\n",
    "- [Youtube: Vector Dot Products](https://www.youtube.com/watch?v=0iNrGpwZwog)\n",
    "- [Kahn Academy: Intro to Matrix Multiplication](https://youtu.be/kT4Mp9EdVqs)"
   ]
  },
  {
   "cell_type": "markdown",
   "metadata": {},
   "source": [
    "- www.desmos.com (linear equation grapher)"
   ]
  },
  {
   "cell_type": "markdown",
   "metadata": {},
   "source": [
    "# What & Why of Linear Algebra"
   ]
  },
  {
   "cell_type": "markdown",
   "metadata": {},
   "source": [
    "\n",
    "### What is Linear Algebra?\n",
    "\n",
    "\n",
    "\n",
    "- Study of \"vector spaces\" with linear relationships.\n",
    "- Uses vectors, matrices, and tensors\n",
    "\n",
    "<!-- - Mapping & dimensionality (PCA) -->\n",
    "- Used in lots of ML applications"
   ]
  },
  {
   "cell_type": "markdown",
   "metadata": {},
   "source": [
    "# Different Tensors"
   ]
  },
  {
   "cell_type": "markdown",
   "metadata": {},
   "source": [
    "## Scalars, Vectors, Matrices: It's all about the dimension"
   ]
  },
  {
   "cell_type": "markdown",
   "metadata": {},
   "source": [
    "<img src=\"https://raw.githubusercontent.com/jirvingphd/flatiron-school-data-science-curriculum-resources/master/Mathematics/LinearAlgebra/images/different_tensors.png\" width=50%>\n",
    "\n",
    "\n"
   ]
  },
  {
   "cell_type": "markdown",
   "metadata": {},
   "source": [
    "## Why Linear Algebra?\n"
   ]
  },
  {
   "cell_type": "markdown",
   "metadata": {},
   "source": [
    "- Representing data as a N-dimensional tensor is used in many areas of Machine Learning."
   ]
  },
  {
   "cell_type": "markdown",
   "metadata": {},
   "source": [
    "#### Images are 3-D tensors.\n",
    "<img src='https://raw.githubusercontent.com/jirvingphd/dsc-lingalg-motivation-online-ds-pt-100719/master/images/rgb.png' width=40%>\n",
    "\n",
    "#### Natural Language Processing Represents text using matrices\n",
    "<img src=\"https://raw.githubusercontent.com/learn-co-students/dsc-lingalg-motivation-online-ds-pt-100719/master/images/NLP_matrix2.png\" width=80%>\n",
    "\n",
    "\n",
    "#### Dimensionality Reduction (PCA)\n",
    "\n",
    "\n",
    "<img src=\"https://raw.githubusercontent.com/learn-co-students/dsc-lingalg-motivation-online-ds-pt-100719/master/images/PCA_img.png\">\n",
    "\n",
    "\n",
    "#### Artificial Neural Networks\n",
    "<img src=\"https://miro.medium.com/max/2500/1*ZB6H4HuF58VcMOWbdpcRxQ.png\" width=50%>"
   ]
  },
  {
   "cell_type": "markdown",
   "metadata": {},
   "source": [
    "## Creating with NumPy"
   ]
  },
  {
   "cell_type": "code",
   "execution_count": null,
   "metadata": {
    "ExecuteTime": {
     "end_time": "2021-04-29T14:46:41.983595Z",
     "start_time": "2021-04-29T14:46:37.995347Z"
    }
   },
   "outputs": [],
   "source": [
    "# Imports needed for this notebook\n",
    "import numpy as np\n",
    "import matplotlib.pyplot as plt\n",
    "import matplotlib as mpl"
   ]
  },
  {
   "cell_type": "code",
   "execution_count": null,
   "metadata": {
    "ExecuteTime": {
     "end_time": "2021-04-29T14:46:41.990327Z",
     "start_time": "2021-04-29T14:46:41.985696Z"
    }
   },
   "outputs": [],
   "source": [
    "def show_matrix(matrix ,name='matrix'):\n",
    "    \"\"\"Prints the name and shape of the matrix and displays the matrix\"\"\"\n",
    "    print(f'{name} (shape={matrix.shape}):')\n",
    "    display(matrix)\n",
    "    print('\\n')"
   ]
  },
  {
   "cell_type": "code",
   "execution_count": null,
   "metadata": {
    "ExecuteTime": {
     "end_time": "2021-04-29T14:46:41.998375Z",
     "start_time": "2021-04-29T14:46:41.993307Z"
    }
   },
   "outputs": [],
   "source": [
    "# Scalar\n",
    "s = np.arange(1)\n",
    "display(s)"
   ]
  },
  {
   "cell_type": "code",
   "execution_count": null,
   "metadata": {
    "ExecuteTime": {
     "end_time": "2021-04-29T14:46:42.006352Z",
     "start_time": "2021-04-29T14:46:42.000666Z"
    }
   },
   "outputs": [],
   "source": [
    "# Vector\n",
    "v = np.arange(4)\n",
    "show_matrix(v,'v')"
   ]
  },
  {
   "cell_type": "code",
   "execution_count": null,
   "metadata": {
    "ExecuteTime": {
     "end_time": "2021-04-29T14:46:42.014517Z",
     "start_time": "2021-04-29T14:46:42.008179Z"
    }
   },
   "outputs": [],
   "source": [
    "# Other ways to define vector\n",
    "x = np.linspace(-np.pi, np.pi, 10)\n",
    "show_matrix(x,'x')"
   ]
  },
  {
   "cell_type": "code",
   "execution_count": null,
   "metadata": {
    "ExecuteTime": {
     "end_time": "2021-04-29T14:46:42.023672Z",
     "start_time": "2021-04-29T14:46:42.016619Z"
    }
   },
   "outputs": [],
   "source": [
    "# Matrix\n",
    "M0 = np.arange(8)\n",
    "show_matrix(M0,'M0')\n",
    "\n",
    "M = np.arange(8).reshape((4, 2))\n",
    "show_matrix(M,\"M\")"
   ]
  },
  {
   "cell_type": "code",
   "execution_count": null,
   "metadata": {
    "ExecuteTime": {
     "end_time": "2021-04-29T14:46:42.032524Z",
     "start_time": "2021-04-29T14:46:42.025594Z"
    }
   },
   "outputs": [],
   "source": [
    "# 3D Tensor\n",
    "n = 24 \n",
    "T_3d = np.arange(n).reshape((4, 2, 3))\n",
    "\n",
    "show_matrix(T_3d,'T_3d')"
   ]
  },
  {
   "cell_type": "markdown",
   "metadata": {},
   "source": [
    "### Indexing with NumPy"
   ]
  },
  {
   "cell_type": "markdown",
   "metadata": {},
   "source": [
    "<img src=\"https://raw.githubusercontent.com/learn-co-students/dsc-scalars-vectors-matrices-tensors-codealong-online-ds-pt-100719/master/images/new_tensors.png\" width=80%>"
   ]
  },
  {
   "cell_type": "markdown",
   "metadata": {},
   "source": [
    "#### Different parts of a vector"
   ]
  },
  {
   "cell_type": "code",
   "execution_count": null,
   "metadata": {
    "ExecuteTime": {
     "end_time": "2021-04-29T14:52:45.535129Z",
     "start_time": "2021-04-29T14:52:45.531022Z"
    }
   },
   "outputs": [],
   "source": [
    "show_matrix(v,'v')"
   ]
  },
  {
   "cell_type": "code",
   "execution_count": null,
   "metadata": {
    "ExecuteTime": {
     "end_time": "2021-04-29T14:52:48.557781Z",
     "start_time": "2021-04-29T14:52:48.549754Z"
    }
   },
   "outputs": [],
   "source": [
    "# For Vectors\n",
    "display(v[1:4])  # second to fourth element.\n",
    "display(v[::2])  # every other element\n",
    "display(v[:])    # print the whole vector\n",
    "display(v[::-1]) # reverse the vector!"
   ]
  },
  {
   "cell_type": "markdown",
   "metadata": {},
   "source": [
    "#### Different parts of a matrix"
   ]
  },
  {
   "cell_type": "code",
   "execution_count": null,
   "metadata": {
    "ExecuteTime": {
     "end_time": "2021-04-29T14:52:54.072646Z",
     "start_time": "2021-04-29T14:52:54.067994Z"
    }
   },
   "outputs": [],
   "source": [
    "show_matrix(M)"
   ]
  },
  {
   "cell_type": "code",
   "execution_count": null,
   "metadata": {
    "ExecuteTime": {
     "end_time": "2021-04-29T14:52:56.051794Z",
     "start_time": "2021-04-29T14:52:56.048207Z"
    }
   },
   "outputs": [],
   "source": [
    "## Entire first row of matrix\n",
    "M[0] "
   ]
  },
  {
   "cell_type": "code",
   "execution_count": null,
   "metadata": {
    "ExecuteTime": {
     "end_time": "2021-04-29T14:53:02.595506Z",
     "start_time": "2021-04-29T14:53:02.591844Z"
    }
   },
   "outputs": [],
   "source": [
    "# first row and all columns\n",
    "display(M[0, :])   "
   ]
  },
  {
   "cell_type": "code",
   "execution_count": null,
   "metadata": {
    "ExecuteTime": {
     "end_time": "2021-04-29T14:53:03.351490Z",
     "start_time": "2021-04-29T14:53:03.347904Z"
    }
   },
   "outputs": [],
   "source": [
    "# element at first row and first column\n",
    "display(M[0, 0])   "
   ]
  },
  {
   "cell_type": "code",
   "execution_count": null,
   "metadata": {
    "ExecuteTime": {
     "end_time": "2021-04-29T14:53:06.321818Z",
     "start_time": "2021-04-29T14:53:06.318149Z"
    }
   },
   "outputs": [],
   "source": [
    "# elemenet last row and last column \n",
    "display(M[-1, -1]) "
   ]
  },
  {
   "cell_type": "code",
   "execution_count": null,
   "metadata": {
    "ExecuteTime": {
     "end_time": "2021-04-29T14:53:08.551663Z",
     "start_time": "2021-04-29T14:53:08.547912Z"
    }
   },
   "outputs": [],
   "source": [
    "# all rows and first column \n",
    "display(M[:, 0])   "
   ]
  },
  {
   "cell_type": "code",
   "execution_count": null,
   "metadata": {
    "ExecuteTime": {
     "end_time": "2021-04-29T14:53:08.780871Z",
     "start_time": "2021-04-29T14:53:08.777095Z"
    }
   },
   "outputs": [],
   "source": [
    " # all rows and all columns\n",
    "display(M[:])     "
   ]
  },
  {
   "cell_type": "markdown",
   "metadata": {},
   "source": [
    "#### Different parts of a tensor"
   ]
  },
  {
   "cell_type": "code",
   "execution_count": null,
   "metadata": {
    "ExecuteTime": {
     "end_time": "2021-04-29T14:53:25.263160Z",
     "start_time": "2021-04-29T14:53:25.258590Z"
    }
   },
   "outputs": [],
   "source": [
    "show_matrix(T_3d,'T_3d')"
   ]
  },
  {
   "cell_type": "code",
   "execution_count": null,
   "metadata": {
    "ExecuteTime": {
     "end_time": "2021-04-29T14:53:57.974471Z",
     "start_time": "2021-04-29T14:53:57.969693Z"
    }
   },
   "outputs": [],
   "source": [
    "show_matrix(T_3d[0])      # 2D: First matrix"
   ]
  },
  {
   "cell_type": "code",
   "execution_count": null,
   "metadata": {
    "ExecuteTime": {
     "end_time": "2021-04-29T14:54:18.152327Z",
     "start_time": "2021-04-29T14:54:18.148123Z"
    }
   },
   "outputs": [],
   "source": [
    "show_matrix(T_3d[3])  "
   ]
  },
  {
   "cell_type": "code",
   "execution_count": null,
   "metadata": {
    "ExecuteTime": {
     "end_time": "2021-04-28T14:28:56.804124Z",
     "start_time": "2021-04-28T14:28:56.800268Z"
    }
   },
   "outputs": [],
   "source": [
    "display(T_3d[0, 0])   # 1D: First matrix's first vector"
   ]
  },
  {
   "cell_type": "code",
   "execution_count": null,
   "metadata": {
    "ExecuteTime": {
     "end_time": "2021-04-28T14:28:57.146836Z",
     "start_time": "2021-04-28T14:28:57.143097Z"
    }
   },
   "outputs": [],
   "source": [
    "display(T_3d[0,0, 0]) # 0D: First matrix's first vector's first element"
   ]
  },
  {
   "cell_type": "code",
   "execution_count": null,
   "metadata": {
    "ExecuteTime": {
     "end_time": "2021-04-28T14:28:57.455662Z",
     "start_time": "2021-04-28T14:28:57.451827Z"
    }
   },
   "outputs": [],
   "source": [
    "display(T_3d[0, 0,0])  # 1D: first matrix, first vector, all elements"
   ]
  },
  {
   "cell_type": "code",
   "execution_count": null,
   "metadata": {
    "ExecuteTime": {
     "end_time": "2021-04-28T14:28:57.716598Z",
     "start_time": "2021-04-28T14:28:57.712509Z"
    }
   },
   "outputs": [],
   "source": [
    "display(T_3d)"
   ]
  },
  {
   "cell_type": "code",
   "execution_count": null,
   "metadata": {
    "ExecuteTime": {
     "end_time": "2021-04-28T14:28:58.049595Z",
     "start_time": "2021-04-28T14:28:58.045585Z"
    }
   },
   "outputs": [],
   "source": [
    "display(T_3d[0, :, 0])  # 1D: first matrix, all the vectors, just the fist element"
   ]
  },
  {
   "cell_type": "code",
   "execution_count": null,
   "metadata": {
    "ExecuteTime": {
     "end_time": "2021-04-28T14:28:58.594944Z",
     "start_time": "2021-04-28T14:28:58.591094Z"
    }
   },
   "outputs": [],
   "source": [
    "display(T_3d[0, :, 1:]) # 1D: first matrix, all the vectors, all elements after the first"
   ]
  },
  {
   "cell_type": "markdown",
   "metadata": {},
   "source": [
    "### Example 3D Tensor - An Image"
   ]
  },
  {
   "cell_type": "code",
   "execution_count": null,
   "metadata": {
    "ExecuteTime": {
     "end_time": "2021-04-29T14:58:24.829563Z",
     "start_time": "2021-04-29T14:58:24.765321Z"
    }
   },
   "outputs": [],
   "source": [
    "## Color Images Are 3d Matrices/Tensors\n",
    "img = 'images/neuron.jpg'\n",
    "IMG =mpl.image.imread(img)\n",
    "\n",
    "## Image is a 1220 x 2880 pixel color image\n",
    "show_matrix(IMG)"
   ]
  },
  {
   "cell_type": "code",
   "execution_count": null,
   "metadata": {
    "ExecuteTime": {
     "end_time": "2021-04-29T14:49:08.837846Z",
     "start_time": "2021-04-29T14:49:08.833696Z"
    }
   },
   "outputs": [],
   "source": [
    "## image is made of 3 channels of 1220 x 2880 pixels\n",
    "[print(IMG[:,:,i].shape) for i in range(3)];"
   ]
  },
  {
   "cell_type": "code",
   "execution_count": null,
   "metadata": {
    "ExecuteTime": {
     "end_time": "2021-04-29T14:49:48.065873Z",
     "start_time": "2021-04-29T14:49:47.792634Z"
    },
    "slideshow": {
     "slide_type": "slide"
    }
   },
   "outputs": [],
   "source": [
    "## Visualizing a single channel (dim) of image\n",
    "show_matrix(IMG[:,:,0],'Dim 0')\n",
    "plt.imshow(IMG[:,:,0],'gray')\n",
    "plt.axis('off')"
   ]
  },
  {
   "cell_type": "code",
   "execution_count": null,
   "metadata": {
    "ExecuteTime": {
     "end_time": "2021-04-29T14:56:25.117807Z",
     "start_time": "2021-04-29T14:56:24.028836Z"
    },
    "scrolled": true,
    "slideshow": {
     "slide_type": "slide"
    }
   },
   "outputs": [],
   "source": [
    "## View All Channels\n",
    "fig, ax = plt.subplots(nrows=4,figsize=(5,10))\n",
    "\n",
    "ax[0].imshow(IMG[:,:,0],cmap= 'gray')\n",
    "ax[0].set_title(\"Dim 0\")\n",
    "\n",
    "ax[1].imshow(IMG[:,:,1],cmap='gray')\n",
    "ax[1].set_title(\"Dim 1\")\n",
    "\n",
    "ax[2].imshow(IMG[:,:,2],cmap='gray')\n",
    "ax[2].set_title(\"Dim 2\")\n",
    "\n",
    "ax[3].imshow(IMG)\n",
    "ax[3].set_title('Combined Color Image')\n",
    "\n",
    "\n",
    "[a.axis('off') for a in ax]\n",
    "\n",
    "plt.tight_layout()"
   ]
  },
  {
   "cell_type": "markdown",
   "metadata": {},
   "source": []
  },
  {
   "cell_type": "code",
   "execution_count": null,
   "metadata": {},
   "outputs": [],
   "source": []
  },
  {
   "cell_type": "markdown",
   "metadata": {},
   "source": [
    "# Basic Properties"
   ]
  },
  {
   "cell_type": "markdown",
   "metadata": {},
   "source": [
    "## Shape\n",
    "\n",
    "Can help us know the dimensions and size"
   ]
  },
  {
   "cell_type": "code",
   "execution_count": null,
   "metadata": {
    "ExecuteTime": {
     "end_time": "2021-04-28T14:29:00.882941Z",
     "start_time": "2021-04-28T14:29:00.876612Z"
    }
   },
   "outputs": [],
   "source": [
    "print('Scalar:')\n",
    "s = np.array(100)\n",
    "display(s)\n",
    "display(s.shape)\n",
    "display(s.size)"
   ]
  },
  {
   "cell_type": "code",
   "execution_count": null,
   "metadata": {
    "ExecuteTime": {
     "end_time": "2021-04-28T14:29:01.217605Z",
     "start_time": "2021-04-28T14:29:01.211044Z"
    }
   },
   "outputs": [],
   "source": [
    "print('Vector:')\n",
    "display(v)\n",
    "display(v.shape)\n",
    "display(v.size)"
   ]
  },
  {
   "cell_type": "code",
   "execution_count": null,
   "metadata": {
    "ExecuteTime": {
     "end_time": "2020-08-19T23:19:53.916368Z",
     "start_time": "2020-08-19T23:19:53.910331Z"
    }
   },
   "outputs": [],
   "source": [
    "print('Matrix:')\n",
    "display(M)\n",
    "display(M.shape)\n",
    "display(M.size)"
   ]
  },
  {
   "cell_type": "code",
   "execution_count": null,
   "metadata": {
    "ExecuteTime": {
     "end_time": "2020-08-19T23:20:08.233432Z",
     "start_time": "2020-08-19T23:20:08.228436Z"
    }
   },
   "outputs": [],
   "source": [
    "print('3D Tensor:')\n",
    "print(T_3d)\n",
    "display(T_3d.shape)\n",
    "display(T_3d.size)"
   ]
  },
  {
   "cell_type": "markdown",
   "metadata": {},
   "source": [
    "## Transpose"
   ]
  },
  {
   "cell_type": "markdown",
   "metadata": {},
   "source": [
    "<img src=\"https://raw.githubusercontent.com/jirvingphd/flatiron-school-data-science-curriculum-resources/master/Mathematics/LinearAlgebra/images/transpose_tensors.png\">\n",
    "\n",
    "\n",
    "<img src=\"https://raw.githubusercontent.com/learn-co-students/dsc-scalars-vectors-matrices-tensors-codealong-online-ds-pt-100719/master/images/new_matrix.png\" width=40%>"
   ]
  },
  {
   "cell_type": "code",
   "execution_count": null,
   "metadata": {
    "ExecuteTime": {
     "end_time": "2021-04-29T15:00:15.010923Z",
     "start_time": "2021-04-29T15:00:15.004654Z"
    }
   },
   "outputs": [],
   "source": [
    "## Transpose of a matrix\n",
    "show_matrix(M,'M')\n",
    "\n",
    "Mt = M.T\n",
    "show_matrix(Mt,'M.T')"
   ]
  },
  {
   "cell_type": "code",
   "execution_count": null,
   "metadata": {
    "ExecuteTime": {
     "end_time": "2021-04-29T15:02:46.192428Z",
     "start_time": "2021-04-29T15:02:46.185300Z"
    }
   },
   "outputs": [],
   "source": [
    "## Transpose of a Transpose is Original \n",
    "show_matrix(Mt,'Mt')\n",
    "\n",
    "MtT = Mt.T\n",
    "show_matrix(MtT,'Mt.T')\n",
    "\n",
    "show_matrix(M,'M')\n"
   ]
  },
  {
   "cell_type": "code",
   "execution_count": null,
   "metadata": {
    "ExecuteTime": {
     "end_time": "2021-04-29T15:03:52.274190Z",
     "start_time": "2021-04-29T15:03:52.270056Z"
    }
   },
   "outputs": [],
   "source": [
    "## Proving they're equal\n",
    "(M.T.T == M).all()"
   ]
  },
  {
   "cell_type": "markdown",
   "metadata": {},
   "source": [
    "# Combining Tensors"
   ]
  },
  {
   "cell_type": "markdown",
   "metadata": {},
   "source": [
    "> Note: NumPy is pretty smart when you combine tensors; it will attempt to combine even if the dimensions don't match. This is called broadcasting & you can read about it in the documentation (https://docs.scipy.org/doc/numpy/user/basics.broadcasting.html)[https://docs.scipy.org/doc/numpy/user/basics.broadcasting.html]."
   ]
  },
  {
   "cell_type": "code",
   "execution_count": null,
   "metadata": {
    "ExecuteTime": {
     "end_time": "2021-04-29T15:04:49.180898Z",
     "start_time": "2021-04-29T15:04:49.178850Z"
    }
   },
   "outputs": [],
   "source": [
    "# A = np.arange(6).reshape(3,2)\n",
    "# B = 10 * A\n",
    "\n",
    "# show_matrix(A,'A')\n",
    "# show_matrix(B,'B')\n"
   ]
  },
  {
   "cell_type": "markdown",
   "metadata": {},
   "source": [
    "## Addition"
   ]
  },
  {
   "cell_type": "code",
   "execution_count": null,
   "metadata": {
    "ExecuteTime": {
     "end_time": "2021-04-29T15:04:54.983329Z",
     "start_time": "2021-04-29T15:04:54.976240Z"
    }
   },
   "outputs": [],
   "source": [
    "A = np.arange(6).reshape(3,2)\n",
    "B = 10 + np.arange(6).reshape(3,2)\n",
    "\n",
    "show_matrix(A,'A')\n",
    "show_matrix(B,'B')\n"
   ]
  },
  {
   "cell_type": "code",
   "execution_count": null,
   "metadata": {
    "ExecuteTime": {
     "end_time": "2021-04-29T15:04:59.971973Z",
     "start_time": "2021-04-29T15:04:59.968587Z"
    }
   },
   "outputs": [],
   "source": [
    "# We can add up the same dimensions! (elementwise)\n",
    "A + B"
   ]
  },
  {
   "cell_type": "code",
   "execution_count": null,
   "metadata": {
    "ExecuteTime": {
     "end_time": "2021-04-29T15:05:00.717600Z",
     "start_time": "2021-04-29T15:05:00.714105Z"
    }
   },
   "outputs": [],
   "source": [
    "# Broadcasting: We can even add scalars to the whole array (as you might expect)\n",
    "A + 100"
   ]
  },
  {
   "cell_type": "markdown",
   "metadata": {},
   "source": [
    "## What happens when we have different dimensions? Broadcasting happens"
   ]
  },
  {
   "cell_type": "code",
   "execution_count": null,
   "metadata": {
    "ExecuteTime": {
     "end_time": "2021-04-29T15:05:08.627059Z",
     "start_time": "2021-04-29T15:05:08.622402Z"
    }
   },
   "outputs": [],
   "source": [
    "# 3-by-2 add 1-by-2\n",
    "x = 100*np.arange(2).reshape(2)\n",
    "show_matrix(x,'x')"
   ]
  },
  {
   "cell_type": "code",
   "execution_count": null,
   "metadata": {
    "ExecuteTime": {
     "end_time": "2021-04-29T15:05:18.200656Z",
     "start_time": "2021-04-29T15:05:18.196066Z"
    }
   },
   "outputs": [],
   "source": [
    "show_matrix(A,'A')"
   ]
  },
  {
   "cell_type": "code",
   "execution_count": null,
   "metadata": {
    "ExecuteTime": {
     "end_time": "2021-04-29T15:05:58.833949Z",
     "start_time": "2021-04-29T15:05:58.829522Z"
    },
    "scrolled": true
   },
   "outputs": [],
   "source": [
    "## Broadcasted [0,100] across A\n",
    "show_matrix(A + x)"
   ]
  },
  {
   "cell_type": "code",
   "execution_count": null,
   "metadata": {
    "ExecuteTime": {
     "end_time": "2021-04-29T15:06:08.330486Z",
     "start_time": "2021-04-29T15:06:08.325480Z"
    }
   },
   "outputs": [],
   "source": [
    "# 3-by-2 add 3-by-2\n",
    "A = np.arange(6).reshape(3,2)\n",
    "show_matrix(A,'A')"
   ]
  },
  {
   "cell_type": "code",
   "execution_count": null,
   "metadata": {
    "ExecuteTime": {
     "end_time": "2021-04-29T15:06:47.572750Z",
     "start_time": "2021-04-29T15:06:47.567989Z"
    }
   },
   "outputs": [],
   "source": [
    "# 3-by-2 add 2-by-3 --> Will this work?\n",
    "x = 100*np.arange(2*3).reshape(2,3)\n",
    "show_matrix(x,'x')"
   ]
  },
  {
   "cell_type": "code",
   "execution_count": null,
   "metadata": {
    "ExecuteTime": {
     "end_time": "2021-04-29T15:06:53.880094Z",
     "start_time": "2021-04-29T15:06:53.875879Z"
    }
   },
   "outputs": [],
   "source": [
    "show_matrix(A,'A')"
   ]
  },
  {
   "cell_type": "code",
   "execution_count": null,
   "metadata": {
    "ExecuteTime": {
     "end_time": "2021-04-29T15:06:57.621095Z",
     "start_time": "2021-04-29T15:06:57.614117Z"
    },
    "scrolled": true
   },
   "outputs": [],
   "source": [
    "display(A + x)"
   ]
  },
  {
   "cell_type": "markdown",
   "metadata": {},
   "source": [
    "## Multiplication (Hadamard Product & Dot Product)"
   ]
  },
  {
   "cell_type": "markdown",
   "metadata": {},
   "source": [
    "### Hadamard Product a.k.a. Element-wise multiplication"
   ]
  },
  {
   "cell_type": "markdown",
   "metadata": {},
   "source": [
    "> $C = A \\circ B$\n",
    "\n",
    "- The Hadamard product can be calculated in Python using the $*$ operator between two NumPy arrays: "
   ]
  },
  {
   "cell_type": "markdown",
   "metadata": {},
   "source": [
    "- Result: \n",
    "    - Each element in A is multiplied by its corresponding element (same row/column) as B\n",
    "    - Same dimensions (after broadcasting)\n"
   ]
  },
  {
   "cell_type": "markdown",
   "metadata": {},
   "source": [
    "\n",
    "$$ A \\circ B = \n",
    "   \\left[ {\\begin{array}{cc}\n",
    "   A_{1,1} * B_{1,1} & A_{1,2} * B_{1,2}\\\\\n",
    "   A_{2,1} * B_{2,1}& A_{2,2} * B_{2,2} \\\\\n",
    "   A_{3,1} * B_{3,1} & A_{3,2} * B_{3,2} \\\\\n",
    "  \\end{array} } \\right] \n",
    "$$"
   ]
  },
  {
   "cell_type": "code",
   "execution_count": null,
   "metadata": {
    "ExecuteTime": {
     "end_time": "2021-04-29T15:07:12.561005Z",
     "start_time": "2021-04-29T15:07:12.554900Z"
    }
   },
   "outputs": [],
   "source": [
    "show_matrix(A,'A')\n",
    "show_matrix(B,'B')"
   ]
  },
  {
   "cell_type": "code",
   "execution_count": null,
   "metadata": {
    "ExecuteTime": {
     "end_time": "2021-04-29T15:07:21.524449Z",
     "start_time": "2021-04-29T15:07:21.519811Z"
    }
   },
   "outputs": [],
   "source": [
    "## use * for hadamard product\n",
    "C = A*B\n",
    "show_matrix(C,'C')"
   ]
  },
  {
   "cell_type": "code",
   "execution_count": null,
   "metadata": {
    "ExecuteTime": {
     "end_time": "2021-04-29T15:07:28.466467Z",
     "start_time": "2021-04-29T15:07:28.460001Z"
    }
   },
   "outputs": [],
   "source": [
    "# 3-by-2 add 1-by-2\n",
    "show_matrix(A,'A')\n",
    "\n",
    "x = 100*np.arange(2).reshape(2)\n",
    "show_matrix(x,'x')"
   ]
  },
  {
   "cell_type": "code",
   "execution_count": null,
   "metadata": {
    "ExecuteTime": {
     "end_time": "2021-04-29T15:07:32.084862Z",
     "start_time": "2021-04-29T15:07:32.080087Z"
    }
   },
   "outputs": [],
   "source": [
    "## will broadcast if same # of columns \n",
    "C = A * x\n",
    "show_matrix(C,'C')"
   ]
  },
  {
   "cell_type": "code",
   "execution_count": null,
   "metadata": {
    "ExecuteTime": {
     "end_time": "2021-04-29T15:12:32.754450Z",
     "start_time": "2021-04-29T15:12:32.747641Z"
    }
   },
   "outputs": [],
   "source": [
    "# 3-by-2 add 3-by-2\n",
    "show_matrix(A,'A')\n",
    "\n",
    "x = 100*np.arange(3*2).reshape(3,2)\n",
    "show_matrix(x,'x')"
   ]
  },
  {
   "cell_type": "code",
   "execution_count": null,
   "metadata": {
    "ExecuteTime": {
     "end_time": "2021-04-29T15:12:35.089986Z",
     "start_time": "2021-04-29T15:12:35.085351Z"
    }
   },
   "outputs": [],
   "source": [
    "C = A * x\n",
    "show_matrix(C,'C')"
   ]
  },
  {
   "cell_type": "code",
   "execution_count": null,
   "metadata": {
    "ExecuteTime": {
     "end_time": "2021-04-29T15:12:47.737545Z",
     "start_time": "2021-04-29T15:12:47.731723Z"
    }
   },
   "outputs": [],
   "source": [
    "# 3-by-2 add 2-by-3 --> Will this work?\n",
    "show_matrix(A,'A')\n",
    "\n",
    "x = x = 100*np.arange(3*2).reshape(2,3)\n",
    "show_matrix(x,'x')"
   ]
  },
  {
   "cell_type": "code",
   "execution_count": null,
   "metadata": {
    "ExecuteTime": {
     "end_time": "2021-04-29T15:12:48.362498Z",
     "start_time": "2021-04-29T15:12:48.356728Z"
    }
   },
   "outputs": [],
   "source": [
    "C = A * x\n",
    "show_matrix(C,'C')"
   ]
  },
  {
   "cell_type": "markdown",
   "metadata": {},
   "source": [
    "### Dot Product"
   ]
  },
  {
   "cell_type": "markdown",
   "metadata": {},
   "source": [
    "[Kahn Academy: Intro to Matrix Multiplication](https://youtu.be/kT4Mp9EdVqs)"
   ]
  },
  {
   "cell_type": "markdown",
   "metadata": {},
   "source": [
    "Result: (m-by-n) DOT (n-by-p) ==> (m-by-p)\n",
    "\n",
    "$$A \\cdot B = C$$\n",
    "\n",
    "Likely the most common operation when we think of \"multiplying\" matrices.\n",
    "\n",
    "- Matrix $A$ has $m$ rows and **$n$ columns**\n",
    "- Matrix $B$ has **$n$ rows** and $k$ columns. \n",
    "\n",
    "\n",
    "\n",
    ">- Provided the $n$ columns in $A$ and $n$ rows in $B$ are equal, the result is a new matrix with $m$ rows and $k$ columns. \n",
    "\n",
    "  \n",
    "- The dot product can be shown using (.) or (dot). \n",
    "\n",
    "> $ C_{(m, k)} = A_{(m, n)} \\cdot B_{(n, k)}$ OR $ C_{(m, k)} = A_{(m, n)} \\text{  dot  } B_{(n, k)}$\n",
    "\n",
    "The product operation is deﬁned by\n",
    "\n",
    "$$ \\large C_{i, j}= \\sum_k A_{i, k}B_{k, j}$$"
   ]
  },
  {
   "cell_type": "markdown",
   "metadata": {},
   "source": [
    "The intuition for the matrix multiplication is that you calculate the dot product between each row in matrix $A$ with each column in matrix $B$. \n",
    "\n",
    "<!---\n",
    "- When using the dot product, the number of columns in the first matrix must be equal the number of rows in the second matrix.\n",
    "\n",
    "- We basically take the a column from B and transpose  it and perform broadcasted multiplication with A.\n",
    "\n",
    "- end shape is # of rows from A and number of columns from B.\n",
    "--->\n",
    "\n",
    "$$ A = \n",
    "   \\left[ {\\begin{array}{cc}\n",
    "   A_{1,1}& A_{1,2} \\\\\n",
    "   A_{2,1}& A_{2,2}  \\\\\n",
    "   A_{3,1} & A_{3,2} \\\\\n",
    "  \\end{array} } \\right] \n",
    "$$\n",
    "\n",
    "$$ B = \n",
    "   \\left[ {\\begin{array}{cc}\n",
    "   B_{1,1}&  B_{1,2} \\\\\n",
    "   B_{2,1} & B_{2,2} \\\\\n",
    "  \\end{array} } \\right] \n",
    "$$\n",
    "\n",
    "$$ C = \n",
    "  \\left[ {\\begin{array}{cc}\n",
    "   A_{1,1}* B_{1,1}+ A_{1,2}*B_{2,1} & A_{1,1}* B_{1,2}+ A_{1,2}*B_{2,2} \\\\\n",
    "   A_{2,1}* B_{1,1}+ A_{2,2}*B_{2,1} & A_{2,1}* B_{1,2}+ A_{2,2}*B_{2,2} \\\\\n",
    "   A_{3,1}* B_{1,1}+ A_{3,2}*B_{2,1} & A_{3,1}* B_{1,2}+ A_{3,2}*B_{2,2} \\\\\n",
    "  \\end{array} } \\right]\n",
    "$$"
   ]
  },
  {
   "cell_type": "code",
   "execution_count": null,
   "metadata": {
    "ExecuteTime": {
     "end_time": "2021-04-29T15:13:15.941838Z",
     "start_time": "2021-04-29T15:13:15.933220Z"
    }
   },
   "outputs": [],
   "source": [
    "show_matrix(A,'A')\n",
    "show_matrix(B,'B')\n",
    "show_matrix(B.T,'B.T')"
   ]
  },
  {
   "cell_type": "code",
   "execution_count": null,
   "metadata": {
    "ExecuteTime": {
     "end_time": "2021-04-29T15:13:27.719769Z",
     "start_time": "2021-04-29T15:13:27.715171Z"
    }
   },
   "outputs": [],
   "source": [
    "C = A.dot(B.T) \n",
    "\n",
    "show_matrix(C,'C')"
   ]
  },
  {
   "cell_type": "code",
   "execution_count": null,
   "metadata": {
    "ExecuteTime": {
     "end_time": "2021-04-29T15:13:44.642472Z",
     "start_time": "2021-04-29T15:13:44.637316Z"
    }
   },
   "outputs": [],
   "source": [
    "## Multiple ways for dot-product\n",
    "Z = np.dot(A, B.T)\n",
    "Z = A.dot(B.T)\n",
    "Z = A @ B.T\n",
    "\n",
    "show_matrix(Z,'Z')"
   ]
  },
  {
   "cell_type": "markdown",
   "metadata": {},
   "source": [
    "<!-- ### Cross Product\n",
    "\n",
    "Produces another tensor of the same shape (Note broadcasting can still work)\n",
    "\n",
    "- [Kahn Academy: Intro to Cross Product](https://youtu.be/pJzmiywagfY)\n",
    "\n",
    "<img src=\"https://raw.githubusercontent.com/learn-co-students/dsc-linalg-mat-multiplication-codealong-online-ds-pt-100719/master/images/cross.png\">\n",
    "```python\n",
    "display(A[:,0])\n",
    "display(A[:,1])\n",
    "print()\n",
    "\n",
    "result= np.cross(A[:,0],A[:,1])\n",
    "show_matrix(result,'result')\n",
    "```\n",
    " -->"
   ]
  },
  {
   "cell_type": "markdown",
   "metadata": {},
   "source": [
    "# Manipulating Matrices (Identity & Inverse)"
   ]
  },
  {
   "cell_type": "markdown",
   "metadata": {},
   "source": [
    "## Identity Matrix"
   ]
  },
  {
   "cell_type": "markdown",
   "metadata": {},
   "source": [
    "Square matrix of diagonal 1's, rest are 0's"
   ]
  },
  {
   "cell_type": "code",
   "execution_count": null,
   "metadata": {
    "ExecuteTime": {
     "end_time": "2021-04-29T15:14:24.917969Z",
     "start_time": "2021-04-29T15:14:24.914671Z"
    }
   },
   "outputs": [],
   "source": [
    "I5 = np.identity(5)\n",
    "print(I5)"
   ]
  },
  {
   "cell_type": "markdown",
   "metadata": {},
   "source": [
    "When multiplying (dot product), you always get the same matrix (note that still has be compatible shape)"
   ]
  },
  {
   "cell_type": "code",
   "execution_count": null,
   "metadata": {
    "ExecuteTime": {
     "end_time": "2021-04-29T15:14:36.139703Z",
     "start_time": "2021-04-29T15:14:36.135197Z"
    }
   },
   "outputs": [],
   "source": [
    "A = np.arange(25).reshape(5,5)\n",
    "show_matrix(A,'A')"
   ]
  },
  {
   "cell_type": "code",
   "execution_count": null,
   "metadata": {
    "ExecuteTime": {
     "end_time": "2021-04-29T15:14:47.634574Z",
     "start_time": "2021-04-29T15:14:47.629618Z"
    }
   },
   "outputs": [],
   "source": [
    "IA = I5.dot(A)\n",
    "show_matrix(IA,'IA')"
   ]
  },
  {
   "cell_type": "code",
   "execution_count": null,
   "metadata": {
    "ExecuteTime": {
     "end_time": "2021-04-29T15:14:57.190812Z",
     "start_time": "2021-04-29T15:14:57.186445Z"
    }
   },
   "outputs": [],
   "source": [
    "AI = A.dot(I5)\n",
    "show_matrix(AI,'AI')"
   ]
  },
  {
   "cell_type": "code",
   "execution_count": null,
   "metadata": {
    "ExecuteTime": {
     "end_time": "2021-04-29T15:15:31.417509Z",
     "start_time": "2021-04-29T15:15:31.413924Z"
    }
   },
   "outputs": [],
   "source": [
    "(IA==AI).all()"
   ]
  },
  {
   "cell_type": "markdown",
   "metadata": {},
   "source": [
    "## Inverse Matrix"
   ]
  },
  {
   "cell_type": "markdown",
   "metadata": {},
   "source": [
    "Remember that we can't divide by a matrix, but we can do something similar by finding an **inverse matrix**"
   ]
  },
  {
   "cell_type": "code",
   "execution_count": null,
   "metadata": {
    "ExecuteTime": {
     "end_time": "2021-04-29T15:15:46.180868Z",
     "start_time": "2021-04-29T15:15:46.175719Z"
    }
   },
   "outputs": [],
   "source": [
    "# Define two arrays\n",
    "X = np.array([1,-2,3,2,-5,10,0,0,1]).reshape(3,3)\n",
    "show_matrix(X,'X')"
   ]
  },
  {
   "cell_type": "markdown",
   "metadata": {},
   "source": [
    "We can also find the inverse of a matrix with NumPy"
   ]
  },
  {
   "cell_type": "code",
   "execution_count": null,
   "metadata": {
    "ExecuteTime": {
     "end_time": "2021-04-29T15:18:26.300319Z",
     "start_time": "2021-04-29T15:18:26.295287Z"
    }
   },
   "outputs": [],
   "source": [
    "# A = np.array([4,2,1,4,8,3,1,1,0]).reshape(3,3)\n",
    "# Finding the inverse matrix\n",
    "X_inv = np.linalg.inv(X)\n",
    "show_matrix(X_inv,'X_inv')"
   ]
  },
  {
   "cell_type": "code",
   "execution_count": null,
   "metadata": {
    "ExecuteTime": {
     "end_time": "2021-04-29T15:18:55.783599Z",
     "start_time": "2021-04-29T15:18:55.778094Z"
    }
   },
   "outputs": [],
   "source": [
    "# Note the rounding\n",
    "X_X_inv = X.dot(X_inv)\n",
    "show_matrix(X_X_inv,'X_X_inv')"
   ]
  },
  {
   "cell_type": "markdown",
   "metadata": {},
   "source": [
    "However, not all matrices have an inverse"
   ]
  },
  {
   "cell_type": "code",
   "execution_count": null,
   "metadata": {
    "ExecuteTime": {
     "end_time": "2021-04-29T15:19:01.425765Z",
     "start_time": "2021-04-29T15:19:01.398050Z"
    }
   },
   "outputs": [],
   "source": [
    "A = np.arange(9).reshape(3,3)\n",
    "show_matrix(A,'A')\n",
    "inv_A = np.linalg.inv(A)\n",
    "show_matrix(inv_A)"
   ]
  },
  {
   "cell_type": "markdown",
   "metadata": {},
   "source": [
    "# Solving Systems of Equations"
   ]
  },
  {
   "cell_type": "markdown",
   "metadata": {},
   "source": [
    "Solving a system of equations can take a lot of work\n",
    "\n",
    "$$ x - 2y + 3z = 9 $$\n",
    "$$ 2x - 5y + 10z = 4 $$\n",
    "$$ 0x + 0y + 6z = 0 $$\n",
    "\n",
    "- **But we can make it easier by writing it in matrix form**\n",
    "\n",
    "    - Our X-values for all 3 eqns are [1,2,0]\n",
    "    - Our y-values for all 3 eqns are [-2,-5,0]\n",
    "    - Our z-vales for all 3 eqns are [3,10,6]\n",
    "    - Our outcomes for each eqn are [9,4,0]\n",
    "\n",
    "\n",
    "- Below, each row of the matrix (A) contains an X,y,Z.\n",
    "- The dot product of matrix A and vector [x,y,z] will produce the outcomes [9,4,0]. \n",
    "$$ \n",
    "\\begin{pmatrix} \n",
    "    1 & -2 & 3 \\\\\n",
    "    2 & -5 & 10 \\\\\n",
    "    0 & 0 & 6\n",
    "\\end{pmatrix}\n",
    "\\cdot\n",
    "\\begin{pmatrix} \n",
    "    x \\\\\n",
    "    y \\\\\n",
    "    z\n",
    "\\end{pmatrix}\n",
    "=\n",
    "\\begin{pmatrix} \n",
    "    9 \\\\\n",
    "    4 \\\\\n",
    "    0\n",
    "\\end{pmatrix}\n",
    "$$\n",
    "\n",
    "\n",
    "<!--- We can think of this in the abstract:\n",
    "$$ A \\cdot X = B $$\n",
    "$$ A^{-1} \\cdot A \\cdot X = A^{-1} \\cdot B $$\n",
    "$$ I \\cdot X = A^{-1} \\cdot B $$\n",
    "$$ X = A^{-1} \\cdot B $$ --->"
   ]
  },
  {
   "cell_type": "markdown",
   "metadata": {},
   "source": [
    "## Using NumPy"
   ]
  },
  {
   "cell_type": "code",
   "execution_count": null,
   "metadata": {
    "ExecuteTime": {
     "end_time": "2021-04-29T15:20:42.394308Z",
     "start_time": "2021-04-29T15:20:42.388126Z"
    }
   },
   "outputs": [],
   "source": [
    "# Define the system's matrices\n",
    "# eqn = [x,y,z]\n",
    "eqn1 = np.array([1,-2,3])\n",
    "eqn2 = np.array([2,-5,10])\n",
    "eqn3 = np.array([0,0,6])\n",
    "\n",
    "A = np.stack([eqn1,eqn2,eqn3])#,axis=None)\n",
    "show_matrix(A,'A')"
   ]
  },
  {
   "cell_type": "code",
   "execution_count": null,
   "metadata": {
    "ExecuteTime": {
     "end_time": "2021-04-29T15:20:46.410857Z",
     "start_time": "2021-04-29T15:20:46.405959Z"
    }
   },
   "outputs": [],
   "source": [
    "B = np.array([9,4,0]).reshape(3,1)\n",
    "show_matrix(B,'B')"
   ]
  },
  {
   "cell_type": "code",
   "execution_count": null,
   "metadata": {
    "ExecuteTime": {
     "end_time": "2021-04-29T15:20:49.596803Z",
     "start_time": "2021-04-29T15:20:49.591861Z"
    }
   },
   "outputs": [],
   "source": [
    "# Find the inverse\n",
    "A_inv = np.linalg.inv(A)\n",
    "show_matrix(A_inv,'A_inv')"
   ]
  },
  {
   "cell_type": "code",
   "execution_count": null,
   "metadata": {
    "ExecuteTime": {
     "end_time": "2021-04-29T15:19:52.369822Z",
     "start_time": "2021-04-29T15:19:52.365500Z"
    }
   },
   "outputs": [],
   "source": [
    "# Solutions:\n",
    "solution = A_inv @ B\n",
    "show_matrix(solution,'solution')"
   ]
  },
  {
   "cell_type": "markdown",
   "metadata": {},
   "source": [
    "# Activity 1: Solving Systems of Linear Equations with NumPy- Lab"
   ]
  },
  {
   "cell_type": "markdown",
   "metadata": {},
   "source": [
    "> ## Exercise 1\n",
    "A coffee shop is having a sale on coffee and tea. \n",
    "- On day 1, 29 bags of coffee and 41 bags of tea were sold, for a total of 490 dollars.\n",
    "- On day 2, they sold 23 bags of coffee and 41 bags of tea, for which customers paid a total of 448 dollars.  \n",
    "- How much does each bag cost?"
   ]
  },
  {
   "cell_type": "code",
   "execution_count": null,
   "metadata": {
    "ExecuteTime": {
     "end_time": "2021-04-29T15:33:32.221828Z",
     "start_time": "2021-04-29T15:33:32.214005Z"
    }
   },
   "outputs": [],
   "source": [
    "# Create and solve the relevant system of equations\n"
   ]
  },
  {
   "cell_type": "code",
   "execution_count": null,
   "metadata": {
    "ExecuteTime": {
     "end_time": "2021-04-29T15:33:34.579202Z",
     "start_time": "2021-04-29T15:33:34.575184Z"
    }
   },
   "outputs": [],
   "source": [
    "## solve with numpy.linalg.solve\n"
   ]
  },
  {
   "cell_type": "code",
   "execution_count": null,
   "metadata": {
    "ExecuteTime": {
     "end_time": "2021-04-29T15:39:39.315764Z",
     "start_time": "2021-04-29T15:39:39.313731Z"
    }
   },
   "outputs": [],
   "source": [
    "# ## long way\n",
    "# A_inv = np.linalg.inv(A)\n",
    "# X = A_inv.dot(B.T)\n",
    "# show_matrix(X)"
   ]
  },
  {
   "cell_type": "markdown",
   "metadata": {},
   "source": [
    "> ## Exercise 3\n",
    "You want to make a soup containing tomatoes, carrots, and onions.\n",
    "- Suppose you don't know the exact mix to put in, but you know there are 7 individual pieces of vegetables, \n",
    "- and there are twice as many tomatoes as onions, and that the 7 pieces of vegetables cost 5.25 USD in total. \n",
    "- You also know that onions cost 0.5 USD each, tomatoes cost 0.75 USD and carrots cost 1.25 USD each.\n",
    "- Create a system of equations to find out exactly how many of each of the vegetables are in your soup."
   ]
  },
  {
   "cell_type": "code",
   "execution_count": null,
   "metadata": {},
   "outputs": [],
   "source": []
  },
  {
   "cell_type": "markdown",
   "metadata": {},
   "source": [
    "> ## Exercise 4\n",
    "A landlord owns 3 properties: a 1-bedroom, a 2-bedroom, and a 3-bedroom house.\n",
    "- The total rent he receives is 1240 USD.\n",
    "- He needs to make some repairs, where those repairs cost 10% of the 1-bedroom house’s rent. The 2-bedroom repairs cost 20% of the 2-bedroom rental price and 30% of the 3-bedroom house's rent for its repairs. \n",
    "- The total repair bill for all three houses was 276 USD.\n",
    "- The 3-bedroom house's rent is twice the 1-bedroom house’s rent.\n",
    "<br>\n",
    "How much is the individual rent for three houses?"
   ]
  },
  {
   "cell_type": "code",
   "execution_count": null,
   "metadata": {
    "ExecuteTime": {
     "end_time": "2020-08-19T23:56:13.196269Z",
     "start_time": "2020-08-19T23:56:13.191045Z"
    }
   },
   "outputs": [],
   "source": [
    "## write out eqn\n",
    "#"
   ]
  },
  {
   "cell_type": "code",
   "execution_count": null,
   "metadata": {
    "ExecuteTime": {
     "end_time": "2020-08-19T22:12:38.887351Z",
     "start_time": "2020-08-19T22:12:38.883628Z"
    }
   },
   "outputs": [],
   "source": []
  },
  {
   "cell_type": "code",
   "execution_count": null,
   "metadata": {},
   "outputs": [],
   "source": [
    "N = np.matrix([1240, 276, 0])\n",
    "N"
   ]
  },
  {
   "cell_type": "code",
   "execution_count": null,
   "metadata": {},
   "outputs": [],
   "source": [
    "np.linalg.solve(M, N.T)"
   ]
  },
  {
   "cell_type": "markdown",
   "metadata": {},
   "source": [
    "# Linear Regression with OLS"
   ]
  },
  {
   "cell_type": "markdown",
   "metadata": {},
   "source": [
    "> We'll find that this is actually computationally expensive for large systems 😭"
   ]
  },
  {
   "cell_type": "markdown",
   "metadata": {},
   "source": [
    "### Ordinary Least Squares"
   ]
  },
  {
   "cell_type": "markdown",
   "metadata": {},
   "source": [
    "Ordinary least squares tells us that our linear regression equation can be represented as the sum of a linear term and an error term: \n",
    "\n",
    "$$y = X\\beta + error$$\n",
    "\n",
    "To solve for the best estimate of $\\beta$, we are going to assume that on average, the error is equal to 0, thus:  \n",
    "\n",
    "$$ y = X \\beta $$\n"
   ]
  },
  {
   "cell_type": "markdown",
   "metadata": {},
   "source": [
    "To solve for $\\beta$,  we need to make $X$ into a square matrix by multiplying both sides of the equation from the left by $X^T$ : \n",
    "\n",
    "$$X^T y = X^T X \\beta $$\n"
   ]
  },
  {
   "cell_type": "markdown",
   "metadata": {},
   "source": [
    "Now we have a square matrix that with any luck has an inverse, which we will call $(X^T X)^{-1}$. \n",
    "\n",
    "Multiply both sides from the left by this inverse, and we have\n",
    "\n",
    "$$(X^T X)^{-1} X^T y =(X^T X)^{-1} X^T X\\beta $$"
   ]
  },
  {
   "cell_type": "markdown",
   "metadata": {},
   "source": [
    "It turns out that a matrix multiplied by its inverse is the identity matrix $(X^{-1} X)= I$:\n",
    "\n",
    "$$(X^T X)^{-1} X^T y =I \\beta $$\n",
    "\n",
    "\n",
    "You know that $I\\beta= \\beta$. \n",
    "\n",
    "So, if you want to solve for $\\beta$ (that is, remember, equivalent to finding the values $m$ and $b$ in this case), you find that:\n",
    "\n",
    "$$ \\beta = (X^T X)^{-1} X^T y $$"
   ]
  },
  {
   "cell_type": "markdown",
   "metadata": {},
   "source": [
    "Find $\\beta$ using Ordinary Least Squares."
   ]
  },
  {
   "cell_type": "markdown",
   "metadata": {},
   "source": [
    "#### Resources for Linear Algebra behind OLS"
   ]
  },
  {
   "cell_type": "markdown",
   "metadata": {},
   "source": [
    "- [The Linear Algebra of Least Squares Regression](https://medium.com/@andrew.chamberlain/the-linear-algebra-view-of-least-squares-regression-f67044b7f39b)\n",
    "    - Must first understand [vector projection](https://web.archive.org/web/20131210220337/http://en.wikipedia.org/wiki/Vector_resolute) to be satisfied by their answer."
   ]
  },
  {
   "cell_type": "markdown",
   "metadata": {},
   "source": [
    "> Jump to `codealong-linear-algebra-regression.ipynb`for question"
   ]
  },
  {
   "cell_type": "code",
   "execution_count": null,
   "metadata": {},
   "outputs": [],
   "source": []
  }
 ],
 "metadata": {
  "kernelspec": {
   "display_name": "learn-env",
   "language": "python",
   "name": "learn-env"
  },
  "language_info": {
   "codemirror_mode": {
    "name": "ipython",
    "version": 3
   },
   "file_extension": ".py",
   "mimetype": "text/x-python",
   "name": "python",
   "nbconvert_exporter": "python",
   "pygments_lexer": "ipython3",
   "version": "3.6.11"
  },
  "toc": {
   "base_numbering": 1,
   "nav_menu": {},
   "number_sections": true,
   "sideBar": true,
   "skip_h1_title": false,
   "title_cell": "Table of Contents",
   "title_sidebar": "Contents",
   "toc_cell": false,
   "toc_position": {
    "height": "calc(100% - 180px)",
    "left": "10px",
    "top": "150px",
    "width": "290.891px"
   },
   "toc_section_display": true,
   "toc_window_display": true
  },
  "varInspector": {
   "cols": {
    "lenName": 16,
    "lenType": 16,
    "lenVar": 40
   },
   "kernels_config": {
    "python": {
     "delete_cmd_postfix": "",
     "delete_cmd_prefix": "del ",
     "library": "var_list.py",
     "varRefreshCmd": "print(var_dic_list())"
    },
    "r": {
     "delete_cmd_postfix": ") ",
     "delete_cmd_prefix": "rm(",
     "library": "var_list.r",
     "varRefreshCmd": "cat(var_dic_list()) "
    }
   },
   "types_to_exclude": [
    "module",
    "function",
    "builtin_function_or_method",
    "instance",
    "_Feature"
   ],
   "window_display": false
  }
 },
 "nbformat": 4,
 "nbformat_minor": 2
}
