{
 "cells": [
  {
   "cell_type": "markdown",
   "metadata": {
    "colab_type": "text",
    "id": "ZM6DyjYckZl2"
   },
   "source": [
    "# Topic 15: ANOVAs & Statistical Power with  Neuro Data "
   ]
  },
  {
   "cell_type": "markdown",
   "metadata": {
    "colab_type": "text",
    "id": "ZM6DyjYckZl2"
   },
   "source": [
    "- 04/01/21\n",
    "- online-ds-ft-022221"
   ]
  },
  {
   "cell_type": "markdown",
   "metadata": {},
   "source": [
    "## Learning Objectives"
   ]
  },
  {
   "cell_type": "markdown",
   "metadata": {},
   "source": [
    "- Revisit hypothesis testing using my neuroscience research data.\n",
    "- Learn about ANOVAs\n",
    "- Discuss the multiple comparison problem.\n",
    "- Discuss the multiple comparison problem and Tukey's test"
   ]
  },
  {
   "cell_type": "markdown",
   "metadata": {},
   "source": [
    "### NOTES"
   ]
  },
  {
   "cell_type": "markdown",
   "metadata": {},
   "source": [
    "- This notebook is intended to walk through preparing my binge drinking data for Hypothesis Testing\n",
    "- Specifically, in this notebook I will attempt to use the most appropriate stat tests, which are not taught in the Learn curriculum\n",
    "    -  **Two way RM ANOVA**\n",
    "    - **Repeated Measures ANOVA in Python**\n"
   ]
  },
  {
   "cell_type": "markdown",
   "metadata": {},
   "source": [
    "# REFERENCES\n"
   ]
  },
  {
   "cell_type": "markdown",
   "metadata": {},
   "source": [
    "- Hypothesis Testing Workflow:\n",
    "    - https://github.com/jirvingphd/hypothesis_testing_workflow_python"
   ]
  },
  {
   "cell_type": "markdown",
   "metadata": {},
   "source": [
    "- **Two-Way and RM ANOVA Resources**\n",
    "    - [RM ANOVA IN Python with Statsmodels](https://www.marsja.se/repeated-measures-anova-in-python-using-statsmodels/)\n",
    "    - One-way RM ANOVA (other packages): https://www.marsja.se/repeated-measures-anova-using-python/\n",
    "    - Two-Way: https://marsja.se/two-way-anova-repeated-measures-using-python/\n"
   ]
  },
  {
   "cell_type": "markdown",
   "metadata": {},
   "source": [
    "## HYPOTHESIS TESTING STEPS"
   ]
  },
  {
   "cell_type": "markdown",
   "metadata": {},
   "source": [
    "- Separate data in group vars.\n",
    "- Visualize data and calculate group n (size)\n",
    "\n",
    "    \n",
    "* Select the appropriate test based on type of comparison being made, the number of groups, the type of data.\n",
    "\n",
    "\n",
    "- For t-tests: test for the assumptions of normality and homogeneity of variance.\n",
    "\n",
    "    1. Check if sample sizes allow us to ignore assumptions, and if not:\n",
    "    2. **Test Assumption Normality**\n",
    "\n",
    "    3. **Test for Homogeneity of Variance**\n",
    "\n",
    "    4. **Choose appropriate test based upon the above** \n",
    "    \n",
    "    \n",
    "* **Perform chosen statistical test, calculate effect size, and any post-hoc tests.**\n",
    "    - To perform post-hoc pairwise comparison testing\n",
    "    - Effect size calculation\n",
    "        - Cohen's d"
   ]
  },
  {
   "cell_type": "markdown",
   "metadata": {},
   "source": [
    "## Statistical Tests Summary Table"
   ]
  },
  {
   "cell_type": "markdown",
   "metadata": {},
   "source": [
    "\n",
    "\n",
    "| Parametric tests (means) | Function | Nonparametric tests (medians) | Function |\n",
    " | --- | --- | --- | --- |\n",
    " | 1-sample t test |`scipy.stats.ttest_1samp()`|  1-sample Wilcoxon |`scipy.stats.wilcoxon`|\n",
    " | 2-sample t test |`scipy.stats.ttest_ind()` | Mann-Whitney U test |`scipy.stats.mannwhitneyu()` |\n",
    " | One-Way ANOVA | `scipy.stats.f_oneway()` | Kruskal-Wallis | `scipy.stats.kruskal` | \n",
    " \n",
    " \n",
    " | Factorial DOE with one factor and one blocking variable |Friedman test  |\n"
   ]
  },
  {
   "cell_type": "markdown",
   "metadata": {
    "ExecuteTime": {
     "end_time": "2020-01-21T22:34:50.811862Z",
     "start_time": "2020-01-21T22:34:50.809738Z"
    }
   },
   "source": [
    "# Real-World Science / Experimental Design"
   ]
  },
  {
   "cell_type": "markdown",
   "metadata": {},
   "source": [
    "> ## The Role of Stress Neurons in the Amygdala in Addiction/Binge Drinking"
   ]
  },
  {
   "cell_type": "markdown",
   "metadata": {},
   "source": [
    "- We will be talking through some of the experiments from my Postdoctoral research on the roll of stress neurons in the escalation of binge drinking.\n",
    "- [James' Neuroscience Research Poster: Society for Neuroscience 2016](https://drive.google.com/open?id=14z2dUdPB_8ei3HA7R1j3ylwEP0kVZhJq)\n",
    "\n",
    "<img src=\"https://raw.githubusercontent.com/jirvingphd/fsds_100719_cohort_notes/master/images/sect_20_neuro_data.png\">\n",
    "\n"
   ]
  },
  {
   "cell_type": "markdown",
   "metadata": {},
   "source": [
    "#### The Opponent-Process Theory of Addiction \n",
    "\n",
    "\n",
    "<img src=\"https://raw.githubusercontent.com/jirvingphd/fsds_pt_100719_cohort_notes/master/Images/robinson-berridge-fig1.jpg\">"
   ]
  },
  {
   "cell_type": "markdown",
   "metadata": {},
   "source": [
    "## Hypothesis "
   ]
  },
  {
   "cell_type": "markdown",
   "metadata": {},
   "source": [
    "- Based on prior evidence in the field, stress neurons in the amygdala are believed to be responsible for the negative emotions that promote binge consumption to relieve negative symptoms"
   ]
  },
  {
   "cell_type": "markdown",
   "metadata": {},
   "source": [
    "$ H_1$: Increasing the activity of stress neurons (CRF neurons) in the amygdala will increase the amount of alcohol consumed by binge-drinking mice.\n",
    "\n",
    "$H_0$: Stimulation of CRF neurons has no effect on the amount of alcohol consumed.\n",
    "\n",
    "<img src=\"https://raw.githubusercontent.com/jirvingphd/fsds_pt_100719_cohort_notes/master/Images/jmi_poster_preds1.png\" width=60%>"
   ]
  },
  {
   "cell_type": "markdown",
   "metadata": {},
   "source": [
    "## Experimental Design"
   ]
  },
  {
   "cell_type": "markdown",
   "metadata": {},
   "source": [
    "<img src=\"https://raw.githubusercontent.com/jirvingphd/fsds_pt_100719_cohort_notes/master/Images/opto_6steps.jpg\">"
   ]
  },
  {
   "cell_type": "markdown",
   "metadata": {},
   "source": [
    "<img src=\"https://raw.githubusercontent.com/jirvingphd/hypothesis_testing_lessons/master/images/jmi_poster_fig1_no_mouse.png\">\n",
    "\n",
    "<!---\n",
    "<img src=\"https://raw.githubusercontent.com/jirvingphd/hypothesis_testing_lessons/master/images/jmi_poster_fig1.png\">--->"
   ]
  },
  {
   "cell_type": "markdown",
   "metadata": {
    "ExecuteTime": {
     "end_time": "2020-01-21T22:44:58.893416Z",
     "start_time": "2020-01-21T22:44:58.889888Z"
    }
   },
   "source": [
    "<img src=\"https://raw.githubusercontent.com/jirvingphd/fsds_pt_100719_cohort_notes/master/Images/jmi_poster_fig2.png\">\n",
    "\n",
    "<!---\n",
    "<img src=\"https://raw.githubusercontent.com/jirvingphd/fsds_100719_cohort_notes/master/images/sect_20_neuro_data.png\">')\n",
    "--->"
   ]
  },
  {
   "cell_type": "markdown",
   "metadata": {},
   "source": [
    "## Hypothesis Testing: Mouse Data"
   ]
  },
  {
   "cell_type": "markdown",
   "metadata": {},
   "source": [
    "### Hypothesis\n",
    "> Question: does stimulation of CRF Neurons in the central amygdala increase alcohol consumption?\n",
    "\n",
    "- Metric:\n",
    "- Groups:\n",
    "\n",
    "\n",
    "- $H_1$: \n",
    "\n",
    "- $H_0$: \n",
    "\n",
    "$\\alpha$=0.05\n"
   ]
  },
  {
   "cell_type": "markdown",
   "metadata": {},
   "source": [
    "### Step 1: which type of test?"
   ]
  },
  {
   "cell_type": "markdown",
   "metadata": {},
   "source": [
    "- What type of data?\n",
    "    -  Numerical (# of licks)\n",
    "- How many groups?\n",
    "    -  Control vs Experimental\n",
    "    - Training Phases (BL,S,PS,R)"
   ]
  },
  {
   "cell_type": "markdown",
   "metadata": {},
   "source": [
    "#### Let's First Try to Treat this as 2-sample T-Tests (one for each phase)"
   ]
  },
  {
   "cell_type": "code",
   "execution_count": null,
   "metadata": {
    "ExecuteTime": {
     "end_time": "2020-08-08T01:05:54.015331Z",
     "start_time": "2020-08-08T01:05:50.546460Z"
    },
    "colab": {
     "base_uri": "https://localhost:8080/",
     "height": 221
    },
    "colab_type": "code",
    "id": "soGUgJ9RRJOp",
    "outputId": "e919e060-8aae-48d4-ed29-3b4637408f13"
   },
   "outputs": [],
   "source": [
    "import numpy as np\n",
    "import pandas as pd\n",
    "import matplotlib.pyplot as plt\n",
    "import seaborn as sns\n",
    "from scipy import stats"
   ]
  },
  {
   "cell_type": "code",
   "execution_count": null,
   "metadata": {
    "ExecuteTime": {
     "end_time": "2020-08-08T01:05:54.018990Z",
     "start_time": "2020-08-08T01:05:54.016545Z"
    }
   },
   "outputs": [],
   "source": [
    "plt.style.use('seaborn-notebook')\n",
    "pd.set_option('display.max_columns',0)\n",
    "pd.set_option('display.precision',3)"
   ]
  },
  {
   "cell_type": "markdown",
   "metadata": {},
   "source": [
    "# Obtaining/Preprocessing Data"
   ]
  },
  {
   "cell_type": "code",
   "execution_count": null,
   "metadata": {
    "ExecuteTime": {
     "end_time": "2020-08-08T01:05:54.065275Z",
     "start_time": "2020-08-08T01:05:54.024026Z"
    }
   },
   "outputs": [],
   "source": [
    "## Load in the mouse drinking data cleaned csv\n",
    "df = pd.read_csv('mouse_drinking_data_cleaned.csv',\n",
    "                 index_col=0)\n",
    "df.drop('Sex',inplace=True,axis=1)\n",
    "df "
   ]
  },
  {
   "cell_type": "markdown",
   "metadata": {},
   "source": [
    "#### Laying Out Our Approach\n",
    "We need to average all 4 session of the same phase (BL,S,R1,R2) for each mouse...\n",
    "\n",
    "1. Make a **dict/lists of the column names** that should be **averaged together** (`col_dict`)\n",
    "\n",
    "2. Make a new df of means using `col_dict`\n",
    "\n",
    "3. Make a grp dict using  `df_means.groupby('Group').groups` \n",
    "\n",
    "- Visualize the two populations\n",
    "\n",
    "- Prepare for hypothesis tests\n",
    "    - Either use `grps` dict to reference the correct columsn to pass into tests\n",
    "\n",
    "<!---\n",
    "**Variables:**\n",
    "\n",
    "- `col_dict` (dict): dict of column names to be grouped together for means\n",
    "- `df_means` (df): df of col_dict column means.\n",
    "- `grps` (dict): groupby dict where keys = 'Group' column and values = row indices\n",
    "\n",
    "- `data` (dict): Dictionary of...\n",
    "    - Series of each phase by group? --->"
   ]
  },
  {
   "cell_type": "code",
   "execution_count": null,
   "metadata": {
    "ExecuteTime": {
     "end_time": "2020-08-08T01:05:54.071445Z",
     "start_time": "2020-08-08T01:05:54.066532Z"
    }
   },
   "outputs": [],
   "source": [
    "## Loop through the differnet phases of the experiment\n",
    "phases = ['BL','S','PS','R1','R2']\n",
    "\n",
    "## save corresponding column names as values \n",
    "col_dict = {}\n"
   ]
  },
  {
   "cell_type": "code",
   "execution_count": null,
   "metadata": {
    "ExecuteTime": {
     "end_time": "2020-08-08T01:05:54.076719Z",
     "start_time": "2020-08-08T01:05:54.072691Z"
    },
    "scrolled": true
   },
   "outputs": [],
   "source": [
    "## Get then opposite of col_dict\n"
   ]
  },
  {
   "cell_type": "markdown",
   "metadata": {},
   "source": [
    "### Calculating individual mouse means by phase"
   ]
  },
  {
   "cell_type": "code",
   "execution_count": null,
   "metadata": {
    "ExecuteTime": {
     "end_time": "2020-08-08T01:05:54.082756Z",
     "start_time": "2020-08-08T01:05:54.077818Z"
    }
   },
   "outputs": [],
   "source": [
    "## calculate the mean for all BL columns for each mouse\n"
   ]
  },
  {
   "cell_type": "code",
   "execution_count": null,
   "metadata": {
    "ExecuteTime": {
     "end_time": "2020-08-08T01:10:33.211797Z",
     "start_time": "2020-08-08T01:10:33.199392Z"
    }
   },
   "outputs": [],
   "source": [
    "## Make a new df_means with just the mouse id and group first\n"
   ]
  },
  {
   "cell_type": "code",
   "execution_count": null,
   "metadata": {},
   "outputs": [],
   "source": []
  },
  {
   "cell_type": "code",
   "execution_count": null,
   "metadata": {
    "ExecuteTime": {
     "end_time": "2020-08-08T01:10:35.282856Z",
     "start_time": "2020-08-08T01:10:35.250294Z"
    }
   },
   "outputs": [],
   "source": [
    "## Loop through col_dict and calcualte the means for each phase for each mouse\n"
   ]
  },
  {
   "cell_type": "markdown",
   "metadata": {},
   "source": [
    "### Getting Group Data For EDA & Testing"
   ]
  },
  {
   "cell_type": "code",
   "execution_count": null,
   "metadata": {
    "ExecuteTime": {
     "end_time": "2020-08-08T01:10:36.947886Z",
     "start_time": "2020-08-08T01:10:36.934471Z"
    }
   },
   "outputs": [],
   "source": [
    "## Use groupby.groups\n",
    "grps = None\n",
    "grps"
   ]
  },
  {
   "cell_type": "code",
   "execution_count": null,
   "metadata": {
    "ExecuteTime": {
     "end_time": "2020-08-08T01:10:36.947886Z",
     "start_time": "2020-08-08T01:10:36.934471Z"
    }
   },
   "outputs": [],
   "source": [
    "## Make an empty data dict\n",
    "\n",
    "\n",
    "## For each group and its row numbers\n",
    "\n",
    "    \n",
    "    ## Save the group df as grp name \n",
    "    \n",
    "    \n",
    "    # Display data\n"
   ]
  },
  {
   "cell_type": "code",
   "execution_count": null,
   "metadata": {
    "ExecuteTime": {
     "end_time": "2020-08-08T01:10:37.401419Z",
     "start_time": "2020-08-08T01:10:37.397991Z"
    }
   },
   "outputs": [],
   "source": []
  },
  {
   "cell_type": "markdown",
   "metadata": {},
   "source": [
    "### Plotting Group Means + Standard Error of the Mean"
   ]
  },
  {
   "cell_type": "code",
   "execution_count": null,
   "metadata": {
    "ExecuteTime": {
     "end_time": "2020-08-08T01:10:39.025986Z",
     "start_time": "2020-08-08T01:10:39.021375Z"
    }
   },
   "outputs": [],
   "source": [
    "from scipy.stats import sem\n",
    "\n",
    "## Select a phase to visualize\n",
    "\n",
    "## Create lists for saving x,y, and yerr\n",
    "\n",
    "\n",
    "# For each group\n",
    "    \n",
    "    ## grab the correct phasen col from group data\n",
    "\n",
    "    \n",
    "    ## Save x,y \n",
    "\n",
    "    ## Calc and save error\n",
    "    "
   ]
  },
  {
   "cell_type": "code",
   "execution_count": null,
   "metadata": {
    "ExecuteTime": {
     "end_time": "2020-08-08T01:10:39.664437Z",
     "start_time": "2020-08-08T01:10:39.661308Z"
    }
   },
   "outputs": [],
   "source": []
  },
  {
   "cell_type": "code",
   "execution_count": null,
   "metadata": {
    "ExecuteTime": {
     "end_time": "2020-08-08T01:10:40.226044Z",
     "start_time": "2020-08-08T01:10:40.116327Z"
    }
   },
   "outputs": [],
   "source": [
    "## plot with matplotlib\n"
   ]
  },
  {
   "cell_type": "code",
   "execution_count": null,
   "metadata": {
    "ExecuteTime": {
     "end_time": "2020-08-08T01:10:40.660880Z",
     "start_time": "2020-08-08T01:10:40.655894Z"
    }
   },
   "outputs": [],
   "source": [
    "## Functionize\n",
    "from scipy.stats import sem\n",
    "\n",
    "def plot_bars_yerr():\n",
    "    pass"
   ]
  },
  {
   "cell_type": "code",
   "execution_count": null,
   "metadata": {
    "ExecuteTime": {
     "end_time": "2020-08-08T01:10:41.201017Z",
     "start_time": "2020-08-08T01:10:41.080852Z"
    }
   },
   "outputs": [],
   "source": [
    "## test function\n"
   ]
  },
  {
   "cell_type": "markdown",
   "metadata": {
    "ExecuteTime": {
     "end_time": "2020-07-01T21:46:01.331338Z",
     "start_time": "2020-07-01T21:46:01.329075Z"
    }
   },
   "source": [
    "### Run 2-sample T-Test on Baseline Days"
   ]
  },
  {
   "cell_type": "code",
   "execution_count": null,
   "metadata": {
    "ExecuteTime": {
     "end_time": "2020-08-08T01:10:41.428091Z",
     "start_time": "2020-08-08T01:10:41.307999Z"
    }
   },
   "outputs": [],
   "source": [
    "test_phase = \"BL\"\n",
    "f,a = plot_bars_yerr(data,phase)"
   ]
  },
  {
   "cell_type": "markdown",
   "metadata": {},
   "source": [
    "#### Test Assumptions"
   ]
  },
  {
   "cell_type": "code",
   "execution_count": null,
   "metadata": {
    "ExecuteTime": {
     "end_time": "2020-08-08T01:10:42.176349Z",
     "start_time": "2020-08-08T01:10:42.167541Z"
    }
   },
   "outputs": [],
   "source": [
    "from scipy import stats\n",
    "\n",
    "\n",
    "## Make list of list of headers\n",
    "\n",
    "## Make an empty list for our group data\n",
    "\n",
    "## Loop through the data dictionary \n",
    "   \n",
    "    ## Grab the correct phase column from the group df\n",
    "    \n",
    "    ## Append group data to list of group data\n",
    "    \n",
    "    ## Test for nomrality and save result \n",
    "    \n",
    "    ## save results \n",
    "\n"
   ]
  },
  {
   "cell_type": "markdown",
   "metadata": {},
   "source": [
    "### Adding Levene's Test"
   ]
  },
  {
   "cell_type": "code",
   "execution_count": null,
   "metadata": {
    "ExecuteTime": {
     "end_time": "2020-08-08T01:10:43.822870Z",
     "start_time": "2020-08-08T01:10:43.801427Z"
    }
   },
   "outputs": [],
   "source": []
  },
  {
   "cell_type": "markdown",
   "metadata": {},
   "source": [
    "#### Run Correct Test"
   ]
  },
  {
   "cell_type": "markdown",
   "metadata": {},
   "source": [
    "- Since we failed assumption of normality, we will perform the Mann Whitney U test instead of the 2-sample t-test"
   ]
  },
  {
   "cell_type": "code",
   "execution_count": null,
   "metadata": {
    "ExecuteTime": {
     "end_time": "2020-08-08T01:10:44.479259Z",
     "start_time": "2020-08-08T01:10:44.475229Z"
    }
   },
   "outputs": [],
   "source": [
    "## visualize one more time and run the correct test\n"
   ]
  },
  {
   "cell_type": "code",
   "execution_count": null,
   "metadata": {},
   "outputs": [],
   "source": []
  },
  {
   "cell_type": "markdown",
   "metadata": {},
   "source": [
    "### >> Functionized"
   ]
  },
  {
   "cell_type": "code",
   "execution_count": null,
   "metadata": {
    "ExecuteTime": {
     "end_time": "2020-08-08T01:10:45.298332Z",
     "start_time": "2020-08-08T01:10:45.292741Z"
    }
   },
   "outputs": [],
   "source": [
    "## Functionize code for testing other phases\n",
    "def test_assumptions(data,test_phase):#,plot=True):\n",
    "\n",
    "    ## Make list of list of headers\n",
    "    results = [['Phase','Group','n','Test Name','Test Stat','p','sig?']]\n",
    "\n",
    "    ## Make an empty list for our group data\n",
    "    test_equal_var = []\n",
    "\n",
    "    ## Loop through the data dictionary \n",
    "    for grp,grp_df in data.items():\n",
    "\n",
    "        ## Grab the correct phase column from the group df\n",
    "        grp_data = grp_df[test_phase].copy()\n",
    "        ## Append group data to list of group data\n",
    "        test_equal_var.append(grp_data)\n",
    "\n",
    "        ## Test for nomrality and save result \n",
    "        stat,p = stats.normaltest(grp_data)\n",
    "        results.append([test_phase, grp,len(grp_data),'normality',stat,p,p<.05])\n",
    "\n",
    "\n",
    "    ## Test for equal variance\n",
    "    stat, p = stats.levene(*test_equal_var)\n",
    "    results.append([test_phase,'-','-','Equal Variance',stat,p,p<.05])\n",
    "\n",
    "    results_df = pd.DataFrame(results[1:],columns=results[0])\n",
    "    return results_df"
   ]
  },
  {
   "cell_type": "code",
   "execution_count": null,
   "metadata": {
    "ExecuteTime": {
     "end_time": "2020-08-08T01:10:45.692536Z",
     "start_time": "2020-08-08T01:10:45.672575Z"
    }
   },
   "outputs": [],
   "source": [
    "## Using our two functions, plot and test the asssumptions for S phase\n",
    "current_phase = 'S'\n",
    "fig,ax = plot_bars_yerr(data,current_phase)\n",
    "res_df=  test_assumptions(data,current_phase)\n",
    "res_df"
   ]
  },
  {
   "cell_type": "markdown",
   "metadata": {},
   "source": [
    "#### Make a final function to use both of the above"
   ]
  },
  {
   "cell_type": "code",
   "execution_count": null,
   "metadata": {},
   "outputs": [],
   "source": [
    "def test_and_plot_phase(data,phase):\n",
    "    res_df = test_assumptions(data,phase)\n",
    "    f,a = plot_bars_yerr(data,phase)\n",
    "    display(res_df)\n",
    "    plt.show()"
   ]
  },
  {
   "cell_type": "markdown",
   "metadata": {},
   "source": [
    "### Using our functions, evaluate each phase's assumption tests and select the correct hypothesis test"
   ]
  },
  {
   "cell_type": "code",
   "execution_count": null,
   "metadata": {},
   "outputs": [],
   "source": [
    "## BL "
   ]
  },
  {
   "cell_type": "code",
   "execution_count": null,
   "metadata": {
    "ExecuteTime": {
     "end_time": "2020-08-08T01:10:47.892565Z",
     "start_time": "2020-08-08T01:10:47.198570Z"
    },
    "scrolled": false
   },
   "outputs": [],
   "source": [
    "# S\n"
   ]
  },
  {
   "cell_type": "code",
   "execution_count": null,
   "metadata": {},
   "outputs": [],
   "source": [
    "# R1\n"
   ]
  },
  {
   "cell_type": "code",
   "execution_count": null,
   "metadata": {},
   "outputs": [],
   "source": [
    "#R2\n"
   ]
  },
  {
   "cell_type": "markdown",
   "metadata": {},
   "source": [
    "## ANOVA"
   ]
  },
  {
   "cell_type": "markdown",
   "metadata": {},
   "source": [
    "- Let's analyze the difference between phases for an ANOVA"
   ]
  },
  {
   "cell_type": "markdown",
   "metadata": {},
   "source": [
    "### Run One-Way ANOVAs with Scipy\n",
    "- One for Control Mice \n",
    "- One for Experimental Mice"
   ]
  },
  {
   "cell_type": "code",
   "execution_count": null,
   "metadata": {},
   "outputs": [],
   "source": []
  },
  {
   "cell_type": "code",
   "execution_count": null,
   "metadata": {
    "ExecuteTime": {
     "end_time": "2020-08-08T01:10:48.652014Z",
     "start_time": "2020-08-08T01:10:48.617953Z"
    }
   },
   "outputs": [],
   "source": [
    "## Run f_oneway \n"
   ]
  },
  {
   "cell_type": "code",
   "execution_count": null,
   "metadata": {},
   "outputs": [],
   "source": [
    "## Run f_twoway\n"
   ]
  },
  {
   "cell_type": "markdown",
   "metadata": {},
   "source": [
    "- compare the two p-values"
   ]
  },
  {
   "cell_type": "markdown",
   "metadata": {},
   "source": [
    "## Two-Way  ANOVA with Statsmodels"
   ]
  },
  {
   "cell_type": "markdown",
   "metadata": {},
   "source": [
    "<!-- ### RM ANOVA Melting DF -->\n",
    "\n",
    "### Melting a dataframe\n",
    "https://pandas.pydata.org/docs/reference/api/pandas.melt.html"
   ]
  },
  {
   "cell_type": "code",
   "execution_count": null,
   "metadata": {},
   "outputs": [],
   "source": [
    "import statsmodels.api as sm\n",
    "from statsmodels.formula.api import ols"
   ]
  },
  {
   "cell_type": "code",
   "execution_count": null,
   "metadata": {},
   "outputs": [],
   "source": [
    "to_melt = None\n",
    "to_melt"
   ]
  },
  {
   "cell_type": "code",
   "execution_count": null,
   "metadata": {
    "scrolled": true
   },
   "outputs": [],
   "source": [
    "## melt to create df2\n"
   ]
  },
  {
   "cell_type": "code",
   "execution_count": null,
   "metadata": {
    "ExecuteTime": {
     "end_time": "2020-08-08T01:11:51.623364Z",
     "start_time": "2020-08-08T01:11:51.600111Z"
    },
    "scrolled": false
   },
   "outputs": [],
   "source": [
    "## Mapping Phase from Phase Dict\n",
    "\n",
    "## Getting Day of Phase\n"
   ]
  },
  {
   "cell_type": "code",
   "execution_count": null,
   "metadata": {
    "scrolled": false
   },
   "outputs": [],
   "source": [
    "## Now that we melted the data, use sns.barplot!\n"
   ]
  },
  {
   "cell_type": "markdown",
   "metadata": {},
   "source": [
    "### Create an OLS Model to Run an ANOVA"
   ]
  },
  {
   "cell_type": "code",
   "execution_count": null,
   "metadata": {
    "ExecuteTime": {
     "end_time": "2020-08-08T01:10:52.326621Z",
     "start_time": "2020-08-08T01:10:52.323128Z"
    }
   },
   "outputs": [],
   "source": []
  },
  {
   "cell_type": "code",
   "execution_count": null,
   "metadata": {
    "ExecuteTime": {
     "end_time": "2020-08-08T01:10:52.491579Z",
     "start_time": "2020-08-08T01:10:52.478606Z"
    }
   },
   "outputs": [],
   "source": [
    "## define formula for model and fit\n"
   ]
  },
  {
   "cell_type": "code",
   "execution_count": null,
   "metadata": {
    "ExecuteTime": {
     "end_time": "2020-08-08T01:10:52.616061Z",
     "start_time": "2020-08-08T01:10:52.594765Z"
    }
   },
   "outputs": [],
   "source": [
    "## create the two way ANOVA table \n"
   ]
  },
  {
   "cell_type": "markdown",
   "metadata": {},
   "source": [
    "#### Tukey's Multiple Comparison Test"
   ]
  },
  {
   "cell_type": "code",
   "execution_count": null,
   "metadata": {
    "ExecuteTime": {
     "end_time": "2020-08-08T01:10:52.762817Z",
     "start_time": "2020-08-08T01:10:52.758997Z"
    }
   },
   "outputs": [],
   "source": [
    "## Follow up with \n",
    "from statsmodels.stats.multicomp import pairwise_tukeyhsd\n",
    "pairwise_tukeyhsd"
   ]
  },
  {
   "cell_type": "code",
   "execution_count": null,
   "metadata": {},
   "outputs": [],
   "source": [
    "## create a Group-Phase column for tukey\n"
   ]
  },
  {
   "cell_type": "code",
   "execution_count": null,
   "metadata": {
    "ExecuteTime": {
     "end_time": "2020-08-08T01:10:53.350665Z",
     "start_time": "2020-08-08T01:10:53.292991Z"
    }
   },
   "outputs": [],
   "source": [
    "## Run tukey's test and display summary\n",
    "\n"
   ]
  },
  {
   "cell_type": "markdown",
   "metadata": {},
   "source": [
    "## The CORRECT Test: Repeated Measures ANOVA"
   ]
  },
  {
   "cell_type": "code",
   "execution_count": null,
   "metadata": {},
   "outputs": [],
   "source": [
    "from statsmodels.stats.anova import AnovaRM\n"
   ]
  },
  {
   "cell_type": "markdown",
   "metadata": {},
   "source": [
    "## CONCLUSION\n",
    "- Running the correct test according to the assumptions of normality and equal variance will ensure you can get the correct test result.\n",
    "\n",
    "- Notice how the last phase (R) did NOT come back as significant when we ran the t-test, but DID come back significant when we performed the Mann Whitney U instead. \n",
    "\n"
   ]
  },
  {
   "cell_type": "markdown",
   "metadata": {},
   "source": [
    "(https://www.statsmodels.org/stable/generated/statsmodels.stats.multicomp.pairwise_tukeyhsd.html)"
   ]
  },
  {
   "cell_type": "markdown",
   "metadata": {
    "colab": {},
    "colab_type": "code",
    "id": "bvV8Knq8JVk7"
   },
   "source": [
    "## Effect Size Visual\n",
    "- https://rpsychologist.com/d3/NHST/\n"
   ]
  }
 ],
 "metadata": {
  "colab": {
   "collapsed_sections": [],
   "name": "Sect 18+19  with Titanic.ipynb",
   "provenance": []
  },
  "kernelspec": {
   "display_name": "learn-env-new",
   "language": "python",
   "name": "learn-env-new"
  },
  "language_info": {
   "codemirror_mode": {
    "name": "ipython",
    "version": 3
   },
   "file_extension": ".py",
   "mimetype": "text/x-python",
   "name": "python",
   "nbconvert_exporter": "python",
   "pygments_lexer": "ipython3",
   "version": "3.8.5"
  },
  "toc": {
   "base_numbering": 1,
   "nav_menu": {},
   "number_sections": false,
   "sideBar": true,
   "skip_h1_title": false,
   "title_cell": "Table of Contents",
   "title_sidebar": "Contents",
   "toc_cell": false,
   "toc_position": {
    "height": "calc(100% - 180px)",
    "left": "10px",
    "top": "150px",
    "width": "320px"
   },
   "toc_section_display": true,
   "toc_window_display": true
  },
  "varInspector": {
   "cols": {
    "lenName": 16,
    "lenType": 16,
    "lenVar": 40
   },
   "kernels_config": {
    "python": {
     "delete_cmd_postfix": "",
     "delete_cmd_prefix": "del ",
     "library": "var_list.py",
     "varRefreshCmd": "print(var_dic_list())"
    },
    "r": {
     "delete_cmd_postfix": ") ",
     "delete_cmd_prefix": "rm(",
     "library": "var_list.r",
     "varRefreshCmd": "cat(var_dic_list()) "
    }
   },
   "position": {
    "height": "360.85px",
    "left": "630px",
    "right": "20px",
    "top": "38px",
    "width": "480px"
   },
   "types_to_exclude": [
    "module",
    "function",
    "builtin_function_or_method",
    "instance",
    "_Feature"
   ],
   "window_display": false
  }
 },
 "nbformat": 4,
 "nbformat_minor": 1
}
