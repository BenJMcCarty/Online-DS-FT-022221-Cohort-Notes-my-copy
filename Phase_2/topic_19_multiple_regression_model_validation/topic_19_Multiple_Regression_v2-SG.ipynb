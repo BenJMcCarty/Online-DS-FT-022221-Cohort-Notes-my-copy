{
 "cells": [
  {
   "cell_type": "markdown",
   "metadata": {
    "colab_type": "text",
    "id": "cJtmZmtMCE55"
   },
   "source": [
    "# Topic 19: Multiple Linear Regression"
   ]
  },
  {
   "cell_type": "markdown",
   "metadata": {},
   "source": [
    "- onl01-dtsc-ft-022221\n",
    "- 04/08/21"
   ]
  },
  {
   "cell_type": "markdown",
   "metadata": {},
   "source": [
    "## Resources:"
   ]
  },
  {
   "cell_type": "markdown",
   "metadata": {},
   "source": [
    "- **[OSEMN Data Science Workflow Notebook](https://github.com/jirvingphd/fsds-osemn-workflow)**\n",
    "    - `student_OSEMN.ipynb`: also included in notes repo"
   ]
  },
  {
   "cell_type": "markdown",
   "metadata": {
    "colab_type": "text",
    "id": "wi_LF1BzrcQ0"
   },
   "source": [
    "## LEARNING OBJECTIVES"
   ]
  },
  {
   "cell_type": "markdown",
   "metadata": {
    "colab_type": "text",
    "id": "wi_LF1BzrcQ0"
   },
   "source": [
    "- Learn how to expand our last lesson to include multiple independent variables.\n",
    "- Learn ways to deal with categorical variables.\n",
    "- Learn about multicollinearity of features\n",
    "- Learn about how to improve a baseline model based on results\n",
    "- Learn how to run a multiple regression using statsmodels\n",
    "\n",
    "<!-- ### TOPICS:\n",
    "\n",
    "#### Part 1 \n",
    "- Multiple Linear Regression\n",
    "- Dealing with Categorical Variables\n",
    "- Multicollinearity of Features\n",
    "- Multiple Linear Regression in Statsmodels\n",
    "\n",
    "#### Part 2\n",
    "- Feature Scaling & Normalization\n",
    "- Model Fit and Validation/Cross Validation -->"
   ]
  },
  {
   "cell_type": "markdown",
   "metadata": {
    "colab_type": "text",
    "id": "GnvMyBX-re5C"
   },
   "source": [
    "## Questions?\n",
    "\n"
   ]
  },
  {
   "cell_type": "markdown",
   "metadata": {},
   "source": [
    "- "
   ]
  },
  {
   "cell_type": "markdown",
   "metadata": {},
   "source": [
    "# Revisiting Our  Simple Linear Regression  Modeling with Movies"
   ]
  },
  {
   "cell_type": "markdown",
   "metadata": {
    "colab_type": "text",
    "id": "2P7o3jg2zfSC"
   },
   "source": [
    "### PREVIOUSLY ON... Topic 18"
   ]
  },
  {
   "cell_type": "markdown",
   "metadata": {
    "colab_type": "text",
    "id": "iiQhSaORoC-f"
   },
   "source": [
    "- We discussed the assumptions for a linear regression:\n",
    "    - Linear relationship between predictor and target variable.\n",
    "    - Predictor (x) and its error terms have a normal distribution\n",
    "    - Homoskedasticity ( variance of residuals is constant)\n",
    "    \n",
    "- We learned how to run a single regession in statsmodels"
   ]
  },
  {
   "cell_type": "markdown",
   "metadata": {},
   "source": [
    "## Imports & Loading Data"
   ]
  },
  {
   "cell_type": "code",
   "execution_count": null,
   "metadata": {},
   "outputs": [],
   "source": [
    "## Importing our study group functions\n",
    "%load_ext autoreload\n",
    "%autoreload 2\n",
    "import sys\n",
    "    \n",
    "py_folder = \"../../py_files/\" # CHANGE TO REFECT YOUR NOTEBOOKS LOCATION COMPARED TO THE PY_FILES FOLDER\n",
    "sys.path.append(py_folder)\n",
    "import functions_SG as sg"
   ]
  },
  {
   "cell_type": "code",
   "execution_count": null,
   "metadata": {
    "ExecuteTime": {
     "end_time": "2020-08-20T17:38:55.994025Z",
     "start_time": "2020-08-20T17:38:48.594054Z"
    }
   },
   "outputs": [],
   "source": [
    "import pandas as pd\n",
    "import numpy as np\n",
    "import matplotlib as mpl\n",
    "import matplotlib.pyplot as plt\n",
    "import seaborn as sns\n",
    "\n",
    "import statsmodels.api as sm\n",
    "import statsmodels.stats.api as sms\n",
    "import statsmodels.formula.api as smf\n",
    "\n",
    "from scipy import stats"
   ]
  },
  {
   "cell_type": "code",
   "execution_count": null,
   "metadata": {
    "ExecuteTime": {
     "end_time": "2020-08-20T17:38:55.997903Z",
     "start_time": "2020-08-20T17:38:55.995372Z"
    }
   },
   "outputs": [],
   "source": [
    "plt.style.use('seaborn-notebook')\n",
    "# plt.rcParams['figure.figsize'] = [10,6]\n",
    "pd.set_option('display.float_format', lambda x: f\"{x:,}\")\n",
    "pd.set_option('display.max_columns',0)"
   ]
  },
  {
   "cell_type": "code",
   "execution_count": null,
   "metadata": {
    "ExecuteTime": {
     "end_time": "2020-08-20T17:38:57.408568Z",
     "start_time": "2020-08-20T17:38:56.244176Z"
    }
   },
   "outputs": [],
   "source": [
    "### NEW MOVIE DATASET\n",
    "\n",
    "def load_movie_data(verbose=True,include_genre=False):\n",
    "    ## Thanks to Johnny Dryma for letting us use his data\n",
    "    movie_data_url = \"https://raw.githubusercontent.com/Drymander/dsc-phase-1-project/master/data/2012-2019%20FULL.csv\"\n",
    "    dfm = pd.read_csv(movie_data_url,index_col=0,parse_dates=['release_date'])\n",
    "\n",
    "    ## List of cols that need processsing before use\n",
    "    # cols_need_processing=['genres','production_companies',\n",
    "    #                       'belongs_to_collection']\n",
    "\n",
    "    ## Save only the columns of interest\n",
    "    df = dfm[['id','imdb_id','original_title','title','genres','mpaa_rating',\n",
    "         'release_date','runtime','budget','revenue',\n",
    "         'vote_count','vote_average','popularity','adult','original_language']].copy()\n",
    "\n",
    "    ## Keep only movies with financial data\n",
    "    df=df[(df['budget']>0) & (df['revenue']>0)]\n",
    "\n",
    "    if include_genre==True:\n",
    "        df['genre_list'] = df['genres'].map(lambda x: eval(x))\n",
    "        df['genre_list'] = df['genre_list'].map(lambda x: [g['name'] for g in x])\n",
    "    else:\n",
    "        ## Dropping genres isntead\n",
    "        df.drop(columns=['genres'],inplace=True)\n",
    "        \n",
    "    ## Feature Engineering\n",
    "    # df['profit'] = df['revenue'] - df['budget']\n",
    "    # df['ROI'] = df['profit']/df['budget']\n",
    "\n",
    "    ## Removing Extreme values for class purposes\n",
    "    # df=df[df['ROI']<1000]\n",
    "\n",
    "    ## Drop nulls & reset index\n",
    "    df.dropna(inplace=True)\n",
    "    df.set_index('id',inplace=True)\n",
    "\n",
    "    if verbose:\n",
    "        display(df.head(),df.info())\n",
    "    return df\n",
    "\n",
    "df = load_movie_data()"
   ]
  },
  {
   "cell_type": "markdown",
   "metadata": {},
   "source": [
    "## Simple Linear Regression Regression"
   ]
  },
  {
   "cell_type": "code",
   "execution_count": null,
   "metadata": {
    "ExecuteTime": {
     "end_time": "2020-08-20T17:38:57.623802Z",
     "start_time": "2020-08-20T17:38:57.410001Z"
    }
   },
   "outputs": [],
   "source": [
    "## Scatter Plots for Linearity Check\n",
    "def plot_data(X='budget',y='revenue',data=df,fit_reg=False):\n",
    "    priceFmt = mpl.ticker.StrMethodFormatter(\"${x:,.0f}\")\n",
    "    ax = sns.regplot(x=X,y=y,data=data,fit_reg=fit_reg)\n",
    "    ax.yaxis.set_major_formatter(priceFmt)\n",
    "    fig=ax.get_figure()\n",
    "    return fig,ax"
   ]
  },
  {
   "cell_type": "markdown",
   "metadata": {},
   "source": [
    ">- Use one $X$ variable to predict $y$\n",
    "\n",
    " $$y=mx+b$$\n",
    "\n",
    " $$y = \\beta_1 x_1 + \\beta_0 $$"
   ]
  },
  {
   "cell_type": "code",
   "execution_count": null,
   "metadata": {
    "ExecuteTime": {
     "end_time": "2020-08-20T17:38:57.623802Z",
     "start_time": "2020-08-20T17:38:57.410001Z"
    }
   },
   "outputs": [],
   "source": [
    "plot_data(X='budget',y='revenue',data=df,fit_reg=True);"
   ]
  },
  {
   "cell_type": "markdown",
   "metadata": {},
   "source": [
    "### Our Baseline Simple Linear Regression"
   ]
  },
  {
   "cell_type": "code",
   "execution_count": null,
   "metadata": {
    "ExecuteTime": {
     "end_time": "2020-08-20T17:38:57.623802Z",
     "start_time": "2020-08-20T17:38:57.410001Z"
    },
    "scrolled": false
   },
   "outputs": [],
   "source": [
    "f = \"revenue~budget\"\n",
    "model1 = smf.ols(f,df).fit()\n",
    "display(model1.summary())\n",
    "\n",
    "fig = sm.graphics.qqplot(model1.resid,dist=stats.norm,fit=True,line='45')\n",
    "fig = sm.graphics.plot_regress_exog(model1, \"budget\", fig=plt.figure(figsize=(12,8)))"
   ]
  },
  {
   "cell_type": "markdown",
   "metadata": {},
   "source": [
    "### Our Second Model After Removing Outliers"
   ]
  },
  {
   "cell_type": "code",
   "execution_count": null,
   "metadata": {},
   "outputs": [],
   "source": [
    "## Visualize Data WITH outliers\n",
    "sns.jointplot(data=df,x='budget',y='revenue')"
   ]
  },
  {
   "cell_type": "code",
   "execution_count": null,
   "metadata": {},
   "outputs": [],
   "source": [
    "## Get X outliers\n",
    "X_outliers_IQR = sg.find_outliers_IQR(df['budget'])\n",
    "y_outliers_IQR = sg.find_outliers_IQR(df['revenue'])\n",
    "\n",
    "## Combine outliers\n",
    "idx_outliers_IQR = X_outliers_IQR  | y_outliers_IQR\n",
    "idx_outliers_IQR.sum()\n",
    "\n",
    "\n",
    "## Create df_clean\n",
    "df_clean = df[~idx_outliers_IQR].copy()\n",
    "sns.jointplot(data=df_clean,x='budget',y='revenue')\n",
    "\n",
    "df_clean.head(2)\n"
   ]
  },
  {
   "cell_type": "code",
   "execution_count": null,
   "metadata": {},
   "outputs": [],
   "source": [
    "## Get the model params \n",
    "f = \"revenue~budget\"\n",
    "model = smf.ols(f,df_clean).fit()\n",
    "display(model.summary())\n",
    "sm.graphics.qqplot(model.resid,dist=stats.norm,line='45',fit=True);\n",
    "sm.graphics.plot_regress_exog(model,'budget',plt.figure(figsize=(12,8)));"
   ]
  },
  {
   "cell_type": "markdown",
   "metadata": {
    "colab_type": "text",
    "id": "3duKbXvPCH76"
   },
   "source": [
    "# Multiple Linear Regression"
   ]
  },
  {
   "cell_type": "markdown",
   "metadata": {},
   "source": [
    "### Today's Objectives"
   ]
  },
  {
   "cell_type": "markdown",
   "metadata": {},
   "source": [
    "- Briefly discuss big-picture re: multiple linear regressions vs simple linear regressions.\n",
    "- Discuss ways to handle categorical data.\n",
    "- Discuss a fourth assumption with Multiple Regression - Assumption of No Multicollinearity\n",
    "- Extend yesterday's task to use multiple features from the movie dataset. "
   ]
  },
  {
   "cell_type": "markdown",
   "metadata": {
    "colab_type": "text",
    "id": "Mv_UA43ADTwx"
   },
   "source": [
    "## Multiple Predictor (X) Variables"
   ]
  },
  {
   "cell_type": "markdown",
   "metadata": {
    "colab_type": "text",
    "id": "Mv_UA43ADTwx"
   },
   "source": [
    "$$ y = \\beta_0 + \\beta_1 x_1 + \\beta_2 x_2 +\\ldots + \\beta_n x_n $$\n",
    "\n",
    "<img src=\"https://raw.githubusercontent.com/learn-co-students/dsc-multiple-linear-regression-online-ds-ft-100719/master/images/multiple_reg.png\" width=400>\n",
    "\n",
    "#### $\\hat Y$ vs $Y$\n",
    "\n",
    "\n",
    "- Y: Actual value corresponding to a specific X value\n",
    "\n",
    "- \"Y hat\" ($\\hat Y$): Predicted value predicted fromn a specific X value.\n",
    "\n",
    "\n",
    "$$ \\hat y = \\hat\\beta_0 + \\hat\\beta_1 x_1 + \\hat\\beta_2 x_2 +\\ldots + \\hat\\beta_n x_n $$ \n",
    "\n",
    "where $n$ is the number of predictors, $\\beta_0$ is the intercept, and $\\hat y$ is the so-called \"fitted line\" or the predicted value associated with the dependent variable."
   ]
  },
  {
   "cell_type": "markdown",
   "metadata": {
    "colab_type": "text",
    "id": "_NZQ0j94C_5W"
   },
   "source": [
    "## DEALING WITH CATEGORICAL VARIABLES"
   ]
  },
  {
   "cell_type": "markdown",
   "metadata": {
    "colab_type": "text",
    "id": "spM2oo60C_uV"
   },
   "source": [
    "- What are categorical variables?\n",
    "- Understand creating dummy variables for predictors.\n",
    "- Use pandas and Scikit-Learn to create dumies\n",
    "- Understand and avoid the \"dummy variable trap\""
   ]
  },
  {
   "cell_type": "markdown",
   "metadata": {
    "colab_type": "text",
    "id": "yXbSihZZC_r5"
   },
   "source": [
    "### What are categorical variables?\n",
    "- Variables that do not represent a continuous/ordinal number. "
   ]
  },
  {
   "cell_type": "markdown",
   "metadata": {
    "colab_type": "text",
    "id": "yXbSihZZC_r5"
   },
   "source": [
    "### Identifying categorical variables:\n",
    "What to look for?\n",
    "1. Column dtype is 'object'\n",
    "2. Use `df.describe()` -  check for min/max. Are they integers?\n",
    "3. Use scatterplots & histograms -  look for columns of datapoints"
   ]
  },
  {
   "cell_type": "code",
   "execution_count": null,
   "metadata": {},
   "outputs": [],
   "source": [
    "## Check dtypes\n",
    "df.info()"
   ]
  },
  {
   "cell_type": "code",
   "execution_count": null,
   "metadata": {
    "ExecuteTime": {
     "end_time": "2020-08-20T17:39:02.584545Z",
     "start_time": "2020-08-20T17:39:02.579218Z"
    }
   },
   "outputs": [],
   "source": [
    "## Can use select_dtypes\n",
    "cat_cols = list(df.select_dtypes('O').columns)\n",
    "cat_cols"
   ]
  },
  {
   "cell_type": "code",
   "execution_count": null,
   "metadata": {
    "ExecuteTime": {
     "end_time": "2020-08-20T17:39:02.603184Z",
     "start_time": "2020-08-20T17:39:02.597746Z"
    }
   },
   "outputs": [],
   "source": [
    "## can do the same for numeric\n",
    "num_cols =list(df.select_dtypes('number').columns)\n",
    "num_cols"
   ]
  },
  {
   "cell_type": "code",
   "execution_count": null,
   "metadata": {},
   "outputs": [],
   "source": [
    "## Check describe\n",
    "df.describe()"
   ]
  },
  {
   "cell_type": "code",
   "execution_count": null,
   "metadata": {
    "ExecuteTime": {
     "end_time": "2020-08-20T00:46:18.508751Z",
     "start_time": "2020-08-20T00:46:18.506572Z"
    }
   },
   "outputs": [],
   "source": [
    "df[num_cols]"
   ]
  },
  {
   "cell_type": "code",
   "execution_count": null,
   "metadata": {
    "ExecuteTime": {
     "end_time": "2020-08-20T17:39:02.611220Z",
     "start_time": "2020-08-20T17:39:02.605029Z"
    }
   },
   "outputs": [],
   "source": [
    "df.isna().sum()"
   ]
  },
  {
   "cell_type": "code",
   "execution_count": null,
   "metadata": {
    "ExecuteTime": {
     "end_time": "2020-08-20T17:39:02.634088Z",
     "start_time": "2020-08-20T17:39:02.612765Z"
    },
    "scrolled": false
   },
   "outputs": [],
   "source": [
    "## Inspect the Value Counts for Each Str Col\n",
    "for col in cat_cols:\n",
    "    display(df[col].value_counts(dropna=False).sort_index())\n",
    "    print()"
   ]
  },
  {
   "cell_type": "markdown",
   "metadata": {
    "colab_type": "text",
    "id": "org3DLv4JH4d"
   },
   "source": [
    "### Transforming Categorical Variables"
   ]
  },
  {
   "cell_type": "markdown",
   "metadata": {
    "colab_type": "text",
    "id": "6YbpSwy9KvKP"
   },
   "source": [
    "To use categorical variables for regression, they must be transformed.\n",
    "There are 2 methods to dealing with them:\n",
    "1. ~~Label Encoding~~ (not intended for X data!)\n",
    "    - Replace string categories with integer values (0 to n)\n",
    "    - Can be done with:\n",
    "        1. Pandas \n",
    "        2. Scikit Learn\n",
    "        \n",
    "\n",
    "2. One-hot / dummy encoding\n",
    "    - Turn each category in a categorical variable into its own variable, that is either a 0 or 1. 0 for rows that do not belong to that sub-category. 1 for rows that belong to the sub-category\n",
    "    - Can be done with:\n",
    "        1. Pandas\n",
    "        2. Scikit Learn\n"
   ]
  },
  {
   "cell_type": "markdown",
   "metadata": {
    "colab_type": "text",
    "id": "GaDrcK3xX3Um"
   },
   "source": [
    "### Label Encoding"
   ]
  },
  {
   "cell_type": "code",
   "execution_count": null,
   "metadata": {
    "ExecuteTime": {
     "end_time": "2020-08-20T17:39:02.641536Z",
     "start_time": "2020-08-20T17:39:02.635571Z"
    }
   },
   "outputs": [],
   "source": [
    "## Check the Value Counts for our test column - \"BldgType\"\n",
    "df['mpaa_rating'].value_counts(normalize=True)"
   ]
  },
  {
   "cell_type": "markdown",
   "metadata": {
    "colab_type": "text",
    "id": "_JPOEQNvX60n"
   },
   "source": [
    "#### Via pandas.cat.codes"
   ]
  },
  {
   "cell_type": "code",
   "execution_count": null,
   "metadata": {
    "ExecuteTime": {
     "end_time": "2020-08-20T17:39:02.651210Z",
     "start_time": "2020-08-20T17:39:02.643125Z"
    },
    "colab": {
     "base_uri": "https://localhost:8080/",
     "height": 204
    },
    "colab_type": "code",
    "id": "B0AvDDy-2g2q",
    "outputId": "a8732d5a-d247-4c65-c27f-2262e54fdf4e"
   },
   "outputs": [],
   "source": [
    "## Label Encode with .cat.codesd\n",
    "df['mpaa_rating'] = df['mpaa_rating'].astype('category')\n",
    "df['mpaa_rating'].cat.codes.value_counts(normalize=True)"
   ]
  },
  {
   "cell_type": "markdown",
   "metadata": {
    "colab_type": "text",
    "id": "nqzMnlcBYA2J"
   },
   "source": [
    "#### Via Sklearn's LabelEncoder"
   ]
  },
  {
   "cell_type": "code",
   "execution_count": null,
   "metadata": {
    "ExecuteTime": {
     "end_time": "2020-08-20T17:39:02.681220Z",
     "start_time": "2020-08-20T17:39:02.652998Z"
    },
    "colab": {
     "base_uri": "https://localhost:8080/",
     "height": 34
    },
    "colab_type": "code",
    "id": "DodA8nSGZqSJ",
    "outputId": "9cc13796-a9f0-40a6-f4ca-8c0ae8557104"
   },
   "outputs": [],
   "source": [
    "## Using sklearn LabelEncoder\n",
    "from sklearn.preprocessing import LabelEncoder\n",
    "\n",
    "encoder = LabelEncoder()\n",
    "rating_enc = encoder.fit_transform(df['mpaa_rating'])\n",
    "rating_enc"
   ]
  },
  {
   "cell_type": "code",
   "execution_count": null,
   "metadata": {
    "ExecuteTime": {
     "end_time": "2020-08-20T17:39:02.686794Z",
     "start_time": "2020-08-20T17:39:02.682469Z"
    }
   },
   "outputs": [],
   "source": [
    "encoder.inverse_transform(rating_enc)"
   ]
  },
  {
   "cell_type": "markdown",
   "metadata": {
    "colab_type": "text",
    "id": "hi98TnOoYMug"
   },
   "source": [
    "### Dummy Encoding / One-Hot Encoding"
   ]
  },
  {
   "cell_type": "markdown",
   "metadata": {
    "colab_type": "text",
    "id": "WCCKfFtxYMqD"
   },
   "source": [
    "#### Via Pandas.get_dummies()"
   ]
  },
  {
   "cell_type": "code",
   "execution_count": null,
   "metadata": {
    "ExecuteTime": {
     "end_time": "2020-08-20T17:39:02.693689Z",
     "start_time": "2020-08-20T17:39:02.688325Z"
    }
   },
   "outputs": [],
   "source": [
    "df['mpaa_rating'].unique()"
   ]
  },
  {
   "cell_type": "code",
   "execution_count": null,
   "metadata": {
    "ExecuteTime": {
     "end_time": "2020-08-20T17:39:02.740180Z",
     "start_time": "2020-08-20T17:39:02.699430Z"
    }
   },
   "outputs": [],
   "source": [
    "# df_dummies = pd.get_dummies(df,columns=['mpaa_rating'])\n",
    "df_dummies = pd.get_dummies(df['mpaa_rating'])\n",
    "\n",
    "df_dummies"
   ]
  },
  {
   "cell_type": "markdown",
   "metadata": {
    "colab_type": "text",
    "id": "A1o7B3dmaeGM"
   },
   "source": [
    "#### Via Scikit-Learn's OneHotEncoder"
   ]
  },
  {
   "cell_type": "code",
   "execution_count": null,
   "metadata": {},
   "outputs": [],
   "source": [
    "cat_cols = ['mpaa_rating']"
   ]
  },
  {
   "cell_type": "code",
   "execution_count": null,
   "metadata": {
    "ExecuteTime": {
     "end_time": "2020-08-20T17:39:02.764549Z",
     "start_time": "2020-08-20T17:39:02.741643Z"
    },
    "colab": {
     "base_uri": "https://localhost:8080/",
     "height": 359
    },
    "colab_type": "code",
    "id": "jaTfcvNmYg7y",
    "outputId": "ee2d51c7-3403-4db6-90f2-19aec193de59"
   },
   "outputs": [],
   "source": [
    "from sklearn.preprocessing import OneHotEncoder\n",
    "encoder = OneHotEncoder(drop='first',sparse=False)\n",
    "ohe_vars = encoder.fit_transform(df[cat_cols])\n",
    "ohe_vars\n",
    "# pd.DataFrame(ohe_vars,columns=binarizer.classes_)"
   ]
  },
  {
   "cell_type": "code",
   "execution_count": null,
   "metadata": {},
   "outputs": [],
   "source": [
    "cat_vars = pd.DataFrame(ohe_vars,columns=encoder.get_feature_names(cat_cols))\n",
    "cat_vars"
   ]
  },
  {
   "cell_type": "markdown",
   "metadata": {
    "colab_type": "text",
    "id": "l90fioiAaoMp"
   },
   "source": [
    "#### The Dummy Variable Trap\n"
   ]
  },
  {
   "cell_type": "code",
   "execution_count": null,
   "metadata": {
    "ExecuteTime": {
     "end_time": "2020-08-20T17:39:02.786559Z",
     "start_time": "2020-08-20T17:39:02.765931Z"
    },
    "colab": {
     "base_uri": "https://localhost:8080/",
     "height": 359
    },
    "colab_type": "code",
    "id": "U99sFz-uakSG",
    "outputId": "ee09ba62-7c39-4aff-fa37-3a97875d826d"
   },
   "outputs": [],
   "source": [
    "pd.get_dummies(df['mpaa_rating'],drop_first=True)#,prefix=\"ohe\")"
   ]
  },
  {
   "cell_type": "markdown",
   "metadata": {},
   "source": [
    "# Activity: Multiple Linear Regression with Movies"
   ]
  },
  {
   "cell_type": "code",
   "execution_count": null,
   "metadata": {},
   "outputs": [],
   "source": [
    "## Load in our data fresh\n",
    "df = load_movie_data(verbose=False)\n",
    "df.head(2)"
   ]
  },
  {
   "cell_type": "code",
   "execution_count": null,
   "metadata": {
    "ExecuteTime": {
     "end_time": "2020-08-20T17:39:01.389474Z",
     "start_time": "2020-08-20T17:39:01.381896Z"
    }
   },
   "outputs": [],
   "source": [
    "## Check dtypes,etc\n"
   ]
  },
  {
   "cell_type": "code",
   "execution_count": null,
   "metadata": {},
   "outputs": [],
   "source": [
    "## Check nulls"
   ]
  },
  {
   "cell_type": "code",
   "execution_count": null,
   "metadata": {
    "ExecuteTime": {
     "end_time": "2020-08-20T17:39:01.414524Z",
     "start_time": "2020-08-20T17:39:01.390678Z"
    }
   },
   "outputs": [],
   "source": [
    "## Inspect the numeric columns\n"
   ]
  },
  {
   "cell_type": "markdown",
   "metadata": {},
   "source": [
    "## Encode Categorical Data"
   ]
  },
  {
   "cell_type": "code",
   "execution_count": null,
   "metadata": {},
   "outputs": [],
   "source": [
    "## Remake final cat cols\n"
   ]
  },
  {
   "cell_type": "code",
   "execution_count": null,
   "metadata": {
    "ExecuteTime": {
     "end_time": "2020-08-20T17:39:02.883263Z",
     "start_time": "2020-08-20T17:39:02.797536Z"
    }
   },
   "outputs": [],
   "source": [
    "## Create encoded vars\n"
   ]
  },
  {
   "cell_type": "code",
   "execution_count": null,
   "metadata": {
    "ExecuteTime": {
     "end_time": "2020-08-20T17:39:02.883263Z",
     "start_time": "2020-08-20T17:39:02.797536Z"
    }
   },
   "outputs": [],
   "source": [
    "## make encoded vars_df\n",
    "df_ohe = None"
   ]
  },
  {
   "cell_type": "code",
   "execution_count": null,
   "metadata": {},
   "outputs": [],
   "source": [
    "## Create df model from original df and df_ohe\n",
    "df_model = None"
   ]
  },
  {
   "cell_type": "code",
   "execution_count": null,
   "metadata": {},
   "outputs": [],
   "source": [
    "## Drop columns we don't want to use in the model\n",
    "drop_cols = ['title','imdb_id','original_title','release_date']\n"
   ]
  },
  {
   "cell_type": "markdown",
   "metadata": {},
   "source": [
    "## New Assumption: No Multicollinearity"
   ]
  },
  {
   "cell_type": "markdown",
   "metadata": {
    "colab_type": "text",
    "id": "iiPVlei9bA7g"
   },
   "source": [
    "### Multicollinearity\n",
    "- An additional concern to check for.\n",
    "- Rule of thumb is if correlation between vars is >0.70 is too high\n"
   ]
  },
  {
   "cell_type": "code",
   "execution_count": null,
   "metadata": {
    "ExecuteTime": {
     "end_time": "2020-08-20T17:39:03.605945Z",
     "start_time": "2020-08-20T17:39:03.599377Z"
    },
    "colab": {},
    "colab_type": "code",
    "id": "cA9VUoPIa8kE"
   },
   "outputs": [],
   "source": [
    "## Get the correlation matrix for our model_df (without the target)\n"
   ]
  },
  {
   "cell_type": "code",
   "execution_count": null,
   "metadata": {
    "ExecuteTime": {
     "end_time": "2020-08-20T17:39:03.945262Z",
     "start_time": "2020-08-20T17:39:03.639246Z"
    },
    "colab": {},
    "colab_type": "code",
    "id": "cA9VUoPIa8kE"
   },
   "outputs": [],
   "source": [
    "## Plot this as a heatmap\n"
   ]
  },
  {
   "cell_type": "code",
   "execution_count": null,
   "metadata": {
    "ExecuteTime": {
     "end_time": "2020-08-20T17:39:03.605945Z",
     "start_time": "2020-08-20T17:39:03.599377Z"
    },
    "colab": {},
    "colab_type": "code",
    "id": "cA9VUoPIa8kE"
   },
   "outputs": [],
   "source": [
    "## Create a mask to make the multiplot easier to look at \n"
   ]
  },
  {
   "cell_type": "code",
   "execution_count": null,
   "metadata": {
    "ExecuteTime": {
     "end_time": "2020-08-20T17:39:03.624130Z",
     "start_time": "2020-08-20T17:39:03.608451Z"
    }
   },
   "outputs": [],
   "source": [
    "## Fill in the upper right cells with True\n"
   ]
  },
  {
   "cell_type": "code",
   "execution_count": null,
   "metadata": {},
   "outputs": [],
   "source": [
    "## Plot again, with the mask\n"
   ]
  },
  {
   "cell_type": "code",
   "execution_count": null,
   "metadata": {
    "ExecuteTime": {
     "end_time": "2020-08-20T17:39:03.949363Z",
     "start_time": "2020-08-20T17:39:03.946916Z"
    }
   },
   "outputs": [],
   "source": [
    "# Functionize\n",
    "\n",
    "def multiplot():\n",
    "    pass"
   ]
  },
  {
   "cell_type": "code",
   "execution_count": null,
   "metadata": {},
   "outputs": [],
   "source": [
    "## Drop any multicollinear features\n"
   ]
  },
  {
   "cell_type": "code",
   "execution_count": null,
   "metadata": {
    "ExecuteTime": {
     "end_time": "2020-08-20T17:39:02.897831Z",
     "start_time": "2020-08-20T17:39:02.891940Z"
    }
   },
   "outputs": [],
   "source": [
    "## Create a string representing the right side of the ~ in our formula\n"
   ]
  },
  {
   "cell_type": "code",
   "execution_count": null,
   "metadata": {
    "ExecuteTime": {
     "end_time": "2020-08-20T17:39:02.902827Z",
     "start_time": "2020-08-20T17:39:02.899339Z"
    }
   },
   "outputs": [],
   "source": [
    "## Create the final formula and create the model\n"
   ]
  },
  {
   "cell_type": "markdown",
   "metadata": {},
   "source": [
    "> RUH ROH!"
   ]
  },
  {
   "cell_type": "markdown",
   "metadata": {},
   "source": [
    "### Fixing Statsmodels Formulas"
   ]
  },
  {
   "cell_type": "code",
   "execution_count": null,
   "metadata": {},
   "outputs": [],
   "source": [
    "##Fix df column names so there are no spaces\n"
   ]
  },
  {
   "cell_type": "code",
   "execution_count": null,
   "metadata": {},
   "outputs": [],
   "source": [
    "## Create a dict with new ratings names from the mpaa_rating col\n"
   ]
  },
  {
   "cell_type": "code",
   "execution_count": null,
   "metadata": {},
   "outputs": [],
   "source": [
    "## Replace the original mpaa_rating col\n"
   ]
  },
  {
   "cell_type": "markdown",
   "metadata": {},
   "source": [
    "### Prepare df_model again"
   ]
  },
  {
   "cell_type": "code",
   "execution_count": null,
   "metadata": {},
   "outputs": [],
   "source": []
  },
  {
   "cell_type": "code",
   "execution_count": null,
   "metadata": {},
   "outputs": [],
   "source": []
  },
  {
   "cell_type": "code",
   "execution_count": null,
   "metadata": {
    "ExecuteTime": {
     "end_time": "2020-08-20T17:39:02.897831Z",
     "start_time": "2020-08-20T17:39:02.891940Z"
    }
   },
   "outputs": [],
   "source": [
    "## Create a string representing the right side of the ~ in our formula\n"
   ]
  },
  {
   "cell_type": "code",
   "execution_count": null,
   "metadata": {
    "ExecuteTime": {
     "end_time": "2020-08-20T17:39:02.902827Z",
     "start_time": "2020-08-20T17:39:02.899339Z"
    }
   },
   "outputs": [],
   "source": [
    "## Create the final formula and create the model\n"
   ]
  },
  {
   "cell_type": "code",
   "execution_count": null,
   "metadata": {
    "ExecuteTime": {
     "end_time": "2020-08-20T17:39:03.322855Z",
     "start_time": "2020-08-20T17:39:03.055028Z"
    }
   },
   "outputs": [],
   "source": [
    "## QQ PLOT\n"
   ]
  },
  {
   "cell_type": "markdown",
   "metadata": {},
   "source": [
    "## TO DOs"
   ]
  },
  {
   "cell_type": "markdown",
   "metadata": {},
   "source": [
    "- In today's study group, we did NOT demo the absolute best way to prepare and perform a regression model.\n",
    "\n",
    "- Additional Topics to discuss tomorrow:\n",
    "    - train-test-split/cross-validation\n",
    "    - Using VIF to deal with multicollinearity\n",
    "    - Using feature selection methods\n",
    "    - Outlier removal"
   ]
  },
  {
   "cell_type": "code",
   "execution_count": null,
   "metadata": {},
   "outputs": [],
   "source": []
  }
 ],
 "metadata": {
  "colab": {
   "collapsed_sections": [],
   "include_colab_link": true,
   "name": "section_08_Multiple_Regression_Part_1.ipynb",
   "provenance": []
  },
  "kernelspec": {
   "display_name": "learn-env-new",
   "language": "python",
   "name": "learn-env-new"
  },
  "language_info": {
   "codemirror_mode": {
    "name": "ipython",
    "version": 3
   },
   "file_extension": ".py",
   "mimetype": "text/x-python",
   "name": "python",
   "nbconvert_exporter": "python",
   "pygments_lexer": "ipython3",
   "version": "3.8.5"
  },
  "toc": {
   "base_numbering": 1,
   "nav_menu": {},
   "number_sections": true,
   "sideBar": true,
   "skip_h1_title": false,
   "title_cell": "Table of Contents",
   "title_sidebar": "Contents",
   "toc_cell": false,
   "toc_position": {
    "height": "calc(100% - 180px)",
    "left": "10px",
    "top": "150px",
    "width": "165px"
   },
   "toc_section_display": true,
   "toc_window_display": true
  },
  "varInspector": {
   "cols": {
    "lenName": 16,
    "lenType": 16,
    "lenVar": 40
   },
   "kernels_config": {
    "python": {
     "delete_cmd_postfix": "",
     "delete_cmd_prefix": "del ",
     "library": "var_list.py",
     "varRefreshCmd": "print(var_dic_list())"
    },
    "r": {
     "delete_cmd_postfix": ") ",
     "delete_cmd_prefix": "rm(",
     "library": "var_list.r",
     "varRefreshCmd": "cat(var_dic_list()) "
    }
   },
   "types_to_exclude": [
    "module",
    "function",
    "builtin_function_or_method",
    "instance",
    "_Feature"
   ],
   "window_display": false
  }
 },
 "nbformat": 4,
 "nbformat_minor": 1
}
