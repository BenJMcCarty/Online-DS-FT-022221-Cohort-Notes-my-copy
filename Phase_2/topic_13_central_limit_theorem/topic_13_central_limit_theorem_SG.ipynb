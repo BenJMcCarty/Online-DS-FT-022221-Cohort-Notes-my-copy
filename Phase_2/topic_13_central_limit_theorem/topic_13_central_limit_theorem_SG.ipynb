{
 "cells": [
  {
   "cell_type": "markdown",
   "metadata": {
    "colab_type": "text",
    "id": "ZM6DyjYckZl2"
   },
   "source": [
    "\n",
    "# Topic 13: Central Limit Theorem"
   ]
  },
  {
   "cell_type": "markdown",
   "metadata": {
    "colab_type": "text",
    "id": "EM8QVDhSUCa_"
   },
   "source": [
    "- onl01-dtsc-ft-022221\n",
    "\n",
    "- 03/26/21\n"
   ]
  },
  {
   "cell_type": "markdown",
   "metadata": {
    "colab_type": "text",
    "id": "BWefqzWJoc_E"
   },
   "source": [
    "## Topics "
   ]
  },
  {
   "cell_type": "markdown",
   "metadata": {
    "colab_type": "text",
    "id": "BWefqzWJoc_E"
   },
   "source": [
    "- Review: Normal distribution/Standard Normal Distribution\n",
    "- Z-tests with Normal Distribution\n",
    "- Sampling\n",
    "- Central Limit Theorem\n",
    "- Confidence Intervals"
   ]
  },
  {
   "cell_type": "markdown",
   "metadata": {
    "heading_collapsed": true
   },
   "source": [
    "##  Resources for Hypothesis Testing"
   ]
  },
  {
   "cell_type": "markdown",
   "metadata": {
    "hidden": true
   },
   "source": [
    "- **[My Hypothesis Testing Guide/Repo](https://github.com/jirvingphd/hypothesis_testing_workflow_python)** (for next class)\n",
    "    - [Slideshow on Hypothesis Testing with scipy:](https://github.com/jirvingphd/hypothesis_testing_workflow_python/blob/master/Hypothesis%20Testing%20with%20SciPy_codeacademy%20slides.pdf)"
   ]
  },
  {
   "cell_type": "markdown",
   "metadata": {
    "heading_collapsed": true
   },
   "source": [
    "## Questions"
   ]
  },
  {
   "cell_type": "code",
   "execution_count": null,
   "metadata": {
    "hidden": true
   },
   "outputs": [],
   "source": []
  },
  {
   "cell_type": "markdown",
   "metadata": {
    "heading_collapsed": true
   },
   "source": [
    "# Announcements/The Long-View"
   ]
  },
  {
   "cell_type": "markdown",
   "metadata": {
    "hidden": true
   },
   "source": [
    ">I know a lot of folks are behind and stressed about the large amount of new content, so here is the long-view for this Phase.\n",
    "- **Topics Essential for Phase 2 Project**\n",
    "    - Topic 12, 18, 19, Appendix: Multiple Regression Project\n",
    "- **Topics to Review Before Job Interviews:**\n",
    "    - Topics 11,12,16,17\n",
    "- **Topics Related to Hypothesis Testing:**\n",
    "    - Topic 13,14,15,16"
   ]
  },
  {
   "cell_type": "markdown",
   "metadata": {
    "colab_type": "text",
    "heading_collapsed": true,
    "id": "dT1toD0noc3A"
   },
   "source": [
    "# Review: Normal Distribution"
   ]
  },
  {
   "cell_type": "code",
   "execution_count": null,
   "metadata": {
    "ExecuteTime": {
     "end_time": "2020-08-11T16:10:42.016787Z",
     "start_time": "2020-08-11T16:10:37.024823Z"
    },
    "hidden": true
   },
   "outputs": [],
   "source": [
    "# !pip install -U fsds\n",
    "from fsds.imports import *\n",
    "import scipy.stats as stats\n",
    "plt.rcParams['figure.figsize'] = (10,5)"
   ]
  },
  {
   "cell_type": "markdown",
   "metadata": {
    "hidden": true
   },
   "source": [
    "> **The Normal Distribution is symmetrical and its mean, median and mode are equal.** \n",
    "* area under curve is equal to 1.0\n",
    "* denser in the center and less dense in the tails\n",
    "* defined by two parameters, the mean ($\\mu$) and the standard deviation ($\\sigma$).\n",
    "\n",
    "> **The Standardized Normal Distribution** is a special case of the Normal Distribution where the mean is 0 and the std is 1.\n",
    "    \n",
    "\n",
    "<center><img src=\"https://raw.githubusercontent.com/jirvingphd/dsc-normal-distribution-online-ds-ft-100719/master/images/normal_sd_new.png\" width=600></center>\n"
   ]
  },
  {
   "cell_type": "markdown",
   "metadata": {
    "hidden": true
   },
   "source": [
    "- Special case of the normal distribution where $\\mu=0$ and $\\sigma=1$"
   ]
  },
  {
   "cell_type": "code",
   "execution_count": null,
   "metadata": {
    "ExecuteTime": {
     "end_time": "2020-08-11T16:11:26.018115Z",
     "start_time": "2020-08-11T16:11:25.650081Z"
    },
    "hidden": true
   },
   "outputs": [],
   "source": [
    "## Loading Heihgt Weight Dataset\n",
    "dfh = fs.datasets.load_height_weight()\n",
    "dfh = dfh.groupby('Gender').get_group('Male')\n",
    "dfh"
   ]
  },
  {
   "cell_type": "code",
   "execution_count": null,
   "metadata": {
    "hidden": true
   },
   "outputs": [],
   "source": [
    "## Our Function From Yesterday(modified) \n",
    "\n",
    "def plot_distribution(dfh, col='HeightZ', verbose=True,boxplot=True):\n",
    "    \n",
    "    df = dfh.copy()\n",
    "    \n",
    "    ## Calc mean and mean skew and curtosis\n",
    "    median = df[col].median().round(2)\n",
    "    mean = df[col].mean().round(2)\n",
    "    skew_val = round(stats.skew(df[col], bias=False),2)\n",
    "    kurt_val = round(stats.kurtosis(df[col],bias=False),2)\n",
    "    \n",
    "    \n",
    "    ## Plot distribution \n",
    "    fig, ax = plt.subplots(nrows=2,figsize=(10,8))\n",
    "    sns.histplot(df[col],alpha=0.5,stat='density',ax=ax[0])\n",
    "    sns.kdeplot(df[col],color='green',label='KDE',ax=ax[0])\n",
    "    ax[0].set(ylabel='Density',title=col.title())\n",
    "    ax[0].set_title(F\"Distribution of {col}\")\n",
    "    ax[0].axvline(median,label=f'median={median:,}',color='black')\n",
    "    ax[0].axvline(mean,label=f'mean={mean:,}',color='black',ls=':')\n",
    "    ax[0].legend()\n",
    "    \n",
    "    ## Plot Boxplot\n",
    "    sns.boxplot(data=df ,x=col,ax=ax[1])\n",
    "    \n",
    "    ## Tweak Layout & Display\n",
    "    fig.tight_layout()\n",
    "    \n",
    "    ## Delete boxplot if unwanted\n",
    "    if boxplot == False:\n",
    "        fig.delaxes(ax[1])\n",
    "    \n",
    "    if verbose:\n",
    "        plt.show()\n",
    "\n",
    "        print('[i] Distribution Stats:')\n",
    "        print(f\"\\tSkew = {skew_val}\")\n",
    "        print(f\"\\tKurtosis = {kurt_val}\")\n",
    "\n",
    "\n",
    "        ## Test for normality\n",
    "        result = stats.normaltest(df[col])\n",
    "        print('\\n',result)\n",
    "        if result[1]<.05:\n",
    "            print('\\t- p<.05: The distribution is NOT normally distributed.')\n",
    "        elif result[1] >=.05:\n",
    "            print('\\t- p>=.05: The distribution IS normally distributed')\n",
    "    \n",
    "    return fig, ax"
   ]
  },
  {
   "cell_type": "code",
   "execution_count": null,
   "metadata": {
    "hidden": true
   },
   "outputs": [],
   "source": [
    "plot_distribution(dfh,'Height');"
   ]
  },
  {
   "cell_type": "markdown",
   "metadata": {
    "hidden": true
   },
   "source": [
    "## Standardized Normal Distribution"
   ]
  },
  {
   "cell_type": "markdown",
   "metadata": {
    "ExecuteTime": {
     "end_time": "2020-01-17T21:14:10.883191Z",
     "start_time": "2020-01-17T21:14:10.881053Z"
    },
    "hidden": true
   },
   "source": [
    "### Z-Scores"
   ]
  },
  {
   "cell_type": "markdown",
   "metadata": {
    "hidden": true
   },
   "source": [
    "The standard score (more commonly referred to as a $z$-score) is a very useful statistic because it allows us to:\n",
    "1. Calculate the probability of a certain score occurring within a given normal distribution and \n",
    "2. Compare two scores that are from different normal distributions.\n",
    "\n",
    "Any normal distribution can be converted to a standard normal distribution and vice versa using this\n",
    "equation:\n",
    "\n",
    "$$\\Large z=\\frac{x-\\mu}{\\sigma}$$\n",
    "\n",
    "- where $x$ is an individual data point\n",
    "- $\\mu$ is the mean\n",
    "- $\\sigma$ is the standard deviation"
   ]
  },
  {
   "cell_type": "code",
   "execution_count": null,
   "metadata": {
    "ExecuteTime": {
     "end_time": "2020-08-11T16:14:26.268712Z",
     "start_time": "2020-08-11T16:14:26.261627Z"
    },
    "hidden": true
   },
   "outputs": [],
   "source": [
    "## Calculate z-score for Height\n",
    "\n"
   ]
  },
  {
   "cell_type": "code",
   "execution_count": null,
   "metadata": {
    "hidden": true
   },
   "outputs": [],
   "source": [
    "## Plot Z-Score height\n"
   ]
  },
  {
   "cell_type": "markdown",
   "metadata": {
    "hidden": true
   },
   "source": [
    "- Once data is standardized, can start answering questions about population membership using $Z$-Tests"
   ]
  },
  {
   "cell_type": "markdown",
   "metadata": {
    "hidden": true
   },
   "source": [
    "___"
   ]
  },
  {
   "cell_type": "markdown",
   "metadata": {
    "colab_type": "text",
    "heading_collapsed": true,
    "id": "-ryhenIMk2bH"
   },
   "source": [
    "# Statistical Testing with Z-scores and p-values"
   ]
  },
  {
   "cell_type": "markdown",
   "metadata": {
    "colab_type": "text",
    "hidden": true,
    "id": "tTSol_nkk5LW"
   },
   "source": [
    "## Population vs Sample\n",
    "<img src=\"https://raw.githubusercontent.com/jirvingphd/dsc-z-score-p-value-online-ds-ft-100719/master/images/sample.png\" width=40%>\n",
    "\n",
    "\n",
    ">A **population** is the collection of **all the items of interest in a study**. The numbers you obtain when using a population are called **parameters**.\n",
    "\n",
    "> A **sample** is a **subset of the population**. The numbers you obtain when working with a sample are called **statistics**.\n",
    "\n"
   ]
  },
  {
   "cell_type": "markdown",
   "metadata": {
    "colab_type": "text",
    "hidden": true,
    "id": "SkL-KNS2rPGd"
   },
   "source": [
    "## What Are Hypotheses ?"
   ]
  },
  {
   "cell_type": "markdown",
   "metadata": {
    "colab_type": "text",
    "hidden": true,
    "id": "SkL-KNS2rPGd"
   },
   "source": [
    "- Null Hypothesis: $H_0$ there is no relationship / the samples come from the same population.\n",
    "\n",
    "- Alternative: $H_A$/$H_1$ there is a relationship / the samples DO NOT come from same distribution"
   ]
  },
  {
   "cell_type": "markdown",
   "metadata": {
    "colab_type": "text",
    "hidden": true,
    "id": "kWuQRi1xlBH8"
   },
   "source": [
    "### One-Sample $z$-test"
   ]
  },
  {
   "cell_type": "markdown",
   "metadata": {
    "colab_type": "text",
    "hidden": true,
    "id": "kWuQRi1xlBH8"
   },
   "source": [
    "> **The one-sample $z$-test is used only for tests related to the sample mean.** \n",
    "<img src=\"https://raw.githubusercontent.com/learn-co-students/dsc-z-score-p-value-online-ds-pt-100719/master/images/pvalue.png\" width=70%>\n",
    "\n",
    "\n",
    "<!---<img src=\"https://raw.githubusercontent.com/jirvingphd/dsc-z-score-p-value-online-ds-ft-100719/master/images/cumprob2.png\" width=400--->"
   ]
  },
  {
   "cell_type": "markdown",
   "metadata": {
    "colab_type": "text",
    "hidden": true,
    "id": "TCgnbI1hrRIz"
   },
   "source": [
    " ### $\\large \\alpha$= 0.05\n",
    "\n",
    "\n",
    "- What does it mean?\n",
    "    - cutoff for judging whether our sample is \"significantly\" different than the population.\n",
    "    - % chance that you would observe this sample from your population dataset\n",
    "\n",
    "\n",
    "\n"
   ]
  },
  {
   "cell_type": "markdown",
   "metadata": {
    "colab_type": "text",
    "hidden": true,
    "id": "yS5r2H5ZrRGf"
   },
   "source": [
    "\n",
    "\n",
    "| Set     | $H_0   $    | $H_a$ | Tails |\n",
    "|---------|-------|-------|-------|\n",
    "|<img width=30/>|<img width=100/>|<img width=100/>|<img width=50/>|\n",
    "| 1  | $\\mu= M $ |$\\mu \\neq M $ | 2  | \n",
    "| 2  | $\\mu \\geq M $ |$\\mu < M $ | 1  | \n",
    "| 3  | $\\mu \\leq M $ |$\\mu > M $ | 1  | \n"
   ]
  },
  {
   "cell_type": "markdown",
   "metadata": {
    "hidden": true
   },
   "source": [
    "### Example Z-Test "
   ]
  },
  {
   "cell_type": "markdown",
   "metadata": {
    "hidden": true
   },
   "source": [
    "- We have the height of 77 inches an unknown lifeform, does it come from the Human male population?"
   ]
  },
  {
   "cell_type": "markdown",
   "metadata": {
    "hidden": true
   },
   "source": [
    "#### State our Hypothesis and Null Hypothesis\n",
    "\n",
    "$H_0$ =  ?\n",
    "\n",
    "$H_1$ = ?"
   ]
  },
  {
   "cell_type": "code",
   "execution_count": null,
   "metadata": {
    "ExecuteTime": {
     "end_time": "2020-08-11T16:23:54.164610Z",
     "start_time": "2020-08-11T16:23:54.162300Z"
    },
    "hidden": true
   },
   "outputs": [],
   "source": [
    "potential_alien_lifeform = 77 #height"
   ]
  },
  {
   "cell_type": "code",
   "execution_count": null,
   "metadata": {
    "hidden": true
   },
   "outputs": [],
   "source": [
    "## Plot distrubtion, add axvline with lifeform's height\n"
   ]
  },
  {
   "cell_type": "code",
   "execution_count": null,
   "metadata": {
    "ExecuteTime": {
     "end_time": "2020-08-11T16:25:05.310660Z",
     "start_time": "2020-08-11T16:25:05.306548Z"
    },
    "hidden": true
   },
   "outputs": [],
   "source": [
    "## Calculate Z-score for the lifeform\n"
   ]
  },
  {
   "cell_type": "code",
   "execution_count": null,
   "metadata": {
    "ExecuteTime": {
     "end_time": "2020-08-11T16:25:09.895481Z",
     "start_time": "2020-08-11T16:25:09.519172Z"
    },
    "hidden": true
   },
   "outputs": [],
   "source": [
    "## Plot Z-Scored Height and z_alien\n"
   ]
  },
  {
   "cell_type": "markdown",
   "metadata": {
    "hidden": true
   },
   "source": [
    "- [Scipy.stats.norm documentation](https://docs.scipy.org/doc/scipy/reference/generated/scipy.stats.norm.html)"
   ]
  },
  {
   "cell_type": "code",
   "execution_count": null,
   "metadata": {
    "ExecuteTime": {
     "end_time": "2020-08-11T16:30:34.069443Z",
     "start_time": "2020-08-11T16:30:34.065009Z"
    },
    "hidden": true
   },
   "outputs": [],
   "source": [
    "## Get the critical value for z-test for a one-tailed test with alpha=0.05 (so really 0.025)\n"
   ]
  },
  {
   "cell_type": "code",
   "execution_count": null,
   "metadata": {
    "ExecuteTime": {
     "end_time": "2020-08-11T16:30:34.972863Z",
     "start_time": "2020-08-11T16:30:34.740330Z"
    },
    "hidden": true
   },
   "outputs": [],
   "source": [
    "## Replot HeightZ, alienz and add critical value\n"
   ]
  },
  {
   "cell_type": "code",
   "execution_count": null,
   "metadata": {
    "ExecuteTime": {
     "end_time": "2020-08-11T16:30:35.498401Z",
     "start_time": "2020-08-11T16:30:35.494585Z"
    },
    "hidden": true
   },
   "outputs": [],
   "source": [
    "## calculate the p-value of observing a human with this height\n"
   ]
  },
  {
   "cell_type": "markdown",
   "metadata": {
    "hidden": true
   },
   "source": [
    "### Confidence Intervals"
   ]
  },
  {
   "cell_type": "code",
   "execution_count": null,
   "metadata": {
    "hidden": true
   },
   "outputs": [],
   "source": [
    "## Remind us of our critical value\n"
   ]
  },
  {
   "cell_type": "code",
   "execution_count": null,
   "metadata": {
    "hidden": true
   },
   "outputs": [],
   "source": [
    "## Use scipy stats to calculate 95 % confidence interval\n"
   ]
  },
  {
   "cell_type": "code",
   "execution_count": null,
   "metadata": {
    "ExecuteTime": {
     "end_time": "2020-08-11T16:30:37.510054Z",
     "start_time": "2020-08-11T16:30:37.245473Z"
    },
    "hidden": true,
    "scrolled": false
   },
   "outputs": [],
   "source": [
    "## Get normal dist figure\n",
    "fig,ax =plot_normal(x,y)\n",
    "\n",
    "## Critical Values (from z-table lookup)\n",
    "crit_z_hi = critical_value#1.96\n",
    "crit_z_low= -crit_z_hi\n",
    "\n",
    "## Plot critical values \n",
    "crit_kws = dict(c='red',ls=':')\n",
    "ax.axvline(crit_z_hi,**crit_kws)\n",
    "ax.axvline(crit_z_low,**crit_kws)\n",
    "\n",
    "# Fill tails\n",
    "ax.fill_between(x,y,where=(x>crit_z_hi)|(x<crit_z_low),color='red')#&(y)"
   ]
  },
  {
   "cell_type": "markdown",
   "metadata": {
    "colab_type": "text",
    "hidden": true,
    "id": "5Y6ZIDTjNht-"
   },
   "source": [
    "\n",
    "<!---For $z$-tests, a $z$-statistic is used as our test statistic. You'll see other test statistics suitable for other tests later. A one-sample $z$-statistic is calculated as:\n",
    "\n",
    "$$ \\large \\text{z-statistic} = \\dfrac{\\bar x - \\mu_0}{{\\sigma}/{\\sqrt{n}}} $$\n",
    "\n",
    "This formula slightly differs from the standard score formula. It includes the square root of $n$ to reflect that we are dealing with the sample variance here. \n",
    "\n",
    "Now, all you need to do is use this formula given your sample mean $\\bar x$, the population standard deviation $\\sigma$, and the number of items in the sample ($n$). $\\mu_0$ is the mean you're testing the hypothesis for, or the \"hypothesized mean\". --->\n"
   ]
  },
  {
   "cell_type": "markdown",
   "metadata": {
    "heading_collapsed": true
   },
   "source": [
    "# Central Limit Theorem"
   ]
  },
  {
   "cell_type": "markdown",
   "metadata": {
    "hidden": true
   },
   "source": [
    "> \"The central limit theorem states that, under many conditions, independent random variables summed together will converge to a normal distribution as the number of variables increases.\"\n",
    "- This becomes very useful for applying statistical logic to sample statistics in order to estimate population parameters.\n",
    "- The means of samples from the population will form a normal distribution, ***no matter what how a population's distribution is shaped!***\n"
   ]
  },
  {
   "cell_type": "code",
   "execution_count": null,
   "metadata": {
    "hidden": true
   },
   "outputs": [],
   "source": [
    "pop = pd.read_csv('../topic_12_statistical_distributions/joined_movie_data_for_sg.csv')\n",
    "pop = pop[['domestic_gross']]"
   ]
  },
  {
   "cell_type": "code",
   "execution_count": null,
   "metadata": {
    "ExecuteTime": {
     "end_time": "2020-08-11T16:32:47.183722Z",
     "start_time": "2020-08-11T16:32:46.814912Z"
    },
    "hidden": true
   },
   "outputs": [],
   "source": [
    "## Saving the Population Domestic Gross\n",
    "plot_distribution(pop,col='domestic_gross',boxplot=False);"
   ]
  },
  {
   "cell_type": "code",
   "execution_count": null,
   "metadata": {
    "ExecuteTime": {
     "end_time": "2020-08-11T16:34:35.318752Z",
     "start_time": "2020-08-11T16:34:35.061712Z"
    },
    "hidden": true
   },
   "outputs": [],
   "source": [
    "## Create a sample of 30 from the population and plot\n"
   ]
  },
  {
   "cell_type": "markdown",
   "metadata": {
    "hidden": true
   },
   "source": [
    "### Demonstrating How Taking Many Samples Creates a Normal Distribution of Means (like in CLT Lab)"
   ]
  },
  {
   "cell_type": "code",
   "execution_count": null,
   "metadata": {
    "ExecuteTime": {
     "end_time": "2020-08-11T16:39:17.280550Z",
     "start_time": "2020-08-11T16:39:17.277831Z"
    },
    "hidden": true
   },
   "outputs": [],
   "source": [
    "sample_size = 20\n",
    "N_SAMPLES = 10000"
   ]
  },
  {
   "cell_type": "code",
   "execution_count": null,
   "metadata": {
    "ExecuteTime": {
     "end_time": "2020-08-11T16:39:17.696098Z",
     "start_time": "2020-08-11T16:39:17.637975Z"
    },
    "hidden": true
   },
   "outputs": [],
   "source": [
    "## RESAMPLE AND PLOT MEANS\n",
    "## Empty lists for samples and means\n",
    "samples = [] \n",
    "sample_means = []\n",
    "\n",
    "## Get Samples & Means\n",
    "\n"
   ]
  },
  {
   "cell_type": "code",
   "execution_count": null,
   "metadata": {
    "hidden": true
   },
   "outputs": [],
   "source": [
    "%%time\n",
    "## Make the sample means into a df (for compatibilitty with our function)\n"
   ]
  },
  {
   "cell_type": "code",
   "execution_count": null,
   "metadata": {
    "ExecuteTime": {
     "end_time": "2020-08-11T16:39:53.206647Z",
     "start_time": "2020-08-11T16:39:53.204266Z"
    },
    "hidden": true
   },
   "outputs": [],
   "source": [
    "# Plot the sample means distribution\n"
   ]
  },
  {
   "cell_type": "markdown",
   "metadata": {
    "hidden": true
   },
   "source": [
    "## The T-Distribution & T-Tests"
   ]
  },
  {
   "cell_type": "code",
   "execution_count": null,
   "metadata": {
    "ExecuteTime": {
     "end_time": "2020-08-11T16:10:42.345081Z",
     "start_time": "2020-08-11T16:10:42.018510Z"
    },
    "hidden": true
   },
   "outputs": [],
   "source": [
    "## Plot a normal distribution\n",
    "x = np.arange(-4,4,.01)\n",
    "y = stats.norm.pdf(x)\n",
    "\n",
    "def plot_normal(x=None,y=None,mean=0,std=1,label='Normal Distribution'):\n",
    "    \"\"\"Plots x,y (normal distrubtion)\"\"\"\n",
    "    \n",
    "    ## Generate Distribution if x and y not provided\n",
    "    if x is None:\n",
    "        x = np.arange(-4,4,.01)\n",
    "    if y is None:\n",
    "        y = stats.norm.pdf(x,loc=mean,scale=std)\n",
    "\n",
    "    ## Plot the distribution \n",
    "    fig,ax = plt.subplots(figsize=(10,6))\n",
    "    ax.plot(x,y,lw=3,label=label)\n",
    "    \n",
    "    ## Plot the mean and std grid\n",
    "    ax.axvline(mean,color='k',label='Mean',lw=2,ls='--',zorder=0)\n",
    "    ax.grid(which='major',axis='x')\n",
    "    \n",
    "    ## Add labels\n",
    "    ax.set(xlabel='Standard Deviation Units (sigma)',\n",
    "           ylabel='Density',\n",
    "           ylim=0,\n",
    "           xlim=(round(min(x)),round(max(x))))\n",
    "    ax.legend()\n",
    "    \n",
    "    return fig,ax\n",
    "\n",
    "plot_normal();"
   ]
  },
  {
   "cell_type": "markdown",
   "metadata": {
    "hidden": true
   },
   "source": [
    "- We usually won't know the population data, so we can modify the statistical distribution to account for this."
   ]
  },
  {
   "cell_type": "code",
   "execution_count": null,
   "metadata": {
    "ExecuteTime": {
     "end_time": "2020-08-11T16:53:47.956113Z",
     "start_time": "2020-08-11T16:53:47.572244Z"
    },
    "hidden": true
   },
   "outputs": [],
   "source": [
    "## The T-Distribution\n",
    "x = np.arange(-3,3,.01)\n",
    "y = stats.norm.pdf(x,loc=0,scale=1)\n",
    "\n",
    "## Plot the Normal Distrubtion\n",
    "fig,ax = plot_normal(x,y)#plt.subplots(figsize=(8,4),nrows=1)\n",
    "# ax.plot(x,y,zorder=-1,lw=3,label='Normal Distribution')\n",
    "\n",
    "## Adding T-Distribution  [0,1,2,3,50,100,1000]:#,\n"
   ]
  },
  {
   "cell_type": "code",
   "execution_count": null,
   "metadata": {
    "ExecuteTime": {
     "end_time": "2020-08-11T16:54:20.038286Z",
     "start_time": "2020-08-11T16:54:19.699146Z"
    },
    "hidden": true,
    "scrolled": false
   },
   "outputs": [],
   "source": [
    "## Confidence Interval\n",
    "ci_low,ci_high = stats.t.interval(alpha = 0.95, # Confidence level\n",
    "                 df= len(x)-1, # Degrees of freedom\n",
    "                 loc = 0,  # Sample mean\n",
    "                 scale = 1) # Standard deviation estimate\n",
    "\n",
    "ax.axvline(ci_low)\n",
    "ax.axvline(ci_high)\n",
    "fig\n"
   ]
  },
  {
   "cell_type": "code",
   "execution_count": null,
   "metadata": {
    "ExecuteTime": {
     "end_time": "2020-08-11T16:54:33.491264Z",
     "start_time": "2020-08-11T16:54:32.908274Z"
    },
    "hidden": true
   },
   "outputs": [],
   "source": [
    "## The T-Distribution & T-Tests\n",
    "\n",
    "## The T-Distribution\n",
    "x = np.arange(-3,3,.01)\n",
    "y = stats.norm.pdf(x,loc=0,scale=1)\n",
    "\n",
    "## Plot the Normal Distrubtion\n",
    "fig,ax = plot_normal(x,y)#plt.subplots(figsize=(8,4),nrows=1)\n",
    "# ax.plot(x,y,zorder=-1,lw=3,label='Normal Distribution')\n",
    "\n",
    "## Adding T-Distribution \n",
    "for degrees_freedom in [1,2,3,1000]:#,5]:#,10,1000]:\n",
    "#     degrees_freedom=5\n",
    "    y_T = stats.t.pdf(x,df=degrees_freedom)\n",
    "\n",
    "    ax.plot(x,y_T,zorder=-1,ls='--',lw=1,label=f'T Distribution (df={degrees_freedom})')\n",
    "ax.legend()\n",
    "\n",
    "\n",
    "## Confidence Interval\n",
    "ci_low,ci_high = stats.t.interval(alpha = 0.95, # Confidence level\n",
    "                 df= len(x)-1, # Degrees of freedom\n",
    "                 loc = 0,  # Sample mean\n",
    "                 scale = 1) # Standard deviation estimate\n",
    "\n",
    "ax.axvline(ci_low)\n",
    "ax.axvline(ci_high)\n",
    "fig\n"
   ]
  }
 ],
 "metadata": {
  "colab": {
   "collapsed_sections": [],
   "name": "Sect 18+19  with Titanic.ipynb",
   "provenance": []
  },
  "kernelspec": {
   "display_name": "learn-env-new",
   "language": "python",
   "name": "learn-env-new"
  },
  "language_info": {
   "codemirror_mode": {
    "name": "ipython",
    "version": 3
   },
   "file_extension": ".py",
   "mimetype": "text/x-python",
   "name": "python",
   "nbconvert_exporter": "python",
   "pygments_lexer": "ipython3",
   "version": "3.8.5"
  },
  "toc": {
   "base_numbering": 1,
   "nav_menu": {},
   "number_sections": false,
   "sideBar": true,
   "skip_h1_title": false,
   "title_cell": "Table of Contents",
   "title_sidebar": "Contents",
   "toc_cell": false,
   "toc_position": {
    "height": "calc(100% - 180px)",
    "left": "10px",
    "top": "150px",
    "width": "255.994px"
   },
   "toc_section_display": true,
   "toc_window_display": true
  },
  "varInspector": {
   "cols": {
    "lenName": 16,
    "lenType": 16,
    "lenVar": 40
   },
   "kernels_config": {
    "python": {
     "delete_cmd_postfix": "",
     "delete_cmd_prefix": "del ",
     "library": "var_list.py",
     "varRefreshCmd": "print(var_dic_list())"
    },
    "r": {
     "delete_cmd_postfix": ") ",
     "delete_cmd_prefix": "rm(",
     "library": "var_list.r",
     "varRefreshCmd": "cat(var_dic_list()) "
    }
   },
   "types_to_exclude": [
    "module",
    "function",
    "builtin_function_or_method",
    "instance",
    "_Feature"
   ],
   "window_display": false
  }
 },
 "nbformat": 4,
 "nbformat_minor": 1
}
