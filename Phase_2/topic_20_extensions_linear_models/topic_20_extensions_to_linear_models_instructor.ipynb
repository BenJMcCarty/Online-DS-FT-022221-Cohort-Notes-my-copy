{
 "cells": [
  {
   "cell_type": "markdown",
   "metadata": {},
   "source": [
    "# Topic 20: Extensions to Linear Models"
   ]
  },
  {
   "cell_type": "markdown",
   "metadata": {},
   "source": [
    "- onl01-dtsc-ft-022221\n",
    "- 04/13/21"
   ]
  },
  {
   "cell_type": "markdown",
   "metadata": {},
   "source": [
    "## Objectives"
   ]
  },
  {
   "cell_type": "markdown",
   "metadata": {},
   "source": [
    "**DISCUSSION:**\n",
    "- Discuss interactions between variables\n",
    "- Discuss using dictionaries for scrubbing the whole df in a few lines of code. \n",
    "- Discuss polynomial regressions.\n",
    "- Discuss the Bias vs Variance trade-off.\n",
    "\n",
    "\n",
    "\n",
    "**APPLICATION:**\n",
    "- Linear Regression with Boston Housing data set"
   ]
  },
  {
   "cell_type": "markdown",
   "metadata": {},
   "source": [
    "## Topics Covered in Section 20\n"
   ]
  },
  {
   "cell_type": "markdown",
   "metadata": {
    "ExecuteTime": {
     "end_time": "2020-02-27T01:46:00.399565Z",
     "start_time": "2020-02-27T01:45:57.348812Z"
    }
   },
   "source": [
    "- Interactions\n",
    "- Polynomial Regression    \n",
    "- Bias-Variance Trade Off"
   ]
  },
  {
   "cell_type": "markdown",
   "metadata": {},
   "source": [
    "# Interactions"
   ]
  },
  {
   "cell_type": "markdown",
   "metadata": {},
   "source": [
    "## What is an interaction?"
   ]
  },
  {
   "cell_type": "markdown",
   "metadata": {},
   "source": [
    "When variables interact to **cause an effect** to another variable but is **not the sum of their parts**\n",
    "\n",
    "> \"An interaction is a particular property of two or more variables where they interact in a non-additive manner when affecting a third variable\" - *Section recap*\n",
    "\n",
    "<img src=\"https://raw.githubusercontent.com/jirvingphd/dsc-interaction-terms-online-ds-pt-100719/master/images/new_diet_image.png\">\n",
    "\n",
    "\n",
    "> In our example, the interaction plot was composed out of categorical predictors (countries and diet type), but interactions can occur between categorical variables or between a mix of categorical variables and continuous variables!"
   ]
  },
  {
   "cell_type": "markdown",
   "metadata": {},
   "source": [
    "### Confounding factor"
   ]
  },
  {
   "cell_type": "markdown",
   "metadata": {},
   "source": [
    ">This means that the \"Country\" and \"Diet\" affect weight loss in a non-additive matter. If we're mostly interested in the effect of diet on weight loss (which seems to be plausible here), we say that \"Country\" is a **confounding factor** of the effect of \"Diet\" on weight loss."
   ]
  },
  {
   "cell_type": "markdown",
   "metadata": {},
   "source": [
    "![](images/diet_interaction.png)"
   ]
  },
  {
   "cell_type": "markdown",
   "metadata": {},
   "source": [
    "### Why is important to account for interactions?"
   ]
  },
  {
   "cell_type": "markdown",
   "metadata": {},
   "source": [
    "> - \"Not accounting for them might lead to results that are wrong.\"\n",
    "\n",
    "> - You'll also notice that including them when they're needed will increase your $R^2$ value!\n",
    "\n",
    "\n",
    "- Replacing 2 individual columns with their interaction column can reduce the overall number of features.\n",
    "\n",
    "- One way of addessing multicollinearity is to replace 2 multicollinear columns with the interaction term."
   ]
  },
  {
   "cell_type": "markdown",
   "metadata": {},
   "source": [
    "### When should we use interactions?"
   ]
  },
  {
   "cell_type": "markdown",
   "metadata": {},
   "source": [
    "- Whenever it can help the model, but not required.\n",
    "- Can use in hypothesis testing as well (for ANOVAs)"
   ]
  },
  {
   "cell_type": "markdown",
   "metadata": {},
   "source": [
    "## Using seaborn to view interactions"
   ]
  },
  {
   "cell_type": "markdown",
   "metadata": {},
   "source": [
    "https://blog.insightdatascience.com/data-visualization-in-python-advanced-functionality-in-seaborn-20d217f1a9a6\n",
    "\n",
    "- ~~`sns.factorplot`~~\n",
    "- `sns.catplot`\n",
    "- `sns.FacetGrid`"
   ]
  },
  {
   "cell_type": "code",
   "execution_count": 1,
   "metadata": {
    "ExecuteTime": {
     "end_time": "2020-03-04T00:57:26.229009Z",
     "start_time": "2020-03-04T00:57:24.222053Z"
    }
   },
   "outputs": [
    {
     "name": "stdout",
     "output_type": "stream",
     "text": [
      "fsds v0.3.2 loaded.  Read the docs: https://fs-ds.readthedocs.io/en/latest/ \n"
     ]
    },
    {
     "data": {
      "text/html": [
       "<style  type=\"text/css\" >\n",
       "</style><table id=\"T_33532b50_9c79_11eb_a725_acde48001122\" ><caption>Loaded Packages and Handles</caption><thead>    <tr>        <th class=\"col_heading level0 col0\" >Handle</th>        <th class=\"col_heading level0 col1\" >Package</th>        <th class=\"col_heading level0 col2\" >Description</th>    </tr></thead><tbody>\n",
       "                <tr>\n",
       "                                <td id=\"T_33532b50_9c79_11eb_a725_acde48001122row0_col0\" class=\"data row0 col0\" >dp</td>\n",
       "                        <td id=\"T_33532b50_9c79_11eb_a725_acde48001122row0_col1\" class=\"data row0 col1\" >IPython.display</td>\n",
       "                        <td id=\"T_33532b50_9c79_11eb_a725_acde48001122row0_col2\" class=\"data row0 col2\" >Display modules with helpful display and clearing commands.</td>\n",
       "            </tr>\n",
       "            <tr>\n",
       "                                <td id=\"T_33532b50_9c79_11eb_a725_acde48001122row1_col0\" class=\"data row1 col0\" >fs</td>\n",
       "                        <td id=\"T_33532b50_9c79_11eb_a725_acde48001122row1_col1\" class=\"data row1 col1\" >fsds</td>\n",
       "                        <td id=\"T_33532b50_9c79_11eb_a725_acde48001122row1_col2\" class=\"data row1 col2\" >Custom data science bootcamp student package</td>\n",
       "            </tr>\n",
       "            <tr>\n",
       "                                <td id=\"T_33532b50_9c79_11eb_a725_acde48001122row2_col0\" class=\"data row2 col0\" >mpl</td>\n",
       "                        <td id=\"T_33532b50_9c79_11eb_a725_acde48001122row2_col1\" class=\"data row2 col1\" >matplotlib</td>\n",
       "                        <td id=\"T_33532b50_9c79_11eb_a725_acde48001122row2_col2\" class=\"data row2 col2\" >Matplotlib's base OOP module with formatting artists</td>\n",
       "            </tr>\n",
       "            <tr>\n",
       "                                <td id=\"T_33532b50_9c79_11eb_a725_acde48001122row3_col0\" class=\"data row3 col0\" >plt</td>\n",
       "                        <td id=\"T_33532b50_9c79_11eb_a725_acde48001122row3_col1\" class=\"data row3 col1\" >matplotlib.pyplot</td>\n",
       "                        <td id=\"T_33532b50_9c79_11eb_a725_acde48001122row3_col2\" class=\"data row3 col2\" >Matplotlib's matlab-like plotting module</td>\n",
       "            </tr>\n",
       "            <tr>\n",
       "                                <td id=\"T_33532b50_9c79_11eb_a725_acde48001122row4_col0\" class=\"data row4 col0\" >np</td>\n",
       "                        <td id=\"T_33532b50_9c79_11eb_a725_acde48001122row4_col1\" class=\"data row4 col1\" >numpy</td>\n",
       "                        <td id=\"T_33532b50_9c79_11eb_a725_acde48001122row4_col2\" class=\"data row4 col2\" >scientific computing with Python</td>\n",
       "            </tr>\n",
       "            <tr>\n",
       "                                <td id=\"T_33532b50_9c79_11eb_a725_acde48001122row5_col0\" class=\"data row5 col0\" >pd</td>\n",
       "                        <td id=\"T_33532b50_9c79_11eb_a725_acde48001122row5_col1\" class=\"data row5 col1\" >pandas</td>\n",
       "                        <td id=\"T_33532b50_9c79_11eb_a725_acde48001122row5_col2\" class=\"data row5 col2\" >High performance data structures and tools</td>\n",
       "            </tr>\n",
       "            <tr>\n",
       "                                <td id=\"T_33532b50_9c79_11eb_a725_acde48001122row6_col0\" class=\"data row6 col0\" >sns</td>\n",
       "                        <td id=\"T_33532b50_9c79_11eb_a725_acde48001122row6_col1\" class=\"data row6 col1\" >seaborn</td>\n",
       "                        <td id=\"T_33532b50_9c79_11eb_a725_acde48001122row6_col2\" class=\"data row6 col2\" >High-level data visualization library based on matplotlib</td>\n",
       "            </tr>\n",
       "    </tbody></table>"
      ],
      "text/plain": [
       "<pandas.io.formats.style.Styler at 0x7fad4d54d9d0>"
      ]
     },
     "metadata": {},
     "output_type": "display_data"
    }
   ],
   "source": [
    "# !pip install -U fsds\n",
    "from fsds.imports import *\n",
    "import scipy.stats as stats\n",
    "import statsmodels.api as sms\n",
    "import statsmodels.formula.api as smf\n",
    "\n",
    "pd.set_option('display.max_columns',0)\n",
    "plt.style.use('seaborn-notebook')"
   ]
  },
  {
   "cell_type": "code",
   "execution_count": 2,
   "metadata": {
    "ExecuteTime": {
     "end_time": "2020-03-04T00:57:26.304497Z",
     "start_time": "2020-03-04T00:57:26.230895Z"
    }
   },
   "outputs": [
    {
     "data": {
      "text/html": [
       "<div>\n",
       "<style scoped>\n",
       "    .dataframe tbody tr th:only-of-type {\n",
       "        vertical-align: middle;\n",
       "    }\n",
       "\n",
       "    .dataframe tbody tr th {\n",
       "        vertical-align: top;\n",
       "    }\n",
       "\n",
       "    .dataframe thead th {\n",
       "        text-align: right;\n",
       "    }\n",
       "</style>\n",
       "<table border=\"1\" class=\"dataframe\">\n",
       "  <thead>\n",
       "    <tr style=\"text-align: right;\">\n",
       "      <th></th>\n",
       "      <th>CRIM</th>\n",
       "      <th>ZN</th>\n",
       "      <th>INDUS</th>\n",
       "      <th>CHAS</th>\n",
       "      <th>NOX</th>\n",
       "      <th>RM</th>\n",
       "      <th>AGE</th>\n",
       "      <th>DIS</th>\n",
       "      <th>RAD</th>\n",
       "      <th>TAX</th>\n",
       "      <th>PTRATIO</th>\n",
       "      <th>LSTAT</th>\n",
       "      <th>price</th>\n",
       "    </tr>\n",
       "  </thead>\n",
       "  <tbody>\n",
       "    <tr>\n",
       "      <th>0</th>\n",
       "      <td>0.00632</td>\n",
       "      <td>18.0</td>\n",
       "      <td>2.31</td>\n",
       "      <td>0.0</td>\n",
       "      <td>0.538</td>\n",
       "      <td>6.575</td>\n",
       "      <td>65.2</td>\n",
       "      <td>4.0900</td>\n",
       "      <td>1.0</td>\n",
       "      <td>296.0</td>\n",
       "      <td>15.3</td>\n",
       "      <td>4.98</td>\n",
       "      <td>24.0</td>\n",
       "    </tr>\n",
       "    <tr>\n",
       "      <th>1</th>\n",
       "      <td>0.02731</td>\n",
       "      <td>0.0</td>\n",
       "      <td>7.07</td>\n",
       "      <td>0.0</td>\n",
       "      <td>0.469</td>\n",
       "      <td>6.421</td>\n",
       "      <td>78.9</td>\n",
       "      <td>4.9671</td>\n",
       "      <td>2.0</td>\n",
       "      <td>242.0</td>\n",
       "      <td>17.8</td>\n",
       "      <td>9.14</td>\n",
       "      <td>21.6</td>\n",
       "    </tr>\n",
       "    <tr>\n",
       "      <th>2</th>\n",
       "      <td>0.02729</td>\n",
       "      <td>0.0</td>\n",
       "      <td>7.07</td>\n",
       "      <td>0.0</td>\n",
       "      <td>0.469</td>\n",
       "      <td>7.185</td>\n",
       "      <td>61.1</td>\n",
       "      <td>4.9671</td>\n",
       "      <td>2.0</td>\n",
       "      <td>242.0</td>\n",
       "      <td>17.8</td>\n",
       "      <td>4.03</td>\n",
       "      <td>34.7</td>\n",
       "    </tr>\n",
       "    <tr>\n",
       "      <th>3</th>\n",
       "      <td>0.03237</td>\n",
       "      <td>0.0</td>\n",
       "      <td>2.18</td>\n",
       "      <td>0.0</td>\n",
       "      <td>0.458</td>\n",
       "      <td>6.998</td>\n",
       "      <td>45.8</td>\n",
       "      <td>6.0622</td>\n",
       "      <td>3.0</td>\n",
       "      <td>222.0</td>\n",
       "      <td>18.7</td>\n",
       "      <td>2.94</td>\n",
       "      <td>33.4</td>\n",
       "    </tr>\n",
       "    <tr>\n",
       "      <th>4</th>\n",
       "      <td>0.06905</td>\n",
       "      <td>0.0</td>\n",
       "      <td>2.18</td>\n",
       "      <td>0.0</td>\n",
       "      <td>0.458</td>\n",
       "      <td>7.147</td>\n",
       "      <td>54.2</td>\n",
       "      <td>6.0622</td>\n",
       "      <td>3.0</td>\n",
       "      <td>222.0</td>\n",
       "      <td>18.7</td>\n",
       "      <td>5.33</td>\n",
       "      <td>36.2</td>\n",
       "    </tr>\n",
       "  </tbody>\n",
       "</table>\n",
       "</div>"
      ],
      "text/plain": [
       "      CRIM    ZN  INDUS  CHAS    NOX  ...  RAD    TAX  PTRATIO  LSTAT  price\n",
       "0  0.00632  18.0   2.31   0.0  0.538  ...  1.0  296.0     15.3   4.98   24.0\n",
       "1  0.02731   0.0   7.07   0.0  0.469  ...  2.0  242.0     17.8   9.14   21.6\n",
       "2  0.02729   0.0   7.07   0.0  0.469  ...  2.0  242.0     17.8   4.03   34.7\n",
       "3  0.03237   0.0   2.18   0.0  0.458  ...  3.0  222.0     18.7   2.94   33.4\n",
       "4  0.06905   0.0   2.18   0.0  0.458  ...  3.0  222.0     18.7   5.33   36.2\n",
       "\n",
       "[5 rows x 13 columns]"
      ]
     },
     "execution_count": 2,
     "metadata": {},
     "output_type": "execute_result"
    }
   ],
   "source": [
    "df = fs.datasets.load_boston()\n",
    "df.head()"
   ]
  },
  {
   "cell_type": "markdown",
   "metadata": {},
   "source": [
    "### Ex Interaction: Not very different"
   ]
  },
  {
   "cell_type": "code",
   "execution_count": 3,
   "metadata": {},
   "outputs": [
    {
     "data": {
      "image/png": "[encoded data removed]",
      "text/plain": [
       "<Figure size 772x360 with 1 Axes>"
      ]
     },
     "metadata": {
      "needs_background": "light"
     },
     "output_type": "display_data"
    }
   ],
   "source": [
    "g = sns.lmplot(data=df, x='AGE', y='price', hue='CHAS', aspect=2)"
   ]
  },
  {
   "cell_type": "markdown",
   "metadata": {},
   "source": [
    "### Example Interaction: different"
   ]
  },
  {
   "cell_type": "code",
   "execution_count": 4,
   "metadata": {
    "ExecuteTime": {
     "end_time": "2020-03-04T00:57:27.489212Z",
     "start_time": "2020-03-04T00:57:26.904962Z"
    }
   },
   "outputs": [
    {
     "data": {
      "image/png": "[encoded data removed]",
      "text/plain": [
       "<Figure size 772x360 with 1 Axes>"
      ]
     },
     "metadata": {
      "needs_background": "light"
     },
     "output_type": "display_data"
    }
   ],
   "source": [
    "g = sns.lmplot(data=df, x='TAX', y='price', hue='CHAS', aspect=2)"
   ]
  },
  {
   "cell_type": "code",
   "execution_count": 5,
   "metadata": {
    "ExecuteTime": {
     "end_time": "2020-03-04T00:57:28.035130Z",
     "start_time": "2020-03-04T00:57:27.490797Z"
    }
   },
   "outputs": [
    {
     "data": {
      "image/png": "[encoded data removed]",
      "text/plain": [
       "<Figure size 772x360 with 1 Axes>"
      ]
     },
     "metadata": {
      "needs_background": "light"
     },
     "output_type": "display_data"
    }
   ],
   "source": [
    "g = sns.lmplot(data=df, x='PTRATIO', y='price', hue='CHAS', aspect=2)"
   ]
  },
  {
   "cell_type": "code",
   "execution_count": 6,
   "metadata": {
    "ExecuteTime": {
     "end_time": "2020-03-04T00:57:45.808004Z",
     "start_time": "2020-03-04T00:57:45.781401Z"
    }
   },
   "outputs": [
    {
     "data": {
      "text/html": [
       "<div>\n",
       "<style scoped>\n",
       "    .dataframe tbody tr th:only-of-type {\n",
       "        vertical-align: middle;\n",
       "    }\n",
       "\n",
       "    .dataframe tbody tr th {\n",
       "        vertical-align: top;\n",
       "    }\n",
       "\n",
       "    .dataframe thead th {\n",
       "        text-align: right;\n",
       "    }\n",
       "</style>\n",
       "<table border=\"1\" class=\"dataframe\">\n",
       "  <thead>\n",
       "    <tr style=\"text-align: right;\">\n",
       "      <th></th>\n",
       "      <th>CRIM</th>\n",
       "      <th>ZN</th>\n",
       "      <th>CHAS</th>\n",
       "      <th>NOX</th>\n",
       "      <th>RM</th>\n",
       "      <th>AGE</th>\n",
       "      <th>DIS</th>\n",
       "      <th>RAD</th>\n",
       "      <th>TAX</th>\n",
       "      <th>PTRATIO</th>\n",
       "      <th>LSTAT</th>\n",
       "      <th>price</th>\n",
       "    </tr>\n",
       "  </thead>\n",
       "  <tbody>\n",
       "    <tr>\n",
       "      <th>0</th>\n",
       "      <td>0.00632</td>\n",
       "      <td>18.0</td>\n",
       "      <td>0.0</td>\n",
       "      <td>0.538</td>\n",
       "      <td>6.575</td>\n",
       "      <td>65.2</td>\n",
       "      <td>4.0900</td>\n",
       "      <td>1.0</td>\n",
       "      <td>296.0</td>\n",
       "      <td>15.3</td>\n",
       "      <td>4.98</td>\n",
       "      <td>24.0</td>\n",
       "    </tr>\n",
       "    <tr>\n",
       "      <th>1</th>\n",
       "      <td>0.02731</td>\n",
       "      <td>0.0</td>\n",
       "      <td>0.0</td>\n",
       "      <td>0.469</td>\n",
       "      <td>6.421</td>\n",
       "      <td>78.9</td>\n",
       "      <td>4.9671</td>\n",
       "      <td>2.0</td>\n",
       "      <td>242.0</td>\n",
       "      <td>17.8</td>\n",
       "      <td>9.14</td>\n",
       "      <td>21.6</td>\n",
       "    </tr>\n",
       "    <tr>\n",
       "      <th>2</th>\n",
       "      <td>0.02729</td>\n",
       "      <td>0.0</td>\n",
       "      <td>0.0</td>\n",
       "      <td>0.469</td>\n",
       "      <td>7.185</td>\n",
       "      <td>61.1</td>\n",
       "      <td>4.9671</td>\n",
       "      <td>2.0</td>\n",
       "      <td>242.0</td>\n",
       "      <td>17.8</td>\n",
       "      <td>4.03</td>\n",
       "      <td>34.7</td>\n",
       "    </tr>\n",
       "    <tr>\n",
       "      <th>3</th>\n",
       "      <td>0.03237</td>\n",
       "      <td>0.0</td>\n",
       "      <td>0.0</td>\n",
       "      <td>0.458</td>\n",
       "      <td>6.998</td>\n",
       "      <td>45.8</td>\n",
       "      <td>6.0622</td>\n",
       "      <td>3.0</td>\n",
       "      <td>222.0</td>\n",
       "      <td>18.7</td>\n",
       "      <td>2.94</td>\n",
       "      <td>33.4</td>\n",
       "    </tr>\n",
       "    <tr>\n",
       "      <th>4</th>\n",
       "      <td>0.06905</td>\n",
       "      <td>0.0</td>\n",
       "      <td>0.0</td>\n",
       "      <td>0.458</td>\n",
       "      <td>7.147</td>\n",
       "      <td>54.2</td>\n",
       "      <td>6.0622</td>\n",
       "      <td>3.0</td>\n",
       "      <td>222.0</td>\n",
       "      <td>18.7</td>\n",
       "      <td>5.33</td>\n",
       "      <td>36.2</td>\n",
       "    </tr>\n",
       "  </tbody>\n",
       "</table>\n",
       "</div>"
      ],
      "text/plain": [
       "      CRIM    ZN  CHAS    NOX     RM  ...  RAD    TAX  PTRATIO  LSTAT  price\n",
       "0  0.00632  18.0   0.0  0.538  6.575  ...  1.0  296.0     15.3   4.98   24.0\n",
       "1  0.02731   0.0   0.0  0.469  6.421  ...  2.0  242.0     17.8   9.14   21.6\n",
       "2  0.02729   0.0   0.0  0.469  7.185  ...  2.0  242.0     17.8   4.03   34.7\n",
       "3  0.03237   0.0   0.0  0.458  6.998  ...  3.0  222.0     18.7   2.94   33.4\n",
       "4  0.06905   0.0   0.0  0.458  7.147  ...  3.0  222.0     18.7   5.33   36.2\n",
       "\n",
       "[5 rows x 12 columns]"
      ]
     },
     "execution_count": 6,
     "metadata": {},
     "output_type": "execute_result"
    }
   ],
   "source": [
    "## Drop unneeded cols\n",
    "drop_cols = ['INDUS']\n",
    "[df.drop(col,axis=1,inplace=True) for col in drop_cols if col in df.columns]\n",
    "df.head()"
   ]
  },
  {
   "cell_type": "code",
   "execution_count": 7,
   "metadata": {
    "ExecuteTime": {
     "end_time": "2020-03-04T00:57:45.849088Z",
     "start_time": "2020-03-04T00:57:45.844938Z"
    }
   },
   "outputs": [
    {
     "data": {
      "text/plain": [
       "CRIM       float64\n",
       "ZN         float64\n",
       "CHAS       float64\n",
       "NOX        float64\n",
       "RM         float64\n",
       "AGE        float64\n",
       "DIS        float64\n",
       "RAD        float64\n",
       "TAX        float64\n",
       "PTRATIO    float64\n",
       "LSTAT      float64\n",
       "price      float64\n",
       "dtype: object"
      ]
     },
     "execution_count": 7,
     "metadata": {},
     "output_type": "execute_result"
    }
   ],
   "source": [
    "## Recasting datatypes\n",
    "df.dtypes"
   ]
  },
  {
   "cell_type": "code",
   "execution_count": 8,
   "metadata": {
    "ExecuteTime": {
     "end_time": "2020-03-04T00:57:45.854086Z",
     "start_time": "2020-03-04T00:57:45.850303Z"
    }
   },
   "outputs": [],
   "source": [
    "recast_dict = {'CHAS':int}\n",
    "for col, dtype in recast_dict.items():\n",
    "    df[col] = df[col].astype(dtype)"
   ]
  },
  {
   "cell_type": "code",
   "execution_count": 9,
   "metadata": {
    "ExecuteTime": {
     "end_time": "2020-03-04T00:57:45.859282Z",
     "start_time": "2020-03-04T00:57:45.855248Z"
    }
   },
   "outputs": [
    {
     "data": {
      "text/plain": [
       "CRIM       float64\n",
       "ZN         float64\n",
       "CHAS         int64\n",
       "NOX        float64\n",
       "RM         float64\n",
       "AGE        float64\n",
       "DIS        float64\n",
       "RAD        float64\n",
       "TAX        float64\n",
       "PTRATIO    float64\n",
       "LSTAT      float64\n",
       "price      float64\n",
       "dtype: object"
      ]
     },
     "execution_count": 9,
     "metadata": {},
     "output_type": "execute_result"
    }
   ],
   "source": [
    "df.dtypes"
   ]
  },
  {
   "cell_type": "code",
   "execution_count": 10,
   "metadata": {
    "ExecuteTime": {
     "end_time": "2020-03-04T00:57:45.976175Z",
     "start_time": "2020-03-04T00:57:45.911434Z"
    }
   },
   "outputs": [
    {
     "data": {
      "text/html": [
       "<div>\n",
       "<style scoped>\n",
       "    .dataframe tbody tr th:only-of-type {\n",
       "        vertical-align: middle;\n",
       "    }\n",
       "\n",
       "    .dataframe tbody tr th {\n",
       "        vertical-align: top;\n",
       "    }\n",
       "\n",
       "    .dataframe thead th {\n",
       "        text-align: right;\n",
       "    }\n",
       "</style>\n",
       "<table border=\"1\" class=\"dataframe\">\n",
       "  <thead>\n",
       "    <tr style=\"text-align: right;\">\n",
       "      <th></th>\n",
       "      <th>CRIM</th>\n",
       "      <th>ZN</th>\n",
       "      <th>CHAS</th>\n",
       "      <th>NOX</th>\n",
       "      <th>RM</th>\n",
       "      <th>AGE</th>\n",
       "      <th>DIS</th>\n",
       "      <th>RAD</th>\n",
       "      <th>TAX</th>\n",
       "      <th>PTRATIO</th>\n",
       "      <th>LSTAT</th>\n",
       "      <th>price</th>\n",
       "    </tr>\n",
       "  </thead>\n",
       "  <tbody>\n",
       "    <tr>\n",
       "      <th>count</th>\n",
       "      <td>506.000</td>\n",
       "      <td>506.000</td>\n",
       "      <td>506.000</td>\n",
       "      <td>506.000</td>\n",
       "      <td>506.000</td>\n",
       "      <td>506.000</td>\n",
       "      <td>506.000</td>\n",
       "      <td>506.000</td>\n",
       "      <td>506.000</td>\n",
       "      <td>506.000</td>\n",
       "      <td>506.000</td>\n",
       "      <td>506.000</td>\n",
       "    </tr>\n",
       "    <tr>\n",
       "      <th>mean</th>\n",
       "      <td>3.614</td>\n",
       "      <td>11.364</td>\n",
       "      <td>0.069</td>\n",
       "      <td>0.555</td>\n",
       "      <td>6.285</td>\n",
       "      <td>68.575</td>\n",
       "      <td>3.795</td>\n",
       "      <td>9.549</td>\n",
       "      <td>408.237</td>\n",
       "      <td>18.456</td>\n",
       "      <td>12.653</td>\n",
       "      <td>22.533</td>\n",
       "    </tr>\n",
       "    <tr>\n",
       "      <th>std</th>\n",
       "      <td>8.602</td>\n",
       "      <td>23.322</td>\n",
       "      <td>0.254</td>\n",
       "      <td>0.116</td>\n",
       "      <td>0.703</td>\n",
       "      <td>28.149</td>\n",
       "      <td>2.106</td>\n",
       "      <td>8.707</td>\n",
       "      <td>168.537</td>\n",
       "      <td>2.165</td>\n",
       "      <td>7.141</td>\n",
       "      <td>9.197</td>\n",
       "    </tr>\n",
       "    <tr>\n",
       "      <th>min</th>\n",
       "      <td>0.006</td>\n",
       "      <td>0.000</td>\n",
       "      <td>0.000</td>\n",
       "      <td>0.385</td>\n",
       "      <td>3.561</td>\n",
       "      <td>2.900</td>\n",
       "      <td>1.130</td>\n",
       "      <td>1.000</td>\n",
       "      <td>187.000</td>\n",
       "      <td>12.600</td>\n",
       "      <td>1.730</td>\n",
       "      <td>5.000</td>\n",
       "    </tr>\n",
       "    <tr>\n",
       "      <th>25%</th>\n",
       "      <td>0.082</td>\n",
       "      <td>0.000</td>\n",
       "      <td>0.000</td>\n",
       "      <td>0.449</td>\n",
       "      <td>5.886</td>\n",
       "      <td>45.025</td>\n",
       "      <td>2.100</td>\n",
       "      <td>4.000</td>\n",
       "      <td>279.000</td>\n",
       "      <td>17.400</td>\n",
       "      <td>6.950</td>\n",
       "      <td>17.025</td>\n",
       "    </tr>\n",
       "    <tr>\n",
       "      <th>50%</th>\n",
       "      <td>0.257</td>\n",
       "      <td>0.000</td>\n",
       "      <td>0.000</td>\n",
       "      <td>0.538</td>\n",
       "      <td>6.208</td>\n",
       "      <td>77.500</td>\n",
       "      <td>3.207</td>\n",
       "      <td>5.000</td>\n",
       "      <td>330.000</td>\n",
       "      <td>19.050</td>\n",
       "      <td>11.360</td>\n",
       "      <td>21.200</td>\n",
       "    </tr>\n",
       "    <tr>\n",
       "      <th>75%</th>\n",
       "      <td>3.677</td>\n",
       "      <td>12.500</td>\n",
       "      <td>0.000</td>\n",
       "      <td>0.624</td>\n",
       "      <td>6.624</td>\n",
       "      <td>94.075</td>\n",
       "      <td>5.188</td>\n",
       "      <td>24.000</td>\n",
       "      <td>666.000</td>\n",
       "      <td>20.200</td>\n",
       "      <td>16.955</td>\n",
       "      <td>25.000</td>\n",
       "    </tr>\n",
       "    <tr>\n",
       "      <th>max</th>\n",
       "      <td>88.976</td>\n",
       "      <td>100.000</td>\n",
       "      <td>1.000</td>\n",
       "      <td>0.871</td>\n",
       "      <td>8.780</td>\n",
       "      <td>100.000</td>\n",
       "      <td>12.126</td>\n",
       "      <td>24.000</td>\n",
       "      <td>711.000</td>\n",
       "      <td>22.000</td>\n",
       "      <td>37.970</td>\n",
       "      <td>50.000</td>\n",
       "    </tr>\n",
       "  </tbody>\n",
       "</table>\n",
       "</div>"
      ],
      "text/plain": [
       "          CRIM       ZN     CHAS      NOX  ...      TAX  PTRATIO    LSTAT    price\n",
       "count  506.000  506.000  506.000  506.000  ...  506.000  506.000  506.000  506.000\n",
       "mean     3.614   11.364    0.069    0.555  ...  408.237   18.456   12.653   22.533\n",
       "std      8.602   23.322    0.254    0.116  ...  168.537    2.165    7.141    9.197\n",
       "min      0.006    0.000    0.000    0.385  ...  187.000   12.600    1.730    5.000\n",
       "25%      0.082    0.000    0.000    0.449  ...  279.000   17.400    6.950   17.025\n",
       "50%      0.257    0.000    0.000    0.538  ...  330.000   19.050   11.360   21.200\n",
       "75%      3.677   12.500    0.000    0.624  ...  666.000   20.200   16.955   25.000\n",
       "max     88.976  100.000    1.000    0.871  ...  711.000   22.000   37.970   50.000\n",
       "\n",
       "[8 rows x 12 columns]"
      ]
     },
     "execution_count": 10,
     "metadata": {},
     "output_type": "execute_result"
    }
   ],
   "source": [
    "df.describe().round(3)"
   ]
  },
  {
   "cell_type": "code",
   "execution_count": 11,
   "metadata": {
    "ExecuteTime": {
     "end_time": "2020-03-04T00:57:45.984338Z",
     "start_time": "2020-03-04T00:57:45.977400Z"
    }
   },
   "outputs": [
    {
     "data": {
      "text/plain": [
       "Index(['CHAS'], dtype='object')"
      ]
     },
     "execution_count": 11,
     "metadata": {},
     "output_type": "execute_result"
    }
   ],
   "source": [
    "df.select_dtypes('int').columns"
   ]
  },
  {
   "cell_type": "code",
   "execution_count": 12,
   "metadata": {
    "ExecuteTime": {
     "end_time": "2020-03-04T00:57:45.997794Z",
     "start_time": "2020-03-04T00:57:45.992973Z"
    }
   },
   "outputs": [
    {
     "data": {
      "text/plain": [
       "0    471\n",
       "1     35\n",
       "Name: CHAS, dtype: int64"
      ]
     },
     "execution_count": 12,
     "metadata": {},
     "output_type": "execute_result"
    }
   ],
   "source": [
    "df['CHAS'].value_counts()"
   ]
  },
  {
   "cell_type": "code",
   "execution_count": 13,
   "metadata": {
    "ExecuteTime": {
     "end_time": "2020-03-04T00:57:46.015395Z",
     "start_time": "2020-03-04T00:57:45.999152Z"
    }
   },
   "outputs": [
    {
     "data": {
      "text/plain": [
       "(['CHAS'],\n",
       " ['CRIM', 'ZN', 'NOX', 'RM', 'AGE', 'DIS', 'RAD', 'TAX', 'PTRATIO', 'LSTAT'])"
      ]
     },
     "execution_count": 13,
     "metadata": {},
     "output_type": "execute_result"
    }
   ],
   "source": [
    "## Get lists of categorical vs numeric columns\n",
    "target = 'price'\n",
    "\n",
    "## Scale non-categorical columns\n",
    "cat_cols = list(df.select_dtypes('int').columns)\n",
    "num_cols = list(df.drop(columns=[target]).select_dtypes(include = ['number'],\n",
    "                                                   exclude= ['int']).columns)\n",
    "cat_cols, num_cols\n",
    "\n"
   ]
  },
  {
   "cell_type": "code",
   "execution_count": 14,
   "metadata": {
    "ExecuteTime": {
     "end_time": "2020-03-04T00:57:46.026864Z",
     "start_time": "2020-03-04T00:57:46.016998Z"
    }
   },
   "outputs": [],
   "source": [
    "## Scale data\n",
    "from sklearn.preprocessing import StandardScaler\n",
    "\n",
    "scaler = StandardScaler()\n",
    "df[num_cols] = scaler.fit_transform(df[num_cols])"
   ]
  },
  {
   "cell_type": "code",
   "execution_count": 15,
   "metadata": {
    "ExecuteTime": {
     "end_time": "2020-03-04T00:57:46.099911Z",
     "start_time": "2020-03-04T00:57:46.028208Z"
    }
   },
   "outputs": [
    {
     "data": {
      "text/html": [
       "<div>\n",
       "<style scoped>\n",
       "    .dataframe tbody tr th:only-of-type {\n",
       "        vertical-align: middle;\n",
       "    }\n",
       "\n",
       "    .dataframe tbody tr th {\n",
       "        vertical-align: top;\n",
       "    }\n",
       "\n",
       "    .dataframe thead th {\n",
       "        text-align: right;\n",
       "    }\n",
       "</style>\n",
       "<table border=\"1\" class=\"dataframe\">\n",
       "  <thead>\n",
       "    <tr style=\"text-align: right;\">\n",
       "      <th></th>\n",
       "      <th>CRIM</th>\n",
       "      <th>ZN</th>\n",
       "      <th>CHAS</th>\n",
       "      <th>NOX</th>\n",
       "      <th>RM</th>\n",
       "      <th>AGE</th>\n",
       "      <th>DIS</th>\n",
       "      <th>RAD</th>\n",
       "      <th>TAX</th>\n",
       "      <th>PTRATIO</th>\n",
       "      <th>LSTAT</th>\n",
       "      <th>price</th>\n",
       "    </tr>\n",
       "  </thead>\n",
       "  <tbody>\n",
       "    <tr>\n",
       "      <th>count</th>\n",
       "      <td>506.000</td>\n",
       "      <td>506.000</td>\n",
       "      <td>506.000</td>\n",
       "      <td>506.000</td>\n",
       "      <td>506.000</td>\n",
       "      <td>506.000</td>\n",
       "      <td>506.000</td>\n",
       "      <td>506.000</td>\n",
       "      <td>506.000</td>\n",
       "      <td>506.000</td>\n",
       "      <td>506.000</td>\n",
       "      <td>506.000</td>\n",
       "    </tr>\n",
       "    <tr>\n",
       "      <th>mean</th>\n",
       "      <td>-0.000</td>\n",
       "      <td>0.000</td>\n",
       "      <td>0.069</td>\n",
       "      <td>-0.000</td>\n",
       "      <td>-0.000</td>\n",
       "      <td>-0.000</td>\n",
       "      <td>-0.000</td>\n",
       "      <td>-0.000</td>\n",
       "      <td>0.000</td>\n",
       "      <td>-0.000</td>\n",
       "      <td>-0.000</td>\n",
       "      <td>22.533</td>\n",
       "    </tr>\n",
       "    <tr>\n",
       "      <th>std</th>\n",
       "      <td>1.001</td>\n",
       "      <td>1.001</td>\n",
       "      <td>0.254</td>\n",
       "      <td>1.001</td>\n",
       "      <td>1.001</td>\n",
       "      <td>1.001</td>\n",
       "      <td>1.001</td>\n",
       "      <td>1.001</td>\n",
       "      <td>1.001</td>\n",
       "      <td>1.001</td>\n",
       "      <td>1.001</td>\n",
       "      <td>9.197</td>\n",
       "    </tr>\n",
       "    <tr>\n",
       "      <th>min</th>\n",
       "      <td>-0.420</td>\n",
       "      <td>-0.488</td>\n",
       "      <td>0.000</td>\n",
       "      <td>-1.466</td>\n",
       "      <td>-3.880</td>\n",
       "      <td>-2.335</td>\n",
       "      <td>-1.267</td>\n",
       "      <td>-0.983</td>\n",
       "      <td>-1.314</td>\n",
       "      <td>-2.707</td>\n",
       "      <td>-1.531</td>\n",
       "      <td>5.000</td>\n",
       "    </tr>\n",
       "    <tr>\n",
       "      <th>25%</th>\n",
       "      <td>-0.411</td>\n",
       "      <td>-0.488</td>\n",
       "      <td>0.000</td>\n",
       "      <td>-0.913</td>\n",
       "      <td>-0.569</td>\n",
       "      <td>-0.837</td>\n",
       "      <td>-0.806</td>\n",
       "      <td>-0.638</td>\n",
       "      <td>-0.768</td>\n",
       "      <td>-0.488</td>\n",
       "      <td>-0.799</td>\n",
       "      <td>17.025</td>\n",
       "    </tr>\n",
       "    <tr>\n",
       "      <th>50%</th>\n",
       "      <td>-0.391</td>\n",
       "      <td>-0.488</td>\n",
       "      <td>0.000</td>\n",
       "      <td>-0.144</td>\n",
       "      <td>-0.108</td>\n",
       "      <td>0.317</td>\n",
       "      <td>-0.279</td>\n",
       "      <td>-0.523</td>\n",
       "      <td>-0.465</td>\n",
       "      <td>0.275</td>\n",
       "      <td>-0.181</td>\n",
       "      <td>21.200</td>\n",
       "    </tr>\n",
       "    <tr>\n",
       "      <th>75%</th>\n",
       "      <td>0.007</td>\n",
       "      <td>0.049</td>\n",
       "      <td>0.000</td>\n",
       "      <td>0.599</td>\n",
       "      <td>0.483</td>\n",
       "      <td>0.907</td>\n",
       "      <td>0.662</td>\n",
       "      <td>1.661</td>\n",
       "      <td>1.531</td>\n",
       "      <td>0.807</td>\n",
       "      <td>0.603</td>\n",
       "      <td>25.000</td>\n",
       "    </tr>\n",
       "    <tr>\n",
       "      <th>max</th>\n",
       "      <td>9.934</td>\n",
       "      <td>3.804</td>\n",
       "      <td>1.000</td>\n",
       "      <td>2.732</td>\n",
       "      <td>3.555</td>\n",
       "      <td>1.117</td>\n",
       "      <td>3.961</td>\n",
       "      <td>1.661</td>\n",
       "      <td>1.798</td>\n",
       "      <td>1.639</td>\n",
       "      <td>3.549</td>\n",
       "      <td>50.000</td>\n",
       "    </tr>\n",
       "  </tbody>\n",
       "</table>\n",
       "</div>"
      ],
      "text/plain": [
       "          CRIM       ZN     CHAS      NOX  ...      TAX  PTRATIO    LSTAT    price\n",
       "count  506.000  506.000  506.000  506.000  ...  506.000  506.000  506.000  506.000\n",
       "mean    -0.000    0.000    0.069   -0.000  ...    0.000   -0.000   -0.000   22.533\n",
       "std      1.001    1.001    0.254    1.001  ...    1.001    1.001    1.001    9.197\n",
       "min     -0.420   -0.488    0.000   -1.466  ...   -1.314   -2.707   -1.531    5.000\n",
       "25%     -0.411   -0.488    0.000   -0.913  ...   -0.768   -0.488   -0.799   17.025\n",
       "50%     -0.391   -0.488    0.000   -0.144  ...   -0.465    0.275   -0.181   21.200\n",
       "75%      0.007    0.049    0.000    0.599  ...    1.531    0.807    0.603   25.000\n",
       "max      9.934    3.804    1.000    2.732  ...    1.798    1.639    3.549   50.000\n",
       "\n",
       "[8 rows x 12 columns]"
      ]
     },
     "execution_count": 15,
     "metadata": {},
     "output_type": "execute_result"
    }
   ],
   "source": [
    "df.describe().round(3)"
   ]
  },
  {
   "cell_type": "code",
   "execution_count": 16,
   "metadata": {
    "ExecuteTime": {
     "end_time": "2020-03-04T00:57:46.130186Z",
     "start_time": "2020-03-04T00:57:46.101137Z"
    }
   },
   "outputs": [
    {
     "data": {
      "text/html": [
       "<div>\n",
       "<style scoped>\n",
       "    .dataframe tbody tr th:only-of-type {\n",
       "        vertical-align: middle;\n",
       "    }\n",
       "\n",
       "    .dataframe tbody tr th {\n",
       "        vertical-align: top;\n",
       "    }\n",
       "\n",
       "    .dataframe thead th {\n",
       "        text-align: right;\n",
       "    }\n",
       "</style>\n",
       "<table border=\"1\" class=\"dataframe\">\n",
       "  <thead>\n",
       "    <tr style=\"text-align: right;\">\n",
       "      <th></th>\n",
       "      <th>CRIM</th>\n",
       "      <th>ZN</th>\n",
       "      <th>CHAS</th>\n",
       "      <th>NOX</th>\n",
       "      <th>RM</th>\n",
       "      <th>AGE</th>\n",
       "      <th>DIS</th>\n",
       "      <th>RAD</th>\n",
       "      <th>TAX</th>\n",
       "      <th>PTRATIO</th>\n",
       "      <th>LSTAT</th>\n",
       "      <th>price</th>\n",
       "    </tr>\n",
       "  </thead>\n",
       "  <tbody>\n",
       "    <tr>\n",
       "      <th>380</th>\n",
       "      <td>9.933931</td>\n",
       "      <td>-0.487722</td>\n",
       "      <td>0</td>\n",
       "      <td>1.004680</td>\n",
       "      <td>0.973563</td>\n",
       "      <td>0.829454</td>\n",
       "      <td>-1.130686</td>\n",
       "      <td>1.661245</td>\n",
       "      <td>1.530926</td>\n",
       "      <td>0.806576</td>\n",
       "      <td>0.638763</td>\n",
       "      <td>10.4</td>\n",
       "    </tr>\n",
       "    <tr>\n",
       "      <th>398</th>\n",
       "      <td>4.042606</td>\n",
       "      <td>-0.487722</td>\n",
       "      <td>0</td>\n",
       "      <td>1.194724</td>\n",
       "      <td>-1.184795</td>\n",
       "      <td>1.117494</td>\n",
       "      <td>-1.095936</td>\n",
       "      <td>1.661245</td>\n",
       "      <td>1.530926</td>\n",
       "      <td>0.806576</td>\n",
       "      <td>2.514288</td>\n",
       "      <td>5.0</td>\n",
       "    </tr>\n",
       "    <tr>\n",
       "      <th>404</th>\n",
       "      <td>4.412370</td>\n",
       "      <td>-0.487722</td>\n",
       "      <td>0</td>\n",
       "      <td>1.194724</td>\n",
       "      <td>-1.073672</td>\n",
       "      <td>0.598310</td>\n",
       "      <td>-1.039938</td>\n",
       "      <td>1.661245</td>\n",
       "      <td>1.530926</td>\n",
       "      <td>0.806576</td>\n",
       "      <td>2.064330</td>\n",
       "      <td>8.5</td>\n",
       "    </tr>\n",
       "    <tr>\n",
       "      <th>405</th>\n",
       "      <td>7.483646</td>\n",
       "      <td>-0.487722</td>\n",
       "      <td>0</td>\n",
       "      <td>1.194724</td>\n",
       "      <td>-0.857124</td>\n",
       "      <td>1.117494</td>\n",
       "      <td>-1.126455</td>\n",
       "      <td>1.661245</td>\n",
       "      <td>1.530926</td>\n",
       "      <td>0.806576</td>\n",
       "      <td>1.447566</td>\n",
       "      <td>5.0</td>\n",
       "    </tr>\n",
       "    <tr>\n",
       "      <th>410</th>\n",
       "      <td>5.530321</td>\n",
       "      <td>-0.487722</td>\n",
       "      <td>0</td>\n",
       "      <td>0.365444</td>\n",
       "      <td>-0.751699</td>\n",
       "      <td>1.117494</td>\n",
       "      <td>-1.132350</td>\n",
       "      <td>1.661245</td>\n",
       "      <td>1.530926</td>\n",
       "      <td>0.806576</td>\n",
       "      <td>-0.356471</td>\n",
       "      <td>15.0</td>\n",
       "    </tr>\n",
       "    <tr>\n",
       "      <th>414</th>\n",
       "      <td>4.903104</td>\n",
       "      <td>-0.487722</td>\n",
       "      <td>0</td>\n",
       "      <td>1.194724</td>\n",
       "      <td>-2.515426</td>\n",
       "      <td>1.117494</td>\n",
       "      <td>-1.015789</td>\n",
       "      <td>1.661245</td>\n",
       "      <td>1.530926</td>\n",
       "      <td>0.806576</td>\n",
       "      <td>3.409999</td>\n",
       "      <td>7.0</td>\n",
       "    </tr>\n",
       "    <tr>\n",
       "      <th>418</th>\n",
       "      <td>8.136884</td>\n",
       "      <td>-0.487722</td>\n",
       "      <td>0</td>\n",
       "      <td>1.073787</td>\n",
       "      <td>-0.466767</td>\n",
       "      <td>1.117494</td>\n",
       "      <td>-0.947146</td>\n",
       "      <td>1.661245</td>\n",
       "      <td>1.530926</td>\n",
       "      <td>0.806576</td>\n",
       "      <td>1.116756</td>\n",
       "      <td>8.8</td>\n",
       "    </tr>\n",
       "    <tr>\n",
       "      <th>427</th>\n",
       "      <td>3.962320</td>\n",
       "      <td>-0.487722</td>\n",
       "      <td>0</td>\n",
       "      <td>1.073787</td>\n",
       "      <td>-0.117726</td>\n",
       "      <td>0.360054</td>\n",
       "      <td>-0.918481</td>\n",
       "      <td>1.661245</td>\n",
       "      <td>1.530926</td>\n",
       "      <td>0.806576</td>\n",
       "      <td>0.261696</td>\n",
       "      <td>10.9</td>\n",
       "    </tr>\n",
       "  </tbody>\n",
       "</table>\n",
       "</div>"
      ],
      "text/plain": [
       "         CRIM        ZN  CHAS       NOX  ...       TAX   PTRATIO     LSTAT  price\n",
       "380  9.933931 -0.487722     0  1.004680  ...  1.530926  0.806576  0.638763   10.4\n",
       "398  4.042606 -0.487722     0  1.194724  ...  1.530926  0.806576  2.514288    5.0\n",
       "404  4.412370 -0.487722     0  1.194724  ...  1.530926  0.806576  2.064330    8.5\n",
       "405  7.483646 -0.487722     0  1.194724  ...  1.530926  0.806576  1.447566    5.0\n",
       "410  5.530321 -0.487722     0  0.365444  ...  1.530926  0.806576 -0.356471   15.0\n",
       "414  4.903104 -0.487722     0  1.194724  ...  1.530926  0.806576  3.409999    7.0\n",
       "418  8.136884 -0.487722     0  1.073787  ...  1.530926  0.806576  1.116756    8.8\n",
       "427  3.962320 -0.487722     0  1.073787  ...  1.530926  0.806576  0.261696   10.9\n",
       "\n",
       "[8 rows x 12 columns]"
      ]
     },
     "execution_count": 16,
     "metadata": {},
     "output_type": "execute_result"
    }
   ],
   "source": [
    "# deal with outliers in numeric non-target columns\n",
    "idx_out = fs.find_outliers_Z(df['CRIM'])\n",
    "df.loc[idx_out]"
   ]
  },
  {
   "cell_type": "code",
   "execution_count": 17,
   "metadata": {
    "ExecuteTime": {
     "end_time": "2020-03-04T00:57:46.172566Z",
     "start_time": "2020-03-04T00:57:46.131641Z"
    }
   },
   "outputs": [
    {
     "data": {
      "text/html": [
       "<div>\n",
       "<style scoped>\n",
       "    .dataframe tbody tr th:only-of-type {\n",
       "        vertical-align: middle;\n",
       "    }\n",
       "\n",
       "    .dataframe tbody tr th {\n",
       "        vertical-align: top;\n",
       "    }\n",
       "\n",
       "    .dataframe thead th {\n",
       "        text-align: right;\n",
       "    }\n",
       "</style>\n",
       "<table border=\"1\" class=\"dataframe\">\n",
       "  <thead>\n",
       "    <tr style=\"text-align: right;\">\n",
       "      <th></th>\n",
       "      <th>CRIM</th>\n",
       "      <th>ZN</th>\n",
       "      <th>NOX</th>\n",
       "      <th>RM</th>\n",
       "      <th>AGE</th>\n",
       "      <th>DIS</th>\n",
       "      <th>RAD</th>\n",
       "      <th>TAX</th>\n",
       "      <th>PTRATIO</th>\n",
       "      <th>LSTAT</th>\n",
       "    </tr>\n",
       "  </thead>\n",
       "  <tbody>\n",
       "    <tr>\n",
       "      <th>0</th>\n",
       "      <td>False</td>\n",
       "      <td>False</td>\n",
       "      <td>False</td>\n",
       "      <td>False</td>\n",
       "      <td>False</td>\n",
       "      <td>False</td>\n",
       "      <td>False</td>\n",
       "      <td>False</td>\n",
       "      <td>False</td>\n",
       "      <td>False</td>\n",
       "    </tr>\n",
       "    <tr>\n",
       "      <th>1</th>\n",
       "      <td>False</td>\n",
       "      <td>False</td>\n",
       "      <td>False</td>\n",
       "      <td>False</td>\n",
       "      <td>False</td>\n",
       "      <td>False</td>\n",
       "      <td>False</td>\n",
       "      <td>False</td>\n",
       "      <td>False</td>\n",
       "      <td>False</td>\n",
       "    </tr>\n",
       "    <tr>\n",
       "      <th>2</th>\n",
       "      <td>False</td>\n",
       "      <td>False</td>\n",
       "      <td>False</td>\n",
       "      <td>False</td>\n",
       "      <td>False</td>\n",
       "      <td>False</td>\n",
       "      <td>False</td>\n",
       "      <td>False</td>\n",
       "      <td>False</td>\n",
       "      <td>False</td>\n",
       "    </tr>\n",
       "    <tr>\n",
       "      <th>3</th>\n",
       "      <td>False</td>\n",
       "      <td>False</td>\n",
       "      <td>False</td>\n",
       "      <td>False</td>\n",
       "      <td>False</td>\n",
       "      <td>False</td>\n",
       "      <td>False</td>\n",
       "      <td>False</td>\n",
       "      <td>False</td>\n",
       "      <td>False</td>\n",
       "    </tr>\n",
       "    <tr>\n",
       "      <th>4</th>\n",
       "      <td>False</td>\n",
       "      <td>False</td>\n",
       "      <td>False</td>\n",
       "      <td>False</td>\n",
       "      <td>False</td>\n",
       "      <td>False</td>\n",
       "      <td>False</td>\n",
       "      <td>False</td>\n",
       "      <td>False</td>\n",
       "      <td>False</td>\n",
       "    </tr>\n",
       "    <tr>\n",
       "      <th>...</th>\n",
       "      <td>...</td>\n",
       "      <td>...</td>\n",
       "      <td>...</td>\n",
       "      <td>...</td>\n",
       "      <td>...</td>\n",
       "      <td>...</td>\n",
       "      <td>...</td>\n",
       "      <td>...</td>\n",
       "      <td>...</td>\n",
       "      <td>...</td>\n",
       "    </tr>\n",
       "    <tr>\n",
       "      <th>501</th>\n",
       "      <td>False</td>\n",
       "      <td>False</td>\n",
       "      <td>False</td>\n",
       "      <td>False</td>\n",
       "      <td>False</td>\n",
       "      <td>False</td>\n",
       "      <td>False</td>\n",
       "      <td>False</td>\n",
       "      <td>False</td>\n",
       "      <td>False</td>\n",
       "    </tr>\n",
       "    <tr>\n",
       "      <th>502</th>\n",
       "      <td>False</td>\n",
       "      <td>False</td>\n",
       "      <td>False</td>\n",
       "      <td>False</td>\n",
       "      <td>False</td>\n",
       "      <td>False</td>\n",
       "      <td>False</td>\n",
       "      <td>False</td>\n",
       "      <td>False</td>\n",
       "      <td>False</td>\n",
       "    </tr>\n",
       "    <tr>\n",
       "      <th>503</th>\n",
       "      <td>False</td>\n",
       "      <td>False</td>\n",
       "      <td>False</td>\n",
       "      <td>False</td>\n",
       "      <td>False</td>\n",
       "      <td>False</td>\n",
       "      <td>False</td>\n",
       "      <td>False</td>\n",
       "      <td>False</td>\n",
       "      <td>False</td>\n",
       "    </tr>\n",
       "    <tr>\n",
       "      <th>504</th>\n",
       "      <td>False</td>\n",
       "      <td>False</td>\n",
       "      <td>False</td>\n",
       "      <td>False</td>\n",
       "      <td>False</td>\n",
       "      <td>False</td>\n",
       "      <td>False</td>\n",
       "      <td>False</td>\n",
       "      <td>False</td>\n",
       "      <td>False</td>\n",
       "    </tr>\n",
       "    <tr>\n",
       "      <th>505</th>\n",
       "      <td>False</td>\n",
       "      <td>False</td>\n",
       "      <td>False</td>\n",
       "      <td>False</td>\n",
       "      <td>False</td>\n",
       "      <td>False</td>\n",
       "      <td>False</td>\n",
       "      <td>False</td>\n",
       "      <td>False</td>\n",
       "      <td>False</td>\n",
       "    </tr>\n",
       "  </tbody>\n",
       "</table>\n",
       "<p>506 rows × 10 columns</p>\n",
       "</div>"
      ],
      "text/plain": [
       "      CRIM     ZN    NOX     RM    AGE    DIS    RAD    TAX  PTRATIO  LSTAT\n",
       "0    False  False  False  False  False  False  False  False    False  False\n",
       "1    False  False  False  False  False  False  False  False    False  False\n",
       "2    False  False  False  False  False  False  False  False    False  False\n",
       "3    False  False  False  False  False  False  False  False    False  False\n",
       "4    False  False  False  False  False  False  False  False    False  False\n",
       "..     ...    ...    ...    ...    ...    ...    ...    ...      ...    ...\n",
       "501  False  False  False  False  False  False  False  False    False  False\n",
       "502  False  False  False  False  False  False  False  False    False  False\n",
       "503  False  False  False  False  False  False  False  False    False  False\n",
       "504  False  False  False  False  False  False  False  False    False  False\n",
       "505  False  False  False  False  False  False  False  False    False  False\n",
       "\n",
       "[506 rows x 10 columns]"
      ]
     },
     "execution_count": 17,
     "metadata": {},
     "output_type": "execute_result"
    }
   ],
   "source": [
    "df_outs = pd.DataFrame()\n",
    "## Find outliers\n",
    "for col in num_cols:\n",
    "    idx_outs = fs.find_outliers_Z(df[col])\n",
    "    df_outs[col]= idx_outs\n",
    "df_outs"
   ]
  },
  {
   "cell_type": "code",
   "execution_count": 18,
   "metadata": {
    "ExecuteTime": {
     "end_time": "2020-03-04T00:57:46.182607Z",
     "start_time": "2020-03-04T00:57:46.173868Z"
    }
   },
   "outputs": [
    {
     "data": {
      "text/plain": [
       "0      False\n",
       "1      False\n",
       "2      False\n",
       "3      False\n",
       "4      False\n",
       "       ...  \n",
       "501    False\n",
       "502    False\n",
       "503    False\n",
       "504    False\n",
       "505    False\n",
       "Length: 506, dtype: bool"
      ]
     },
     "execution_count": 18,
     "metadata": {},
     "output_type": "execute_result"
    }
   ],
   "source": [
    "## Remove outliers\n",
    "out_rows = df_outs.any(axis=1)\n",
    "out_rows"
   ]
  },
  {
   "cell_type": "code",
   "execution_count": 19,
   "metadata": {
    "ExecuteTime": {
     "end_time": "2020-03-04T00:57:46.236172Z",
     "start_time": "2020-03-04T00:57:46.184640Z"
    }
   },
   "outputs": [
    {
     "data": {
      "text/html": [
       "<div>\n",
       "<style scoped>\n",
       "    .dataframe tbody tr th:only-of-type {\n",
       "        vertical-align: middle;\n",
       "    }\n",
       "\n",
       "    .dataframe tbody tr th {\n",
       "        vertical-align: top;\n",
       "    }\n",
       "\n",
       "    .dataframe thead th {\n",
       "        text-align: right;\n",
       "    }\n",
       "</style>\n",
       "<table border=\"1\" class=\"dataframe\">\n",
       "  <thead>\n",
       "    <tr style=\"text-align: right;\">\n",
       "      <th></th>\n",
       "      <th>CRIM</th>\n",
       "      <th>ZN</th>\n",
       "      <th>CHAS</th>\n",
       "      <th>NOX</th>\n",
       "      <th>RM</th>\n",
       "      <th>AGE</th>\n",
       "      <th>DIS</th>\n",
       "      <th>RAD</th>\n",
       "      <th>TAX</th>\n",
       "      <th>PTRATIO</th>\n",
       "      <th>LSTAT</th>\n",
       "      <th>price</th>\n",
       "    </tr>\n",
       "  </thead>\n",
       "  <tbody>\n",
       "    <tr>\n",
       "      <th>0</th>\n",
       "      <td>-0.419782</td>\n",
       "      <td>0.284830</td>\n",
       "      <td>0</td>\n",
       "      <td>-0.144217</td>\n",
       "      <td>0.413672</td>\n",
       "      <td>-0.120013</td>\n",
       "      <td>0.140214</td>\n",
       "      <td>-0.982843</td>\n",
       "      <td>-0.666608</td>\n",
       "      <td>-1.459000</td>\n",
       "      <td>-1.075562</td>\n",
       "      <td>24.0</td>\n",
       "    </tr>\n",
       "    <tr>\n",
       "      <th>1</th>\n",
       "      <td>-0.417339</td>\n",
       "      <td>-0.487722</td>\n",
       "      <td>0</td>\n",
       "      <td>-0.740262</td>\n",
       "      <td>0.194274</td>\n",
       "      <td>0.367166</td>\n",
       "      <td>0.557160</td>\n",
       "      <td>-0.867883</td>\n",
       "      <td>-0.987329</td>\n",
       "      <td>-0.303094</td>\n",
       "      <td>-0.492439</td>\n",
       "      <td>21.6</td>\n",
       "    </tr>\n",
       "    <tr>\n",
       "      <th>2</th>\n",
       "      <td>-0.417342</td>\n",
       "      <td>-0.487722</td>\n",
       "      <td>0</td>\n",
       "      <td>-0.740262</td>\n",
       "      <td>1.282714</td>\n",
       "      <td>-0.265812</td>\n",
       "      <td>0.557160</td>\n",
       "      <td>-0.867883</td>\n",
       "      <td>-0.987329</td>\n",
       "      <td>-0.303094</td>\n",
       "      <td>-1.208727</td>\n",
       "      <td>34.7</td>\n",
       "    </tr>\n",
       "    <tr>\n",
       "      <th>3</th>\n",
       "      <td>-0.416750</td>\n",
       "      <td>-0.487722</td>\n",
       "      <td>0</td>\n",
       "      <td>-0.835284</td>\n",
       "      <td>1.016303</td>\n",
       "      <td>-0.809889</td>\n",
       "      <td>1.077737</td>\n",
       "      <td>-0.752922</td>\n",
       "      <td>-1.106115</td>\n",
       "      <td>0.113032</td>\n",
       "      <td>-1.361517</td>\n",
       "      <td>33.4</td>\n",
       "    </tr>\n",
       "    <tr>\n",
       "      <th>4</th>\n",
       "      <td>-0.412482</td>\n",
       "      <td>-0.487722</td>\n",
       "      <td>0</td>\n",
       "      <td>-0.835284</td>\n",
       "      <td>1.228577</td>\n",
       "      <td>-0.511180</td>\n",
       "      <td>1.077737</td>\n",
       "      <td>-0.752922</td>\n",
       "      <td>-1.106115</td>\n",
       "      <td>0.113032</td>\n",
       "      <td>-1.026501</td>\n",
       "      <td>36.2</td>\n",
       "    </tr>\n",
       "    <tr>\n",
       "      <th>...</th>\n",
       "      <td>...</td>\n",
       "      <td>...</td>\n",
       "      <td>...</td>\n",
       "      <td>...</td>\n",
       "      <td>...</td>\n",
       "      <td>...</td>\n",
       "      <td>...</td>\n",
       "      <td>...</td>\n",
       "      <td>...</td>\n",
       "      <td>...</td>\n",
       "      <td>...</td>\n",
       "      <td>...</td>\n",
       "    </tr>\n",
       "    <tr>\n",
       "      <th>501</th>\n",
       "      <td>-0.413229</td>\n",
       "      <td>-0.487722</td>\n",
       "      <td>0</td>\n",
       "      <td>0.158124</td>\n",
       "      <td>0.439316</td>\n",
       "      <td>0.018673</td>\n",
       "      <td>-0.625796</td>\n",
       "      <td>-0.982843</td>\n",
       "      <td>-0.803212</td>\n",
       "      <td>1.176466</td>\n",
       "      <td>-0.418147</td>\n",
       "      <td>22.4</td>\n",
       "    </tr>\n",
       "    <tr>\n",
       "      <th>502</th>\n",
       "      <td>-0.415249</td>\n",
       "      <td>-0.487722</td>\n",
       "      <td>0</td>\n",
       "      <td>0.158124</td>\n",
       "      <td>-0.234548</td>\n",
       "      <td>0.288933</td>\n",
       "      <td>-0.716639</td>\n",
       "      <td>-0.982843</td>\n",
       "      <td>-0.803212</td>\n",
       "      <td>1.176466</td>\n",
       "      <td>-0.500850</td>\n",
       "      <td>20.6</td>\n",
       "    </tr>\n",
       "    <tr>\n",
       "      <th>503</th>\n",
       "      <td>-0.413447</td>\n",
       "      <td>-0.487722</td>\n",
       "      <td>0</td>\n",
       "      <td>0.158124</td>\n",
       "      <td>0.984960</td>\n",
       "      <td>0.797449</td>\n",
       "      <td>-0.773684</td>\n",
       "      <td>-0.982843</td>\n",
       "      <td>-0.803212</td>\n",
       "      <td>1.176466</td>\n",
       "      <td>-0.983048</td>\n",
       "      <td>23.9</td>\n",
       "    </tr>\n",
       "    <tr>\n",
       "      <th>504</th>\n",
       "      <td>-0.407764</td>\n",
       "      <td>-0.487722</td>\n",
       "      <td>0</td>\n",
       "      <td>0.158124</td>\n",
       "      <td>0.725672</td>\n",
       "      <td>0.736996</td>\n",
       "      <td>-0.668437</td>\n",
       "      <td>-0.982843</td>\n",
       "      <td>-0.803212</td>\n",
       "      <td>1.176466</td>\n",
       "      <td>-0.865302</td>\n",
       "      <td>22.0</td>\n",
       "    </tr>\n",
       "    <tr>\n",
       "      <th>505</th>\n",
       "      <td>-0.415000</td>\n",
       "      <td>-0.487722</td>\n",
       "      <td>0</td>\n",
       "      <td>0.158124</td>\n",
       "      <td>-0.362767</td>\n",
       "      <td>0.434732</td>\n",
       "      <td>-0.613246</td>\n",
       "      <td>-0.982843</td>\n",
       "      <td>-0.803212</td>\n",
       "      <td>1.176466</td>\n",
       "      <td>-0.669058</td>\n",
       "      <td>11.9</td>\n",
       "    </tr>\n",
       "  </tbody>\n",
       "</table>\n",
       "<p>469 rows × 12 columns</p>\n",
       "</div>"
      ],
      "text/plain": [
       "         CRIM        ZN  CHAS       NOX  ...       TAX   PTRATIO     LSTAT  price\n",
       "0   -0.419782  0.284830     0 -0.144217  ... -0.666608 -1.459000 -1.075562   24.0\n",
       "1   -0.417339 -0.487722     0 -0.740262  ... -0.987329 -0.303094 -0.492439   21.6\n",
       "2   -0.417342 -0.487722     0 -0.740262  ... -0.987329 -0.303094 -1.208727   34.7\n",
       "3   -0.416750 -0.487722     0 -0.835284  ... -1.106115  0.113032 -1.361517   33.4\n",
       "4   -0.412482 -0.487722     0 -0.835284  ... -1.106115  0.113032 -1.026501   36.2\n",
       "..        ...       ...   ...       ...  ...       ...       ...       ...    ...\n",
       "501 -0.413229 -0.487722     0  0.158124  ... -0.803212  1.176466 -0.418147   22.4\n",
       "502 -0.415249 -0.487722     0  0.158124  ... -0.803212  1.176466 -0.500850   20.6\n",
       "503 -0.413447 -0.487722     0  0.158124  ... -0.803212  1.176466 -0.983048   23.9\n",
       "504 -0.407764 -0.487722     0  0.158124  ... -0.803212  1.176466 -0.865302   22.0\n",
       "505 -0.415000 -0.487722     0  0.158124  ... -0.803212  1.176466 -0.669058   11.9\n",
       "\n",
       "[469 rows x 12 columns]"
      ]
     },
     "execution_count": 19,
     "metadata": {},
     "output_type": "execute_result"
    }
   ],
   "source": [
    "df = df.loc[~out_rows]\n",
    "df"
   ]
  },
  {
   "cell_type": "code",
   "execution_count": 20,
   "metadata": {
    "ExecuteTime": {
     "end_time": "2020-03-04T00:57:46.313183Z",
     "start_time": "2020-03-04T00:57:46.237667Z"
    }
   },
   "outputs": [
    {
     "data": {
      "text/html": [
       "<div>\n",
       "<style scoped>\n",
       "    .dataframe tbody tr th:only-of-type {\n",
       "        vertical-align: middle;\n",
       "    }\n",
       "\n",
       "    .dataframe tbody tr th {\n",
       "        vertical-align: top;\n",
       "    }\n",
       "\n",
       "    .dataframe thead th {\n",
       "        text-align: right;\n",
       "    }\n",
       "</style>\n",
       "<table border=\"1\" class=\"dataframe\">\n",
       "  <thead>\n",
       "    <tr style=\"text-align: right;\">\n",
       "      <th></th>\n",
       "      <th>CRIM</th>\n",
       "      <th>ZN</th>\n",
       "      <th>CHAS</th>\n",
       "      <th>NOX</th>\n",
       "      <th>RM</th>\n",
       "      <th>AGE</th>\n",
       "      <th>DIS</th>\n",
       "      <th>RAD</th>\n",
       "      <th>TAX</th>\n",
       "      <th>PTRATIO</th>\n",
       "      <th>LSTAT</th>\n",
       "      <th>price</th>\n",
       "    </tr>\n",
       "  </thead>\n",
       "  <tbody>\n",
       "    <tr>\n",
       "      <th>count</th>\n",
       "      <td>469.000</td>\n",
       "      <td>469.000</td>\n",
       "      <td>469.000</td>\n",
       "      <td>469.000</td>\n",
       "      <td>469.000</td>\n",
       "      <td>469.000</td>\n",
       "      <td>469.000</td>\n",
       "      <td>469.000</td>\n",
       "      <td>469.000</td>\n",
       "      <td>469.000</td>\n",
       "      <td>469.000</td>\n",
       "      <td>469.000</td>\n",
       "    </tr>\n",
       "    <tr>\n",
       "      <th>mean</th>\n",
       "      <td>-0.101</td>\n",
       "      <td>-0.107</td>\n",
       "      <td>0.070</td>\n",
       "      <td>0.012</td>\n",
       "      <td>-0.007</td>\n",
       "      <td>0.020</td>\n",
       "      <td>-0.038</td>\n",
       "      <td>-0.022</td>\n",
       "      <td>-0.021</td>\n",
       "      <td>0.012</td>\n",
       "      <td>-0.003</td>\n",
       "      <td>22.287</td>\n",
       "    </tr>\n",
       "    <tr>\n",
       "      <th>std</th>\n",
       "      <td>0.582</td>\n",
       "      <td>0.812</td>\n",
       "      <td>0.256</td>\n",
       "      <td>0.991</td>\n",
       "      <td>0.876</td>\n",
       "      <td>0.978</td>\n",
       "      <td>0.912</td>\n",
       "      <td>0.985</td>\n",
       "      <td>0.990</td>\n",
       "      <td>0.982</td>\n",
       "      <td>0.937</td>\n",
       "      <td>8.622</td>\n",
       "    </tr>\n",
       "    <tr>\n",
       "      <th>min</th>\n",
       "      <td>-0.420</td>\n",
       "      <td>-0.488</td>\n",
       "      <td>0.000</td>\n",
       "      <td>-1.466</td>\n",
       "      <td>-2.731</td>\n",
       "      <td>-2.335</td>\n",
       "      <td>-1.267</td>\n",
       "      <td>-0.983</td>\n",
       "      <td>-1.308</td>\n",
       "      <td>-2.707</td>\n",
       "      <td>-1.531</td>\n",
       "      <td>5.600</td>\n",
       "    </tr>\n",
       "    <tr>\n",
       "      <th>25%</th>\n",
       "      <td>-0.410</td>\n",
       "      <td>-0.488</td>\n",
       "      <td>0.000</td>\n",
       "      <td>-0.835</td>\n",
       "      <td>-0.561</td>\n",
       "      <td>-0.760</td>\n",
       "      <td>-0.795</td>\n",
       "      <td>-0.638</td>\n",
       "      <td>-0.768</td>\n",
       "      <td>-0.488</td>\n",
       "      <td>-0.741</td>\n",
       "      <td>17.100</td>\n",
       "    </tr>\n",
       "    <tr>\n",
       "      <th>50%</th>\n",
       "      <td>-0.391</td>\n",
       "      <td>-0.488</td>\n",
       "      <td>0.000</td>\n",
       "      <td>-0.144</td>\n",
       "      <td>-0.109</td>\n",
       "      <td>0.310</td>\n",
       "      <td>-0.275</td>\n",
       "      <td>-0.523</td>\n",
       "      <td>-0.465</td>\n",
       "      <td>0.298</td>\n",
       "      <td>-0.142</td>\n",
       "      <td>21.100</td>\n",
       "    </tr>\n",
       "    <tr>\n",
       "      <th>75%</th>\n",
       "      <td>-0.052</td>\n",
       "      <td>-0.488</td>\n",
       "      <td>0.000</td>\n",
       "      <td>0.599</td>\n",
       "      <td>0.439</td>\n",
       "      <td>0.901</td>\n",
       "      <td>0.557</td>\n",
       "      <td>-0.178</td>\n",
       "      <td>1.531</td>\n",
       "      <td>0.807</td>\n",
       "      <td>0.595</td>\n",
       "      <td>24.800</td>\n",
       "    </tr>\n",
       "    <tr>\n",
       "      <th>max</th>\n",
       "      <td>2.914</td>\n",
       "      <td>2.946</td>\n",
       "      <td>1.000</td>\n",
       "      <td>2.732</td>\n",
       "      <td>2.978</td>\n",
       "      <td>1.117</td>\n",
       "      <td>2.580</td>\n",
       "      <td>1.661</td>\n",
       "      <td>1.798</td>\n",
       "      <td>1.269</td>\n",
       "      <td>2.995</td>\n",
       "      <td>50.000</td>\n",
       "    </tr>\n",
       "  </tbody>\n",
       "</table>\n",
       "</div>"
      ],
      "text/plain": [
       "          CRIM       ZN     CHAS      NOX  ...      TAX  PTRATIO    LSTAT    price\n",
       "count  469.000  469.000  469.000  469.000  ...  469.000  469.000  469.000  469.000\n",
       "mean    -0.101   -0.107    0.070    0.012  ...   -0.021    0.012   -0.003   22.287\n",
       "std      0.582    0.812    0.256    0.991  ...    0.990    0.982    0.937    8.622\n",
       "min     -0.420   -0.488    0.000   -1.466  ...   -1.308   -2.707   -1.531    5.600\n",
       "25%     -0.410   -0.488    0.000   -0.835  ...   -0.768   -0.488   -0.741   17.100\n",
       "50%     -0.391   -0.488    0.000   -0.144  ...   -0.465    0.298   -0.142   21.100\n",
       "75%     -0.052   -0.488    0.000    0.599  ...    1.531    0.807    0.595   24.800\n",
       "max      2.914    2.946    1.000    2.732  ...    1.798    1.269    2.995   50.000\n",
       "\n",
       "[8 rows x 12 columns]"
      ]
     },
     "execution_count": 20,
     "metadata": {},
     "output_type": "execute_result"
    }
   ],
   "source": [
    "df.describe().round(3)"
   ]
  },
  {
   "cell_type": "code",
   "execution_count": 21,
   "metadata": {
    "ExecuteTime": {
     "end_time": "2020-03-04T00:57:46.320282Z",
     "start_time": "2020-03-04T00:57:46.315018Z"
    }
   },
   "outputs": [
    {
     "data": {
      "text/plain": [
       "['CRIM',\n",
       " 'ZN',\n",
       " 'CHAS',\n",
       " 'NOX',\n",
       " 'RM',\n",
       " 'AGE',\n",
       " 'DIS',\n",
       " 'RAD',\n",
       " 'TAX',\n",
       " 'PTRATIO',\n",
       " 'LSTAT']"
      ]
     },
     "execution_count": 21,
     "metadata": {},
     "output_type": "execute_result"
    }
   ],
   "source": [
    "target='price'\n",
    "col_list = list(df.drop(target,axis=1).columns)\n",
    "col_list"
   ]
  },
  {
   "cell_type": "code",
   "execution_count": 22,
   "metadata": {
    "ExecuteTime": {
     "end_time": "2020-03-04T00:57:46.348980Z",
     "start_time": "2020-03-04T00:57:46.345966Z"
    }
   },
   "outputs": [
    {
     "data": {
      "text/html": [
       "<table class=\"simpletable\">\n",
       "<caption>OLS Regression Results</caption>\n",
       "<tr>\n",
       "  <th>Dep. Variable:</th>          <td>price</td>      <th>  R-squared:         </th> <td>   0.735</td> \n",
       "</tr>\n",
       "<tr>\n",
       "  <th>Model:</th>                   <td>OLS</td>       <th>  Adj. R-squared:    </th> <td>   0.729</td> \n",
       "</tr>\n",
       "<tr>\n",
       "  <th>Method:</th>             <td>Least Squares</td>  <th>  F-statistic:       </th> <td>   115.2</td> \n",
       "</tr>\n",
       "<tr>\n",
       "  <th>Date:</th>             <td>Tue, 13 Apr 2021</td> <th>  Prob (F-statistic):</th> <td>3.40e-124</td>\n",
       "</tr>\n",
       "<tr>\n",
       "  <th>Time:</th>                 <td>12:56:35</td>     <th>  Log-Likelihood:    </th> <td> -1363.9</td> \n",
       "</tr>\n",
       "<tr>\n",
       "  <th>No. Observations:</th>      <td>   469</td>      <th>  AIC:               </th> <td>   2752.</td> \n",
       "</tr>\n",
       "<tr>\n",
       "  <th>Df Residuals:</th>          <td>   457</td>      <th>  BIC:               </th> <td>   2802.</td> \n",
       "</tr>\n",
       "<tr>\n",
       "  <th>Df Model:</th>              <td>    11</td>      <th>                     </th>     <td> </td>    \n",
       "</tr>\n",
       "<tr>\n",
       "  <th>Covariance Type:</th>      <td>nonrobust</td>    <th>                     </th>     <td> </td>    \n",
       "</tr>\n",
       "</table>\n",
       "<table class=\"simpletable\">\n",
       "<tr>\n",
       "      <td></td>         <th>coef</th>     <th>std err</th>      <th>t</th>      <th>P>|t|</th>  <th>[0.025</th>    <th>0.975]</th>  \n",
       "</tr>\n",
       "<tr>\n",
       "  <th>Intercept</th> <td>   21.8876</td> <td>    0.224</td> <td>   97.758</td> <td> 0.000</td> <td>   21.448</td> <td>   22.328</td>\n",
       "</tr>\n",
       "<tr>\n",
       "  <th>CRIM</th>      <td>   -1.4183</td> <td>    0.661</td> <td>   -2.145</td> <td> 0.032</td> <td>   -2.718</td> <td>   -0.119</td>\n",
       "</tr>\n",
       "<tr>\n",
       "  <th>ZN</th>        <td>    0.1895</td> <td>    0.359</td> <td>    0.528</td> <td> 0.598</td> <td>   -0.516</td> <td>    0.895</td>\n",
       "</tr>\n",
       "<tr>\n",
       "  <th>CHAS</th>      <td>    3.4029</td> <td>    0.837</td> <td>    4.067</td> <td> 0.000</td> <td>    1.759</td> <td>    5.047</td>\n",
       "</tr>\n",
       "<tr>\n",
       "  <th>NOX</th>       <td>   -1.8117</td> <td>    0.421</td> <td>   -4.299</td> <td> 0.000</td> <td>   -2.640</td> <td>   -0.984</td>\n",
       "</tr>\n",
       "<tr>\n",
       "  <th>RM</th>        <td>    3.0758</td> <td>    0.325</td> <td>    9.474</td> <td> 0.000</td> <td>    2.438</td> <td>    3.714</td>\n",
       "</tr>\n",
       "<tr>\n",
       "  <th>AGE</th>       <td>   -0.0989</td> <td>    0.363</td> <td>   -0.273</td> <td> 0.785</td> <td>   -0.811</td> <td>    0.614</td>\n",
       "</tr>\n",
       "<tr>\n",
       "  <th>DIS</th>       <td>   -2.7331</td> <td>    0.428</td> <td>   -6.393</td> <td> 0.000</td> <td>   -3.573</td> <td>   -1.893</td>\n",
       "</tr>\n",
       "<tr>\n",
       "  <th>RAD</th>       <td>    2.1251</td> <td>    0.599</td> <td>    3.545</td> <td> 0.000</td> <td>    0.947</td> <td>    3.303</td>\n",
       "</tr>\n",
       "<tr>\n",
       "  <th>TAX</th>       <td>   -1.6301</td> <td>    0.557</td> <td>   -2.926</td> <td> 0.004</td> <td>   -2.725</td> <td>   -0.535</td>\n",
       "</tr>\n",
       "<tr>\n",
       "  <th>PTRATIO</th>   <td>   -1.9158</td> <td>    0.278</td> <td>   -6.897</td> <td> 0.000</td> <td>   -2.462</td> <td>   -1.370</td>\n",
       "</tr>\n",
       "<tr>\n",
       "  <th>LSTAT</th>     <td>   -4.0839</td> <td>    0.386</td> <td>  -10.579</td> <td> 0.000</td> <td>   -4.843</td> <td>   -3.325</td>\n",
       "</tr>\n",
       "</table>\n",
       "<table class=\"simpletable\">\n",
       "<tr>\n",
       "  <th>Omnibus:</th>       <td>205.669</td> <th>  Durbin-Watson:     </th> <td>   1.118</td> \n",
       "</tr>\n",
       "<tr>\n",
       "  <th>Prob(Omnibus):</th> <td> 0.000</td>  <th>  Jarque-Bera (JB):  </th> <td>1292.504</td> \n",
       "</tr>\n",
       "<tr>\n",
       "  <th>Skew:</th>          <td> 1.795</td>  <th>  Prob(JB):          </th> <td>2.17e-281</td>\n",
       "</tr>\n",
       "<tr>\n",
       "  <th>Kurtosis:</th>      <td>10.298</td>  <th>  Cond. No.          </th> <td>    8.98</td> \n",
       "</tr>\n",
       "</table><br/><br/>Notes:<br/>[1] Standard Errors assume that the covariance matrix of the errors is correctly specified."
      ],
      "text/plain": [
       "<class 'statsmodels.iolib.summary.Summary'>\n",
       "\"\"\"\n",
       "                            OLS Regression Results                            \n",
       "==============================================================================\n",
       "Dep. Variable:                  price   R-squared:                       0.735\n",
       "Model:                            OLS   Adj. R-squared:                  0.729\n",
       "Method:                 Least Squares   F-statistic:                     115.2\n",
       "Date:                Tue, 13 Apr 2021   Prob (F-statistic):          3.40e-124\n",
       "Time:                        12:56:35   Log-Likelihood:                -1363.9\n",
       "No. Observations:                 469   AIC:                             2752.\n",
       "Df Residuals:                     457   BIC:                             2802.\n",
       "Df Model:                          11                                         \n",
       "Covariance Type:            nonrobust                                         \n",
       "==============================================================================\n",
       "                 coef    std err          t      P>|t|      [0.025      0.975]\n",
       "------------------------------------------------------------------------------\n",
       "Intercept     21.8876      0.224     97.758      0.000      21.448      22.328\n",
       "CRIM          -1.4183      0.661     -2.145      0.032      -2.718      -0.119\n",
       "ZN             0.1895      0.359      0.528      0.598      -0.516       0.895\n",
       "CHAS           3.4029      0.837      4.067      0.000       1.759       5.047\n",
       "NOX           -1.8117      0.421     -4.299      0.000      -2.640      -0.984\n",
       "RM             3.0758      0.325      9.474      0.000       2.438       3.714\n",
       "AGE           -0.0989      0.363     -0.273      0.785      -0.811       0.614\n",
       "DIS           -2.7331      0.428     -6.393      0.000      -3.573      -1.893\n",
       "RAD            2.1251      0.599      3.545      0.000       0.947       3.303\n",
       "TAX           -1.6301      0.557     -2.926      0.004      -2.725      -0.535\n",
       "PTRATIO       -1.9158      0.278     -6.897      0.000      -2.462      -1.370\n",
       "LSTAT         -4.0839      0.386    -10.579      0.000      -4.843      -3.325\n",
       "==============================================================================\n",
       "Omnibus:                      205.669   Durbin-Watson:                   1.118\n",
       "Prob(Omnibus):                  0.000   Jarque-Bera (JB):             1292.504\n",
       "Skew:                           1.795   Prob(JB):                    2.17e-281\n",
       "Kurtosis:                      10.298   Cond. No.                         8.98\n",
       "==============================================================================\n",
       "\n",
       "Notes:\n",
       "[1] Standard Errors assume that the covariance matrix of the errors is correctly specified.\n",
       "\"\"\""
      ]
     },
     "execution_count": 22,
     "metadata": {},
     "output_type": "execute_result"
    }
   ],
   "source": [
    "## MAKE FULL FORMULA\n",
    "formula = target+'~'+ ' + '.join(col_list) #target~predictors\n",
    "model = smf.ols(formula=formula, data=df).fit()\n",
    "model.summary()"
   ]
  },
  {
   "cell_type": "code",
   "execution_count": 23,
   "metadata": {},
   "outputs": [
    {
     "data": {
      "text/plain": [
       "<matplotlib.collections.PathCollection at 0x7fad4f13da30>"
      ]
     },
     "execution_count": 23,
     "metadata": {},
     "output_type": "execute_result"
    },
    {
     "data": {
      "image/png": "[encoded data removed]",
      "text/plain": [
       "<Figure size 720x360 with 2 Axes>"
      ]
     },
     "metadata": {
      "needs_background": "light"
     },
     "output_type": "display_data"
    }
   ],
   "source": [
    "## Diagnose Model\n",
    "resids = model.resid\n",
    "\n",
    "fig,ax = plt.subplots(ncols=2,figsize=(10,5))\n",
    "sms.qqplot(resids, stats.distributions.norm,\n",
    "          fit=True, line='45',ax=ax[0])\n",
    "xs = np.linspace(0,1,len(resids))\n",
    "ax[1].scatter(x=xs,y=resids)"
   ]
  },
  {
   "cell_type": "code",
   "execution_count": 24,
   "metadata": {
    "ExecuteTime": {
     "end_time": "2020-03-04T00:57:46.731291Z",
     "start_time": "2020-03-04T00:57:46.421402Z"
    }
   },
   "outputs": [
    {
     "ename": "NameError",
     "evalue": "name 'diagnose_model' is not defined",
     "output_type": "error",
     "traceback": [
      "\u001b[0;31m---------------------------------------------------------------------------\u001b[0m",
      "\u001b[0;31mNameError\u001b[0m                                 Traceback (most recent call last)",
      "\u001b[0;32m<ipython-input-24-ed17f70b15c5>\u001b[0m in \u001b[0;36m<module>\u001b[0;34m\u001b[0m\n\u001b[0;32m----> 1\u001b[0;31m \u001b[0mdiagnose_model\u001b[0m\u001b[0;34m(\u001b[0m\u001b[0mmodel\u001b[0m\u001b[0;34m)\u001b[0m\u001b[0;34m\u001b[0m\u001b[0;34m\u001b[0m\u001b[0m\n\u001b[0m",
      "\u001b[0;31mNameError\u001b[0m: name 'diagnose_model' is not defined"
     ]
    }
   ],
   "source": [
    "\n",
    "\n",
    "diagnose_model(model)"
   ]
  },
  {
   "cell_type": "code",
   "execution_count": null,
   "metadata": {
    "ExecuteTime": {
     "end_time": "2020-03-04T00:57:46.739973Z",
     "start_time": "2020-03-04T00:57:46.732721Z"
    }
   },
   "outputs": [],
   "source": [
    "import scipy.stats as stats\n",
    "import statsmodels.api as sms\n",
    "import statsmodels.formula.api as smf\n",
    "\n",
    "\n",
    "def make_ols_f(df,target='price',col_list=[], diagnose=True):\n",
    "    \"\"\"\n",
    "    Makes statsmodels formula-based regression with options to make categorical columns.    \n",
    "    Args:\n",
    "        df (Frame): df with data\n",
    "        target (str): target column name\n",
    "        diagnose (bool, optional): Plot Q-Q plot & residuals. Defaults to True.\n",
    "    \n",
    "    Returns:\n",
    "        model : statsmodels ols model\n",
    "    \n",
    "    \"\"\"\n",
    "    ## Get list of columns to use\n",
    "    if len(col_list)==0:\n",
    "        col_list = list(df.drop(target,axis=1).columns)\n",
    "\n",
    "\n",
    "    ## MAKE FULL FORMULA\n",
    "    formula = target+'~'+'+'.join(col_list) #target~predictors\n",
    "    \n",
    "    ## Fit model and display summary\n",
    "    model = smf.ols(formula=formula, data=df).fit()\n",
    "    display(model.summary())\n",
    "        \n",
    "    ## Plot Q-Qplot & model residuals\n",
    "    if diagnose:\n",
    "        fig,ax = diagnose_model(model)\n",
    "        plt.show()\n",
    "\n",
    "    return model\n",
    "\n",
    "def diagnose_model(model):\n",
    "    \"\"\"\n",
    "    Plot Q-Q plot and model residuals from statsmodels ols model.\n",
    "    \n",
    "    Args:\n",
    "        model (smf.ols model): statsmodels formula ols \n",
    "    \n",
    "    Returns:\n",
    "        fig, ax: matplotlib objects\n",
    "    \"\"\"\n",
    "    \n",
    "    resids = model.resid\n",
    "    \n",
    "    fig,ax = plt.subplots(ncols=2,figsize=(10,5))\n",
    "    sms.qqplot(resids, stats.distributions.norm,\n",
    "              fit=True, line='45',ax=ax[0])\n",
    "    xs = np.linspace(0,1,len(resids))\n",
    "    ax[1].scatter(x=xs,y=resids)\n",
    "    \n",
    "    return fig,ax  "
   ]
  },
  {
   "cell_type": "markdown",
   "metadata": {},
   "source": [
    "## Making a baseline model"
   ]
  },
  {
   "cell_type": "code",
   "execution_count": null,
   "metadata": {
    "ExecuteTime": {
     "end_time": "2020-03-04T00:57:47.069881Z",
     "start_time": "2020-03-04T00:57:46.741351Z"
    }
   },
   "outputs": [],
   "source": [
    "model1 = make_ols_f(df,target='price')"
   ]
  },
  {
   "cell_type": "markdown",
   "metadata": {},
   "source": [
    "## Interactions Effect On Model"
   ]
  },
  {
   "cell_type": "markdown",
   "metadata": {},
   "source": [
    "### Adding interaction terms"
   ]
  },
  {
   "cell_type": "code",
   "execution_count": null,
   "metadata": {
    "ExecuteTime": {
     "end_time": "2020-03-04T00:57:47.147102Z",
     "start_time": "2020-03-04T00:57:47.116737Z"
    }
   },
   "outputs": [],
   "source": [
    "df['CHAS_TAX'] = df['CHAS'] * df['TAX']\n",
    "df.head()"
   ]
  },
  {
   "cell_type": "code",
   "execution_count": null,
   "metadata": {
    "ExecuteTime": {
     "end_time": "2020-03-04T00:57:47.561297Z",
     "start_time": "2020-03-04T00:57:47.526811Z"
    }
   },
   "outputs": [],
   "source": [
    "## To create multiple interaction columns\n",
    "ixn_cols = [['CHAS',\"TAX\"],\n",
    "            ['CHAS','PTRATIO']]\n",
    "\n",
    "for cols in ixn_cols:\n",
    "    df[cols[0]+'_'+ cols[1]] = df[cols[0]] * df[cols[1]]\n",
    "df.head()"
   ]
  },
  {
   "cell_type": "code",
   "execution_count": null,
   "metadata": {
    "ExecuteTime": {
     "end_time": "2020-03-04T00:57:47.525670Z",
     "start_time": "2020-03-04T00:57:47.148386Z"
    }
   },
   "outputs": [],
   "source": [
    "## Fit model\n",
    "make_ols_f(df)"
   ]
  },
  {
   "cell_type": "code",
   "execution_count": null,
   "metadata": {
    "ExecuteTime": {
     "end_time": "2020-03-04T00:57:47.960048Z",
     "start_time": "2020-03-04T00:57:47.952422Z"
    },
    "code_folding": []
   },
   "outputs": [],
   "source": []
  },
  {
   "cell_type": "markdown",
   "metadata": {},
   "source": [
    "# Polynomial Regressions"
   ]
  },
  {
   "cell_type": "markdown",
   "metadata": {},
   "source": [
    "Remember we started with (multiple) linear equation:\n",
    "\n",
    "$$ \\large \\hat{y} = w_0 + w_1  x_1 + w_2  x_2 + ... + w_N  x_N $$\n",
    "$$ \\large \\hat{y} = \\sum_{n=0}^{N} w_n x_n $$\n",
    "\n",
    "\n",
    "**Knowledge check:** Why is this \"linear\"?"
   ]
  },
  {
   "cell_type": "markdown",
   "metadata": {},
   "source": [
    "## Making it more complex!"
   ]
  },
  {
   "cell_type": "code",
   "execution_count": null,
   "metadata": {
    "ExecuteTime": {
     "end_time": "2020-03-04T00:58:10.457500Z",
     "start_time": "2020-03-04T00:58:10.196532Z"
    }
   },
   "outputs": [],
   "source": [
    "df2 = fs.datasets.load_yields(version='other')\n",
    "display(df2.head())"
   ]
  },
  {
   "cell_type": "code",
   "execution_count": null,
   "metadata": {
    "ExecuteTime": {
     "end_time": "2020-03-04T00:58:10.903259Z",
     "start_time": "2020-03-04T00:58:10.720001Z"
    }
   },
   "outputs": [],
   "source": [
    "y = df2['Yield']\n",
    "X = df2.drop(columns=['Yield'])\n",
    "\n",
    "\n",
    "plt.scatter(X, y, color='green')\n",
    "plt.xlabel('Temperature')\n",
    "plt.ylabel('Yield');"
   ]
  },
  {
   "cell_type": "markdown",
   "metadata": {},
   "source": [
    "$\\large \\hat y = \\hat \\beta_0 + \\hat \\beta_1x $ "
   ]
  },
  {
   "cell_type": "code",
   "execution_count": null,
   "metadata": {
    "ExecuteTime": {
     "end_time": "2020-03-04T00:58:12.230789Z",
     "start_time": "2020-03-04T00:58:11.762376Z"
    }
   },
   "outputs": [],
   "source": [
    "## Fit a simple linear model\n",
    "from sklearn.linear_model import LinearRegression\n",
    "reg = LinearRegression()\n",
    "reg.fit(X,y)\n",
    "\n",
    "plt.scatter(X, y, color='green')\n",
    "plt.plot(X, reg.predict(X))\n",
    "plt.xlabel('Temperature')\n",
    "plt.ylabel('Yield');"
   ]
  },
  {
   "cell_type": "code",
   "execution_count": null,
   "metadata": {
    "ExecuteTime": {
     "end_time": "2020-03-04T00:58:12.519140Z",
     "start_time": "2020-03-04T00:58:12.512565Z"
    }
   },
   "outputs": [],
   "source": [
    "from sklearn.metrics import mean_squared_error, r2_score\n",
    "r2 = r2_score(y, reg.predict(X))\n",
    "mse = mean_squared_error(y,reg.predict(X))\n",
    "print(f\"R2 = {r2}\")\n",
    "print(f\"MSE = {mse}\")"
   ]
  },
  {
   "cell_type": "markdown",
   "metadata": {},
   "source": [
    "### A quadratic relationship\n",
    "$\\large \\hat y = \\hat \\beta_0 + \\hat \\beta_1x + \\hat \\beta_2 x^2$ "
   ]
  },
  {
   "cell_type": "code",
   "execution_count": null,
   "metadata": {
    "ExecuteTime": {
     "end_time": "2020-03-04T00:58:13.507345Z",
     "start_time": "2020-03-04T00:58:13.496084Z"
    }
   },
   "outputs": [],
   "source": [
    "X['Temp_sq'] = X['Temp']**2\n",
    "X"
   ]
  },
  {
   "cell_type": "code",
   "execution_count": null,
   "metadata": {
    "ExecuteTime": {
     "end_time": "2020-03-04T00:58:14.208893Z",
     "start_time": "2020-03-04T00:58:14.030436Z"
    }
   },
   "outputs": [],
   "source": [
    "x_plot = X[\"Temp\"]\n",
    "reg_q = LinearRegression().fit(X,y)\n",
    "\n",
    "\n",
    "plt.scatter(x_plot, y, color='green')\n",
    "plt.plot(x_plot, reg_q.predict(X))\n",
    "plt.xlabel('Temperature')\n",
    "plt.ylabel('Yield');"
   ]
  },
  {
   "cell_type": "code",
   "execution_count": null,
   "metadata": {
    "ExecuteTime": {
     "end_time": "2020-03-04T00:58:14.535354Z",
     "start_time": "2020-03-04T00:58:14.528745Z"
    }
   },
   "outputs": [],
   "source": [
    "r2 = r2_score(y, reg_q.predict(X))\n",
    "mse = mean_squared_error(y,reg_q.predict(X))\n",
    "print(f\"R2 = {r2}\")\n",
    "print(f\"MSE = {mse}\")"
   ]
  },
  {
   "cell_type": "markdown",
   "metadata": {},
   "source": [
    "Adding higher-order polynomials\n",
    "$$ \\large \\hat{y} = \\beta_0 + \\beta_1  x + \\beta_2  x^2 + ... + \\beta_N  x^N $$\n",
    "$$ \\large \\hat{y} = \\sum_{n=0}^{N} \\beta_n x^n $$"
   ]
  },
  {
   "cell_type": "code",
   "execution_count": null,
   "metadata": {
    "ExecuteTime": {
     "end_time": "2020-03-04T00:58:15.533452Z",
     "start_time": "2020-03-04T00:58:15.528610Z"
    }
   },
   "outputs": [],
   "source": [
    "y = df2['Yield']\n",
    "X = df2.drop(columns=['Yield'])\n",
    "X.shape"
   ]
  },
  {
   "cell_type": "code",
   "execution_count": null,
   "metadata": {
    "ExecuteTime": {
     "end_time": "2020-03-04T00:58:16.043387Z",
     "start_time": "2020-03-04T00:58:16.035637Z"
    }
   },
   "outputs": [],
   "source": [
    "from sklearn.preprocessing import PolynomialFeatures\n",
    "n_poly = 6\n",
    "polyfeat = PolynomialFeatures(n_poly)\n",
    "X_poly = polyfeat.fit_transform(X)\n",
    "display(X_poly[:10])\n",
    "X_poly.shape"
   ]
  },
  {
   "cell_type": "code",
   "execution_count": null,
   "metadata": {
    "ExecuteTime": {
     "end_time": "2020-03-04T00:58:16.572318Z",
     "start_time": "2020-03-04T00:58:16.546135Z"
    }
   },
   "outputs": [],
   "source": [
    "col_names = [f\"{'Temp'}^{i}\" for i in range(n_poly+1)]\n",
    "df_poly = pd.DataFrame(X_poly,columns=col_names)\n",
    "df_poly"
   ]
  },
  {
   "cell_type": "code",
   "execution_count": null,
   "metadata": {
    "ExecuteTime": {
     "end_time": "2020-03-04T00:58:17.072940Z",
     "start_time": "2020-03-04T00:58:17.065471Z"
    }
   },
   "outputs": [],
   "source": [
    "reg_poly = LinearRegression().fit(X_poly,y)\n",
    "\n",
    "r2 = r2_score(y, reg_poly.predict(X_poly))\n",
    "mse = mean_squared_error(y,reg_poly.predict(X_poly))\n",
    "print(f\"R2 = {r2}\")\n",
    "print(f\"MSE = {mse}\")"
   ]
  },
  {
   "cell_type": "code",
   "execution_count": null,
   "metadata": {
    "ExecuteTime": {
     "end_time": "2020-03-04T00:58:17.811126Z",
     "start_time": "2020-03-04T00:58:17.631998Z"
    }
   },
   "outputs": [],
   "source": [
    "plt.scatter(x_plot, y, color='green')\n",
    "plt.plot(x_plot, reg_poly.predict(X_poly))\n",
    "plt.xlabel('Temperature')\n",
    "plt.ylabel('Yield');"
   ]
  },
  {
   "cell_type": "markdown",
   "metadata": {},
   "source": [
    "# Bias-Variance Trade Off"
   ]
  },
  {
   "cell_type": "markdown",
   "metadata": {},
   "source": [
    "## Underfitting and Overfitting"
   ]
  },
  {
   "cell_type": "markdown",
   "metadata": {},
   "source": [
    "\n",
    "![which_model](ds-model_validation/img/which_model_is_better_2.png)\n",
    "\n",
    "> *Underfitting* happens when a model cannot learn the training data, nor can it generalize to new data.\n",
    "\n",
    "> *Overfitting* happens when a model learns the training data too well. In fact, so well that it is not generalizeable to new data \n"
   ]
  },
  {
   "cell_type": "markdown",
   "metadata": {},
   "source": [
    "## The Bias-Variance Trade Off\n"
   ]
  },
  {
   "cell_type": "markdown",
   "metadata": {},
   "source": [
    "Another perspective on this problem of overfitting versus underfitting is the bias-variance tradeoff. \n",
    "\n",
    "We can break down our error term (the mean squared error) as the sum of 3 sources of error: \n",
    "\n",
    "- *bias*\n",
    "- *variance*, and\n",
    "- *irreducible error* \n",
    "\n",
    " \n",
    "\n",
    "$$ \\large \\text{MSE} = \\text{Bias}(\\hat{f}(x))^2 + \\text{Var}(\\hat{f}(x)) + \\sigma^2$$\n",
    "- The derivation of this can be found [here](https://en.wikipedia.org/wiki/Bias%E2%80%93variance_tradeoff#Derivation).\n",
    "\n",
    "<img src=\"https://raw.githubusercontent.com/jirvingphd/dsc-bias-variance-trade-off-online-ds-pt-100719/master/images/new_bias_variance.png\" width=50%>\n",
    "\n",
    "\n",
    "- **Bias** arises when wrong assumptions are made when training a model. For example:\n",
    "\n",
    "    - An interaction effect is missed, \n",
    "    - We missed a certain polynomial relationship. \n",
    "    \n",
    "    - Because of this, our algorithm misses the relevant relations between predictors and the target variable.\n",
    "    - *(Note how this is similar to underfitting!)*\n",
    "\n",
    "\n",
    "- **Variance** arises  when a model is too sensitive to small fluctuations in the training set. \n",
    "\n",
    "    - When variance is high, random noise is modeled instead of the intended outputs. \n",
    "    - *(This is overfitting!)*"
   ]
  },
  {
   "cell_type": "markdown",
   "metadata": {},
   "source": [
    "<img src=\"https://raw.githubusercontent.com/jirvingphd/fsds_pt_100719_cohort_notes/master/Images/bias_variance_optimize.png\">\n",
    "\n",
    "\n",
    "> **The balance between bias and variance is a trade-off.** We can reduce the variance but then there is a risk of running a bigger bias, and vice versa. \n",
    "- Bias is usually associated with low model complexity, variance with high model complexity.\n",
    "- There is generally a \"sweet spot\" in-between, compromising between bias and variance.\n",
    "\n",
    "\n"
   ]
  },
  {
   "cell_type": "markdown",
   "metadata": {},
   "source": [
    "### How do we know if our model is overfitting or underfitting?"
   ]
  },
  {
   "cell_type": "markdown",
   "metadata": {},
   "source": [
    "If our model is not performing well on the training  data, we are probably underfitting it.  "
   ]
  },
  {
   "cell_type": "markdown",
   "metadata": {},
   "source": [
    "To know if our  model is overfitting the data, we need  to test our model on unseen data. \n",
    "We then measure our performance on the unseen data. \n",
    "\n",
    "If the model performs significantly worse on the  unseen data, it is probably  overfitting the data."
   ]
  },
  {
   "cell_type": "markdown",
   "metadata": {},
   "source": [
    "<img src='https://developers.google.com/machine-learning/crash-course/images/WorkflowWithTestSet.svg' width=500/>"
   ]
  },
  {
   "cell_type": "markdown",
   "metadata": {},
   "source": [
    "#### Bias/Variance Examples from CL \"`model_validation-022221FT.ipynb`\""
   ]
  },
  {
   "cell_type": "markdown",
   "metadata": {},
   "source": [
    "Consider the following scenarios and describe them according to bias and variance. There are four possibilities:\n",
    "\n",
    "- a. The model has low bias and high variance.\n",
    "- b. The model has high bias and low variance.\n",
    "- c. The model has both low bias and low variance.\n",
    "- d. The model has both high bias and high variance."
   ]
  },
  {
   "cell_type": "markdown",
   "metadata": {},
   "source": [
    "**Scenario 1**: The model has a low RMSE on training and a low RMSE on test.\n",
    "<details>\n",
    "    <summary> Answer\n",
    "    </summary>\n",
    "    c. The model has both low bias and low variance.\n",
    "    </details>"
   ]
  },
  {
   "cell_type": "markdown",
   "metadata": {},
   "source": [
    "**Scenario 2**: The model has a high $R^2$ on the training set, but a low $R^2$ on the test.\n",
    "<details>\n",
    "    <summary> Answer\n",
    "    </summary>\n",
    "    a. The model has low bias and high variance.\n",
    "    </details>"
   ]
  },
  {
   "cell_type": "markdown",
   "metadata": {},
   "source": [
    "**Scenario 3**: The model performs well on data it is fit on and well on data it has not seen.\n",
    "<details>\n",
    "    <summary> Answer\n",
    "    </summary>\n",
    "    c. The model has both low bias and low variance.\n",
    "    </details>\n",
    "  "
   ]
  },
  {
   "cell_type": "markdown",
   "metadata": {},
   "source": [
    "**Scenario 4**: The model has a low $R^2$ on training but high on the test set.\n",
    "<details>\n",
    "    <summary> Answer\n",
    "    </summary>\n",
    "    d. The model has both high bias and high variance.\n",
    "    </details>"
   ]
  },
  {
   "cell_type": "markdown",
   "metadata": {},
   "source": [
    "**Scenario 5**: The model leaves out many of the meaningful predictors, but is consistent across samples.\n",
    "<details>\n",
    "    <summary> Answer\n",
    "    </summary>\n",
    "    b. The model has high bias and low variance.\n",
    "    </details>"
   ]
  },
  {
   "cell_type": "markdown",
   "metadata": {},
   "source": [
    "**Scenario 6**: The model is highly sensitive to random noise in the training set.\n",
    "<details>\n",
    "    <summary> Answer\n",
    "    </summary>\n",
    "    a. The model has low bias and high variance.\n",
    "    </details>"
   ]
  },
  {
   "cell_type": "code",
   "execution_count": null,
   "metadata": {},
   "outputs": [],
   "source": []
  }
 ],
 "metadata": {
  "kernelspec": {
   "display_name": "learn-env-new",
   "language": "python",
   "name": "learn-env-new"
  },
  "language_info": {
   "codemirror_mode": {
    "name": "ipython",
    "version": 3
   },
   "file_extension": ".py",
   "mimetype": "text/x-python",
   "name": "python",
   "nbconvert_exporter": "python",
   "pygments_lexer": "ipython3",
   "version": "3.8.5"
  },
  "toc": {
   "base_numbering": 1,
   "nav_menu": {},
   "number_sections": true,
   "sideBar": true,
   "skip_h1_title": false,
   "title_cell": "Table of Contents",
   "title_sidebar": "Contents",
   "toc_cell": false,
   "toc_position": {
    "height": "calc(100% - 180px)",
    "left": "10px",
    "top": "150px",
    "width": "209.176px"
   },
   "toc_section_display": true,
   "toc_window_display": true
  },
  "varInspector": {
   "cols": {
    "lenName": 16,
    "lenType": 16,
    "lenVar": 40
   },
   "kernels_config": {
    "python": {
     "delete_cmd_postfix": "",
     "delete_cmd_prefix": "del ",
     "library": "var_list.py",
     "varRefreshCmd": "print(var_dic_list())"
    },
    "r": {
     "delete_cmd_postfix": ") ",
     "delete_cmd_prefix": "rm(",
     "library": "var_list.r",
     "varRefreshCmd": "cat(var_dic_list()) "
    }
   },
   "types_to_exclude": [
    "module",
    "function",
    "builtin_function_or_method",
    "instance",
    "_Feature"
   ],
   "window_display": false
  },
  "widgets": {
   "application/vnd.jupyter.widget-state+json": {
    "state": {},
    "version_major": 2,
    "version_minor": 0
   }
  }
 },
 "nbformat": 4,
 "nbformat_minor": 2
}
