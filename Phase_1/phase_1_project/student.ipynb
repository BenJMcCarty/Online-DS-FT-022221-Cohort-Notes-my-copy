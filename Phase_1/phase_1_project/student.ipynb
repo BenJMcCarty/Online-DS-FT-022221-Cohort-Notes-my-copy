{
 "cells": [
  {
   "cell_type": "markdown",
   "metadata": {},
   "source": [
    "## Final Project Submission\n",
    "\n",
    "Please fill out:\n",
    "* Student name: \n",
    "* Student pace: self paced / part time / full time\n",
    "* Scheduled project review date/time: \n",
    "* Instructor name: \n",
    "* Blog post URL:\n"
   ]
  },
  {
   "cell_type": "markdown",
   "metadata": {},
   "source": [
    "# Overview"
   ]
  },
  {
   "cell_type": "markdown",
   "metadata": {},
   "source": [
    "## Business Problem"
   ]
  },
  {
   "cell_type": "markdown",
   "metadata": {},
   "source": []
  },
  {
   "cell_type": "markdown",
   "metadata": {},
   "source": [
    "## Advice on things to consider\n"
   ]
  },
  {
   "cell_type": "markdown",
   "metadata": {},
   "source": [
    "#### Put yourself in the shoes of your **stakeholders**\n",
    " * What do they want to know?\n",
    " * Is the information geared towards them (talking to non-data scientists)\n",
    " * You are providing **insights** which lead to **actionable items**\n",
    "   \n",
    "#### Do the data reflect what you are saying?\n",
    "* Are the data complete?\n",
    "* Are the differences (statistically) significant? (We'll go over this in the future)\n",
    "* Where are the potential biases? \n",
    "\n",
    "#### Emphasize your points with a narrative\n",
    "* We like stories: both technical & non-technical\n",
    "* Use visuals to emphasize your points (**explanatory visualizations**)\n",
    "* Each slide should contain a single idea (emphasizes what you say)"
   ]
  },
  {
   "cell_type": "markdown",
   "metadata": {},
   "source": [
    "# OBTAIN"
   ]
  },
  {
   "cell_type": "code",
   "execution_count": 3,
   "metadata": {},
   "outputs": [
    {
     "data": {
      "text/plain": [
       "['imdb.title.crew.csv.gz',\n",
       " 'tmdb.movies.csv.gz',\n",
       " 'imdb.title.akas.csv.gz',\n",
       " 'imdb.title.ratings.csv.gz',\n",
       " 'imdb.name.basics.csv.gz',\n",
       " 'rt.reviews.tsv.gz',\n",
       " 'imdb.title.basics.csv.gz',\n",
       " 'rt.movie_info.tsv.gz',\n",
       " 'tn.movie_budgets.csv.gz',\n",
       " 'bom.movie_gross.csv.gz',\n",
       " 'imdb.title.principals.csv.gz']"
      ]
     },
     "execution_count": 3,
     "metadata": {},
     "output_type": "execute_result"
    }
   ],
   "source": [
    "# Your code here - remember to use markdown cells for comments as well!\n",
    "import os,glob\n",
    "import pandas as pd\n",
    "import numpy as np\n",
    "import matplotlib.pyplot as plt\n",
    "import seaborn as sns\n",
    "\n",
    "folder = \"../../../Projects/dsc-phase-1-project/zippedData/\"\n",
    "os.listdir(folder)"
   ]
  },
  {
   "cell_type": "code",
   "execution_count": 4,
   "metadata": {},
   "outputs": [
    {
     "data": {
      "text/plain": [
       "['../../../Projects/dsc-phase-1-project/zippedData/imdb.title.crew.csv.gz',\n",
       " '../../../Projects/dsc-phase-1-project/zippedData/tmdb.movies.csv.gz',\n",
       " '../../../Projects/dsc-phase-1-project/zippedData/imdb.title.akas.csv.gz',\n",
       " '../../../Projects/dsc-phase-1-project/zippedData/imdb.title.ratings.csv.gz',\n",
       " '../../../Projects/dsc-phase-1-project/zippedData/imdb.name.basics.csv.gz',\n",
       " '../../../Projects/dsc-phase-1-project/zippedData/imdb.title.basics.csv.gz',\n",
       " '../../../Projects/dsc-phase-1-project/zippedData/tn.movie_budgets.csv.gz',\n",
       " '../../../Projects/dsc-phase-1-project/zippedData/bom.movie_gross.csv.gz',\n",
       " '../../../Projects/dsc-phase-1-project/zippedData/imdb.title.principals.csv.gz']"
      ]
     },
     "execution_count": 4,
     "metadata": {},
     "output_type": "execute_result"
    }
   ],
   "source": [
    "## Preview Files\n",
    "files = glob.glob(f\"{folder}*.csv*\")\n",
    "files"
   ]
  },
  {
   "cell_type": "markdown",
   "metadata": {},
   "source": [
    "### Approaches to consider:"
   ]
  },
  {
   "cell_type": "markdown",
   "metadata": {},
   "source": [
    "- Using the provided csv's and merging dataframes with:\n",
    "    - regular pandas\n",
    "    - pandasql\n",
    "- Using the provided csv's and creating a your own SQL database(using sqlite3)\n",
    "- Sourcing your own dataset using Web Scraping.\n",
    "- Sourcing your own dataset using an API\n",
    "\n",
    "- Using 1 of the provided csv's and supplemnting it with additional data from an API"
   ]
  },
  {
   "cell_type": "markdown",
   "metadata": {},
   "source": [
    "### Using the Provided Data - Join with Pandas"
   ]
  },
  {
   "cell_type": "markdown",
   "metadata": {},
   "source": [
    ">#### Questions to consider:\n",
    ">1. Where is the financial data?\n",
    ">2. What columns are primary keys/unique indices?\n",
    ">3. What tables could I join on what columns?"
   ]
  },
  {
   "cell_type": "code",
   "execution_count": null,
   "metadata": {},
   "outputs": [],
   "source": [
    "## Load all files into a dict using their filename as key\n",
    "tables = {}\n",
    "for file in files:\n",
    "    ## Save a variable-friendly version of the file name\n",
    "    table_name = file.replace('.csv.gz','').split('/')[-1].replace('.','_')\n",
    "    tables[table_name] = pd.read_csv(file)"
   ]
  }
 ],
 "metadata": {
  "kernelspec": {
   "display_name": "Python 3",
   "language": "python",
   "name": "python3"
  },
  "language_info": {
   "codemirror_mode": {
    "name": "ipython",
    "version": 3
   },
   "file_extension": ".py",
   "mimetype": "text/x-python",
   "name": "python",
   "nbconvert_exporter": "python",
   "pygments_lexer": "ipython3",
   "version": "3.8.5"
  },
  "toc": {
   "base_numbering": 1,
   "nav_menu": {},
   "number_sections": true,
   "sideBar": true,
   "skip_h1_title": false,
   "title_cell": "Table of Contents",
   "title_sidebar": "Contents",
   "toc_cell": false,
   "toc_position": {},
   "toc_section_display": true,
   "toc_window_display": false
  },
  "varInspector": {
   "cols": {
    "lenName": 16,
    "lenType": 16,
    "lenVar": 40
   },
   "kernels_config": {
    "python": {
     "delete_cmd_postfix": "",
     "delete_cmd_prefix": "del ",
     "library": "var_list.py",
     "varRefreshCmd": "print(var_dic_list())"
    },
    "r": {
     "delete_cmd_postfix": ") ",
     "delete_cmd_prefix": "rm(",
     "library": "var_list.r",
     "varRefreshCmd": "cat(var_dic_list()) "
    }
   },
   "types_to_exclude": [
    "module",
    "function",
    "builtin_function_or_method",
    "instance",
    "_Feature"
   ],
   "window_display": false
  }
 },
 "nbformat": 4,
 "nbformat_minor": 2
}
