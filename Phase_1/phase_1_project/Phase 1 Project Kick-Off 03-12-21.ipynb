{
 "cells": [
  {
   "cell_type": "markdown",
   "metadata": {},
   "source": [
    "# Phase 1 Project  Kick Off"
   ]
  },
  {
   "cell_type": "markdown",
   "metadata": {},
   "source": [
    "- onl01-dtsc-ft-022221\n",
    "- 03/12/21"
   ]
  },
  {
   "cell_type": "markdown",
   "metadata": {},
   "source": [
    "|Date |\tProject Component\t| Details| \n",
    "|---| --- | --- |\n",
    "|03/12/21 |\tPhase 1 Project Kick-Off| - Fork and clone the project repo.<br>- Investigate the provided data and decide if you will use it or source your own. |\n",
    "|03/19/21 |\t Soft Deadline \t|- Turn In Project Materials on Canvas [See: Project Submission & Review (Online)]<br>- Schedule Project Review|\n",
    "|03/22/21 - 03/26/21 | Project Reviews - Week 1\t| - You should have your first review ASAP in case you need a follow-up review. |\n",
    "| 03/29/21 - 04/02/21 | Project Reviews - Week 2| - Follow Up Reviews|\n",
    "| 04/02/21 | Hard Deadline\t| - You must pass your project review and submit your final blog post by this date, otherwise the cohort transfer policy kicks-in.|"
   ]
  },
  {
   "cell_type": "markdown",
   "metadata": {},
   "source": [
    "## Agenda"
   ]
  },
  {
   "cell_type": "markdown",
   "metadata": {},
   "source": [
    "- [Introduce Phase Project Overview]()\n",
    "- [Blogging Slide Deck](https://docs.google.com/presentation/d/1oOyiQqVBFEQyPOqKjGV8OwJO4qavrRwfpEE8eLl9pyM/edit?usp=sharing)"
   ]
  },
  {
   "cell_type": "code",
   "execution_count": null,
   "metadata": {},
   "outputs": [],
   "source": []
  }
 ],
 "metadata": {
  "kernelspec": {
   "display_name": "learn-env-new",
   "language": "python",
   "name": "learn-env-new"
  },
  "language_info": {
   "codemirror_mode": {
    "name": "ipython",
    "version": 3
   },
   "file_extension": ".py",
   "mimetype": "text/x-python",
   "name": "python",
   "nbconvert_exporter": "python",
   "pygments_lexer": "ipython3",
   "version": "3.8.5"
  },
  "toc": {
   "base_numbering": 1,
   "nav_menu": {},
   "number_sections": true,
   "sideBar": true,
   "skip_h1_title": false,
   "title_cell": "Table of Contents",
   "title_sidebar": "Contents",
   "toc_cell": false,
   "toc_position": {},
   "toc_section_display": true,
   "toc_window_display": false
  },
  "varInspector": {
   "cols": {
    "lenName": 16,
    "lenType": 16,
    "lenVar": 40
   },
   "kernels_config": {
    "python": {
     "delete_cmd_postfix": "",
     "delete_cmd_prefix": "del ",
     "library": "var_list.py",
     "varRefreshCmd": "print(var_dic_list())"
    },
    "r": {
     "delete_cmd_postfix": ") ",
     "delete_cmd_prefix": "rm(",
     "library": "var_list.r",
     "varRefreshCmd": "cat(var_dic_list()) "
    }
   },
   "types_to_exclude": [
    "module",
    "function",
    "builtin_function_or_method",
    "instance",
    "_Feature"
   ],
   "window_display": false
  }
 },
 "nbformat": 4,
 "nbformat_minor": 4
}
