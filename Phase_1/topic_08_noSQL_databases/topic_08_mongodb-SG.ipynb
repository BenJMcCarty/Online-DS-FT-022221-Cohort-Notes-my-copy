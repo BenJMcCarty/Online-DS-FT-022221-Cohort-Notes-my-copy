{
 "cells": [
  {
   "cell_type": "markdown",
   "metadata": {},
   "source": [
    "# Topic 08: NoSQL Databases "
   ]
  },
  {
   "cell_type": "markdown",
   "metadata": {},
   "source": [
    "- 03/09/21\n",
    "- onl01-dtsc-ft-022221"
   ]
  },
  {
   "cell_type": "markdown",
   "metadata": {},
   "source": [
    "## Learning Objectives\n",
    "- Discuss other database structures beyond SQL databases\n",
    "- Walk through installation and usage of MongoDB and pymongo.\n",
    "- #### Demo: A Taste of WebScraping with MongoDB & Puppies"
   ]
  },
  {
   "cell_type": "markdown",
   "metadata": {},
   "source": [
    "### Announcements"
   ]
  },
  {
   "cell_type": "markdown",
   "metadata": {},
   "source": [
    "- For tomorrow's study group: \n",
    "    - Topic 09: Appendix Lab > Yelp API Lab \n",
    "\n",
    "- Canvas Bonus Lesson: MongoDB Installation Links Fixed \n",
    "\n",
    "- Canvas Bonus Lesson Added: Pushing Illumidesk Work to Your Personal Forks "
   ]
  },
  {
   "cell_type": "markdown",
   "metadata": {},
   "source": [
    "### Questions \n"
   ]
  },
  {
   "cell_type": "markdown",
   "metadata": {},
   "source": []
  },
  {
   "cell_type": "markdown",
   "metadata": {},
   "source": [
    "# NoSQL - Not Only SQL"
   ]
  },
  {
   "cell_type": "markdown",
   "metadata": {},
   "source": [
    "## What's wrong with SQL? "
   ]
  },
  {
   "cell_type": "markdown",
   "metadata": {},
   "source": [
    "- SQL offers a ton of structure for storing data \n",
    "    - That structure requires data to come in, in a certain way (aka your data must have structure) \n",
    "    - Structure comes at the cost of speed \n",
    "    \n",
    "    \n",
    "- SQL structure is very rigid - if you want to change the schema it requires you to change all of your existing data to match the new schema \n",
    "\n",
    "\n",
    "- Large data requires distributed computing (many computers working together to accomplish the same task) - Executing distributed joins is a very complex problem in relational databases. "
   ]
  },
  {
   "cell_type": "markdown",
   "metadata": {},
   "source": [
    "## What does NoSQL offer? "
   ]
  },
  {
   "cell_type": "markdown",
   "metadata": {},
   "source": [
    "- Schemaless − Number of fields, content and size of the data object can differ from one data object to another.\n",
    "- You can store virtually any kind of data. \n",
    "- Structure of a single object is clear.\n",
    "- No complex joins.\n",
    "- To scale up and handle more queries, just add more machines\n",
    "- You can change the schema of your database on the fly"
   ]
  },
  {
   "cell_type": "markdown",
   "metadata": {},
   "source": [
    "## Types of NoSQL Databases"
   ]
  },
  {
   "cell_type": "markdown",
   "metadata": {},
   "source": [
    "<img style='width: 400px' src='images/nosql-types.png/'>"
   ]
  },
  {
   "cell_type": "markdown",
   "metadata": {},
   "source": [
    "<b>Document databases</b> pair each key with a complex data structure known as a document. Documents can contain many different key-value pairs, or key-array pairs, or even nested documents."
   ]
  },
  {
   "cell_type": "markdown",
   "metadata": {},
   "source": [
    "<div   style='clear: both; display: table;'>\n",
    "    <div style='float:left; size: 250px'>\n",
    "        <img  style='align: center; width:150px' src='images/mongodb.png' /></div>\n",
    "    <div style='float:left; size: 250px'>\n",
    "        <img style='align: center;' src='images/couchdb.png' /></div>\n",
    "    <div style= 'float: left; width: 250px'>\n",
    "        <img style='align: center; width: 200px' src='images/documentdb.png' /></div>\n",
    "</div>"
   ]
  },
  {
   "cell_type": "markdown",
   "metadata": {},
   "source": [
    "<b>Graph stores</b> are used to store information about networks of data, such as social connections. Graph stores include Neo4J and Giraph."
   ]
  },
  {
   "cell_type": "markdown",
   "metadata": {},
   "source": [
    "<div style='clear: both; display: table;'>\n",
    "    <div style='float:left; size: 250px'>\n",
    "        <img  style='align: center; width:150px' src='images/ApacheGiraph.svg' /></div>\n",
    "    <div style='float:left; size: 250px'>\n",
    "        <img style='align: center;' src='images/neo4j.png' /></div>\n",
    "</div>"
   ]
  },
  {
   "cell_type": "markdown",
   "metadata": {},
   "source": [
    "<b>Key-value</b> stores are the simplest NoSQL databases. Every single item in the database is stored as an attribute name (or 'key'), together with its value. Examples of key-value stores are Riak and Berkeley DB. "
   ]
  },
  {
   "cell_type": "markdown",
   "metadata": {},
   "source": [
    "<div   style='clear: both; display: table;'>\n",
    "    <div style='float:left; size: 250px'>\n",
    "        <img  style='align: center; width:150px' src='images/riak.png' /></div>\n",
    "    <div style='float:left; size: 250px'>\n",
    "        <img style='align: center;' src='images/dynamodb.jpeg' /></div>\n",
    "</div>"
   ]
  },
  {
   "cell_type": "markdown",
   "metadata": {},
   "source": [
    "<b>Wide-column stores</b> such as Cassandra and HBase are optimized for queries over large datasets, and store columns of data together, instead of rows."
   ]
  },
  {
   "cell_type": "markdown",
   "metadata": {},
   "source": [
    "<img src='images/widcolumn.jpg'/>"
   ]
  },
  {
   "cell_type": "markdown",
   "metadata": {},
   "source": [
    "## What is MongoDB"
   ]
  },
  {
   "cell_type": "markdown",
   "metadata": {},
   "source": [
    "MongoDB stores data in flexible, JSON-like documents, meaning fields can vary from document to document and data structure can be changed over time"
   ]
  },
  {
   "cell_type": "markdown",
   "metadata": {},
   "source": [
    "<b>Data Structure</b>\n",
    "\n",
    "Single Entry = Document"
   ]
  },
  {
   "cell_type": "markdown",
   "metadata": {},
   "source": [
    "` { \n",
    "  _id: ObjectId(8af37bd7891c), \n",
    "  title: 'MongoDB Lab',\n",
    "  description: 'Introductory lab on how to use MongoDB',\n",
    "  by: 'Flatiron School',\n",
    "  topics: ['mongodb', 'database', 'NoSQL', 'JSON']  \n",
    "   } `"
   ]
  },
  {
   "cell_type": "markdown",
   "metadata": {},
   "source": [
    "You can embed documents inside documents! \n",
    "<!-- \n",
    "<img src ='images/househouse.gif' /> -->"
   ]
  },
  {
   "cell_type": "markdown",
   "metadata": {},
   "source": [
    "`{ \n",
    "  _id: ObjectId(8af37bd78ssc), \n",
    "  title: 'Other Lab',\n",
    "  description: 'Introductory lab on how to use something',\n",
    "  by: 'Flatiron School',\n",
    "  topics: ['blah', 'blah', 'blah', 'blah'],\n",
    "  author: {\n",
    "          _id: ObjectId(83928shkjw183),\n",
    "          name: Vishal Patel,\n",
    "          building: 11 Broadway\n",
    "          }\n",
    "   }`"
   ]
  },
  {
   "cell_type": "markdown",
   "metadata": {},
   "source": [
    "##### Why would we want to nest objects? "
   ]
  },
  {
   "cell_type": "markdown",
   "metadata": {},
   "source": [
    "Multiple Documents = Collection"
   ]
  },
  {
   "cell_type": "markdown",
   "metadata": {},
   "source": [
    "` { \n",
    "  _id: ObjectId(8af37bd7891c), \n",
    "  title: 'MongoDB Lab',\n",
    "  description: 'Introductory lab on how to use MongoDB',\n",
    "  by: 'Flatiron School',\n",
    "  topics: ['mongodb', 'database', 'NoSQL', 'JSON']  \n",
    "   }, \n",
    "{ \n",
    "  _id: ObjectId(8af37bd78ssc), \n",
    "  title: 'Other Lab',\n",
    "  description: 'Introductory lab on how to use something',\n",
    "  by: 'Flatiron School',\n",
    "  topics: ['blah', 'blah', 'blah', 'blah']  \n",
    "   }\n",
    "`"
   ]
  },
  {
   "cell_type": "markdown",
   "metadata": {},
   "source": [
    "# MongoDB"
   ]
  },
  {
   "cell_type": "markdown",
   "metadata": {},
   "source": [
    "## MongoDB Installation Instructions - 2021\n"
   ]
  },
  {
   "cell_type": "markdown",
   "metadata": {},
   "source": [
    "#### MacOS\n",
    "- **[Video Walk Through - Mac OS](https://youtu.be/OpKEw7093F8)**\n",
    "\n",
    "- For additional tips, follow the instructions from these 2 links:\n",
    "    1. https://zellwk.com/blog/install-mongodb/\n",
    "    2. https://zellwk.com/blog/local-mongodb/\n",
    "    \n",
    "\n",
    "\n",
    "\n",
    "#### Windows\n",
    "- **[Video Walk Through - Windows](https://youtu.be/UJQiGBDKXY0)**\n",
    "\n",
    "- [Article on Getting MongoDB Working in GitBash](https://teamtreehouse.com/community/how-to-setup-mongodb-on-windows-cmd-or-gitbash-with-shortcuts)"
   ]
  },
  {
   "cell_type": "markdown",
   "metadata": {},
   "source": [
    "# USING MONGODB"
   ]
  },
  {
   "cell_type": "markdown",
   "metadata": {},
   "source": [
    "## 📓Initializing Mongodb"
   ]
  },
  {
   "cell_type": "markdown",
   "metadata": {},
   "source": [
    "- In a terminal window, enter `mongod` to initialize the server. \n",
    "    - Just like running a jupyter notebook, the terminal window will remain busy running the server. (LEAVE IT RUNNING)\n",
    "    \n",
    "    \n",
    "- Note to MacOS Catalina users who followed the article above for installation, you would need to add the aliases mentioned in the Install MongoDB article for `mongod` to work.\n",
    "\n",
    "```bash\n",
    "alias mongod='brew services run mongodb-community'\n",
    "alias mongod-status='brew services list'\n",
    "alias mongod-stop='brew services stop mongodb-community'\n",
    "```"
   ]
  },
  {
   "cell_type": "markdown",
   "metadata": {},
   "source": [
    "### Working with MongoDB via Terminal:"
   ]
  },
  {
   "cell_type": "markdown",
   "metadata": {},
   "source": [
    "- Start the server in your terminal using`mongod`\n",
    "- Start a **second terminal** and enter `mongo` to connect to server.\n",
    "- The Normal `$` command prompt will become `>`"
   ]
  },
  {
   "cell_type": "markdown",
   "metadata": {},
   "source": [
    "- Use the `db` command to test if connection working (will see \"test\" if it is)\n",
    "\n",
    "- use `db.help()` to get list of avialable commands.\n",
    "- `df.test.help()`"
   ]
  },
  {
   "cell_type": "markdown",
   "metadata": {},
   "source": [
    "#### Creating, Reading, Updating, and Deleting (CRUD) Information in MongoDB"
   ]
  },
  {
   "cell_type": "markdown",
   "metadata": {},
   "source": [
    "Type the following in the terminal running the mongo instance: \n",
    "\n",
    "`db.test.save( { a: 1 } )`\n",
    "- the spacing is important\n",
    "- there should be a space between the different brackets, as well as the key and value.\n",
    "- Note that the key is directly touching the `:`, but the value is not."
   ]
  },
  {
   "cell_type": "markdown",
   "metadata": {},
   "source": [
    "- the key:value pair with `_id` wil appear after runing `db.test.find()`\n",
    "\n",
    "\n",
    " Let's take a look at how we can write queries or do CRUD operations in Python with the `pymongo` library!\n",
    " \n",
    "> - When done using `mongo`, press Control+C to stop the mongo server"
   ]
  },
  {
   "cell_type": "markdown",
   "metadata": {},
   "source": [
    "## Working with Mongodb through Python with `pymongo`"
   ]
  },
  {
   "cell_type": "markdown",
   "metadata": {},
   "source": [
    "1. Import the `pymongo` library. \n",
    "(if does not exist run `%conda install pymongo` in your notebook.)\n",
    "\n",
    "2. Create a client that is connected to our running mongodb server by using the `pymongo` library's `MongoClient` object and passing it the URL for the server (which the mongo server told us as output when we started it up at the very beginning).\n",
    "\n",
    "3. Get the database that we'll be working with from the `myclient` object -- this can include creating a new database by passing in it's name as a key.\n"
   ]
  },
  {
   "cell_type": "code",
   "execution_count": null,
   "metadata": {},
   "outputs": [],
   "source": [
    "#%conda install pymongo\n",
    "try:\n",
    "    import pymongo\n",
    "except: \n",
    "    print(\"Pymongo not found, running:  %conda install pymongo\")\n",
    "    %conda install pymongo\n",
    "    import pymongo"
   ]
  },
  {
   "cell_type": "code",
   "execution_count": null,
   "metadata": {},
   "outputs": [],
   "source": [
    "myclient = pymongo.MongoClient()#\"mongodb://127.0.0.1:27017/\")\n",
    "myclient"
   ]
  },
  {
   "cell_type": "markdown",
   "metadata": {},
   "source": [
    "- Note that we can get a full list of the names of every database we have by running our clients object's `.list_database_names()` method. "
   ]
  },
  {
   "cell_type": "code",
   "execution_count": null,
   "metadata": {},
   "outputs": [],
   "source": [
    "print(myclient.list_database_names())"
   ]
  },
  {
   "cell_type": "markdown",
   "metadata": {},
   "source": [
    "- Just as a SQL database has tables, a mongo database has **_Collections_** of documents.\n",
    "- We can get a collection or create a new one by passing its name to the database object we created.\n",
    "\n"
   ]
  },
  {
   "cell_type": "code",
   "execution_count": null,
   "metadata": {},
   "outputs": [],
   "source": [
    "mydb = myclient['example_database']\n",
    "mydb"
   ]
  },
  {
   "cell_type": "markdown",
   "metadata": {},
   "source": [
    "We can get collection names by using `mydb.list_collection_names()`\n",
    "\n",
    "Let's add some data to our database and see what we can do with it. "
   ]
  },
  {
   "cell_type": "code",
   "execution_count": null,
   "metadata": {},
   "outputs": [],
   "source": [
    "mydb.list_collection_names()"
   ]
  },
  {
   "cell_type": "code",
   "execution_count": null,
   "metadata": {},
   "outputs": [],
   "source": [
    "mycollection = mydb['example_collection']\n",
    "mycollection"
   ]
  },
  {
   "cell_type": "markdown",
   "metadata": {},
   "source": [
    "### CRUD Operations with `pymongo`\n",
    "\n",
    "To insert a document (in SQL, we would call this a *record*) into a mongoDB collection, we make use of the collection's `.insert_one()` method, and pass in the information we want saved as a Python dictionary. "
   ]
  },
  {
   "cell_type": "code",
   "execution_count": null,
   "metadata": {},
   "outputs": [],
   "source": [
    "example_customer_data = {'name': 'John Doe',\n",
    "                         'address': '123 elm street',\n",
    "                         'age': 28}\n",
    "\n",
    "results = mycollection.insert_one(example_customer_data)\n",
    "results"
   ]
  },
  {
   "cell_type": "markdown",
   "metadata": {},
   "source": [
    "When we insert something into mongo, we get back a `results` object. This object contains the unique `_id` of the object we just inserted inside its `.inserted_id` attribute. "
   ]
  },
  {
   "cell_type": "code",
   "execution_count": null,
   "metadata": {},
   "outputs": [],
   "source": [
    "results.inserted_id"
   ]
  },
  {
   "cell_type": "markdown",
   "metadata": {},
   "source": [
    "If we want to insert 2 or more items at the same time, we can just store the dictionary for each separate record we want to insert in a list and use `.insert_many()` method. "
   ]
  },
  {
   "cell_type": "code",
   "execution_count": null,
   "metadata": {},
   "outputs": [],
   "source": [
    "customer_2 = {'name': 'Jane Doe', 'address': '234 elm street', \n",
    "              'age': 7}\n",
    "customer_3 = {'name': 'Santa Claus', 'address': 'The North Pole',\n",
    "              'age': 547}\n",
    "customer_4 = {'name': 'John Doe jr.', 'address': '', 'age': 0.5}\n",
    "customer_5 = {'name': 'John Doe jr.', 'address': '', 'age': 0.5}\n",
    "\n",
    "list_of_customers = [customer_2, customer_3, customer_4,customer_5]\n",
    "\n",
    "results_2 = mycollection.insert_many(list_of_customers)"
   ]
  },
  {
   "cell_type": "code",
   "execution_count": null,
   "metadata": {},
   "outputs": [],
   "source": [
    "results_2.inserted_ids"
   ]
  },
  {
   "cell_type": "markdown",
   "metadata": {},
   "source": [
    "## Querying data in MongoDB "
   ]
  },
  {
   "cell_type": "markdown",
   "metadata": {},
   "source": [
    "- The quickest and easiest way to get data from a collection is to use the collection object's `.find()` method!\n"
   ]
  },
  {
   "cell_type": "markdown",
   "metadata": {},
   "source": [
    "### 📒📔Using `.find()`"
   ]
  },
  {
   "cell_type": "markdown",
   "metadata": {},
   "source": [
    "- We call `.find()` on collection objects.\n",
    "- To get all results,pass in an empty dictionary:\n",
    "`mycollection.find({})`"
   ]
  },
  {
   "cell_type": "code",
   "execution_count": null,
   "metadata": {},
   "outputs": [],
   "source": [
    "query_1 = mycollection.find({})\n",
    "for x in query_1:\n",
    "    print(x)"
   ]
  },
  {
   "cell_type": "code",
   "execution_count": null,
   "metadata": {},
   "outputs": [],
   "source": [
    "## Note: instead of a loop, you can wrap the .find \n",
    "## with the list function to make a list of results\n",
    "list(mycollection.find({}))"
   ]
  },
  {
   "cell_type": "markdown",
   "metadata": {},
   "source": [
    "### Filtering columns:"
   ]
  },
  {
   "cell_type": "markdown",
   "metadata": {},
   "source": [
    "- Pass a second dictionary with column names and a `1` as the value if you do want the col\n",
    "- Pass 0 as value if you don't \n",
    "- in query 3, we are only excluding age, so taking everything else\n",
    "`query_3 = mycollection.find({}, {'age': 0})`\n",
    "\n",
    "> - You can only choose to include or exclude columns in any given dictionary ( so all values must be one if you want to select columns, or all must be 0's to exclude columns)"
   ]
  },
  {
   "cell_type": "code",
   "execution_count": null,
   "metadata": {},
   "outputs": [],
   "source": [
    "query_1 = mycollection.find({})\n",
    "for x in query_1:\n",
    "    print(x)"
   ]
  },
  {
   "cell_type": "markdown",
   "metadata": {},
   "source": [
    "- In the cell above, we grabbed every field from every item in the entire collection.\n",
    "- **What if we want to get all the names and addresses for each customer, but not the age?** There are two ways we can do this. \n",
    "    1. By passing in a dictionary specifying the fields we want, like so:\n",
    "    ```python \n",
    "mycollection.find({}, {'_id': 1, 'name': 1, 'address': 1})\n",
    "```\n",
    "\n",
    "    2. By passing in a dictionary specifying the fields we DON'T want. \n",
    "    ```python\n",
    "mycollection.find({}, {'_id': 0, 'name': 0, 'address': 0})\n",
    "```"
   ]
  },
  {
   "cell_type": "code",
   "execution_count": null,
   "metadata": {},
   "outputs": [],
   "source": [
    "## Explictly selecting some columns\n",
    "query_2 = mycollection.find({}, {'_id': 1, 'name': 1, 'address': 1})\n",
    "for item in query_2:\n",
    "    print(item)"
   ]
  },
  {
   "cell_type": "code",
   "execution_count": null,
   "metadata": {},
   "outputs": [],
   "source": [
    "## Explicitly excluding age\n",
    "query_3 = mycollection.find({}, {'age': 0})\n",
    "for item in query_3:\n",
    "    print(item)"
   ]
  },
  {
   "cell_type": "markdown",
   "metadata": {},
   "source": [
    "### Filtering Query Results"
   ]
  },
  {
   "cell_type": "markdown",
   "metadata": {},
   "source": [
    "- We'll rarely want to get all the records at once. \n",
    "\n",
    "- If we know the value for a given key, we can pass that key-value pair (or pairs) into `.find()` as a dictionary, and the results will contain the entire document. "
   ]
  },
  {
   "cell_type": "code",
   "execution_count": null,
   "metadata": {},
   "outputs": [],
   "source": [
    "query_4 = mycollection.find({'name': 'Santa Claus'})\n",
    "for item in query_4:\n",
    "    print(item)"
   ]
  },
  {
   "cell_type": "markdown",
   "metadata": {},
   "source": [
    "- We can also filter queries by using **_Modifiers_**. \n",
    "- If we wanted to get record for every person in our collection older than 20. We can signify this with the 'greater than' modifier, `\"$gt\"` and pass in the corresponding value. "
   ]
  },
  {
   "cell_type": "code",
   "execution_count": null,
   "metadata": {},
   "outputs": [],
   "source": [
    "query_5 = mycollection.find({\"age\": {\"$gt\": 20}})\n",
    "for item in query_5:\n",
    "    print(item)"
   ]
  },
  {
   "cell_type": "code",
   "execution_count": null,
   "metadata": {},
   "outputs": [],
   "source": [
    "list(mycollection.find({\"age\": {\"$gt\": 20}}))"
   ]
  },
  {
   "cell_type": "markdown",
   "metadata": {},
   "source": [
    "### 📓 MongoDB Notation/Modifiers\n",
    "\n",
    "https://docs.mongodb.com/manual/reference/operator/query-modifier/\n",
    "\n",
    "| symbol | action |\n",
    "| --- | --- |\n",
    "| \"$gt\" | greater than |\n",
    "| \"\\$lt\" | less than |\n",
    "| \"\\$set\" | setting a specific record, as specified  by <br> a {'col':value_to_insert} dictionary| \n",
    "| \"\\$sum\" |'Sum ' |\n",
    "| \"\\$ne\" | |"
   ]
  },
  {
   "cell_type": "markdown",
   "metadata": {},
   "source": [
    "## Updating Documents"
   ]
  },
  {
   "cell_type": "markdown",
   "metadata": {},
   "source": [
    "- Updating a record works like filtering a query with a specific value, although we also pass in an additional dictionary as the second parameter.\n",
    "- This second parameter will contain the modifier `'$set'` as the key, and a dictionary containing the key-value pair we want to update. "
   ]
  },
  {
   "cell_type": "code",
   "execution_count": null,
   "metadata": {},
   "outputs": [],
   "source": [
    "## Update birthday and age for John Doe\n",
    "record_to_update = {'name' : 'John Doe'}\n",
    "update_1 = {'$set': {'age': 29}}\n",
    "update_2 = {'$set': {'birthday': '02/20/1986'}}\n",
    "\n",
    "mycollection.update_one(record_to_update, update_1)\n",
    "mycollection.update_one(record_to_update, update_2)\n",
    "query_6 = mycollection.find({'name': 'John Doe'})\n",
    "for item in query_6:\n",
    "    print(item)"
   ]
  },
  {
   "cell_type": "markdown",
   "metadata": {},
   "source": [
    "### Deleting Records"
   ]
  },
  {
   "cell_type": "markdown",
   "metadata": {},
   "source": [
    "- We can delete records by using the collection object's `.delete_*()` methods. \n",
    "    -  `delete_one()` for a single deletion, \n",
    "    - `delete_many()` for multiple deletions."
   ]
  },
  {
   "cell_type": "markdown",
   "metadata": {},
   "source": [
    "- Let's try deleting the record for `'John Doe'`:"
   ]
  },
  {
   "cell_type": "code",
   "execution_count": null,
   "metadata": {},
   "outputs": [],
   "source": [
    "deletion_1 = mycollection.delete_one({'name': 'John Doe'})\n",
    "print(deletion_1.deleted_count)"
   ]
  },
  {
   "cell_type": "markdown",
   "metadata": {},
   "source": [
    "- Note that we can also use modifiers here, too! \n",
    "    - For instance, in the cell below, we'll delete all records for customers younger than 10."
   ]
  },
  {
   "cell_type": "code",
   "execution_count": null,
   "metadata": {},
   "outputs": [],
   "source": [
    "deletion_2 = mycollection.delete_one({'age': {'$lt': 10}})\n",
    "print(deletion_2.deleted_count)"
   ]
  },
  {
   "cell_type": "markdown",
   "metadata": {},
   "source": [
    "### Deleting By ID"
   ]
  },
  {
   "cell_type": "code",
   "execution_count": null,
   "metadata": {},
   "outputs": [],
   "source": [
    "johns =list(mycollection.find({\"name\":'John Doe jr.'}))\n",
    "johns"
   ]
  },
  {
   "cell_type": "code",
   "execution_count": null,
   "metadata": {},
   "outputs": [],
   "source": [
    "deleted = mycollection.delete_one({'_id':'5ebc6da07d8c59d444d93d85'})\n",
    "deleted.deleted_count"
   ]
  },
  {
   "cell_type": "code",
   "execution_count": null,
   "metadata": {},
   "outputs": [],
   "source": [
    "print(johns[0]['_id'])"
   ]
  },
  {
   "cell_type": "markdown",
   "metadata": {},
   "source": [
    "- To delete via document's ID, you must first import an object called `ObjectId` from `bson` (binary json).\n",
    "- Get the \"`_id`\" of document to delete.\n",
    "- To delete use `mycollection.delete_one({'_id':ObjectID(<insert id here>)`"
   ]
  },
  {
   "cell_type": "code",
   "execution_count": null,
   "metadata": {},
   "outputs": [],
   "source": [
    "from bson import ObjectId\n",
    "query = {'_id':ObjectId('5ebc6da07d8c59d444d93d85')}\n",
    "list(mycollection.find(query))"
   ]
  },
  {
   "cell_type": "code",
   "execution_count": null,
   "metadata": {},
   "outputs": [],
   "source": [
    "deletion_3 = mycollection.delete_one(query)\n",
    "deletion_3.deleted_count"
   ]
  },
  {
   "cell_type": "code",
   "execution_count": null,
   "metadata": {},
   "outputs": [],
   "source": [
    "johns =list(mycollection.find({\"name\":'John Doe jr.'}))\n",
    "johns"
   ]
  },
  {
   "cell_type": "code",
   "execution_count": null,
   "metadata": {},
   "outputs": [],
   "source": [
    "deleted = mycollection.delete_many({})\n",
    "deleted.deleted_count"
   ]
  },
  {
   "cell_type": "code",
   "execution_count": null,
   "metadata": {},
   "outputs": [],
   "source": [
    "res = mycollection.find({})\n",
    "[print(x) for x in res]"
   ]
  },
  {
   "cell_type": "markdown",
   "metadata": {},
   "source": [
    "# Demo/Activity: Storing Instagram Puppies with MongoDB"
   ]
  },
  {
   "cell_type": "markdown",
   "metadata": {},
   "source": [
    "> We will use some advanced webscraping to grab the urls and captions for Puppies posts from instagram."
   ]
  },
  {
   "cell_type": "markdown",
   "metadata": {},
   "source": [
    "> #### To run this notebook on your own computer:\n",
    "> - Open `password.py` and enter your Instagram username and password (this file is already added to the repo's  .gitignore so it won't be pushed to GitHub) \n",
    "- If it doesn't exist yet, the following cell will create it."
   ]
  },
  {
   "cell_type": "code",
   "execution_count": null,
   "metadata": {},
   "outputs": [],
   "source": [
    "## check for password.py (don't modify this cell!!!)\n",
    "import os \n",
    "FILE = './password.py'\n",
    "if os.path.exists(FILE) == False:\n",
    "    print(f\"[!] {FILE} does not exist.\")\n",
    "    with open(FILE,'w') as f:\n",
    "        f.write(\"\"\"password = ''\n",
    "username = ''\n",
    "\"\"\")\n",
    "    print(f\"- {FILE} created. \\n\\tPlease modify with your personal login\")\n",
    "else:\n",
    "    print(f'[!] {FILE} already exists. \\n\\tPlease verify it contains your personal login')"
   ]
  },
  {
   "cell_type": "code",
   "execution_count": null,
   "metadata": {},
   "outputs": [],
   "source": [
    "## Once youve added your username and password to password.py, run the following:\n",
    "import password as pw"
   ]
  },
  {
   "cell_type": "markdown",
   "metadata": {},
   "source": [
    "### A Taste of Advanced WebScraping"
   ]
  },
  {
   "cell_type": "markdown",
   "metadata": {},
   "source": [
    "- We will learn basic web scraping for topic 10 where we will be using `BeautifulSoup`. \n",
    "- Note that if we want to access data from a website that requires a login, we will need a more advanced toolkit.\n",
    "\n",
    "\n",
    "- **Introducing [Selenium](https://selenium-python.readthedocs.io/) and its WebDriver class.**\n",
    "   - [Getting Started](https://selenium-python.readthedocs.io/getting-started.html) Documentation"
   ]
  },
  {
   "cell_type": "code",
   "execution_count": null,
   "metadata": {},
   "outputs": [],
   "source": [
    "from bs4 import BeautifulSoup\n",
    "from selenium import webdriver\n",
    "from selenium.webdriver.support.ui import WebDriverWait \n",
    "from selenium.webdriver.common.keys import Keys\n",
    "from selenium.webdriver.common.by import By\n",
    "import time"
   ]
  },
  {
   "cell_type": "markdown",
   "metadata": {},
   "source": [
    "- Make sure you have the Chrome Web Driver installed (https://chromedriver.chromium.org/downloads), as well as selenium\n",
    "- Follow the instructions [here for saving the .exe to your path.](https://www.selenium.dev/documentation/en/webdriver/driver_requirements/#adding-executables-to-your-path)"
   ]
  },
  {
   "cell_type": "code",
   "execution_count": null,
   "metadata": {},
   "outputs": [],
   "source": [
    "## Open a python-controlled chrome browser\n",
    "driver = webdriver.Chrome(\"/opt/WebDriver/bin/chromedriver\")\n",
    "\n",
    "## Go to instagram's login page\n",
    "driver.get(\"https://www.instagram.com/accounts/login/\")\n",
    "time.sleep(2)\n",
    "\n",
    "## Find the Email and Password elements\n",
    "email_input = driver.find_element_by_xpath(\"//input[@name='username']\")\n",
    "password_input = driver.find_element_by_xpath(\"//input[@name='password']\")\n",
    "time.sleep(2)\n",
    "email_input"
   ]
  },
  {
   "cell_type": "code",
   "execution_count": null,
   "metadata": {},
   "outputs": [],
   "source": [
    "## Send username and password to login fields\n",
    "email_input.send_keys(pw.username)\n",
    "password_input.send_keys(pw.password)\n",
    "\n",
    "## Find and click the submit button\n",
    "login = driver.find_element_by_xpath('//*[@id=\"loginForm\"]/div/div[3]/button')\n",
    "login.click()"
   ]
  },
  {
   "cell_type": "code",
   "execution_count": null,
   "metadata": {},
   "outputs": [],
   "source": [
    "## Click through the 2 Not Now screens\n",
    "for i in range(2):\n",
    "    try: \n",
    "\n",
    "        not_now = WebDriverWait(driver, 15).until(\n",
    "            lambda d: d.find_element_by_xpath('//button[text()=\"Not Now\"]')\n",
    "        )\n",
    "        not_now.click()\n",
    "    except: \n",
    "        pass"
   ]
  },
  {
   "cell_type": "markdown",
   "metadata": {},
   "source": [
    "> Now that we have logged in, let's explore the puppies tag"
   ]
  },
  {
   "cell_type": "code",
   "execution_count": null,
   "metadata": {},
   "outputs": [],
   "source": [
    "## open puppies tag page\n",
    "driver.get(\"https://www.instagram.com/explore/tags/puppies/\")"
   ]
  },
  {
   "cell_type": "code",
   "execution_count": null,
   "metadata": {},
   "outputs": [],
   "source": [
    "## Save the html source code as a BeautifulSoup\n",
    "soup = BeautifulSoup(driver.page_source)\n",
    "\n",
    "## close the webdriver's chrome window\n",
    "driver.close()"
   ]
  },
  {
   "cell_type": "markdown",
   "metadata": {},
   "source": [
    "> - The variable soup now contains a beautiful soup object of all the html elements related to the image grid on Instagram. \n",
    "> - Loop over this object and store the image url and the category text into your MongoDB. "
   ]
  },
  {
   "cell_type": "code",
   "execution_count": null,
   "metadata": {},
   "outputs": [],
   "source": [
    "## Find all 'img' tags  and list how many tags in list\n"
   ]
  },
  {
   "cell_type": "code",
   "execution_count": null,
   "metadata": {},
   "outputs": [],
   "source": [
    "## select an image # and slice out 1 image\n"
   ]
  },
  {
   "cell_type": "code",
   "execution_count": null,
   "metadata": {},
   "outputs": [],
   "source": [
    "## Display an image of a dog\n",
    "from PIL import Image\n",
    "import requests\n",
    "from io import BytesIO\n",
    "\n",
    "def show_web_image(url):\n",
    "    \"\"\"Returns a PIL Image of the provided url\n",
    "     Code from https://stackoverflow.com/questions/7391945/how-do-i-read-image-data-from-a-url-in-python\"\"\"\n",
    "    response = requests.get(url)\n",
    "    img = Image.open(BytesIO(response.content))\n",
    "    return img"
   ]
  },
  {
   "cell_type": "code",
   "execution_count": null,
   "metadata": {},
   "outputs": [],
   "source": [
    "## Create a mongodb client and an insta_db\n",
    "\n",
    "# create your insta_collection\n"
   ]
  },
  {
   "cell_type": "code",
   "execution_count": null,
   "metadata": {},
   "outputs": [],
   "source": [
    "## Lets the find the url and alt text for 1 dog\n"
   ]
  },
  {
   "cell_type": "code",
   "execution_count": null,
   "metadata": {},
   "outputs": [],
   "source": [
    "## View the image from the url\n"
   ]
  },
  {
   "cell_type": "code",
   "execution_count": null,
   "metadata": {},
   "outputs": [],
   "source": [
    "## Insert One Dog into db\n",
    "# use 'src','alt', and 'Dog #' as keys\n"
   ]
  },
  {
   "cell_type": "code",
   "execution_count": null,
   "metadata": {},
   "outputs": [],
   "source": [
    "## Check if our dog was inserted\n"
   ]
  },
  {
   "cell_type": "code",
   "execution_count": null,
   "metadata": {},
   "outputs": [],
   "source": [
    "## Insert all dogs by first generating a list of dicts\n"
   ]
  },
  {
   "cell_type": "code",
   "execution_count": null,
   "metadata": {},
   "outputs": [],
   "source": [
    "## insert the dogs dict using insert_many\n"
   ]
  },
  {
   "cell_type": "code",
   "execution_count": null,
   "metadata": {},
   "outputs": [],
   "source": [
    "## In a final loop, get all dogs, print the dog # & alt text and show the image\n"
   ]
  },
  {
   "cell_type": "markdown",
   "metadata": {},
   "source": [
    "___"
   ]
  },
  {
   "cell_type": "markdown",
   "metadata": {
    "heading_collapsed": true
   },
   "source": [
    "# Appendix - Detailed Installation Instructions"
   ]
  },
  {
   "cell_type": "markdown",
   "metadata": {
    "hidden": true
   },
   "source": [
    "### Instructions for Windows Users"
   ]
  },
  {
   "cell_type": "markdown",
   "metadata": {
    "hidden": true
   },
   "source": [
    "#### Resources for Installing MongoDB - Windows 10\n",
    "- [Video on installing MongoDB by Downloading from Mongo](https://youtu.be/UJQiGBDKXY0) **updated url 03/04/21**\n",
    "\n",
    "- [Article on Getting MongoDB Working in GitBash](https://teamtreehouse.com/community/how-to-setup-mongodb-on-windows-cmd-or-gitbash-with-shortcuts)\n",
    "\n",
    "\n",
    "\n",
    "\n",
    "#### Installation Steps\n",
    "1. Download and install MongoDB from  https://www.mongodb.com/download-center/community \n",
    "    - Watch the video above to instructions on what options to select.\n",
    "    \n",
    "    \n",
    "2. After installation is complete, open a GitBash Terminal As Administrator\n",
    "    - In the Start Menu find and right click on GitBash > Run as Administrator. \n",
    "\n",
    "\n",
    "3. You must add the bin folder inside of MongoDB's Program Files to your system path.\n",
    "    - To edit system path (see above article) type the following in GitBash:\n",
    "    ```shell\n",
    "    rundll32 sysdm.cpl,EditEnvironmentVariables```\n",
    "    - In the window that pops-up, edit Path and Add `C:/Programs Files/MongoDB/<whatever version is install>/bin` to the Path variable.\n",
    "    - Close the settings window when complete.\n",
    "    \n",
    "    \n",
    "4. You must manually create the `c:/data` and `c:/data/db` folders SEPERATELY\n",
    "    - Use gitbash to create c:/data FIRST, cd into data and then mkdir db  \n",
    "    - This replaces the official step in the notebook below (`sudo mkdir -p /data/db`)\n",
    "\n",
    "\n",
    "5. Give the directory the correct permission: \n",
    "```bash\n",
    "sudo chown -R `id -un` /data/db\n",
    "```\n",
    "\n",
    "5. (You may still need to run `conda install mongodb` even though we installed it directly.)\n",
    "\n",
    "6. Finall, make sure that pymongo is installed \n",
    "```bash\n",
    "conda install pymongo\n",
    "```\n",
    "\n",
    "7. Now you should be all set and `mongod`should work!"
   ]
  },
  {
   "cell_type": "markdown",
   "metadata": {
    "hidden": true
   },
   "source": [
    "### Instructions for MacOS Catalina\n"
   ]
  },
  {
   "cell_type": "markdown",
   "metadata": {
    "hidden": true
   },
   "source": [
    "- Follow the instructions from these 2 links:\n",
    "    1. https://zellwk.com/blog/install-mongodb/\n",
    "    2. https://zellwk.com/blog/local-mongodb/\n",
    "    \n",
    "#### Summary: \n",
    "\n",
    "1.  Install Home brew\n",
    "```bash\n",
    "/usr/bin/ruby -e \"$(curl -fsSL https://raw.githubusercontent.com/Homebrew/install/master/install)\"\n",
    "```\n",
    "\n",
    "2. Install mongodb\n",
    "```bash\n",
    "brew tap mongodb/brew\n",
    "brew install mongodb-community\n",
    "```"
   ]
  }
 ],
 "metadata": {
  "kernelspec": {
   "display_name": "learn-env-new",
   "language": "python",
   "name": "learn-env-new"
  },
  "language_info": {
   "codemirror_mode": {
    "name": "ipython",
    "version": 3
   },
   "file_extension": ".py",
   "mimetype": "text/x-python",
   "name": "python",
   "nbconvert_exporter": "python",
   "pygments_lexer": "ipython3",
   "version": "3.8.5"
  },
  "toc": {
   "base_numbering": 1,
   "nav_menu": {},
   "number_sections": false,
   "sideBar": true,
   "skip_h1_title": false,
   "title_cell": "Table of Contents",
   "title_sidebar": "Contents",
   "toc_cell": false,
   "toc_position": {
    "height": "calc(100% - 180px)",
    "left": "10px",
    "top": "150px",
    "width": "256px"
   },
   "toc_section_display": true,
   "toc_window_display": false
  },
  "varInspector": {
   "cols": {
    "lenName": 16,
    "lenType": 16,
    "lenVar": 40
   },
   "kernels_config": {
    "python": {
     "delete_cmd_postfix": "",
     "delete_cmd_prefix": "del ",
     "library": "var_list.py",
     "varRefreshCmd": "print(var_dic_list())"
    },
    "r": {
     "delete_cmd_postfix": ") ",
     "delete_cmd_prefix": "rm(",
     "library": "var_list.r",
     "varRefreshCmd": "cat(var_dic_list()) "
    }
   },
   "types_to_exclude": [
    "module",
    "function",
    "builtin_function_or_method",
    "instance",
    "_Feature"
   ],
   "window_display": false
  }
 },
 "nbformat": 4,
 "nbformat_minor": 2
}
