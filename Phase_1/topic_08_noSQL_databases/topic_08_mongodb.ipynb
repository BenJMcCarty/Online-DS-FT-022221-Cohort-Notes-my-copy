{
 "cells": [
  {
   "cell_type": "markdown",
   "metadata": {},
   "source": [
    "# Topic 08: NoSQL Databases "
   ]
  },
  {
   "cell_type": "markdown",
   "metadata": {},
   "source": [
    "- 03/09/21\n",
    "- onl01-dtsc-ft-022221"
   ]
  },
  {
   "cell_type": "markdown",
   "metadata": {},
   "source": [
    "## Learning Objectives\n",
    "- Discuss other database structures beyond SQL databases\n",
    "- Walk through installation and usage of MongoDB and pymongo.\n",
    "    - Review updated installation instructions from James. \n",
    "\n",
    "\n",
    "#### - Activity: MongoDB Lab ?"
   ]
  },
  {
   "cell_type": "markdown",
   "metadata": {},
   "source": [
    "## Questions \n"
   ]
  },
  {
   "cell_type": "markdown",
   "metadata": {},
   "source": []
  },
  {
   "cell_type": "markdown",
   "metadata": {},
   "source": [
    "# NoSQL - Not Only SQL"
   ]
  },
  {
   "cell_type": "markdown",
   "metadata": {},
   "source": [
    "## What's wrong with SQL? "
   ]
  },
  {
   "cell_type": "markdown",
   "metadata": {},
   "source": [
    "- SQL offers a ton of structure for storing data \n",
    "    - That structure requires data to come in, in a certain way (aka your data must have structure) \n",
    "    - Structure comes at the cost of speed \n",
    "    \n",
    "    \n",
    "- SQL structure is very rigid - if you want to change the schema it requires you to change all of your existing data to match the new schema \n",
    "\n",
    "\n",
    "- Large data requires distributed computing (many computers working together to accomplish the same task) - Executing distributed joins is a very complex problem in relational databases. "
   ]
  },
  {
   "cell_type": "markdown",
   "metadata": {},
   "source": [
    "## What does NoSQL offer? "
   ]
  },
  {
   "cell_type": "markdown",
   "metadata": {},
   "source": [
    "- Schemaless − Number of fields, content and size of the data object can differ from one data object to another.\n",
    "- You can store virtually any kind of data. \n",
    "- Structure of a single object is clear.\n",
    "- No complex joins.\n",
    "- To scale up and handle more queries, just add more machines\n",
    "- You can change the schema of your database on the fly"
   ]
  },
  {
   "cell_type": "markdown",
   "metadata": {},
   "source": [
    "## Types of NoSQL Databases"
   ]
  },
  {
   "cell_type": "markdown",
   "metadata": {},
   "source": [
    "<img style='width: 400px' src='images/nosql-types.png/'>"
   ]
  },
  {
   "cell_type": "markdown",
   "metadata": {},
   "source": [
    "<b>Document databases</b> pair each key with a complex data structure known as a document. Documents can contain many different key-value pairs, or key-array pairs, or even nested documents."
   ]
  },
  {
   "cell_type": "markdown",
   "metadata": {},
   "source": [
    "<div   style='clear: both; display: table;'>\n",
    "    <div style='float:left; size: 250px'>\n",
    "        <img  style='align: center; width:150px' src='images/mongodb.png' /></div>\n",
    "    <div style='float:left; size: 250px'>\n",
    "        <img style='align: center;' src='images/couchdb.png' /></div>\n",
    "    <div style= 'float: left; width: 250px'>\n",
    "        <img style='align: center; width: 200px' src='images/documentdb.png' /></div>\n",
    "</div>"
   ]
  },
  {
   "cell_type": "markdown",
   "metadata": {},
   "source": [
    "<b>Graph stores</b> are used to store information about networks of data, such as social connections. Graph stores include Neo4J and Giraph."
   ]
  },
  {
   "cell_type": "markdown",
   "metadata": {},
   "source": [
    "<div style='clear: both; display: table;'>\n",
    "    <div style='float:left; size: 250px'>\n",
    "        <img  style='align: center; width:150px' src='images/ApacheGiraph.svg' /></div>\n",
    "    <div style='float:left; size: 250px'>\n",
    "        <img style='align: center;' src='images/neo4j.png' /></div>\n",
    "</div>"
   ]
  },
  {
   "cell_type": "markdown",
   "metadata": {},
   "source": [
    "<b>Key-value</b> stores are the simplest NoSQL databases. Every single item in the database is stored as an attribute name (or 'key'), together with its value. Examples of key-value stores are Riak and Berkeley DB. "
   ]
  },
  {
   "cell_type": "markdown",
   "metadata": {},
   "source": [
    "<div   style='clear: both; display: table;'>\n",
    "    <div style='float:left; size: 250px'>\n",
    "        <img  style='align: center; width:150px' src='images/riak.png' /></div>\n",
    "    <div style='float:left; size: 250px'>\n",
    "        <img style='align: center;' src='images/dynamodb.jpeg' /></div>\n",
    "</div>"
   ]
  },
  {
   "cell_type": "markdown",
   "metadata": {},
   "source": [
    "<b>Wide-column stores</b> such as Cassandra and HBase are optimized for queries over large datasets, and store columns of data together, instead of rows."
   ]
  },
  {
   "cell_type": "markdown",
   "metadata": {},
   "source": [
    "<img src='images/widcolumn.jpg'/>"
   ]
  },
  {
   "cell_type": "markdown",
   "metadata": {},
   "source": [
    "## What is MongoDB"
   ]
  },
  {
   "cell_type": "markdown",
   "metadata": {},
   "source": [
    "MongoDB stores data in flexible, JSON-like documents, meaning fields can vary from document to document and data structure can be changed over time"
   ]
  },
  {
   "cell_type": "markdown",
   "metadata": {},
   "source": [
    "<b>Data Structure</b>\n",
    "\n",
    "Single Entry = Document"
   ]
  },
  {
   "cell_type": "markdown",
   "metadata": {},
   "source": [
    "` { \n",
    "  _id: ObjectId(8af37bd7891c), \n",
    "  title: 'MongoDB Lab',\n",
    "  description: 'Introductory lab on how to use MongoDB',\n",
    "  by: 'Flatiron School',\n",
    "  topics: ['mongodb', 'database', 'NoSQL', 'JSON']  \n",
    "   } `"
   ]
  },
  {
   "cell_type": "markdown",
   "metadata": {},
   "source": [
    "You can embed documents inside documents! "
   ]
  },
  {
   "cell_type": "markdown",
   "metadata": {},
   "source": [
    "<img src ='images/househouse.gif' />"
   ]
  },
  {
   "cell_type": "markdown",
   "metadata": {},
   "source": [
    "`{ \n",
    "  _id: ObjectId(8af37bd78ssc), \n",
    "  title: 'Other Lab',\n",
    "  description: 'Introductory lab on how to use something',\n",
    "  by: 'Flatiron School',\n",
    "  topics: ['blah', 'blah', 'blah', 'blah'],\n",
    "  author: {\n",
    "          _id: ObjectId(83928shkjw183),\n",
    "          name: Vishal Patel,\n",
    "          building: 11 Broadway\n",
    "          }\n",
    "   }`"
   ]
  },
  {
   "cell_type": "markdown",
   "metadata": {},
   "source": [
    "##### Why would we want to nest objects? "
   ]
  },
  {
   "cell_type": "markdown",
   "metadata": {},
   "source": [
    "Multiple Documents = Collection"
   ]
  },
  {
   "cell_type": "markdown",
   "metadata": {},
   "source": [
    "` { \n",
    "  _id: ObjectId(8af37bd7891c), \n",
    "  title: 'MongoDB Lab',\n",
    "  description: 'Introductory lab on how to use MongoDB',\n",
    "  by: 'Flatiron School',\n",
    "  topics: ['mongodb', 'database', 'NoSQL', 'JSON']  \n",
    "   }, \n",
    "{ \n",
    "  _id: ObjectId(8af37bd78ssc), \n",
    "  title: 'Other Lab',\n",
    "  description: 'Introductory lab on how to use something',\n",
    "  by: 'Flatiron School',\n",
    "  topics: ['blah', 'blah', 'blah', 'blah']  \n",
    "   }\n",
    "`"
   ]
  },
  {
   "cell_type": "code",
   "execution_count": null,
   "metadata": {},
   "outputs": [],
   "source": []
  },
  {
   "cell_type": "markdown",
   "metadata": {},
   "source": [
    "# MongoDB"
   ]
  },
  {
   "cell_type": "markdown",
   "metadata": {},
   "source": [
    "## MongoDB Installation Instructions - 2021\n"
   ]
  },
  {
   "cell_type": "markdown",
   "metadata": {},
   "source": [
    "#### MacOS\n",
    "- **[Video Walk Through - Mac OS](https://youtu.be/OpKEw7093F8)**\n",
    "\n",
    "- For additional tips, follow the instructions from these 2 links:\n",
    "    1. https://zellwk.com/blog/install-mongodb/\n",
    "    2. https://zellwk.com/blog/local-mongodb/\n",
    "    \n",
    "\n",
    "\n",
    "\n",
    "#### Windows\n",
    "- **[Video Walk Through - Windows](https://youtu.be/UJQiGBDKXY0)**\n",
    "\n",
    "- [Article on Getting MongoDB Working in GitBash](https://teamtreehouse.com/community/how-to-setup-mongodb-on-windows-cmd-or-gitbash-with-shortcuts)"
   ]
  },
  {
   "cell_type": "markdown",
   "metadata": {},
   "source": [
    "## Working with MongoDB"
   ]
  },
  {
   "cell_type": "markdown",
   "metadata": {},
   "source": [
    "Assuming you have installed/setup mongo and pip installed pymongo..."
   ]
  },
  {
   "cell_type": "code",
   "execution_count": 1,
   "metadata": {},
   "outputs": [],
   "source": [
    "# %conda install pymongo\n",
    "import pymongo"
   ]
  },
  {
   "cell_type": "code",
   "execution_count": 2,
   "metadata": {},
   "outputs": [],
   "source": [
    "#connect to your server - it should be running at 'mongodb://127.0.0.1:27017/'\n",
    "myclient = pymongo.MongoClient(\"mongodb://127.0.0.1:27017/\")\n",
    "\n",
    "#grab a database from your server \n",
    "mydb = myclient['example_data']\n",
    "\n",
    "#this can be a new one or an existing one (if it doesn't exist, it will get \n",
    "# create when you write data into it)"
   ]
  },
  {
   "cell_type": "code",
   "execution_count": 3,
   "metadata": {},
   "outputs": [
    {
     "data": {
      "text/plain": [
       "['admin', 'config', 'local']"
      ]
     },
     "execution_count": 3,
     "metadata": {},
     "output_type": "execute_result"
    }
   ],
   "source": [
    "myclient.list_database_names()"
   ]
  },
  {
   "cell_type": "code",
   "execution_count": 4,
   "metadata": {},
   "outputs": [],
   "source": [
    "#initialize an empty collection - this where your 'documents' will go\n",
    "mycollection = mydb['example_collection']"
   ]
  },
  {
   "cell_type": "code",
   "execution_count": 5,
   "metadata": {},
   "outputs": [
    {
     "data": {
      "text/plain": [
       "<pymongo.results.InsertOneResult at 0x7f8e70c36a00>"
      ]
     },
     "execution_count": 5,
     "metadata": {},
     "output_type": "execute_result"
    }
   ],
   "source": [
    "example_data = {'name': 'John Doe', \n",
    "                'address': '123 elm street',\n",
    "                'age': 28, \n",
    "                'children': ['Jane', 'Joe']}\n",
    "mycollection.insert_one(example_data)"
   ]
  },
  {
   "cell_type": "code",
   "execution_count": 6,
   "metadata": {},
   "outputs": [],
   "source": [
    "#get all the documents in a collection\n",
    "query = mycollection.find({})"
   ]
  },
  {
   "cell_type": "code",
   "execution_count": 7,
   "metadata": {},
   "outputs": [
    {
     "name": "stdout",
     "output_type": "stream",
     "text": [
      "{'_id': ObjectId('6045209fad12e1809a9a8b52'), 'name': 'John Doe', 'address': '123 elm street', 'age': 28, 'children': ['Jane', 'Joe']}\n"
     ]
    }
   ],
   "source": [
    "for document in query:\n",
    "    print(document)"
   ]
  },
  {
   "cell_type": "code",
   "execution_count": 8,
   "metadata": {},
   "outputs": [
    {
     "data": {
      "text/plain": [
       "<pymongo.results.InsertManyResult at 0x7f8e70c43340>"
      ]
     },
     "execution_count": 8,
     "metadata": {},
     "output_type": "execute_result"
    }
   ],
   "source": [
    "example_data_2 = [{ 'name': 'FangFang', 'address': 'Somewhere'}, \n",
    "                  {'name':'Vishal'}, \n",
    "                  {'name' : 'TayTay', 'address': 'everywhere'}\n",
    "                 ]\n",
    "mycollection.insert_many(example_data_2)"
   ]
  },
  {
   "cell_type": "code",
   "execution_count": 9,
   "metadata": {},
   "outputs": [],
   "source": [
    "query_1 = mycollection.find({})"
   ]
  },
  {
   "cell_type": "code",
   "execution_count": 10,
   "metadata": {
    "scrolled": true
   },
   "outputs": [
    {
     "name": "stdout",
     "output_type": "stream",
     "text": [
      "{'_id': ObjectId('6045209fad12e1809a9a8b52'), 'name': 'John Doe', 'address': '123 elm street', 'age': 28, 'children': ['Jane', 'Joe']}\n",
      "{'_id': ObjectId('604520a4ad12e1809a9a8b53'), 'name': 'FangFang', 'address': 'Somewhere'}\n",
      "{'_id': ObjectId('604520a4ad12e1809a9a8b54'), 'name': 'Vishal'}\n",
      "{'_id': ObjectId('604520a4ad12e1809a9a8b55'), 'name': 'TayTay', 'address': 'everywhere'}\n"
     ]
    }
   ],
   "source": [
    "for document in query_1:\n",
    "    print(document)"
   ]
  },
  {
   "cell_type": "code",
   "execution_count": 11,
   "metadata": {},
   "outputs": [],
   "source": [
    "query_2 = mycollection.find({'name': 'John Doe'})"
   ]
  },
  {
   "cell_type": "code",
   "execution_count": 12,
   "metadata": {
    "scrolled": true
   },
   "outputs": [
    {
     "name": "stdout",
     "output_type": "stream",
     "text": [
      "{'_id': ObjectId('6045209fad12e1809a9a8b52'), 'name': 'John Doe', 'address': '123 elm street', 'age': 28, 'children': ['Jane', 'Joe']}\n"
     ]
    }
   ],
   "source": [
    "for document in query_2:\n",
    "    print(document)"
   ]
  },
  {
   "cell_type": "code",
   "execution_count": 13,
   "metadata": {},
   "outputs": [],
   "source": [
    "#searching for a record\n",
    "query_3 = mycollection.find({'name': 'John Doe'})"
   ]
  },
  {
   "cell_type": "code",
   "execution_count": 14,
   "metadata": {
    "scrolled": true
   },
   "outputs": [
    {
     "name": "stdout",
     "output_type": "stream",
     "text": [
      "{'_id': ObjectId('6045209fad12e1809a9a8b52'), 'name': 'John Doe', 'address': '123 elm street', 'age': 28, 'children': ['Jane', 'Joe']}\n"
     ]
    }
   ],
   "source": [
    "for document in query_3:\n",
    "    print(document)"
   ]
  },
  {
   "cell_type": "code",
   "execution_count": 15,
   "metadata": {},
   "outputs": [
    {
     "data": {
      "text/plain": [
       "<pymongo.results.UpdateResult at 0x7f8e70c57600>"
      ]
     },
     "execution_count": 15,
     "metadata": {},
     "output_type": "execute_result"
    }
   ],
   "source": [
    "#updating records is super easy! \n",
    "record_to_update = {'name' : 'John Doe'}\n",
    "update_1 = {'$set': {'age': 29, 'birthday': '2/8/1990'}}\n",
    "\n",
    "mycollection.update_many(record_to_update, update_1)"
   ]
  },
  {
   "cell_type": "code",
   "execution_count": 16,
   "metadata": {},
   "outputs": [
    {
     "name": "stdout",
     "output_type": "stream",
     "text": [
      "{'_id': ObjectId('6045209fad12e1809a9a8b52'), 'name': 'John Doe', 'address': '123 elm street', 'age': 29, 'children': ['Jane', 'Joe'], 'birthday': '2/8/1990'}\n"
     ]
    }
   ],
   "source": [
    "#searching in a list in a document\n",
    "query_4 = mycollection.find({'children': 'Jane'})\n",
    "for item in query_4:\n",
    "    print(item)"
   ]
  },
  {
   "cell_type": "code",
   "execution_count": 17,
   "metadata": {},
   "outputs": [
    {
     "data": {
      "text/plain": [
       "<pymongo.results.UpdateResult at 0x7f8e70c57800>"
      ]
     },
     "execution_count": 17,
     "metadata": {},
     "output_type": "execute_result"
    }
   ],
   "source": [
    "#removing a key:value from a document\n",
    "update_2 = {'$unset': {'brithday': ''}}\n",
    "\n",
    "mycollection.update_many(record_to_update, update_2)"
   ]
  },
  {
   "cell_type": "code",
   "execution_count": 18,
   "metadata": {},
   "outputs": [
    {
     "name": "stdout",
     "output_type": "stream",
     "text": [
      "{'_id': ObjectId('6045209fad12e1809a9a8b52'), 'name': 'John Doe', 'address': '123 elm street', 'age': 29, 'children': ['Jane', 'Joe'], 'birthday': '2/8/1990'}\n"
     ]
    }
   ],
   "source": [
    "query_5 = mycollection.find({'name': 'John Doe'})\n",
    "for item in query_5:\n",
    "    print(item)"
   ]
  },
  {
   "cell_type": "code",
   "execution_count": 19,
   "metadata": {},
   "outputs": [
    {
     "data": {
      "text/plain": [
       "<pymongo.results.DeleteResult at 0x7f8e70c55140>"
      ]
     },
     "execution_count": 19,
     "metadata": {},
     "output_type": "execute_result"
    }
   ],
   "source": [
    "#delete record\n",
    "mycollection.delete_one({'name' : 'John Doe'})"
   ]
  },
  {
   "cell_type": "code",
   "execution_count": 20,
   "metadata": {},
   "outputs": [
    {
     "data": {
      "text/plain": [
       "<pymongo.results.DeleteResult at 0x7f8e70c57f80>"
      ]
     },
     "execution_count": 20,
     "metadata": {},
     "output_type": "execute_result"
    }
   ],
   "source": [
    "#delete all records\n",
    "mycollection.delete_many({})"
   ]
  },
  {
   "cell_type": "markdown",
   "metadata": {},
   "source": [
    "#### Your Turn"
   ]
  },
  {
   "cell_type": "markdown",
   "metadata": {},
   "source": [
    "Open password.py and enter your Instagram username and password (remember to remove this or add it your .gitignore before pushing up to GitHub) "
   ]
  },
  {
   "cell_type": "code",
   "execution_count": null,
   "metadata": {},
   "outputs": [],
   "source": [
    "from bs4 import BeautifulSoup\n",
    "from selenium import webdriver\n",
    "from selenium.webdriver.support.ui import WebDriverWait \n",
    "from selenium.webdriver.common.keys import Keys\n",
    "from selenium.webdriver.common.by import By\n",
    "\n",
    "from password import *"
   ]
  },
  {
   "cell_type": "code",
   "execution_count": null,
   "metadata": {
    "scrolled": true
   },
   "outputs": [],
   "source": [
    "driver = webdriver.Chrome()\n",
    "driver.get(\"https://www.instagram.com/accounts/login/\")\n",
    "email_input = driver.find_elements_by_css_selector('form input')[0]\n",
    "password_input = driver.find_elements_by_css_selector('form input')[1]\n",
    "email_input.send_keys(username)\n",
    "password_input.send_keys(password)\n",
    "login = driver.find_element_by_xpath('//*[@id=\"react-root\"]/section/main/div/article/div/div[1]/div/form/div[4]/button')\n",
    "login.click()\n",
    "try: \n",
    "    not_now = WebDriverWait(driver, 15).until(\n",
    "        lambda d: d.find_element_by_xpath('//button[text()=\"Not Now\"]')\n",
    "    )\n",
    "    not_now.click()\n",
    "except: \n",
    "    pass\n",
    "driver.get(\"https://www.instagram.com/explore/tags/puppies/\")\n",
    "grid = driver.find_element_by_xpath('//*[@id=\"react-root\"]/section/main/article/div[1]/div/div')\n",
    "html = grid.get_attribute('innerHTML')\n",
    "driver.close()\n",
    "soup = BeautifulSoup(html)"
   ]
  },
  {
   "cell_type": "markdown",
   "metadata": {},
   "source": [
    "The variable soup now contains a beautiful soup object of all the html elements related to the image grid on Instagram. Loop over this object and store the image url and the category text into your MongoDB. "
   ]
  },
  {
   "cell_type": "code",
   "execution_count": null,
   "metadata": {},
   "outputs": [],
   "source": []
  },
  {
   "cell_type": "code",
   "execution_count": null,
   "metadata": {},
   "outputs": [],
   "source": [
    "#the code below is to access the image src (url) and the description of the first element (an image) \n",
    "#in your 'soup'\n",
    "soup.findAll('img')[0]['src']\n",
    "soup.findAll('img')[0]['alt']"
   ]
  },
  {
   "cell_type": "code",
   "execution_count": null,
   "metadata": {},
   "outputs": [],
   "source": [
    "myclient = pymongo.MongoClient(\"mongodb://127.0.0.1:27017/\")\n",
    "insta_db = myclient['insta_db']\n",
    "#insert your data into this collection\n",
    "insta_collection = insta_db['insta_collection']"
   ]
  },
  {
   "cell_type": "markdown",
   "metadata": {},
   "source": [
    "___"
   ]
  },
  {
   "cell_type": "markdown",
   "metadata": {},
   "source": [
    "# MongoDB"
   ]
  },
  {
   "cell_type": "markdown",
   "metadata": {},
   "source": [
    "## Introduction\n",
    "\n",
    "In this lesson, we'll learn about the popular NoSQL database **_MongoDB_**, including how to install it on our machine, connect to a mongo database, add how to use it to **_C_**reate / **_R_**ead / **_U_**pdate / **_D_**elete (**CRUD**) data!\n",
    "\n",
    "## Objectives\n",
    "You will be able to: \n",
    "\n",
    "- Create a MongoDB database   \n",
    "- Insert data into a MongoDB database   \n",
    "- Read data from a MongoDB database   \n",
    "- Update data in a MongoDB database   "
   ]
  },
  {
   "cell_type": "markdown",
   "metadata": {},
   "source": [
    "## Examining a Sample MongoDB Record"
   ]
  },
  {
   "cell_type": "markdown",
   "metadata": {},
   "source": [
    "As we learned in the previous lesson on NoSQL databases, MongoDB is a **_Document Store_**. Each record is a JSON document, which can in turn contain other JSON documents in a nested format. \n",
    "\n",
    "For intance, here's an example record we might see in a MongoDB database: \n",
    "\n",
    "```json\n",
    "{\n",
    "   _id: ObjectId(8af37bd7891c)\n",
    "   title: 'MongoDB Lab', \n",
    "   description: 'Introductory lab on how to use MongoDB',\n",
    "   by: 'Flatiron School',\n",
    "   topics: ['mongodb', 'database', 'NoSQL', 'JSON'], \n",
    "   sections: [\t\n",
    "      {\n",
    "         section:'Introduction',\n",
    "         dateCreated: new Date(2019,3,1),\n",
    "         reading_time_minutes: 1 \n",
    "      },\n",
    "      {\n",
    "         user:'Installing and Running MongoDB',\n",
    "         dateCreated: new Date(2019,3,1),\n",
    "         reading_time_minutes: 5\n",
    "      }\n",
    "      {\n",
    "         user:'Examining a Sample MongoDB Record',\n",
    "         dateCreated: new Date(2019,3,1),\n",
    "         reading_time_minutes: 8\n",
    "      }\n",
    "   ]\n",
    "}\n",
    "```\n",
    "\n",
    "This is more common than you might realize -- if you open this file, `index.ipynb`, in a text editor, you'll see that each Jupyter Notebook is structured the exact same way, with each cell and everything it contains being embedded in the larger overall document!\n",
    "\n",
    "Since we already have experience working with JSON, we'll see that it will actually be quite easy to work with data in mongoDB! Let's explore how to execute _CRUD_ operations in MongoDB."
   ]
  },
  {
   "cell_type": "markdown",
   "metadata": {},
   "source": [
    "# USING MONGODB"
   ]
  },
  {
   "cell_type": "markdown",
   "metadata": {},
   "source": [
    "## 📓Initializing Mongodb"
   ]
  },
  {
   "cell_type": "markdown",
   "metadata": {},
   "source": [
    "- In a terminal window, enter `mongod` to initialize the server. \n",
    "    - Just like running a jupyter notebook, the terminal window will remain busy running the server. (LEAVE IT RUNNING)\n",
    "    \n",
    "    \n",
    "- Note to MacOS Catalina users who followed the article above for installation, your mongod server is always running and you will receive an error if you try to run `mongod`"
   ]
  },
  {
   "cell_type": "markdown",
   "metadata": {},
   "source": [
    "### Working with MongoDB via Terminal:"
   ]
  },
  {
   "cell_type": "markdown",
   "metadata": {},
   "source": [
    "- Start the server in your terminal using`mongod`\n",
    "- Start a **second terminal** and enter `mongo` to connect to server.\n",
    "- The Normal `$` command prompt will become `>`"
   ]
  },
  {
   "cell_type": "markdown",
   "metadata": {},
   "source": [
    "- Use the `db` command to test if connection working (will see \"test\" if it is)\n",
    "\n",
    "- use `db.help()` to get list of avialable commands.\n",
    "- `df.test.help()`"
   ]
  },
  {
   "cell_type": "markdown",
   "metadata": {},
   "source": [
    "#### Creating, Reading, Updating, and Deleting Information in MongoDB"
   ]
  },
  {
   "cell_type": "markdown",
   "metadata": {},
   "source": [
    "Type the following in the terminal running the mongo instance: \n",
    "\n",
    "`db.test.save( { a: 1 } )`\n",
    "- the spacing is important\n",
    "- there should be a space between the different brackets, as well as the key and value.\n",
    "- Note that the key is directly touching the `:`, but the value is not."
   ]
  },
  {
   "cell_type": "markdown",
   "metadata": {},
   "source": [
    "- the key:value pair with `_id` wil appear after runing `db.test.find()`\n",
    "\n",
    "\n",
    " Let's take a look at how we can write queries or do CRUD operations in Python with the `pymongo` library!"
   ]
  },
  {
   "cell_type": "markdown",
   "metadata": {},
   "source": [
    "## Working with Mongodb through Python with `pymongo`"
   ]
  },
  {
   "cell_type": "markdown",
   "metadata": {},
   "source": [
    "Connecting to mongodb through a python library is going to feel very similar to the boilerplate code we had to use to connect to a SQLite database. To connect to our mongo server through python, we have to:\n",
    "\n",
    "1. Import the `pymongo` library. \n",
    "(if does not exist run `%conda install pymongo` in your notebook.)\n",
    "\n",
    "2. Create a client that is connected to our running mongodb server by using the `pymongo` library's `MongoClient` object and passing it the URL for the server (which the mongo server told us as output when we started it up at the very beginning).\n",
    "\n",
    "3. Get the database that we'll be working with from the `myclient` object -- this can include creating a new database by passing in it's name as a key, just as if we were trying to get it from a Python dictionary.  \n",
    "\n",
    "We'll do this now in the cells below as an example. "
   ]
  },
  {
   "cell_type": "code",
   "execution_count": null,
   "metadata": {},
   "outputs": [],
   "source": [
    "#%conda install pymongo\n",
    "try:\n",
    "    import pymongo\n",
    "except: \n",
    "    print(\"Pymongo not found, running:  %conda install pymongo\")\n",
    "    %conda install pymongo"
   ]
  },
  {
   "cell_type": "code",
   "execution_count": null,
   "metadata": {},
   "outputs": [],
   "source": [
    "myclient = pymongo.MongoClient()#\"mongodb://127.0.0.1:27017/\")\n",
    "myclient"
   ]
  },
  {
   "cell_type": "markdown",
   "metadata": {},
   "source": [
    "Note that we can get a full list of the names of every database we have by running our clients object's `.list_database_names()` method. However, if we run this method in the cell below, we'll see that the database does not yet exist. "
   ]
  },
  {
   "cell_type": "code",
   "execution_count": null,
   "metadata": {},
   "outputs": [],
   "source": [
    "print(myclient.list_database_names())"
   ]
  },
  {
   "cell_type": "markdown",
   "metadata": {},
   "source": [
    "This is because mongoDB doesn't actually create the new database until we have stored some data in it. The act of not doing something until absolutely necessary because another operation needs it is a programming concept called **_lazy execution_**. Since our `example_database` database doesn't contain any data yet, mongo hasn't created it yet, so it doesn't show up in the output of our `.list_database_names()` call. \n",
    "\n",
    "Just as a SQL database has tables, a mongo database has **_Collections_** of documents. We can get a collection or create a new one by passing its name to the database object we created, just like when we passed the database name to the client object. \n",
    "\n",
    "In the cell below, we create a sample collection. \n",
    "\n"
   ]
  },
  {
   "cell_type": "code",
   "execution_count": null,
   "metadata": {},
   "outputs": [],
   "source": [
    "mydb = myclient['example_database']\n",
    "mydb"
   ]
  },
  {
   "cell_type": "markdown",
   "metadata": {},
   "source": [
    "Now we have a mongo database that contains a collection, but we still haven't added any data to it yet. We can get collection names by using `mydb.list_collection_names()`, but since we haven't added any data to it yet, we'll see that that hasn't been created yet either. \n",
    "\n",
    "Let's add some data to our database and see what we can do with it. "
   ]
  },
  {
   "cell_type": "code",
   "execution_count": null,
   "metadata": {},
   "outputs": [],
   "source": [
    "mydb.list_collection_names()"
   ]
  },
  {
   "cell_type": "code",
   "execution_count": null,
   "metadata": {},
   "outputs": [],
   "source": [
    "mycollection = mydb['example_collection']\n",
    "mycollection"
   ]
  },
  {
   "cell_type": "markdown",
   "metadata": {},
   "source": [
    "### CRUD Operations with `pymongo`\n",
    "\n",
    "To insert a document (in SQL, we would call this a *record*) into a mongoDB collection, we make use of the collection's `.insert_one()` method, and pass in the information we want saved as a Python dictionary. "
   ]
  },
  {
   "cell_type": "code",
   "execution_count": null,
   "metadata": {},
   "outputs": [],
   "source": [
    "example_customer_data = {'name': 'John Doe', 'address': '123 elm street', 'age': 28}\n",
    "\n",
    "results = mycollection.insert_one(example_customer_data)\n",
    "results"
   ]
  },
  {
   "cell_type": "code",
   "execution_count": null,
   "metadata": {},
   "outputs": [],
   "source": [
    "# list(results)"
   ]
  },
  {
   "cell_type": "markdown",
   "metadata": {},
   "source": [
    "When we insert something into mongo, we get back a `results` object. This object contains the unique `_id` of the object we just inserted inside its `.inserted_id` attribute. "
   ]
  },
  {
   "cell_type": "code",
   "execution_count": null,
   "metadata": {},
   "outputs": [],
   "source": [
    "results.inserted_id"
   ]
  },
  {
   "cell_type": "markdown",
   "metadata": {},
   "source": [
    "If we want to insert 2 or more items at the same time, we can just store the dictionary for each separate record we want to insert in a list, and then every item in that list by passing it to the collection object's `.insert_many()` method. "
   ]
  },
  {
   "cell_type": "code",
   "execution_count": null,
   "metadata": {},
   "outputs": [],
   "source": [
    "customer_2 = {'name': 'Jane Doe', 'address': '234 elm street', 'age': 7}\n",
    "customer_3 = {'name': 'Santa Claus', 'address': 'The North Pole', 'age': 547}\n",
    "customer_4 = {'name': 'John Doe jr.', 'address': '', 'age': 0.5}\n",
    "customer_5 = {'name': 'John Doe jr.', 'address': '', 'age': 0.5}\n",
    "\n",
    "list_of_customers = [customer_2, customer_3, customer_4,customer_5]\n",
    "\n",
    "results_2 = mycollection.insert_many(list_of_customers)"
   ]
  },
  {
   "cell_type": "code",
   "execution_count": null,
   "metadata": {},
   "outputs": [],
   "source": [
    "results_2.inserted_ids"
   ]
  },
  {
   "cell_type": "markdown",
   "metadata": {},
   "source": [
    "Note that we are allowed to assign the unique id for each new document ourselves by just including the key `_id` and the value we want to assign as that document's id. However, in general, it is a best practice to let the database create the unique keys for each document itself, and to leave that part alone. "
   ]
  },
  {
   "cell_type": "markdown",
   "metadata": {},
   "source": [
    "### Querying data in Python\n",
    "\n",
    "This is the most important thing we can know how to do in MongoDB -- actually get the data we need! \n",
    "\n",
    "The quickest and easiest way to get data from a collection is to use the collection object's `.find()` method!\n",
    "\n",
    "The following cell contains an example of how we can use this to get all the records from our collection. "
   ]
  },
  {
   "cell_type": "markdown",
   "metadata": {},
   "source": [
    "### 📒📔Using `.find()`\n",
    "- we call .find on collection objects.\n",
    "- To get all results,pass in an empty dictionry:\n",
    "`mycollection.find({})`\n",
    "- We can also/control which columns are returned using a second dictionary\n",
    "\n",
    "- Filtering columns:\n",
    "    - Pass a second dictionary with column names and a `1` as the value if you do want the col\n",
    "    - Pass 0 as value if you don't \n",
    "    - in query 3, we are only excluding age, so taking everything else\n",
    "    `query_3 = mycollection.find({}, {'age': 0})`\n",
    "- You can only choose to include or exclude columsn in any given dictionary ( so all values must be one if you want to select columns, or all must be 0's to exclude columns)"
   ]
  },
  {
   "cell_type": "code",
   "execution_count": null,
   "metadata": {},
   "outputs": [],
   "source": [
    "query_1 = mycollection.find({})\n",
    "for x in query_1:\n",
    "    print(x)"
   ]
  },
  {
   "cell_type": "code",
   "execution_count": null,
   "metadata": {},
   "outputs": [],
   "source": [
    "# list(query_1)"
   ]
  },
  {
   "cell_type": "markdown",
   "metadata": {},
   "source": [
    "In the cell above, we grabbed every field from every item in the entire collection. There are times where this is probably too much data for it to be useful for us. \n",
    "\n",
    "So what if we want to get all the names and addresses for each customer, but not the age? There are two ways we can do this. The first is by passing in a dictionary specifying the fields we want, like so:"
   ]
  },
  {
   "cell_type": "code",
   "execution_count": null,
   "metadata": {},
   "outputs": [],
   "source": [
    "query_2 = mycollection.find({}, {'_id': 1, 'name': 1, 'address': 1})\n",
    "for item in query_2:\n",
    "    print(item)"
   ]
  },
  {
   "cell_type": "code",
   "execution_count": null,
   "metadata": {},
   "outputs": [],
   "source": [
    "query_2 = mycollection.find({}, {'_id': 0, 'name': 0, 'address': 0})\n",
    "for item in query_2:\n",
    "    print(item)"
   ]
  },
  {
   "cell_type": "code",
   "execution_count": null,
   "metadata": {},
   "outputs": [],
   "source": [
    "# list(query_2)"
   ]
  },
  {
   "cell_type": "markdown",
   "metadata": {},
   "source": [
    "In this method, we created a dictionary with the key of every item we want, and a `1` as the value to make clear that we want that field returned. \n",
    "\n",
    "Conversely, if we'd rather specify the key-value pairs we _don't_ want returned, we can do that too. All we have to do is create a dictionary containing the keys we don't want returned, and set the value for each to `0`, like so:"
   ]
  },
  {
   "cell_type": "code",
   "execution_count": null,
   "metadata": {},
   "outputs": [],
   "source": [
    "query_3 = mycollection.find({}, {'age': 0})\n",
    "for item in query_3:\n",
    "    print(item)"
   ]
  },
  {
   "cell_type": "markdown",
   "metadata": {},
   "source": [
    "Note that we can't use both methods at the same time. We have to either specify what we do want, and make sure that every value is a 1, or specify what we don't want, and make sure every corresponding value is a 0. If we pass in a dictionary containing both, we'll get an error in return. \n",
    "\n",
    "The one exception to this is the `'_id'` key -- we can set that to 0 or 1 to say if we do or don't want it included. This single value does not need to be the same as all the others in the dictionary. \n",
    "\n",
    "\n",
    "### Filtering Query Results\n",
    "\n",
    "Obviously, we'll rarely want to get all the records at once. There will be many more times where we'll need to get a single record, or to filter records according to their values. Mongo makes these both easy. \n",
    "\n",
    "For instance, if we know the value for a given key, we can pass that key-value pair (or pairs) into `.find()` as a dictionary, and the results will contain the entire document. "
   ]
  },
  {
   "cell_type": "code",
   "execution_count": null,
   "metadata": {},
   "outputs": [],
   "source": [
    "query_4 = mycollection.find({'name': 'Santa Claus'})\n",
    "for item in query_4:\n",
    "    print(item)"
   ]
  },
  {
   "cell_type": "markdown",
   "metadata": {},
   "source": [
    "We can also filter queries by using **_Modifiers_**. For instance, let's say we wanted to get record for every person in our collection older than 20. We can signify this with the 'greater than' modifier, `\"$gt\"` and pass in the corresponding value. "
   ]
  },
  {
   "cell_type": "code",
   "execution_count": null,
   "metadata": {},
   "outputs": [],
   "source": [
    "query_5 = mycollection.find({\"age\": {\"$gt\": 20}})\n",
    "for item in query_5:\n",
    "    print(item)"
   ]
  },
  {
   "cell_type": "markdown",
   "metadata": {},
   "source": [
    "## Updating Documents"
   ]
  },
  {
   "cell_type": "markdown",
   "metadata": {},
   "source": [
    "Updating a document in Mongo is just as simple as creating or reading data -- there's a method for that! Updating a record works a bit like filtering a query and getting a record with a specific value, although we also pass in an additional dictionary as the second parameter. This second parameter will contain the modifier `'$set'` as the key, and a dictionary containing the key-value pair we want to update. See the example in the cell below: "
   ]
  },
  {
   "cell_type": "markdown",
   "metadata": {},
   "source": [
    "### 📓 MongoDB Notation/Modifiers\n",
    "\n",
    "https://docs.mongodb.com/manual/reference/operator/query-modifier/\n",
    "\n",
    "| symbol | action |\n",
    "| --- | --- |\n",
    "| \"$gt\" | greater than |\n",
    "| \"\\$lt\" | less than |\n",
    "| \"\\$set\" | setting a specific record, as specified  by <br> a {'col':value_to_insert} dictionary| \n",
    "| \"\\$sum\" |'Sum ' |\n",
    "| \"\\$ne\" | |"
   ]
  },
  {
   "cell_type": "code",
   "execution_count": null,
   "metadata": {},
   "outputs": [],
   "source": [
    "record_to_update = {'name' : 'John Doe'}\n",
    "update_1 = {'$set': {'age': 29}}\n",
    "update_2 = {'$set': {'birthday': '02/20/1986'}}\n",
    "\n",
    "mycollection.update_one(record_to_update, update_1)\n",
    "mycollection.update_one(record_to_update, update_2)\n",
    "query_6 = mycollection.find({'name': 'John Doe'})\n",
    "for item in query_6:\n",
    "    print(item)"
   ]
  },
  {
   "cell_type": "markdown",
   "metadata": {},
   "source": [
    "In the cell above, the first update we make updates the value for a key that already exists in the document. The second update adds an entirely new key-value pair to the document. As we can see, the syntax for both is the same (just like when we work with Python dictionaries), and is very easy and intuitive to use. \n",
    "\n",
    "### Deleting Records\n",
    "\n",
    "We can delete records by using the collection object's `.delete_*()` methods. Just like for inserting records, you'll find that we can use `delete_one()` for a single deletion, or `delete_many()` for multiple deletions.\n",
    "\n",
    "Let's try deleting the record for `'John Doe'`:"
   ]
  },
  {
   "cell_type": "code",
   "execution_count": null,
   "metadata": {},
   "outputs": [],
   "source": [
    "deletion_1 = mycollection.delete_one({'name': 'John Doe'})\n",
    "print(deletion_1.deleted_count)"
   ]
  },
  {
   "cell_type": "markdown",
   "metadata": {},
   "source": [
    "Note that we can also use modifiers here, too! For instance, in the cell below, we'll delete all records for customers younger than 10."
   ]
  },
  {
   "cell_type": "code",
   "execution_count": null,
   "metadata": {},
   "outputs": [],
   "source": [
    "deletion_2 = mycollection.delete_one({'age': {'$lt': 10}})\n",
    "print(deletion_2.deleted_count)"
   ]
  },
  {
   "cell_type": "markdown",
   "metadata": {},
   "source": [
    "### Deleting By ID"
   ]
  },
  {
   "cell_type": "code",
   "execution_count": null,
   "metadata": {},
   "outputs": [],
   "source": []
  },
  {
   "cell_type": "code",
   "execution_count": null,
   "metadata": {},
   "outputs": [],
   "source": [
    "johns =list(mycollection.find({\"name\":'John Doe jr.'}))\n",
    "johns"
   ]
  },
  {
   "cell_type": "code",
   "execution_count": null,
   "metadata": {},
   "outputs": [],
   "source": [
    "deleted = mycollection.delete_one({'_id':'5ebc6da07d8c59d444d93d85'})\n",
    "deleted.deleted_count"
   ]
  },
  {
   "cell_type": "code",
   "execution_count": null,
   "metadata": {},
   "outputs": [],
   "source": [
    "print(johns[0]['_id'])"
   ]
  },
  {
   "cell_type": "markdown",
   "metadata": {},
   "source": [
    "- To delete via document's ID, you must first import an object called `ObjectId` from `bson` (binary json).\n",
    "- Get the \"`_id`\" of document to delete.\n",
    "- To delete use `mycollection.delete_one({'_id':ObjectID(<insert id here>)`"
   ]
  },
  {
   "cell_type": "code",
   "execution_count": null,
   "metadata": {},
   "outputs": [],
   "source": [
    "from bson import ObjectId\n",
    "query = {'_id':ObjectId('5ebc6da07d8c59d444d93d85')}\n",
    "list(mycollection.find(query))"
   ]
  },
  {
   "cell_type": "code",
   "execution_count": null,
   "metadata": {},
   "outputs": [],
   "source": [
    "deletion_3 = mycollection.delete_one(query)\n",
    "deletion_3.deleted_count"
   ]
  },
  {
   "cell_type": "code",
   "execution_count": null,
   "metadata": {},
   "outputs": [],
   "source": [
    "johns =list(mycollection.find({\"name\":'John Doe jr.'}))\n",
    "johns"
   ]
  },
  {
   "cell_type": "code",
   "execution_count": null,
   "metadata": {},
   "outputs": [],
   "source": [
    "deleted = mycollection.delete_many({})\n",
    "deleted.deleted_count"
   ]
  },
  {
   "cell_type": "code",
   "execution_count": null,
   "metadata": {},
   "outputs": [],
   "source": [
    "res = mycollection.find({})\n",
    "[print(x) for x in res]"
   ]
  },
  {
   "cell_type": "markdown",
   "metadata": {},
   "source": [
    "# Activity: Mongodb Lab"
   ]
  },
  {
   "cell_type": "markdown",
   "metadata": {},
   "source": [
    "- In repo folder > Labs From Class > section_08 > mongodb_lab.ipynb"
   ]
  },
  {
   "cell_type": "markdown",
   "metadata": {},
   "source": [
    "# Appendix - Detailed Installation Instructions"
   ]
  },
  {
   "cell_type": "markdown",
   "metadata": {},
   "source": [
    "### Instructions for Windows Users"
   ]
  },
  {
   "cell_type": "markdown",
   "metadata": {},
   "source": [
    "#### Resources for Installing MongoDB - Windows 10\n",
    "- [Video on installing MongoDB by Downloading from Mongo](https://youtu.be/UJQiGBDKXY0) **updated url 03/04/21**\n",
    "\n",
    "- [Article on Getting MongoDB Working in GitBash](https://teamtreehouse.com/community/how-to-setup-mongodb-on-windows-cmd-or-gitbash-with-shortcuts)\n",
    "\n",
    "\n",
    "\n",
    "\n",
    "#### Installation Steps\n",
    "1. Download and install MongoDB from  https://www.mongodb.com/download-center/community \n",
    "    - Watch the video above to instructions on what options to select.\n",
    "    \n",
    "    \n",
    "2. After installation is complete, open a GitBash Terminal As Administrator\n",
    "    - In the Start Menu find and right click on GitBash > Run as Administrator. \n",
    "\n",
    "\n",
    "3. You must add the bin folder inside of MongoDB's Program Files to your system path.\n",
    "    - To edit system path (see above article) type the following in GitBash:\n",
    "    ```shell\n",
    "    rundll32 sysdm.cpl,EditEnvironmentVariables```\n",
    "    - In the window that pops-up, edit Path and Add `C:/Programs Files/MongoDB/<whatever version is install>/bin` to the Path variable.\n",
    "    - Close the settings window when complete.\n",
    "    \n",
    "    \n",
    "4. You must manually create the `c:/data` and `c:/data/db` folders SEPERATELY\n",
    "    - Use gitbash to create c:/data FIRST, cd into data and then mkdir db  \n",
    "    - This replaces the official step in the notebook below (`sudo mkdir -p /data/db`)\n",
    "\n",
    "\n",
    "5. Give the directory the correct permission: \n",
    "```bash\n",
    "sudo chown -R `id -un` /data/db\n",
    "```\n",
    "\n",
    "5. (You may still need to run `conda install mongodb` even though we installed it directly.)\n",
    "\n",
    "6. Finall, make sure that pymongo is installed \n",
    "```bash\n",
    "conda install pymongo\n",
    "```\n",
    "\n",
    "7. Now you should be all set and `mongod`should work!"
   ]
  },
  {
   "cell_type": "markdown",
   "metadata": {},
   "source": [
    "### Instructions for MacOS Catalina\n"
   ]
  },
  {
   "cell_type": "markdown",
   "metadata": {},
   "source": [
    "- Follow the instructions from these 2 links:\n",
    "    1. https://zellwk.com/blog/install-mongodb/\n",
    "    2. https://zellwk.com/blog/local-mongodb/\n",
    "    \n",
    "#### Summary: \n",
    "\n",
    "1.  Install Home brew\n",
    "```bash\n",
    "/usr/bin/ruby -e \"$(curl -fsSL https://raw.githubusercontent.com/Homebrew/install/master/install)\"\n",
    "```\n",
    "\n",
    "2. Install mongodb\n",
    "```bash\n",
    "brew tap mongodb/brew\n",
    "brew install mongodb-community\n",
    "```"
   ]
  }
 ],
 "metadata": {
  "kernelspec": {
   "display_name": "learn-env-new",
   "language": "python",
   "name": "learn-env-new"
  },
  "language_info": {
   "codemirror_mode": {
    "name": "ipython",
    "version": 3
   },
   "file_extension": ".py",
   "mimetype": "text/x-python",
   "name": "python",
   "nbconvert_exporter": "python",
   "pygments_lexer": "ipython3",
   "version": "3.8.5"
  },
  "toc": {
   "base_numbering": 1,
   "nav_menu": {},
   "number_sections": false,
   "sideBar": true,
   "skip_h1_title": false,
   "title_cell": "Table of Contents",
   "title_sidebar": "Contents",
   "toc_cell": false,
   "toc_position": {},
   "toc_section_display": true,
   "toc_window_display": true
  },
  "varInspector": {
   "cols": {
    "lenName": 16,
    "lenType": 16,
    "lenVar": 40
   },
   "kernels_config": {
    "python": {
     "delete_cmd_postfix": "",
     "delete_cmd_prefix": "del ",
     "library": "var_list.py",
     "varRefreshCmd": "print(var_dic_list())"
    },
    "r": {
     "delete_cmd_postfix": ") ",
     "delete_cmd_prefix": "rm(",
     "library": "var_list.r",
     "varRefreshCmd": "cat(var_dic_list()) "
    }
   },
   "types_to_exclude": [
    "module",
    "function",
    "builtin_function_or_method",
    "instance",
    "_Feature"
   ],
   "window_display": false
  }
 },
 "nbformat": 4,
 "nbformat_minor": 2
}
