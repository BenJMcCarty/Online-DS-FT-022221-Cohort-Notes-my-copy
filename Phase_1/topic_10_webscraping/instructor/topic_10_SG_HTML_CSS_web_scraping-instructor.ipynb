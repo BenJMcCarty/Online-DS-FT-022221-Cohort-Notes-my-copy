{
 "cells": [
  {
   "cell_type": "markdown",
   "metadata": {
    "colab_type": "text",
    "id": "tDKmrDSfq6L7"
   },
   "source": [
    "# Topic 10: HTML, CSS, & Web Scraping"
   ]
  },
  {
   "cell_type": "markdown",
   "metadata": {
    "colab_type": "text",
    "id": "tDKmrDSfq6L7"
   },
   "source": [
    "\n",
    "- 03/11/21\n",
    "- onl01-dtsc-ft-022221\n"
   ]
  },
  {
   "cell_type": "markdown",
   "metadata": {},
   "source": [
    "## Questions"
   ]
  },
  {
   "cell_type": "markdown",
   "metadata": {},
   "source": []
  },
  {
   "cell_type": "markdown",
   "metadata": {
    "colab_type": "text",
    "id": "JU_U8mWD-WLR"
   },
   "source": [
    "## Learning Objectives / Outline\n",
    "\n"
   ]
  },
  {
   "cell_type": "markdown",
   "metadata": {
    "colab_type": "text",
    "id": "9Wnkf6zBwjsF"
   },
   "source": [
    "\n",
    "- **Part 1: HTML & CSS: Beyond Web Scraping**\n",
    "    - Brief Overview of HTML & CSS\n",
    "    - Learn when you will use HTML & CSS in your data science journey\n",
    "    - Demonstrate the power of CSS with a Plotly/Dash dashboard. \n",
    "    - Demonstrate the value of learning HTML/CSS with VS Code.\n",
    "    <br><br>\n",
    "\n",
    "- **Part 2: Walk through the basics of web scraping:**\n",
    "    - Learn to use Chrome's Inspect tool to hunt down target website data\n",
    "    - Learn how to use Beautiful Soup to scrape the contents of a web page. \n",
    "\n",
    "    \n",
    "\n"
   ]
  },
  {
   "cell_type": "markdown",
   "metadata": {
    "colab_type": "text",
    "heading_collapsed": true,
    "id": "VSGt5VhvJ_3c"
   },
   "source": [
    "# 📓 Part 1: HTML & CSS"
   ]
  },
  {
   "cell_type": "markdown",
   "metadata": {
    "colab_type": "text",
    "hidden": true,
    "id": "_Ahn6EqsGR53"
   },
   "source": [
    "- HMTL is responsible for the _content_ of a website.\n",
    "- CSS is responsible for the appearance / layout of a website.\n",
    "\n"
   ]
  },
  {
   "cell_type": "markdown",
   "metadata": {
    "colab_type": "text",
    "hidden": true,
    "id": "xSwUhVVTwvRq"
   },
   "source": [
    "## HTML Overview & Tags\n"
   ]
  },
  {
   "cell_type": "markdown",
   "metadata": {
    "colab_type": "text",
    "hidden": true,
    "id": "7jZuk4QQ17nU"
   },
   "source": [
    "- All HTML pages have the following components\n",
    "    1. document declaration followed by html tag\n",
    "    \n",
    "    `<!DOCTYPE html>`<br>\n",
    "    `<html>`\n",
    "    2. Head\n",
    "     html tag<br>\n",
    "    `<head> <title></title></head>`\n",
    "    3. Body<br>\n",
    "    `<body>` ... content... `</body>`<br>\n",
    "    `</html>`\n",
    "\n",
    "\n",
    "\n",
    "- Html content is divdied into **tags** that specify the type of content.\n",
    "    - [Basic Tags Reference Table](https://www.w3schools.com/tags/ref_byfunc.asp)\n",
    "    - [Full Alphabetical Tag Reference Table](https://www.w3schools.com/tags/)\n",
    "    \n",
    "    - **tags** have attributes\n",
    "        - [Tag Attributes](https://www.w3schools.com/html/html_attributes.asp)\n",
    "        - Attributes are always defined in the start/opening tag. \n",
    "\n",
    "    - **tags** may have several content-creator-defined attributes such as `class` or `id`\n",
    "    \n",
    "    \n",
    "- We will **use the tag and its identifying attributes to isolate content** we want on a web page with BeautifulSoup.\n",
    "\n",
    "___"
   ]
  },
  {
   "cell_type": "markdown",
   "metadata": {
    "colab_type": "text",
    "hidden": true,
    "id": "6-hbk2aTEzLw"
   },
   "source": [
    "## CSS Overview\n"
   ]
  },
  {
   "cell_type": "markdown",
   "metadata": {
    "colab_type": "text",
    "hidden": true,
    "id": "4hvax5OIHGsI"
   },
   "source": [
    "#### List the Components of CSS\n",
    "*Excerpt From Section 13: Intro to CSS*\n",
    "\n",
    ">For each **presentation rule**, there are 3 things to keep in mind:\n",
    "1. What is the specific HTML we want to style?\n",
    "2. What are the qualities we want to modify (e.g. the properties of text\n",
    "   in a paragraph)?\n",
    "3. _How_ do we want to modify the qualities of the element (e.g. font\n",
    "   family, font color, font size, line height, letter spacing, etc.)?\n",
    "\n",
    "\n",
    "> CSS **selectors** are a way of declaring which HTML elements you wish to style.\n",
    "Selectors can appear a few different ways:\n",
    "- The type of HTML element(`h1`, `p`, `div`, etc.)\n",
    "- The value of an element's `id` or `class` (`<p id='idvalue'></p>`, `<p\n",
    "  class='classname'></p>`)\n",
    "- The value of an element's attributes (`value=\"hello\"`)\n",
    "- The element's relationship with surrounding elements (a `p` within an element\n",
    "  with class of `.infobox`)\n",
    "\n",
    "[Type selectors documentation](https://developer.mozilla.org/en-US/docs/Web/CSS/Type_selectors)\n",
    "\n",
    "The element type `class` is a commonly used selector. Class selectors are used\n",
    "to **select all elements that share a given class name**. The class selector\n",
    "syntax is: `.classname`. Prefix the class name with a '.'(period).\n",
    "\n",
    "```css\n",
    "/*\n",
    "select all elements that have the 'important-topic' classname (e.g. <h1 class='important-topic'>\n",
    "and <h1 class='important-topic'>)\n",
    "*/\n",
    ".important-topic\n",
    "```\n",
    "\n"
   ]
  },
  {
   "cell_type": "markdown",
   "metadata": {
    "colab_type": "text",
    "hidden": true,
    "id": "G0JWx49oH6fb"
   },
   "source": [
    "\n",
    "You can also use the `id` selector to style elements. However, **there should\n",
    "be only one element with a given id** in an HTML document. This can make\n",
    "styling with the ID selector ideal for one-off styles. The `id` selector syntax\n",
    "is: `#idvalue`. Prefix the id attribute of an element with a `#` (which is\n",
    "called \"octothorpe,\" \"pound sign\", or \"hashtag\").\n",
    "\n",
    "```css\n",
    "/*\n",
    "selects the HTML element with the id 'main-header' (e.g. <h1 id='main-header'>)\n",
    "*/\n",
    "#main-header\n",
    "\n",
    "```\n",
    "\n",
    "[id selectors documentation](https://developer.mozilla.org/en-US/docs/Web/CSS/ID_selectors)"
   ]
  },
  {
   "cell_type": "markdown",
   "metadata": {
    "colab_type": "text",
    "hidden": true,
    "id": "-DXm5OZKpaZg"
   },
   "source": [
    "## When will/can I use HTML & CSS?\n"
   ]
  },
  {
   "cell_type": "markdown",
   "metadata": {
    "colab_type": "text",
    "heading_collapsed": true,
    "hidden": true,
    "id": "FT9Mk2TaEpNt"
   },
   "source": [
    "### 1. Web scraping."
   ]
  },
  {
   "cell_type": "markdown",
   "metadata": {
    "hidden": true
   },
   "source": [
    "- See Part 2 of notebook."
   ]
  },
  {
   "cell_type": "markdown",
   "metadata": {
    "colab_type": "text",
    "heading_collapsed": true,
    "hidden": true,
    "id": "FT9Mk2TaEpNt"
   },
   "source": [
    "### 2. Adding Images and links to your Markdown Documents/Blog Posts"
   ]
  },
  {
   "cell_type": "markdown",
   "metadata": {
    "colab_type": "text",
    "hidden": true,
    "id": "FT9Mk2TaEpNt"
   },
   "source": [
    "- Using `img` tags\n",
    "- ```html\n",
    "<img src=\"\" width=70%>```\n",
    "\n",
    "<img src=\"https://raw.githubusercontent.com/jirvingphd/online-dtsc-pt-041320-cohort-notes/master/assets/images/neuron.jpg\" width=70%>\n",
    "\n",
    "\n"
   ]
  },
  {
   "cell_type": "markdown",
   "metadata": {
    "colab_type": "text",
    "heading_collapsed": true,
    "hidden": true,
    "id": "FT9Mk2TaEpNt"
   },
   "source": [
    "### 3. Controlling the appearance of Pandas with CSS"
   ]
  },
  {
   "cell_type": "markdown",
   "metadata": {
    "colab_type": "text",
    "hidden": true,
    "id": "FT9Mk2TaEpNt"
   },
   "source": [
    "- https://pandas.pydata.org/pandas-docs/stable/user_guide/style.html\n",
    "    "
   ]
  },
  {
   "cell_type": "code",
   "execution_count": null,
   "metadata": {
    "ExecuteTime": {
     "end_time": "2020-05-22T23:22:27.205639Z",
     "start_time": "2020-05-22T23:22:26.326792Z"
    },
    "hidden": true
   },
   "outputs": [],
   "source": [
    "import pandas as pd\n",
    "df = pd.util.testing.makeDataFrame()\n",
    "df = df.head(10)\n",
    "df"
   ]
  },
  {
   "cell_type": "code",
   "execution_count": null,
   "metadata": {
    "ExecuteTime": {
     "end_time": "2020-05-22T23:24:32.246759Z",
     "start_time": "2020-05-22T23:24:32.225649Z"
    },
    "hidden": true
   },
   "outputs": [],
   "source": [
    "def highlight_max(s):\n",
    "    '''\n",
    "    highlight the maximum in a Series yellow.\n",
    "    '''\n",
    "    is_max = s == s.max()\n",
    "    css = 'background-color: yellow;font-weight:bold;color:green;font-size:1.3em;'\n",
    "    return [css if v else '' for v in is_max]\n",
    "\n",
    "\n",
    "df.style.apply(highlight_max,axis=0)"
   ]
  },
  {
   "cell_type": "markdown",
   "metadata": {
    "colab_type": "text",
    "heading_collapsed": true,
    "hidden": true,
    "id": "FT9Mk2TaEpNt"
   },
   "source": [
    "### 4. Your Markdown Cells in Notebooks"
   ]
  },
  {
   "cell_type": "markdown",
   "metadata": {
    "colab_type": "text",
    "hidden": true,
    "id": "FT9Mk2TaEpNt"
   },
   "source": [
    "<details>\n",
    "<summary style=\"font-weight:bold\">Click here for example.</summary>\n",
    "<div style=\"color:blue;display:block;text-align:center;border: solid purple 2px;font-family:serif;font-size:3rem;padding:2rem;background-color:lightgreen;width:50%;padding:2em\"><br>YOUR NOTEBOOKS!</div>\n",
    "</details>\n",
    "\n"
   ]
  },
  {
   "cell_type": "markdown",
   "metadata": {
    "hidden": true
   },
   "source": [
    "- The HTML used above\n",
    "\n",
    "```HTML\n",
    "<details>\n",
    "<summary style=\"font-weight:bold\">Click here for example.</summary>\n",
    "<div style=\"color:blue;display:block;text-align:center;border: solid purple 2px;font-family:serif;font-size:3rem;padding:2rem;background-color:lightgreen;width:50%;padding:2em\"><br>YOUR NOTEBOOKS!</div>\n",
    "</details>\n",
    "\n",
    "```"
   ]
  },
  {
   "cell_type": "markdown",
   "metadata": {
    "colab_type": "text",
    "heading_collapsed": true,
    "hidden": true,
    "id": "FT9Mk2TaEpNt"
   },
   "source": [
    "### 5. Dashboards"
   ]
  },
  {
   "cell_type": "markdown",
   "metadata": {
    "colab_type": "text",
    "hidden": true,
    "id": "FT9Mk2TaEpNt"
   },
   "source": [
    "- Plotly and Dash\n",
    "- Open `./dash-example/app.py` & `./dash-example/assets/style.css`\n",
    "\n",
    "<!-- - Example Dashboard from a former student\n",
    "    - https://still-plateau-25734.herokuapp.com/ -->"
   ]
  },
  {
   "cell_type": "markdown",
   "metadata": {
    "hidden": true
   },
   "source": [
    "## HTML/CSS DEMOS"
   ]
  },
  {
   "cell_type": "markdown",
   "metadata": {
    "hidden": true
   },
   "source": [
    "### DEMO 1: Loading CSS styles via Python"
   ]
  },
  {
   "cell_type": "markdown",
   "metadata": {
    "hidden": true
   },
   "source": [
    "- We can load external CSS files by using `IPython.display.HTML` and using the code \n",
    "\n",
    "\n",
    "```python\n",
    "from IPython.display import HTML\n",
    "HTML(\"<style>{}</style>\".format(css_info))\n",
    "```"
   ]
  },
  {
   "cell_type": "code",
   "execution_count": 2,
   "metadata": {
    "ExecuteTime": {
     "end_time": "2020-05-22T23:28:09.343622Z",
     "start_time": "2020-05-22T23:28:09.337162Z"
    },
    "hidden": true
   },
   "outputs": [
    {
     "data": {
      "text/html": [],
      "text/plain": [
       "<IPython.core.display.HTML object>"
      ]
     },
     "execution_count": 2,
     "metadata": {},
     "output_type": "execute_result"
    }
   ],
   "source": [
    "from IPython.display import HTML\n",
    "css_stylesheet = \"../../assets/webscrape_example.css\"\n",
    "\n",
    "with open(css_stylesheet,'r')  as f_css:\n",
    "    style = f_css.read()\n",
    "\n",
    "## Run Me First\n",
    "HTML(f\"<style>{style}</style>\")\n",
    "\n",
    "## UNCOMMENT TO RESET STYLE\n",
    "HTML(\"\")"
   ]
  },
  {
   "cell_type": "markdown",
   "metadata": {
    "hidden": true
   },
   "source": [
    "#### Adding/controlling images and alignment of text\n",
    "\n",
    "- Add an image hosted on github by grabbing grabbing the raw link.\n",
    "\n",
    "<img src=\"https://raw.githubusercontent.com/jirvingphd/fsds_pt_100719_cohort_notes/master/Images/flatiron-building-glitter.jpeg\" width=30%>\n",
    "\n",
    "- Let's add an image hosted on github to our notebook (great example for making blog posts).\n",
    "1. Go to the repo's website, click on the image file.\n",
    "2. Click download and copy the raw.githubsercontent.link."
   ]
  },
  {
   "cell_type": "markdown",
   "metadata": {
    "colab_type": "text",
    "id": "xTuSwL_QE21F"
   },
   "source": [
    "# 📓 Part 2: Web Scraping 101"
   ]
  },
  {
   "cell_type": "markdown",
   "metadata": {},
   "source": [
    "### Scraping Task"
   ]
  },
  {
   "cell_type": "markdown",
   "metadata": {},
   "source": [
    "- Our task is to get the tables from the Wikipedia page: https://en.wikipedia.org/wiki/List_of_highest-grossing_films"
   ]
  },
  {
   "cell_type": "markdown",
   "metadata": {
    "colab_type": "text",
    "id": "FaWIHHicwtAr"
   },
   "source": [
    "## Using python's `requests` module:\n"
   ]
  },
  {
   "cell_type": "markdown",
   "metadata": {
    "colab_type": "text",
    "id": "7JpBMzWysPb0"
   },
   "source": [
    "-  Use `requests` library to initiate connections to a website.\n",
    "- Check the status code returned to determine if connection was successful (status code=200)\n",
    "~~url = 'https://en.wikipedia.org/wiki/Stock_market~~~\n",
    "\n",
    "```python\n",
    "import requests\n",
    "url = 'https://en.wikipedia.org/wiki/List_of_highest-grossing_films'\n",
    "\n",
    "# Connect to the url using requests.get\n",
    "response = requests.get(url)\n",
    "response.status_code\n",
    "```\n",
    "\n",
    " ___\n",
    " \n",
    "| Status Code | Code Meaning \n",
    "| --------- | -------------|\n",
    "1xx |   Informational\n",
    "2xx|    Success \n",
    "3xx|     Redirection\n",
    "4xx|     Client Error \n",
    "5xx |    Server Error\n",
    "\n",
    "___\n",
    "\n"
   ]
  },
  {
   "cell_type": "markdown",
   "metadata": {
    "colab_type": "text",
    "id": "-bJEevoTDebn"
   },
   "source": [
    "- Adding a sleep time is helpful for avoiding and getting blocked from a server `time.sleep(\n",
    "- **Note: You can add a `timeout` to `requests.get()` to avoid indefinite waiting**\n",
    "    - Best in multiples of 3 (`timeout=3` or `6` , `9` ,etc.)\n",
    "\n",
    "```python\n",
    "# Add a timeout to prevent hanging\n",
    "response = requests.get(url, timeout=3)\n",
    "response.status_code\n",
    "\n",
    "```\n",
    "\n",
    "\n"
   ]
  },
  {
   "cell_type": "code",
   "execution_count": null,
   "metadata": {
    "ExecuteTime": {
     "end_time": "2020-05-22T23:34:44.139420Z",
     "start_time": "2020-05-22T23:34:43.652503Z"
    }
   },
   "outputs": [],
   "source": [
    "import requests\n",
    "from time import sleep\n",
    "\n",
    "url = 'https://en.wikipedia.org/wiki/List_of_highest-grossing_films'\n",
    "response = requests.get(url=url, timeout=3)\n",
    "print(f'Status code: {response.status_code}')"
   ]
  },
  {
   "cell_type": "code",
   "execution_count": null,
   "metadata": {},
   "outputs": [],
   "source": [
    "print(response.text[:1000])"
   ]
  },
  {
   "cell_type": "markdown",
   "metadata": {
    "colab_type": "text",
    "id": "hO3ac1hE8gr5"
   },
   "source": [
    "___"
   ]
  },
  {
   "cell_type": "markdown",
   "metadata": {
    "colab_type": "text",
    "heading_collapsed": true,
    "id": "we-zGs8lw7kY"
   },
   "source": [
    "##  Using `BeautifulSoup`\n"
   ]
  },
  {
   "cell_type": "markdown",
   "metadata": {
    "colab_type": "text",
    "hidden": true,
    "id": "5mPEFZu5pjdR"
   },
   "source": [
    "### Cook a soup\n"
   ]
  },
  {
   "cell_type": "markdown",
   "metadata": {
    "colab_type": "text",
    "hidden": true,
    "id": "bDQT-D171lhn"
   },
   "source": [
    "\n",
    "\n",
    "- Connect to a website using`response = requests.get(url)`\n",
    "- Feed `response.content` into BeautifulSoup \n",
    "- Must specify the parser that will analyze the contents\n",
    "    - default available is `'html.parser'`\n",
    "    - recommended is to install and use `lxml` [[lxml documentation](https://lxml.de/3.7/)]\n",
    "- use soup.prettify() to get a user-friendly version of the content to print\n",
    "\n",
    "```python\n",
    "# Define Url and establish connection\n",
    "url = 'https://en.wikipedia.org/wiki/Stock_market'\n",
    "response = requests.get(url, timeout=3)\n",
    "\n",
    "# Feed the response's .content into BeauitfulSoup\n",
    "page_content = response.content\n",
    "soup = BeautifulSoup(page_content,'lxml') #'html.parser')\n",
    "\n",
    "# Preview soup contents using .prettify()\n",
    "print(soup.prettify()[:2000])\n",
    "\n",
    "```\n",
    "\n",
    "\n"
   ]
  },
  {
   "cell_type": "code",
   "execution_count": null,
   "metadata": {
    "ExecuteTime": {
     "end_time": "2020-05-22T23:35:20.470946Z",
     "start_time": "2020-05-22T23:35:20.352772Z"
    },
    "hidden": true
   },
   "outputs": [],
   "source": [
    "import bs4\n",
    "## Make a BeautifulSoup\n",
    "url = 'https://en.wikipedia.org/wiki/List_of_highest-grossing_films'\n",
    "response = requests.get(url)\n",
    "soup = bs4.BeautifulSoup(response.content) "
   ]
  },
  {
   "cell_type": "code",
   "execution_count": null,
   "metadata": {
    "ExecuteTime": {
     "end_time": "2020-05-22T23:36:07.089269Z",
     "start_time": "2020-05-22T23:36:04.532667Z"
    },
    "hidden": true
   },
   "outputs": [],
   "source": [
    "## Print the prettified preview\n",
    "print(soup.prettify())"
   ]
  },
  {
   "cell_type": "markdown",
   "metadata": {
    "colab_type": "text",
    "heading_collapsed": true,
    "id": "Rkqfa-kvE-7Q"
   },
   "source": [
    "## What's in a Soup?\n"
   ]
  },
  {
   "cell_type": "markdown",
   "metadata": {
    "colab_type": "text",
    "hidden": true,
    "id": "FieLZ63VVEXi"
   },
   "source": [
    "- **A soup is essentially a collection of `tag objects`**\n",
    "    - each tag from the html is a tag object in the soup\n",
    "    - the tag's maintain the hierarchy of the html page, so tag objects will contain _other_ tag objects that were under it in the html tree.\n",
    "    \n",
    "    \n",
    "\n",
    "- **Each tag has a:**\n",
    "    - `.name`\n",
    "    - `.contents`\n",
    "    - `.string`\n",
    "    \n",
    "    \n",
    "    \n",
    "- **A tag can be access by name (like a column in a dataframe using dot notation)**\n",
    "    - and then you can access the tags within the new tag-variable just like the first tag\n",
    "    ```python\n",
    "    # Access tags by name\n",
    "    meta = soup.meta\n",
    "    head = soup.head\n",
    "    body = soup.body\n",
    "    p = soup.p\n",
    "    # and so on...\n",
    "    ```\n",
    "    \n",
    "    \n",
    "- [!] ***BUT this will only return the FIRST tag of that type, to access all occurances of a tag-type, we will need to navigate the html family tree***\n"
   ]
  },
  {
   "cell_type": "code",
   "execution_count": null,
   "metadata": {
    "hidden": true
   },
   "outputs": [],
   "source": [
    "soup.contents"
   ]
  },
  {
   "cell_type": "code",
   "execution_count": null,
   "metadata": {
    "ExecuteTime": {
     "end_time": "2020-05-22T23:39:55.443861Z",
     "start_time": "2020-05-22T23:39:55.434165Z"
    },
    "hidden": true
   },
   "outputs": [],
   "source": [
    "## check .head\n",
    "print(soup.head)"
   ]
  },
  {
   "cell_type": "code",
   "execution_count": null,
   "metadata": {
    "hidden": true
   },
   "outputs": [],
   "source": [
    "soup.body"
   ]
  },
  {
   "cell_type": "markdown",
   "metadata": {
    "colab_type": "text",
    "hidden": true,
    "id": "gtZhVt8BFCXz"
   },
   "source": [
    "\n",
    "### Navigating the HTML Family Tree: Children, siblings, and parents"
   ]
  },
  {
   "cell_type": "markdown",
   "metadata": {
    "colab_type": "text",
    "hidden": true,
    "id": "_ZCLylw9RkVL"
   },
   "source": [
    "- **Each tag is located within a tree-hierarchy of parents, siblings, and children**\n",
    "    - The family-relation is based on the identation level of the tags.\n",
    "\n",
    "- **Methods/attributes for the location/related tags of a tag**\n",
    "    - `.parent`, `.parents`\n",
    "    - `.child`, `.children`\n",
    "    - `.descendents`\n",
    "    - `.next_sibling`, `.previous_sibling`\n",
    "\n",
    "- *Note: a newline character `\\n` is also considered a tag/sibling/child*"
   ]
  },
  {
   "cell_type": "markdown",
   "metadata": {
    "colab_type": "text",
    "hidden": true,
    "id": "_ZCLylw9RkVL"
   },
   "source": [
    "#### Accessing Child Tags\n",
    "\n",
    "- To get to later occurances of a tag type (i.e. the 2nd `<p>` tag in a tree), we need to navigate through the parent tag's `children`\n",
    "    - To access an iterable list of a tag's children use `.children`\n",
    "        - But, this only returns its *direct children*  (one indentation level down)     \n",
    "        \n",
    "    ```python\n",
    "    # print direct children of the body tag\n",
    "    body = soup.body\n",
    "    for child in body.children:\n",
    "        # print child if its not empty\n",
    "        print(child if child is not None else ' ', '\\n\\n')  # '\\n\\n' for visual separation\n",
    "    ```\n",
    "- To access *all children* use `.descendents`\n",
    "    - Returns all chidren and children of children\n",
    "    ```python\n",
    "    for child in body.descendents:\n",
    "        # print all children/grandchildren, etc\n",
    "        print(child if child is not None else ' ','\\n\\n')  \n",
    "    ```\n",
    "  "
   ]
  },
  {
   "cell_type": "code",
   "execution_count": null,
   "metadata": {
    "hidden": true
   },
   "outputs": [],
   "source": [
    "## What is the .children for the soup.body?\n",
    "soup.body.children"
   ]
  },
  {
   "cell_type": "code",
   "execution_count": null,
   "metadata": {
    "hidden": true
   },
   "outputs": [],
   "source": [
    "## Make the children viewable and check how many there are\n",
    "body_tags = list(soup.body.children)\n",
    "len(body_tags)"
   ]
  },
  {
   "cell_type": "markdown",
   "metadata": {
    "colab_type": "text",
    "hidden": true,
    "id": "_ZCLylw9RkVL"
   },
   "source": [
    "  \n",
    "#### Accessing Parent tags\n",
    "\n",
    "- To access the parent of a tag use `.parent`\n",
    "```python\n",
    "title = soup.head.title\n",
    "print(title.parent.name)\n",
    "```\n",
    "\n",
    "- To get a list of _all parents_ use `.parents`\n",
    "```python\n",
    "title = soup.head.title\n",
    "for parent in title.parents:\n",
    "    print(parent.name)\n",
    "```\n",
    "\n",
    "#### Accessing Sibling tags\n",
    "- siblings are tags in the same tree indentation level\n",
    "- `.next_sibling`, `.previous_sibling`"
   ]
  },
  {
   "cell_type": "code",
   "execution_count": null,
   "metadata": {
    "hidden": true
   },
   "outputs": [],
   "source": [
    "## Check the parents of the first p\n",
    "p_parents = list(soup.body.p.parents)\n",
    "# p_parents[0]"
   ]
  },
  {
   "cell_type": "markdown",
   "metadata": {
    "colab_type": "text",
    "id": "pTDsYxx6Gafk"
   },
   "source": [
    "## Searching Through Soup\n"
   ]
  },
  {
   "cell_type": "markdown",
   "metadata": {
    "colab_type": "text",
    "id": "Vfo7esGvpMm9"
   },
   "source": [
    "### Finding the target tags to isolate\n"
   ]
  },
  {
   "cell_type": "markdown",
   "metadata": {
    "colab_type": "text",
    "id": "YXktQsDvWW0A"
   },
   "source": [
    "Using example  from  [Wikipedia article](https://en.wikipedia.org/wiki/List_of_highest-grossing_films)\n",
    "where we are trying to isolate the body of the article content.\n",
    "\n",
    "\n",
    "- **Examine the website using Chrome's inspect view.**\n",
    "\n",
    "    - Press F12 or right-click > inspect\n",
    "\n",
    "    - Use the mouse selector tool (top left button) to explore the web page content for your desired target\n",
    "        - the web page element will be highlighted on the page itself and its corresponding entry in the document tree.\n",
    "        - Note: click on the web page with the selector in order to keep it selected in the document tree\n",
    "\n",
    "    - Take note of any identifying attributes for the target tag (class, id, etc)\n",
    "<img src=\"https://drive.google.com/uc?export-download&id=1KifQ_ukuXFdnCh1Tz1rwzA_cWkB_45mf\" width=450>"
   ]
  },
  {
   "cell_type": "markdown",
   "metadata": {
    "colab_type": "text",
    "id": "YXktQsDvWW0A"
   },
   "source": [
    "### Using BeautifulSoup's search functions"
   ]
  },
  {
   "cell_type": "markdown",
   "metadata": {
    "colab_type": "text",
    "id": "YXktQsDvWW0A"
   },
   "source": [
    "Note: while the process below is a decent summary, there is more nuance to html/css tags than I personally have been able to digest. \n",
    "    - If something doesn't work as expected/explained, please verify in the documentation.\n",
    "        - [BeauitfulSoup documentation](https://www.crummy.com/software/BeautifulSoup/bs4/doc/#beautiful-soup-documentation)\n",
    "        - [docs for .find_all()](https://www.crummy.com/software/BeautifulSoup/bs4/doc/#find-all)\n",
    "    \n",
    "- **BeautifulSoup has methods for searching through descendent-tags**\n",
    "    - `.find`\n",
    "    - `.find_all`\n",
    "    \n",
    "- **Using `.find_all()`**\n",
    "    - Searches through all descendent tags and returns a result set (list of tag objects)\n",
    "```python\n",
    "# How to get results from .find_all()\n",
    "results = soup.find_all(name, attrs, recursive, string, limit,**kwargs) `\n",
    "```        \n",
    "    - `.find_all()` parameters:\n",
    "        - `name` _(type of tags to consider)_\n",
    "            - only consider tags with this name \n",
    "                - Ex: 'a',  'div', 'p' ,etc.\n",
    "        - `atrrs`_(css attributes that you are looking for in your target tag)_\n",
    "            - enter an attribute such as the class or id as a string\n",
    "\n",
    "                `attrs='mw-content-ltr'`\n",
    "            - if passing more than one attribute, must use a dictionary:\n",
    "\n",
    "            `attrs={'class':'mw-content-ltr', 'id':'mw-content-text'}`\n",
    "        - `recursive`_(Default=True)_\n",
    "            - search all children (`True`)\n",
    "            - search only  direct children(`False`)\n",
    "\n",
    "        - `string`\n",
    "            - search for text _inside_ of tags instead of the tags themselves\n",
    "            - can be regular expression\n",
    "        - `limit`\n",
    "            - How many results you want it to return\n",
    "\n",
    "\n",
    "    "
   ]
  },
  {
   "cell_type": "code",
   "execution_count": null,
   "metadata": {},
   "outputs": [],
   "source": [
    "## Final All Table tags\n",
    "tables = soup.find_all('table')\n",
    "len(tables)"
   ]
  },
  {
   "cell_type": "code",
   "execution_count": null,
   "metadata": {
    "scrolled": true
   },
   "outputs": [],
   "source": [
    "## Save the first table as its own tag\n",
    "table =tables[0]\n",
    "\n",
    "## Save all table rows as children\n",
    "children = list(table.find_all('tr'))\n",
    "\n",
    "## Print the text of each row from children\n",
    "table_data = []\n",
    "for row in children:\n",
    "    \n",
    "    text_data = row.text.replace('\\n',',').replace(',,',',').strip(',')\n",
    "    print(text_data)\n",
    "    \n",
    "    ## Update code to save cleaned up version of text_data\n",
    "    table_data.append(text_data.replace(' ',',').split(',')[:-1])\n",
    "    "
   ]
  },
  {
   "cell_type": "code",
   "execution_count": null,
   "metadata": {},
   "outputs": [],
   "source": [
    "pd.DataFrame(table_data)"
   ]
  },
  {
   "cell_type": "markdown",
   "metadata": {},
   "source": [
    "### SuperPower: pd.read_html"
   ]
  },
  {
   "cell_type": "code",
   "execution_count": null,
   "metadata": {},
   "outputs": [],
   "source": [
    "import pandas as pd\n",
    "tables_pandas = pd.read_html(url)\n",
    "df = tables_pandas[0]\n",
    "df"
   ]
  },
  {
   "cell_type": "code",
   "execution_count": null,
   "metadata": {},
   "outputs": [],
   "source": []
  },
  {
   "cell_type": "markdown",
   "metadata": {},
   "source": [
    "### Level-Up Activity\n"
   ]
  },
  {
   "cell_type": "markdown",
   "metadata": {},
   "source": [
    "- For each of the movies in our scraped table:\n",
    "    - Navigate to the movie's wikipedia page. \n",
    "    - Save the top-right dark gray box with the summary info for the movie."
   ]
  },
  {
   "cell_type": "code",
   "execution_count": null,
   "metadata": {},
   "outputs": [],
   "source": [
    "## Extract table again\n",
    "tables = soup.find_all('table')\n",
    "table = tables[0]\n",
    "a_tags = table.find_all('a',href=True)\n",
    "len(a_tags)"
   ]
  },
  {
   "cell_type": "code",
   "execution_count": null,
   "metadata": {},
   "outputs": [],
   "source": [
    "## Get all wikipedia links\n",
    "movie_urls = []\n",
    "for tag in a_tags:\n",
    "    if tag['href'].startswith('/wiki'):\n",
    "        movie_urls.append(tag['href'])\n",
    "movie_urls"
   ]
  },
  {
   "cell_type": "markdown",
   "metadata": {
    "ExecuteTime": {
     "end_time": "2020-05-22T23:44:36.249379Z",
     "start_time": "2020-05-22T23:44:36.247334Z"
    }
   },
   "source": [
    "### Joining Together Links"
   ]
  },
  {
   "cell_type": "code",
   "execution_count": null,
   "metadata": {
    "ExecuteTime": {
     "end_time": "2020-05-22T23:59:32.183509Z",
     "start_time": "2020-05-22T23:59:32.179419Z"
    }
   },
   "outputs": [],
   "source": [
    "import urllib\n",
    "urllib.parse.urljoin(url,movie_urls[0])"
   ]
  },
  {
   "cell_type": "code",
   "execution_count": null,
   "metadata": {
    "ExecuteTime": {
     "end_time": "2020-05-23T00:01:27.908956Z",
     "start_time": "2020-05-23T00:01:27.903685Z"
    }
   },
   "outputs": [],
   "source": [
    "## Make full links for full list\n",
    "full_urls = [urllib.parse.urljoin(url,link) for link in movie_urls]\n",
    "full_urls[:5]"
   ]
  },
  {
   "cell_type": "markdown",
   "metadata": {},
   "source": [
    "### Getting the info Box for the first movie"
   ]
  },
  {
   "cell_type": "code",
   "execution_count": null,
   "metadata": {},
   "outputs": [],
   "source": [
    "## Make a soup for the first url in full_urls\n",
    "soup2= bs4.BeautifulSoup(requests.get(full_urls[0]).content)\n",
    "soup2"
   ]
  },
  {
   "cell_type": "code",
   "execution_count": null,
   "metadata": {},
   "outputs": [],
   "source": [
    "## Identify a tag you could use to target the info\n",
    "infobox = soup2.find_all(class_=\"infobox vevent\")\n",
    "len(infobox)\n",
    "print(infobox[0])"
   ]
  },
  {
   "cell_type": "code",
   "execution_count": null,
   "metadata": {},
   "outputs": [],
   "source": [
    "## Eff that, use pd.read_html\n",
    "tables2 = pd.read_html(full_urls[0])\n",
    "tables2[0]"
   ]
  },
  {
   "cell_type": "markdown",
   "metadata": {
    "heading_collapsed": true
   },
   "source": [
    "# APPENDIX"
   ]
  },
  {
   "cell_type": "markdown",
   "metadata": {
    "hidden": true
   },
   "source": [
    "## Other HTML/CSS Use Cases"
   ]
  },
  {
   "cell_type": "markdown",
   "metadata": {
    "colab_type": "text",
    "hidden": true,
    "id": "FT9Mk2TaEpNt"
   },
   "source": [
    "### 6. ipywidget layouts (e.g. fsds.ihelp_menu)"
   ]
  },
  {
   "cell_type": "code",
   "execution_count": null,
   "metadata": {
    "ExecuteTime": {
     "end_time": "2020-05-22T23:24:56.607138Z",
     "start_time": "2020-05-22T23:24:55.690006Z"
    },
    "hidden": true
   },
   "outputs": [],
   "source": [
    "## 4. ipywidgets Example\n",
    "try: \n",
    "    import fsds as fs\n",
    "except:\n",
    "    !pip install -U fsds \n",
    "    import fsds as fs\n",
    "\n",
    "fs.ihelp_menu(fs.ihelp_menu)"
   ]
  },
  {
   "cell_type": "markdown",
   "metadata": {
    "hidden": true
   },
   "source": [
    "## Other Text-Related Tips"
   ]
  },
  {
   "cell_type": "markdown",
   "metadata": {
    "hidden": true
   },
   "source": [
    "### Sidebar: Using RegularExpressions to sift through the content."
   ]
  },
  {
   "cell_type": "code",
   "execution_count": null,
   "metadata": {
    "ExecuteTime": {
     "end_time": "2020-05-22T22:16:05.586996Z",
     "start_time": "2020-05-22T22:16:04.397Z"
    },
    "hidden": true
   },
   "outputs": [],
   "source": [
    "import re\n",
    "regexp = re.compile(r\"(\\$\\d{1,})\\.(\\d{2})\")\n",
    "regexp\n"
   ]
  },
  {
   "cell_type": "code",
   "execution_count": null,
   "metadata": {
    "ExecuteTime": {
     "end_time": "2020-05-22T22:16:05.587985Z",
     "start_time": "2020-05-22T22:16:04.399Z"
    },
    "hidden": true
   },
   "outputs": [],
   "source": [
    "found_text = regexp.findall(all_text)\n",
    "found_text"
   ]
  },
  {
   "cell_type": "code",
   "execution_count": null,
   "metadata": {
    "ExecuteTime": {
     "end_time": "2020-05-22T22:16:05.588982Z",
     "start_time": "2020-05-22T22:16:04.403Z"
    },
    "colab": {
     "base_uri": "https://localhost:8080/",
     "height": 54
    },
    "colab_type": "code",
    "hidden": true,
    "id": "NJkRhE6f3Frp",
    "outputId": "88b55477-5142-49c9-8e62-f3b727d697ee"
   },
   "outputs": [],
   "source": [
    "tag0=tags[0]\n",
    "target = tag0.contents\n",
    "target = ' '.join(target)\n",
    "target"
   ]
  },
  {
   "cell_type": "markdown",
   "metadata": {
    "colab_type": "text",
    "hidden": true,
    "id": "3mnqtIzLFmXR"
   },
   "source": [
    "\n",
    "- Best Hands On Tester for Regex:\n",
    "    - https://regex101.com/\n",
    "    - Select \"Python\" on the left side of the page.\n",
    "    - Paste the text you want to sift through in the large center window.\n",
    "    - Type your expression in the top center window.\n",
    "    - It will highlight the text that matches your regular expression in the big center panel. \n",
    "\n",
    "- Cheatsheet for Regex Symbols:\n",
    "    - https://www.debuggex.com/cheatsheet/regex/python"
   ]
  },
  {
   "cell_type": "code",
   "execution_count": null,
   "metadata": {
    "ExecuteTime": {
     "end_time": "2020-05-22T22:16:05.589866Z",
     "start_time": "2020-05-22T22:16:04.406Z"
    },
    "colab": {
     "base_uri": "https://localhost:8080/",
     "height": 34
    },
    "colab_type": "code",
    "hidden": true,
    "id": "ARB9GOg-3Fps",
    "outputId": "47933797-b731-4012-b612-959341806d10"
   },
   "outputs": [],
   "source": [
    "import re\n",
    "price =  re.compile(\"(\\$\\d\\,\\d*\\.\\d{2})\")\n",
    "price.findall(target)"
   ]
  },
  {
   "cell_type": "markdown",
   "metadata": {
    "hidden": true
   },
   "source": [
    "### Text Formatting with f-strings"
   ]
  },
  {
   "cell_type": "code",
   "execution_count": null,
   "metadata": {
    "ExecuteTime": {
     "end_time": "2020-05-22T22:16:05.572811Z",
     "start_time": "2020-05-22T22:16:04.359Z"
    },
    "colab": {},
    "colab_type": "code",
    "hidden": true,
    "id": "w5Rn-Y0N0q3B"
   },
   "outputs": [],
   "source": [
    "import requests\n",
    "url = 'https://en.wikipedia.org/wiki/Stock_market'\n",
    "\n",
    "response = requests.get(url, timeout=3)\n",
    "print('Status code: ',response.status_code)\n",
    "if response.status_code==200:\n",
    "    print('Connection successfull.\\n\\n')\n",
    "else: \n",
    "    print('Error. Check status code table.\\n\\n')    \n",
    "\n",
    "    \n",
    "# Print out the contents of a request's response\n",
    "print(f\"{'---'*20}\\n\\tContents of Response.items():\\n{'---'*20}\")\n",
    "\n",
    "for k,v in response.headers.items():\n",
    "    print(f\"{k:{25}}: {v:{40}}\") # Note: add :{number} inside of a    "
   ]
  },
  {
   "cell_type": "code",
   "execution_count": null,
   "metadata": {
    "ExecuteTime": {
     "end_time": "2020-05-22T22:16:05.573799Z",
     "start_time": "2020-05-22T22:16:04.362Z"
    },
    "colab": {},
    "colab_type": "code",
    "hidden": true,
    "id": "fbpLnJrzDetE"
   },
   "outputs": [],
   "source": [
    "for k,v in response.headers.items():\n",
    "    print(f\"{k:{30}}:{v:{20}}\") # Note: add :{number} inside of a  "
   ]
  },
  {
   "cell_type": "markdown",
   "metadata": {
    "colab_type": "text",
    "hidden": true,
    "id": "KjXVI4Qpw2_n"
   },
   "source": [
    "#### Sidebar Notes - Explaining The Above Text Printing/Formatting:**\n"
   ]
  },
  {
   "cell_type": "markdown",
   "metadata": {
    "colab_type": "text",
    "hidden": true,
    "id": "ZkwN3WP80tiS"
   },
   "source": [
    "\n",
    "- **You can repeat strings by using multiplication**\n",
    "    - `'---'*20` will repeat the dashed lines 20 times\n",
    "\n",
    "- **You can determine how much space is alloted for a variable when using f-strings**\n",
    "    - Add a `:{##}` after the variable to specify the allocated width\n",
    "    - Add a `>` before the `{##}` to force alignment \n",
    "    - Add another symbol (like '.'' or '-') before `>` to add guiding-line/placeholder (like in a table of contents)\n",
    "\n",
    "```python\n",
    "print(f\"Status code: {response.status_code}\")\n",
    "print(f\"Status code: {response.status_code:>{20}}\")\n",
    "print(f\"Status code: {response.status_code:->{20}}\")\n",
    "```    \n",
    "```\n",
    "# Returns:\n",
    "Status code: 200\n",
    "Status code:                  200\n",
    "Status code: -----------------200\n",
    "```"
   ]
  },
  {
   "cell_type": "markdown",
   "metadata": {
    "colab_type": "text",
    "hidden": true,
    "id": "G8RaN-P7-aO7"
   },
   "source": [
    "### Recommended packages/tools to use\n",
    "1. `fake_useragent`\n",
    "    - pip-installable module that conveniently supplies fake user agent information to use in your request headers.\n",
    "    - recommended by udemy course\n",
    "2. `lxml`\n",
    "    - popular pip installable html parser (recommended by Udemy course)\n",
    "    - using `'html.parser'` in requests.get() did not work for me, I had to install lxml"
   ]
  },
  {
   "cell_type": "code",
   "execution_count": null,
   "metadata": {
    "ExecuteTime": {
     "end_time": "2020-05-22T23:34:10.555088Z",
     "start_time": "2020-05-22T23:34:05.452711Z"
    },
    "colab": {},
    "colab_type": "code",
    "hidden": true,
    "id": "gh6WTxiVYqkh"
   },
   "outputs": [],
   "source": [
    "# !pip install fake_useragent\n",
    "# !pip install lxml\n",
    "\n",
    "# import fake_useragent\n",
    "# import lxml"
   ]
  },
  {
   "cell_type": "code",
   "execution_count": null,
   "metadata": {
    "hidden": true
   },
   "outputs": [],
   "source": []
  }
 ],
 "metadata": {
  "colab": {
   "collapsed_sections": [
    "KjXVI4Qpw2_n",
    "eVfjE8RhHZq-"
   ],
   "name": "Web Scraping 101.ipynb",
   "provenance": [],
   "toc_visible": true
  },
  "kernelspec": {
   "display_name": "Python 3",
   "language": "python",
   "name": "python3"
  },
  "language_info": {
   "codemirror_mode": {
    "name": "ipython",
    "version": 3
   },
   "file_extension": ".py",
   "mimetype": "text/x-python",
   "name": "python",
   "nbconvert_exporter": "python",
   "pygments_lexer": "ipython3",
   "version": "3.8.5"
  },
  "toc": {
   "base_numbering": 1,
   "nav_menu": {},
   "number_sections": false,
   "sideBar": true,
   "skip_h1_title": false,
   "title_cell": "Table of Contents",
   "title_sidebar": "Contents",
   "toc_cell": false,
   "toc_position": {
    "height": "calc(100% - 180px)",
    "left": "10px",
    "top": "150px",
    "width": "256px"
   },
   "toc_section_display": true,
   "toc_window_display": true
  },
  "varInspector": {
   "cols": {
    "lenName": 16,
    "lenType": 16,
    "lenVar": 40
   },
   "kernels_config": {
    "python": {
     "delete_cmd_postfix": "",
     "delete_cmd_prefix": "del ",
     "library": "var_list.py",
     "varRefreshCmd": "print(var_dic_list())"
    },
    "r": {
     "delete_cmd_postfix": ") ",
     "delete_cmd_prefix": "rm(",
     "library": "var_list.r",
     "varRefreshCmd": "cat(var_dic_list()) "
    }
   },
   "types_to_exclude": [
    "module",
    "function",
    "builtin_function_or_method",
    "instance",
    "_Feature"
   ],
   "window_display": false
  },
  "widgets": {
   "application/vnd.jupyter.widget-state+json": {
    "state": {
     "00960561237f4b4aa8d09fde28b78f45": {
      "model_module": "@jupyter-widgets/base",
      "model_module_version": "1.2.0",
      "model_name": "LayoutModel",
      "state": {}
     },
     "023caa4738624b78b0e11d529002440d": {
      "model_module": "@jupyter-widgets/controls",
      "model_module_version": "1.5.0",
      "model_name": "HBoxModel",
      "state": {
       "children": [
        "IPY_MODEL_f6a497e1b17842bb88f49c7e3a32a13b",
        "IPY_MODEL_ec9b2be9a89c44dbb4769c9940f7e467",
        "IPY_MODEL_5cdd92cbb5574849a1af66ea3e4ff96c"
       ],
       "layout": "IPY_MODEL_8d874aa7882d4ce083051deb5ba47d3d"
      }
     },
     "0ad70802e65d4c268e160d5499c95618": {
      "model_module": "@jupyter-widgets/base",
      "model_module_version": "1.2.0",
      "model_name": "LayoutModel",
      "state": {}
     },
     "10328a2c770b47569afb6027323f6cb0": {
      "model_module": "@jupyter-widgets/base",
      "model_module_version": "1.2.0",
      "model_name": "LayoutModel",
      "state": {}
     },
     "13b936631e9c4261a9a92bf6e2cfe952": {
      "model_module": "@jupyter-widgets/controls",
      "model_module_version": "1.5.0",
      "model_name": "GridBoxModel",
      "state": {
       "box_style": "warning",
       "children": [
        "IPY_MODEL_9acdb9b7458c4b6199bf26d343128272",
        "IPY_MODEL_228b9080e8564a2596093963d5101e59"
       ],
       "layout": "IPY_MODEL_898299b1e212457d8e32c9450aba972d"
      }
     },
     "1c86f1e09da54f17addad52b524f7ff9": {
      "model_module": "@jupyter-widgets/controls",
      "model_module_version": "1.5.0",
      "model_name": "DescriptionStyleModel",
      "state": {
       "description_width": ""
      }
     },
     "21b2729f09614eb197329a5f833a138b": {
      "model_module": "@jupyter-widgets/base",
      "model_module_version": "1.2.0",
      "model_name": "LayoutModel",
      "state": {}
     },
     "228b9080e8564a2596093963d5101e59": {
      "model_module": "@jupyter-widgets/controls",
      "model_module_version": "1.5.0",
      "model_name": "HBoxModel",
      "state": {
       "children": [
        "IPY_MODEL_dfbe5435d6b14a3098a4ceffe5b2f07c",
        "IPY_MODEL_6fd2681f9eb7474e95cd4c43d20d64bf",
        "IPY_MODEL_ef44f4a8cb9f4a72ad1de1b270940d90"
       ],
       "layout": "IPY_MODEL_cd84c06e9d7e4f3f95d29569dac670f2"
      }
     },
     "228d1f6789ed4379901ef9822da238ed": {
      "model_module": "@jupyter-widgets/base",
      "model_module_version": "1.2.0",
      "model_name": "LayoutModel",
      "state": {}
     },
     "24cf4181a979433ea7746a42576dabe1": {
      "model_module": "@jupyter-widgets/base",
      "model_module_version": "1.2.0",
      "model_name": "LayoutModel",
      "state": {}
     },
     "2b4b237da5274b22b1e407370863f701": {
      "model_module": "@jupyter-widgets/controls",
      "model_module_version": "1.5.0",
      "model_name": "ToggleButtonModel",
      "state": {
       "description": "Show/hide",
       "layout": "IPY_MODEL_228d1f6789ed4379901ef9822da238ed",
       "style": "IPY_MODEL_c4d5ecc0818d410d9a6bc3403daba104",
       "value": true
      }
     },
     "2e5cef8afa874baf874813af609c037e": {
      "model_module": "@jupyter-widgets/base",
      "model_module_version": "1.2.0",
      "model_name": "LayoutModel",
      "state": {}
     },
     "30c8873de3854097be70ca5f63322d44": {
      "model_module": "@jupyter-widgets/controls",
      "model_module_version": "1.5.0",
      "model_name": "DescriptionStyleModel",
      "state": {
       "description_width": ""
      }
     },
     "322fc195a38b4eab951f369b33fa0dbf": {
      "model_module": "@jupyter-widgets/controls",
      "model_module_version": "1.5.0",
      "model_name": "DescriptionStyleModel",
      "state": {
       "description_width": ""
      }
     },
     "3aba95d224c64fceab4a3dab6b4b1137": {
      "model_module": "@jupyter-widgets/controls",
      "model_module_version": "1.5.0",
      "model_name": "DescriptionStyleModel",
      "state": {
       "description_width": ""
      }
     },
     "3c947a3313d244e3969f8677b53241ad": {
      "model_module": "@jupyter-widgets/base",
      "model_module_version": "1.2.0",
      "model_name": "LayoutModel",
      "state": {}
     },
     "3f4e27882e39484eb87ba467e406740e": {
      "model_module": "@jupyter-widgets/controls",
      "model_module_version": "1.5.0",
      "model_name": "DescriptionStyleModel",
      "state": {
       "description_width": ""
      }
     },
     "5484a504f8f84a9082e5b089cdc58e21": {
      "model_module": "@jupyter-widgets/base",
      "model_module_version": "1.2.0",
      "model_name": "LayoutModel",
      "state": {}
     },
     "587a9266920c4d8390e01af9b9f88466": {
      "model_module": "@jupyter-widgets/base",
      "model_module_version": "1.2.0",
      "model_name": "LayoutModel",
      "state": {}
     },
     "5cdd92cbb5574849a1af66ea3e4ff96c": {
      "model_module": "@jupyter-widgets/controls",
      "model_module_version": "1.5.0",
      "model_name": "CheckboxModel",
      "state": {
       "description": "Show source filepath",
       "disabled": false,
       "layout": "IPY_MODEL_bec18269270849558422ca2c0bbdbf36",
       "style": "IPY_MODEL_98ae6cdf1d994442ab02391387d37360",
       "value": false
      }
     },
     "6032e75b4efa497fb9a36e0dcda66215": {
      "model_module": "@jupyter-widgets/controls",
      "model_module_version": "1.5.0",
      "model_name": "LabelModel",
      "state": {
       "layout": "IPY_MODEL_e1a7617e7c1b4b05939a878ac5eca448",
       "style": "IPY_MODEL_9dea5cb15983447bad3fe80190bccbf8",
       "value": "Function Menu"
      }
     },
     "67978f6c0b9f4aa386da11c737cc9156": {
      "model_module": "@jupyter-widgets/controls",
      "model_module_version": "1.5.0",
      "model_name": "LabelModel",
      "state": {
       "layout": "IPY_MODEL_00960561237f4b4aa8d09fde28b78f45",
       "style": "IPY_MODEL_a192f8d0990844319cc006a0050f7e4d",
       "value": "Function Menu"
      }
     },
     "67e44cb430874cbba86bbef7bd740f20": {
      "model_module": "@jupyter-widgets/controls",
      "model_module_version": "1.5.0",
      "model_name": "VBoxModel",
      "state": {
       "children": [
        "IPY_MODEL_9f91e6a19def438a8e265e6145e544b3",
        "IPY_MODEL_c6dce87824f8450a897c6e7efa5b3d64"
       ],
       "layout": "IPY_MODEL_2e5cef8afa874baf874813af609c037e"
      }
     },
     "6fd2681f9eb7474e95cd4c43d20d64bf": {
      "model_module": "@jupyter-widgets/controls",
      "model_module_version": "1.5.0",
      "model_name": "CheckboxModel",
      "state": {
       "description": "Show source code",
       "disabled": false,
       "layout": "IPY_MODEL_0ad70802e65d4c268e160d5499c95618",
       "style": "IPY_MODEL_afd65d6f89b443b6a7c4ae11020afd0c",
       "value": true
      }
     },
     "6fef60214634454bbd12d0674a8d0b47": {
      "model_module": "@jupyter-widgets/controls",
      "model_module_version": "1.5.0",
      "model_name": "ToggleButtonModel",
      "state": {
       "description": "Show/hide",
       "layout": "IPY_MODEL_5484a504f8f84a9082e5b089cdc58e21",
       "style": "IPY_MODEL_3aba95d224c64fceab4a3dab6b4b1137"
      }
     },
     "7a7c51dac8c9448aa4af5b1de39a4f84": {
      "model_module": "@jupyter-widgets/base",
      "model_module_version": "1.2.0",
      "model_name": "LayoutModel",
      "state": {}
     },
     "7ae5b6b16a614a84a5dd946187db78ec": {
      "model_module": "@jupyter-widgets/controls",
      "model_module_version": "1.5.0",
      "model_name": "DropdownModel",
      "state": {
       "_options_labels": [
        "ihelp_menu"
       ],
       "index": 0,
       "layout": "IPY_MODEL_10328a2c770b47569afb6027323f6cb0",
       "style": "IPY_MODEL_bfa7f41206c64d8a86eb0e5d75fa6140"
      }
     },
     "7fad5dd4c71b40d4ba50aa46cdc2af74": {
      "model_module": "@jupyter-widgets/base",
      "model_module_version": "1.2.0",
      "model_name": "LayoutModel",
      "state": {}
     },
     "803b96e753674286897f96c3208b55de": {
      "model_module": "@jupyter-widgets/output",
      "model_module_version": "1.0.0",
      "model_name": "OutputModel",
      "state": {
       "layout": "IPY_MODEL_587a9266920c4d8390e01af9b9f88466",
       "outputs": [
        {
         "name": "stdout",
         "output_type": "stream",
         "text": "------------------------------------------------------------------------------------\n------ HELP ------------------------------------------------------------------------\n\nHelp on function ihelp_menu in module fsds.default:\n\nihelp_menu(function_list, box_style='warning', to_embed=False)\n    Creates a widget menu of the source code and and help documentation of the functions in function_list.\n    \n    Args:\n        function_list (list): list of function object or string names of loaded function. \n        to_embed (bool, optional): Returns interface (layout,output) if True. Defaults to False.\n        to_file (bool, optional): Save . Defaults to False.\n        json_file (str, optional): [description]. Defaults to 'ihelp_output.txt'.\n        \n    Returns:\n        full_layout (ipywidgets GridBox): Layout of interface.\n        output ()\n\n\n------------------------------------------------------------------------------------\n------ SOURCE ----------------------------------------------------------------------\n"
        },
        {
         "data": {
          "text/markdown": "```python\n\u0000\u0000\u0000\u0000\u0000\u0000\u0000\u0000\u0000\u0000\u0000\u0000\u0000\u0000\u0000\u0000\u0000\u0000\u0000\u0000\u0000\u0000\u0000\u0000\u0000\u0000\u0000\u0000\u0000\u0000\u0000\u0000\u0000\u0000\u0000\u0000\u0000\u0000\u0000\u0000\u0000\u0000\u0000\u0000\u0000\u0000\u0000\u0000\u0000\u0000\u0000\u0000\u0000\u0000\u0000\u0000\u0000\u0000\u0000\u0000\u0000\u0000\u0000\u0000\u0000\u0000\u0000\u0000\u0000\u0000\u0000\u0000\u0000\u0000\u0000\u0000\u0000\u0000\u0000\u0000\u0000\u0000\u0000\u0000\u0000\u0000\u0000\u0000\u0000\u0000\u0000\u0000\u0000\u0000\u0000\u0000\u0000\u0000\u0000\u0000\u0000\u0000\u0000\u0000\u0000\u0000\u0000\u0000\u0000\u0000\u0000\u0000\u0000\u0000\u0000\u0000\u0000\u0000\u0000\u0000\u0000\u0000\u0000\u0000\u0000\u0000\u0000\u0000\u0000\u0000\u0000\u0000\u0000\u0000\u0000\u0000\u0000\u0000\u0000\u0000\u0000\u0000\u0000\u0000\u0000\u0000\u0000\u0000\u0000\u0000\u0000\u0000\u0000\u0000\u0000\u0000\u0000\u0000\u0000\u0000\u0000\u0000\u0000\u0000\u0000\u0000\u0000\u0000\u0000\u0000\u0000\u0000\u0000\u0000\u0000\u0000\u0000\u0000\u0000\u0000\u0000\u0000\u0000\u0000\u0000\u0000\u0000\u0000\u0000\u0000\u0000\u0000\u0000\u0000\u0000\u0000\u0000\u0000\u0000\u0000\u0000\u0000\u0000\u0000\u0000\u0000\u0000\u0000\u0000\u0000\u0000\u0000\u0000\u0000\u0000\u0000\u0000\u0000\u0000\u0000\u0000\u0000\u0000\u0000\u0000\u0000\u0000\u0000\u0000\u0000\u0000\u0000\u0000\u0000\u0000\u0000\u0000\u0000\u0000\u0000\u0000\u0000\u0000\u0000\u0000\u0000\u0000\u0000\u0000\u0000\u0000\u0000\u0000\u0000\u0000\u0000\u0000\u0000\u0000\u0000\u0000\u0000\u0000\u0000\u0000\u0000\u0000\u0000\u0000\u0000\u0000\u0000\u0000\u0000\u0000\u0000\u0000\u0000\u0000\u0000\u0000\u0000\u0000\u0000\u0000\u0000\u0000\u0000\u0000\u0000\u0000\u0000\u0000\u0000\u0000\u0000\u0000\u0000\u0000\u0000\u0000\u0000\u0000\u0000\u0000\u0000\u0000\u0000\u0000\u0000\u0000\u0000\u0000\u0000\u0000\u0000\u0000\u0000\u0000\u0000\u0000\u0000\u0000\u0000\u0000\u0000\u0000\u0000\u0000\u0000\u0000\u0000\u0000\u0000\u0000\u0000\u0000\u0000\u0000\u0000\u0000\u0000\u0000\u0000\u0000\u0000\u0000\u0000\u0000\u0000\u0000\u0000\u0000\u0000\u0000\u0000\u0000\u0000\u0000\u0000\u0000\u0000\u0000\u0000\u0000\u0000\u0000\u0000\u0000\u0000\u0000\u0000\u0000\u0000\u0000\u0000\u0000\u0000\u0000\u0000\u0000\u0000\u0000\u0000\u0000\u0000\u0000\u0000\u0000\u0000\u0000\u0000\u0000\u0000\u0000\u0000\u0000\u0000\u0000\u0000\u0000\u0000\u0000\u0000\u0000\u0000\u0000\u0000\u0000\u0000\u0000\u0000\u0000\u0000\u0000\u0000\u0000\u0000\u0000\u0000\u0000\u0000\u0000\u0000\u0000\u0000\u0000\u0000\u0000\u0000\u0000\u0000\u0000\u0000\u0000\u0000\u0000\u0000\u0000\u0000\u0000\u0000\u0000\u0000\u0000\u0000\u0000\u0000\u0000\u0000\u0000\u0000\u0000\u0000\u0000\u0000\u0000\u0000\u0000\u0000\u0000\u0000\u0000\u0000\u0000\u0000\u0000\u0000\u0000\u0000\u0000\u0000\u0000\u0000\u0000\u0000\u0000\u0000\u0000\u0000\u0000\u0000\u0000\u0000\u0000\u0000\u0000\u0000\u0000\u0000\u0000\u0000\u0000\u0000\u0000\u0000\u0000\u0000\u0000\u0000\u0000\u0000\u0000\u0000\u0000\u0000\u0000\u0000\u0000\u0000\u0000\u0000\u0000\u0000\u0000\u0000\u0000\u0000\u0000\u0000\u0000\u0000\u0000\u0000\u0000\u0000\u0000\u0000\u0000\u0000\u0000\u0000\u0000\u0000\u0000\u0000\u0000\u0000\u0000\u0000\u0000\u0000\u0000\u0000\u0000\u0000\u0000\u0000\u0000\u0000\u0000\u0000\u0000\u0000\u0000\u0000\u0000\u0000\u0000\u0000\u0000\u0000\u0000\u0000\u0000\u0000\u0000\u0000\u0000\u0000\u0000\u0000\u0000\u0000\u0000\u0000\u0000\u0000\u0000\u0000\u0000\u0000\u0000\u0000\u0000\u0000\u0000\u0000\u0000\u0000\u0000\u0000\u0000\u0000\u0000\u0000\u0000\u0000\u0000\u0000\u0000\u0000\u0000\u0000\u0000\u0000\u0000\u0000\u0000\u0000\u0000\u0000\u0000\u0000\u0000\u0000\u0000\u0000\u0000\u0000\u0000\u0000\u0000\u0000\u0000\u0000\u0000\u0000\u0000\u0000\u0000\u0000\u0000\u0000\u0000\u0000\u0000\u0000\u0000\u0000\u0000\u0000\u0000\u0000\u0000\u0000\u0000\u0000\u0000\u0000\u0000\u0000\u0000\u0000\u0000\u0000\u0000\u0000\u0000\u0000\u0000\u0000\u0000\u0000\u0000\u0000\u0000\u0000\u0000\u0000\u0000\u0000def ihelp_menu(function_list,box_style='warning', to_embed=False):#, to_file=False):#, json_file='ihelp_output.txt' ):\n    \"\"\"\n    Creates a widget menu of the source code and and help documentation of the functions in function_list.\n    \n    Args:\n        function_list (list): list of function object or string names of loaded function. \n        to_embed (bool, optional): Returns interface (layout,output) if True. Defaults to False.\n        to_file (bool, optional): Save . Defaults to False.\n        json_file (str, optional): [description]. Defaults to 'ihelp_output.txt'.\n        \n    Returns:\n        full_layout (ipywidgets GridBox): Layout of interface.\n        output ()\n    \"\"\"\n    \n    # Accepts a list of string names for loaded modules/functions to save the `help` output and \n    # inspect.getsource() outputs to dictionary for later reference and display\n    ## One way using sys to write txt file\n    import pandas as pd\n    import sys\n    import inspect\n    from io import StringIO\n    from IPython.display import display,Markdown\n    notebook_output = sys.stdout\n    result = StringIO()\n    sys.stdout=result\n    \n    ## Turn single input into a list\n    if isinstance(function_list,list)==False:\n        function_list = [function_list]\n    \n    ## Make a dictionary of{function_name : function_object}\n    functions_dict = dict()\n    for fun in function_list:\n        \n        ## if input is a string, save string as key, and eval(function) as value\n        if isinstance(fun, str):\n            functions_dict[fun] = eval(fun)\n\n        ## if input is a function, get the name of function using inspect and make key, function as value\n        elif inspect.isfunction(fun):\n\n            members= inspect.getmembers(fun)\n            member_df = pd.DataFrame(members,columns=['param','values']).set_index('param')\n\n            fun_name = member_df.loc['__name__'].values[0]\n            functions_dict[fun_name] = fun\n            \n            \n    ## Create an output dict to store results for functions\n    output_dict = {}\n\n    for fun_name, real_func in functions_dict.items():\n        \n        output_dict[fun_name] = {}\n                \n        ## First save help\n        help(real_func)\n        output_dict[fun_name]['help'] = result.getvalue()\n        \n        ## Clear contents of io stream\n        result.truncate(0)\n                \n        try:\n            ## Next save source\n            source_DF = inspect.getsource(real_func)\n            # # if markdown == True:\n                \n            #     output = \"```python\" +'\\n'+source_DF+'\\n'+\"```\"\n            #     display(Markdown(output))\n            # else:\n            #     output=source_DF\n            print(source_DF)\n            # output_dict[fun_name]['source'] = source_DF\n\n            # print(inspect.getsource(real_func)) #eval(fun)))###f\"{eval(fun)}\"))\n        except:\n            # print(\"Source code for object was not found\")\n            print(\"Source code for object was not found\")\n\n\n        # finally:\n        output_dict[fun_name]['source'] = result.getvalue()\n        ## clear contents of io stream\n        result.truncate(0)\n    \n        \n        ## Get file location\n        try:\n            file_loc = inspect.getfile(real_func)\n            print(file_loc)\n        except:\n            print(\"File location not found\")\n            \n        output_dict[fun_name]['file_location'] =result.getvalue()\n        \n        \n        ## clear contents of io stream\n        result.truncate(0)        \n        \n    ## Reset display back to notebook\n    sys.stdout = notebook_output    \n\n    # if to_file==True:    \n    #     with open(json_file,'w') as f:\n    #         import json\n    #         json.dump(output_dict,f)\n\n    ## CREATE INTERACTIVE MENU\n    from ipywidgets import interact, interactive, interactive_output\n    import ipywidgets as widgets\n    from IPython.display import display\n    # from functions_combined_BEST import ihelp\n    # import functions_combined_BEST as ji\n\n    ## Check boxes\n    check_help = widgets.Checkbox(description=\"Show 'help(func)'\",value=True)\n    check_source = widgets.Checkbox(description=\"Show source code\",value=True)\n    check_fileloc=widgets.Checkbox(description=\"Show source filepath\",value=False)\n    check_boxes = widgets.HBox(children=[check_help,check_source,check_fileloc])\n\n    ## dropdown menu (dropdown, label, button)\n    dropdown = widgets.Dropdown(options=list(output_dict.keys()))\n    label = widgets.Label('Function Menu')\n    button = widgets.ToggleButton(description='Show/hide',value=False)\n    \n    ## Putting it all together\n    title = widgets.Label('iHelp Menu: View Help and/or Source Code')\n    menu = widgets.HBox(children=[label,dropdown,button])\n    titled_menu = widgets.VBox(children=[title,menu])\n    full_layout = widgets.GridBox(children=[titled_menu,check_boxes],box_style=box_style)\n    \n\n    ## Define output manager\n    # show_output = widgets.Output()\n\n    def dropdown_event(change): \n        new_key = change.new\n        output_display = output_dict[new_key]\n    dropdown.observe(dropdown_event,names='values')\n\n    \n    def show_ihelp(display_help=button.value,function=dropdown.value,\n                   show_help=check_help.value,show_code=check_source.value, \n                   show_file=check_fileloc.value,ouput_dict=output_dict):\n\n        from IPython.display import Markdown\n        # import functions_combined_BEST as ji\n        from IPython.display import display        \n        page_header = '---'*28\n        # import json\n        # with open(json_file,'r') as f:\n        #     output_dict = json.load(f)\n        func_dict = output_dict[function]\n        source_code=None\n\n        if display_help:\n            if show_help:\n#                 display(print(func_dict['help']))\n                print(page_header)\n                banner = ''.join([\"---\"*2,' HELP ',\"---\"*24,'\\n'])\n                print(banner)\n                print(func_dict['help'])\n\n            if show_code:\n                print(page_header)\n\n                banner = ''.join([\"---\"*2,' SOURCE -',\"---\"*23])\n                print(banner)\n\n                source_code = func_dict['source']#.encode('utf-8')\n                if source_code.startswith('`'):\n                    source_code = source_code.replace('`',\"\").encode('utf-8')\n\n                if 'google.colab' in sys.modules:\n                    print(source_code)\n                else:\n                    md_source = \"```python\\n\"+source_code\n                    md_source += \"```\"\n                    display(Markdown(md_source))\n            \n            \n            if show_file:\n                print(page_header)\n                banner = ''.join([\"---\"*2,' FILE LOCATION ',\"---\"*21])\n                print(banner)\n                \n                file_loc = func_dict['file_location']\n                print(file_loc)\n                \n            if show_help==False & show_code==False & show_file==False:\n                display('Check at least one \"Show\" checkbox for output.')\n                \n        else:\n            display('Press \"Show/hide\" for display')\n            \n    ## Fully integrated output\n    output = widgets.interactive_output(show_ihelp,{'display_help':button,\n                                                   'function':dropdown,\n                                                   'show_help':check_help,\n                                                   'show_code':check_source,\n                                                   'show_file':check_fileloc})\n    if to_embed:\n        return full_layout, output\n    else:\n        display(full_layout, output)\n\n```",
          "text/plain": "<IPython.core.display.Markdown object>"
         },
         "metadata": {},
         "output_type": "display_data"
        }
       ]
      }
     },
     "86e7efd0b67744d8b949d8f59d1da829": {
      "model_module": "@jupyter-widgets/base",
      "model_module_version": "1.2.0",
      "model_name": "LayoutModel",
      "state": {}
     },
     "8771a2a9785547d5a01d9ca6fc82113a": {
      "model_module": "@jupyter-widgets/controls",
      "model_module_version": "1.5.0",
      "model_name": "DescriptionStyleModel",
      "state": {
       "description_width": ""
      }
     },
     "898299b1e212457d8e32c9450aba972d": {
      "model_module": "@jupyter-widgets/base",
      "model_module_version": "1.2.0",
      "model_name": "LayoutModel",
      "state": {}
     },
     "8a1c5823aff34951986de360a034c7fc": {
      "model_module": "@jupyter-widgets/controls",
      "model_module_version": "1.5.0",
      "model_name": "GridBoxModel",
      "state": {
       "box_style": "warning",
       "children": [
        "IPY_MODEL_67e44cb430874cbba86bbef7bd740f20",
        "IPY_MODEL_023caa4738624b78b0e11d529002440d"
       ],
       "layout": "IPY_MODEL_a4a6e0ee2dcc4c59834f06ba0373daa3"
      }
     },
     "8d874aa7882d4ce083051deb5ba47d3d": {
      "model_module": "@jupyter-widgets/base",
      "model_module_version": "1.2.0",
      "model_name": "LayoutModel",
      "state": {}
     },
     "91cfe730fbe74c17b90c8af6866aec3e": {
      "model_module": "@jupyter-widgets/controls",
      "model_module_version": "1.5.0",
      "model_name": "DropdownModel",
      "state": {
       "_options_labels": [
        "ihelp_menu"
       ],
       "index": 0,
       "layout": "IPY_MODEL_c60ad189b0c640f6aaa5fb686482ac0a",
       "style": "IPY_MODEL_322fc195a38b4eab951f369b33fa0dbf"
      }
     },
     "98ae6cdf1d994442ab02391387d37360": {
      "model_module": "@jupyter-widgets/controls",
      "model_module_version": "1.5.0",
      "model_name": "DescriptionStyleModel",
      "state": {
       "description_width": ""
      }
     },
     "9acdb9b7458c4b6199bf26d343128272": {
      "model_module": "@jupyter-widgets/controls",
      "model_module_version": "1.5.0",
      "model_name": "VBoxModel",
      "state": {
       "children": [
        "IPY_MODEL_a5bd479111014902bb5ee82e7ce5eb41",
        "IPY_MODEL_e61f0eb672cc434c9f082eb8ac3ff1bc"
       ],
       "layout": "IPY_MODEL_d2c851252c284eaca3e579c02970c0fe"
      }
     },
     "9dea5cb15983447bad3fe80190bccbf8": {
      "model_module": "@jupyter-widgets/controls",
      "model_module_version": "1.5.0",
      "model_name": "DescriptionStyleModel",
      "state": {
       "description_width": ""
      }
     },
     "9f91e6a19def438a8e265e6145e544b3": {
      "model_module": "@jupyter-widgets/controls",
      "model_module_version": "1.5.0",
      "model_name": "LabelModel",
      "state": {
       "layout": "IPY_MODEL_21b2729f09614eb197329a5f833a138b",
       "style": "IPY_MODEL_1c86f1e09da54f17addad52b524f7ff9",
       "value": "iHelp Menu: View Help and/or Source Code"
      }
     },
     "a192f8d0990844319cc006a0050f7e4d": {
      "model_module": "@jupyter-widgets/controls",
      "model_module_version": "1.5.0",
      "model_name": "DescriptionStyleModel",
      "state": {
       "description_width": ""
      }
     },
     "a3a11b6e34864a3b8a736988361de8dd": {
      "model_module": "@jupyter-widgets/base",
      "model_module_version": "1.2.0",
      "model_name": "LayoutModel",
      "state": {}
     },
     "a40b39e179d44aea9b6d2d7c80801fc7": {
      "model_module": "@jupyter-widgets/controls",
      "model_module_version": "1.5.0",
      "model_name": "DescriptionStyleModel",
      "state": {
       "description_width": ""
      }
     },
     "a4a6e0ee2dcc4c59834f06ba0373daa3": {
      "model_module": "@jupyter-widgets/base",
      "model_module_version": "1.2.0",
      "model_name": "LayoutModel",
      "state": {}
     },
     "a5bd479111014902bb5ee82e7ce5eb41": {
      "model_module": "@jupyter-widgets/controls",
      "model_module_version": "1.5.0",
      "model_name": "LabelModel",
      "state": {
       "layout": "IPY_MODEL_a3a11b6e34864a3b8a736988361de8dd",
       "style": "IPY_MODEL_fe0802cef8b5497d919920d70a242d31",
       "value": "iHelp Menu: View Help and/or Source Code"
      }
     },
     "afd65d6f89b443b6a7c4ae11020afd0c": {
      "model_module": "@jupyter-widgets/controls",
      "model_module_version": "1.5.0",
      "model_name": "DescriptionStyleModel",
      "state": {
       "description_width": ""
      }
     },
     "bec18269270849558422ca2c0bbdbf36": {
      "model_module": "@jupyter-widgets/base",
      "model_module_version": "1.2.0",
      "model_name": "LayoutModel",
      "state": {}
     },
     "bf2b31d394b340ee8b433e8ee2829b74": {
      "model_module": "@jupyter-widgets/base",
      "model_module_version": "1.2.0",
      "model_name": "LayoutModel",
      "state": {}
     },
     "bfa7f41206c64d8a86eb0e5d75fa6140": {
      "model_module": "@jupyter-widgets/controls",
      "model_module_version": "1.5.0",
      "model_name": "DescriptionStyleModel",
      "state": {
       "description_width": ""
      }
     },
     "c4d5ecc0818d410d9a6bc3403daba104": {
      "model_module": "@jupyter-widgets/controls",
      "model_module_version": "1.5.0",
      "model_name": "DescriptionStyleModel",
      "state": {
       "description_width": ""
      }
     },
     "c60ad189b0c640f6aaa5fb686482ac0a": {
      "model_module": "@jupyter-widgets/base",
      "model_module_version": "1.2.0",
      "model_name": "LayoutModel",
      "state": {}
     },
     "c6dce87824f8450a897c6e7efa5b3d64": {
      "model_module": "@jupyter-widgets/controls",
      "model_module_version": "1.5.0",
      "model_name": "HBoxModel",
      "state": {
       "children": [
        "IPY_MODEL_6032e75b4efa497fb9a36e0dcda66215",
        "IPY_MODEL_91cfe730fbe74c17b90c8af6866aec3e",
        "IPY_MODEL_2b4b237da5274b22b1e407370863f701"
       ],
       "layout": "IPY_MODEL_3c947a3313d244e3969f8677b53241ad"
      }
     },
     "cd84c06e9d7e4f3f95d29569dac670f2": {
      "model_module": "@jupyter-widgets/base",
      "model_module_version": "1.2.0",
      "model_name": "LayoutModel",
      "state": {}
     },
     "d2c851252c284eaca3e579c02970c0fe": {
      "model_module": "@jupyter-widgets/base",
      "model_module_version": "1.2.0",
      "model_name": "LayoutModel",
      "state": {}
     },
     "dfbe5435d6b14a3098a4ceffe5b2f07c": {
      "model_module": "@jupyter-widgets/controls",
      "model_module_version": "1.5.0",
      "model_name": "CheckboxModel",
      "state": {
       "description": "Show 'help(func)'",
       "disabled": false,
       "layout": "IPY_MODEL_24cf4181a979433ea7746a42576dabe1",
       "style": "IPY_MODEL_30c8873de3854097be70ca5f63322d44",
       "value": true
      }
     },
     "e1a7617e7c1b4b05939a878ac5eca448": {
      "model_module": "@jupyter-widgets/base",
      "model_module_version": "1.2.0",
      "model_name": "LayoutModel",
      "state": {}
     },
     "e61f0eb672cc434c9f082eb8ac3ff1bc": {
      "model_module": "@jupyter-widgets/controls",
      "model_module_version": "1.5.0",
      "model_name": "HBoxModel",
      "state": {
       "children": [
        "IPY_MODEL_67978f6c0b9f4aa386da11c737cc9156",
        "IPY_MODEL_7ae5b6b16a614a84a5dd946187db78ec",
        "IPY_MODEL_6fef60214634454bbd12d0674a8d0b47"
       ],
       "layout": "IPY_MODEL_7a7c51dac8c9448aa4af5b1de39a4f84"
      }
     },
     "ec9b2be9a89c44dbb4769c9940f7e467": {
      "model_module": "@jupyter-widgets/controls",
      "model_module_version": "1.5.0",
      "model_name": "CheckboxModel",
      "state": {
       "description": "Show source code",
       "disabled": false,
       "layout": "IPY_MODEL_7fad5dd4c71b40d4ba50aa46cdc2af74",
       "style": "IPY_MODEL_8771a2a9785547d5a01d9ca6fc82113a",
       "value": true
      }
     },
     "ef44f4a8cb9f4a72ad1de1b270940d90": {
      "model_module": "@jupyter-widgets/controls",
      "model_module_version": "1.5.0",
      "model_name": "CheckboxModel",
      "state": {
       "description": "Show source filepath",
       "disabled": false,
       "layout": "IPY_MODEL_f2ee79a477f9411fa3da889c984b2482",
       "style": "IPY_MODEL_3f4e27882e39484eb87ba467e406740e",
       "value": false
      }
     },
     "f2ee79a477f9411fa3da889c984b2482": {
      "model_module": "@jupyter-widgets/base",
      "model_module_version": "1.2.0",
      "model_name": "LayoutModel",
      "state": {}
     },
     "f6a497e1b17842bb88f49c7e3a32a13b": {
      "model_module": "@jupyter-widgets/controls",
      "model_module_version": "1.5.0",
      "model_name": "CheckboxModel",
      "state": {
       "description": "Show 'help(func)'",
       "disabled": false,
       "layout": "IPY_MODEL_bf2b31d394b340ee8b433e8ee2829b74",
       "style": "IPY_MODEL_a40b39e179d44aea9b6d2d7c80801fc7",
       "value": true
      }
     },
     "f82a43622b8744de941b71bcbeac45ff": {
      "model_module": "@jupyter-widgets/output",
      "model_module_version": "1.0.0",
      "model_name": "OutputModel",
      "state": {
       "layout": "IPY_MODEL_86e7efd0b67744d8b949d8f59d1da829",
       "outputs": [
        {
         "data": {
          "text/plain": "'Press \"Show/hide\" for display'"
         },
         "metadata": {},
         "output_type": "display_data"
        }
       ]
      }
     },
     "fe0802cef8b5497d919920d70a242d31": {
      "model_module": "@jupyter-widgets/controls",
      "model_module_version": "1.5.0",
      "model_name": "DescriptionStyleModel",
      "state": {
       "description_width": ""
      }
     }
    },
    "version_major": 2,
    "version_minor": 0
   }
  }
 },
 "nbformat": 4,
 "nbformat_minor": 1
}
