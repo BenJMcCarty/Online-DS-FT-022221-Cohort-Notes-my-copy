{
 "cells": [
  {
   "cell_type": "markdown",
   "metadata": {},
   "source": [
    "# Quick Intro to Plotly & Dash "
   ]
  },
  {
   "cell_type": "markdown",
   "metadata": {},
   "source": [
    "## Objectives"
   ]
  },
  {
   "cell_type": "markdown",
   "metadata": {},
   "source": [
    "- Walk through backing up your learn-env and installing plotly & dash\n",
    "- Link to the tutorial app code from dash\n",
    "- Create an assets folder in the same folder as the app.py\n",
    "    - add a style.css file to the assets folder\n",
    "- Use VSCode to edit the app.py and style.css files while running the app.\n",
    "    - In your terminal, from the same folder as the `app.py` file, run `python app.py` to boot the app.\n",
    "        - Open the displayed URL in your web browser.\n",
    "        \n",
    "- Now update style.css while watching the dashboard update"
   ]
  },
  {
   "cell_type": "markdown",
   "metadata": {},
   "source": [
    " ## Clone a Backup of `learn-env` (just in case)   "
   ]
  },
  {
   "cell_type": "markdown",
   "metadata": {},
   "source": [
    ">- [Official Conda Documentation on Cloning your Environment](https://docs.conda.io/projects/conda/en/latest/user-guide/tasks/manage-environments.html#cloning-an-environment)"
   ]
  },
  {
   "cell_type": "code",
   "execution_count": 6,
   "metadata": {},
   "outputs": [
    {
     "name": "stdout",
     "output_type": "stream",
     "text": [
      "# conda environments:\n",
      "#\n",
      "base                     /opt/anaconda3\n",
      "learn-env                /opt/anaconda3/envs/learn-env\n",
      "learn-env-backup         /opt/anaconda3/envs/learn-env-backup\n",
      "learn-env-new         *  /opt/anaconda3/envs/learn-env-new\n",
      "\n",
      "\n",
      "Note: you may need to restart the kernel to use updated packages.\n"
     ]
    }
   ],
   "source": [
    "## Make sure the asterisk is next to your learn-env, not base.\n",
    "%conda info --envs"
   ]
  },
  {
   "cell_type": "code",
   "execution_count": 7,
   "metadata": {},
   "outputs": [],
   "source": [
    "# %conda create --name learn-env-backup --clone learn-env-new"
   ]
  },
  {
   "cell_type": "markdown",
   "metadata": {},
   "source": [
    "# Installation"
   ]
  },
  {
   "cell_type": "markdown",
   "metadata": {},
   "source": [
    "- Install Dash:\n",
    "    - https://dash.plotly.com/installation\n",
    "    \n",
    "- Install plotly\n",
    "    - https://plotly.com/python/getting-started/"
   ]
  },
  {
   "cell_type": "code",
   "execution_count": 10,
   "metadata": {},
   "outputs": [
    {
     "name": "stdout",
     "output_type": "stream",
     "text": [
      "Requirement already satisfied: dash==1.19.0 in /opt/anaconda3/envs/learn-env-new/lib/python3.8/site-packages (1.19.0)\n",
      "Requirement already satisfied: dash-core-components==1.15.0 in /opt/anaconda3/envs/learn-env-new/lib/python3.8/site-packages (from dash==1.19.0) (1.15.0)\n",
      "Requirement already satisfied: future in /opt/anaconda3/envs/learn-env-new/lib/python3.8/site-packages (from dash==1.19.0) (0.18.2)\n",
      "Requirement already satisfied: dash-renderer==1.9.0 in /opt/anaconda3/envs/learn-env-new/lib/python3.8/site-packages (from dash==1.19.0) (1.9.0)\n",
      "Requirement already satisfied: Flask>=1.0.4 in /opt/anaconda3/envs/learn-env-new/lib/python3.8/site-packages (from dash==1.19.0) (1.1.2)\n",
      "Requirement already satisfied: dash-html-components==1.1.2 in /opt/anaconda3/envs/learn-env-new/lib/python3.8/site-packages (from dash==1.19.0) (1.1.2)\n",
      "Requirement already satisfied: dash-table==4.11.2 in /opt/anaconda3/envs/learn-env-new/lib/python3.8/site-packages (from dash==1.19.0) (4.11.2)\n",
      "Requirement already satisfied: flask-compress in /opt/anaconda3/envs/learn-env-new/lib/python3.8/site-packages (from dash==1.19.0) (1.8.0)\n",
      "Requirement already satisfied: plotly in /opt/anaconda3/envs/learn-env-new/lib/python3.8/site-packages (from dash==1.19.0) (4.11.0)\n",
      "Requirement already satisfied: itsdangerous>=0.24 in /opt/anaconda3/envs/learn-env-new/lib/python3.8/site-packages (from Flask>=1.0.4->dash==1.19.0) (1.1.0)\n",
      "Requirement already satisfied: Jinja2>=2.10.1 in /opt/anaconda3/envs/learn-env-new/lib/python3.8/site-packages (from Flask>=1.0.4->dash==1.19.0) (2.11.2)\n",
      "Requirement already satisfied: Werkzeug>=0.15 in /opt/anaconda3/envs/learn-env-new/lib/python3.8/site-packages (from Flask>=1.0.4->dash==1.19.0) (1.0.1)\n",
      "Requirement already satisfied: click>=5.1 in /opt/anaconda3/envs/learn-env-new/lib/python3.8/site-packages (from Flask>=1.0.4->dash==1.19.0) (7.1.2)\n",
      "Requirement already satisfied: MarkupSafe>=0.23 in /opt/anaconda3/envs/learn-env-new/lib/python3.8/site-packages (from Jinja2>=2.10.1->Flask>=1.0.4->dash==1.19.0) (1.1.1)\n",
      "Requirement already satisfied: brotli in /opt/anaconda3/envs/learn-env-new/lib/python3.8/site-packages (from flask-compress->dash==1.19.0) (1.0.9)\n",
      "Requirement already satisfied: retrying>=1.3.3 in /opt/anaconda3/envs/learn-env-new/lib/python3.8/site-packages (from plotly->dash==1.19.0) (1.3.3)\n",
      "Requirement already satisfied: six in /opt/anaconda3/envs/learn-env-new/lib/python3.8/site-packages (from plotly->dash==1.19.0) (1.15.0)\n",
      "Collecting plotly==4.14.3\n",
      "  Downloading plotly-4.14.3-py2.py3-none-any.whl (13.2 MB)\n",
      "\u001b[K     |████████████████████████████████| 13.2 MB 6.7 MB/s eta 0:00:01\n",
      "\u001b[?25hRequirement already satisfied: six in /opt/anaconda3/envs/learn-env-new/lib/python3.8/site-packages (from plotly==4.14.3) (1.15.0)\n",
      "Requirement already satisfied: retrying>=1.3.3 in /opt/anaconda3/envs/learn-env-new/lib/python3.8/site-packages (from plotly==4.14.3) (1.3.3)\n",
      "Installing collected packages: plotly\n",
      "  Attempting uninstall: plotly\n",
      "    Found existing installation: plotly 4.11.0\n",
      "    Uninstalling plotly-4.11.0:\n",
      "      Successfully uninstalled plotly-4.11.0\n",
      "Successfully installed plotly-4.14.3\n"
     ]
    }
   ],
   "source": [
    "!pip install dash==1.19.0\n",
    "!pip install plotly==4.14.3"
   ]
  },
  {
   "cell_type": "code",
   "execution_count": null,
   "metadata": {},
   "outputs": [],
   "source": [
    "## To use plotly instead of matplotlib for pandas\n",
    "#import pandas as pd\n",
    "#pd.options.plotting.backend = \"plotly\"\n"
   ]
  },
  {
   "cell_type": "code",
   "execution_count": 11,
   "metadata": {},
   "outputs": [],
   "source": [
    "import plotly.express as px\n",
    "import plotly.io as pio\n",
    "import plotly.graph_objects as go\n"
   ]
  },
  {
   "cell_type": "markdown",
   "metadata": {},
   "source": [
    "## Get the Dash Tutorial App\n",
    "- [Tutorial Part 2 -  Layout](https://dash.plotly.com/layout)"
   ]
  },
  {
   "cell_type": "markdown",
   "metadata": {},
   "source": [
    "- Copy the code below into app.py"
   ]
  },
  {
   "cell_type": "code",
   "execution_count": null,
   "metadata": {},
   "outputs": [],
   "source": []
  },
  {
   "cell_type": "markdown",
   "metadata": {},
   "source": [
    "```python\n",
    "# -*- coding: utf-8 -*-\n",
    "\n",
    "# Run this app with `python app.py` and\n",
    "# visit http://127.0.0.1:8050/ in your web browser.\n",
    "\n",
    "import dash\n",
    "import dash_core_components as dcc\n",
    "import dash_html_components as html\n",
    "import plotly.express as px\n",
    "import pandas as pd\n",
    "\n",
    "external_stylesheets = ['https://codepen.io/chriddyp/pen/bWLwgP.css']\n",
    "\n",
    "app = dash.Dash(__name__, external_stylesheets=external_stylesheets)\n",
    "\n",
    "# assume you have a \"long-form\" data frame\n",
    "# see https://plotly.com/python/px-arguments/ for more options\n",
    "df = pd.DataFrame({\n",
    "    \"Fruit\": [\"Apples\", \"Oranges\", \"Bananas\", \"Apples\", \"Oranges\", \"Bananas\"],\n",
    "    \"Amount\": [4, 1, 2, 2, 4, 5],\n",
    "    \"City\": [\"SF\", \"SF\", \"SF\", \"Montreal\", \"Montreal\", \"Montreal\"]\n",
    "})\n",
    "\n",
    "fig = px.bar(df, x=\"Fruit\", y=\"Amount\", color=\"City\", barmode=\"group\")\n",
    "\n",
    "app.layout = html.Div(children=[\n",
    "    html.H1(children='Hello Dash'),\n",
    "\n",
    "    html.Div(children='''\n",
    "        Dash: A web application framework for Python.\n",
    "    '''),\n",
    "\n",
    "    dcc.Graph(\n",
    "        id='example-graph',\n",
    "        figure=fig\n",
    "    )\n",
    "])\n",
    "\n",
    "if __name__ == '__main__':\n",
    "    app.run_server(debug=True)\n",
    "```"
   ]
  },
  {
   "cell_type": "markdown",
   "metadata": {},
   "source": [
    "## Run the app"
   ]
  },
  {
   "cell_type": "markdown",
   "metadata": {},
   "source": [
    "- cd into same folder as the app.py with your terminal.\n",
    "- run: `python app.py`"
   ]
  },
  {
   "cell_type": "code",
   "execution_count": null,
   "metadata": {},
   "outputs": [],
   "source": []
  }
 ],
 "metadata": {
  "kernelspec": {
   "display_name": "learn-env-new",
   "language": "python",
   "name": "learn-env-new"
  },
  "language_info": {
   "codemirror_mode": {
    "name": "ipython",
    "version": 3
   },
   "file_extension": ".py",
   "mimetype": "text/x-python",
   "name": "python",
   "nbconvert_exporter": "python",
   "pygments_lexer": "ipython3",
   "version": "3.8.5"
  },
  "toc": {
   "base_numbering": 1,
   "nav_menu": {},
   "number_sections": true,
   "sideBar": true,
   "skip_h1_title": false,
   "title_cell": "Table of Contents",
   "title_sidebar": "Contents",
   "toc_cell": false,
   "toc_position": {},
   "toc_section_display": true,
   "toc_window_display": false
  },
  "varInspector": {
   "cols": {
    "lenName": 16,
    "lenType": 16,
    "lenVar": 40
   },
   "kernels_config": {
    "python": {
     "delete_cmd_postfix": "",
     "delete_cmd_prefix": "del ",
     "library": "var_list.py",
     "varRefreshCmd": "print(var_dic_list())"
    },
    "r": {
     "delete_cmd_postfix": ") ",
     "delete_cmd_prefix": "rm(",
     "library": "var_list.r",
     "varRefreshCmd": "cat(var_dic_list()) "
    }
   },
   "types_to_exclude": [
    "module",
    "function",
    "builtin_function_or_method",
    "instance",
    "_Feature"
   ],
   "window_display": false
  }
 },
 "nbformat": 4,
 "nbformat_minor": 4
}
