{
 "cells": [
  {
   "cell_type": "markdown",
   "metadata": {},
   "source": [
    "# Topic 03: Control Flow, Functions, and Statistics\n"
   ]
  },
  {
   "cell_type": "markdown",
   "metadata": {},
   "source": [
    "- online-ds-ft-022221\n",
    "- 02/25/21"
   ]
  },
  {
   "cell_type": "markdown",
   "metadata": {},
   "source": [
    "# Learning Objectives"
   ]
  },
  {
   "cell_type": "markdown",
   "metadata": {},
   "source": [
    "- Walk through `Python Fundamentals.ipynb`\n",
    "- Walk through the `Bento Activity` as a group\n",
    "    - Dive deep into key concepts where you have questions.\n",
    "- Discuss some basic statistics:\n",
    "    - measures of centrality \n",
    "    - measures of dispersion\n",
    "\n",
    "<!---\n",
    "# What does it mean to be 'Object-Oriented'?\n",
    "\n",
    "> ### *\"Everything is an object.\"\n",
    "- some Python sensei\n",
    "\n",
    "\n",
    "## Vocabulary \n",
    "\n",
    "Object\" is an instance of a template class that currently exists in memory\n",
    "\"Calling\" a function:\n",
    "\n",
    "When we use ( ) with a function we are calling it.\n",
    "\n",
    "- **Function:**  Codes that manipulates data in a useful way. \n",
    "\n",
    "\n",
    "- Parameters: the defined data/varaibles that are passed accepted by a function\n",
    "- Argument: the actual variable/value passed in for a parameter\n",
    "- Positional Argument:\n",
    "    - The first arguments required\n",
    "    - their id is determined by their order\n",
    "- Keyword/default Arguments:\n",
    "    - arugments that have a defined default value\n",
    "    - must come after positional arguments\n",
    "    \n",
    "    \n",
    "- **Class:** Template/blue print.\n",
    "- Instance: Ab object built from the class blueprint\n",
    "- Attribute: A variable stored inside an object. \n",
    "- Method: Functions are stored inside an object.\n",
    "--->"
   ]
  },
  {
   "cell_type": "markdown",
   "metadata": {},
   "source": [
    "## Questions"
   ]
  },
  {
   "cell_type": "markdown",
   "metadata": {},
   "source": [
    "-  Can you talk more about the difference between population and sample calculations? I know that we need to divide by n-1 when calculating things like stddev in a sample data set versus dividing by n for a population. But I find that formulas are sometimes written with n and other times with n-1 without addressing that it is for a sample or population explicitly… is there a convention we should be aware of, such as that formulas are usually written with n and people should ASSUME n-1 is used? Are there standards for how libraries like numpy make these calculations?\n",
    "\n",
    "\n",
    "- What would happen to our repositories if we were to change the names or locations of folders/files manually from file explorer? How would we redefine the new locations in git?\n",
    "\n",
    "- [Link](https://learning.flatironschool.com/courses/2680/assignments/88550?module_item_id=174676): Can you please explain why the “and” statement returns the falsy value when it is evaluating two elements? I would have thought that it would return True if both values were truthy and False if one of the values were falsy.\n",
    "    - Similar to above can you please explain why the “or” statement returns the actual values depending on the elements instead of returning True or False?\n",
    "    \n",
    "    \n",
    "- Does join() method only work on strings? It seems that if a list contain other variable types (float, int, bool) the code throws an error. Any way we can concatenate variables of different types?\n",
    "\n",
    "- Why would we use variance > SD? Is a third drawback of variance that it grows as our sample set grows? The measurement of variance in a vacuum seems arbitrary\n",
    "\n",
    "- What does .join do? - Nevermind, it combines an iterable into a string with the string before the .join separating them.\n",
    "- On while loops - is there a best practice for the order in which you write conditionals (for example, should you always put  a “break” conditional statement first)?\n",
    "\n",
    "- Curious to understand why you prefer nested dictionaries as opposed to lists of dictionaries.\n"
   ]
  },
  {
   "cell_type": "markdown",
   "metadata": {},
   "source": [
    "# Python Fundamentals\n"
   ]
  },
  {
   "cell_type": "markdown",
   "metadata": {},
   "source": [
    "- Open `python_fundamentals.ipynb`"
   ]
  },
  {
   "cell_type": "markdown",
   "metadata": {},
   "source": [
    "# Bento Box Activity/Solution"
   ]
  },
  {
   "cell_type": "markdown",
   "metadata": {},
   "source": [
    "> Review Python Review Bento activity solution.\n"
   ]
  },
  {
   "cell_type": "markdown",
   "metadata": {
    "heading_collapsed": true
   },
   "source": [
    "# Basic Statistics"
   ]
  },
  {
   "cell_type": "markdown",
   "metadata": {
    "hidden": true
   },
   "source": [
    "## Resources:"
   ]
  },
  {
   "cell_type": "markdown",
   "metadata": {
    "hidden": true
   },
   "source": [
    "- [Math Equation Resources Folder](https://drive.google.com/open?id=1Bt11N4EHO3A7cGvXQkf2itfEiB8uhb6B)"
   ]
  },
  {
   "cell_type": "code",
   "execution_count": 2,
   "metadata": {
    "hidden": true
   },
   "outputs": [],
   "source": [
    "## Let's get some data to work with\n",
    "import pandas as pd\n",
    "import matplotlib.pyplot as plt\n",
    "import seaborn as sns\n",
    "plt.style.use('seaborn-talk')\n",
    "prices = pd.read_csv('house-prices.csv')['price']"
   ]
  },
  {
   "cell_type": "markdown",
   "metadata": {
    "colab_type": "text",
    "hidden": true,
    "id": "8kyBkTOJCyT4"
   },
   "source": [
    "## Measures of Central Tendency"
   ]
  },
  {
   "cell_type": "code",
   "execution_count": 3,
   "metadata": {
    "hidden": true
   },
   "outputs": [
    {
     "data": {
      "text/plain": [
       "<AxesSubplot:>"
      ]
     },
     "execution_count": 3,
     "metadata": {},
     "output_type": "execute_result"
    },
    {
     "data": {
      "image/png": "[encoded data removed]",
      "text/plain": [
       "<Figure size 748.8x514.8 with 1 Axes>"
      ]
     },
     "metadata": {
      "needs_background": "light"
     },
     "output_type": "display_data"
    }
   ],
   "source": [
    "prices.hist(bins='auto')"
   ]
  },
  {
   "cell_type": "code",
   "execution_count": null,
   "metadata": {
    "hidden": true
   },
   "outputs": [],
   "source": []
  },
  {
   "cell_type": "markdown",
   "metadata": {
    "colab_type": "text",
    "hidden": true,
    "id": "8kyBkTOJCyT4"
   },
   "source": [
    "### Mean"
   ]
  },
  {
   "cell_type": "markdown",
   "metadata": {
    "colab_type": "text",
    "hidden": true,
    "id": "8kyBkTOJCyT4"
   },
   "source": [
    "The **Mean** or **Arithmetic Average** is the value obtained by dividing the sum of all the data by the total number of data points as shown in the formula below:\n",
    "\n",
    "$$ \n",
    "\\Large\\bar X = \\dfrac{\\sum X}{N} $$"
   ]
  },
  {
   "cell_type": "markdown",
   "metadata": {
    "colab_type": "text",
    "hidden": true,
    "id": "8kyBkTOJCyT4"
   },
   "source": [
    "### Median "
   ]
  },
  {
   "cell_type": "markdown",
   "metadata": {
    "colab_type": "text",
    "hidden": true,
    "id": "8kyBkTOJCyT4"
   },
   "source": [
    "- The median is the middle value in a sorted list of values/observations\n",
    "\n",
    "<!---\n",
    "```python\n",
    "def median(list_of_observations):\n",
    "    \"\"\"Finds the median for input list of observations/values by sorting observations and choosing appropriate value depending on if len(list) is odd or even.\n",
    "    Args:\n",
    "        list_of_observations (list): The first parameter.\n",
    "\n",
    "    Returns:\n",
    "        median (single element of list): calculated median value.\n",
    "    \"\"\"\n",
    "    \n",
    "    \n",
    "    # Calculate length of list / num of observations\n",
    "    length = len(list_of_observations)         \n",
    "    \n",
    "    # Sort reviews by values to to locate median\n",
    "    sorted_vals = sorted(list_of_observations) \n",
    "    \n",
    "    \n",
    "    ## Calc median using methods for odd/even lengths\n",
    "    # If length is even calc mean of middle 2 nums:\n",
    "    if ((length % 2) == 0):\n",
    "        \n",
    "        print('There is an even number of values. Calculating mean of middle 2 elements.')\n",
    "        \n",
    "        ## Get the location of middle nums\n",
    "        ## REMINDER: Python list indices start at 0, not 1\n",
    "\n",
    "        # Index of 1st num is halfway into list\n",
    "        idx_0 = int(length/2)\n",
    "        \n",
    "        # Index of 2nd num is +1 in list\n",
    "        idx_1 = idx_0 +1\n",
    "        \n",
    "        \n",
    "        # Median is mean of mid nums\n",
    "        median = (sorted_vals[idx_0] + sorted_vals[idx_1])/2\n",
    "    \n",
    "        \n",
    "    # If length is odd, select middle num\n",
    "    else:\n",
    "        \n",
    "        print('There is an odd number of values. Selecting middle elemenmt.')\n",
    "        \n",
    "        # Get the location of mid num\n",
    "        idx_med = int(length//2)    \n",
    "        \n",
    "        # Median is mid num\n",
    "        median = sorted_vals[idx_med]             \n",
    "    \n",
    "    return median\n",
    "\n",
    "```--->"
   ]
  },
  {
   "cell_type": "markdown",
   "metadata": {
    "colab_type": "text",
    "hidden": true,
    "id": "8kyBkTOJCyT4"
   },
   "source": [
    "### Mode"
   ]
  },
  {
   "cell_type": "markdown",
   "metadata": {
    "colab_type": "text",
    "hidden": true,
    "id": "8kyBkTOJCyT4"
   },
   "source": [
    "- The mode is the value that occurs the most\n",
    "    - highest frequency\n",
    "    \n",
    "<!---\n",
    "```python\n",
    "def get_mode(data):\n",
    "    \"\"\"Solution from Implementing stats with functions lab.\n",
    "    Finds mode by making a dictionary of vals = {val:frequency} \n",
    "    Loops through data and updates a dictionary with +=1.\n",
    "    \n",
    "    Args:\n",
    "        data (list)\n",
    "        \n",
    "    Returns:\n",
    "        mode (element from data list)\n",
    "    \"\"\"\n",
    "\n",
    "    # Create and populate frequency distribution\n",
    "    frequency_dict = {}\n",
    "    \n",
    "    # If an element is not in the dictionary , add it with value 1\n",
    "    # If an element is already in the dictionary , +1 the value\n",
    "    for i in data:\n",
    "        \n",
    "        if i not in frequency_dict:\n",
    "            frequency_dict[i] = 1\n",
    "            \n",
    "        else:\n",
    "            frequency_dict[i] += 1\n",
    "    \n",
    "    # Create a list for mode values\n",
    "    modes = []\n",
    "    \n",
    "    #from the dictionary, add element(s) to the modes list with max frequency\n",
    "    highest_freq = max(frequency_dict.values())\n",
    "    \n",
    "    for key, val in frequency_dict.items():\n",
    "        if val == highest_freq:\n",
    "            modes.append(key)\n",
    "            \n",
    "    # Return the mode list \n",
    "    return modes\n",
    "```\n",
    "--->"
   ]
  },
  {
   "cell_type": "markdown",
   "metadata": {
    "colab_type": "text",
    "hidden": true,
    "id": "W70VNCxZ9wDv"
   },
   "source": [
    "## Measures of Dispersion"
   ]
  },
  {
   "cell_type": "markdown",
   "metadata": {
    "colab_type": "text",
    "hidden": true,
    "id": "W70VNCxZ9wDv"
   },
   "source": [
    "### Absolute Deviation"
   ]
  },
  {
   "cell_type": "markdown",
   "metadata": {
    "colab_type": "text",
    "hidden": true,
    "id": "W70VNCxZ9wDv"
   },
   "source": [
    "**Absolute Deviation** is the simplest way of calculating the dispersion of a data set. It is calculated by taking a value from the dataset and subtracting the mean of the dataset. This helps to identify the \"distance\" between a given value and the mean. In other words, how much a value *deviates* from the mean.  \n",
    "\n",
    "> $\\left|x_i - \\bar{x}\\right|$\n",
    "\n",
    "**Average Absolute Deviation** is calculated by taking the mean of all individual absolute deviations in a data set as shown in the formula below:\n",
    "\n",
    "$$\\large \\dfrac{1}{n}\\sum^n_{i=1}\\left|(x_i-\\bar x)\\right| $$"
   ]
  },
  {
   "cell_type": "markdown",
   "metadata": {
    "colab_type": "text",
    "hidden": true,
    "id": "W70VNCxZ9wDv"
   },
   "source": [
    "### Variance"
   ]
  },
  {
   "cell_type": "markdown",
   "metadata": {
    "colab_type": "text",
    "hidden": true,
    "id": "W70VNCxZ9wDv"
   },
   "source": [
    "Earlier in the course, you learned about __variance__ (represented by $\\sigma^2$) as a measure of dispersion for continuous random variables from its expected mean value. Let's quickly revisit this, as variance formula plays a key role while calculating covariance and correlation measures.\n",
    "\n",
    "The formula for calculating variance as shown below:\n",
    "\n",
    "$$\\Large \\sigma^2 = \\dfrac{1}{n}\\displaystyle\\sum_{i=1}^{n}(x_i-\\mu)^2$$\n",
    "\n",
    "- $x$ represents an individual data points\n",
    "- $\\mu $ is the mean of the data points\n",
    "- $n$ is the total number of data points "
   ]
  },
  {
   "cell_type": "markdown",
   "metadata": {
    "colab_type": "text",
    "hidden": true,
    "id": "W70VNCxZ9wDv"
   },
   "source": [
    "## Standard Deviation"
   ]
  },
  {
   "cell_type": "markdown",
   "metadata": {
    "colab_type": "text",
    "hidden": true,
    "id": "W70VNCxZ9wDv"
   },
   "source": [
    "The **Standard Deviation** is another measure of the spread of values within a dataset. \n",
    "It is simply the square root of the variance. In the above formula, $\\sigma^2$ is the variance so $\\sigma$ is the standard deviation. \n",
    "\n",
    "$$ \\large \\sigma = \\sqrt{\\dfrac{1}{n}\\displaystyle\\sum^n_{i=1}(x_i-\\mu)^2} $$"
   ]
  },
  {
   "cell_type": "markdown",
   "metadata": {
    "colab_type": "text",
    "hidden": true,
    "id": "W70VNCxZ9wDv"
   },
   "source": [
    "## Measures of Mututal Variation"
   ]
  },
  {
   "cell_type": "markdown",
   "metadata": {
    "colab_type": "text",
    "hidden": true,
    "id": "W70VNCxZ9wDv"
   },
   "source": [
    "### Calculating Covariance"
   ]
  },
  {
   "cell_type": "markdown",
   "metadata": {
    "colab_type": "text",
    "hidden": true,
    "id": "W70VNCxZ9wDv"
   },
   "source": [
    "If you have $X$ and $Y$, two random variables having $n$ elements each. You can calculate covariance ($\\sigma_{xy}$) between these two variables by using the formula:\n",
    "\n",
    "$$ \\Large \\sigma_{XY} = \\dfrac{1}{n}\\displaystyle\\sum_{i=1}^{n}(x_i -\\mu_x)(y_i - \\mu_y)$$\n",
    "\n",
    "- $\\sigma_{XY}$ = Covariance between $X$ and $Y$\n",
    "- $x_i$ = ith element of variable $X$\n",
    "- $y_i$ = ith element of variable $Y$\n",
    "- $n$ = number of data points (__$n$ must be same for $X$ and $Y$__)\n",
    "- $\\mu_x$ = mean of the independent variable $X$\n",
    "- $\\mu_y$ = mean of the dependent variable $Y$\n",
    "\n",
    "#### Interpreting covariance values \n",
    "\n",
    "Covariance values range from positive infinity to negative infinity. \n",
    "\n",
    "* A **positive covariance** indicates that two variables are **positively related**\n",
    "\n",
    "* A **negative covariance** indicates that two variables are **inversely related**\n",
    "\n",
    "* A **covariance equal or close to 0** indicates that there is **no linear relationship** between two variables"
   ]
  },
  {
   "cell_type": "markdown",
   "metadata": {
    "colab_type": "text",
    "hidden": true,
    "id": "W70VNCxZ9wDv"
   },
   "source": [
    "### Calculating Correlation Coefficient"
   ]
  },
  {
   "cell_type": "markdown",
   "metadata": {
    "colab_type": "text",
    "hidden": true,
    "id": "W70VNCxZ9wDv"
   },
   "source": [
    "Pearson Correlation ($r$) is calculated using following formula :\n",
    "\n",
    "$$ \\Large r = \\frac{\\sum_{i=1}^{n}(x_i -\\mu_x)(y_i - \\mu_y)} {\\sqrt{\\sum_{i=1}^{n}(x_i - \\mu_x)^2 \\sum_{i=1}^{n}(y_i-\\mu_y)^2}}$$\n",
    "\n",
    "So just like in the case of covariance,  $X$ and $Y$ are two random variables having n elements each. \n",
    "\n",
    "\n",
    "- $x_i$ = ith element of variable $X$\n",
    "- $y_i$ = ith element of variable $Y$\n",
    "- $n$ = number of data points (__$n$ must be same for $X$ and $Y$__)\n",
    "- $\\mu_x$ = mean of the independent variable $X$\n",
    "- $\\mu_y$ = mean of the dependent variable $Y$\n",
    "- $r$ = Calculated Pearson Correlation"
   ]
  }
 ],
 "metadata": {
  "kernelspec": {
   "display_name": "learn-env",
   "language": "python",
   "name": "learn-env"
  },
  "language_info": {
   "codemirror_mode": {
    "name": "ipython",
    "version": 3
   },
   "file_extension": ".py",
   "mimetype": "text/x-python",
   "name": "python",
   "nbconvert_exporter": "python",
   "pygments_lexer": "ipython3",
   "version": "3.6.11"
  },
  "toc": {
   "base_numbering": 1,
   "nav_menu": {},
   "number_sections": false,
   "sideBar": true,
   "skip_h1_title": false,
   "title_cell": "Table of Contents",
   "title_sidebar": "Contents",
   "toc_cell": false,
   "toc_position": {},
   "toc_section_display": true,
   "toc_window_display": true
  },
  "varInspector": {
   "cols": {
    "lenName": 16,
    "lenType": 16,
    "lenVar": 40
   },
   "kernels_config": {
    "python": {
     "delete_cmd_postfix": "",
     "delete_cmd_prefix": "del ",
     "library": "var_list.py",
     "varRefreshCmd": "print(var_dic_list())"
    },
    "r": {
     "delete_cmd_postfix": ") ",
     "delete_cmd_prefix": "rm(",
     "library": "var_list.r",
     "varRefreshCmd": "cat(var_dic_list()) "
    }
   },
   "types_to_exclude": [
    "module",
    "function",
    "builtin_function_or_method",
    "instance",
    "_Feature"
   ],
   "window_display": false
  }
 },
 "nbformat": 4,
 "nbformat_minor": 2
}
