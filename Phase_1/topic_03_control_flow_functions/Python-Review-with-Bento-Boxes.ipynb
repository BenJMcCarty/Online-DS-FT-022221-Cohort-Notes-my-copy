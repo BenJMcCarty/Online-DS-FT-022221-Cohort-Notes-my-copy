{
 "cells": [
  {
   "cell_type": "markdown",
   "metadata": {
    "hide_input": true
   },
   "source": [
    "# Python Review"
   ]
  },
  {
   "cell_type": "markdown",
   "metadata": {
    "hide_input": true
   },
   "source": [
    "## Learning Objectives\n",
    "\n",
    "The purpose of this notebook is for you to review some of the Python covered in Bootcamp Prep, including the following: \n",
    "\n",
    "- Assigning variables\n",
    "- Classifying and explaining data types (integers, floats, strings, booleans, lists, dictionaries, and tuples)\n",
    "- Identifying comparators and boolean operators to create conditional code\n",
    "- Making use of lists: indexing, appending, and joining them\n",
    "- Making use of dictionaries: identifying, creating, and navigating them\n",
    "- Moving between lists and dictionaries (zipping lists together to make dictionaries, or pulling relevant data from a dictionary into a list)\n",
    "- Applying for loops to lists and dictionaries\n",
    "\n",
    "Some new things we're bringing up that weren't covered in Bootcamp Prep:\n",
    "\n",
    "- Using f-strings or `.format()` to print readable code with variables\n",
    "- Using `.zip()` to combine two lists into a dictionary"
   ]
  },
  {
   "cell_type": "markdown",
   "metadata": {},
   "source": [
    "## To do all that, we are going to code up versions of a bento box:"
   ]
  },
  {
   "cell_type": "markdown",
   "metadata": {},
   "source": [
    "![bento box image](https://images.pexels.com/photos/884596/pexels-photo-884596.jpeg?auto=compress&cs=tinysrgb&dpr=2&h=750&w=1260)"
   ]
  },
  {
   "cell_type": "markdown",
   "metadata": {},
   "source": [
    "### Bento boxes can have multiple ingredients and choices\n",
    "\n",
    "By the end, we want to combine multiple bento orders into one data collection, and print each item for the restaurant. \n",
    "\n",
    "### Variable assignment \n",
    "\n",
    "Let's start with our first bento order:"
   ]
  },
  {
   "cell_type": "code",
   "execution_count": 1,
   "metadata": {},
   "outputs": [],
   "source": [
    "# Run this cell without changes\n",
    "main = \"rice\"\n",
    "protein = \"salmon\"\n",
    "oz_of_protein = 4.5\n",
    "number_of_sides = 3\n",
    "side1 = 'seaweed'\n",
    "side2 = 'onigiri'\n",
    "side3 = 'turnip pickle'\n",
    "great_bento = True"
   ]
  },
  {
   "cell_type": "markdown",
   "metadata": {},
   "source": [
    "Now, if we wanted to change our protein to ginger chicken, how would we do that?"
   ]
  },
  {
   "cell_type": "code",
   "execution_count": 2,
   "metadata": {},
   "outputs": [],
   "source": [
    "# Code here to change protein\n",
    "protein = 'ginger chicken'"
   ]
  },
  {
   "cell_type": "markdown",
   "metadata": {},
   "source": [
    "And changing the amount of protein to 3.5?"
   ]
  },
  {
   "cell_type": "code",
   "execution_count": 3,
   "metadata": {},
   "outputs": [],
   "source": [
    "# Code here to change oz_of_protein\n",
    "oz_of_protein = 3.5"
   ]
  },
  {
   "cell_type": "markdown",
   "metadata": {},
   "source": [
    "We can reassign variable values easily.\n",
    "\n",
    "Now, we assigned those variables one at a time. We also can assign multiple values at once:\n",
    "\n",
    "`side1, side2, side3 = \"carrots\", \"kimchi\", \"mushrooms\"`\n",
    "\n",
    "Update your side order to match your preferences - add whatever you want! "
   ]
  },
  {
   "cell_type": "code",
   "execution_count": 4,
   "metadata": {},
   "outputs": [],
   "source": [
    "# Code here to change sides \n",
    "side1, side2, side3 = \"edameme\", \"seaweed-salad\", \"mushrooms\""
   ]
  },
  {
   "cell_type": "markdown",
   "metadata": {},
   "source": [
    "Then use `print()` to confirm the variables changed."
   ]
  },
  {
   "cell_type": "code",
   "execution_count": 7,
   "metadata": {},
   "outputs": [
    {
     "name": "stdout",
     "output_type": "stream",
     "text": [
      "edameme seaweed-salad mushrooms\n",
      "edameme\n",
      "seaweed-salad\n"
     ]
    }
   ],
   "source": [
    "# Code here to confirm your changes\n",
    "print(side1, side2, side3)\n",
    "print(side1)\n",
    "print(side2)"
   ]
  },
  {
   "cell_type": "markdown",
   "metadata": {},
   "source": [
    "### Variable Types\n",
    "\n",
    "Each variable in our bento box has a `type`. "
   ]
  },
  {
   "cell_type": "code",
   "execution_count": 8,
   "metadata": {
    "hide_input": false
   },
   "outputs": [
    {
     "data": {
      "text/plain": [
       "str"
      ]
     },
     "execution_count": 8,
     "metadata": {},
     "output_type": "execute_result"
    }
   ],
   "source": [
    "# Run this cell without changes\n",
    "type(side1)"
   ]
  },
  {
   "cell_type": "markdown",
   "metadata": {},
   "source": [
    "Run `type()` on some of the remaining variables to explore the type options."
   ]
  },
  {
   "cell_type": "code",
   "execution_count": 10,
   "metadata": {},
   "outputs": [],
   "source": [
    "main = \"rice\"\n",
    "protein = \"salmon\"\n",
    "oz_of_protein = 4.5\n",
    "number_of_sides = 3.\n",
    "side1 = 'seaweed'"
   ]
  },
  {
   "cell_type": "code",
   "execution_count": 11,
   "metadata": {},
   "outputs": [
    {
     "name": "stdout",
     "output_type": "stream",
     "text": [
      "<class 'str'>\n",
      "<class 'str'>\n",
      "<class 'float'>\n",
      "<class 'float'>\n"
     ]
    }
   ],
   "source": [
    "# Code here to check other variable types\n",
    "for variable in [main,protein,oz_of_protein, number_of_sides]:\n",
    "    print(type(variable))"
   ]
  },
  {
   "cell_type": "markdown",
   "metadata": {},
   "source": [
    "Each data type in Python has a set behavior in a lot of ways, and knowing what type your variable is can help you know exactly what you can do with it!"
   ]
  },
  {
   "cell_type": "markdown",
   "metadata": {},
   "source": [
    "### Control Flow Operators, If Statements and Conditionals\n",
    "\n",
    "Now what if you have food allergies, or want to be able to evaluate a variable before changing it for any other reason?\n",
    "\n",
    "Well you're in luck, cause we have control flow operators and if statements and conditionals!\n",
    "\n",
    "Control flow operators include:\n",
    "\n",
    "```python\n",
    "== # Is equal to?\n",
    "!= # Is not equal to? \n",
    ">  # Is greater than?\n",
    "<  # Is less than?\n",
    "<= # Is less than or equal to?\n",
    ">= # Is greater than or equal to?\n",
    "```\n",
    "\n",
    "Note that these evaluate something - this is different from setting a variable. With control flow operators like these, you're asking a question: \"Is this equal to that?\" \"Is this greater than that?\" etc!"
   ]
  },
  {
   "cell_type": "markdown",
   "metadata": {},
   "source": [
    "Decision making using these kinds of evaluators/control flow operators works like this:\n",
    "\n",
    "![how conditional works](decision_making.jpg)\n",
    "\n",
    "The [tools](https://docs.python.org/3/tutorial/controlflow.html) used in conditionals are `if`, `elif`, and `else`.\n",
    "\n",
    "For example: \n",
    "\n",
    "```python\n",
    "if (protein == 'salmon'):\n",
    "      print(\"I love salmon!\")\n",
    "```\n",
    "\n",
    "Will I like this bento box?"
   ]
  },
  {
   "cell_type": "code",
   "execution_count": 13,
   "metadata": {},
   "outputs": [
    {
     "name": "stdout",
     "output_type": "stream",
     "text": [
      "no carbs, please!\n"
     ]
    }
   ],
   "source": [
    "# Run this cell without changes\n",
    "if main == 'rice':\n",
    "    print(\"no carbs, please!\")\n",
    "elif oz_of_protein >= 2.5:\n",
    "    print(\"too much!\")\n",
    "else:\n",
    "    print(\"I will like this bento box!\")"
   ]
  },
  {
   "cell_type": "markdown",
   "metadata": {},
   "source": [
    "Above, if the main isn't rice and if the amount of protein is less than 2.5, I think I'll like the box!\n",
    "\n",
    "Update the above code example, but rather than `print`, instead set `great_bento` equal to `True` or `False` depending on the values of the bento box ingredients - feel free to customize the checks based on your own personal preferences!"
   ]
  },
  {
   "cell_type": "code",
   "execution_count": 14,
   "metadata": {},
   "outputs": [],
   "source": [
    "# Update the code below, based on your own preferences\n",
    "if (main == 'rice'):\n",
    "    great_bento =False\n",
    "#     print(\"no carbs, please!\")\n",
    "\n",
    "elif(oz_of_protein >= 2.5):\n",
    "#     print(\"too much!\")\n",
    "    great_bento = False\n",
    "else:\n",
    "#     print(\"I will like this bento box!\")\n",
    "    great_bento = True"
   ]
  },
  {
   "cell_type": "code",
   "execution_count": 15,
   "metadata": {},
   "outputs": [
    {
     "data": {
      "text/plain": [
       "False"
      ]
     },
     "execution_count": 15,
     "metadata": {},
     "output_type": "execute_result"
    }
   ],
   "source": [
    "# Is great_bento True or False right now?\n",
    "great_bento"
   ]
  },
  {
   "cell_type": "markdown",
   "metadata": {},
   "source": [
    "## Using Lists: indexing, appending, joining"
   ]
  },
  {
   "cell_type": "markdown",
   "metadata": {},
   "source": [
    "![dog-to-do-list gif from giphy](https://media.giphy.com/media/xTiTnuhyBF54B852nK/giphy.gif)\n",
    "\n",
    "Writing out all those ingredients individually is a pain, let's put them in a list!\n",
    "\n",
    "(You can retype your ingredient list, or use the variables you assigned above)"
   ]
  },
  {
   "cell_type": "code",
   "execution_count": 20,
   "metadata": {},
   "outputs": [],
   "source": [
    "main = \"rice\"\n",
    "protein = \"salmon\"\n",
    "oz_of_protein = 4.5\n",
    "number_of_sides = 3.\n",
    "side1 = 'seaweed'"
   ]
  },
  {
   "cell_type": "code",
   "execution_count": 23,
   "metadata": {},
   "outputs": [],
   "source": [
    "# Replace None with relevant code\n",
    "bento_ingredients = [\"rice\",\"salmon\",'seaweed','kimchi','mushrooms']"
   ]
  },
  {
   "cell_type": "markdown",
   "metadata": {},
   "source": [
    "Lists are ordered, meaning you can access the index number for an element:"
   ]
  },
  {
   "cell_type": "code",
   "execution_count": 26,
   "metadata": {
    "scrolled": true
   },
   "outputs": [
    {
     "data": {
      "text/plain": [
       "'mushrooms'"
      ]
     },
     "execution_count": 26,
     "metadata": {},
     "output_type": "execute_result"
    }
   ],
   "source": [
    "# Run this cell without changes\n",
    "bento_ingredients[4]"
   ]
  },
  {
   "cell_type": "markdown",
   "metadata": {},
   "source": [
    "Or you can grab ranges/slices of a list:"
   ]
  },
  {
   "cell_type": "code",
   "execution_count": 27,
   "metadata": {},
   "outputs": [
    {
     "data": {
      "text/plain": [
       "['seaweed', 'kimchi', 'mushrooms']"
      ]
     },
     "execution_count": 27,
     "metadata": {},
     "output_type": "execute_result"
    }
   ],
   "source": [
    "# Run this cell without changes\n",
    "# Note that our 3rd side is the 4th element above, but we use 5 in the range\n",
    "# Play around with these numbers, and start to build some understanding of \n",
    "# which elements are where exactly in the list\n",
    "bento_ingredients[2:5]"
   ]
  },
  {
   "cell_type": "code",
   "execution_count": 28,
   "metadata": {},
   "outputs": [],
   "source": [
    "i = 4\n",
    "a =bento_ingredients[:i]\n",
    "b = bento_ingredients[i:]"
   ]
  },
  {
   "cell_type": "markdown",
   "metadata": {},
   "source": [
    "Add items to a list with `.append()` - add something else you like to your order!"
   ]
  },
  {
   "cell_type": "code",
   "execution_count": 36,
   "metadata": {},
   "outputs": [
    {
     "data": {
      "text/plain": [
       "['rice', 'salmon', 'kimchi', 'mushrooms', 'kale']"
      ]
     },
     "execution_count": 36,
     "metadata": {},
     "output_type": "execute_result"
    }
   ],
   "source": [
    "# Code here to add to your list\n",
    "bento_ingredients.append('kale')\n",
    "bento_ingredients"
   ]
  },
  {
   "cell_type": "markdown",
   "metadata": {},
   "source": [
    "If you don't want to keep that last item, you can use `.pop()` to remove it."
   ]
  },
  {
   "cell_type": "code",
   "execution_count": 37,
   "metadata": {},
   "outputs": [
    {
     "data": {
      "text/plain": [
       "'kimchi'"
      ]
     },
     "execution_count": 37,
     "metadata": {},
     "output_type": "execute_result"
    }
   ],
   "source": [
    "# Code here to test that ou\n",
    "bento_ingredients.pop(2)"
   ]
  },
  {
   "cell_type": "code",
   "execution_count": 38,
   "metadata": {},
   "outputs": [
    {
     "data": {
      "text/plain": [
       "['rice', 'salmon', 'mushrooms', 'kale']"
      ]
     },
     "execution_count": 38,
     "metadata": {},
     "output_type": "execute_result"
    }
   ],
   "source": [
    "# Now check what your list looks like - is that last item still there?\n",
    "bento_ingredients"
   ]
  },
  {
   "cell_type": "markdown",
   "metadata": {},
   "source": [
    "Now, let's put our bento box in a readable format using `join`:"
   ]
  },
  {
   "cell_type": "code",
   "execution_count": 44,
   "metadata": {},
   "outputs": [
    {
     "data": {
      "text/plain": [
       "'salmon'"
      ]
     },
     "execution_count": 44,
     "metadata": {},
     "output_type": "execute_result"
    }
   ],
   "source": [
    "str(bento_ingredients[1])"
   ]
  },
  {
   "cell_type": "code",
   "execution_count": 45,
   "metadata": {},
   "outputs": [
    {
     "data": {
      "text/plain": [
       "'rice,salmon,mushrooms,kale'"
      ]
     },
     "execution_count": 45,
     "metadata": {},
     "output_type": "execute_result"
    }
   ],
   "source": [
    "','.join(bento_ingredients)"
   ]
  },
  {
   "cell_type": "code",
   "execution_count": 59,
   "metadata": {},
   "outputs": [
    {
     "data": {
      "text/plain": [
       "['rice', 'salmon', 'mushrooms']"
      ]
     },
     "execution_count": 59,
     "metadata": {},
     "output_type": "execute_result"
    }
   ],
   "source": [
    "bento_ingredients[:-1]"
   ]
  },
  {
   "cell_type": "code",
   "execution_count": 58,
   "metadata": {},
   "outputs": [
    {
     "data": {
      "text/plain": [
       "\"['rice', 'salmon', 'mushrooms']\""
      ]
     },
     "execution_count": 58,
     "metadata": {},
     "output_type": "execute_result"
    }
   ],
   "source": [
    "str(bento_ingredients[:-1])"
   ]
  },
  {
   "cell_type": "code",
   "execution_count": 57,
   "metadata": {},
   "outputs": [
    {
     "data": {
      "text/plain": [
       "\"[,',r,i,c,e,',,, ,',s,a,l,m,o,n,',,, ,',m,u,s,h,r,o,o,m,s,',]\""
      ]
     },
     "execution_count": 57,
     "metadata": {},
     "output_type": "execute_result"
    }
   ],
   "source": [
    "','.join"
   ]
  },
  {
   "cell_type": "code",
   "execution_count": 55,
   "metadata": {},
   "outputs": [
    {
     "data": {
      "text/plain": [
       "\"I'd like my bento box to contain: [, ', r, i, c, e, ', ,,  , ', s, a, l, m, o, n, ', ,,  , ', m, u, s, h, r, o, o, m, s, ', ], and kale\""
      ]
     },
     "execution_count": 55,
     "metadata": {},
     "output_type": "execute_result"
    }
   ],
   "source": [
    "# Run this cell without changes\n",
    "string =\"I'd like my bento box to contain: \" + \", \".join(str(bento_ingredients[:-1])) + \", and \" + str(bento_ingredients[-1])\n",
    "string\n"
   ]
  },
  {
   "cell_type": "code",
   "execution_count": 50,
   "metadata": {},
   "outputs": [
    {
     "name": "stdout",
     "output_type": "stream",
     "text": [
      "I'd like my bento box to contain: rice, salmon, mushrooms, and kale\n"
     ]
    }
   ],
   "source": [
    "print(string)"
   ]
  },
  {
   "cell_type": "markdown",
   "metadata": {},
   "source": [
    "**New thing!** F-strings allow you to easily format strings to add variables or elements from an iterable (like a list). You can also use `.format()` in a similar way."
   ]
  },
  {
   "cell_type": "code",
   "execution_count": 60,
   "metadata": {},
   "outputs": [
    {
     "name": "stdout",
     "output_type": "stream",
     "text": [
      "My bento box will include rice and salmon.\n"
     ]
    }
   ],
   "source": [
    "# Run this cell without changes\n",
    "print(f\"My bento box will include {bento_ingredients[0]} and {bento_ingredients[1]}.\")"
   ]
  },
  {
   "cell_type": "code",
   "execution_count": 61,
   "metadata": {},
   "outputs": [
    {
     "name": "stdout",
     "output_type": "stream",
     "text": [
      "My bento box will include rice and salmon.\n"
     ]
    }
   ],
   "source": [
    "# The above cell is the same as:\n",
    "print(\"My bento box will include {} and {}.\".format(bento_ingredients[0], bento_ingredients[1]))"
   ]
  },
  {
   "cell_type": "markdown",
   "metadata": {},
   "source": [
    "**Think about it:** How is the f-string/format working differently from the join we did before?\n",
    "\n",
    "- \n"
   ]
  },
  {
   "cell_type": "markdown",
   "metadata": {},
   "source": [
    "## Using Dictionaries: Identifying, Creating, Navigating"
   ]
  },
  {
   "cell_type": "markdown",
   "metadata": {},
   "source": [
    "![dictionary](https://images.pexels.com/photos/270233/pexels-photo-270233.jpeg?auto=compress&cs=tinysrgb&dpr=2&w=500)\n",
    "\n",
    "No, not that kind! \n",
    "\n",
    "With your list above, someone would need to tell you that \"rice\" is the main and \"salmon\" is the protein. \n",
    "\n",
    "Dictionaries let you assign **key** and **value** pairs, which connects a key like \"main\" to a value like \"rice\". Rather than using **indexing**, you use **keys** to return values.\n",
    "\n",
    "Update your bento box to be a dictionary. There are multiple ways to do this! You can type all of your details out, matching to the information we have from the very beginning of this notebook, or you can use your list and a new list of keys to zip your bento box together.\n",
    "\n",
    "Make sure to run `type()` on your dictionary to confirm it is successful."
   ]
  },
  {
   "cell_type": "code",
   "execution_count": 69,
   "metadata": {},
   "outputs": [
    {
     "data": {
      "text/plain": [
       "{'ingredient1': 'rice', 'ingredient2': 'tempura'}"
      ]
     },
     "execution_count": 69,
     "metadata": {},
     "output_type": "execute_result"
    }
   ],
   "source": [
    "dict([(\"ingredient1\",'rice'), (\"ingredient2\",'tempura')])"
   ]
  },
  {
   "cell_type": "code",
   "execution_count": 62,
   "metadata": {
    "scrolled": true
   },
   "outputs": [
    {
     "name": "stdout",
     "output_type": "stream",
     "text": [
      "{'ingredient1': 'rice', 'ingredient2': 'tempura', 'ingredient3': 'miso soup'}\n",
      "<class 'dict'>\n"
     ]
    }
   ],
   "source": [
    "# Here's an example of zipping two lists together to form a dictionary\n",
    "bento_keys = [\"ingredient1\", \"ingredient2\", \"ingredient3\"]\n",
    "bento_values = [\"rice\", \"tempura\", \"miso soup\"]\n",
    "\n",
    "bento_dict = dict(zip(bento_keys, bento_values))\n",
    "\n",
    "print(bento_dict)\n",
    "print(type(bento_dict))"
   ]
  },
  {
   "cell_type": "code",
   "execution_count": 63,
   "metadata": {},
   "outputs": [
    {
     "data": {
      "text/plain": [
       "<zip at 0x7fa514c45508>"
      ]
     },
     "execution_count": 63,
     "metadata": {},
     "output_type": "execute_result"
    }
   ],
   "source": [
    "zip(bento_keys, bento_values)"
   ]
  },
  {
   "cell_type": "code",
   "execution_count": 65,
   "metadata": {},
   "outputs": [],
   "source": [
    "# Code here to create a dictionary from your bento ingredients\n",
    "# Change things up to whatever you like!\n",
    "bento_dict = {\n",
    "        'main': \"rice\",\n",
    "        'protein' : \"spicy-tuna\",\n",
    "        'side1': 'seaweed-salad',\n",
    "        'side2' : 'edameme'}\n",
    "\n"
   ]
  },
  {
   "cell_type": "code",
   "execution_count": 66,
   "metadata": {},
   "outputs": [
    {
     "data": {
      "text/plain": [
       "dict"
      ]
     },
     "execution_count": 66,
     "metadata": {},
     "output_type": "execute_result"
    }
   ],
   "source": [
    "# Code here to check your work - check type, and print your dictionary\n",
    "\n",
    "\n",
    "type(bento_dict)"
   ]
  },
  {
   "cell_type": "markdown",
   "metadata": {},
   "source": [
    "You use the key of the dictionary to access its value, for example `bento_box['main']` "
   ]
  },
  {
   "cell_type": "code",
   "execution_count": 70,
   "metadata": {},
   "outputs": [
    {
     "data": {
      "text/plain": [
       "'rice'"
      ]
     },
     "execution_count": 70,
     "metadata": {},
     "output_type": "execute_result"
    }
   ],
   "source": [
    "# Practice accessing elements in your bento box\n",
    "bento_dict['main']"
   ]
  },
  {
   "cell_type": "markdown",
   "metadata": {},
   "source": [
    "Let's say we want to combine EVERYONE'S bento dictionaries - we can nest those dictonaries inside of a list!\n",
    "\n",
    "Let's get a few different bento box orders into a group order - use Slack to send your dictionaries to each other (you'll want to send everyone the dictionary output, not the code you wrote if you used zip to create your dictionary). \n",
    "\n",
    "**Tip:** make sure each of the dictionaries are structured the same, with the same key names for what is in the bento boxes (as in, make sure you each have a main, a protein, and the same number of sides) - for this exercise, it'll make your life easier later on! \n",
    "\n",
    "Grab at least two other orders and create a list of different dictionaries:"
   ]
  },
  {
   "cell_type": "code",
   "execution_count": null,
   "metadata": {},
   "outputs": [],
   "source": [
    "james = {\n",
    "    'main':'rice',\n",
    "    \n",
    "}"
   ]
  },
  {
   "cell_type": "code",
   "execution_count": 71,
   "metadata": {},
   "outputs": [],
   "source": [
    "# Code here to combine your group order\n",
    "james= {\n",
    "        'main': \"rice\",\n",
    "        'protein' : \"spicy-tuna\",\n",
    "        'side1': 'seaweed-salad',\n",
    "        'side2' : 'edameme'\n",
    "}\n",
    "\n",
    "berke = {\n",
    "    'main': 'rice', \n",
    "    'protein': 'spicy tuna', \n",
    "    'side1': 'kimchi', \n",
    "    'side2': 'wasabi'}\n",
    "\n",
    "elena = {'main': 'brown rice',\n",
    "  'protein': 'spicy tuna',\n",
    "  'side1': 'cucumber salad',\n",
    "  'side2': 'marinated Japanese mushrooms'\n",
    "  }\n",
    "\n",
    "peder = {'main': 'rice',\n",
    "         'protein': 'ginger chicken',\n",
    "         'side1': 'ramen', 'side2':'tofu'}\n",
    "nick = {\n",
    "    'main': 'rice',\n",
    "    'protein': 'ginger chicken',\n",
    "    'side1': 'onigiri',\n",
    "    'side2': 'vegetable kinpira'\n",
    "}\n",
    "\n",
    "brian = {\n",
    "    'main' : 'rice',\n",
    "    'protein' : 'salmon',\n",
    "    'side1' : 'carrots',\n",
    "    'side2' : 'seaweed'\n",
    "}\n",
    "\n",
    "johnny = {\n",
    "        'main': \"fried_rice\",\n",
    "        'protein' : \"teriyaki_chicken\",\n",
    "        'side1': 'ramen',\n",
    "        'side2' : 'kimchi'\n",
    "} \n",
    "\n",
    "jess = {'main': 'noodles',\n",
    "        'protein': 'teriyaki salmon', \n",
    "        'side1': 'kimchi',\n",
    "        'side2': 'dumplings'}\n",
    "\n",
    "justin = {'main': 'rice',\n",
    "          'protein': 'salmon', \n",
    "          'side1': 'seaweed',\n",
    "          'side2': 'mushrooms'}\n",
    "\n",
    "drake = {'main': 'lettuce',\n",
    " 'protein': 'marinated beef',\n",
    " 'side1': 'tamagoyaki',\n",
    " 'side2': 'nigiri'}\n",
    "\n",
    "vinayak = {\"main\":\"rice\", \"protein\":'chicken', \"side1\":\"corn on the cobb\", \"side2\":\"fries\"}\n",
    "\n",
    "jonathan = {'main': 'soba noodles', 'protein': 'sashimi', 'side1': 'gyoza', 'side2': 'picked daikon'} "
   ]
  },
  {
   "cell_type": "code",
   "execution_count": 73,
   "metadata": {},
   "outputs": [
    {
     "data": {
      "text/plain": [
       "[{'main': 'rice',\n",
       "  'protein': 'spicy-tuna',\n",
       "  'side1': 'seaweed-salad',\n",
       "  'side2': 'edameme'},\n",
       " {'main': 'rice',\n",
       "  'protein': 'spicy tuna',\n",
       "  'side1': 'kimchi',\n",
       "  'side2': 'wasabi'},\n",
       " {'main': 'brown rice',\n",
       "  'protein': 'spicy tuna',\n",
       "  'side1': 'cucumber salad',\n",
       "  'side2': 'marinated Japanese mushrooms'},\n",
       " {'main': 'rice',\n",
       "  'protein': 'ginger chicken',\n",
       "  'side1': 'ramen',\n",
       "  'side2': 'tofu'},\n",
       " {'main': 'rice',\n",
       "  'protein': 'ginger chicken',\n",
       "  'side1': 'onigiri',\n",
       "  'side2': 'vegetable kinpira'},\n",
       " {'main': 'rice', 'protein': 'salmon', 'side1': 'carrots', 'side2': 'seaweed'},\n",
       " {'main': 'fried_rice',\n",
       "  'protein': 'teriyaki_chicken',\n",
       "  'side1': 'ramen',\n",
       "  'side2': 'kimchi'},\n",
       " {'main': 'noodles',\n",
       "  'protein': 'teriyaki salmon',\n",
       "  'side1': 'kimchi',\n",
       "  'side2': 'dumplings'},\n",
       " {'main': 'rice',\n",
       "  'protein': 'salmon',\n",
       "  'side1': 'seaweed',\n",
       "  'side2': 'mushrooms'},\n",
       " {'main': 'lettuce',\n",
       "  'protein': 'marinated beef',\n",
       "  'side1': 'tamagoyaki',\n",
       "  'side2': 'nigiri'},\n",
       " {'main': 'rice',\n",
       "  'protein': 'chicken',\n",
       "  'side1': 'corn on the cobb',\n",
       "  'side2': 'fries'},\n",
       " {'main': 'soba noodles',\n",
       "  'protein': 'sashimi',\n",
       "  'side1': 'gyoza',\n",
       "  'side2': 'picked daikon'}]"
      ]
     },
     "execution_count": 73,
     "metadata": {},
     "output_type": "execute_result"
    }
   ],
   "source": [
    "# Code here to check your work\n",
    "group_order = [james, berke,elena,peder,\n",
    "               nick,brian, johnny, jess,justin,drake,vinayak,jonathan]\n",
    "group_order"
   ]
  },
  {
   "cell_type": "markdown",
   "metadata": {},
   "source": [
    "But what if we also want to keep track of whose order is whose? Instead of doing a list of dictionaries, we can do a nested dictionary of dictionaries! \n",
    "\n",
    "![Dictionaries inside dictionaries](https://i.imgflip.com/3orgly.jpg)\n",
    "\n",
    "Create a dictionary of dictionaries, where the key is the name of the person ordering and the value is their bento dictionary:"
   ]
  },
  {
   "cell_type": "code",
   "execution_count": 74,
   "metadata": {},
   "outputs": [],
   "source": [
    "# Code here to create your nested dictionaries\n",
    "# Code here to combine your group order\n",
    "group_order_dict = dict(\n",
    "    james= {\n",
    "            'main': \"rice\",\n",
    "            'protein' : \"spicy-tuna\",\n",
    "            'side1': 'seaweed-salad',\n",
    "            'side2' : 'edameme'\n",
    "    },\n",
    "\n",
    "    berke = {\n",
    "        'main': 'rice', \n",
    "        'protein': 'spicy tuna', \n",
    "        'side1': 'kimchi', \n",
    "        'side2': 'wasabi'},\n",
    "\n",
    "    elena = {'main': 'brown rice',\n",
    "      'protein': 'spicy tuna',\n",
    "      'side1': 'cucumber salad',\n",
    "      'side2': 'marinated Japanese mushrooms'\n",
    "      },\n",
    "\n",
    "    peder = {'main': 'rice',\n",
    "             'protein': 'ginger chicken',\n",
    "             'side1': 'ramen', 'side2':'tofu'},\n",
    "    nick = {\n",
    "        'main': 'rice',\n",
    "        'protein': 'ginger chicken',\n",
    "        'side1': 'onigiri',\n",
    "        'side2': 'vegetable kinpira'\n",
    "    },\n",
    "\n",
    "    brian = {\n",
    "        'main' : 'rice',\n",
    "        'protein' : 'salmon',\n",
    "        'side1' : 'carrots',\n",
    "        'side2' : 'seaweed'\n",
    "    },\n",
    "\n",
    "    johnny = {\n",
    "            'main': \"fried_rice\",\n",
    "            'protein' : \"teriyaki_chicken\",\n",
    "            'side1': 'ramen',\n",
    "            'side2' : 'kimchi'\n",
    "    } ,\n",
    "\n",
    "    jess = {'main': 'noodles',\n",
    "            'protein': 'teriyaki salmon', \n",
    "            'side1': 'kimchi',\n",
    "            'side2': 'dumplings'},\n",
    "\n",
    "    justin = {'main': 'rice',\n",
    "              'protein': 'salmon', \n",
    "              'side1': 'seaweed',\n",
    "              'side2': 'mushrooms'},\n",
    "\n",
    "    drake = {'main': 'lettuce',\n",
    "     'protein': 'marinated beef',\n",
    "     'side1': 'tamagoyaki',\n",
    "     'side2': 'nigiri'},\n",
    "\n",
    "    vinayak = {\"main\":\"rice\", \"protein\":'chicken', \"side1\":\"corn on the cobb\", \"side2\":\"fries\"},\n",
    "\n",
    "    jonathan = {'main': 'soba noodles', 'protein': 'sashimi', 'side1': 'gyoza', 'side2': 'picked daikon'},\n",
    ")"
   ]
  },
  {
   "cell_type": "code",
   "execution_count": 75,
   "metadata": {},
   "outputs": [
    {
     "data": {
      "text/plain": [
       "{'james': {'main': 'rice',\n",
       "  'protein': 'spicy-tuna',\n",
       "  'side1': 'seaweed-salad',\n",
       "  'side2': 'edameme'},\n",
       " 'berke': {'main': 'rice',\n",
       "  'protein': 'spicy tuna',\n",
       "  'side1': 'kimchi',\n",
       "  'side2': 'wasabi'},\n",
       " 'elena': {'main': 'brown rice',\n",
       "  'protein': 'spicy tuna',\n",
       "  'side1': 'cucumber salad',\n",
       "  'side2': 'marinated Japanese mushrooms'},\n",
       " 'peder': {'main': 'rice',\n",
       "  'protein': 'ginger chicken',\n",
       "  'side1': 'ramen',\n",
       "  'side2': 'tofu'},\n",
       " 'nick': {'main': 'rice',\n",
       "  'protein': 'ginger chicken',\n",
       "  'side1': 'onigiri',\n",
       "  'side2': 'vegetable kinpira'},\n",
       " 'brian': {'main': 'rice',\n",
       "  'protein': 'salmon',\n",
       "  'side1': 'carrots',\n",
       "  'side2': 'seaweed'},\n",
       " 'johnny': {'main': 'fried_rice',\n",
       "  'protein': 'teriyaki_chicken',\n",
       "  'side1': 'ramen',\n",
       "  'side2': 'kimchi'},\n",
       " 'jess': {'main': 'noodles',\n",
       "  'protein': 'teriyaki salmon',\n",
       "  'side1': 'kimchi',\n",
       "  'side2': 'dumplings'},\n",
       " 'justin': {'main': 'rice',\n",
       "  'protein': 'salmon',\n",
       "  'side1': 'seaweed',\n",
       "  'side2': 'mushrooms'},\n",
       " 'drake': {'main': 'lettuce',\n",
       "  'protein': 'marinated beef',\n",
       "  'side1': 'tamagoyaki',\n",
       "  'side2': 'nigiri'},\n",
       " 'vinayak': {'main': 'rice',\n",
       "  'protein': 'chicken',\n",
       "  'side1': 'corn on the cobb',\n",
       "  'side2': 'fries'},\n",
       " 'jonathan': {'main': 'soba noodles',\n",
       "  'protein': 'sashimi',\n",
       "  'side1': 'gyoza',\n",
       "  'side2': 'picked daikon'}}"
      ]
     },
     "execution_count": 75,
     "metadata": {},
     "output_type": "execute_result"
    }
   ],
   "source": [
    "# Check your work\n",
    "group_order_dict"
   ]
  },
  {
   "cell_type": "markdown",
   "metadata": {},
   "source": [
    "Now, if we wanted a list of people who ordered bento boxes, we could grab a list of those names by using `.keys()`"
   ]
  },
  {
   "cell_type": "code",
   "execution_count": 76,
   "metadata": {},
   "outputs": [
    {
     "data": {
      "text/plain": [
       "{'main': 'soba noodles',\n",
       " 'protein': 'sashimi',\n",
       " 'side1': 'gyoza',\n",
       " 'side2': 'picked daikon'}"
      ]
     },
     "execution_count": 76,
     "metadata": {},
     "output_type": "execute_result"
    }
   ],
   "source": [
    "# Code here to grab a list of who you have orders for\n",
    "group_order_dict['jonathan']"
   ]
  },
  {
   "cell_type": "code",
   "execution_count": 77,
   "metadata": {
    "scrolled": true
   },
   "outputs": [
    {
     "data": {
      "text/plain": [
       "'soba noodles'"
      ]
     },
     "execution_count": 77,
     "metadata": {},
     "output_type": "execute_result"
    }
   ],
   "source": [
    "# Check your work\n",
    "group_order_dict['jonathan']['main']\n"
   ]
  },
  {
   "cell_type": "markdown",
   "metadata": {},
   "source": [
    "## For loops\n",
    "\n",
    "Okay, is anyone confused about for loops? Let's practice.\n",
    "\n",
    "Write a loop to print the main ingredient in everyone's bento order. \n",
    "\n",
    "(This is easier if everyone named an ingredient 'main' in their dictionary, but can be done even if that's not the case - it's just more complicated.)\n",
    "\n",
    "Remember! You have already defined a list of everyone's names from above! You can use that in your for loop if you like."
   ]
  },
  {
   "cell_type": "code",
   "execution_count": 86,
   "metadata": {},
   "outputs": [
    {
     "data": {
      "text/plain": [
       "[{'main': 'rice',\n",
       "  'protein': 'spicy-tuna',\n",
       "  'side1': 'seaweed-salad',\n",
       "  'side2': 'edameme'},\n",
       " {'main': 'rice',\n",
       "  'protein': 'spicy tuna',\n",
       "  'side1': 'kimchi',\n",
       "  'side2': 'wasabi'},\n",
       " {'main': 'brown rice',\n",
       "  'protein': 'spicy tuna',\n",
       "  'side1': 'cucumber salad',\n",
       "  'side2': 'marinated Japanese mushrooms'},\n",
       " {'main': 'rice',\n",
       "  'protein': 'ginger chicken',\n",
       "  'side1': 'ramen',\n",
       "  'side2': 'tofu'},\n",
       " {'main': 'rice',\n",
       "  'protein': 'ginger chicken',\n",
       "  'side1': 'onigiri',\n",
       "  'side2': 'vegetable kinpira'},\n",
       " {'main': 'rice', 'protein': 'salmon', 'side1': 'carrots', 'side2': 'seaweed'},\n",
       " {'main': 'fried_rice',\n",
       "  'protein': 'teriyaki_chicken',\n",
       "  'side1': 'ramen',\n",
       "  'side2': 'kimchi'},\n",
       " {'main': 'noodles',\n",
       "  'protein': 'teriyaki salmon',\n",
       "  'side1': 'kimchi',\n",
       "  'side2': 'dumplings'},\n",
       " {'main': 'rice',\n",
       "  'protein': 'salmon',\n",
       "  'side1': 'seaweed',\n",
       "  'side2': 'mushrooms'},\n",
       " {'main': 'lettuce',\n",
       "  'protein': 'marinated beef',\n",
       "  'side1': 'tamagoyaki',\n",
       "  'side2': 'nigiri'},\n",
       " {'main': 'rice',\n",
       "  'protein': 'chicken',\n",
       "  'side1': 'corn on the cobb',\n",
       "  'side2': 'fries'},\n",
       " {'main': 'soba noodles',\n",
       "  'protein': 'sashimi',\n",
       "  'side1': 'gyoza',\n",
       "  'side2': 'picked daikon'}]"
      ]
     },
     "execution_count": 86,
     "metadata": {},
     "output_type": "execute_result"
    }
   ],
   "source": [
    "group_order"
   ]
  },
  {
   "cell_type": "code",
   "execution_count": 87,
   "metadata": {},
   "outputs": [
    {
     "name": "stdout",
     "output_type": "stream",
     "text": [
      "0 james {'main': 'rice', 'protein': 'spicy-tuna', 'side1': 'seaweed-salad', 'side2': 'edameme'}\n",
      "1 berke {'main': 'rice', 'protein': 'spicy tuna', 'side1': 'kimchi', 'side2': 'wasabi'}\n",
      "2 elena {'main': 'brown rice', 'protein': 'spicy tuna', 'side1': 'cucumber salad', 'side2': 'marinated Japanese mushrooms'}\n",
      "3 peder {'main': 'rice', 'protein': 'ginger chicken', 'side1': 'ramen', 'side2': 'tofu'}\n",
      "4 nick {'main': 'rice', 'protein': 'ginger chicken', 'side1': 'onigiri', 'side2': 'vegetable kinpira'}\n",
      "5 brian {'main': 'rice', 'protein': 'salmon', 'side1': 'carrots', 'side2': 'seaweed'}\n",
      "6 johnny {'main': 'fried_rice', 'protein': 'teriyaki_chicken', 'side1': 'ramen', 'side2': 'kimchi'}\n",
      "7 jess {'main': 'noodles', 'protein': 'teriyaki salmon', 'side1': 'kimchi', 'side2': 'dumplings'}\n",
      "8 justin {'main': 'rice', 'protein': 'salmon', 'side1': 'seaweed', 'side2': 'mushrooms'}\n",
      "9 drake {'main': 'lettuce', 'protein': 'marinated beef', 'side1': 'tamagoyaki', 'side2': 'nigiri'}\n",
      "10 vinayak {'main': 'rice', 'protein': 'chicken', 'side1': 'corn on the cobb', 'side2': 'fries'}\n",
      "11 jonathan {'main': 'soba noodles', 'protein': 'sashimi', 'side1': 'gyoza', 'side2': 'picked daikon'}\n"
     ]
    }
   ],
   "source": [
    "names = list(group_order_dict.keys())\n",
    "for index, name in enumerate(names):\n",
    "    print(index, name, group_order[index])"
   ]
  },
  {
   "cell_type": "code",
   "execution_count": 82,
   "metadata": {},
   "outputs": [
    {
     "name": "stdout",
     "output_type": "stream",
     "text": [
      "rice\n",
      "rice\n",
      "brown rice\n",
      "rice\n",
      "rice\n",
      "rice\n",
      "fried_rice\n",
      "noodles\n",
      "rice\n",
      "lettuce\n",
      "rice\n",
      "soba noodles\n"
     ]
    }
   ],
   "source": [
    "for name,bento in group_order_dict.items():\n",
    "    print(bento['main'])"
   ]
  },
  {
   "cell_type": "code",
   "execution_count": 78,
   "metadata": {},
   "outputs": [
    {
     "name": "stdout",
     "output_type": "stream",
     "text": [
      "rice\n",
      "rice\n",
      "brown rice\n",
      "rice\n",
      "rice\n",
      "rice\n",
      "fried_rice\n",
      "noodles\n",
      "rice\n",
      "lettuce\n",
      "rice\n",
      "soba noodles\n"
     ]
    }
   ],
   "source": [
    "# Code here to write a for loop that prints each main\n",
    "\n",
    "for k,v in group_order_dict.items():\n",
    "    print(v['main'])\n"
   ]
  },
  {
   "cell_type": "markdown",
   "metadata": {},
   "source": [
    "### Bringing everything together!\n",
    "\n",
    "Now, using the names from the nested dictionaries, can we create a list of tuples with each name along with the protein they want? \n",
    "\n",
    "(Again, easier if everyone named an ingredient 'protein' in their dictionary...)\n",
    "\n",
    "([What even is a tuple?](http://openbookproject.net/thinkcs/python/english3e/tuples.html) It's hard to distinguish them from lists, except they use `()` instead of `[]`. The takeaway here is that tuples create a single immutable object when grouping data. If you're having trouble, try to use the linked resource to create your list of tuples below.)"
   ]
  },
  {
   "cell_type": "code",
   "execution_count": 90,
   "metadata": {
    "code_folding": []
   },
   "outputs": [
    {
     "data": {
      "text/plain": [
       "[('james', 'spicy-tuna'),\n",
       " ('berke', 'spicy tuna'),\n",
       " ('elena', 'spicy tuna'),\n",
       " ('peder', 'ginger chicken'),\n",
       " ('nick', 'ginger chicken'),\n",
       " ('brian', 'salmon'),\n",
       " ('johnny', 'teriyaki_chicken'),\n",
       " ('jess', 'teriyaki salmon'),\n",
       " ('justin', 'salmon'),\n",
       " ('drake', 'marinated beef'),\n",
       " ('vinayak', 'chicken'),\n",
       " ('jonathan', 'sashimi')]"
      ]
     },
     "execution_count": 90,
     "metadata": {},
     "output_type": "execute_result"
    }
   ],
   "source": [
    "# Code here to create a list of tuples for each person and their protein\n",
    "tuple_list = []\n",
    "\n",
    "for person in group_order_dict.keys():\n",
    "    protein = group_order_dict[person]['protein']\n",
    "    tuple_list.append((person, protein))\n",
    "    \n",
    "tuple_list"
   ]
  },
  {
   "cell_type": "code",
   "execution_count": 95,
   "metadata": {},
   "outputs": [
    {
     "data": {
      "text/plain": [
       "[('james', 'spicy-tuna'),\n",
       " ('berke', 'spicy tuna'),\n",
       " ('elena', 'spicy tuna'),\n",
       " ('peder', 'ginger chicken'),\n",
       " ('nick', 'ginger chicken'),\n",
       " ('brian', 'salmon'),\n",
       " ('johnny', 'teriyaki_chicken'),\n",
       " ('jess', 'teriyaki salmon'),\n",
       " ('justin', 'salmon'),\n",
       " ('drake', 'marinated beef'),\n",
       " ('vinayak', 'chicken'),\n",
       " ('jonathan', 'sashimi')]"
      ]
     },
     "execution_count": 95,
     "metadata": {},
     "output_type": "execute_result"
    }
   ],
   "source": [
    "empty_list= []\n",
    "for name, bento in group_order_dict.items():\n",
    "    empty_list.append((name,bento['protein']))\n",
    "empty_list"
   ]
  },
  {
   "cell_type": "code",
   "execution_count": 91,
   "metadata": {},
   "outputs": [
    {
     "data": {
      "text/plain": [
       "[('james', 'spicy-tuna'),\n",
       " ('berke', 'spicy tuna'),\n",
       " ('elena', 'spicy tuna'),\n",
       " ('peder', 'ginger chicken'),\n",
       " ('nick', 'ginger chicken'),\n",
       " ('brian', 'salmon'),\n",
       " ('johnny', 'teriyaki_chicken'),\n",
       " ('jess', 'teriyaki salmon'),\n",
       " ('justin', 'salmon'),\n",
       " ('drake', 'marinated beef'),\n",
       " ('vinayak', 'chicken'),\n",
       " ('jonathan', 'sashimi')]"
      ]
     },
     "execution_count": 91,
     "metadata": {},
     "output_type": "execute_result"
    }
   ],
   "source": [
    "[(name,bento['protein']) for name, bento in group_order_dict.items()]"
   ]
  },
  {
   "cell_type": "code",
   "execution_count": null,
   "metadata": {},
   "outputs": [],
   "source": [
    "# Code here to check your work\n",
    "# Tuple list will look like [('person', 'protein'), ...]\n"
   ]
  },
  {
   "cell_type": "markdown",
   "metadata": {},
   "source": [
    "Now, print each of your orders as readable sentences. \n",
    "\n",
    "You can use `.join()` or f-strings or `.format()` - no wrong way to do it! You may even want to use nested for loops here!"
   ]
  },
  {
   "cell_type": "code",
   "execution_count": 98,
   "metadata": {
    "scrolled": false
   },
   "outputs": [
    {
     "name": "stdout",
     "output_type": "stream",
     "text": [
      "James would like a bento box with rice, spicy-tuna, seaweed-salad, and edameme\n",
      "Berke would like a bento box with rice, spicy tuna, kimchi, and wasabi\n",
      "Elena would like a bento box with brown rice, spicy tuna, cucumber salad, and marinated Japanese mushrooms\n",
      "Peder would like a bento box with rice, ginger chicken, ramen, and tofu\n",
      "Nick would like a bento box with rice, ginger chicken, onigiri, and vegetable kinpira\n",
      "Brian would like a bento box with rice, salmon, carrots, and seaweed\n",
      "Johnny would like a bento box with fried_rice, teriyaki_chicken, ramen, and kimchi\n",
      "Jess would like a bento box with noodles, teriyaki salmon, kimchi, and dumplings\n",
      "Justin would like a bento box with rice, salmon, seaweed, and mushrooms\n",
      "Drake would like a bento box with lettuce, marinated beef, tamagoyaki, and nigiri\n",
      "Vinayak would like a bento box with rice, chicken, corn on the cobb, and fries\n",
      "Jonathan would like a bento box with soba noodles, sashimi, gyoza, and picked daikon\n"
     ]
    }
   ],
   "source": [
    "# Code here to print each order as a human-readable sentence\n",
    "# Code here to print each order as a human-readable sentence\n",
    "for name in group_order_dict.keys():\n",
    "    components = list(group_order_dict[name].values())\n",
    "    print(f\"{name.title()} would like a bento box with \" +\n",
    "          \", \".join(components[:-1]) + \", and \" + components[-1])\n",
    "    \n",
    "    "
   ]
  },
  {
   "cell_type": "markdown",
   "metadata": {},
   "source": [
    "### Reflection:\n",
    "\n",
    "What's a situation where you could use lists and loops to automate a process?\n",
    "\n",
    "- \n"
   ]
  }
 ],
 "metadata": {
  "kernelspec": {
   "display_name": "Python 3",
   "language": "python",
   "name": "python3"
  },
  "language_info": {
   "codemirror_mode": {
    "name": "ipython",
    "version": 3
   },
   "file_extension": ".py",
   "mimetype": "text/x-python",
   "name": "python",
   "nbconvert_exporter": "python",
   "pygments_lexer": "ipython3",
   "version": "3.6.11"
  },
  "toc": {
   "base_numbering": 1,
   "nav_menu": {},
   "number_sections": true,
   "sideBar": true,
   "skip_h1_title": false,
   "title_cell": "Table of Contents",
   "title_sidebar": "Contents",
   "toc_cell": false,
   "toc_position": {},
   "toc_section_display": true,
   "toc_window_display": false
  },
  "varInspector": {
   "cols": {
    "lenName": 16,
    "lenType": 16,
    "lenVar": 40
   },
   "kernels_config": {
    "python": {
     "delete_cmd_postfix": "",
     "delete_cmd_prefix": "del ",
     "library": "var_list.py",
     "varRefreshCmd": "print(var_dic_list())"
    },
    "r": {
     "delete_cmd_postfix": ") ",
     "delete_cmd_prefix": "rm(",
     "library": "var_list.r",
     "varRefreshCmd": "cat(var_dic_list()) "
    }
   },
   "position": {
    "height": "560px",
    "left": "683px",
    "right": "20px",
    "top": "35px",
    "width": "558px"
   },
   "types_to_exclude": [
    "module",
    "function",
    "builtin_function_or_method",
    "instance",
    "_Feature"
   ],
   "window_display": false
  }
 },
 "nbformat": 4,
 "nbformat_minor": 2
}
