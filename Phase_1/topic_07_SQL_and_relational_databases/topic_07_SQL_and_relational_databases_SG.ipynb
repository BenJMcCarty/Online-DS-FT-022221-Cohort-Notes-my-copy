{
 "cells": [
  {
   "cell_type": "markdown",
   "metadata": {
    "colab_type": "text",
    "id": "fSXm695x6G5L"
   },
   "source": [
    "# SECTION 07: SQL DATABASES"
   ]
  },
  {
   "cell_type": "markdown",
   "metadata": {},
   "source": [
    "- onl01-dtsc-ft-022221\n",
    "- 03/05/21"
   ]
  },
  {
   "cell_type": "markdown",
   "metadata": {
    "colab_type": "text",
    "id": "DZsyPhsV6CBR"
   },
   "source": [
    "## LEARNING OBJECTIVES:"
   ]
  },
  {
   "cell_type": "markdown",
   "metadata": {
    "colab_type": "text",
    "id": "zCE5LOMC6Ezf"
   },
   "source": [
    "- Understand what a relational database is and how it is different than a DataFrame/Excel sheet.\n",
    "- Understand how to read database map (AKA \"Entity Relationship Diagram (ERD)\")\n",
    "    - Primary keys vs forgein keys\n",
    "- Understand how to select, filter, order, and group data using SQL\n",
    "- Understand the different types of Joins \n",
    "\n",
    "\n",
    "#### 🏝 Breakout Group Activity:  [Survive on sql-island](https://sql-island.informatik.uni-kl.de/)"
   ]
  },
  {
   "cell_type": "markdown",
   "metadata": {},
   "source": [
    "## Questions:"
   ]
  },
  {
   "cell_type": "markdown",
   "metadata": {},
   "source": [
    "- When doing some of the admin tasks like inserting rows, I tried to run an insert command again and got a \"database is locked\" error. In what circumstances does this happen, and are there best practices for closing the connection to avoid locking?\n",
    "\n",
    "\n",
    "- The SQL quiz had a question about the role of Associated Entities on many-to-many joins. I went back through the lessons and couldn't find a section which talked about that term. What should we know about many-to-many joins other than that they can become very large?\n",
    "\n",
    "\n",
    "\n",
    "- Can you rephrase the below statement? \n",
    ">\"For example, let's say you have another table 'restaurants' that has many columns including name, city, and rating. If you were to join this 'restaurants' table with the offices table using the shared city column, you might get some unexpected behavior. That is, in the office table, there is only one office per city. However, because there will likely be more than one restaurant for each of these cities in your second table, you will get unique combinations of Offices and Restaurants from your join. If there are 513 restaurants for Boston in your restaurant table and 1 office for Boston, your joined table will have each of these 513 rows, one for each restaurant along with the one office.<br>\n",
    "If you had 2 offices for Boston and 513 restaurants, your join would have 1026 rows for Boston; 513 for each restaurant along with the first office and 513 for each restaurant with the second office. Three offices in Boston would similarly produce 1539 rows; one for each unique combination of restaurants and offices. This is where you should be particularly careful of many to many joins as the resulting set size can explode drastically potentially consuming vast amounts of memory and other resources.\"\n"
   ]
  },
  {
   "cell_type": "markdown",
   "metadata": {
    "colab_type": "text",
    "id": "QXhrCis-0Alb"
   },
   "source": [
    "# SQL Databases"
   ]
  },
  {
   "cell_type": "markdown",
   "metadata": {
    "colab_type": "text",
    "id": "j0lrVZbklFIu"
   },
   "source": [
    "<img src=\"https://raw.githubusercontent.com/learn-co-students/dsc-sql-introduction-online-ds-sp-000/master/images/Database-Schema.png\">"
   ]
  },
  {
   "cell_type": "markdown",
   "metadata": {
    "colab_type": "text",
    "id": "6oJ6QUxHlUW8"
   },
   "source": [
    "\n",
    "- SQL is designed to work with **relational data**. \n",
    "- This really just means pieces of data that are **related to eachother**.\n",
    "\n",
    "- Each table has a **primary key** (like a DataFrame index), with a unique index for each row in the database.\n",
    "- The name of the primary key is preceded by an asterix (\\*). \n",
    "\n",
    "- Columns that are the **primary key one on table** can also appear on **other tables**. \n",
    "    - Then it is refered to as a **foreign key** aka the primary key from a different (\"foreign\") table. "
   ]
  },
  {
   "cell_type": "markdown",
   "metadata": {
    "colab_type": "text",
    "id": "ha-l_V26uOBi"
   },
   "source": [
    "### ⨠ Q: Why do we need databases? Why can't we just use a bunch of Pandas DataFrames?"
   ]
  },
  {
   "cell_type": "markdown",
   "metadata": {
    "colab_type": "text",
    "id": "ha-l_V26uOBi"
   },
   "source": [
    "- "
   ]
  },
  {
   "cell_type": "markdown",
   "metadata": {
    "colab_type": "text",
    "id": "hLp6BFjBuj0j"
   },
   "source": [
    "## Querying Databases - `SELECT`ing data\n"
   ]
  },
  {
   "cell_type": "markdown",
   "metadata": {
    "colab_type": "text",
    "id": "uiuX0CCymtlR"
   },
   "source": [
    "\n",
    "- To retrieve data from one or more tables you usually use a `SELECT` statement. \n",
    "```SQL\n",
    "SELECT * FROM table;\n",
    "```\n",
    "\n",
    "\n",
    "> - NOTE: SQL queries dot not _have_ to be all-caps, but it is a convention to help differentiate sql syntax versus names of tables/columns.\n",
    "\n",
    "\n",
    "\n",
    "- A more advanced select query.\n",
    "```SQL\n",
    "SELECT col1, col2, col3\n",
    "FROM table\n",
    "WHERE records match criteria\n",
    "LIMIT 100;\n",
    "```\n",
    "\n",
    "- **All select statements must:**\n",
    "    1. **start with the `SELECT`**\n",
    "    2. followed by **what you want to select**. Separate multiple column names separated by a `,` \n",
    "    3. Then specify where the data is coming `FROM` followed by the table name. \n",
    "    4. **Afterward, you can provide conditions such as filters or sorting**.\n",
    "\n",
    "```SQL\n",
    "SELECT *\n",
    "FROM payments\n",
    "ORDER BY amount DESC\n",
    "LIMIT 10;\n",
    "```\n",
    "\n"
   ]
  },
  {
   "cell_type": "markdown",
   "metadata": {
    "colab_type": "text",
    "id": "UDUABvx0mtjL"
   },
   "source": [
    "## SQL with `sqlite3`"
   ]
  },
  {
   "cell_type": "markdown",
   "metadata": {
    "colab_type": "text",
    "id": "SPvZYrDhwvzI"
   },
   "source": [
    "- Use `sqlite3` for SQL queries in Python.\n",
    "    1. Connect to database\n",
    "    2. Create a cursor.\n",
    "    3. Form your query\n",
    "    4. Execute/fetch your results.\n",
    "\n",
    "```python\n",
    "import sqlite3\n",
    "connection = sqlite3.connect('pet_database.db') # Creates pet_database, but empty until create a table    \n",
    "cursor = connection.cursor()\n",
    "\n",
    "\n",
    "# Select from table\n",
    "cursor.execute('''SELECT name FROM cats;''').fetchall()\n",
    "\n",
    "```"
   ]
  },
  {
   "cell_type": "code",
   "execution_count": 1,
   "metadata": {
    "colab": {
     "base_uri": "https://localhost:8080/",
     "height": 225
    },
    "colab_type": "code",
    "id": "lE6oAMfbu_qR",
    "outputId": "60b00707-2164-420a-d0c5-5e8d0f9e6439"
   },
   "outputs": [
    {
     "data": {
      "text/plain": [
       "'/Users/jamesirving/Documents/GitHub/_COHORT_NOTES/022221FT/Online-DS-FT-022221-Cohort-Notes/Phase_1/topic_07_SQL_and_relational_databases'"
      ]
     },
     "execution_count": 1,
     "metadata": {},
     "output_type": "execute_result"
    }
   ],
   "source": [
    "import pandas as pd\n",
    "import os\n",
    "os.getcwd()"
   ]
  },
  {
   "cell_type": "code",
   "execution_count": null,
   "metadata": {},
   "outputs": [],
   "source": [
    "## Our data.sqlite is in the datasets folder in our note repo.\n",
    "db = '../../datasets/SQL/data.sqlite'"
   ]
  },
  {
   "cell_type": "code",
   "execution_count": null,
   "metadata": {
    "colab": {},
    "colab_type": "code",
    "id": "5etY7jQTykp9"
   },
   "outputs": [],
   "source": [
    "import sqlite3\n",
    "# connect to database\n",
    "conn = sqlite3.connect(db)\n",
    "cur = conn.cursor()\n",
    "\n",
    "type(conn)"
   ]
  },
  {
   "cell_type": "markdown",
   "metadata": {},
   "source": [
    "### How to get all of the table names in a database\n",
    ">- The container for all tables in a database with sqlite3 is called `sqlite_master` \n",
    ">- We can find the name of all of the tables in a db using: \n",
    ">```python\n",
    "table_names = cur.execute(\"\"\"\n",
    "SELECT name \n",
    "FROM sqlite_master \n",
    "WHERE type='table';\n",
    "\"\"\").fetchall()\n",
    "```"
   ]
  },
  {
   "cell_type": "code",
   "execution_count": null,
   "metadata": {
    "colab": {
     "base_uri": "https://localhost:8080/",
     "height": 156
    },
    "colab_type": "code",
    "id": "v8-E6ZW2KQIH",
    "outputId": "be128466-2fb8-4c15-de75-de0f232bfc38"
   },
   "outputs": [],
   "source": [
    "# Get table names\n",
    "table_names = cur.execute(\"\"\"\n",
    "SELECT name \n",
    "FROM sqlite_master \n",
    "WHERE type='table';\n",
    "\"\"\").fetchall()\n",
    "table_names"
   ]
  },
  {
   "cell_type": "code",
   "execution_count": null,
   "metadata": {
    "colab": {
     "base_uri": "https://localhost:8080/",
     "height": 156
    },
    "colab_type": "code",
    "id": "llj8d1yaub6I",
    "outputId": "50f0766a-2b00-4ed3-9e6d-8ca0477d553c"
   },
   "outputs": [],
   "source": [
    "## Clean up the list of table names to be just 1 list with strings\n",
    "table_names = [x[0] for x in table_names]\n",
    "table_names"
   ]
  },
  {
   "cell_type": "markdown",
   "metadata": {
    "colab_type": "text",
    "id": "NJo2I-HQp0Cu"
   },
   "source": [
    "<img src=\"https://raw.githubusercontent.com/learn-co-students/dsc-sql-introduction-online-ds-sp-000/master/images/Database-Schema.png\" width=500>"
   ]
  },
  {
   "cell_type": "markdown",
   "metadata": {},
   "source": [
    "### How to get the column names after executing a query:\n"
   ]
  },
  {
   "cell_type": "code",
   "execution_count": null,
   "metadata": {
    "colab": {
     "base_uri": "https://localhost:8080/",
     "height": 580
    },
    "colab_type": "code",
    "id": "m2eHA32pynEC",
    "outputId": "0843b787-f5e6-43e6-ff2a-bc72613ef8eb"
   },
   "outputs": [],
   "source": [
    "df = pd.DataFrame(cur.execute(\"select * from products\").fetchall())\n",
    "df"
   ]
  },
  {
   "cell_type": "markdown",
   "metadata": {},
   "source": [
    "> - the cursor has a `.description` that contains information about the column names"
   ]
  },
  {
   "cell_type": "code",
   "execution_count": null,
   "metadata": {
    "colab": {
     "base_uri": "https://localhost:8080/",
     "height": 173
    },
    "colab_type": "code",
    "id": "WtDqcFCh-x0r",
    "outputId": "3eef16a0-0a45-4071-9966-4561dab3fe5e"
   },
   "outputs": [],
   "source": [
    "cur.description"
   ]
  },
  {
   "cell_type": "code",
   "execution_count": null,
   "metadata": {
    "colab": {
     "base_uri": "https://localhost:8080/",
     "height": 330
    },
    "colab_type": "code",
    "id": "qaUW8uKGy3f6",
    "outputId": "c0fb7104-8a34-4ae9-946d-d52f550eb15d"
   },
   "outputs": [],
   "source": [
    "## Get a list of just the column names from the description\n",
    "col_names =[col[0] for col in cur.description]\n",
    "print(col_names)"
   ]
  },
  {
   "cell_type": "code",
   "execution_count": null,
   "metadata": {
    "colab": {
     "base_uri": "https://localhost:8080/",
     "height": 330
    },
    "colab_type": "code",
    "id": "qaUW8uKGy3f6",
    "outputId": "c0fb7104-8a34-4ae9-946d-d52f550eb15d"
   },
   "outputs": [],
   "source": [
    "df = pd.DataFrame(cur.execute('select * from products').fetchall(),\n",
    "                  columns=col_names)\n",
    "df.head()"
   ]
  },
  {
   "cell_type": "code",
   "execution_count": null,
   "metadata": {},
   "outputs": [],
   "source": [
    "cur.execute(\"\"\"PRAGMA table_info(products)\"\"\").fetchall()"
   ]
  },
  {
   "cell_type": "markdown",
   "metadata": {},
   "source": [
    ">### Quick Activity: Make executing the query -> dataframe into a function"
   ]
  },
  {
   "cell_type": "code",
   "execution_count": null,
   "metadata": {},
   "outputs": [],
   "source": [
    "def query_to_df(query,cursor=cur):\n",
    "    df = pd.DataFrame(cursor.execute(query).fetchall(), \n",
    "                      columns=[col[0] for col in cur.description])\n",
    "    return df"
   ]
  },
  {
   "cell_type": "code",
   "execution_count": null,
   "metadata": {},
   "outputs": [],
   "source": [
    "query_to_df(\"\"\"SELECT * FROM EMPLOYEES\"\"\")"
   ]
  },
  {
   "cell_type": "markdown",
   "metadata": {
    "colab_type": "text",
    "id": "nUDqEOV0mtcX"
   },
   "source": [
    "# FILTERING AND ORDERING"
   ]
  },
  {
   "cell_type": "markdown",
   "metadata": {
    "colab_type": "text",
    "id": "e2euaDSnxnTU"
   },
   "source": [
    "- `ORDER BY` - `DESC`/`ASC`\n",
    "- `LIMIT`\n",
    "- `BETWEEN`\n",
    "- `NULL`\n",
    "- `COUNT`\n",
    "- `GROUP BY`"
   ]
  },
  {
   "cell_type": "code",
   "execution_count": null,
   "metadata": {
    "colab": {
     "base_uri": "https://localhost:8080/",
     "height": 391
    },
    "colab_type": "code",
    "id": "6bJ0DqWWu4N4",
    "outputId": "1b17679c-0a96-4901-ce37-4503ec2c5708"
   },
   "outputs": [],
   "source": [
    "query = \"\"\"select * from products\n",
    "GROUP BY productLine \n",
    "ORDER BY quantityInStock DESC;\"\"\"\n",
    "query_to_df(query)\n",
    "# data = cur.execute(query).fetchall()\n",
    "# col_names =[col[0] for col in cur.description]\n",
    "# df = pd.DataFrame(data,\n",
    "#                   columns=col_names)\n",
    "# df"
   ]
  },
  {
   "cell_type": "markdown",
   "metadata": {
    "colab_type": "text",
    "id": "qMYHF9QcxnQ9"
   },
   "source": [
    "## GROUPING DATA WITH SQL"
   ]
  },
  {
   "cell_type": "markdown",
   "metadata": {
    "colab_type": "text",
    "id": "BE5u3TS2xnOO"
   },
   "source": [
    "- Like we do with Pandas, we can use GROUP BY statements in SQL and then apply **aggregate functions:**\n",
    "    - `COUNT`\n",
    "    - `MAX`\n",
    "    - `MIN`\n",
    "    - `SUM`\n",
    "    - `AVG`"
   ]
  },
  {
   "cell_type": "code",
   "execution_count": null,
   "metadata": {
    "colab": {
     "base_uri": "https://localhost:8080/",
     "height": 206
    },
    "colab_type": "code",
    "id": "N4wTms-Fyx5H",
    "outputId": "1b039561-fcce-4c6b-b262-f925f7f1b152"
   },
   "outputs": [],
   "source": [
    "query=\"\"\"SELECT city, COUNT(employeeNumber)\n",
    "FROM offices \n",
    "JOIN employees\n",
    "USING(officeCode)\n",
    "GROUP BY city\n",
    "ORDER BY count(employeeNumber) DESC;\"\"\"\n",
    "query_to_df(query)"
   ]
  },
  {
   "cell_type": "markdown",
   "metadata": {
    "colab_type": "text",
    "id": "AfcTQ-X8zSJk"
   },
   "source": [
    "## ALIASING"
   ]
  },
  {
   "cell_type": "markdown",
   "metadata": {
    "colab_type": "text",
    "id": "RrfkgwqezYXI"
   },
   "source": [
    "- can assign a temporary name to data being imported\n",
    "- Useful for `JOIN`,`GROUP BY`, and aggregates."
   ]
  },
  {
   "cell_type": "code",
   "execution_count": null,
   "metadata": {
    "colab": {
     "base_uri": "https://localhost:8080/",
     "height": 206
    },
    "colab_type": "code",
    "id": "SWBY7q2Bzm06",
    "outputId": "fc38f82c-a921-43ce-f631-2ca5fb5b13b8"
   },
   "outputs": [],
   "source": [
    "query=\"\"\"SELECT city, COUNT(employeeNumber) AS numEmployees\n",
    "               FROM offices\n",
    "               JOIN employees\n",
    "               USING(officeCode)\n",
    "               GROUP BY 1\n",
    "               ORDER BY numEmployees DESC;\"\"\"\n",
    "query_to_df(query)"
   ]
  },
  {
   "cell_type": "code",
   "execution_count": null,
   "metadata": {
    "colab": {
     "base_uri": "https://localhost:8080/",
     "height": 224
    },
    "colab_type": "code",
    "id": "Ym0NyF9Vz9zI",
    "outputId": "6ccdd26d-82f3-43d7-d380-a2a64fc5b2cc"
   },
   "outputs": [],
   "source": [
    "query_to_df(\"\"\"SELECT customerName,\n",
    "               COUNT(customerName) AS number_purchases,\n",
    "               MIN(amount) AS min_purchase,\n",
    "               MAX(amount) AS max_purchase,\n",
    "               AVG(amount) AS avg_purchase,\n",
    "               SUM(amount) AS total_spent\n",
    "               FROM customers\n",
    "               JOIN payments\n",
    "               USING(customerNumber)\n",
    "               GROUP BY 1\n",
    "               ORDER BY SUM(amount) DESC;\"\"\")"
   ]
  },
  {
   "cell_type": "markdown",
   "metadata": {
    "colab_type": "text",
    "id": "HgHPDsz10TNC"
   },
   "source": [
    "## The `WHERE` Clause"
   ]
  },
  {
   "cell_type": "markdown",
   "metadata": {
    "colab_type": "text",
    "id": "HgHPDsz10TNC"
   },
   "source": [
    "In general, the `WHERE` clause filters query results by some condition. As you are starting to see, you can also combine multiple conditions.\n",
    "\n",
    "- \n",
    "```python\n",
    "cur.execute(\"\"\"SELECT * FROM customers WHERE city = 'Boston' OR city = 'Madrid';\"\"\")\n",
    "df = pd.DataFrame(cur.fetchall())\n",
    "df.columns = [x[0] for x in cur.description]\n",
    "df\n",
    "```\n",
    "\n",
    "\n",
    "- To refine your searches, you can add `ORDER BY` and `LIMIT` clauses. \n",
    "    - The order by clause allows you to sort the results by a particular feature.\n",
    "- Finally, the limit clause is typically the last argument in a SQL query and simply limits the output to a set number of results."
   ]
  },
  {
   "cell_type": "code",
   "execution_count": null,
   "metadata": {
    "colab": {
     "base_uri": "https://localhost:8080/",
     "height": 445
    },
    "colab_type": "code",
    "id": "rUthL5do0S-o",
    "outputId": "6dbad7c1-5e79-47d7-e437-af5fa37dfe52"
   },
   "outputs": [],
   "source": [
    "query_to_df(\"\"\"SELECT * FROM customers WHERE city = 'Boston' OR city = 'Madrid';\"\"\")"
   ]
  },
  {
   "cell_type": "markdown",
   "metadata": {
    "colab_type": "text",
    "id": "tnY9tTDV0GnL"
   },
   "source": [
    "## The `HAVING` clause"
   ]
  },
  {
   "cell_type": "markdown",
   "metadata": {
    "colab_type": "text",
    "id": "p6q7n8Zu0MRG"
   },
   "source": [
    " The `HAVING` clause works similarly to the `WHERE` clause, except it is used to filter data selections on conditions **after** the `GROUP BY` clause."
   ]
  },
  {
   "cell_type": "code",
   "execution_count": null,
   "metadata": {
    "colab": {
     "base_uri": "https://localhost:8080/",
     "height": 129
    },
    "colab_type": "code",
    "id": "gTiJPai00hVg",
    "outputId": "f9f3a38b-980b-4ec2-cbe0-21f0e6777e2b"
   },
   "outputs": [],
   "source": [
    "query_to_df(\"\"\"SELECT city, COUNT(customerNumber) AS number_customers\n",
    "               FROM customers\n",
    "               GROUP BY 1\n",
    "               HAVING COUNT(customerNumber)>=5;\"\"\")"
   ]
  },
  {
   "cell_type": "markdown",
   "metadata": {
    "colab_type": "text",
    "id": "YpXeKsIw0MAY"
   },
   "source": [
    "## Combining `WHERE` and `HAVING`"
   ]
  },
  {
   "cell_type": "markdown",
   "metadata": {
    "colab_type": "text",
    "id": "OVskRfdz0mOq"
   },
   "source": [
    "We can also use the `WHERE` and `HAVING` clauses in conjunction with each other for more complex rules.\n",
    "\n",
    "- For example, let's say we want a list of customers who have made at least 3 purchases of over 50K each."
   ]
  },
  {
   "cell_type": "code",
   "execution_count": null,
   "metadata": {
    "colab": {
     "base_uri": "https://localhost:8080/",
     "height": 224
    },
    "colab_type": "code",
    "id": "8ylFi-m30sWy",
    "outputId": "196a25f2-0248-4c0b-f761-c5d8bcfc37c1"
   },
   "outputs": [],
   "source": [
    "query_to_df(\"\"\"SELECT customerName,\n",
    "               COUNT(amount) AS number_purchases_over_50K\n",
    "               FROM customers\n",
    "               JOIN payments\n",
    "               USING(customerNumber)\n",
    "               WHERE amount >= 50000\n",
    "               GROUP BY 1\n",
    "               HAVING count(amount) >= 3\n",
    "               ORDER BY count(amount) DESC;\"\"\")"
   ]
  },
  {
   "cell_type": "code",
   "execution_count": null,
   "metadata": {},
   "outputs": [],
   "source": [
    "query_to_df(\"\"\"SELECT customerName,\n",
    "               COUNT(amount) AS number_purchases_over_50K\n",
    "               FROM customers\n",
    "               JOIN payments\n",
    "               USING(customerNumber)\n",
    "               WHERE amount >= 50000\n",
    "               GROUP BY 1\n",
    "               HAVING number_purchases_over_50K >= 3\n",
    "               ORDER BY number_purchases_over_50K DESC;\"\"\")\n"
   ]
  },
  {
   "cell_type": "markdown",
   "metadata": {},
   "source": [
    "# JOINS"
   ]
  },
  {
   "cell_type": "markdown",
   "metadata": {
    "colab_type": "text",
    "id": "uuXevUCK2ICL"
   },
   "source": [
    "### TYPES OF JOINS"
   ]
  },
  {
   "cell_type": "markdown",
   "metadata": {
    "colab_type": "text",
    "id": "uuXevUCK2ICL"
   },
   "source": [
    "- Joins may be:\n",
    "    - INNER (default)\n",
    "    - OUTER\n",
    "    - LEFT \n",
    "    - RIGHT"
   ]
  },
  {
   "cell_type": "markdown",
   "metadata": {
    "colab_type": "text",
    "id": "eA_BV7O610lu"
   },
   "source": [
    "<img src=\"https://raw.githubusercontent.com/learn-co-students/dsc-join-statements-online-ds-sp-000/master/images/venn.png\">\n"
   ]
  },
  {
   "cell_type": "markdown",
   "metadata": {
    "colab_type": "text",
    "id": "zdr7sVmqsIsA"
   },
   "source": [
    "## `JOIN` Statements"
   ]
  },
  {
   "cell_type": "markdown",
   "metadata": {
    "colab_type": "text",
    "id": "NdxoMzIF2X-R"
   },
   "source": [
    "### Primary vs Foreign Keys\n",
    "- primary key:\n",
    "- forgein key:\n"
   ]
  },
  {
   "cell_type": "markdown",
   "metadata": {
    "colab_type": "text",
    "id": "y1t0dZWq1dty"
   },
   "source": [
    "<img src=\"https://raw.githubusercontent.com/learn-co-students/dsc-sql-introduction-online-ds-sp-000/master/images/Database-Schema.png\">"
   ]
  },
  {
   "cell_type": "markdown",
   "metadata": {
    "colab_type": "text",
    "id": "Yv85zIFa1-FH"
   },
   "source": [
    "### The `USING` clause"
   ]
  },
  {
   "cell_type": "markdown",
   "metadata": {
    "colab_type": "text",
    "id": "Yv85zIFa1-FH"
   },
   "source": [
    "- If the column name is identical,you can use  is the `USING` clause. \n",
    "- Rather then saying on `tableA.column = tableB.column` we can simply say `using(column)`. \n",
    "- Only works if the column is **identically named** for both tables."
   ]
  },
  {
   "cell_type": "markdown",
   "metadata": {
    "colab_type": "text",
    "id": "1FWka0fg1i9k"
   },
   "source": [
    "#### Task: Displaying product details along with order details\n",
    "\n",
    "Let's say you need to generate some report that includes details about products from orders. To do that, we would need to take data from multiple tables in a single statement. "
   ]
  },
  {
   "cell_type": "code",
   "execution_count": null,
   "metadata": {
    "colab": {
     "base_uri": "https://localhost:8080/",
     "height": 435
    },
    "colab_type": "code",
    "id": "3Ix8WTUB1oyW",
    "outputId": "c81fad03-c600-4300-b340-810220cbfe13"
   },
   "outputs": [],
   "source": [
    "query_to_df(\"\"\"SELECT * \n",
    "               FROM orderdetails\n",
    "               JOIN products\n",
    "               ON orderdetails.productCode = products.productCode\n",
    "               LIMIT 10;\n",
    "               \"\"\")"
   ]
  },
  {
   "cell_type": "markdown",
   "metadata": {},
   "source": [
    "## Types of Relationships Between Tables"
   ]
  },
  {
   "cell_type": "markdown",
   "metadata": {
    "colab_type": "text",
    "id": "82rll9y02X8G"
   },
   "source": [
    "#### One-to-One, One-to-many, many-to-many Joins\n",
    "\n",
    "\n",
    "- **Let's say we have databases A and B**\n",
    "\n",
    "\n",
    "- **One-to-One joins:**\n",
    "    - There is only 1 entry in database B that aligns with each individual entry in database A\n",
    "    - e.g. A person and their social security number.\n",
    "    \n",
    "    \n",
    "- **One-to-Many join:**\n",
    "    - There are multiple entries in database B that match the entry in database A\n",
    "    - e.g. Joining an order number from db A with the individual products in db B.\n",
    "    \n",
    "    \n",
    "- **Many-to-many joins:**\n",
    "    - There are multiple entries in database A that match multiple entries in database B.\n",
    "    - e.g. A = classes at a college, B = students."
   ]
  },
  {
   "cell_type": "markdown",
   "metadata": {},
   "source": [
    "### One-to-One"
   ]
  },
  {
   "cell_type": "markdown",
   "metadata": {},
   "source": [
    "- There is only 1 entry in database B that aligns with each individual entry in database A\n",
    "- e.g. A person and their social security number."
   ]
  },
  {
   "cell_type": "code",
   "execution_count": null,
   "metadata": {},
   "outputs": [],
   "source": [
    "## Preview full offices table\n",
    "query_to_df(\"Select * FROM offices;\")"
   ]
  },
  {
   "cell_type": "code",
   "execution_count": null,
   "metadata": {
    "scrolled": true
   },
   "outputs": [],
   "source": [
    "## Preview full employees table\n",
    "query_to_df(\"Select * FROM employees;\")"
   ]
  },
  {
   "cell_type": "code",
   "execution_count": null,
   "metadata": {},
   "outputs": [],
   "source": [
    "## One to one join\n",
    "query_to_df('SELECT * FROM employees JOIN offices USING(officeCode);')"
   ]
  },
  {
   "cell_type": "markdown",
   "metadata": {},
   "source": [
    "### One-to-Many"
   ]
  },
  {
   "cell_type": "markdown",
   "metadata": {},
   "source": [
    "- There are multiple entries in database B that match the entry in database A\n",
    "- e.g. Joining an order number from db A with the individual products in db B."
   ]
  },
  {
   "cell_type": "code",
   "execution_count": null,
   "metadata": {},
   "outputs": [],
   "source": [
    "## preview table 1 \n",
    "query_to_df(\"SELECT * FROM products;\")"
   ]
  },
  {
   "cell_type": "code",
   "execution_count": null,
   "metadata": {},
   "outputs": [],
   "source": [
    "## preview table 2\n",
    "query_to_df(\"SELECT * FROM productlines;\")"
   ]
  },
  {
   "cell_type": "code",
   "execution_count": null,
   "metadata": {},
   "outputs": [],
   "source": [
    "## One-to-Many Join\n",
    "query_to_df(\"\"\"SELECT * \n",
    "               FROM products\n",
    "               JOIN productlines\n",
    "               USING(productLine);\"\"\")"
   ]
  },
  {
   "cell_type": "markdown",
   "metadata": {},
   "source": [
    "### Many-to-Many"
   ]
  },
  {
   "cell_type": "markdown",
   "metadata": {},
   "source": [
    "- There are multiple entries in database A that match multiple entries in database B.\n",
    "- e.g. A = classes at a college, B = students."
   ]
  },
  {
   "cell_type": "code",
   "execution_count": null,
   "metadata": {},
   "outputs": [],
   "source": [
    "query_to_df(\"\"\"SELECT * FROM offices\n",
    "                        JOIN customers\n",
    "                        USING(state);\"\"\")"
   ]
  },
  {
   "cell_type": "markdown",
   "metadata": {
    "colab_type": "text",
    "id": "CzPLMQO92X3n"
   },
   "source": [
    "## SQL Subqueries"
   ]
  },
  {
   "cell_type": "markdown",
   "metadata": {
    "colab_type": "text",
    "id": "aw3lRXg0sbD0"
   },
   "source": [
    "```python\n",
    "cur.execute(\"\"\"SELECT lastName, firstName, officeCode\n",
    "               FROM employees\n",
    "               WHERE officeCode IN (SELECT officeCode\n",
    "                                    FROM offices \n",
    "                                    WHERE country = \"USA\");\n",
    "                                    \"\"\")\n",
    "df = pd.DataFrame(cur.fetchall())\n",
    "df.columns = [x[0] for x in cur.description]\n",
    "df\n",
    "```"
   ]
  },
  {
   "cell_type": "markdown",
   "metadata": {},
   "source": [
    "# Pandas + SQL"
   ]
  },
  {
   "cell_type": "markdown",
   "metadata": {
    "colab_type": "text",
    "id": "aw3lRXg0sbD0"
   },
   "source": [
    "## Using SQL-like queries in Pandas - `df.query()`"
   ]
  },
  {
   "cell_type": "markdown",
   "metadata": {
    "colab_type": "text",
    "id": "9LBc6voh3Sgd"
   },
   "source": [
    "- Pandas DataFrames have a method called `.query()`\n",
    "- This allows us to use SQL-like commands to reference data.\n",
    "```python\n",
    "## Normal Pandas Syntax\n",
    "foo_df = bar_df.loc[bar_df['Col_1']>bar_df['Col_2']]\n",
    "```\n",
    "\n",
    "```python\n",
    "## Using .query()\n",
    "foo_df = bar_df.query(\"Col_1 > Col_2\")\n",
    "```\n",
    "- How to use:\n",
    "    - Enter the querty as a single string, using just column names to reference data.\n",
    "    - To use and/or statements, use `&` and `|`, respectively\n",
    "\n",
    "```python\n",
    "foo_df = bar_df.query(\"Col_1 > Col_2 & Col_2 <= Col_3\")\n",
    "```"
   ]
  },
  {
   "cell_type": "markdown",
   "metadata": {
    "colab_type": "text",
    "id": "HbVTLwFE3SeM"
   },
   "source": [
    "## Using SQL syntax with `pandasql`\n"
   ]
  },
  {
   "cell_type": "markdown",
   "metadata": {
    "colab_type": "text",
    "id": "P0TSTfqX4jY3"
   },
   "source": [
    "- There is a library is called [pandasql](https://pypi.org/project/pandasql/) that allows for sql queries with pandas\n",
    "\n",
    "We can install `pandasql` using the bash command `pip install pandasql`."
   ]
  },
  {
   "cell_type": "markdown",
   "metadata": {
    "colab_type": "text",
    "id": "P0TSTfqX4jY3"
   },
   "source": [
    "### Importing pandasql\n",
    "\n",
    "- In order to use `pandasql`, we need to start by importing a `sqldf` object from `pandasql`\n",
    "- You must also already have loaded in all dataframes that you wish to query\n",
    "```python\n",
    "from pandasql import sqldf\n",
    "pysqldf = lambda q: sqldf(q, globals())\n",
    "```\n",
    "\n",
    "### Writing Queries\n",
    "```python\n",
    "q = \"\"\"SELECT\n",
    "        m.date, m.beef, b.births\n",
    "     FROM\n",
    "        meats m\n",
    "     INNER JOIN\n",
    "        births b\n",
    "           ON m.date = b.date;\"\"\"\n",
    "\n",
    "results = pysqldf(q)\n",
    "\n",
    "```"
   ]
  },
  {
   "cell_type": "markdown",
   "metadata": {
    "colab_type": "text",
    "id": "PeGEV-D-5QJG"
   },
   "source": [
    "## DATABASE ADMIN 101"
   ]
  },
  {
   "cell_type": "markdown",
   "metadata": {
    "colab_type": "text",
    "id": "5Jpcl3Sv3Sb3"
   },
   "source": [
    "### Creating Tables/SQL Data Types"
   ]
  },
  {
   "cell_type": "markdown",
   "metadata": {},
   "source": [
    "- `CREATE TABLE IF NOT EXISTS table_name`\n",
    "    -  Must include (col_name, datatype, and if its the key)\n",
    "```PYTHON\n",
    "  cur.execute(\"\"\"CREATE TABLE IF NOT EXISTS cats (\n",
    "    id INTEGER PRIMARY KEY,\n",
    "    name TEXT,\n",
    "    age INTEGER,\n",
    "    breed TEXT)\n",
    "    \"\"\")  \n",
    "    ```\n",
    "    "
   ]
  },
  {
   "cell_type": "markdown",
   "metadata": {
    "colab_type": "text",
    "id": "5Jpcl3Sv3Sb3"
   },
   "source": [
    "- Data types in SQLite3:\n",
    "    - https://www.sqlite.org/datatype3.html\n",
    "    \n",
    "- Data types:\n",
    "    - TEXT\n",
    "    - INTEGER\n",
    "    - REAL\n",
    "    - BLOB\n",
    "    - NULL"
   ]
  },
  {
   "cell_type": "markdown",
   "metadata": {},
   "source": [
    "#### Dropping a Table\n",
    "- `DROP TABLE table_name`\n",
    "    - `DROP TABLE IF EXISTS table_name`\n",
    "    \n",
    "    "
   ]
  },
  {
   "cell_type": "markdown",
   "metadata": {},
   "source": [
    "#### Adding values to a table\n",
    "- `INSERT INTO table_name`\n",
    "    - list the columns to fill in first and then the VALUES()   \n",
    "```python\n",
    "cur.execute('''INSERT INTO cats (name, age, breed) \n",
    "                  VALUES ('Maru', 3, 'Scottish Fold');\n",
    "            ''')\n",
    "```\n",
    "\n",
    "- To add multiple:\n",
    "```python\n",
    "cur.execute('''INSERT INTO cats (name, age, breed) \n",
    "            VALUES (?, ?, ?);\n",
    "      ''',(dict_cats))\n",
    "```\n",
    "- `UPDATE`\n",
    "\n",
    "```python\n",
    "for dct in contacts:\n",
    "    fname = dct['firstName']\n",
    "    lname = dct['lastName']\n",
    "    role = dct['role']\n",
    "    phone = dct['telephone ']\n",
    "    street = dct['street']\n",
    "    city = dct['city']\n",
    "    state = dct['state']\n",
    "    z = dct['zipcode ']\n",
    "\n",
    "    cur.execute('''INSERT INTO contactInfo (firstname, lastname, role, telephone, street, city, state, zipcode)\n",
    "VALUES (?,?,?,?,?,?,?,?)''', (fname, lname, role, phone, street, city, state, z))\n",
    "```"
   ]
  },
  {
   "cell_type": "code",
   "execution_count": null,
   "metadata": {
    "code_folding": [],
    "colab": {},
    "colab_type": "code",
    "id": "Sggh1NAW5PXU"
   },
   "outputs": [],
   "source": [
    "# cur.execute(\"\"\"CREATE TABLE cats (\n",
    "#     id INTEGER PRIMARY KEY,\n",
    "#     name TEXT,\n",
    "#     age INTEGER,\n",
    "#     breed TEXT)\n",
    "#     \"\"\")"
   ]
  },
  {
   "cell_type": "markdown",
   "metadata": {
    "colab": {},
    "colab_type": "code",
    "id": "2yvZSEVX50rS"
   },
   "source": [
    "# 🏝 Breakout Group Activity:  [Survive on sql-island](https://sql-island.informatik.uni-kl.de/)\n",
    "\n",
    "- Survive on sql-island\n",
    "    - https://sql-island.informatik.uni-kl.de/\n",
    "- 3 min walk through together before breakout rooms"
   ]
  },
  {
   "cell_type": "code",
   "execution_count": null,
   "metadata": {},
   "outputs": [],
   "source": []
  }
 ],
 "metadata": {
  "colab": {
   "collapsed_sections": [],
   "include_colab_link": true,
   "name": "section_09_SQL_PT.ipynb",
   "provenance": []
  },
  "kernelspec": {
   "display_name": "learn-env-p38",
   "language": "python",
   "name": "learn-env-new"
  },
  "language_info": {
   "codemirror_mode": {
    "name": "ipython",
    "version": 3
   },
   "file_extension": ".py",
   "mimetype": "text/x-python",
   "name": "python",
   "nbconvert_exporter": "python",
   "pygments_lexer": "ipython3",
   "version": "3.8.5"
  },
  "toc": {
   "base_numbering": 1,
   "nav_menu": {},
   "number_sections": false,
   "sideBar": true,
   "skip_h1_title": false,
   "title_cell": "Table of Contents",
   "title_sidebar": "Contents",
   "toc_cell": false,
   "toc_position": {
    "height": "calc(100% - 180px)",
    "left": "10px",
    "top": "150px",
    "width": "256px"
   },
   "toc_section_display": true,
   "toc_window_display": true
  },
  "varInspector": {
   "cols": {
    "lenName": 16,
    "lenType": 16,
    "lenVar": 40
   },
   "kernels_config": {
    "python": {
     "delete_cmd_postfix": "",
     "delete_cmd_prefix": "del ",
     "library": "var_list.py",
     "varRefreshCmd": "print(var_dic_list())"
    },
    "r": {
     "delete_cmd_postfix": ") ",
     "delete_cmd_prefix": "rm(",
     "library": "var_list.r",
     "varRefreshCmd": "cat(var_dic_list()) "
    }
   },
   "types_to_exclude": [
    "module",
    "function",
    "builtin_function_or_method",
    "instance",
    "_Feature"
   ],
   "window_display": false
  }
 },
 "nbformat": 4,
 "nbformat_minor": 1
}
