{
 "cells": [
  {
   "cell_type": "markdown",
   "metadata": {},
   "source": [
    "# Topic 06:  Data Visualizations"
   ]
  },
  {
   "cell_type": "markdown",
   "metadata": {},
   "source": [
    "- onl01-dtsc-ft-022221\n",
    "- 03/04/21\n"
   ]
  },
  {
   "cell_type": "markdown",
   "metadata": {
    "colab_type": "text",
    "id": "m138QfV1Sw7p"
   },
   "source": [
    "## Learning Objectives"
   ]
  },
  {
   "cell_type": "markdown",
   "metadata": {
    "colab_type": "text",
    "id": "m138QfV1Sw7p"
   },
   "source": [
    "- Quick Intro to Object-Oriented-Programming\n",
    "- Learn about the anatomy of a Matplotlib figure. \n",
    "- Learn about how other packages use Matplotlib\n",
    " - Discuss and demonstrate the 2 different syntaxes/interfaces of Matplotlib\n",
    "\n",
    "- Activity: Remaining portion of Topic 05's Data Cleaning Project with Superheroes"
   ]
  },
  {
   "cell_type": "markdown",
   "metadata": {},
   "source": [
    "## Questions/Comments?"
   ]
  },
  {
   "cell_type": "markdown",
   "metadata": {},
   "source": [
    "### Un-Answered Topic 05 Questions"
   ]
  },
  {
   "cell_type": "markdown",
   "metadata": {},
   "source": [
    "- [ ] The data cleaning mini project's data set (superheroes) had a decent amount of negative values for heights and weights that it appears were not taken out in the solution. I replaced these with medians, and got really weird displots for the gender-height-weight charts, although the regular hist() plots were less crazy looking. \n",
    "    - Can you go over displots a little more, and why we might use them instead of the other ways to do plots?\n",
    "    \n",
    "    \n",
    "- [ ] When should we use map(), apply(), mapapply()? I'm having a hard time telling how they're different.\n",
    "\n",
    "\n",
    "- [ ] One of the solutions in the more data mapping lab included the following code to print the mean, median, and stddev of the age column. \n",
    "    - How was it possible to run functions from a list of strings representing the function names and apply()?\n",
    "```python\n",
    "age_na_mean = df['Age'].fillna(value=df['Age'].mean())\n",
    "print(age_na_mean.apply(['mean', 'median', 'std']))\n",
    "```\n",
    "\n",
    "    \n",
    "\n",
    "- [ ] Can you explain stack() and unstack a bit more? I ran through the lab examples but didn't really get what was happening\n"
   ]
  },
  {
   "cell_type": "markdown",
   "metadata": {},
   "source": [
    "### New Topic 06 Questions"
   ]
  },
  {
   "cell_type": "markdown",
   "metadata": {},
   "source": [
    "- Subplots with Enumeration Lab:\n",
    "    - [ ] I’m confused as to how the enumeration function works with the subplots on the Subplots and Enumeration - Lab. Shouldn’t value 1 be country name and value 2 be year? Why is value 2 population and why is the for loop not iterating through year or the rest of the information?\n",
    "    - [ ] Also related to this why don’t we specify the ‘Year’ and ‘Value’ as columns of the population variable when plotting as population[‘Year’] and population[‘Value’]?\n",
    "    https://github.com/learn-co-curriculum/dsc-subplots-and-enumeration-lab/tree/solution\n"
   ]
  },
  {
   "cell_type": "markdown",
   "metadata": {},
   "source": [
    "___"
   ]
  },
  {
   "cell_type": "markdown",
   "metadata": {},
   "source": [
    "# What does it mean to be 'Object-Oriented'?"
   ]
  },
  {
   "cell_type": "markdown",
   "metadata": {},
   "source": [
    "> ### \"Everything is an object.\"\n",
    "- some Python sensei"
   ]
  },
  {
   "cell_type": "markdown",
   "metadata": {},
   "source": [
    "### `intro_object_oriented_programming.ipynb`"
   ]
  },
  {
   "cell_type": "markdown",
   "metadata": {},
   "source": [
    "### OOP Vocabulary "
   ]
  },
  {
   "cell_type": "markdown",
   "metadata": {},
   "source": [
    "- \"Object\" is an instance of a template class that currently exists in memory\n",
    "- \"Calling\" a function:\n",
    "    - When we use ( ) with a function we are calling it.\n",
    "\n",
    "- **Function:**  Codes that manipulates data in a useful way. \n",
    "\n",
    "<!---\n",
    "- Parameters: the defined data/varaibles that are passed accepted by a function\n",
    "- Argument: the actual variable/value passed in for a parameter\n",
    "- Positional Argument:\n",
    "    - The first arguments required\n",
    "    - their id is determined by their order\n",
    "- Keyword/default Arguments:\n",
    "    - arugments that have a defined default value\n",
    "    - must come after positional arguments\n",
    "   ---> \n",
    "    \n",
    "- **Class:** Template/blue print.\n",
    "- Instance: Ab object built from the class blueprint\n",
    "- Attribute: A variable stored inside an object. \n",
    "- Method: Functions are stored inside an object."
   ]
  },
  {
   "cell_type": "markdown",
   "metadata": {},
   "source": [
    "# Intro to Matplotlib"
   ]
  },
  {
   "cell_type": "markdown",
   "metadata": {
    "colab_type": "text",
    "id": "iijmn9qbkE9t"
   },
   "source": [
    "- Matplotlib is the backbone of plotting in python and used by pandas,seaborn,etc.\n",
    "    - [Matplotlib Example Gallery](https://matplotlib.org/gallery/index.html#examples-index) \n",
    "    - [Seaborn Example Gallery](https://seaborn.pydata.org/examples/index.html)\n",
    "    - ['Pandas Visualization docs']('https://pandas.pydata.org/pandas-docs/stable/user_guide/visualization.html')\n",
    "\n",
    "\n",
    "\n",
    "-  *Matplotlib is powerful but can be a bit confusing at times because of its 2 sets of commands:*\n",
    "    - the matplotlib.pyplot functions (`plt.bar()`,`plt.title()`)\n",
    "    - the object_oriented methods (`ax.bar()`,`ax.set_title()`)\n",
    "    \n",
    "    \n",
    "    \n",
    "- The 2 syntaxes can be confusing at first and cause problems & odd results when mixed together.\n",
    "    - Learn about some of the problems when mixing types.\n",
    "    - Example: see how plt.title()/plt.xlabel(),etc. can behave strangely in subplots.\n",
    " "
   ]
  },
  {
   "cell_type": "markdown",
   "metadata": {
    "colab_type": "text",
    "id": "iijmn9qbkE9t"
   },
   "source": [
    "### References"
   ]
  },
  {
   "cell_type": "markdown",
   "metadata": {
    "colab_type": "text",
    "id": "iijmn9qbkE9t"
   },
   "source": [
    "#### Blog Posts"
   ]
  },
  {
   "cell_type": "markdown",
   "metadata": {
    "colab_type": "text",
    "id": "iijmn9qbkE9t"
   },
   "source": [
    "- **Bookmark this article, its the best explanation of how matploblib'S 2 interfaces work:**\n",
    "> [\"Artist\" in Matplotlib - something I wanted to know before spending tremendous hours on googling how-tos.](https://dev.to/skotaro/artist-in-matplotlib---something-i-wanted-to-know-before-spending-tremendous-hours-on-googling-how-tos--31oo)<br>\n",
    "\n",
    "- [My Blog Post on Making Customized Figures in seaborn](https://jirvingphd.github.io/harnessing_seaborn_subplots_for_eda)\n",
    "    - This covers some concepts we didn't have time to cover, like ticklabel formatters.\n",
    "    \n",
    "#### **Matplotlib Offical Documentation**"
   ]
  },
  {
   "cell_type": "markdown",
   "metadata": {
    "colab_type": "text",
    "id": "iijmn9qbkE9t"
   },
   "source": [
    "- [Markers](https://matplotlib.org/3.1.1/api/markers_api.html)\n",
    "- [Colors](https://matplotlib.org/3.1.0/gallery/color/named_colors.html )\n",
    "- [Text](https://matplotlib.org/3.1.0/tutorials/text/text_intro.html )\n",
    "- [Text Properties](https://matplotlib.org/3.1.1/tutorials/text/text_props.html)"
   ]
  },
  {
   "cell_type": "markdown",
   "metadata": {
    "colab_type": "text",
    "id": "tAGYB195T6aR"
   },
   "source": [
    "## Matplotlib Anatomy / Structure"
   ]
  },
  {
   "cell_type": "markdown",
   "metadata": {
    "colab_type": "text",
    "id": "tAGYB195T6aR"
   },
   "source": [
    "\n",
    "- Matplotlib Figures are composed of 3 different objects:\n",
    "    - `Figure` is the largest bucket and contains everything else. It is like a picture frame without any actual images in it.\n",
    "  - `Axes` are the actual plot / image inside of the Figure / frame. \n",
    "        - this is the same `ax` as in `fig, ax = plt.subplots()` and that is returned when you create a Pandas or Seaborn figure.\n",
    "        - There is an 'Axes` for each subplot in the Figure\n",
    "        - `Axes` contain information about the titles, labels, grid,background, they also contain an. See the figure below for the contents of `Axes`\n",
    "\n",
    "<center><img src=\"https://raw.githubusercontent.com/jirvingphd/fsds_100719_cohort_notes/master/images/matplotlib_anatomy.png\" width=400></center>\n"
   ]
  },
  {
   "cell_type": "markdown",
   "metadata": {
    "colab_type": "text",
    "id": "tAGYB195T6aR"
   },
   "source": [
    "        \n",
    "- Inside Axes there is an `Axis` which is further divided into an `Axis.xaxis` and an `Axis.yaxis` that contain the ticks and the tick lables.\n",
    "    <center><img src=\"https://raw.githubusercontent.com/jirvingphd/fsds_100719_cohort_notes/master/images/matplotlib_Axes_layout2.png\" width=500></center>\n",
    "  "
   ]
  },
  {
   "cell_type": "markdown",
   "metadata": {},
   "source": [
    "### Matplotlib Fig, ax"
   ]
  },
  {
   "cell_type": "code",
   "execution_count": 165,
   "metadata": {},
   "outputs": [
    {
     "name": "stdout",
     "output_type": "stream",
     "text": [
      "['Solarize_Light2', '_classic_test_patch', 'bmh', 'classic', 'dark_background', 'fast', 'fivethirtyeight', 'ggplot', 'grayscale', 'seaborn', 'seaborn-bright', 'seaborn-colorblind', 'seaborn-dark', 'seaborn-dark-palette', 'seaborn-darkgrid', 'seaborn-deep', 'seaborn-muted', 'seaborn-notebook', 'seaborn-paper', 'seaborn-pastel', 'seaborn-poster', 'seaborn-talk', 'seaborn-ticks', 'seaborn-white', 'seaborn-whitegrid', 'tableau-colorblind10']\n"
     ]
    }
   ],
   "source": [
    "## SETTING MATPLOTLIB STYLE AND DEFAULT FIGSIZE\n",
    "import matplotlib.pyplot as plt\n",
    "import matplotlib as mpl\n",
    "\n",
    "\n",
    "## Set the default style and figsize\n",
    "print(plt.style.available)"
   ]
  },
  {
   "cell_type": "code",
   "execution_count": 166,
   "metadata": {},
   "outputs": [
    {
     "data": {
      "text/plain": [
       "[6.0, 4.0]"
      ]
     },
     "execution_count": 166,
     "metadata": {},
     "output_type": "execute_result"
    }
   ],
   "source": [
    "plt.rcParams['figure.figsize']"
   ]
  },
  {
   "cell_type": "code",
   "execution_count": 167,
   "metadata": {},
   "outputs": [],
   "source": [
    "plt.style.use('fivethirtyeight')\n",
    "plt.rcParams['figure.figsize'] = [12,8]"
   ]
  },
  {
   "cell_type": "code",
   "execution_count": 168,
   "metadata": {},
   "outputs": [
    {
     "data": {
      "image/png": "[encoded data removed]",
      "text/plain": [
       "<Figure size 864x576 with 1 Axes>"
      ]
     },
     "metadata": {},
     "output_type": "display_data"
    }
   ],
   "source": [
    "## Make a fig and an ax\n",
    "fig,ax = plt.subplots()"
   ]
  },
  {
   "cell_type": "code",
   "execution_count": 169,
   "metadata": {},
   "outputs": [],
   "source": [
    "# fig"
   ]
  },
  {
   "cell_type": "code",
   "execution_count": 170,
   "metadata": {},
   "outputs": [
    {
     "data": {
      "text/plain": [
       "<AxesSubplot:>"
      ]
     },
     "execution_count": 170,
     "metadata": {},
     "output_type": "execute_result"
    }
   ],
   "source": [
    "## What does the ax look like?\n",
    "ax"
   ]
  },
  {
   "cell_type": "code",
   "execution_count": 171,
   "metadata": {},
   "outputs": [
    {
     "data": {
      "image/png": "[encoded data removed]",
      "text/plain": [
       "<Figure size 864x576 with 1 Axes>"
      ]
     },
     "execution_count": 171,
     "metadata": {},
     "output_type": "execute_result"
    }
   ],
   "source": [
    "## what about the fig?\n",
    "fig"
   ]
  },
  {
   "cell_type": "markdown",
   "metadata": {},
   "source": [
    "# Previously On Topic 05: Project - Data Cleaning"
   ]
  },
  {
   "cell_type": "markdown",
   "metadata": {},
   "source": [
    "> Official Solution: https://github.com/learn-co-curriculum/dsc-data-cleaning-project/tree/solution"
   ]
  },
  {
   "cell_type": "markdown",
   "metadata": {},
   "source": [
    "## Introduction\n",
    "In this lab, we'll make use of everything we've learned about pandas, data cleaning, and exploratory data analysis. In order to complete this lab, you'll have to import, clean, combine, reshape, and visualize data to answer questions provided, as well as your own questions!\n",
    "\n",
    "## Objectives\n",
    "You will be able to:\n",
    "- Use different types of joins to merge DataFrames \n",
    "- Identify missing values in a dataframe using built-in methods \n",
    "- Evaluate and execute the best strategy for dealing with missing, duplicate, and erroneous values for a given dataset \n",
    "- Inspect data for duplicates or extraneous values and remove them \n",
    "\n",
    "\n",
    "## The dataset\n",
    "In this lab, we'll work with the comprehensive [Super Heroes Dataset](https://www.kaggle.com/claudiodavi/superhero-set/data), which can be found on Kaggle!\n",
    "\n",
    "\n",
    "## Getting Started\n",
    "\n",
    "In the cell below:\n",
    "\n",
    "* Import and alias pandas as `pd`\n",
    "* Import and alias numpy as `np`\n",
    "* Import and alias seaborn as `sns`\n",
    "* Import and alias matplotlib.pyplot as `plt`\n",
    "* Set matplotlib visualizations to display inline in the notebook"
   ]
  },
  {
   "cell_type": "code",
   "execution_count": 172,
   "metadata": {},
   "outputs": [],
   "source": [
    "import pandas as pd\n",
    "import numpy as np\n",
    "import seaborn as sns\n",
    "# import matplotlib.pyplot as plt\n",
    "%matplotlib inline"
   ]
  },
  {
   "cell_type": "markdown",
   "metadata": {},
   "source": [
    "For this lab, our dataset is split among two different sources -- `'heroes_information.csv'` and `'super_hero_powers.csv'`.\n",
    "\n",
    "Use pandas to read in each file and store them in DataFrames in the appropriate variables below. Then, display the `.head()` of each to ensure that everything loaded correctly.  "
   ]
  },
  {
   "cell_type": "code",
   "execution_count": 173,
   "metadata": {},
   "outputs": [],
   "source": [
    "heroes_url ='https://raw.githubusercontent.com/flatiron-school/Online-DS-FT-022221-Cohort-Notes/master/Phase_1/topic_05_data_cleaning_in_pandas/labs_from_class/dsc-data-cleaning-project-master/heroes_information.csv'\n",
    "heroes_df = pd.read_csv(heroes_url)\n",
    "\n",
    "powers_url = 'https://raw.githubusercontent.com/flatiron-school/Online-DS-FT-022221-Cohort-Notes/master/Phase_1/topic_05_data_cleaning_in_pandas/labs_from_class/dsc-data-cleaning-project-master/super_hero_powers.csv'\n",
    "powers_df = pd.read_csv(powers_url)\n",
    "# display(heroes_df.head(), powers_df.head())"
   ]
  },
  {
   "cell_type": "markdown",
   "metadata": {},
   "source": [
    "It looks as if the heroes information dataset contained an index column.  We did not specify that this dataset contained an index column, because we hadn't seen it yet. Pandas does not know how to tell apart an index column from any other data, so it stored it with the column name `Unnamed: 0`.  \n",
    "\n",
    "Our DataFrame provided row indices by default, so this column is not needed.  Drop it from the DataFrame in place in the cell below, and then display the head of `heroes_df` to ensure that it worked properly. "
   ]
  },
  {
   "cell_type": "code",
   "execution_count": 174,
   "metadata": {},
   "outputs": [
    {
     "data": {
      "text/html": [
       "<div>\n",
       "<style scoped>\n",
       "    .dataframe tbody tr th:only-of-type {\n",
       "        vertical-align: middle;\n",
       "    }\n",
       "\n",
       "    .dataframe tbody tr th {\n",
       "        vertical-align: top;\n",
       "    }\n",
       "\n",
       "    .dataframe thead th {\n",
       "        text-align: right;\n",
       "    }\n",
       "</style>\n",
       "<table border=\"1\" class=\"dataframe\">\n",
       "  <thead>\n",
       "    <tr style=\"text-align: right;\">\n",
       "      <th></th>\n",
       "      <th>name</th>\n",
       "      <th>Gender</th>\n",
       "      <th>Eye color</th>\n",
       "      <th>Race</th>\n",
       "      <th>Hair color</th>\n",
       "      <th>Height</th>\n",
       "      <th>Publisher</th>\n",
       "      <th>Skin color</th>\n",
       "      <th>Alignment</th>\n",
       "      <th>Weight</th>\n",
       "    </tr>\n",
       "  </thead>\n",
       "  <tbody>\n",
       "    <tr>\n",
       "      <th>0</th>\n",
       "      <td>A-Bomb</td>\n",
       "      <td>Male</td>\n",
       "      <td>yellow</td>\n",
       "      <td>Human</td>\n",
       "      <td>No Hair</td>\n",
       "      <td>203.0</td>\n",
       "      <td>Marvel Comics</td>\n",
       "      <td>-</td>\n",
       "      <td>good</td>\n",
       "      <td>441.0</td>\n",
       "    </tr>\n",
       "    <tr>\n",
       "      <th>1</th>\n",
       "      <td>Abe Sapien</td>\n",
       "      <td>Male</td>\n",
       "      <td>blue</td>\n",
       "      <td>Icthyo Sapien</td>\n",
       "      <td>No Hair</td>\n",
       "      <td>191.0</td>\n",
       "      <td>Dark Horse Comics</td>\n",
       "      <td>blue</td>\n",
       "      <td>good</td>\n",
       "      <td>65.0</td>\n",
       "    </tr>\n",
       "    <tr>\n",
       "      <th>2</th>\n",
       "      <td>Abin Sur</td>\n",
       "      <td>Male</td>\n",
       "      <td>blue</td>\n",
       "      <td>Ungaran</td>\n",
       "      <td>No Hair</td>\n",
       "      <td>185.0</td>\n",
       "      <td>DC Comics</td>\n",
       "      <td>red</td>\n",
       "      <td>good</td>\n",
       "      <td>90.0</td>\n",
       "    </tr>\n",
       "    <tr>\n",
       "      <th>3</th>\n",
       "      <td>Abomination</td>\n",
       "      <td>Male</td>\n",
       "      <td>green</td>\n",
       "      <td>Human / Radiation</td>\n",
       "      <td>No Hair</td>\n",
       "      <td>203.0</td>\n",
       "      <td>Marvel Comics</td>\n",
       "      <td>-</td>\n",
       "      <td>bad</td>\n",
       "      <td>441.0</td>\n",
       "    </tr>\n",
       "    <tr>\n",
       "      <th>4</th>\n",
       "      <td>Abraxas</td>\n",
       "      <td>Male</td>\n",
       "      <td>blue</td>\n",
       "      <td>Cosmic Entity</td>\n",
       "      <td>Black</td>\n",
       "      <td>-99.0</td>\n",
       "      <td>Marvel Comics</td>\n",
       "      <td>-</td>\n",
       "      <td>bad</td>\n",
       "      <td>-99.0</td>\n",
       "    </tr>\n",
       "    <tr>\n",
       "      <th>...</th>\n",
       "      <td>...</td>\n",
       "      <td>...</td>\n",
       "      <td>...</td>\n",
       "      <td>...</td>\n",
       "      <td>...</td>\n",
       "      <td>...</td>\n",
       "      <td>...</td>\n",
       "      <td>...</td>\n",
       "      <td>...</td>\n",
       "      <td>...</td>\n",
       "    </tr>\n",
       "    <tr>\n",
       "      <th>729</th>\n",
       "      <td>Yellowjacket II</td>\n",
       "      <td>Female</td>\n",
       "      <td>blue</td>\n",
       "      <td>Human</td>\n",
       "      <td>Strawberry Blond</td>\n",
       "      <td>165.0</td>\n",
       "      <td>Marvel Comics</td>\n",
       "      <td>-</td>\n",
       "      <td>good</td>\n",
       "      <td>52.0</td>\n",
       "    </tr>\n",
       "    <tr>\n",
       "      <th>730</th>\n",
       "      <td>Ymir</td>\n",
       "      <td>Male</td>\n",
       "      <td>white</td>\n",
       "      <td>Frost Giant</td>\n",
       "      <td>No Hair</td>\n",
       "      <td>304.8</td>\n",
       "      <td>Marvel Comics</td>\n",
       "      <td>white</td>\n",
       "      <td>good</td>\n",
       "      <td>-99.0</td>\n",
       "    </tr>\n",
       "    <tr>\n",
       "      <th>731</th>\n",
       "      <td>Yoda</td>\n",
       "      <td>Male</td>\n",
       "      <td>brown</td>\n",
       "      <td>Yoda's species</td>\n",
       "      <td>White</td>\n",
       "      <td>66.0</td>\n",
       "      <td>George Lucas</td>\n",
       "      <td>green</td>\n",
       "      <td>good</td>\n",
       "      <td>17.0</td>\n",
       "    </tr>\n",
       "    <tr>\n",
       "      <th>732</th>\n",
       "      <td>Zatanna</td>\n",
       "      <td>Female</td>\n",
       "      <td>blue</td>\n",
       "      <td>Human</td>\n",
       "      <td>Black</td>\n",
       "      <td>170.0</td>\n",
       "      <td>DC Comics</td>\n",
       "      <td>-</td>\n",
       "      <td>good</td>\n",
       "      <td>57.0</td>\n",
       "    </tr>\n",
       "    <tr>\n",
       "      <th>733</th>\n",
       "      <td>Zoom</td>\n",
       "      <td>Male</td>\n",
       "      <td>red</td>\n",
       "      <td>-</td>\n",
       "      <td>Brown</td>\n",
       "      <td>185.0</td>\n",
       "      <td>DC Comics</td>\n",
       "      <td>-</td>\n",
       "      <td>bad</td>\n",
       "      <td>81.0</td>\n",
       "    </tr>\n",
       "  </tbody>\n",
       "</table>\n",
       "<p>734 rows × 10 columns</p>\n",
       "</div>"
      ],
      "text/plain": [
       "                name  Gender Eye color               Race        Hair color  \\\n",
       "0             A-Bomb    Male    yellow              Human           No Hair   \n",
       "1         Abe Sapien    Male      blue      Icthyo Sapien           No Hair   \n",
       "2           Abin Sur    Male      blue            Ungaran           No Hair   \n",
       "3        Abomination    Male     green  Human / Radiation           No Hair   \n",
       "4            Abraxas    Male      blue      Cosmic Entity             Black   \n",
       "..               ...     ...       ...                ...               ...   \n",
       "729  Yellowjacket II  Female      blue              Human  Strawberry Blond   \n",
       "730             Ymir    Male     white        Frost Giant           No Hair   \n",
       "731             Yoda    Male     brown     Yoda's species             White   \n",
       "732          Zatanna  Female      blue              Human             Black   \n",
       "733             Zoom    Male       red                  -             Brown   \n",
       "\n",
       "     Height          Publisher Skin color Alignment  Weight  \n",
       "0     203.0      Marvel Comics          -      good   441.0  \n",
       "1     191.0  Dark Horse Comics       blue      good    65.0  \n",
       "2     185.0          DC Comics        red      good    90.0  \n",
       "3     203.0      Marvel Comics          -       bad   441.0  \n",
       "4     -99.0      Marvel Comics          -       bad   -99.0  \n",
       "..      ...                ...        ...       ...     ...  \n",
       "729   165.0      Marvel Comics          -      good    52.0  \n",
       "730   304.8      Marvel Comics      white      good   -99.0  \n",
       "731    66.0       George Lucas      green      good    17.0  \n",
       "732   170.0          DC Comics          -      good    57.0  \n",
       "733   185.0          DC Comics          -       bad    81.0  \n",
       "\n",
       "[734 rows x 10 columns]"
      ]
     },
     "execution_count": 174,
     "metadata": {},
     "output_type": "execute_result"
    }
   ],
   "source": [
    "heroes_df = pd.read_csv(heroes_url, index_col=0)\n",
    "heroes_df"
   ]
  },
  {
   "cell_type": "markdown",
   "metadata": {},
   "source": [
    "## Familiarize yourself with the dataset\n",
    "\n",
    "The first step in our Exploratory Data Analysis will be to get familiar with the data.  This step includes:\n",
    "\n",
    "* Understanding the dimensionality of your dataset\n",
    "* Investigating what type of data it contains, and the data types used to store it\n",
    "* Discovering how missing values are encoded, and how many there are\n",
    "* Getting a feel for what information it does and doesn't contain\n",
    "\n",
    "In the cell below, get the descriptive statistics of each DataFrame.  "
   ]
  },
  {
   "cell_type": "code",
   "execution_count": 175,
   "metadata": {},
   "outputs": [
    {
     "name": "stdout",
     "output_type": "stream",
     "text": [
      "<class 'pandas.core.frame.DataFrame'>\n",
      "Int64Index: 734 entries, 0 to 733\n",
      "Data columns (total 10 columns):\n",
      " #   Column      Non-Null Count  Dtype  \n",
      "---  ------      --------------  -----  \n",
      " 0   name        734 non-null    object \n",
      " 1   Gender      734 non-null    object \n",
      " 2   Eye color   734 non-null    object \n",
      " 3   Race        734 non-null    object \n",
      " 4   Hair color  734 non-null    object \n",
      " 5   Height      734 non-null    float64\n",
      " 6   Publisher   719 non-null    object \n",
      " 7   Skin color  734 non-null    object \n",
      " 8   Alignment   734 non-null    object \n",
      " 9   Weight      732 non-null    float64\n",
      "dtypes: float64(2), object(8)\n",
      "memory usage: 63.1+ KB\n"
     ]
    }
   ],
   "source": [
    "heroes_df.info()"
   ]
  },
  {
   "cell_type": "code",
   "execution_count": 176,
   "metadata": {},
   "outputs": [
    {
     "data": {
      "text/html": [
       "<div>\n",
       "<style scoped>\n",
       "    .dataframe tbody tr th:only-of-type {\n",
       "        vertical-align: middle;\n",
       "    }\n",
       "\n",
       "    .dataframe tbody tr th {\n",
       "        vertical-align: top;\n",
       "    }\n",
       "\n",
       "    .dataframe thead th {\n",
       "        text-align: right;\n",
       "    }\n",
       "</style>\n",
       "<table border=\"1\" class=\"dataframe\">\n",
       "  <thead>\n",
       "    <tr style=\"text-align: right;\">\n",
       "      <th></th>\n",
       "      <th>Height</th>\n",
       "      <th>Weight</th>\n",
       "    </tr>\n",
       "  </thead>\n",
       "  <tbody>\n",
       "    <tr>\n",
       "      <th>count</th>\n",
       "      <td>734.00</td>\n",
       "      <td>732.00</td>\n",
       "    </tr>\n",
       "    <tr>\n",
       "      <th>mean</th>\n",
       "      <td>102.25</td>\n",
       "      <td>43.86</td>\n",
       "    </tr>\n",
       "    <tr>\n",
       "      <th>std</th>\n",
       "      <td>139.62</td>\n",
       "      <td>130.82</td>\n",
       "    </tr>\n",
       "    <tr>\n",
       "      <th>min</th>\n",
       "      <td>-99.00</td>\n",
       "      <td>-99.00</td>\n",
       "    </tr>\n",
       "    <tr>\n",
       "      <th>25%</th>\n",
       "      <td>-99.00</td>\n",
       "      <td>-99.00</td>\n",
       "    </tr>\n",
       "    <tr>\n",
       "      <th>50%</th>\n",
       "      <td>175.00</td>\n",
       "      <td>62.00</td>\n",
       "    </tr>\n",
       "    <tr>\n",
       "      <th>75%</th>\n",
       "      <td>185.00</td>\n",
       "      <td>90.00</td>\n",
       "    </tr>\n",
       "    <tr>\n",
       "      <th>max</th>\n",
       "      <td>975.00</td>\n",
       "      <td>900.00</td>\n",
       "    </tr>\n",
       "  </tbody>\n",
       "</table>\n",
       "</div>"
      ],
      "text/plain": [
       "       Height  Weight\n",
       "count  734.00  732.00\n",
       "mean   102.25   43.86\n",
       "std    139.62  130.82\n",
       "min    -99.00  -99.00\n",
       "25%    -99.00  -99.00\n",
       "50%    175.00   62.00\n",
       "75%    185.00   90.00\n",
       "max    975.00  900.00"
      ]
     },
     "execution_count": 176,
     "metadata": {},
     "output_type": "execute_result"
    }
   ],
   "source": [
    "heroes_df.describe().round(2)"
   ]
  },
  {
   "cell_type": "markdown",
   "metadata": {},
   "source": [
    "## Dealing with missing values\n",
    "\n",
    "Starting in the cell below, detect and deal with any missing values in either DataFrame. Then, explain your methodology for detecting and dealing with outliers in the markdown section below. Be sure to explain your strategy for dealing with missing values in numeric columns, as well as your strategy for dealing with missing values in non-numeric columns.  \n",
    "\n",
    "Note that if you need to add more cells to write code in, you can do this by:\n",
    "\n",
    "**1.** Highlighting a cell and then pressing `ESC` to enter command mode.  \n",
    "**2.** Press `A` to add a cell above the highlighted cell, or `B` to add a cell below the highlighted cell. \n",
    "\n",
    "Describe your strategy below this line:\n",
    "____________________________________________________________________________________________________________________________\n",
    "\n",
    "\n"
   ]
  },
  {
   "cell_type": "markdown",
   "metadata": {},
   "source": [
    "#### Visual Alternatives"
   ]
  },
  {
   "cell_type": "code",
   "execution_count": 177,
   "metadata": {},
   "outputs": [],
   "source": [
    "# # !pip install missingno\n",
    "# import missingno\n",
    "# missingno.matrix(heroes_df)"
   ]
  },
  {
   "cell_type": "markdown",
   "metadata": {},
   "source": [
    "### `heroes_df`"
   ]
  },
  {
   "cell_type": "code",
   "execution_count": 178,
   "metadata": {},
   "outputs": [
    {
     "data": {
      "text/plain": [
       "Publisher    15\n",
       "Weight        2\n",
       "dtype: int64"
      ]
     },
     "execution_count": 178,
     "metadata": {},
     "output_type": "execute_result"
    }
   ],
   "source": [
    "res = heroes_df.isna().sum()\n",
    "res[res>0]"
   ]
  },
  {
   "cell_type": "code",
   "execution_count": 179,
   "metadata": {},
   "outputs": [
    {
     "data": {
      "text/html": [
       "<div>\n",
       "<style scoped>\n",
       "    .dataframe tbody tr th:only-of-type {\n",
       "        vertical-align: middle;\n",
       "    }\n",
       "\n",
       "    .dataframe tbody tr th {\n",
       "        vertical-align: top;\n",
       "    }\n",
       "\n",
       "    .dataframe thead th {\n",
       "        text-align: right;\n",
       "    }\n",
       "</style>\n",
       "<table border=\"1\" class=\"dataframe\">\n",
       "  <thead>\n",
       "    <tr style=\"text-align: right;\">\n",
       "      <th></th>\n",
       "      <th>name</th>\n",
       "      <th>Gender</th>\n",
       "      <th>Eye color</th>\n",
       "      <th>Race</th>\n",
       "      <th>Hair color</th>\n",
       "      <th>Height</th>\n",
       "      <th>Publisher</th>\n",
       "      <th>Skin color</th>\n",
       "      <th>Alignment</th>\n",
       "      <th>Weight</th>\n",
       "    </tr>\n",
       "  </thead>\n",
       "  <tbody>\n",
       "    <tr>\n",
       "      <th>46</th>\n",
       "      <td>Astro Boy</td>\n",
       "      <td>Male</td>\n",
       "      <td>brown</td>\n",
       "      <td>-</td>\n",
       "      <td>Black</td>\n",
       "      <td>-99.0</td>\n",
       "      <td>NaN</td>\n",
       "      <td>-</td>\n",
       "      <td>good</td>\n",
       "      <td>-99.0</td>\n",
       "    </tr>\n",
       "    <tr>\n",
       "      <th>86</th>\n",
       "      <td>Bionic Woman</td>\n",
       "      <td>Female</td>\n",
       "      <td>blue</td>\n",
       "      <td>Cyborg</td>\n",
       "      <td>Black</td>\n",
       "      <td>-99.0</td>\n",
       "      <td>NaN</td>\n",
       "      <td>-</td>\n",
       "      <td>good</td>\n",
       "      <td>-99.0</td>\n",
       "    </tr>\n",
       "    <tr>\n",
       "      <th>138</th>\n",
       "      <td>Brundlefly</td>\n",
       "      <td>Male</td>\n",
       "      <td>-</td>\n",
       "      <td>Mutant</td>\n",
       "      <td>-</td>\n",
       "      <td>193.0</td>\n",
       "      <td>NaN</td>\n",
       "      <td>-</td>\n",
       "      <td>-</td>\n",
       "      <td>-99.0</td>\n",
       "    </tr>\n",
       "    <tr>\n",
       "      <th>175</th>\n",
       "      <td>Chuck Norris</td>\n",
       "      <td>Male</td>\n",
       "      <td>-</td>\n",
       "      <td>-</td>\n",
       "      <td>-</td>\n",
       "      <td>178.0</td>\n",
       "      <td>NaN</td>\n",
       "      <td>-</td>\n",
       "      <td>good</td>\n",
       "      <td>-99.0</td>\n",
       "    </tr>\n",
       "    <tr>\n",
       "      <th>204</th>\n",
       "      <td>Darkside</td>\n",
       "      <td>-</td>\n",
       "      <td>-</td>\n",
       "      <td>-</td>\n",
       "      <td>-</td>\n",
       "      <td>-99.0</td>\n",
       "      <td>NaN</td>\n",
       "      <td>-</td>\n",
       "      <td>bad</td>\n",
       "      <td>-99.0</td>\n",
       "    </tr>\n",
       "    <tr>\n",
       "      <th>244</th>\n",
       "      <td>Ethan Hunt</td>\n",
       "      <td>Male</td>\n",
       "      <td>brown</td>\n",
       "      <td>Human</td>\n",
       "      <td>Brown</td>\n",
       "      <td>168.0</td>\n",
       "      <td>NaN</td>\n",
       "      <td>-</td>\n",
       "      <td>good</td>\n",
       "      <td>-99.0</td>\n",
       "    </tr>\n",
       "    <tr>\n",
       "      <th>263</th>\n",
       "      <td>Flash Gordon</td>\n",
       "      <td>Male</td>\n",
       "      <td>-</td>\n",
       "      <td>-</td>\n",
       "      <td>-</td>\n",
       "      <td>-99.0</td>\n",
       "      <td>NaN</td>\n",
       "      <td>-</td>\n",
       "      <td>good</td>\n",
       "      <td>-99.0</td>\n",
       "    </tr>\n",
       "    <tr>\n",
       "      <th>286</th>\n",
       "      <td>Godzilla</td>\n",
       "      <td>-</td>\n",
       "      <td>-</td>\n",
       "      <td>Kaiju</td>\n",
       "      <td>-</td>\n",
       "      <td>108.0</td>\n",
       "      <td>NaN</td>\n",
       "      <td>grey</td>\n",
       "      <td>bad</td>\n",
       "      <td>NaN</td>\n",
       "    </tr>\n",
       "    <tr>\n",
       "      <th>348</th>\n",
       "      <td>Jack Bauer</td>\n",
       "      <td>Male</td>\n",
       "      <td>-</td>\n",
       "      <td>-</td>\n",
       "      <td>-</td>\n",
       "      <td>-99.0</td>\n",
       "      <td>NaN</td>\n",
       "      <td>-</td>\n",
       "      <td>good</td>\n",
       "      <td>-99.0</td>\n",
       "    </tr>\n",
       "    <tr>\n",
       "      <th>354</th>\n",
       "      <td>Jason Bourne</td>\n",
       "      <td>Male</td>\n",
       "      <td>-</td>\n",
       "      <td>Human</td>\n",
       "      <td>-</td>\n",
       "      <td>-99.0</td>\n",
       "      <td>NaN</td>\n",
       "      <td>-</td>\n",
       "      <td>good</td>\n",
       "      <td>-99.0</td>\n",
       "    </tr>\n",
       "    <tr>\n",
       "      <th>381</th>\n",
       "      <td>Katniss Everdeen</td>\n",
       "      <td>Female</td>\n",
       "      <td>-</td>\n",
       "      <td>Human</td>\n",
       "      <td>-</td>\n",
       "      <td>-99.0</td>\n",
       "      <td>NaN</td>\n",
       "      <td>-</td>\n",
       "      <td>good</td>\n",
       "      <td>-99.0</td>\n",
       "    </tr>\n",
       "    <tr>\n",
       "      <th>389</th>\n",
       "      <td>King Kong</td>\n",
       "      <td>Male</td>\n",
       "      <td>yellow</td>\n",
       "      <td>Animal</td>\n",
       "      <td>Black</td>\n",
       "      <td>30.5</td>\n",
       "      <td>NaN</td>\n",
       "      <td>-</td>\n",
       "      <td>good</td>\n",
       "      <td>NaN</td>\n",
       "    </tr>\n",
       "    <tr>\n",
       "      <th>393</th>\n",
       "      <td>Kool-Aid Man</td>\n",
       "      <td>Male</td>\n",
       "      <td>black</td>\n",
       "      <td>-</td>\n",
       "      <td>No Hair</td>\n",
       "      <td>-99.0</td>\n",
       "      <td>NaN</td>\n",
       "      <td>red</td>\n",
       "      <td>good</td>\n",
       "      <td>-99.0</td>\n",
       "    </tr>\n",
       "    <tr>\n",
       "      <th>542</th>\n",
       "      <td>Rambo</td>\n",
       "      <td>Male</td>\n",
       "      <td>brown</td>\n",
       "      <td>Human</td>\n",
       "      <td>Black</td>\n",
       "      <td>178.0</td>\n",
       "      <td>NaN</td>\n",
       "      <td>-</td>\n",
       "      <td>good</td>\n",
       "      <td>83.0</td>\n",
       "    </tr>\n",
       "    <tr>\n",
       "      <th>658</th>\n",
       "      <td>The Cape</td>\n",
       "      <td>Male</td>\n",
       "      <td>-</td>\n",
       "      <td>-</td>\n",
       "      <td>-</td>\n",
       "      <td>-99.0</td>\n",
       "      <td>NaN</td>\n",
       "      <td>-</td>\n",
       "      <td>good</td>\n",
       "      <td>-99.0</td>\n",
       "    </tr>\n",
       "  </tbody>\n",
       "</table>\n",
       "</div>"
      ],
      "text/plain": [
       "                 name  Gender Eye color    Race Hair color  Height Publisher  \\\n",
       "46          Astro Boy    Male     brown       -      Black   -99.0       NaN   \n",
       "86       Bionic Woman  Female      blue  Cyborg      Black   -99.0       NaN   \n",
       "138        Brundlefly    Male         -  Mutant          -   193.0       NaN   \n",
       "175      Chuck Norris    Male         -       -          -   178.0       NaN   \n",
       "204          Darkside       -         -       -          -   -99.0       NaN   \n",
       "244        Ethan Hunt    Male     brown   Human      Brown   168.0       NaN   \n",
       "263      Flash Gordon    Male         -       -          -   -99.0       NaN   \n",
       "286          Godzilla       -         -   Kaiju          -   108.0       NaN   \n",
       "348        Jack Bauer    Male         -       -          -   -99.0       NaN   \n",
       "354      Jason Bourne    Male         -   Human          -   -99.0       NaN   \n",
       "381  Katniss Everdeen  Female         -   Human          -   -99.0       NaN   \n",
       "389         King Kong    Male    yellow  Animal      Black    30.5       NaN   \n",
       "393      Kool-Aid Man    Male     black       -    No Hair   -99.0       NaN   \n",
       "542             Rambo    Male     brown   Human      Black   178.0       NaN   \n",
       "658          The Cape    Male         -       -          -   -99.0       NaN   \n",
       "\n",
       "    Skin color Alignment  Weight  \n",
       "46           -      good   -99.0  \n",
       "86           -      good   -99.0  \n",
       "138          -         -   -99.0  \n",
       "175          -      good   -99.0  \n",
       "204          -       bad   -99.0  \n",
       "244          -      good   -99.0  \n",
       "263          -      good   -99.0  \n",
       "286       grey       bad     NaN  \n",
       "348          -      good   -99.0  \n",
       "354          -      good   -99.0  \n",
       "381          -      good   -99.0  \n",
       "389          -      good     NaN  \n",
       "393        red      good   -99.0  \n",
       "542          -      good    83.0  \n",
       "658          -      good   -99.0  "
      ]
     },
     "execution_count": 179,
     "metadata": {},
     "output_type": "execute_result"
    }
   ],
   "source": [
    "heroes_df[heroes_df.isna().any(axis=1)]"
   ]
  },
  {
   "cell_type": "code",
   "execution_count": 180,
   "metadata": {},
   "outputs": [],
   "source": [
    "## Fill Publisher with placeholder\n",
    "heroes_df['Publisher'] = heroes_df['Publisher'].fillna('Missing')"
   ]
  },
  {
   "cell_type": "code",
   "execution_count": 181,
   "metadata": {},
   "outputs": [
    {
     "data": {
      "text/html": [
       "<div>\n",
       "<style scoped>\n",
       "    .dataframe tbody tr th:only-of-type {\n",
       "        vertical-align: middle;\n",
       "    }\n",
       "\n",
       "    .dataframe tbody tr th {\n",
       "        vertical-align: top;\n",
       "    }\n",
       "\n",
       "    .dataframe thead th {\n",
       "        text-align: right;\n",
       "    }\n",
       "</style>\n",
       "<table border=\"1\" class=\"dataframe\">\n",
       "  <thead>\n",
       "    <tr style=\"text-align: right;\">\n",
       "      <th></th>\n",
       "      <th>name</th>\n",
       "      <th>Gender</th>\n",
       "      <th>Eye color</th>\n",
       "      <th>Race</th>\n",
       "      <th>Hair color</th>\n",
       "      <th>Height</th>\n",
       "      <th>Publisher</th>\n",
       "      <th>Skin color</th>\n",
       "      <th>Alignment</th>\n",
       "      <th>Weight</th>\n",
       "    </tr>\n",
       "  </thead>\n",
       "  <tbody>\n",
       "    <tr>\n",
       "      <th>286</th>\n",
       "      <td>Godzilla</td>\n",
       "      <td>-</td>\n",
       "      <td>-</td>\n",
       "      <td>Kaiju</td>\n",
       "      <td>-</td>\n",
       "      <td>108.0</td>\n",
       "      <td>Missing</td>\n",
       "      <td>grey</td>\n",
       "      <td>bad</td>\n",
       "      <td>NaN</td>\n",
       "    </tr>\n",
       "    <tr>\n",
       "      <th>389</th>\n",
       "      <td>King Kong</td>\n",
       "      <td>Male</td>\n",
       "      <td>yellow</td>\n",
       "      <td>Animal</td>\n",
       "      <td>Black</td>\n",
       "      <td>30.5</td>\n",
       "      <td>Missing</td>\n",
       "      <td>-</td>\n",
       "      <td>good</td>\n",
       "      <td>NaN</td>\n",
       "    </tr>\n",
       "  </tbody>\n",
       "</table>\n",
       "</div>"
      ],
      "text/plain": [
       "          name Gender Eye color    Race Hair color  Height Publisher  \\\n",
       "286   Godzilla      -         -   Kaiju          -   108.0   Missing   \n",
       "389  King Kong   Male    yellow  Animal      Black    30.5   Missing   \n",
       "\n",
       "    Skin color Alignment  Weight  \n",
       "286       grey       bad     NaN  \n",
       "389          -      good     NaN  "
      ]
     },
     "execution_count": 181,
     "metadata": {},
     "output_type": "execute_result"
    }
   ],
   "source": [
    "## Check Remaining Missing \n",
    "heroes_df[heroes_df.isna().any(axis=1)]"
   ]
  },
  {
   "cell_type": "code",
   "execution_count": 182,
   "metadata": {},
   "outputs": [
    {
     "data": {
      "text/plain": [
       "900.0"
      ]
     },
     "execution_count": 182,
     "metadata": {},
     "output_type": "execute_result"
    }
   ],
   "source": [
    "## Lets try fillna with the max\n",
    "heroes_df['Weight'].max()"
   ]
  },
  {
   "cell_type": "code",
   "execution_count": 183,
   "metadata": {},
   "outputs": [
    {
     "data": {
      "text/html": [
       "<div>\n",
       "<style scoped>\n",
       "    .dataframe tbody tr th:only-of-type {\n",
       "        vertical-align: middle;\n",
       "    }\n",
       "\n",
       "    .dataframe tbody tr th {\n",
       "        vertical-align: top;\n",
       "    }\n",
       "\n",
       "    .dataframe thead th {\n",
       "        text-align: right;\n",
       "    }\n",
       "</style>\n",
       "<table border=\"1\" class=\"dataframe\">\n",
       "  <thead>\n",
       "    <tr style=\"text-align: right;\">\n",
       "      <th></th>\n",
       "      <th>name</th>\n",
       "      <th>Gender</th>\n",
       "      <th>Eye color</th>\n",
       "      <th>Race</th>\n",
       "      <th>Hair color</th>\n",
       "      <th>Height</th>\n",
       "      <th>Publisher</th>\n",
       "      <th>Skin color</th>\n",
       "      <th>Alignment</th>\n",
       "      <th>Weight</th>\n",
       "    </tr>\n",
       "  </thead>\n",
       "  <tbody>\n",
       "  </tbody>\n",
       "</table>\n",
       "</div>"
      ],
      "text/plain": [
       "Empty DataFrame\n",
       "Columns: [name, Gender, Eye color, Race, Hair color, Height, Publisher, Skin color, Alignment, Weight]\n",
       "Index: []"
      ]
     },
     "execution_count": 183,
     "metadata": {},
     "output_type": "execute_result"
    }
   ],
   "source": [
    "heroes_df['Weight'].fillna(heroes_df['Weight'].max(),inplace=True)\n",
    "heroes_df[heroes_df.isna().any(axis=1)]"
   ]
  },
  {
   "cell_type": "code",
   "execution_count": 184,
   "metadata": {},
   "outputs": [
    {
     "data": {
      "text/plain": [
       "name          0\n",
       "Gender        0\n",
       "Eye color     0\n",
       "Race          0\n",
       "Hair color    0\n",
       "Height        0\n",
       "Publisher     0\n",
       "Skin color    0\n",
       "Alignment     0\n",
       "Weight        0\n",
       "dtype: int64"
      ]
     },
     "execution_count": 184,
     "metadata": {},
     "output_type": "execute_result"
    }
   ],
   "source": [
    "heroes_df.isna().sum()"
   ]
  },
  {
   "cell_type": "markdown",
   "metadata": {},
   "source": [
    "### `powers_df`"
   ]
  },
  {
   "cell_type": "code",
   "execution_count": 185,
   "metadata": {},
   "outputs": [
    {
     "data": {
      "text/plain": [
       "Series([], dtype: int64)"
      ]
     },
     "execution_count": 185,
     "metadata": {},
     "output_type": "execute_result"
    }
   ],
   "source": [
    "res = powers_df.isna().sum()\n",
    "res[ res>0]"
   ]
  },
  {
   "cell_type": "markdown",
   "metadata": {},
   "source": [
    "## Joining, Grouping, and Aggregating\n",
    "\n",
    "In the cell below, join the two DataFrames.  Think about which sort of join you should use, as well as which columns you should join on.  Rename columns and manipulate as needed.  \n",
    "\n",
    "**_HINT:_** Consider the possibility that the columns you choose to join on contain duplicate entries. If that is the case, devise a strategy to deal with the duplicates.\n",
    "\n",
    "**_HINT:_** If the join throws an error message, consider setting the column you want to join on as the index for each DataFrame.  "
   ]
  },
  {
   "cell_type": "code",
   "execution_count": 186,
   "metadata": {},
   "outputs": [
    {
     "data": {
      "text/html": [
       "<div>\n",
       "<style scoped>\n",
       "    .dataframe tbody tr th:only-of-type {\n",
       "        vertical-align: middle;\n",
       "    }\n",
       "\n",
       "    .dataframe tbody tr th {\n",
       "        vertical-align: top;\n",
       "    }\n",
       "\n",
       "    .dataframe thead th {\n",
       "        text-align: right;\n",
       "    }\n",
       "</style>\n",
       "<table border=\"1\" class=\"dataframe\">\n",
       "  <thead>\n",
       "    <tr style=\"text-align: right;\">\n",
       "      <th></th>\n",
       "      <th>name</th>\n",
       "      <th>Gender</th>\n",
       "      <th>Eye color</th>\n",
       "      <th>Race</th>\n",
       "      <th>Hair color</th>\n",
       "      <th>Height</th>\n",
       "      <th>Publisher</th>\n",
       "      <th>Skin color</th>\n",
       "      <th>Alignment</th>\n",
       "      <th>Weight</th>\n",
       "    </tr>\n",
       "  </thead>\n",
       "  <tbody>\n",
       "    <tr>\n",
       "      <th>290</th>\n",
       "      <td>Goliath</td>\n",
       "      <td>Male</td>\n",
       "      <td>-</td>\n",
       "      <td>Human</td>\n",
       "      <td>-</td>\n",
       "      <td>-99.0</td>\n",
       "      <td>Marvel Comics</td>\n",
       "      <td>-</td>\n",
       "      <td>good</td>\n",
       "      <td>-99.0</td>\n",
       "    </tr>\n",
       "    <tr>\n",
       "      <th>291</th>\n",
       "      <td>Goliath</td>\n",
       "      <td>Male</td>\n",
       "      <td>-</td>\n",
       "      <td>Human</td>\n",
       "      <td>-</td>\n",
       "      <td>-99.0</td>\n",
       "      <td>Marvel Comics</td>\n",
       "      <td>-</td>\n",
       "      <td>good</td>\n",
       "      <td>-99.0</td>\n",
       "    </tr>\n",
       "  </tbody>\n",
       "</table>\n",
       "</div>"
      ],
      "text/plain": [
       "        name Gender Eye color   Race Hair color  Height      Publisher  \\\n",
       "290  Goliath   Male         -  Human          -   -99.0  Marvel Comics   \n",
       "291  Goliath   Male         -  Human          -   -99.0  Marvel Comics   \n",
       "\n",
       "    Skin color Alignment  Weight  \n",
       "290          -      good   -99.0  \n",
       "291          -      good   -99.0  "
      ]
     },
     "execution_count": 186,
     "metadata": {},
     "output_type": "execute_result"
    }
   ],
   "source": [
    "heroes_df[heroes_df.duplicated(keep=False)]"
   ]
  },
  {
   "cell_type": "code",
   "execution_count": 187,
   "metadata": {},
   "outputs": [
    {
     "data": {
      "text/html": [
       "<div>\n",
       "<style scoped>\n",
       "    .dataframe tbody tr th:only-of-type {\n",
       "        vertical-align: middle;\n",
       "    }\n",
       "\n",
       "    .dataframe tbody tr th {\n",
       "        vertical-align: top;\n",
       "    }\n",
       "\n",
       "    .dataframe thead th {\n",
       "        text-align: right;\n",
       "    }\n",
       "</style>\n",
       "<table border=\"1\" class=\"dataframe\">\n",
       "  <thead>\n",
       "    <tr style=\"text-align: right;\">\n",
       "      <th></th>\n",
       "      <th>name</th>\n",
       "      <th>Gender</th>\n",
       "      <th>Eye color</th>\n",
       "      <th>Race</th>\n",
       "      <th>Hair color</th>\n",
       "      <th>Height</th>\n",
       "      <th>Publisher</th>\n",
       "      <th>Skin color</th>\n",
       "      <th>Alignment</th>\n",
       "      <th>Weight</th>\n",
       "    </tr>\n",
       "  </thead>\n",
       "  <tbody>\n",
       "  </tbody>\n",
       "</table>\n",
       "</div>"
      ],
      "text/plain": [
       "Empty DataFrame\n",
       "Columns: [name, Gender, Eye color, Race, Hair color, Height, Publisher, Skin color, Alignment, Weight]\n",
       "Index: []"
      ]
     },
     "execution_count": 187,
     "metadata": {},
     "output_type": "execute_result"
    }
   ],
   "source": [
    "heroes_df = heroes_df[~heroes_df.duplicated()]\n",
    "heroes_df[heroes_df.duplicated()]"
   ]
  },
  {
   "cell_type": "code",
   "execution_count": 188,
   "metadata": {},
   "outputs": [
    {
     "name": "stderr",
     "output_type": "stream",
     "text": [
      "<ipython-input-188-350b54ced4ac>:1: SettingWithCopyWarning: \n",
      "A value is trying to be set on a copy of a slice from a DataFrame\n",
      "\n",
      "See the caveats in the documentation: https://pandas.pydata.org/pandas-docs/stable/user_guide/indexing.html#returning-a-view-versus-a-copy\n",
      "  heroes_df.drop_duplicates(inplace=True)\n"
     ]
    }
   ],
   "source": [
    "heroes_df.drop_duplicates(inplace=True)"
   ]
  },
  {
   "cell_type": "code",
   "execution_count": 189,
   "metadata": {},
   "outputs": [
    {
     "data": {
      "text/html": [
       "<div>\n",
       "<style scoped>\n",
       "    .dataframe tbody tr th:only-of-type {\n",
       "        vertical-align: middle;\n",
       "    }\n",
       "\n",
       "    .dataframe tbody tr th {\n",
       "        vertical-align: top;\n",
       "    }\n",
       "\n",
       "    .dataframe thead th {\n",
       "        text-align: right;\n",
       "    }\n",
       "</style>\n",
       "<table border=\"1\" class=\"dataframe\">\n",
       "  <thead>\n",
       "    <tr style=\"text-align: right;\">\n",
       "      <th></th>\n",
       "      <th>name</th>\n",
       "      <th>Gender</th>\n",
       "      <th>Eye color</th>\n",
       "      <th>Race</th>\n",
       "      <th>Hair color</th>\n",
       "      <th>Height</th>\n",
       "      <th>Publisher</th>\n",
       "      <th>Skin color</th>\n",
       "      <th>Alignment</th>\n",
       "      <th>Weight</th>\n",
       "    </tr>\n",
       "  </thead>\n",
       "  <tbody>\n",
       "    <tr>\n",
       "      <th>0</th>\n",
       "      <td>A-Bomb</td>\n",
       "      <td>Male</td>\n",
       "      <td>yellow</td>\n",
       "      <td>Human</td>\n",
       "      <td>No Hair</td>\n",
       "      <td>203.0</td>\n",
       "      <td>Marvel Comics</td>\n",
       "      <td>-</td>\n",
       "      <td>good</td>\n",
       "      <td>441.0</td>\n",
       "    </tr>\n",
       "    <tr>\n",
       "      <th>1</th>\n",
       "      <td>Abe Sapien</td>\n",
       "      <td>Male</td>\n",
       "      <td>blue</td>\n",
       "      <td>Icthyo Sapien</td>\n",
       "      <td>No Hair</td>\n",
       "      <td>191.0</td>\n",
       "      <td>Dark Horse Comics</td>\n",
       "      <td>blue</td>\n",
       "      <td>good</td>\n",
       "      <td>65.0</td>\n",
       "    </tr>\n",
       "  </tbody>\n",
       "</table>\n",
       "</div>"
      ],
      "text/plain": [
       "         name Gender Eye color           Race Hair color  Height  \\\n",
       "0      A-Bomb   Male    yellow          Human    No Hair   203.0   \n",
       "1  Abe Sapien   Male      blue  Icthyo Sapien    No Hair   191.0   \n",
       "\n",
       "           Publisher Skin color Alignment  Weight  \n",
       "0      Marvel Comics          -      good   441.0  \n",
       "1  Dark Horse Comics       blue      good    65.0  "
      ]
     },
     "metadata": {},
     "output_type": "display_data"
    },
    {
     "data": {
      "text/html": [
       "<div>\n",
       "<style scoped>\n",
       "    .dataframe tbody tr th:only-of-type {\n",
       "        vertical-align: middle;\n",
       "    }\n",
       "\n",
       "    .dataframe tbody tr th {\n",
       "        vertical-align: top;\n",
       "    }\n",
       "\n",
       "    .dataframe thead th {\n",
       "        text-align: right;\n",
       "    }\n",
       "</style>\n",
       "<table border=\"1\" class=\"dataframe\">\n",
       "  <thead>\n",
       "    <tr style=\"text-align: right;\">\n",
       "      <th></th>\n",
       "      <th>hero_names</th>\n",
       "      <th>Agility</th>\n",
       "      <th>Accelerated Healing</th>\n",
       "      <th>Lantern Power Ring</th>\n",
       "      <th>Dimensional Awareness</th>\n",
       "      <th>Cold Resistance</th>\n",
       "      <th>Durability</th>\n",
       "      <th>Stealth</th>\n",
       "      <th>Energy Absorption</th>\n",
       "      <th>Flight</th>\n",
       "      <th>...</th>\n",
       "      <th>Web Creation</th>\n",
       "      <th>Reality Warping</th>\n",
       "      <th>Odin Force</th>\n",
       "      <th>Symbiote Costume</th>\n",
       "      <th>Speed Force</th>\n",
       "      <th>Phoenix Force</th>\n",
       "      <th>Molecular Dissipation</th>\n",
       "      <th>Vision - Cryo</th>\n",
       "      <th>Omnipresent</th>\n",
       "      <th>Omniscient</th>\n",
       "    </tr>\n",
       "  </thead>\n",
       "  <tbody>\n",
       "    <tr>\n",
       "      <th>0</th>\n",
       "      <td>3-D Man</td>\n",
       "      <td>True</td>\n",
       "      <td>False</td>\n",
       "      <td>False</td>\n",
       "      <td>False</td>\n",
       "      <td>False</td>\n",
       "      <td>False</td>\n",
       "      <td>False</td>\n",
       "      <td>False</td>\n",
       "      <td>False</td>\n",
       "      <td>...</td>\n",
       "      <td>False</td>\n",
       "      <td>False</td>\n",
       "      <td>False</td>\n",
       "      <td>False</td>\n",
       "      <td>False</td>\n",
       "      <td>False</td>\n",
       "      <td>False</td>\n",
       "      <td>False</td>\n",
       "      <td>False</td>\n",
       "      <td>False</td>\n",
       "    </tr>\n",
       "    <tr>\n",
       "      <th>1</th>\n",
       "      <td>A-Bomb</td>\n",
       "      <td>False</td>\n",
       "      <td>True</td>\n",
       "      <td>False</td>\n",
       "      <td>False</td>\n",
       "      <td>False</td>\n",
       "      <td>True</td>\n",
       "      <td>False</td>\n",
       "      <td>False</td>\n",
       "      <td>False</td>\n",
       "      <td>...</td>\n",
       "      <td>False</td>\n",
       "      <td>False</td>\n",
       "      <td>False</td>\n",
       "      <td>False</td>\n",
       "      <td>False</td>\n",
       "      <td>False</td>\n",
       "      <td>False</td>\n",
       "      <td>False</td>\n",
       "      <td>False</td>\n",
       "      <td>False</td>\n",
       "    </tr>\n",
       "  </tbody>\n",
       "</table>\n",
       "<p>2 rows × 168 columns</p>\n",
       "</div>"
      ],
      "text/plain": [
       "  hero_names  Agility  Accelerated Healing  Lantern Power Ring  \\\n",
       "0    3-D Man     True                False               False   \n",
       "1     A-Bomb    False                 True               False   \n",
       "\n",
       "   Dimensional Awareness  Cold Resistance  Durability  Stealth  \\\n",
       "0                  False            False       False    False   \n",
       "1                  False            False        True    False   \n",
       "\n",
       "   Energy Absorption  Flight  ...  Web Creation  Reality Warping  Odin Force  \\\n",
       "0              False   False  ...         False            False       False   \n",
       "1              False   False  ...         False            False       False   \n",
       "\n",
       "   Symbiote Costume  Speed Force  Phoenix Force  Molecular Dissipation  \\\n",
       "0             False        False          False                  False   \n",
       "1             False        False          False                  False   \n",
       "\n",
       "   Vision - Cryo  Omnipresent  Omniscient  \n",
       "0          False        False       False  \n",
       "1          False        False       False  \n",
       "\n",
       "[2 rows x 168 columns]"
      ]
     },
     "metadata": {},
     "output_type": "display_data"
    }
   ],
   "source": [
    "display(heroes_df.head(2),powers_df.head(2))"
   ]
  },
  {
   "cell_type": "code",
   "execution_count": 190,
   "metadata": {},
   "outputs": [],
   "source": [
    "## Join with integer indexes joins incorrectly \n",
    "# heroes_df.join(powers_df,)[['name','hero_names']]"
   ]
  },
  {
   "cell_type": "code",
   "execution_count": 191,
   "metadata": {},
   "outputs": [
    {
     "data": {
      "text/html": [
       "<div>\n",
       "<style scoped>\n",
       "    .dataframe tbody tr th:only-of-type {\n",
       "        vertical-align: middle;\n",
       "    }\n",
       "\n",
       "    .dataframe tbody tr th {\n",
       "        vertical-align: top;\n",
       "    }\n",
       "\n",
       "    .dataframe thead th {\n",
       "        text-align: right;\n",
       "    }\n",
       "</style>\n",
       "<table border=\"1\" class=\"dataframe\">\n",
       "  <thead>\n",
       "    <tr style=\"text-align: right;\">\n",
       "      <th></th>\n",
       "      <th>name</th>\n",
       "      <th>Gender</th>\n",
       "      <th>Eye color</th>\n",
       "      <th>Race</th>\n",
       "      <th>Hair color</th>\n",
       "      <th>Height</th>\n",
       "      <th>Publisher</th>\n",
       "      <th>Skin color</th>\n",
       "      <th>Alignment</th>\n",
       "      <th>Weight</th>\n",
       "      <th>...</th>\n",
       "      <th>Web Creation</th>\n",
       "      <th>Reality Warping</th>\n",
       "      <th>Odin Force</th>\n",
       "      <th>Symbiote Costume</th>\n",
       "      <th>Speed Force</th>\n",
       "      <th>Phoenix Force</th>\n",
       "      <th>Molecular Dissipation</th>\n",
       "      <th>Vision - Cryo</th>\n",
       "      <th>Omnipresent</th>\n",
       "      <th>Omniscient</th>\n",
       "    </tr>\n",
       "  </thead>\n",
       "  <tbody>\n",
       "    <tr>\n",
       "      <th>0</th>\n",
       "      <td>A-Bomb</td>\n",
       "      <td>Male</td>\n",
       "      <td>yellow</td>\n",
       "      <td>Human</td>\n",
       "      <td>No Hair</td>\n",
       "      <td>203.0</td>\n",
       "      <td>Marvel Comics</td>\n",
       "      <td>-</td>\n",
       "      <td>good</td>\n",
       "      <td>441.0</td>\n",
       "      <td>...</td>\n",
       "      <td>False</td>\n",
       "      <td>False</td>\n",
       "      <td>False</td>\n",
       "      <td>False</td>\n",
       "      <td>False</td>\n",
       "      <td>False</td>\n",
       "      <td>False</td>\n",
       "      <td>False</td>\n",
       "      <td>False</td>\n",
       "      <td>False</td>\n",
       "    </tr>\n",
       "    <tr>\n",
       "      <th>1</th>\n",
       "      <td>Abe Sapien</td>\n",
       "      <td>Male</td>\n",
       "      <td>blue</td>\n",
       "      <td>Icthyo Sapien</td>\n",
       "      <td>No Hair</td>\n",
       "      <td>191.0</td>\n",
       "      <td>Dark Horse Comics</td>\n",
       "      <td>blue</td>\n",
       "      <td>good</td>\n",
       "      <td>65.0</td>\n",
       "      <td>...</td>\n",
       "      <td>False</td>\n",
       "      <td>False</td>\n",
       "      <td>False</td>\n",
       "      <td>False</td>\n",
       "      <td>False</td>\n",
       "      <td>False</td>\n",
       "      <td>False</td>\n",
       "      <td>False</td>\n",
       "      <td>False</td>\n",
       "      <td>False</td>\n",
       "    </tr>\n",
       "    <tr>\n",
       "      <th>2</th>\n",
       "      <td>Abin Sur</td>\n",
       "      <td>Male</td>\n",
       "      <td>blue</td>\n",
       "      <td>Ungaran</td>\n",
       "      <td>No Hair</td>\n",
       "      <td>185.0</td>\n",
       "      <td>DC Comics</td>\n",
       "      <td>red</td>\n",
       "      <td>good</td>\n",
       "      <td>90.0</td>\n",
       "      <td>...</td>\n",
       "      <td>False</td>\n",
       "      <td>False</td>\n",
       "      <td>False</td>\n",
       "      <td>False</td>\n",
       "      <td>False</td>\n",
       "      <td>False</td>\n",
       "      <td>False</td>\n",
       "      <td>False</td>\n",
       "      <td>False</td>\n",
       "      <td>False</td>\n",
       "    </tr>\n",
       "    <tr>\n",
       "      <th>3</th>\n",
       "      <td>Abomination</td>\n",
       "      <td>Male</td>\n",
       "      <td>green</td>\n",
       "      <td>Human / Radiation</td>\n",
       "      <td>No Hair</td>\n",
       "      <td>203.0</td>\n",
       "      <td>Marvel Comics</td>\n",
       "      <td>-</td>\n",
       "      <td>bad</td>\n",
       "      <td>441.0</td>\n",
       "      <td>...</td>\n",
       "      <td>False</td>\n",
       "      <td>False</td>\n",
       "      <td>False</td>\n",
       "      <td>False</td>\n",
       "      <td>False</td>\n",
       "      <td>False</td>\n",
       "      <td>False</td>\n",
       "      <td>False</td>\n",
       "      <td>False</td>\n",
       "      <td>False</td>\n",
       "    </tr>\n",
       "    <tr>\n",
       "      <th>4</th>\n",
       "      <td>Abraxas</td>\n",
       "      <td>Male</td>\n",
       "      <td>blue</td>\n",
       "      <td>Cosmic Entity</td>\n",
       "      <td>Black</td>\n",
       "      <td>-99.0</td>\n",
       "      <td>Marvel Comics</td>\n",
       "      <td>-</td>\n",
       "      <td>bad</td>\n",
       "      <td>-99.0</td>\n",
       "      <td>...</td>\n",
       "      <td>False</td>\n",
       "      <td>False</td>\n",
       "      <td>False</td>\n",
       "      <td>False</td>\n",
       "      <td>False</td>\n",
       "      <td>False</td>\n",
       "      <td>False</td>\n",
       "      <td>False</td>\n",
       "      <td>False</td>\n",
       "      <td>False</td>\n",
       "    </tr>\n",
       "    <tr>\n",
       "      <th>...</th>\n",
       "      <td>...</td>\n",
       "      <td>...</td>\n",
       "      <td>...</td>\n",
       "      <td>...</td>\n",
       "      <td>...</td>\n",
       "      <td>...</td>\n",
       "      <td>...</td>\n",
       "      <td>...</td>\n",
       "      <td>...</td>\n",
       "      <td>...</td>\n",
       "      <td>...</td>\n",
       "      <td>...</td>\n",
       "      <td>...</td>\n",
       "      <td>...</td>\n",
       "      <td>...</td>\n",
       "      <td>...</td>\n",
       "      <td>...</td>\n",
       "      <td>...</td>\n",
       "      <td>...</td>\n",
       "      <td>...</td>\n",
       "      <td>...</td>\n",
       "    </tr>\n",
       "    <tr>\n",
       "      <th>655</th>\n",
       "      <td>Yellowjacket II</td>\n",
       "      <td>Female</td>\n",
       "      <td>blue</td>\n",
       "      <td>Human</td>\n",
       "      <td>Strawberry Blond</td>\n",
       "      <td>165.0</td>\n",
       "      <td>Marvel Comics</td>\n",
       "      <td>-</td>\n",
       "      <td>good</td>\n",
       "      <td>52.0</td>\n",
       "      <td>...</td>\n",
       "      <td>False</td>\n",
       "      <td>False</td>\n",
       "      <td>False</td>\n",
       "      <td>False</td>\n",
       "      <td>False</td>\n",
       "      <td>False</td>\n",
       "      <td>False</td>\n",
       "      <td>False</td>\n",
       "      <td>False</td>\n",
       "      <td>False</td>\n",
       "    </tr>\n",
       "    <tr>\n",
       "      <th>656</th>\n",
       "      <td>Ymir</td>\n",
       "      <td>Male</td>\n",
       "      <td>white</td>\n",
       "      <td>Frost Giant</td>\n",
       "      <td>No Hair</td>\n",
       "      <td>304.8</td>\n",
       "      <td>Marvel Comics</td>\n",
       "      <td>white</td>\n",
       "      <td>good</td>\n",
       "      <td>-99.0</td>\n",
       "      <td>...</td>\n",
       "      <td>False</td>\n",
       "      <td>False</td>\n",
       "      <td>False</td>\n",
       "      <td>False</td>\n",
       "      <td>False</td>\n",
       "      <td>False</td>\n",
       "      <td>False</td>\n",
       "      <td>False</td>\n",
       "      <td>False</td>\n",
       "      <td>False</td>\n",
       "    </tr>\n",
       "    <tr>\n",
       "      <th>657</th>\n",
       "      <td>Yoda</td>\n",
       "      <td>Male</td>\n",
       "      <td>brown</td>\n",
       "      <td>Yoda's species</td>\n",
       "      <td>White</td>\n",
       "      <td>66.0</td>\n",
       "      <td>George Lucas</td>\n",
       "      <td>green</td>\n",
       "      <td>good</td>\n",
       "      <td>17.0</td>\n",
       "      <td>...</td>\n",
       "      <td>False</td>\n",
       "      <td>False</td>\n",
       "      <td>False</td>\n",
       "      <td>False</td>\n",
       "      <td>False</td>\n",
       "      <td>False</td>\n",
       "      <td>False</td>\n",
       "      <td>False</td>\n",
       "      <td>False</td>\n",
       "      <td>False</td>\n",
       "    </tr>\n",
       "    <tr>\n",
       "      <th>658</th>\n",
       "      <td>Zatanna</td>\n",
       "      <td>Female</td>\n",
       "      <td>blue</td>\n",
       "      <td>Human</td>\n",
       "      <td>Black</td>\n",
       "      <td>170.0</td>\n",
       "      <td>DC Comics</td>\n",
       "      <td>-</td>\n",
       "      <td>good</td>\n",
       "      <td>57.0</td>\n",
       "      <td>...</td>\n",
       "      <td>False</td>\n",
       "      <td>False</td>\n",
       "      <td>False</td>\n",
       "      <td>False</td>\n",
       "      <td>False</td>\n",
       "      <td>False</td>\n",
       "      <td>False</td>\n",
       "      <td>False</td>\n",
       "      <td>False</td>\n",
       "      <td>False</td>\n",
       "    </tr>\n",
       "    <tr>\n",
       "      <th>659</th>\n",
       "      <td>Zoom</td>\n",
       "      <td>Male</td>\n",
       "      <td>red</td>\n",
       "      <td>-</td>\n",
       "      <td>Brown</td>\n",
       "      <td>185.0</td>\n",
       "      <td>DC Comics</td>\n",
       "      <td>-</td>\n",
       "      <td>bad</td>\n",
       "      <td>81.0</td>\n",
       "      <td>...</td>\n",
       "      <td>False</td>\n",
       "      <td>False</td>\n",
       "      <td>False</td>\n",
       "      <td>False</td>\n",
       "      <td>False</td>\n",
       "      <td>False</td>\n",
       "      <td>False</td>\n",
       "      <td>False</td>\n",
       "      <td>False</td>\n",
       "      <td>False</td>\n",
       "    </tr>\n",
       "  </tbody>\n",
       "</table>\n",
       "<p>660 rows × 178 columns</p>\n",
       "</div>"
      ],
      "text/plain": [
       "                name  Gender Eye color               Race        Hair color  \\\n",
       "0             A-Bomb    Male    yellow              Human           No Hair   \n",
       "1         Abe Sapien    Male      blue      Icthyo Sapien           No Hair   \n",
       "2           Abin Sur    Male      blue            Ungaran           No Hair   \n",
       "3        Abomination    Male     green  Human / Radiation           No Hair   \n",
       "4            Abraxas    Male      blue      Cosmic Entity             Black   \n",
       "..               ...     ...       ...                ...               ...   \n",
       "655  Yellowjacket II  Female      blue              Human  Strawberry Blond   \n",
       "656             Ymir    Male     white        Frost Giant           No Hair   \n",
       "657             Yoda    Male     brown     Yoda's species             White   \n",
       "658          Zatanna  Female      blue              Human             Black   \n",
       "659             Zoom    Male       red                  -             Brown   \n",
       "\n",
       "     Height          Publisher Skin color Alignment  Weight  ... Web Creation  \\\n",
       "0     203.0      Marvel Comics          -      good   441.0  ...        False   \n",
       "1     191.0  Dark Horse Comics       blue      good    65.0  ...        False   \n",
       "2     185.0          DC Comics        red      good    90.0  ...        False   \n",
       "3     203.0      Marvel Comics          -       bad   441.0  ...        False   \n",
       "4     -99.0      Marvel Comics          -       bad   -99.0  ...        False   \n",
       "..      ...                ...        ...       ...     ...  ...          ...   \n",
       "655   165.0      Marvel Comics          -      good    52.0  ...        False   \n",
       "656   304.8      Marvel Comics      white      good   -99.0  ...        False   \n",
       "657    66.0       George Lucas      green      good    17.0  ...        False   \n",
       "658   170.0          DC Comics          -      good    57.0  ...        False   \n",
       "659   185.0          DC Comics          -       bad    81.0  ...        False   \n",
       "\n",
       "     Reality Warping  Odin Force  Symbiote Costume  Speed Force  \\\n",
       "0              False       False             False        False   \n",
       "1              False       False             False        False   \n",
       "2              False       False             False        False   \n",
       "3              False       False             False        False   \n",
       "4              False       False             False        False   \n",
       "..               ...         ...               ...          ...   \n",
       "655            False       False             False        False   \n",
       "656            False       False             False        False   \n",
       "657            False       False             False        False   \n",
       "658            False       False             False        False   \n",
       "659            False       False             False        False   \n",
       "\n",
       "     Phoenix Force  Molecular Dissipation  Vision - Cryo  Omnipresent  \\\n",
       "0            False                  False          False        False   \n",
       "1            False                  False          False        False   \n",
       "2            False                  False          False        False   \n",
       "3            False                  False          False        False   \n",
       "4            False                  False          False        False   \n",
       "..             ...                    ...            ...          ...   \n",
       "655          False                  False          False        False   \n",
       "656          False                  False          False        False   \n",
       "657          False                  False          False        False   \n",
       "658          False                  False          False        False   \n",
       "659          False                  False          False        False   \n",
       "\n",
       "     Omniscient  \n",
       "0         False  \n",
       "1         False  \n",
       "2         False  \n",
       "3         False  \n",
       "4         False  \n",
       "..          ...  \n",
       "655       False  \n",
       "656       False  \n",
       "657       False  \n",
       "658       False  \n",
       "659       False  \n",
       "\n",
       "[660 rows x 178 columns]"
      ]
     },
     "execution_count": 191,
     "metadata": {},
     "output_type": "execute_result"
    }
   ],
   "source": [
    "df = pd.merge(heroes_df,powers_df,left_on='name',right_on='hero_names',how='inner')\n",
    "df"
   ]
  },
  {
   "cell_type": "markdown",
   "metadata": {},
   "source": [
    "# Topic 06 Study Group - Superheroes Continued"
   ]
  },
  {
   "cell_type": "markdown",
   "metadata": {},
   "source": [
    "In the cell below, subset male and female heroes into different dataframes.  Create a scatterplot of the height and weight of each hero, with weight as the y-axis.  Plot both the male and female heroes subset into each dataframe, and make the color for each point in the scatterplot correspond to the gender of the superhero."
   ]
  },
  {
   "cell_type": "code",
   "execution_count": 192,
   "metadata": {},
   "outputs": [
    {
     "data": {
      "text/plain": [
       "<AxesSubplot:xlabel='Height', ylabel='Weight'>"
      ]
     },
     "execution_count": 192,
     "metadata": {},
     "output_type": "execute_result"
    },
    {
     "data": {
      "image/png": "[encoded data removed]",
      "text/plain": [
       "<Figure size 432x288 with 1 Axes>"
      ]
     },
     "metadata": {
      "needs_background": "light"
     },
     "output_type": "display_data"
    }
   ],
   "source": [
    "# plt.style.use('seaborn-talk')\n",
    "sns.scatterplot(data=df, x='Height', y='Weight',hue='Gender')"
   ]
  },
  {
   "cell_type": "markdown",
   "metadata": {},
   "source": [
    "### Addressing -99s"
   ]
  },
  {
   "cell_type": "code",
   "execution_count": 193,
   "metadata": {},
   "outputs": [
    {
     "data": {
      "text/html": [
       "<div>\n",
       "<style scoped>\n",
       "    .dataframe tbody tr th:only-of-type {\n",
       "        vertical-align: middle;\n",
       "    }\n",
       "\n",
       "    .dataframe tbody tr th {\n",
       "        vertical-align: top;\n",
       "    }\n",
       "\n",
       "    .dataframe thead th {\n",
       "        text-align: right;\n",
       "    }\n",
       "</style>\n",
       "<table border=\"1\" class=\"dataframe\">\n",
       "  <thead>\n",
       "    <tr style=\"text-align: right;\">\n",
       "      <th></th>\n",
       "      <th>name</th>\n",
       "      <th>Gender</th>\n",
       "      <th>Eye color</th>\n",
       "      <th>Race</th>\n",
       "      <th>Hair color</th>\n",
       "      <th>Height</th>\n",
       "      <th>Publisher</th>\n",
       "      <th>Skin color</th>\n",
       "      <th>Alignment</th>\n",
       "      <th>Weight</th>\n",
       "      <th>...</th>\n",
       "      <th>Web Creation</th>\n",
       "      <th>Reality Warping</th>\n",
       "      <th>Odin Force</th>\n",
       "      <th>Symbiote Costume</th>\n",
       "      <th>Speed Force</th>\n",
       "      <th>Phoenix Force</th>\n",
       "      <th>Molecular Dissipation</th>\n",
       "      <th>Vision - Cryo</th>\n",
       "      <th>Omnipresent</th>\n",
       "      <th>Omniscient</th>\n",
       "    </tr>\n",
       "  </thead>\n",
       "  <tbody>\n",
       "    <tr>\n",
       "      <th>4</th>\n",
       "      <td>Abraxas</td>\n",
       "      <td>Male</td>\n",
       "      <td>blue</td>\n",
       "      <td>Cosmic Entity</td>\n",
       "      <td>Black</td>\n",
       "      <td>-99.0</td>\n",
       "      <td>Marvel Comics</td>\n",
       "      <td>-</td>\n",
       "      <td>bad</td>\n",
       "      <td>-99.0</td>\n",
       "      <td>...</td>\n",
       "      <td>False</td>\n",
       "      <td>False</td>\n",
       "      <td>False</td>\n",
       "      <td>False</td>\n",
       "      <td>False</td>\n",
       "      <td>False</td>\n",
       "      <td>False</td>\n",
       "      <td>False</td>\n",
       "      <td>False</td>\n",
       "      <td>False</td>\n",
       "    </tr>\n",
       "    <tr>\n",
       "      <th>6</th>\n",
       "      <td>Adam Monroe</td>\n",
       "      <td>Male</td>\n",
       "      <td>blue</td>\n",
       "      <td>-</td>\n",
       "      <td>Blond</td>\n",
       "      <td>-99.0</td>\n",
       "      <td>NBC - Heroes</td>\n",
       "      <td>-</td>\n",
       "      <td>good</td>\n",
       "      <td>-99.0</td>\n",
       "      <td>...</td>\n",
       "      <td>False</td>\n",
       "      <td>False</td>\n",
       "      <td>False</td>\n",
       "      <td>False</td>\n",
       "      <td>False</td>\n",
       "      <td>False</td>\n",
       "      <td>False</td>\n",
       "      <td>False</td>\n",
       "      <td>False</td>\n",
       "      <td>False</td>\n",
       "    </tr>\n",
       "    <tr>\n",
       "      <th>13</th>\n",
       "      <td>Alex Mercer</td>\n",
       "      <td>Male</td>\n",
       "      <td>-</td>\n",
       "      <td>Human</td>\n",
       "      <td>-</td>\n",
       "      <td>-99.0</td>\n",
       "      <td>Wildstorm</td>\n",
       "      <td>-</td>\n",
       "      <td>bad</td>\n",
       "      <td>-99.0</td>\n",
       "      <td>...</td>\n",
       "      <td>False</td>\n",
       "      <td>False</td>\n",
       "      <td>False</td>\n",
       "      <td>False</td>\n",
       "      <td>False</td>\n",
       "      <td>False</td>\n",
       "      <td>False</td>\n",
       "      <td>False</td>\n",
       "      <td>False</td>\n",
       "      <td>False</td>\n",
       "    </tr>\n",
       "    <tr>\n",
       "      <th>14</th>\n",
       "      <td>Alex Woolsly</td>\n",
       "      <td>Male</td>\n",
       "      <td>-</td>\n",
       "      <td>-</td>\n",
       "      <td>-</td>\n",
       "      <td>-99.0</td>\n",
       "      <td>NBC - Heroes</td>\n",
       "      <td>-</td>\n",
       "      <td>good</td>\n",
       "      <td>-99.0</td>\n",
       "      <td>...</td>\n",
       "      <td>False</td>\n",
       "      <td>False</td>\n",
       "      <td>False</td>\n",
       "      <td>False</td>\n",
       "      <td>False</td>\n",
       "      <td>False</td>\n",
       "      <td>False</td>\n",
       "      <td>False</td>\n",
       "      <td>False</td>\n",
       "      <td>False</td>\n",
       "    </tr>\n",
       "    <tr>\n",
       "      <th>16</th>\n",
       "      <td>Allan Quatermain</td>\n",
       "      <td>Male</td>\n",
       "      <td>-</td>\n",
       "      <td>-</td>\n",
       "      <td>-</td>\n",
       "      <td>-99.0</td>\n",
       "      <td>Wildstorm</td>\n",
       "      <td>-</td>\n",
       "      <td>good</td>\n",
       "      <td>-99.0</td>\n",
       "      <td>...</td>\n",
       "      <td>False</td>\n",
       "      <td>False</td>\n",
       "      <td>False</td>\n",
       "      <td>False</td>\n",
       "      <td>False</td>\n",
       "      <td>False</td>\n",
       "      <td>False</td>\n",
       "      <td>False</td>\n",
       "      <td>False</td>\n",
       "      <td>False</td>\n",
       "    </tr>\n",
       "    <tr>\n",
       "      <th>...</th>\n",
       "      <td>...</td>\n",
       "      <td>...</td>\n",
       "      <td>...</td>\n",
       "      <td>...</td>\n",
       "      <td>...</td>\n",
       "      <td>...</td>\n",
       "      <td>...</td>\n",
       "      <td>...</td>\n",
       "      <td>...</td>\n",
       "      <td>...</td>\n",
       "      <td>...</td>\n",
       "      <td>...</td>\n",
       "      <td>...</td>\n",
       "      <td>...</td>\n",
       "      <td>...</td>\n",
       "      <td>...</td>\n",
       "      <td>...</td>\n",
       "      <td>...</td>\n",
       "      <td>...</td>\n",
       "      <td>...</td>\n",
       "      <td>...</td>\n",
       "    </tr>\n",
       "    <tr>\n",
       "      <th>642</th>\n",
       "      <td>Watcher</td>\n",
       "      <td>Male</td>\n",
       "      <td>-</td>\n",
       "      <td>-</td>\n",
       "      <td>-</td>\n",
       "      <td>-99.0</td>\n",
       "      <td>Marvel Comics</td>\n",
       "      <td>-</td>\n",
       "      <td>good</td>\n",
       "      <td>-99.0</td>\n",
       "      <td>...</td>\n",
       "      <td>False</td>\n",
       "      <td>False</td>\n",
       "      <td>False</td>\n",
       "      <td>False</td>\n",
       "      <td>False</td>\n",
       "      <td>False</td>\n",
       "      <td>False</td>\n",
       "      <td>False</td>\n",
       "      <td>False</td>\n",
       "      <td>False</td>\n",
       "    </tr>\n",
       "    <tr>\n",
       "      <th>643</th>\n",
       "      <td>Weapon XI</td>\n",
       "      <td>Male</td>\n",
       "      <td>-</td>\n",
       "      <td>-</td>\n",
       "      <td>-</td>\n",
       "      <td>-99.0</td>\n",
       "      <td>Marvel Comics</td>\n",
       "      <td>-</td>\n",
       "      <td>bad</td>\n",
       "      <td>-99.0</td>\n",
       "      <td>...</td>\n",
       "      <td>False</td>\n",
       "      <td>False</td>\n",
       "      <td>False</td>\n",
       "      <td>False</td>\n",
       "      <td>False</td>\n",
       "      <td>False</td>\n",
       "      <td>False</td>\n",
       "      <td>False</td>\n",
       "      <td>False</td>\n",
       "      <td>False</td>\n",
       "    </tr>\n",
       "    <tr>\n",
       "      <th>644</th>\n",
       "      <td>White Canary</td>\n",
       "      <td>Female</td>\n",
       "      <td>brown</td>\n",
       "      <td>Human</td>\n",
       "      <td>Black</td>\n",
       "      <td>-99.0</td>\n",
       "      <td>DC Comics</td>\n",
       "      <td>-</td>\n",
       "      <td>bad</td>\n",
       "      <td>-99.0</td>\n",
       "      <td>...</td>\n",
       "      <td>False</td>\n",
       "      <td>False</td>\n",
       "      <td>False</td>\n",
       "      <td>False</td>\n",
       "      <td>False</td>\n",
       "      <td>False</td>\n",
       "      <td>False</td>\n",
       "      <td>False</td>\n",
       "      <td>False</td>\n",
       "      <td>False</td>\n",
       "    </tr>\n",
       "    <tr>\n",
       "      <th>645</th>\n",
       "      <td>Wildfire</td>\n",
       "      <td>Male</td>\n",
       "      <td>-</td>\n",
       "      <td>-</td>\n",
       "      <td>-</td>\n",
       "      <td>-99.0</td>\n",
       "      <td>DC Comics</td>\n",
       "      <td>-</td>\n",
       "      <td>good</td>\n",
       "      <td>-99.0</td>\n",
       "      <td>...</td>\n",
       "      <td>False</td>\n",
       "      <td>False</td>\n",
       "      <td>False</td>\n",
       "      <td>False</td>\n",
       "      <td>False</td>\n",
       "      <td>False</td>\n",
       "      <td>False</td>\n",
       "      <td>False</td>\n",
       "      <td>False</td>\n",
       "      <td>False</td>\n",
       "    </tr>\n",
       "    <tr>\n",
       "      <th>656</th>\n",
       "      <td>Ymir</td>\n",
       "      <td>Male</td>\n",
       "      <td>white</td>\n",
       "      <td>Frost Giant</td>\n",
       "      <td>No Hair</td>\n",
       "      <td>304.8</td>\n",
       "      <td>Marvel Comics</td>\n",
       "      <td>white</td>\n",
       "      <td>good</td>\n",
       "      <td>-99.0</td>\n",
       "      <td>...</td>\n",
       "      <td>False</td>\n",
       "      <td>False</td>\n",
       "      <td>False</td>\n",
       "      <td>False</td>\n",
       "      <td>False</td>\n",
       "      <td>False</td>\n",
       "      <td>False</td>\n",
       "      <td>False</td>\n",
       "      <td>False</td>\n",
       "      <td>False</td>\n",
       "    </tr>\n",
       "  </tbody>\n",
       "</table>\n",
       "<p>195 rows × 178 columns</p>\n",
       "</div>"
      ],
      "text/plain": [
       "                 name  Gender Eye color           Race Hair color  Height  \\\n",
       "4             Abraxas    Male      blue  Cosmic Entity      Black   -99.0   \n",
       "6         Adam Monroe    Male      blue              -      Blond   -99.0   \n",
       "13        Alex Mercer    Male         -          Human          -   -99.0   \n",
       "14       Alex Woolsly    Male         -              -          -   -99.0   \n",
       "16   Allan Quatermain    Male         -              -          -   -99.0   \n",
       "..                ...     ...       ...            ...        ...     ...   \n",
       "642           Watcher    Male         -              -          -   -99.0   \n",
       "643         Weapon XI    Male         -              -          -   -99.0   \n",
       "644      White Canary  Female     brown          Human      Black   -99.0   \n",
       "645          Wildfire    Male         -              -          -   -99.0   \n",
       "656              Ymir    Male     white    Frost Giant    No Hair   304.8   \n",
       "\n",
       "         Publisher Skin color Alignment  Weight  ... Web Creation  \\\n",
       "4    Marvel Comics          -       bad   -99.0  ...        False   \n",
       "6     NBC - Heroes          -      good   -99.0  ...        False   \n",
       "13       Wildstorm          -       bad   -99.0  ...        False   \n",
       "14    NBC - Heroes          -      good   -99.0  ...        False   \n",
       "16       Wildstorm          -      good   -99.0  ...        False   \n",
       "..             ...        ...       ...     ...  ...          ...   \n",
       "642  Marvel Comics          -      good   -99.0  ...        False   \n",
       "643  Marvel Comics          -       bad   -99.0  ...        False   \n",
       "644      DC Comics          -       bad   -99.0  ...        False   \n",
       "645      DC Comics          -      good   -99.0  ...        False   \n",
       "656  Marvel Comics      white      good   -99.0  ...        False   \n",
       "\n",
       "     Reality Warping  Odin Force  Symbiote Costume  Speed Force  \\\n",
       "4              False       False             False        False   \n",
       "6              False       False             False        False   \n",
       "13             False       False             False        False   \n",
       "14             False       False             False        False   \n",
       "16             False       False             False        False   \n",
       "..               ...         ...               ...          ...   \n",
       "642            False       False             False        False   \n",
       "643            False       False             False        False   \n",
       "644            False       False             False        False   \n",
       "645            False       False             False        False   \n",
       "656            False       False             False        False   \n",
       "\n",
       "     Phoenix Force  Molecular Dissipation  Vision - Cryo  Omnipresent  \\\n",
       "4            False                  False          False        False   \n",
       "6            False                  False          False        False   \n",
       "13           False                  False          False        False   \n",
       "14           False                  False          False        False   \n",
       "16           False                  False          False        False   \n",
       "..             ...                    ...            ...          ...   \n",
       "642          False                  False          False        False   \n",
       "643          False                  False          False        False   \n",
       "644          False                  False          False        False   \n",
       "645          False                  False          False        False   \n",
       "656          False                  False          False        False   \n",
       "\n",
       "     Omniscient  \n",
       "4         False  \n",
       "6         False  \n",
       "13        False  \n",
       "14        False  \n",
       "16        False  \n",
       "..          ...  \n",
       "642       False  \n",
       "643       False  \n",
       "644       False  \n",
       "645       False  \n",
       "656       False  \n",
       "\n",
       "[195 rows x 178 columns]"
      ]
     },
     "execution_count": 193,
     "metadata": {},
     "output_type": "execute_result"
    }
   ],
   "source": [
    "## Visualize all heroes that had a negative height or weight\n",
    "df[(df['Height']<0) | (df['Weight']<0)]"
   ]
  },
  {
   "cell_type": "code",
   "execution_count": 194,
   "metadata": {},
   "outputs": [
    {
     "data": {
      "text/plain": [
       "170"
      ]
     },
     "execution_count": 194,
     "metadata": {},
     "output_type": "execute_result"
    }
   ],
   "source": [
    "## Replace Negative Heights with NaN - Use .map\n",
    "df['Height'] = df['Height'].map(lambda x: np.nan if x<0 else x)\n",
    "df['Height'].isna().sum()"
   ]
  },
  {
   "cell_type": "code",
   "execution_count": 195,
   "metadata": {},
   "outputs": [
    {
     "data": {
      "text/plain": [
       "190"
      ]
     },
     "execution_count": 195,
     "metadata": {},
     "output_type": "execute_result"
    }
   ],
   "source": [
    "## Replace Negative Weights with NaN - Use .loc indexing\n",
    "df.loc[ (df['Weight']<0),'Weight'] = np.nan\n",
    "df['Weight'].isna().sum()"
   ]
  },
  {
   "cell_type": "code",
   "execution_count": 196,
   "metadata": {},
   "outputs": [
    {
     "data": {
      "text/html": [
       "<div>\n",
       "<style scoped>\n",
       "    .dataframe tbody tr th:only-of-type {\n",
       "        vertical-align: middle;\n",
       "    }\n",
       "\n",
       "    .dataframe tbody tr th {\n",
       "        vertical-align: top;\n",
       "    }\n",
       "\n",
       "    .dataframe thead th {\n",
       "        text-align: right;\n",
       "    }\n",
       "</style>\n",
       "<table border=\"1\" class=\"dataframe\">\n",
       "  <thead>\n",
       "    <tr style=\"text-align: right;\">\n",
       "      <th></th>\n",
       "      <th>name</th>\n",
       "      <th>Gender</th>\n",
       "      <th>Eye color</th>\n",
       "      <th>Race</th>\n",
       "      <th>Hair color</th>\n",
       "      <th>Height</th>\n",
       "      <th>Publisher</th>\n",
       "      <th>Skin color</th>\n",
       "      <th>Alignment</th>\n",
       "      <th>Weight</th>\n",
       "      <th>...</th>\n",
       "      <th>Web Creation</th>\n",
       "      <th>Reality Warping</th>\n",
       "      <th>Odin Force</th>\n",
       "      <th>Symbiote Costume</th>\n",
       "      <th>Speed Force</th>\n",
       "      <th>Phoenix Force</th>\n",
       "      <th>Molecular Dissipation</th>\n",
       "      <th>Vision - Cryo</th>\n",
       "      <th>Omnipresent</th>\n",
       "      <th>Omniscient</th>\n",
       "    </tr>\n",
       "  </thead>\n",
       "  <tbody>\n",
       "  </tbody>\n",
       "</table>\n",
       "<p>0 rows × 178 columns</p>\n",
       "</div>"
      ],
      "text/plain": [
       "Empty DataFrame\n",
       "Columns: [name, Gender, Eye color, Race, Hair color, Height, Publisher, Skin color, Alignment, Weight, hero_names, Agility, Accelerated Healing, Lantern Power Ring, Dimensional Awareness, Cold Resistance, Durability, Stealth, Energy Absorption, Flight, Danger Sense, Underwater breathing, Marksmanship, Weapons Master, Power Augmentation, Animal Attributes, Longevity, Intelligence, Super Strength, Cryokinesis, Telepathy, Energy Armor, Energy Blasts, Duplication, Size Changing, Density Control, Stamina, Astral Travel, Audio Control, Dexterity, Omnitrix, Super Speed, Possession, Animal Oriented Powers, Weapon-based Powers, Electrokinesis, Darkforce Manipulation, Death Touch, Teleportation, Enhanced Senses, Telekinesis, Energy Beams, Magic, Hyperkinesis, Jump, Clairvoyance, Dimensional Travel, Power Sense, Shapeshifting, Peak Human Condition, Immortality, Camouflage, Element Control, Phasing, Astral Projection, Electrical Transport, Fire Control, Projection, Summoning, Enhanced Memory, Reflexes, Invulnerability, Energy Constructs, Force Fields, Self-Sustenance, Anti-Gravity, Empathy, Power Nullifier, Radiation Control, Psionic Powers, Elasticity, Substance Secretion, Elemental Transmogrification, Technopath/Cyberpath, Photographic Reflexes, Seismic Power, Animation, Precognition, Mind Control, Fire Resistance, Power Absorption, Enhanced Hearing, Nova Force, Insanity, Hypnokinesis, Animal Control, Natural Armor, Intangibility, Enhanced Sight, Molecular Manipulation, ...]\n",
       "Index: []\n",
       "\n",
       "[0 rows x 178 columns]"
      ]
     },
     "execution_count": 196,
     "metadata": {},
     "output_type": "execute_result"
    }
   ],
   "source": [
    "## Check for negaative heights/weights again\n",
    "df[(df['Height']<0) | (df['Weight']<0)]"
   ]
  },
  {
   "cell_type": "markdown",
   "metadata": {},
   "source": [
    "### Filling Height and Weight using Gender-means"
   ]
  },
  {
   "cell_type": "code",
   "execution_count": 197,
   "metadata": {},
   "outputs": [
    {
     "data": {
      "text/html": [
       "<div>\n",
       "<style scoped>\n",
       "    .dataframe tbody tr th:only-of-type {\n",
       "        vertical-align: middle;\n",
       "    }\n",
       "\n",
       "    .dataframe tbody tr th {\n",
       "        vertical-align: top;\n",
       "    }\n",
       "\n",
       "    .dataframe thead th {\n",
       "        text-align: right;\n",
       "    }\n",
       "</style>\n",
       "<table border=\"1\" class=\"dataframe\">\n",
       "  <thead>\n",
       "    <tr style=\"text-align: right;\">\n",
       "      <th></th>\n",
       "      <th>Height</th>\n",
       "      <th>Weight</th>\n",
       "    </tr>\n",
       "    <tr>\n",
       "      <th>Gender</th>\n",
       "      <th></th>\n",
       "      <th></th>\n",
       "    </tr>\n",
       "  </thead>\n",
       "  <tbody>\n",
       "    <tr>\n",
       "      <th>-</th>\n",
       "      <td>177.666667</td>\n",
       "      <td>243.888889</td>\n",
       "    </tr>\n",
       "    <tr>\n",
       "      <th>Female</th>\n",
       "      <td>174.748175</td>\n",
       "      <td>79.859259</td>\n",
       "    </tr>\n",
       "    <tr>\n",
       "      <th>Male</th>\n",
       "      <td>192.462209</td>\n",
       "      <td>128.874233</td>\n",
       "    </tr>\n",
       "  </tbody>\n",
       "</table>\n",
       "</div>"
      ],
      "text/plain": [
       "            Height      Weight\n",
       "Gender                        \n",
       "-       177.666667  243.888889\n",
       "Female  174.748175   79.859259\n",
       "Male    192.462209  128.874233"
      ]
     },
     "execution_count": 197,
     "metadata": {},
     "output_type": "execute_result"
    }
   ],
   "source": [
    "## Get the mean height and weight by gender using .groupby\n",
    "gender_vals = df.groupby('Gender')[['Height','Weight']].mean()\n",
    "gender_vals"
   ]
  },
  {
   "cell_type": "code",
   "execution_count": 198,
   "metadata": {},
   "outputs": [
    {
     "data": {
      "text/html": [
       "<div>\n",
       "<style scoped>\n",
       "    .dataframe tbody tr th:only-of-type {\n",
       "        vertical-align: middle;\n",
       "    }\n",
       "\n",
       "    .dataframe tbody tr th {\n",
       "        vertical-align: top;\n",
       "    }\n",
       "\n",
       "    .dataframe thead th {\n",
       "        text-align: right;\n",
       "    }\n",
       "</style>\n",
       "<table border=\"1\" class=\"dataframe\">\n",
       "  <thead>\n",
       "    <tr style=\"text-align: right;\">\n",
       "      <th></th>\n",
       "      <th>Height</th>\n",
       "      <th>Weight</th>\n",
       "      <th>Agility</th>\n",
       "      <th>Accelerated Healing</th>\n",
       "      <th>Lantern Power Ring</th>\n",
       "      <th>Dimensional Awareness</th>\n",
       "      <th>Cold Resistance</th>\n",
       "      <th>Durability</th>\n",
       "      <th>Stealth</th>\n",
       "      <th>Energy Absorption</th>\n",
       "      <th>...</th>\n",
       "      <th>Web Creation</th>\n",
       "      <th>Reality Warping</th>\n",
       "      <th>Odin Force</th>\n",
       "      <th>Symbiote Costume</th>\n",
       "      <th>Speed Force</th>\n",
       "      <th>Phoenix Force</th>\n",
       "      <th>Molecular Dissipation</th>\n",
       "      <th>Vision - Cryo</th>\n",
       "      <th>Omnipresent</th>\n",
       "      <th>Omniscient</th>\n",
       "    </tr>\n",
       "    <tr>\n",
       "      <th>Gender</th>\n",
       "      <th></th>\n",
       "      <th></th>\n",
       "      <th></th>\n",
       "      <th></th>\n",
       "      <th></th>\n",
       "      <th></th>\n",
       "      <th></th>\n",
       "      <th></th>\n",
       "      <th></th>\n",
       "      <th></th>\n",
       "      <th></th>\n",
       "      <th></th>\n",
       "      <th></th>\n",
       "      <th></th>\n",
       "      <th></th>\n",
       "      <th></th>\n",
       "      <th></th>\n",
       "      <th></th>\n",
       "      <th></th>\n",
       "      <th></th>\n",
       "      <th></th>\n",
       "    </tr>\n",
       "  </thead>\n",
       "  <tbody>\n",
       "    <tr>\n",
       "      <th>-</th>\n",
       "      <td>183.0</td>\n",
       "      <td>99.0</td>\n",
       "      <td>False</td>\n",
       "      <td>False</td>\n",
       "      <td>False</td>\n",
       "      <td>False</td>\n",
       "      <td>False</td>\n",
       "      <td>False</td>\n",
       "      <td>False</td>\n",
       "      <td>False</td>\n",
       "      <td>...</td>\n",
       "      <td>False</td>\n",
       "      <td>False</td>\n",
       "      <td>False</td>\n",
       "      <td>False</td>\n",
       "      <td>False</td>\n",
       "      <td>False</td>\n",
       "      <td>False</td>\n",
       "      <td>False</td>\n",
       "      <td>False</td>\n",
       "      <td>False</td>\n",
       "    </tr>\n",
       "    <tr>\n",
       "      <th>Female</th>\n",
       "      <td>170.0</td>\n",
       "      <td>58.0</td>\n",
       "      <td>False</td>\n",
       "      <td>False</td>\n",
       "      <td>False</td>\n",
       "      <td>False</td>\n",
       "      <td>False</td>\n",
       "      <td>False</td>\n",
       "      <td>False</td>\n",
       "      <td>False</td>\n",
       "      <td>...</td>\n",
       "      <td>False</td>\n",
       "      <td>False</td>\n",
       "      <td>False</td>\n",
       "      <td>False</td>\n",
       "      <td>False</td>\n",
       "      <td>False</td>\n",
       "      <td>False</td>\n",
       "      <td>False</td>\n",
       "      <td>False</td>\n",
       "      <td>False</td>\n",
       "    </tr>\n",
       "    <tr>\n",
       "      <th>Male</th>\n",
       "      <td>185.0</td>\n",
       "      <td>90.0</td>\n",
       "      <td>False</td>\n",
       "      <td>False</td>\n",
       "      <td>False</td>\n",
       "      <td>False</td>\n",
       "      <td>False</td>\n",
       "      <td>False</td>\n",
       "      <td>False</td>\n",
       "      <td>False</td>\n",
       "      <td>...</td>\n",
       "      <td>False</td>\n",
       "      <td>False</td>\n",
       "      <td>False</td>\n",
       "      <td>False</td>\n",
       "      <td>False</td>\n",
       "      <td>False</td>\n",
       "      <td>False</td>\n",
       "      <td>False</td>\n",
       "      <td>False</td>\n",
       "      <td>False</td>\n",
       "    </tr>\n",
       "  </tbody>\n",
       "</table>\n",
       "<p>3 rows × 169 columns</p>\n",
       "</div>"
      ],
      "text/plain": [
       "        Height  Weight  Agility  Accelerated Healing  Lantern Power Ring  \\\n",
       "Gender                                                                     \n",
       "-        183.0    99.0    False                False               False   \n",
       "Female   170.0    58.0    False                False               False   \n",
       "Male     185.0    90.0    False                False               False   \n",
       "\n",
       "        Dimensional Awareness  Cold Resistance  Durability  Stealth  \\\n",
       "Gender                                                                \n",
       "-                       False            False       False    False   \n",
       "Female                  False            False       False    False   \n",
       "Male                    False            False       False    False   \n",
       "\n",
       "        Energy Absorption  ...  Web Creation  Reality Warping  Odin Force  \\\n",
       "Gender                     ...                                              \n",
       "-                   False  ...         False            False       False   \n",
       "Female              False  ...         False            False       False   \n",
       "Male                False  ...         False            False       False   \n",
       "\n",
       "        Symbiote Costume  Speed Force  Phoenix Force  Molecular Dissipation  \\\n",
       "Gender                                                                        \n",
       "-                  False        False          False                  False   \n",
       "Female             False        False          False                  False   \n",
       "Male               False        False          False                  False   \n",
       "\n",
       "        Vision - Cryo  Omnipresent  Omniscient  \n",
       "Gender                                          \n",
       "-               False        False       False  \n",
       "Female          False        False       False  \n",
       "Male            False        False       False  \n",
       "\n",
       "[3 rows x 169 columns]"
      ]
     },
     "execution_count": 198,
     "metadata": {},
     "output_type": "execute_result"
    }
   ],
   "source": [
    "## You can use .agg with a groupy and use the string name of a function\n",
    "df.groupby('Gender').agg('median')"
   ]
  },
  {
   "cell_type": "code",
   "execution_count": 199,
   "metadata": {},
   "outputs": [
    {
     "data": {
      "text/plain": [
       "128.87423312883436"
      ]
     },
     "execution_count": 199,
     "metadata": {},
     "output_type": "execute_result"
    }
   ],
   "source": [
    "## test out slicing out male Weight\n",
    "gender_vals.loc['Male','Weight']"
   ]
  },
  {
   "cell_type": "code",
   "execution_count": 200,
   "metadata": {},
   "outputs": [],
   "source": [
    "# df[(df['Weight'].isna()) & (df['Gender']=='Male')]"
   ]
  },
  {
   "cell_type": "code",
   "execution_count": 201,
   "metadata": {},
   "outputs": [
    {
     "data": {
      "text/html": [
       "<div>\n",
       "<style scoped>\n",
       "    .dataframe tbody tr th:only-of-type {\n",
       "        vertical-align: middle;\n",
       "    }\n",
       "\n",
       "    .dataframe tbody tr th {\n",
       "        vertical-align: top;\n",
       "    }\n",
       "\n",
       "    .dataframe thead th {\n",
       "        text-align: right;\n",
       "    }\n",
       "</style>\n",
       "<table border=\"1\" class=\"dataframe\">\n",
       "  <thead>\n",
       "    <tr style=\"text-align: right;\">\n",
       "      <th></th>\n",
       "      <th>name</th>\n",
       "      <th>Gender</th>\n",
       "      <th>Eye color</th>\n",
       "      <th>Race</th>\n",
       "      <th>Hair color</th>\n",
       "      <th>Height</th>\n",
       "      <th>Publisher</th>\n",
       "      <th>Skin color</th>\n",
       "      <th>Alignment</th>\n",
       "      <th>Weight</th>\n",
       "      <th>...</th>\n",
       "      <th>Web Creation</th>\n",
       "      <th>Reality Warping</th>\n",
       "      <th>Odin Force</th>\n",
       "      <th>Symbiote Costume</th>\n",
       "      <th>Speed Force</th>\n",
       "      <th>Phoenix Force</th>\n",
       "      <th>Molecular Dissipation</th>\n",
       "      <th>Vision - Cryo</th>\n",
       "      <th>Omnipresent</th>\n",
       "      <th>Omniscient</th>\n",
       "    </tr>\n",
       "  </thead>\n",
       "  <tbody>\n",
       "    <tr>\n",
       "      <th>0</th>\n",
       "      <td>A-Bomb</td>\n",
       "      <td>Male</td>\n",
       "      <td>yellow</td>\n",
       "      <td>Human</td>\n",
       "      <td>No Hair</td>\n",
       "      <td>203.0</td>\n",
       "      <td>Marvel Comics</td>\n",
       "      <td>-</td>\n",
       "      <td>good</td>\n",
       "      <td>441.000000</td>\n",
       "      <td>...</td>\n",
       "      <td>False</td>\n",
       "      <td>False</td>\n",
       "      <td>False</td>\n",
       "      <td>False</td>\n",
       "      <td>False</td>\n",
       "      <td>False</td>\n",
       "      <td>False</td>\n",
       "      <td>False</td>\n",
       "      <td>False</td>\n",
       "      <td>False</td>\n",
       "    </tr>\n",
       "    <tr>\n",
       "      <th>1</th>\n",
       "      <td>Abe Sapien</td>\n",
       "      <td>Male</td>\n",
       "      <td>blue</td>\n",
       "      <td>Icthyo Sapien</td>\n",
       "      <td>No Hair</td>\n",
       "      <td>191.0</td>\n",
       "      <td>Dark Horse Comics</td>\n",
       "      <td>blue</td>\n",
       "      <td>good</td>\n",
       "      <td>65.000000</td>\n",
       "      <td>...</td>\n",
       "      <td>False</td>\n",
       "      <td>False</td>\n",
       "      <td>False</td>\n",
       "      <td>False</td>\n",
       "      <td>False</td>\n",
       "      <td>False</td>\n",
       "      <td>False</td>\n",
       "      <td>False</td>\n",
       "      <td>False</td>\n",
       "      <td>False</td>\n",
       "    </tr>\n",
       "    <tr>\n",
       "      <th>2</th>\n",
       "      <td>Abin Sur</td>\n",
       "      <td>Male</td>\n",
       "      <td>blue</td>\n",
       "      <td>Ungaran</td>\n",
       "      <td>No Hair</td>\n",
       "      <td>185.0</td>\n",
       "      <td>DC Comics</td>\n",
       "      <td>red</td>\n",
       "      <td>good</td>\n",
       "      <td>90.000000</td>\n",
       "      <td>...</td>\n",
       "      <td>False</td>\n",
       "      <td>False</td>\n",
       "      <td>False</td>\n",
       "      <td>False</td>\n",
       "      <td>False</td>\n",
       "      <td>False</td>\n",
       "      <td>False</td>\n",
       "      <td>False</td>\n",
       "      <td>False</td>\n",
       "      <td>False</td>\n",
       "    </tr>\n",
       "    <tr>\n",
       "      <th>3</th>\n",
       "      <td>Abomination</td>\n",
       "      <td>Male</td>\n",
       "      <td>green</td>\n",
       "      <td>Human / Radiation</td>\n",
       "      <td>No Hair</td>\n",
       "      <td>203.0</td>\n",
       "      <td>Marvel Comics</td>\n",
       "      <td>-</td>\n",
       "      <td>bad</td>\n",
       "      <td>441.000000</td>\n",
       "      <td>...</td>\n",
       "      <td>False</td>\n",
       "      <td>False</td>\n",
       "      <td>False</td>\n",
       "      <td>False</td>\n",
       "      <td>False</td>\n",
       "      <td>False</td>\n",
       "      <td>False</td>\n",
       "      <td>False</td>\n",
       "      <td>False</td>\n",
       "      <td>False</td>\n",
       "    </tr>\n",
       "    <tr>\n",
       "      <th>4</th>\n",
       "      <td>Abraxas</td>\n",
       "      <td>Male</td>\n",
       "      <td>blue</td>\n",
       "      <td>Cosmic Entity</td>\n",
       "      <td>Black</td>\n",
       "      <td>NaN</td>\n",
       "      <td>Marvel Comics</td>\n",
       "      <td>-</td>\n",
       "      <td>bad</td>\n",
       "      <td>128.874233</td>\n",
       "      <td>...</td>\n",
       "      <td>False</td>\n",
       "      <td>False</td>\n",
       "      <td>False</td>\n",
       "      <td>False</td>\n",
       "      <td>False</td>\n",
       "      <td>False</td>\n",
       "      <td>False</td>\n",
       "      <td>False</td>\n",
       "      <td>False</td>\n",
       "      <td>False</td>\n",
       "    </tr>\n",
       "    <tr>\n",
       "      <th>...</th>\n",
       "      <td>...</td>\n",
       "      <td>...</td>\n",
       "      <td>...</td>\n",
       "      <td>...</td>\n",
       "      <td>...</td>\n",
       "      <td>...</td>\n",
       "      <td>...</td>\n",
       "      <td>...</td>\n",
       "      <td>...</td>\n",
       "      <td>...</td>\n",
       "      <td>...</td>\n",
       "      <td>...</td>\n",
       "      <td>...</td>\n",
       "      <td>...</td>\n",
       "      <td>...</td>\n",
       "      <td>...</td>\n",
       "      <td>...</td>\n",
       "      <td>...</td>\n",
       "      <td>...</td>\n",
       "      <td>...</td>\n",
       "      <td>...</td>\n",
       "    </tr>\n",
       "    <tr>\n",
       "      <th>655</th>\n",
       "      <td>Yellowjacket II</td>\n",
       "      <td>Female</td>\n",
       "      <td>blue</td>\n",
       "      <td>Human</td>\n",
       "      <td>Strawberry Blond</td>\n",
       "      <td>165.0</td>\n",
       "      <td>Marvel Comics</td>\n",
       "      <td>-</td>\n",
       "      <td>good</td>\n",
       "      <td>52.000000</td>\n",
       "      <td>...</td>\n",
       "      <td>False</td>\n",
       "      <td>False</td>\n",
       "      <td>False</td>\n",
       "      <td>False</td>\n",
       "      <td>False</td>\n",
       "      <td>False</td>\n",
       "      <td>False</td>\n",
       "      <td>False</td>\n",
       "      <td>False</td>\n",
       "      <td>False</td>\n",
       "    </tr>\n",
       "    <tr>\n",
       "      <th>656</th>\n",
       "      <td>Ymir</td>\n",
       "      <td>Male</td>\n",
       "      <td>white</td>\n",
       "      <td>Frost Giant</td>\n",
       "      <td>No Hair</td>\n",
       "      <td>304.8</td>\n",
       "      <td>Marvel Comics</td>\n",
       "      <td>white</td>\n",
       "      <td>good</td>\n",
       "      <td>128.874233</td>\n",
       "      <td>...</td>\n",
       "      <td>False</td>\n",
       "      <td>False</td>\n",
       "      <td>False</td>\n",
       "      <td>False</td>\n",
       "      <td>False</td>\n",
       "      <td>False</td>\n",
       "      <td>False</td>\n",
       "      <td>False</td>\n",
       "      <td>False</td>\n",
       "      <td>False</td>\n",
       "    </tr>\n",
       "    <tr>\n",
       "      <th>657</th>\n",
       "      <td>Yoda</td>\n",
       "      <td>Male</td>\n",
       "      <td>brown</td>\n",
       "      <td>Yoda's species</td>\n",
       "      <td>White</td>\n",
       "      <td>66.0</td>\n",
       "      <td>George Lucas</td>\n",
       "      <td>green</td>\n",
       "      <td>good</td>\n",
       "      <td>17.000000</td>\n",
       "      <td>...</td>\n",
       "      <td>False</td>\n",
       "      <td>False</td>\n",
       "      <td>False</td>\n",
       "      <td>False</td>\n",
       "      <td>False</td>\n",
       "      <td>False</td>\n",
       "      <td>False</td>\n",
       "      <td>False</td>\n",
       "      <td>False</td>\n",
       "      <td>False</td>\n",
       "    </tr>\n",
       "    <tr>\n",
       "      <th>658</th>\n",
       "      <td>Zatanna</td>\n",
       "      <td>Female</td>\n",
       "      <td>blue</td>\n",
       "      <td>Human</td>\n",
       "      <td>Black</td>\n",
       "      <td>170.0</td>\n",
       "      <td>DC Comics</td>\n",
       "      <td>-</td>\n",
       "      <td>good</td>\n",
       "      <td>57.000000</td>\n",
       "      <td>...</td>\n",
       "      <td>False</td>\n",
       "      <td>False</td>\n",
       "      <td>False</td>\n",
       "      <td>False</td>\n",
       "      <td>False</td>\n",
       "      <td>False</td>\n",
       "      <td>False</td>\n",
       "      <td>False</td>\n",
       "      <td>False</td>\n",
       "      <td>False</td>\n",
       "    </tr>\n",
       "    <tr>\n",
       "      <th>659</th>\n",
       "      <td>Zoom</td>\n",
       "      <td>Male</td>\n",
       "      <td>red</td>\n",
       "      <td>-</td>\n",
       "      <td>Brown</td>\n",
       "      <td>185.0</td>\n",
       "      <td>DC Comics</td>\n",
       "      <td>-</td>\n",
       "      <td>bad</td>\n",
       "      <td>81.000000</td>\n",
       "      <td>...</td>\n",
       "      <td>False</td>\n",
       "      <td>False</td>\n",
       "      <td>False</td>\n",
       "      <td>False</td>\n",
       "      <td>False</td>\n",
       "      <td>False</td>\n",
       "      <td>False</td>\n",
       "      <td>False</td>\n",
       "      <td>False</td>\n",
       "      <td>False</td>\n",
       "    </tr>\n",
       "  </tbody>\n",
       "</table>\n",
       "<p>660 rows × 178 columns</p>\n",
       "</div>"
      ],
      "text/plain": [
       "                name  Gender Eye color               Race        Hair color  \\\n",
       "0             A-Bomb    Male    yellow              Human           No Hair   \n",
       "1         Abe Sapien    Male      blue      Icthyo Sapien           No Hair   \n",
       "2           Abin Sur    Male      blue            Ungaran           No Hair   \n",
       "3        Abomination    Male     green  Human / Radiation           No Hair   \n",
       "4            Abraxas    Male      blue      Cosmic Entity             Black   \n",
       "..               ...     ...       ...                ...               ...   \n",
       "655  Yellowjacket II  Female      blue              Human  Strawberry Blond   \n",
       "656             Ymir    Male     white        Frost Giant           No Hair   \n",
       "657             Yoda    Male     brown     Yoda's species             White   \n",
       "658          Zatanna  Female      blue              Human             Black   \n",
       "659             Zoom    Male       red                  -             Brown   \n",
       "\n",
       "     Height          Publisher Skin color Alignment      Weight  ...  \\\n",
       "0     203.0      Marvel Comics          -      good  441.000000  ...   \n",
       "1     191.0  Dark Horse Comics       blue      good   65.000000  ...   \n",
       "2     185.0          DC Comics        red      good   90.000000  ...   \n",
       "3     203.0      Marvel Comics          -       bad  441.000000  ...   \n",
       "4       NaN      Marvel Comics          -       bad  128.874233  ...   \n",
       "..      ...                ...        ...       ...         ...  ...   \n",
       "655   165.0      Marvel Comics          -      good   52.000000  ...   \n",
       "656   304.8      Marvel Comics      white      good  128.874233  ...   \n",
       "657    66.0       George Lucas      green      good   17.000000  ...   \n",
       "658   170.0          DC Comics          -      good   57.000000  ...   \n",
       "659   185.0          DC Comics          -       bad   81.000000  ...   \n",
       "\n",
       "    Web Creation  Reality Warping  Odin Force  Symbiote Costume  Speed Force  \\\n",
       "0          False            False       False             False        False   \n",
       "1          False            False       False             False        False   \n",
       "2          False            False       False             False        False   \n",
       "3          False            False       False             False        False   \n",
       "4          False            False       False             False        False   \n",
       "..           ...              ...         ...               ...          ...   \n",
       "655        False            False       False             False        False   \n",
       "656        False            False       False             False        False   \n",
       "657        False            False       False             False        False   \n",
       "658        False            False       False             False        False   \n",
       "659        False            False       False             False        False   \n",
       "\n",
       "     Phoenix Force  Molecular Dissipation  Vision - Cryo  Omnipresent  \\\n",
       "0            False                  False          False        False   \n",
       "1            False                  False          False        False   \n",
       "2            False                  False          False        False   \n",
       "3            False                  False          False        False   \n",
       "4            False                  False          False        False   \n",
       "..             ...                    ...            ...          ...   \n",
       "655          False                  False          False        False   \n",
       "656          False                  False          False        False   \n",
       "657          False                  False          False        False   \n",
       "658          False                  False          False        False   \n",
       "659          False                  False          False        False   \n",
       "\n",
       "     Omniscient  \n",
       "0         False  \n",
       "1         False  \n",
       "2         False  \n",
       "3         False  \n",
       "4         False  \n",
       "..          ...  \n",
       "655       False  \n",
       "656       False  \n",
       "657       False  \n",
       "658       False  \n",
       "659       False  \n",
       "\n",
       "[660 rows x 178 columns]"
      ]
     },
     "execution_count": 201,
     "metadata": {},
     "output_type": "execute_result"
    }
   ],
   "source": [
    "## fill Weight by Gender for Males\n",
    "df.loc[(df['Weight'].isna())&(df['Gender']=='Male'), \"Weight\"] \\\n",
    "                                        = gender_vals.loc['Male','Weight']\n",
    "df"
   ]
  },
  {
   "cell_type": "code",
   "execution_count": null,
   "metadata": {},
   "outputs": [],
   "source": []
  },
  {
   "cell_type": "markdown",
   "metadata": {},
   "source": [
    "> - We need to do this for multiple columns for multiple genders. \n",
    "- **Great chance for a function!**\n",
    "    - Take the code we used for fill Weight by Gender for Males above as the starting code for the function."
   ]
  },
  {
   "cell_type": "code",
   "execution_count": 202,
   "metadata": {},
   "outputs": [
    {
     "data": {
      "text/plain": [
       "array(['Male', 'Female', '-'], dtype=object)"
      ]
     },
     "execution_count": 202,
     "metadata": {},
     "output_type": "execute_result"
    }
   ],
   "source": [
    "# ## How many genders does the df have?\n",
    "groups = df['Gender'].unique()\n",
    "groups"
   ]
  },
  {
   "cell_type": "code",
   "execution_count": 203,
   "metadata": {},
   "outputs": [],
   "source": [
    "def fillna_by_groups(df,null_col, group_col='Gender',how='mean'):\n",
    "    \n",
    "    gender_vals = df.groupby(group_col)[[null_col]].agg(how)\n",
    "    groups = df[group_col].unique()\n",
    "\n",
    "    for group in groups:\n",
    "        df.loc[(df[null_col].isna())&(df[group_col]==group), null_col] \\\n",
    "                                        = gender_vals.loc[group,null_col]"
   ]
  },
  {
   "cell_type": "code",
   "execution_count": null,
   "metadata": {},
   "outputs": [],
   "source": []
  },
  {
   "cell_type": "code",
   "execution_count": 204,
   "metadata": {},
   "outputs": [
    {
     "name": "stdout",
     "output_type": "stream",
     "text": [
      "Height    170\n",
      "Weight     52\n",
      "dtype: int64\n"
     ]
    }
   ],
   "source": [
    "# make our little null value trick a function\n",
    "def show_nulls(df):\n",
    "    res = df.isna().sum()\n",
    "    print(res[res>0])\n",
    "    \n",
    "show_nulls(df)"
   ]
  },
  {
   "cell_type": "code",
   "execution_count": 205,
   "metadata": {},
   "outputs": [
    {
     "name": "stdout",
     "output_type": "stream",
     "text": [
      "Weight    52\n",
      "dtype: int64\n"
     ]
    }
   ],
   "source": [
    "## Use fillna_by_groups on Height and show_nulls\n",
    "fillna_by_groups(df,'Height',how='median')\n",
    "show_nulls(df)"
   ]
  },
  {
   "cell_type": "code",
   "execution_count": 206,
   "metadata": {},
   "outputs": [
    {
     "name": "stdout",
     "output_type": "stream",
     "text": [
      "Series([], dtype: int64)\n"
     ]
    }
   ],
   "source": [
    "## &se fillna_by_groups on Weight and show_nulls\n",
    "fillna_by_groups(df,'Weight',how='median')\n",
    "show_nulls(df)"
   ]
  },
  {
   "cell_type": "markdown",
   "metadata": {},
   "source": [
    "## Some Initial Investigation"
   ]
  },
  {
   "cell_type": "markdown",
   "metadata": {},
   "source": [
    "Next, slice the DataFrame as needed and visualize the distribution of heights and weights by gender.  You should have 4 total plots.  \n",
    "\n",
    "In the cell below:\n",
    "\n",
    "* Slice the DataFrame into separate DataFrames by gender\n",
    "* Complete the `show_distplot()` function.  This helper function should take in a DataFrame, a string containing the gender we want to visualize, and the column name we want to visualize by gender. The function should display a distplot visualization from seaborn of the column/gender combination.  \n",
    "\n",
    "Hint: Don't forget to check the [seaborn documentation for distplot](https://seaborn.pydata.org/generated/seaborn.distplot.html) if you have questions about how to use it correctly! "
   ]
  },
  {
   "cell_type": "markdown",
   "metadata": {},
   "source": [
    "> ### James Edit: Why bother making separate dataframes?!"
   ]
  },
  {
   "cell_type": "code",
   "execution_count": 207,
   "metadata": {},
   "outputs": [],
   "source": [
    "# male_heroes_df = df.groupby('Gender').get_group('Male')\n",
    "# female_heroes_df =  df.groupby('Gender').get_group('Female')\n",
    "\n",
    "def show_distplot(dataframe, gender, column_name):\n",
    "    data = dataframe.loc[ dataframe['Gender']==gender, column_name]\n",
    "    ax = sns.distplot(data,kde=False)\n",
    "    ax.set_title(f\"{column_name} for {gender}\")\n",
    "    ax.set_ylabel('Counts')\n",
    "    \n",
    "    fig = ax.get_figure()\n",
    "    return fig, ax\n",
    "    "
   ]
  },
  {
   "cell_type": "code",
   "execution_count": 208,
   "metadata": {},
   "outputs": [
    {
     "name": "stderr",
     "output_type": "stream",
     "text": [
      "/opt/anaconda3/envs/learn-env-new/lib/python3.8/site-packages/seaborn/distributions.py:2551: FutureWarning: `distplot` is a deprecated function and will be removed in a future version. Please adapt your code to use either `displot` (a figure-level function with similar flexibility) or `histplot` (an axes-level function for histograms).\n",
      "  warnings.warn(msg, FutureWarning)\n"
     ]
    },
    {
     "data": {
      "image/png": "[encoded data removed]",
      "text/plain": [
       "<Figure size 432x288 with 1 Axes>"
      ]
     },
     "metadata": {
      "needs_background": "light"
     },
     "output_type": "display_data"
    }
   ],
   "source": [
    "# Male Height\n",
    "fig,ax = show_distplot(df,'Male','Height')"
   ]
  },
  {
   "cell_type": "markdown",
   "metadata": {},
   "source": [
    "> #### Optional Sub-Task: Demo the same plot being done 4 ways (Poll)\n",
    "1. plt functions\n",
    "2. OOP fig,ax\n",
    "3. Pandas\n",
    "4. Seaborn"
   ]
  },
  {
   "cell_type": "code",
   "execution_count": 209,
   "metadata": {},
   "outputs": [
    {
     "data": {
      "text/plain": [
       "(<Figure size 432x288 with 1 Axes>,\n",
       " <AxesSubplot:title={'center':'Weight for Male'}, xlabel='Weight', ylabel='Counts'>)"
      ]
     },
     "execution_count": 209,
     "metadata": {},
     "output_type": "execute_result"
    },
    {
     "data": {
      "image/png": "[encoded data removed]",
      "text/plain": [
       "<Figure size 432x288 with 1 Axes>"
      ]
     },
     "metadata": {
      "needs_background": "light"
     },
     "output_type": "display_data"
    }
   ],
   "source": [
    "# Male Weight\n",
    "show_distplot(df,'Male','Weight')"
   ]
  },
  {
   "cell_type": "code",
   "execution_count": 210,
   "metadata": {},
   "outputs": [
    {
     "data": {
      "text/plain": [
       "(<Figure size 432x288 with 1 Axes>,\n",
       " <AxesSubplot:title={'center':'Height for Female'}, xlabel='Height', ylabel='Counts'>)"
      ]
     },
     "execution_count": 210,
     "metadata": {},
     "output_type": "execute_result"
    },
    {
     "data": {
      "image/png": "[encoded data removed]",
      "text/plain": [
       "<Figure size 432x288 with 1 Axes>"
      ]
     },
     "metadata": {
      "needs_background": "light"
     },
     "output_type": "display_data"
    }
   ],
   "source": [
    "# Female Height\n",
    "show_distplot(df,'Female','Height')"
   ]
  },
  {
   "cell_type": "code",
   "execution_count": 211,
   "metadata": {},
   "outputs": [
    {
     "data": {
      "text/plain": [
       "(<Figure size 432x288 with 1 Axes>,\n",
       " <AxesSubplot:title={'center':'Weight for Female'}, xlabel='Weight', ylabel='Counts'>)"
      ]
     },
     "execution_count": 211,
     "metadata": {},
     "output_type": "execute_result"
    },
    {
     "data": {
      "image/png": "[encoded data removed]",
      "text/plain": [
       "<Figure size 432x288 with 1 Axes>"
      ]
     },
     "metadata": {
      "needs_background": "light"
     },
     "output_type": "display_data"
    }
   ],
   "source": [
    "# Female Weight\n",
    "show_distplot(df,'Female','Weight')"
   ]
  },
  {
   "cell_type": "markdown",
   "metadata": {},
   "source": [
    "Discuss your findings from the plots above, with respect to the distribution of height and weight by gender.  Your explanation should include a discussion of any relevant summary statistics, including mean, median, mode, and the overall shape of each distribution.  \n",
    "\n",
    "Write your answer below this line:\n",
    "____________________________________________________________________________________________________________________________\n",
    "\n"
   ]
  },
  {
   "cell_type": "markdown",
   "metadata": {},
   "source": [
    "> #### It would be so much easier to answer the question if they were on the same figure"
   ]
  },
  {
   "cell_type": "code",
   "execution_count": 212,
   "metadata": {},
   "outputs": [],
   "source": [
    "def show_displot_by_color(dataframe,column_name, color_col='Gender'):\n",
    "    g = sns.displot(dataframe, x=column_name, hue=color_col, height=6, aspect=1.5)"
   ]
  },
  {
   "cell_type": "code",
   "execution_count": 213,
   "metadata": {},
   "outputs": [
    {
     "data": {
      "image/png": "[encoded data removed]",
      "text/plain": [
       "<Figure size 720.125x432 with 1 Axes>"
      ]
     },
     "metadata": {
      "needs_background": "light"
     },
     "output_type": "display_data"
    }
   ],
   "source": [
    "show_displot_by_color(df,'Height')"
   ]
  },
  {
   "cell_type": "code",
   "execution_count": 214,
   "metadata": {},
   "outputs": [
    {
     "data": {
      "image/png": "[encoded data removed]",
      "text/plain": [
       "<Figure size 720.125x432 with 1 Axes>"
      ]
     },
     "metadata": {
      "needs_background": "light"
     },
     "output_type": "display_data"
    }
   ],
   "source": [
    "show_displot_by_color(df,'Weight')"
   ]
  },
  {
   "cell_type": "markdown",
   "metadata": {},
   "source": [
    "### Sample Question: Most Common Powers\n",
    "\n",
    "The rest of this notebook will be left to you to investigate the dataset by formulating your own questions, and then seeking answers using pandas and numpy.  Every answer should include some sort of visualization, when appropriate. Before moving on to formulating your own questions, use the dataset to answer the following questions about superhero powers:\n",
    "\n",
    "* What are the 5 most common powers overall?\n",
    "* What are the 5 most common powers in the Marvel Universe?\n",
    "* What are the 5 most common powers in the DC Universe?\n",
    "\n",
    "Analyze the results you found above to answer the following question:\n",
    "\n",
    "How do the top 5 powers in the Marvel and DC universes compare?  Are they similar, or are there significant differences? How do they compare to the overall trends in the entire Superheroes dataset?\n",
    "\n",
    "Write your answer below this line:\n",
    "____________________________________________________________________________________________________________________________\n"
   ]
  },
  {
   "cell_type": "markdown",
   "metadata": {},
   "source": [
    "### What are the 5 most common powers overall?"
   ]
  },
  {
   "cell_type": "code",
   "execution_count": 215,
   "metadata": {},
   "outputs": [
    {
     "data": {
      "text/plain": [
       "Index(['Agility', 'Accelerated Healing', 'Lantern Power Ring',\n",
       "       'Dimensional Awareness', 'Cold Resistance', 'Durability', 'Stealth',\n",
       "       'Energy Absorption', 'Flight', 'Danger Sense',\n",
       "       ...\n",
       "       'Web Creation', 'Reality Warping', 'Odin Force', 'Symbiote Costume',\n",
       "       'Speed Force', 'Phoenix Force', 'Molecular Dissipation',\n",
       "       'Vision - Cryo', 'Omnipresent', 'Omniscient'],\n",
       "      dtype='object', length=167)"
      ]
     },
     "execution_count": 215,
     "metadata": {},
     "output_type": "execute_result"
    }
   ],
   "source": [
    "## get list of powers \n",
    "power_cols = powers_df.drop(columns=['hero_names']).columns\n",
    "power_cols"
   ]
  },
  {
   "cell_type": "code",
   "execution_count": 216,
   "metadata": {},
   "outputs": [
    {
     "data": {
      "text/html": [
       "<div>\n",
       "<style scoped>\n",
       "    .dataframe tbody tr th:only-of-type {\n",
       "        vertical-align: middle;\n",
       "    }\n",
       "\n",
       "    .dataframe tbody tr th {\n",
       "        vertical-align: top;\n",
       "    }\n",
       "\n",
       "    .dataframe thead th {\n",
       "        text-align: right;\n",
       "    }\n",
       "</style>\n",
       "<table border=\"1\" class=\"dataframe\">\n",
       "  <thead>\n",
       "    <tr style=\"text-align: right;\">\n",
       "      <th></th>\n",
       "      <th>name</th>\n",
       "      <th>Gender</th>\n",
       "      <th>Eye color</th>\n",
       "      <th>Race</th>\n",
       "      <th>Hair color</th>\n",
       "      <th>Height</th>\n",
       "      <th>Publisher</th>\n",
       "      <th>Skin color</th>\n",
       "      <th>Alignment</th>\n",
       "      <th>Weight</th>\n",
       "      <th>...</th>\n",
       "      <th>Web Creation</th>\n",
       "      <th>Reality Warping</th>\n",
       "      <th>Odin Force</th>\n",
       "      <th>Symbiote Costume</th>\n",
       "      <th>Speed Force</th>\n",
       "      <th>Phoenix Force</th>\n",
       "      <th>Molecular Dissipation</th>\n",
       "      <th>Vision - Cryo</th>\n",
       "      <th>Omnipresent</th>\n",
       "      <th>Omniscient</th>\n",
       "    </tr>\n",
       "  </thead>\n",
       "  <tbody>\n",
       "    <tr>\n",
       "      <th>0</th>\n",
       "      <td>A-Bomb</td>\n",
       "      <td>Male</td>\n",
       "      <td>yellow</td>\n",
       "      <td>Human</td>\n",
       "      <td>No Hair</td>\n",
       "      <td>203.0</td>\n",
       "      <td>Marvel Comics</td>\n",
       "      <td>-</td>\n",
       "      <td>good</td>\n",
       "      <td>441.000000</td>\n",
       "      <td>...</td>\n",
       "      <td>False</td>\n",
       "      <td>False</td>\n",
       "      <td>False</td>\n",
       "      <td>False</td>\n",
       "      <td>False</td>\n",
       "      <td>False</td>\n",
       "      <td>False</td>\n",
       "      <td>False</td>\n",
       "      <td>False</td>\n",
       "      <td>False</td>\n",
       "    </tr>\n",
       "    <tr>\n",
       "      <th>1</th>\n",
       "      <td>Abe Sapien</td>\n",
       "      <td>Male</td>\n",
       "      <td>blue</td>\n",
       "      <td>Icthyo Sapien</td>\n",
       "      <td>No Hair</td>\n",
       "      <td>191.0</td>\n",
       "      <td>Dark Horse Comics</td>\n",
       "      <td>blue</td>\n",
       "      <td>good</td>\n",
       "      <td>65.000000</td>\n",
       "      <td>...</td>\n",
       "      <td>False</td>\n",
       "      <td>False</td>\n",
       "      <td>False</td>\n",
       "      <td>False</td>\n",
       "      <td>False</td>\n",
       "      <td>False</td>\n",
       "      <td>False</td>\n",
       "      <td>False</td>\n",
       "      <td>False</td>\n",
       "      <td>False</td>\n",
       "    </tr>\n",
       "    <tr>\n",
       "      <th>2</th>\n",
       "      <td>Abin Sur</td>\n",
       "      <td>Male</td>\n",
       "      <td>blue</td>\n",
       "      <td>Ungaran</td>\n",
       "      <td>No Hair</td>\n",
       "      <td>185.0</td>\n",
       "      <td>DC Comics</td>\n",
       "      <td>red</td>\n",
       "      <td>good</td>\n",
       "      <td>90.000000</td>\n",
       "      <td>...</td>\n",
       "      <td>False</td>\n",
       "      <td>False</td>\n",
       "      <td>False</td>\n",
       "      <td>False</td>\n",
       "      <td>False</td>\n",
       "      <td>False</td>\n",
       "      <td>False</td>\n",
       "      <td>False</td>\n",
       "      <td>False</td>\n",
       "      <td>False</td>\n",
       "    </tr>\n",
       "    <tr>\n",
       "      <th>3</th>\n",
       "      <td>Abomination</td>\n",
       "      <td>Male</td>\n",
       "      <td>green</td>\n",
       "      <td>Human / Radiation</td>\n",
       "      <td>No Hair</td>\n",
       "      <td>203.0</td>\n",
       "      <td>Marvel Comics</td>\n",
       "      <td>-</td>\n",
       "      <td>bad</td>\n",
       "      <td>441.000000</td>\n",
       "      <td>...</td>\n",
       "      <td>False</td>\n",
       "      <td>False</td>\n",
       "      <td>False</td>\n",
       "      <td>False</td>\n",
       "      <td>False</td>\n",
       "      <td>False</td>\n",
       "      <td>False</td>\n",
       "      <td>False</td>\n",
       "      <td>False</td>\n",
       "      <td>False</td>\n",
       "    </tr>\n",
       "    <tr>\n",
       "      <th>4</th>\n",
       "      <td>Abraxas</td>\n",
       "      <td>Male</td>\n",
       "      <td>blue</td>\n",
       "      <td>Cosmic Entity</td>\n",
       "      <td>Black</td>\n",
       "      <td>185.0</td>\n",
       "      <td>Marvel Comics</td>\n",
       "      <td>-</td>\n",
       "      <td>bad</td>\n",
       "      <td>128.874233</td>\n",
       "      <td>...</td>\n",
       "      <td>False</td>\n",
       "      <td>False</td>\n",
       "      <td>False</td>\n",
       "      <td>False</td>\n",
       "      <td>False</td>\n",
       "      <td>False</td>\n",
       "      <td>False</td>\n",
       "      <td>False</td>\n",
       "      <td>False</td>\n",
       "      <td>False</td>\n",
       "    </tr>\n",
       "  </tbody>\n",
       "</table>\n",
       "<p>5 rows × 178 columns</p>\n",
       "</div>"
      ],
      "text/plain": [
       "          name Gender Eye color               Race Hair color  Height  \\\n",
       "0       A-Bomb   Male    yellow              Human    No Hair   203.0   \n",
       "1   Abe Sapien   Male      blue      Icthyo Sapien    No Hair   191.0   \n",
       "2     Abin Sur   Male      blue            Ungaran    No Hair   185.0   \n",
       "3  Abomination   Male     green  Human / Radiation    No Hair   203.0   \n",
       "4      Abraxas   Male      blue      Cosmic Entity      Black   185.0   \n",
       "\n",
       "           Publisher Skin color Alignment      Weight  ... Web Creation  \\\n",
       "0      Marvel Comics          -      good  441.000000  ...        False   \n",
       "1  Dark Horse Comics       blue      good   65.000000  ...        False   \n",
       "2          DC Comics        red      good   90.000000  ...        False   \n",
       "3      Marvel Comics          -       bad  441.000000  ...        False   \n",
       "4      Marvel Comics          -       bad  128.874233  ...        False   \n",
       "\n",
       "   Reality Warping  Odin Force  Symbiote Costume  Speed Force  Phoenix Force  \\\n",
       "0            False       False             False        False          False   \n",
       "1            False       False             False        False          False   \n",
       "2            False       False             False        False          False   \n",
       "3            False       False             False        False          False   \n",
       "4            False       False             False        False          False   \n",
       "\n",
       "   Molecular Dissipation  Vision - Cryo  Omnipresent  Omniscient  \n",
       "0                  False          False        False       False  \n",
       "1                  False          False        False       False  \n",
       "2                  False          False        False       False  \n",
       "3                  False          False        False       False  \n",
       "4                  False          False        False       False  \n",
       "\n",
       "[5 rows x 178 columns]"
      ]
     },
     "execution_count": 216,
     "metadata": {},
     "output_type": "execute_result"
    }
   ],
   "source": [
    "df.head()"
   ]
  },
  {
   "cell_type": "code",
   "execution_count": 217,
   "metadata": {},
   "outputs": [
    {
     "data": {
      "text/plain": [
       "<AxesSubplot:>"
      ]
     },
     "execution_count": 217,
     "metadata": {},
     "output_type": "execute_result"
    },
    {
     "data": {
      "image/png": "[encoded data removed]",
      "text/plain": [
       "<Figure size 432x288 with 1 Axes>"
      ]
     },
     "metadata": {
      "needs_background": "light"
     },
     "output_type": "display_data"
    }
   ],
   "source": [
    "## Save the sum of the power cols\n",
    "power_counts = df[power_cols].sum()\n",
    "power_counts.sort_values(ascending=True).tail(10).plot(kind='barh')"
   ]
  },
  {
   "cell_type": "markdown",
   "metadata": {},
   "source": [
    "### What are the 5 most common powers in the Marvel Universe?"
   ]
  },
  {
   "cell_type": "code",
   "execution_count": 218,
   "metadata": {},
   "outputs": [
    {
     "data": {
      "text/plain": [
       "Marvel Comics        341\n",
       "DC Comics            196\n",
       "Dark Horse Comics     18\n",
       "NBC - Heroes          18\n",
       "Image Comics          14\n",
       "George Lucas          13\n",
       "Missing               13\n",
       "Star Trek              6\n",
       "Team Epic TV           5\n",
       "SyFy                   5\n",
       "IDW Publishing         4\n",
       "ABC Studios            4\n",
       "Icon Comics            4\n",
       "Shueisha               4\n",
       "Wildstorm              3\n",
       "HarperCollins          3\n",
       "Universal Studios      1\n",
       "South Park             1\n",
       "Titan Books            1\n",
       "J. R. R. Tolkien       1\n",
       "Rebellion              1\n",
       "Hanna-Barbera          1\n",
       "J. K. Rowling          1\n",
       "Sony Pictures          1\n",
       "Microsoft              1\n",
       "Name: Publisher, dtype: int64"
      ]
     },
     "execution_count": 218,
     "metadata": {},
     "output_type": "execute_result"
    }
   ],
   "source": [
    "df[\"Publisher\"].value_counts()"
   ]
  },
  {
   "cell_type": "code",
   "execution_count": 219,
   "metadata": {},
   "outputs": [
    {
     "data": {
      "text/plain": [
       "Text(0.5, 1.0, 'Top 5 Super Powers - Marvel Comics')"
      ]
     },
     "execution_count": 219,
     "metadata": {},
     "output_type": "execute_result"
    },
    {
     "data": {
      "image/png": "[encoded data removed]",
      "text/plain": [
       "<Figure size 432x288 with 1 Axes>"
      ]
     },
     "metadata": {
      "needs_background": "light"
     },
     "output_type": "display_data"
    }
   ],
   "source": [
    "## What are the 5 most common powers in the Marvel Universe?\n",
    "publisher = 'Marvel Comics'\n",
    "\n",
    "power_counts = df.loc[ df['Publisher']==publisher, power_cols].sum()#head()\n",
    "\n",
    "\n",
    "ax = power_counts.sort_values(ascending=True).tail().plot(kind='barh')\n",
    "ax.set_title(f\"Top 5 Super Powers - {publisher}\")"
   ]
  },
  {
   "cell_type": "code",
   "execution_count": 220,
   "metadata": {},
   "outputs": [
    {
     "data": {
      "text/plain": [
       "Text(0.5, 1.0, 'Top 5 Super Powers - DC Comics')"
      ]
     },
     "execution_count": 220,
     "metadata": {},
     "output_type": "execute_result"
    },
    {
     "data": {
      "image/png": "[encoded data removed]",
      "text/plain": [
       "<Figure size 432x288 with 1 Axes>"
      ]
     },
     "metadata": {
      "needs_background": "light"
     },
     "output_type": "display_data"
    }
   ],
   "source": [
    "## What are the 5 most common powers in the Marvel Universe?\n",
    "publisher = 'DC Comics'\n",
    "power_counts = df.loc[ df['Publisher']==publisher, power_cols].sum()#head()\n",
    "ax = power_counts.sort_values(ascending=True).tail().plot(kind='barh')\n",
    "ax.set_title(f\"Top 5 Super Powers - {publisher}\")"
   ]
  },
  {
   "cell_type": "markdown",
   "metadata": {},
   "source": [
    "## Level-Ups"
   ]
  },
  {
   "cell_type": "markdown",
   "metadata": {},
   "source": [
    "#### Your Own Investigation\n",
    "\n",
    "For the remainder of this lab, you'll be focusing on coming up with and answering your own question, just like we did above.  Your question should not be overly simple, and should require both descriptive statistics and data visualization to answer.  In case you're unsure of what questions to ask, some sample questions have been provided below.\n",
    "\n",
    "\n",
    "Explain your question below this line:\n",
    "\n",
    "___\n",
    "### Which powers have the highest chance of co-occurring in a hero (e.g. super strength and flight), and does this differ by gender?"
   ]
  },
  {
   "cell_type": "code",
   "execution_count": 221,
   "metadata": {},
   "outputs": [
    {
     "data": {
      "text/html": [
       "<div>\n",
       "<style scoped>\n",
       "    .dataframe tbody tr th:only-of-type {\n",
       "        vertical-align: middle;\n",
       "    }\n",
       "\n",
       "    .dataframe tbody tr th {\n",
       "        vertical-align: top;\n",
       "    }\n",
       "\n",
       "    .dataframe thead th {\n",
       "        text-align: right;\n",
       "    }\n",
       "</style>\n",
       "<table border=\"1\" class=\"dataframe\">\n",
       "  <thead>\n",
       "    <tr style=\"text-align: right;\">\n",
       "      <th></th>\n",
       "      <th>Agility</th>\n",
       "      <th>Accelerated Healing</th>\n",
       "      <th>Lantern Power Ring</th>\n",
       "      <th>Dimensional Awareness</th>\n",
       "      <th>Cold Resistance</th>\n",
       "      <th>Durability</th>\n",
       "      <th>Stealth</th>\n",
       "      <th>Energy Absorption</th>\n",
       "      <th>Flight</th>\n",
       "      <th>Danger Sense</th>\n",
       "      <th>...</th>\n",
       "      <th>Web Creation</th>\n",
       "      <th>Reality Warping</th>\n",
       "      <th>Odin Force</th>\n",
       "      <th>Symbiote Costume</th>\n",
       "      <th>Speed Force</th>\n",
       "      <th>Phoenix Force</th>\n",
       "      <th>Molecular Dissipation</th>\n",
       "      <th>Vision - Cryo</th>\n",
       "      <th>Omnipresent</th>\n",
       "      <th>Omniscient</th>\n",
       "    </tr>\n",
       "  </thead>\n",
       "  <tbody>\n",
       "    <tr>\n",
       "      <th>Agility</th>\n",
       "      <td>1.000000</td>\n",
       "      <td>0.274982</td>\n",
       "      <td>0.022883</td>\n",
       "      <td>0.028897</td>\n",
       "      <td>0.106374</td>\n",
       "      <td>0.142029</td>\n",
       "      <td>0.393915</td>\n",
       "      <td>0.044324</td>\n",
       "      <td>-0.015970</td>\n",
       "      <td>0.247503</td>\n",
       "      <td>...</td>\n",
       "      <td>0.144587</td>\n",
       "      <td>0.083304</td>\n",
       "      <td>0.071987</td>\n",
       "      <td>0.110566</td>\n",
       "      <td>0.050864</td>\n",
       "      <td>0.050864</td>\n",
       "      <td>-0.029834</td>\n",
       "      <td>0.050864</td>\n",
       "      <td>0.014882</td>\n",
       "      <td>0.014882</td>\n",
       "    </tr>\n",
       "    <tr>\n",
       "      <th>Accelerated Healing</th>\n",
       "      <td>0.274982</td>\n",
       "      <td>1.000000</td>\n",
       "      <td>-0.026971</td>\n",
       "      <td>0.127092</td>\n",
       "      <td>0.149781</td>\n",
       "      <td>0.250920</td>\n",
       "      <td>0.091697</td>\n",
       "      <td>0.157455</td>\n",
       "      <td>0.129905</td>\n",
       "      <td>0.256210</td>\n",
       "      <td>...</td>\n",
       "      <td>0.234334</td>\n",
       "      <td>0.145204</td>\n",
       "      <td>0.089687</td>\n",
       "      <td>0.173975</td>\n",
       "      <td>0.063370</td>\n",
       "      <td>-0.023946</td>\n",
       "      <td>0.063370</td>\n",
       "      <td>0.063370</td>\n",
       "      <td>0.089687</td>\n",
       "      <td>0.089687</td>\n",
       "    </tr>\n",
       "    <tr>\n",
       "      <th>Lantern Power Ring</th>\n",
       "      <td>0.022883</td>\n",
       "      <td>-0.026971</td>\n",
       "      <td>1.000000</td>\n",
       "      <td>-0.025832</td>\n",
       "      <td>-0.036868</td>\n",
       "      <td>-0.008870</td>\n",
       "      <td>-0.065094</td>\n",
       "      <td>-0.047314</td>\n",
       "      <td>0.138561</td>\n",
       "      <td>-0.030341</td>\n",
       "      <td>...</td>\n",
       "      <td>-0.020521</td>\n",
       "      <td>-0.019166</td>\n",
       "      <td>-0.007178</td>\n",
       "      <td>-0.016148</td>\n",
       "      <td>-0.005071</td>\n",
       "      <td>-0.005071</td>\n",
       "      <td>-0.005071</td>\n",
       "      <td>-0.005071</td>\n",
       "      <td>-0.007178</td>\n",
       "      <td>-0.007178</td>\n",
       "    </tr>\n",
       "    <tr>\n",
       "      <th>Dimensional Awareness</th>\n",
       "      <td>0.028897</td>\n",
       "      <td>0.127092</td>\n",
       "      <td>-0.025832</td>\n",
       "      <td>1.000000</td>\n",
       "      <td>-0.056190</td>\n",
       "      <td>-0.047436</td>\n",
       "      <td>0.039684</td>\n",
       "      <td>0.125677</td>\n",
       "      <td>0.135463</td>\n",
       "      <td>0.025569</td>\n",
       "      <td>...</td>\n",
       "      <td>0.020329</td>\n",
       "      <td>0.576688</td>\n",
       "      <td>-0.010939</td>\n",
       "      <td>0.040362</td>\n",
       "      <td>-0.007729</td>\n",
       "      <td>-0.007729</td>\n",
       "      <td>-0.007729</td>\n",
       "      <td>-0.007729</td>\n",
       "      <td>0.277855</td>\n",
       "      <td>0.277855</td>\n",
       "    </tr>\n",
       "    <tr>\n",
       "      <th>Cold Resistance</th>\n",
       "      <td>0.106374</td>\n",
       "      <td>0.149781</td>\n",
       "      <td>-0.036868</td>\n",
       "      <td>-0.056190</td>\n",
       "      <td>1.000000</td>\n",
       "      <td>0.266349</td>\n",
       "      <td>0.046235</td>\n",
       "      <td>0.059110</td>\n",
       "      <td>-0.033906</td>\n",
       "      <td>0.012439</td>\n",
       "      <td>...</td>\n",
       "      <td>-0.044637</td>\n",
       "      <td>-0.001580</td>\n",
       "      <td>-0.015613</td>\n",
       "      <td>0.012186</td>\n",
       "      <td>-0.011032</td>\n",
       "      <td>-0.011032</td>\n",
       "      <td>-0.011032</td>\n",
       "      <td>-0.011032</td>\n",
       "      <td>-0.015613</td>\n",
       "      <td>-0.015613</td>\n",
       "    </tr>\n",
       "    <tr>\n",
       "      <th>...</th>\n",
       "      <td>...</td>\n",
       "      <td>...</td>\n",
       "      <td>...</td>\n",
       "      <td>...</td>\n",
       "      <td>...</td>\n",
       "      <td>...</td>\n",
       "      <td>...</td>\n",
       "      <td>...</td>\n",
       "      <td>...</td>\n",
       "      <td>...</td>\n",
       "      <td>...</td>\n",
       "      <td>...</td>\n",
       "      <td>...</td>\n",
       "      <td>...</td>\n",
       "      <td>...</td>\n",
       "      <td>...</td>\n",
       "      <td>...</td>\n",
       "      <td>...</td>\n",
       "      <td>...</td>\n",
       "      <td>...</td>\n",
       "      <td>...</td>\n",
       "    </tr>\n",
       "    <tr>\n",
       "      <th>Phoenix Force</th>\n",
       "      <td>0.050864</td>\n",
       "      <td>-0.023946</td>\n",
       "      <td>-0.005071</td>\n",
       "      <td>-0.007729</td>\n",
       "      <td>-0.011032</td>\n",
       "      <td>-0.031606</td>\n",
       "      <td>-0.019477</td>\n",
       "      <td>0.107188</td>\n",
       "      <td>-0.026797</td>\n",
       "      <td>-0.009078</td>\n",
       "      <td>...</td>\n",
       "      <td>-0.006140</td>\n",
       "      <td>-0.005735</td>\n",
       "      <td>-0.002148</td>\n",
       "      <td>-0.004832</td>\n",
       "      <td>-0.001517</td>\n",
       "      <td>1.000000</td>\n",
       "      <td>-0.001517</td>\n",
       "      <td>-0.001517</td>\n",
       "      <td>-0.002148</td>\n",
       "      <td>-0.002148</td>\n",
       "    </tr>\n",
       "    <tr>\n",
       "      <th>Molecular Dissipation</th>\n",
       "      <td>-0.029834</td>\n",
       "      <td>0.063370</td>\n",
       "      <td>-0.005071</td>\n",
       "      <td>-0.007729</td>\n",
       "      <td>-0.011032</td>\n",
       "      <td>0.048012</td>\n",
       "      <td>-0.019477</td>\n",
       "      <td>0.107188</td>\n",
       "      <td>0.056628</td>\n",
       "      <td>-0.009078</td>\n",
       "      <td>...</td>\n",
       "      <td>-0.006140</td>\n",
       "      <td>-0.005735</td>\n",
       "      <td>-0.002148</td>\n",
       "      <td>-0.004832</td>\n",
       "      <td>-0.001517</td>\n",
       "      <td>-0.001517</td>\n",
       "      <td>1.000000</td>\n",
       "      <td>-0.001517</td>\n",
       "      <td>-0.002148</td>\n",
       "      <td>-0.002148</td>\n",
       "    </tr>\n",
       "    <tr>\n",
       "      <th>Vision - Cryo</th>\n",
       "      <td>0.050864</td>\n",
       "      <td>0.063370</td>\n",
       "      <td>-0.005071</td>\n",
       "      <td>-0.007729</td>\n",
       "      <td>-0.011032</td>\n",
       "      <td>0.048012</td>\n",
       "      <td>-0.019477</td>\n",
       "      <td>0.107188</td>\n",
       "      <td>0.056628</td>\n",
       "      <td>-0.009078</td>\n",
       "      <td>...</td>\n",
       "      <td>-0.006140</td>\n",
       "      <td>-0.005735</td>\n",
       "      <td>-0.002148</td>\n",
       "      <td>-0.004832</td>\n",
       "      <td>-0.001517</td>\n",
       "      <td>-0.001517</td>\n",
       "      <td>-0.001517</td>\n",
       "      <td>1.000000</td>\n",
       "      <td>-0.002148</td>\n",
       "      <td>-0.002148</td>\n",
       "    </tr>\n",
       "    <tr>\n",
       "      <th>Omnipresent</th>\n",
       "      <td>0.014882</td>\n",
       "      <td>0.089687</td>\n",
       "      <td>-0.007178</td>\n",
       "      <td>0.277855</td>\n",
       "      <td>-0.015613</td>\n",
       "      <td>0.011610</td>\n",
       "      <td>-0.027566</td>\n",
       "      <td>0.151702</td>\n",
       "      <td>0.021109</td>\n",
       "      <td>0.111858</td>\n",
       "      <td>...</td>\n",
       "      <td>-0.008690</td>\n",
       "      <td>0.374502</td>\n",
       "      <td>-0.003040</td>\n",
       "      <td>-0.006838</td>\n",
       "      <td>-0.002148</td>\n",
       "      <td>-0.002148</td>\n",
       "      <td>-0.002148</td>\n",
       "      <td>-0.002148</td>\n",
       "      <td>1.000000</td>\n",
       "      <td>1.000000</td>\n",
       "    </tr>\n",
       "    <tr>\n",
       "      <th>Omniscient</th>\n",
       "      <td>0.014882</td>\n",
       "      <td>0.089687</td>\n",
       "      <td>-0.007178</td>\n",
       "      <td>0.277855</td>\n",
       "      <td>-0.015613</td>\n",
       "      <td>0.011610</td>\n",
       "      <td>-0.027566</td>\n",
       "      <td>0.151702</td>\n",
       "      <td>0.021109</td>\n",
       "      <td>0.111858</td>\n",
       "      <td>...</td>\n",
       "      <td>-0.008690</td>\n",
       "      <td>0.374502</td>\n",
       "      <td>-0.003040</td>\n",
       "      <td>-0.006838</td>\n",
       "      <td>-0.002148</td>\n",
       "      <td>-0.002148</td>\n",
       "      <td>-0.002148</td>\n",
       "      <td>-0.002148</td>\n",
       "      <td>1.000000</td>\n",
       "      <td>1.000000</td>\n",
       "    </tr>\n",
       "  </tbody>\n",
       "</table>\n",
       "<p>167 rows × 167 columns</p>\n",
       "</div>"
      ],
      "text/plain": [
       "                        Agility  Accelerated Healing  Lantern Power Ring  \\\n",
       "Agility                1.000000             0.274982            0.022883   \n",
       "Accelerated Healing    0.274982             1.000000           -0.026971   \n",
       "Lantern Power Ring     0.022883            -0.026971            1.000000   \n",
       "Dimensional Awareness  0.028897             0.127092           -0.025832   \n",
       "Cold Resistance        0.106374             0.149781           -0.036868   \n",
       "...                         ...                  ...                 ...   \n",
       "Phoenix Force          0.050864            -0.023946           -0.005071   \n",
       "Molecular Dissipation -0.029834             0.063370           -0.005071   \n",
       "Vision - Cryo          0.050864             0.063370           -0.005071   \n",
       "Omnipresent            0.014882             0.089687           -0.007178   \n",
       "Omniscient             0.014882             0.089687           -0.007178   \n",
       "\n",
       "                       Dimensional Awareness  Cold Resistance  Durability  \\\n",
       "Agility                             0.028897         0.106374    0.142029   \n",
       "Accelerated Healing                 0.127092         0.149781    0.250920   \n",
       "Lantern Power Ring                 -0.025832        -0.036868   -0.008870   \n",
       "Dimensional Awareness               1.000000        -0.056190   -0.047436   \n",
       "Cold Resistance                    -0.056190         1.000000    0.266349   \n",
       "...                                      ...              ...         ...   \n",
       "Phoenix Force                      -0.007729        -0.011032   -0.031606   \n",
       "Molecular Dissipation              -0.007729        -0.011032    0.048012   \n",
       "Vision - Cryo                      -0.007729        -0.011032    0.048012   \n",
       "Omnipresent                         0.277855        -0.015613    0.011610   \n",
       "Omniscient                          0.277855        -0.015613    0.011610   \n",
       "\n",
       "                        Stealth  Energy Absorption    Flight  Danger Sense  \\\n",
       "Agility                0.393915           0.044324 -0.015970      0.247503   \n",
       "Accelerated Healing    0.091697           0.157455  0.129905      0.256210   \n",
       "Lantern Power Ring    -0.065094          -0.047314  0.138561     -0.030341   \n",
       "Dimensional Awareness  0.039684           0.125677  0.135463      0.025569   \n",
       "Cold Resistance        0.046235           0.059110 -0.033906      0.012439   \n",
       "...                         ...                ...       ...           ...   \n",
       "Phoenix Force         -0.019477           0.107188 -0.026797     -0.009078   \n",
       "Molecular Dissipation -0.019477           0.107188  0.056628     -0.009078   \n",
       "Vision - Cryo         -0.019477           0.107188  0.056628     -0.009078   \n",
       "Omnipresent           -0.027566           0.151702  0.021109      0.111858   \n",
       "Omniscient            -0.027566           0.151702  0.021109      0.111858   \n",
       "\n",
       "                       ...  Web Creation  Reality Warping  Odin Force  \\\n",
       "Agility                ...      0.144587         0.083304    0.071987   \n",
       "Accelerated Healing    ...      0.234334         0.145204    0.089687   \n",
       "Lantern Power Ring     ...     -0.020521        -0.019166   -0.007178   \n",
       "Dimensional Awareness  ...      0.020329         0.576688   -0.010939   \n",
       "Cold Resistance        ...     -0.044637        -0.001580   -0.015613   \n",
       "...                    ...           ...              ...         ...   \n",
       "Phoenix Force          ...     -0.006140        -0.005735   -0.002148   \n",
       "Molecular Dissipation  ...     -0.006140        -0.005735   -0.002148   \n",
       "Vision - Cryo          ...     -0.006140        -0.005735   -0.002148   \n",
       "Omnipresent            ...     -0.008690         0.374502   -0.003040   \n",
       "Omniscient             ...     -0.008690         0.374502   -0.003040   \n",
       "\n",
       "                       Symbiote Costume  Speed Force  Phoenix Force  \\\n",
       "Agility                        0.110566     0.050864       0.050864   \n",
       "Accelerated Healing            0.173975     0.063370      -0.023946   \n",
       "Lantern Power Ring            -0.016148    -0.005071      -0.005071   \n",
       "Dimensional Awareness          0.040362    -0.007729      -0.007729   \n",
       "Cold Resistance                0.012186    -0.011032      -0.011032   \n",
       "...                                 ...          ...            ...   \n",
       "Phoenix Force                 -0.004832    -0.001517       1.000000   \n",
       "Molecular Dissipation         -0.004832    -0.001517      -0.001517   \n",
       "Vision - Cryo                 -0.004832    -0.001517      -0.001517   \n",
       "Omnipresent                   -0.006838    -0.002148      -0.002148   \n",
       "Omniscient                    -0.006838    -0.002148      -0.002148   \n",
       "\n",
       "                       Molecular Dissipation  Vision - Cryo  Omnipresent  \\\n",
       "Agility                            -0.029834       0.050864     0.014882   \n",
       "Accelerated Healing                 0.063370       0.063370     0.089687   \n",
       "Lantern Power Ring                 -0.005071      -0.005071    -0.007178   \n",
       "Dimensional Awareness              -0.007729      -0.007729     0.277855   \n",
       "Cold Resistance                    -0.011032      -0.011032    -0.015613   \n",
       "...                                      ...            ...          ...   \n",
       "Phoenix Force                      -0.001517      -0.001517    -0.002148   \n",
       "Molecular Dissipation               1.000000      -0.001517    -0.002148   \n",
       "Vision - Cryo                      -0.001517       1.000000    -0.002148   \n",
       "Omnipresent                        -0.002148      -0.002148     1.000000   \n",
       "Omniscient                         -0.002148      -0.002148     1.000000   \n",
       "\n",
       "                       Omniscient  \n",
       "Agility                  0.014882  \n",
       "Accelerated Healing      0.089687  \n",
       "Lantern Power Ring      -0.007178  \n",
       "Dimensional Awareness    0.277855  \n",
       "Cold Resistance         -0.015613  \n",
       "...                           ...  \n",
       "Phoenix Force           -0.002148  \n",
       "Molecular Dissipation   -0.002148  \n",
       "Vision - Cryo           -0.002148  \n",
       "Omnipresent              1.000000  \n",
       "Omniscient               1.000000  \n",
       "\n",
       "[167 rows x 167 columns]"
      ]
     },
     "execution_count": 221,
     "metadata": {},
     "output_type": "execute_result"
    }
   ],
   "source": [
    "## Get the correlation matrix for JUST the power cols\n",
    "corr = df[power_cols].corr()\n",
    "corr"
   ]
  },
  {
   "cell_type": "code",
   "execution_count": 232,
   "metadata": {},
   "outputs": [
    {
     "data": {
      "text/html": [
       "<div>\n",
       "<style scoped>\n",
       "    .dataframe tbody tr th:only-of-type {\n",
       "        vertical-align: middle;\n",
       "    }\n",
       "\n",
       "    .dataframe tbody tr th {\n",
       "        vertical-align: top;\n",
       "    }\n",
       "\n",
       "    .dataframe thead th {\n",
       "        text-align: right;\n",
       "    }\n",
       "</style>\n",
       "<table border=\"1\" class=\"dataframe\">\n",
       "  <thead>\n",
       "    <tr style=\"text-align: right;\">\n",
       "      <th></th>\n",
       "      <th>Power 1</th>\n",
       "      <th>Power 2</th>\n",
       "      <th>Correlation</th>\n",
       "    </tr>\n",
       "  </thead>\n",
       "  <tbody>\n",
       "    <tr>\n",
       "      <th>0</th>\n",
       "      <td>Agility</td>\n",
       "      <td>Agility</td>\n",
       "      <td>1.000000</td>\n",
       "    </tr>\n",
       "    <tr>\n",
       "      <th>1</th>\n",
       "      <td>Agility</td>\n",
       "      <td>Accelerated Healing</td>\n",
       "      <td>0.274982</td>\n",
       "    </tr>\n",
       "    <tr>\n",
       "      <th>2</th>\n",
       "      <td>Agility</td>\n",
       "      <td>Lantern Power Ring</td>\n",
       "      <td>0.022883</td>\n",
       "    </tr>\n",
       "    <tr>\n",
       "      <th>3</th>\n",
       "      <td>Agility</td>\n",
       "      <td>Dimensional Awareness</td>\n",
       "      <td>0.028897</td>\n",
       "    </tr>\n",
       "    <tr>\n",
       "      <th>4</th>\n",
       "      <td>Agility</td>\n",
       "      <td>Cold Resistance</td>\n",
       "      <td>0.106374</td>\n",
       "    </tr>\n",
       "    <tr>\n",
       "      <th>...</th>\n",
       "      <td>...</td>\n",
       "      <td>...</td>\n",
       "      <td>...</td>\n",
       "    </tr>\n",
       "    <tr>\n",
       "      <th>27884</th>\n",
       "      <td>Omniscient</td>\n",
       "      <td>Phoenix Force</td>\n",
       "      <td>-0.002148</td>\n",
       "    </tr>\n",
       "    <tr>\n",
       "      <th>27885</th>\n",
       "      <td>Omniscient</td>\n",
       "      <td>Molecular Dissipation</td>\n",
       "      <td>-0.002148</td>\n",
       "    </tr>\n",
       "    <tr>\n",
       "      <th>27886</th>\n",
       "      <td>Omniscient</td>\n",
       "      <td>Vision - Cryo</td>\n",
       "      <td>-0.002148</td>\n",
       "    </tr>\n",
       "    <tr>\n",
       "      <th>27887</th>\n",
       "      <td>Omniscient</td>\n",
       "      <td>Omnipresent</td>\n",
       "      <td>1.000000</td>\n",
       "    </tr>\n",
       "    <tr>\n",
       "      <th>27888</th>\n",
       "      <td>Omniscient</td>\n",
       "      <td>Omniscient</td>\n",
       "      <td>1.000000</td>\n",
       "    </tr>\n",
       "  </tbody>\n",
       "</table>\n",
       "<p>27889 rows × 3 columns</p>\n",
       "</div>"
      ],
      "text/plain": [
       "          Power 1                Power 2  Correlation\n",
       "0         Agility                Agility     1.000000\n",
       "1         Agility    Accelerated Healing     0.274982\n",
       "2         Agility     Lantern Power Ring     0.022883\n",
       "3         Agility  Dimensional Awareness     0.028897\n",
       "4         Agility        Cold Resistance     0.106374\n",
       "...           ...                    ...          ...\n",
       "27884  Omniscient          Phoenix Force    -0.002148\n",
       "27885  Omniscient  Molecular Dissipation    -0.002148\n",
       "27886  Omniscient          Vision - Cryo    -0.002148\n",
       "27887  Omniscient            Omnipresent     1.000000\n",
       "27888  Omniscient             Omniscient     1.000000\n",
       "\n",
       "[27889 rows x 3 columns]"
      ]
     },
     "execution_count": 232,
     "metadata": {},
     "output_type": "execute_result"
    }
   ],
   "source": [
    "### Need to Turn the square matrix above into a normal dataframe\n",
    "## ref: https://stackoverflow.com/a/51071640\n",
    "corr_df = corr.unstack().reset_index()\n",
    "corr_df.columns = ['Power 1','Power 2','Correlation']\n",
    "corr_df"
   ]
  },
  {
   "cell_type": "markdown",
   "metadata": {},
   "source": [
    "#### Using .apply with axis=1"
   ]
  },
  {
   "cell_type": "markdown",
   "metadata": {},
   "source": [
    "> .Apply can by really helpful if you need to apply something to multiple columns at the same time."
   ]
  },
  {
   "cell_type": "code",
   "execution_count": 233,
   "metadata": {},
   "outputs": [
    {
     "data": {
      "text/html": [
       "<div>\n",
       "<style scoped>\n",
       "    .dataframe tbody tr th:only-of-type {\n",
       "        vertical-align: middle;\n",
       "    }\n",
       "\n",
       "    .dataframe tbody tr th {\n",
       "        vertical-align: top;\n",
       "    }\n",
       "\n",
       "    .dataframe thead th {\n",
       "        text-align: right;\n",
       "    }\n",
       "</style>\n",
       "<table border=\"1\" class=\"dataframe\">\n",
       "  <thead>\n",
       "    <tr style=\"text-align: right;\">\n",
       "      <th></th>\n",
       "      <th>Power 1</th>\n",
       "      <th>Power 2</th>\n",
       "      <th>Correlation</th>\n",
       "      <th>keep-me</th>\n",
       "    </tr>\n",
       "  </thead>\n",
       "  <tbody>\n",
       "    <tr>\n",
       "      <th>0</th>\n",
       "      <td>Agility</td>\n",
       "      <td>Agility</td>\n",
       "      <td>1.000000</td>\n",
       "      <td>False</td>\n",
       "    </tr>\n",
       "    <tr>\n",
       "      <th>1</th>\n",
       "      <td>Agility</td>\n",
       "      <td>Accelerated Healing</td>\n",
       "      <td>0.274982</td>\n",
       "      <td>True</td>\n",
       "    </tr>\n",
       "    <tr>\n",
       "      <th>2</th>\n",
       "      <td>Agility</td>\n",
       "      <td>Lantern Power Ring</td>\n",
       "      <td>0.022883</td>\n",
       "      <td>True</td>\n",
       "    </tr>\n",
       "    <tr>\n",
       "      <th>3</th>\n",
       "      <td>Agility</td>\n",
       "      <td>Dimensional Awareness</td>\n",
       "      <td>0.028897</td>\n",
       "      <td>True</td>\n",
       "    </tr>\n",
       "    <tr>\n",
       "      <th>4</th>\n",
       "      <td>Agility</td>\n",
       "      <td>Cold Resistance</td>\n",
       "      <td>0.106374</td>\n",
       "      <td>True</td>\n",
       "    </tr>\n",
       "    <tr>\n",
       "      <th>...</th>\n",
       "      <td>...</td>\n",
       "      <td>...</td>\n",
       "      <td>...</td>\n",
       "      <td>...</td>\n",
       "    </tr>\n",
       "    <tr>\n",
       "      <th>27884</th>\n",
       "      <td>Omniscient</td>\n",
       "      <td>Phoenix Force</td>\n",
       "      <td>-0.002148</td>\n",
       "      <td>True</td>\n",
       "    </tr>\n",
       "    <tr>\n",
       "      <th>27885</th>\n",
       "      <td>Omniscient</td>\n",
       "      <td>Molecular Dissipation</td>\n",
       "      <td>-0.002148</td>\n",
       "      <td>True</td>\n",
       "    </tr>\n",
       "    <tr>\n",
       "      <th>27886</th>\n",
       "      <td>Omniscient</td>\n",
       "      <td>Vision - Cryo</td>\n",
       "      <td>-0.002148</td>\n",
       "      <td>True</td>\n",
       "    </tr>\n",
       "    <tr>\n",
       "      <th>27887</th>\n",
       "      <td>Omniscient</td>\n",
       "      <td>Omnipresent</td>\n",
       "      <td>1.000000</td>\n",
       "      <td>True</td>\n",
       "    </tr>\n",
       "    <tr>\n",
       "      <th>27888</th>\n",
       "      <td>Omniscient</td>\n",
       "      <td>Omniscient</td>\n",
       "      <td>1.000000</td>\n",
       "      <td>False</td>\n",
       "    </tr>\n",
       "  </tbody>\n",
       "</table>\n",
       "<p>27889 rows × 4 columns</p>\n",
       "</div>"
      ],
      "text/plain": [
       "          Power 1                Power 2  Correlation  keep-me\n",
       "0         Agility                Agility     1.000000    False\n",
       "1         Agility    Accelerated Healing     0.274982     True\n",
       "2         Agility     Lantern Power Ring     0.022883     True\n",
       "3         Agility  Dimensional Awareness     0.028897     True\n",
       "4         Agility        Cold Resistance     0.106374     True\n",
       "...           ...                    ...          ...      ...\n",
       "27884  Omniscient          Phoenix Force    -0.002148     True\n",
       "27885  Omniscient  Molecular Dissipation    -0.002148     True\n",
       "27886  Omniscient          Vision - Cryo    -0.002148     True\n",
       "27887  Omniscient            Omnipresent     1.000000     True\n",
       "27888  Omniscient             Omniscient     1.000000    False\n",
       "\n",
       "[27889 rows x 4 columns]"
      ]
     },
     "execution_count": 233,
     "metadata": {},
     "output_type": "execute_result"
    }
   ],
   "source": [
    "##  Make a keep-me column that is False if power 1 and power 2 are the same\n",
    "corr_df['keep-me'] = corr_df.apply(lambda row:False if row['Power 1']==row['Power 2'] else True,axis=1)\n",
    "corr_df"
   ]
  },
  {
   "cell_type": "code",
   "execution_count": 234,
   "metadata": {},
   "outputs": [],
   "source": [
    "## Deal with reverse-order correlations\n",
    "corr_df['Power Combo'] = corr_df.apply(lambda row: '-'.join(set(row[['Power 1','Power 2']] )),axis=1)"
   ]
  },
  {
   "cell_type": "code",
   "execution_count": 235,
   "metadata": {},
   "outputs": [
    {
     "data": {
      "text/html": [
       "<div>\n",
       "<style scoped>\n",
       "    .dataframe tbody tr th:only-of-type {\n",
       "        vertical-align: middle;\n",
       "    }\n",
       "\n",
       "    .dataframe tbody tr th {\n",
       "        vertical-align: top;\n",
       "    }\n",
       "\n",
       "    .dataframe thead th {\n",
       "        text-align: right;\n",
       "    }\n",
       "</style>\n",
       "<table border=\"1\" class=\"dataframe\">\n",
       "  <thead>\n",
       "    <tr style=\"text-align: right;\">\n",
       "      <th></th>\n",
       "      <th>Power 1</th>\n",
       "      <th>Power 2</th>\n",
       "      <th>Correlation</th>\n",
       "      <th>keep-me</th>\n",
       "      <th>Power Combo</th>\n",
       "    </tr>\n",
       "  </thead>\n",
       "  <tbody>\n",
       "    <tr>\n",
       "      <th>0</th>\n",
       "      <td>Agility</td>\n",
       "      <td>Agility</td>\n",
       "      <td>1.000000</td>\n",
       "      <td>False</td>\n",
       "      <td>Agility</td>\n",
       "    </tr>\n",
       "    <tr>\n",
       "      <th>1</th>\n",
       "      <td>Agility</td>\n",
       "      <td>Accelerated Healing</td>\n",
       "      <td>0.274982</td>\n",
       "      <td>True</td>\n",
       "      <td>Accelerated Healing-Agility</td>\n",
       "    </tr>\n",
       "    <tr>\n",
       "      <th>2</th>\n",
       "      <td>Agility</td>\n",
       "      <td>Lantern Power Ring</td>\n",
       "      <td>0.022883</td>\n",
       "      <td>True</td>\n",
       "      <td>Lantern Power Ring-Agility</td>\n",
       "    </tr>\n",
       "    <tr>\n",
       "      <th>3</th>\n",
       "      <td>Agility</td>\n",
       "      <td>Dimensional Awareness</td>\n",
       "      <td>0.028897</td>\n",
       "      <td>True</td>\n",
       "      <td>Dimensional Awareness-Agility</td>\n",
       "    </tr>\n",
       "    <tr>\n",
       "      <th>4</th>\n",
       "      <td>Agility</td>\n",
       "      <td>Cold Resistance</td>\n",
       "      <td>0.106374</td>\n",
       "      <td>True</td>\n",
       "      <td>Cold Resistance-Agility</td>\n",
       "    </tr>\n",
       "    <tr>\n",
       "      <th>...</th>\n",
       "      <td>...</td>\n",
       "      <td>...</td>\n",
       "      <td>...</td>\n",
       "      <td>...</td>\n",
       "      <td>...</td>\n",
       "    </tr>\n",
       "    <tr>\n",
       "      <th>27884</th>\n",
       "      <td>Omniscient</td>\n",
       "      <td>Phoenix Force</td>\n",
       "      <td>-0.002148</td>\n",
       "      <td>True</td>\n",
       "      <td>Phoenix Force-Omniscient</td>\n",
       "    </tr>\n",
       "    <tr>\n",
       "      <th>27885</th>\n",
       "      <td>Omniscient</td>\n",
       "      <td>Molecular Dissipation</td>\n",
       "      <td>-0.002148</td>\n",
       "      <td>True</td>\n",
       "      <td>Molecular Dissipation-Omniscient</td>\n",
       "    </tr>\n",
       "    <tr>\n",
       "      <th>27886</th>\n",
       "      <td>Omniscient</td>\n",
       "      <td>Vision - Cryo</td>\n",
       "      <td>-0.002148</td>\n",
       "      <td>True</td>\n",
       "      <td>Vision - Cryo-Omniscient</td>\n",
       "    </tr>\n",
       "    <tr>\n",
       "      <th>27887</th>\n",
       "      <td>Omniscient</td>\n",
       "      <td>Omnipresent</td>\n",
       "      <td>1.000000</td>\n",
       "      <td>True</td>\n",
       "      <td>Omniscient-Omnipresent</td>\n",
       "    </tr>\n",
       "    <tr>\n",
       "      <th>27888</th>\n",
       "      <td>Omniscient</td>\n",
       "      <td>Omniscient</td>\n",
       "      <td>1.000000</td>\n",
       "      <td>False</td>\n",
       "      <td>Omniscient</td>\n",
       "    </tr>\n",
       "  </tbody>\n",
       "</table>\n",
       "<p>27889 rows × 5 columns</p>\n",
       "</div>"
      ],
      "text/plain": [
       "          Power 1                Power 2  Correlation  keep-me  \\\n",
       "0         Agility                Agility     1.000000    False   \n",
       "1         Agility    Accelerated Healing     0.274982     True   \n",
       "2         Agility     Lantern Power Ring     0.022883     True   \n",
       "3         Agility  Dimensional Awareness     0.028897     True   \n",
       "4         Agility        Cold Resistance     0.106374     True   \n",
       "...           ...                    ...          ...      ...   \n",
       "27884  Omniscient          Phoenix Force    -0.002148     True   \n",
       "27885  Omniscient  Molecular Dissipation    -0.002148     True   \n",
       "27886  Omniscient          Vision - Cryo    -0.002148     True   \n",
       "27887  Omniscient            Omnipresent     1.000000     True   \n",
       "27888  Omniscient             Omniscient     1.000000    False   \n",
       "\n",
       "                            Power Combo  \n",
       "0                               Agility  \n",
       "1           Accelerated Healing-Agility  \n",
       "2            Lantern Power Ring-Agility  \n",
       "3         Dimensional Awareness-Agility  \n",
       "4               Cold Resistance-Agility  \n",
       "...                                 ...  \n",
       "27884          Phoenix Force-Omniscient  \n",
       "27885  Molecular Dissipation-Omniscient  \n",
       "27886          Vision - Cryo-Omniscient  \n",
       "27887            Omniscient-Omnipresent  \n",
       "27888                        Omniscient  \n",
       "\n",
       "[27889 rows x 5 columns]"
      ]
     },
     "execution_count": 235,
     "metadata": {},
     "output_type": "execute_result"
    }
   ],
   "source": [
    "corr_df"
   ]
  },
  {
   "cell_type": "code",
   "execution_count": 236,
   "metadata": {},
   "outputs": [
    {
     "data": {
      "text/plain": [
       "{'power 1', 'power 2'}"
      ]
     },
     "execution_count": 236,
     "metadata": {},
     "output_type": "execute_result"
    }
   ],
   "source": [
    "set_ex = set(['power 1','power 2'])\n",
    "set_ex"
   ]
  },
  {
   "cell_type": "code",
   "execution_count": 237,
   "metadata": {},
   "outputs": [],
   "source": [
    "corr_df = corr_df.loc[ (corr_df['keep-me']==True),['Power Combo','Correlation'] ]\n",
    "corr_df.drop_duplicates(inplace=True)\n",
    "corr_df.set_index('Power Combo',inplace=True)"
   ]
  },
  {
   "cell_type": "code",
   "execution_count": 241,
   "metadata": {},
   "outputs": [
    {
     "data": {
      "text/html": [
       "<div>\n",
       "<style scoped>\n",
       "    .dataframe tbody tr th:only-of-type {\n",
       "        vertical-align: middle;\n",
       "    }\n",
       "\n",
       "    .dataframe tbody tr th {\n",
       "        vertical-align: top;\n",
       "    }\n",
       "\n",
       "    .dataframe thead th {\n",
       "        text-align: right;\n",
       "    }\n",
       "</style>\n",
       "<table border=\"1\" class=\"dataframe\">\n",
       "  <thead>\n",
       "    <tr style=\"text-align: right;\">\n",
       "      <th></th>\n",
       "      <th>Correlation</th>\n",
       "    </tr>\n",
       "    <tr>\n",
       "      <th>Power Combo</th>\n",
       "      <th></th>\n",
       "    </tr>\n",
       "  </thead>\n",
       "  <tbody>\n",
       "    <tr>\n",
       "      <th>Accelerated Healing-Agility</th>\n",
       "      <td>0.274982</td>\n",
       "    </tr>\n",
       "    <tr>\n",
       "      <th>Lantern Power Ring-Agility</th>\n",
       "      <td>0.022883</td>\n",
       "    </tr>\n",
       "    <tr>\n",
       "      <th>Dimensional Awareness-Agility</th>\n",
       "      <td>0.028897</td>\n",
       "    </tr>\n",
       "    <tr>\n",
       "      <th>Cold Resistance-Agility</th>\n",
       "      <td>0.106374</td>\n",
       "    </tr>\n",
       "    <tr>\n",
       "      <th>Durability-Agility</th>\n",
       "      <td>0.142029</td>\n",
       "    </tr>\n",
       "    <tr>\n",
       "      <th>...</th>\n",
       "      <td>...</td>\n",
       "    </tr>\n",
       "    <tr>\n",
       "      <th>Time Manipulation-Omniscient</th>\n",
       "      <td>0.311872</td>\n",
       "    </tr>\n",
       "    <tr>\n",
       "      <th>Invisibility-Omniscient</th>\n",
       "      <td>0.143328</td>\n",
       "    </tr>\n",
       "    <tr>\n",
       "      <th>Super Breath-Omniscient</th>\n",
       "      <td>-0.010476</td>\n",
       "    </tr>\n",
       "    <tr>\n",
       "      <th>Resurrection-Omniscient</th>\n",
       "      <td>-0.008116</td>\n",
       "    </tr>\n",
       "    <tr>\n",
       "      <th>Vision - Thermal-Omniscient</th>\n",
       "      <td>-0.010939</td>\n",
       "    </tr>\n",
       "  </tbody>\n",
       "</table>\n",
       "<p>15010 rows × 1 columns</p>\n",
       "</div>"
      ],
      "text/plain": [
       "                               Correlation\n",
       "Power Combo                               \n",
       "Accelerated Healing-Agility       0.274982\n",
       "Lantern Power Ring-Agility        0.022883\n",
       "Dimensional Awareness-Agility     0.028897\n",
       "Cold Resistance-Agility           0.106374\n",
       "Durability-Agility                0.142029\n",
       "...                                    ...\n",
       "Time Manipulation-Omniscient      0.311872\n",
       "Invisibility-Omniscient           0.143328\n",
       "Super Breath-Omniscient          -0.010476\n",
       "Resurrection-Omniscient          -0.008116\n",
       "Vision - Thermal-Omniscient      -0.010939\n",
       "\n",
       "[15010 rows x 1 columns]"
      ]
     },
     "execution_count": 241,
     "metadata": {},
     "output_type": "execute_result"
    }
   ],
   "source": [
    "corr_df"
   ]
  },
  {
   "cell_type": "code",
   "execution_count": 238,
   "metadata": {},
   "outputs": [
    {
     "data": {
      "text/plain": [
       "<AxesSubplot:ylabel='Power Combo'>"
      ]
     },
     "execution_count": 238,
     "metadata": {},
     "output_type": "execute_result"
    },
    {
     "data": {
      "image/png": "[encoded data removed]",
      "text/plain": [
       "<Figure size 432x288 with 1 Axes>"
      ]
     },
     "metadata": {
      "needs_background": "light"
     },
     "output_type": "display_data"
    }
   ],
   "source": [
    "## Save corr_df where keep-me is true annd only save Power Combo and Correlation \n",
    "corr_df.sort_values('Correlation').tail(10).plot(kind='barh')"
   ]
  },
  {
   "cell_type": "code",
   "execution_count": 239,
   "metadata": {},
   "outputs": [
    {
     "data": {
      "text/plain": [
       "<AxesSubplot:ylabel='Power Combo'>"
      ]
     },
     "execution_count": 239,
     "metadata": {},
     "output_type": "execute_result"
    },
    {
     "data": {
      "image/png": "[encoded data removed]",
      "text/plain": [
       "<Figure size 432x288 with 1 Axes>"
      ]
     },
     "metadata": {
      "needs_background": "light"
     },
     "output_type": "display_data"
    }
   ],
   "source": [
    "## Sort values  \n",
    "corr_df['Correlation'].sort_values().tail(10).plot(kind='barh')"
   ]
  },
  {
   "cell_type": "code",
   "execution_count": 243,
   "metadata": {},
   "outputs": [
    {
     "data": {
      "text/plain": [
       "Power Combo\n",
       "Weapons Master-Flight                 -0.179336\n",
       "Stealth-Flight                        -0.157375\n",
       "Weapons Master-Super Strength         -0.154379\n",
       "Super Strength-Peak Human Condition   -0.143948\n",
       "Peak Human Condition-Super Strength   -0.143948\n",
       "                                         ...   \n",
       "Omnipresent-Omnipotent                 0.631012\n",
       "Vision - X-Ray-Vision - Microscopic    0.677827\n",
       "Melting-Intuitive aptitude             0.706570\n",
       "Omniscient-Omnipresent                 1.000000\n",
       "Spatial Awareness-Hyperkinesis         1.000000\n",
       "Name: Correlation, Length: 15010, dtype: float64"
      ]
     },
     "execution_count": 243,
     "metadata": {},
     "output_type": "execute_result"
    }
   ],
   "source": [
    "corr_df['Correlation'].sort_values()"
   ]
  },
  {
   "cell_type": "code",
   "execution_count": 249,
   "metadata": {},
   "outputs": [
    {
     "data": {
      "text/html": [
       "<style  type=\"text/css\" >\n",
       "#T_e92cbade_7d27_11eb_8066_acde48001122row0_col0{\n",
       "            background-color:  #fff7fb;\n",
       "            color:  #000000;\n",
       "        }#T_e92cbade_7d27_11eb_8066_acde48001122row1_col0,#T_e92cbade_7d27_11eb_8066_acde48001122row2_col0{\n",
       "            background-color:  #fef6fb;\n",
       "            color:  #000000;\n",
       "        }#T_e92cbade_7d27_11eb_8066_acde48001122row3_col0{\n",
       "            background-color:  #fdf5fa;\n",
       "            color:  #000000;\n",
       "        }#T_e92cbade_7d27_11eb_8066_acde48001122row4_col0{\n",
       "            background-color:  #faf2f8;\n",
       "            color:  #000000;\n",
       "        }#T_e92cbade_7d27_11eb_8066_acde48001122row5_col0{\n",
       "            background-color:  #f8f1f8;\n",
       "            color:  #000000;\n",
       "        }#T_e92cbade_7d27_11eb_8066_acde48001122row6_col0{\n",
       "            background-color:  #f4edf6;\n",
       "            color:  #000000;\n",
       "        }#T_e92cbade_7d27_11eb_8066_acde48001122row7_col0,#T_e92cbade_7d27_11eb_8066_acde48001122row8_col0,#T_e92cbade_7d27_11eb_8066_acde48001122row9_col0{\n",
       "            background-color:  #f2ecf5;\n",
       "            color:  #000000;\n",
       "        }#T_e92cbade_7d27_11eb_8066_acde48001122row10_col0{\n",
       "            background-color:  #f0eaf4;\n",
       "            color:  #000000;\n",
       "        }#T_e92cbade_7d27_11eb_8066_acde48001122row11_col0,#T_e92cbade_7d27_11eb_8066_acde48001122row12_col0{\n",
       "            background-color:  #eee9f3;\n",
       "            color:  #000000;\n",
       "        }#T_e92cbade_7d27_11eb_8066_acde48001122row13_col0{\n",
       "            background-color:  #e7e3f0;\n",
       "            color:  #000000;\n",
       "        }#T_e92cbade_7d27_11eb_8066_acde48001122row14_col0{\n",
       "            background-color:  #e6e2ef;\n",
       "            color:  #000000;\n",
       "        }#T_e92cbade_7d27_11eb_8066_acde48001122row15_col0{\n",
       "            background-color:  #e3e0ee;\n",
       "            color:  #000000;\n",
       "        }#T_e92cbade_7d27_11eb_8066_acde48001122row16_col0,#T_e92cbade_7d27_11eb_8066_acde48001122row17_col0{\n",
       "            background-color:  #e2dfee;\n",
       "            color:  #000000;\n",
       "        }#T_e92cbade_7d27_11eb_8066_acde48001122row18_col0,#T_e92cbade_7d27_11eb_8066_acde48001122row19_col0,#T_e92cbade_7d27_11eb_8066_acde48001122row20_col0{\n",
       "            background-color:  #dddbec;\n",
       "            color:  #000000;\n",
       "        }#T_e92cbade_7d27_11eb_8066_acde48001122row21_col0{\n",
       "            background-color:  #c1cae2;\n",
       "            color:  #000000;\n",
       "        }#T_e92cbade_7d27_11eb_8066_acde48001122row22_col0{\n",
       "            background-color:  #acc0dd;\n",
       "            color:  #000000;\n",
       "        }#T_e92cbade_7d27_11eb_8066_acde48001122row23_col0,#T_e92cbade_7d27_11eb_8066_acde48001122row24_col0{\n",
       "            background-color:  #023858;\n",
       "            color:  #f1f1f1;\n",
       "        }</style><table id=\"T_e92cbade_7d27_11eb_8066_acde48001122\" ><thead>    <tr>        <th class=\"blank level0\" ></th>        <th class=\"col_heading level0 col0\" >Correlation</th>    </tr>    <tr>        <th class=\"index_name level0\" >Power Combo</th>        <th class=\"blank\" ></th>    </tr></thead><tbody>\n",
       "                <tr>\n",
       "                        <th id=\"T_e92cbade_7d27_11eb_8066_acde48001122level0_row0\" class=\"row_heading level0 row0\" >Danger Sense-Web Creation</th>\n",
       "                        <td id=\"T_e92cbade_7d27_11eb_8066_acde48001122row0_col0\" class=\"data row0 col0\" >0.542638</td>\n",
       "            </tr>\n",
       "            <tr>\n",
       "                        <th id=\"T_e92cbade_7d27_11eb_8066_acde48001122level0_row1\" class=\"row_heading level0 row1\" >Vision - X-Ray-Vision - Telescopic</th>\n",
       "                        <td id=\"T_e92cbade_7d27_11eb_8066_acde48001122row1_col0\" class=\"data row1 col0\" >0.544597</td>\n",
       "            </tr>\n",
       "            <tr>\n",
       "                        <th id=\"T_e92cbade_7d27_11eb_8066_acde48001122level0_row2\" class=\"row_heading level0 row2\" >Symbiote Costume-Web Creation</th>\n",
       "                        <td id=\"T_e92cbade_7d27_11eb_8066_acde48001122row2_col0\" class=\"data row2 col0\" >0.544973</td>\n",
       "            </tr>\n",
       "            <tr>\n",
       "                        <th id=\"T_e92cbade_7d27_11eb_8066_acde48001122level0_row3\" class=\"row_heading level0 row3\" >Durability-Super Strength</th>\n",
       "                        <td id=\"T_e92cbade_7d27_11eb_8066_acde48001122row3_col0\" class=\"data row3 col0\" >0.549459</td>\n",
       "            </tr>\n",
       "            <tr>\n",
       "                        <th id=\"T_e92cbade_7d27_11eb_8066_acde48001122level0_row4\" class=\"row_heading level0 row4\" >Super Breath-Vision - Microscopic</th>\n",
       "                        <td id=\"T_e92cbade_7d27_11eb_8066_acde48001122row4_col0\" class=\"data row4 col0\" >0.560191</td>\n",
       "            </tr>\n",
       "            <tr>\n",
       "                        <th id=\"T_e92cbade_7d27_11eb_8066_acde48001122level0_row5\" class=\"row_heading level0 row5\" >Vision - Telescopic-Vision - Microscopic</th>\n",
       "                        <td id=\"T_e92cbade_7d27_11eb_8066_acde48001122row5_col0\" class=\"data row5 col0\" >0.564572</td>\n",
       "            </tr>\n",
       "            <tr>\n",
       "                        <th id=\"T_e92cbade_7d27_11eb_8066_acde48001122level0_row6\" class=\"row_heading level0 row6\" >Dimensional Awareness-Reality Warping</th>\n",
       "                        <td id=\"T_e92cbade_7d27_11eb_8066_acde48001122row6_col0\" class=\"data row6 col0\" >0.576688</td>\n",
       "            </tr>\n",
       "            <tr>\n",
       "                        <th id=\"T_e92cbade_7d27_11eb_8066_acde48001122level0_row7\" class=\"row_heading level0 row7\" >Cold Resistance-Heat Resistance</th>\n",
       "                        <td id=\"T_e92cbade_7d27_11eb_8066_acde48001122row7_col0\" class=\"data row7 col0\" >0.580691</td>\n",
       "            </tr>\n",
       "            <tr>\n",
       "                        <th id=\"T_e92cbade_7d27_11eb_8066_acde48001122level0_row8\" class=\"row_heading level0 row8\" >Heat Resistance-Cold Resistance</th>\n",
       "                        <td id=\"T_e92cbade_7d27_11eb_8066_acde48001122row8_col0\" class=\"data row8 col0\" >0.580691</td>\n",
       "            </tr>\n",
       "            <tr>\n",
       "                        <th id=\"T_e92cbade_7d27_11eb_8066_acde48001122level0_row9\" class=\"row_heading level0 row9\" >Illusions-Astral Projection</th>\n",
       "                        <td id=\"T_e92cbade_7d27_11eb_8066_acde48001122row9_col0\" class=\"data row9 col0\" >0.581719</td>\n",
       "            </tr>\n",
       "            <tr>\n",
       "                        <th id=\"T_e92cbade_7d27_11eb_8066_acde48001122level0_row10\" class=\"row_heading level0 row10\" >Time Manipulation-Reality Warping</th>\n",
       "                        <td id=\"T_e92cbade_7d27_11eb_8066_acde48001122row10_col0\" class=\"data row10 col0\" >0.587397</td>\n",
       "            </tr>\n",
       "            <tr>\n",
       "                        <th id=\"T_e92cbade_7d27_11eb_8066_acde48001122level0_row11\" class=\"row_heading level0 row11\" >Animal Oriented Powers-Animal Attributes</th>\n",
       "                        <td id=\"T_e92cbade_7d27_11eb_8066_acde48001122row11_col0\" class=\"data row11 col0\" >0.593247</td>\n",
       "            </tr>\n",
       "            <tr>\n",
       "                        <th id=\"T_e92cbade_7d27_11eb_8066_acde48001122level0_row12\" class=\"row_heading level0 row12\" >Omnipotent-Reality Warping</th>\n",
       "                        <td id=\"T_e92cbade_7d27_11eb_8066_acde48001122row12_col0\" class=\"data row12 col0\" >0.593494</td>\n",
       "            </tr>\n",
       "            <tr>\n",
       "                        <th id=\"T_e92cbade_7d27_11eb_8066_acde48001122level0_row13\" class=\"row_heading level0 row13\" >Super Breath-Vision - Heat</th>\n",
       "                        <td id=\"T_e92cbade_7d27_11eb_8066_acde48001122row13_col0\" class=\"data row13 col0\" >0.609600</td>\n",
       "            </tr>\n",
       "            <tr>\n",
       "                        <th id=\"T_e92cbade_7d27_11eb_8066_acde48001122level0_row14\" class=\"row_heading level0 row14\" >Web Creation-Wallcrawling</th>\n",
       "                        <td id=\"T_e92cbade_7d27_11eb_8066_acde48001122row14_col0\" class=\"data row14 col0\" >0.612852</td>\n",
       "            </tr>\n",
       "            <tr>\n",
       "                        <th id=\"T_e92cbade_7d27_11eb_8066_acde48001122level0_row15\" class=\"row_heading level0 row15\" >Time Travel-Time Manipulation</th>\n",
       "                        <td id=\"T_e92cbade_7d27_11eb_8066_acde48001122row15_col0\" class=\"data row15 col0\" >0.618517</td>\n",
       "            </tr>\n",
       "            <tr>\n",
       "                        <th id=\"T_e92cbade_7d27_11eb_8066_acde48001122level0_row16\" class=\"row_heading level0 row16\" >Vision - Microscopic-Vision - Heat</th>\n",
       "                        <td id=\"T_e92cbade_7d27_11eb_8066_acde48001122row16_col0\" class=\"data row16 col0\" >0.620659</td>\n",
       "            </tr>\n",
       "            <tr>\n",
       "                        <th id=\"T_e92cbade_7d27_11eb_8066_acde48001122level0_row17\" class=\"row_heading level0 row17\" >Vision - Heat-Vision - Microscopic</th>\n",
       "                        <td id=\"T_e92cbade_7d27_11eb_8066_acde48001122row17_col0\" class=\"data row17 col0\" >0.620659</td>\n",
       "            </tr>\n",
       "            <tr>\n",
       "                        <th id=\"T_e92cbade_7d27_11eb_8066_acde48001122level0_row18\" class=\"row_heading level0 row18\" >Vision - X-Ray-Vision - Heat</th>\n",
       "                        <td id=\"T_e92cbade_7d27_11eb_8066_acde48001122row18_col0\" class=\"data row18 col0\" >0.630361</td>\n",
       "            </tr>\n",
       "            <tr>\n",
       "                        <th id=\"T_e92cbade_7d27_11eb_8066_acde48001122level0_row19\" class=\"row_heading level0 row19\" >Omniscient-Omnipotent</th>\n",
       "                        <td id=\"T_e92cbade_7d27_11eb_8066_acde48001122row19_col0\" class=\"data row19 col0\" >0.631012</td>\n",
       "            </tr>\n",
       "            <tr>\n",
       "                        <th id=\"T_e92cbade_7d27_11eb_8066_acde48001122level0_row20\" class=\"row_heading level0 row20\" >Omnipresent-Omnipotent</th>\n",
       "                        <td id=\"T_e92cbade_7d27_11eb_8066_acde48001122row20_col0\" class=\"data row20 col0\" >0.631012</td>\n",
       "            </tr>\n",
       "            <tr>\n",
       "                        <th id=\"T_e92cbade_7d27_11eb_8066_acde48001122level0_row21\" class=\"row_heading level0 row21\" >Vision - X-Ray-Vision - Microscopic</th>\n",
       "                        <td id=\"T_e92cbade_7d27_11eb_8066_acde48001122row21_col0\" class=\"data row21 col0\" >0.677827</td>\n",
       "            </tr>\n",
       "            <tr>\n",
       "                        <th id=\"T_e92cbade_7d27_11eb_8066_acde48001122level0_row22\" class=\"row_heading level0 row22\" >Melting-Intuitive aptitude</th>\n",
       "                        <td id=\"T_e92cbade_7d27_11eb_8066_acde48001122row22_col0\" class=\"data row22 col0\" >0.706570</td>\n",
       "            </tr>\n",
       "            <tr>\n",
       "                        <th id=\"T_e92cbade_7d27_11eb_8066_acde48001122level0_row23\" class=\"row_heading level0 row23\" >Omniscient-Omnipresent</th>\n",
       "                        <td id=\"T_e92cbade_7d27_11eb_8066_acde48001122row23_col0\" class=\"data row23 col0\" >1.000000</td>\n",
       "            </tr>\n",
       "            <tr>\n",
       "                        <th id=\"T_e92cbade_7d27_11eb_8066_acde48001122level0_row24\" class=\"row_heading level0 row24\" >Spatial Awareness-Hyperkinesis</th>\n",
       "                        <td id=\"T_e92cbade_7d27_11eb_8066_acde48001122row24_col0\" class=\"data row24 col0\" >1.000000</td>\n",
       "            </tr>\n",
       "    </tbody></table>"
      ],
      "text/plain": [
       "<pandas.io.formats.style.Styler at 0x7f8c33073d90>"
      ]
     },
     "execution_count": 249,
     "metadata": {},
     "output_type": "execute_result"
    }
   ],
   "source": [
    "corr_df.sort_values('Correlation').tail(25).style.background_gradient()"
   ]
  },
  {
   "cell_type": "code",
   "execution_count": 247,
   "metadata": {},
   "outputs": [
    {
     "data": {
      "text/plain": [
       "<AxesSubplot:ylabel='Power Combo'>"
      ]
     },
     "execution_count": 247,
     "metadata": {},
     "output_type": "execute_result"
    },
    {
     "data": {
      "image/png": "[encoded data removed]",
      "text/plain": [
       "<Figure size 432x288 with 2 Axes>"
      ]
     },
     "metadata": {
      "needs_background": "light"
     },
     "output_type": "display_data"
    }
   ],
   "source": [
    "## Plotn with pandas (barh)\n",
    "sns.heatmap(corr_df.sort_values('Correlation').tail(25),cmap='Reds')\n"
   ]
  },
  {
   "cell_type": "markdown",
   "metadata": {},
   "source": [
    "## Summary\n",
    "\n",
    "In this lab, we demonstrated our mastery of:\n",
    "* Using all of our Pandas knowledge to date to clean the dataset and deal with null values\n",
    "* Using Queries and aggregations to group the data into interesting subsets as needed\n",
    "* Using descriptive statistics and data visualization to find answers to questions we may have about the data"
   ]
  },
  {
   "cell_type": "markdown",
   "metadata": {},
   "source": [
    "## Final Activity"
   ]
  },
  {
   "cell_type": "markdown",
   "metadata": {},
   "source": [
    "> - Make a function to produce a plot and return the fig \n",
    "- Loop through each ... Publisher? Gender? and produce the top 10 most highly correlated powers.\n",
    "- Save the figs to a dictionary.\n",
    "- In a For Loop, loop through the dictionary and either:\n",
    "    - print out which publisher/gender and then show plot\n",
    "    - OR update the title and then store plot \""
   ]
  },
  {
   "cell_type": "code",
   "execution_count": 250,
   "metadata": {},
   "outputs": [
    {
     "name": "stdout",
     "output_type": "stream",
     "text": [
      "CPU times: user 9.94 s, sys: 134 ms, total: 10.1 s\n",
      "Wall time: 10.2 s\n"
     ]
    },
    {
     "data": {
      "text/plain": [
       "Text(0.5, 1.0, 'Top 10 Most Commonly Co-Occurring Powers')"
      ]
     },
     "execution_count": 250,
     "metadata": {},
     "output_type": "execute_result"
    },
    {
     "data": {
      "image/png": "[encoded data removed]",
      "text/plain": [
       "<Figure size 432x288 with 1 Axes>"
      ]
     },
     "metadata": {
      "needs_background": "light"
     },
     "output_type": "display_data"
    }
   ],
   "source": [
    "%%time\n",
    "corr = df[power_cols].corr()\n",
    "corr_df = corr.unstack().reset_index()\n",
    "corr_df.columns = ['Power 1','Power 2','Correlation']\n",
    "\n",
    "corr_df['keep-me'] = corr_df.apply(lambda row: False if row['Power 1'] == row['Power 2'] else True,axis=1)\n",
    "corr_df['Power Combo'] = corr_df.apply(lambda row: '-'.join(set(row[['Power 1','Power 2']])),axis=1)\n",
    "corr_df = corr_df.loc[corr_df['keep-me']==True,['Power Combo','Correlation']]\n",
    "\n",
    "corr_df.drop_duplicates(inplace=True)\n",
    "corr_df = corr_df.sort_values('Correlation',ascending=False).set_index('Power Combo')\n",
    "\n",
    "ax = corr_df.sort_values('Correlation').tail(10).plot(kind='barh')\n",
    "ax.set_title('Top 10 Most Commonly Co-Occurring Powers')"
   ]
  },
  {
   "cell_type": "code",
   "execution_count": 251,
   "metadata": {},
   "outputs": [],
   "source": [
    "def plot_top_corr_powers(df,power_cols):\n",
    "    \n",
    "    corr = df[power_cols].corr()\n",
    "    corr_df = corr.unstack().reset_index()\n",
    "    corr_df.columns = ['Power 1','Power 2','Correlation']\n",
    "\n",
    "    corr_df['keep-me'] = corr_df.apply(lambda row: False if row['Power 1'] == row['Power 2'] else True,axis=1)\n",
    "    corr_df['Power Combo'] = corr_df.apply(lambda row: '-'.join(set(row[['Power 1','Power 2']])),axis=1)\n",
    "    corr_df = corr_df.loc[corr_df['keep-me']==True,['Power Combo','Correlation']]\n",
    "\n",
    "    corr_df.drop_duplicates(inplace=True)\n",
    "    corr_df.dropna(inplace=True)\n",
    "    corr_df = corr_df.sort_values('Correlation',ascending=True).set_index('Power Combo')\n",
    "\n",
    "    ax = corr_df.tail(10).plot(kind='barh')\n",
    "    ax.set_title('Top 10 Most Commonly Co-Occurring Powers')\n",
    "    \n",
    "    ## Get figure and return \n",
    "    fig = ax.get_figure()\n",
    "    return fig,ax"
   ]
  },
  {
   "cell_type": "code",
   "execution_count": 252,
   "metadata": {},
   "outputs": [
    {
     "data": {
      "text/plain": [
       "Index(['Marvel Comics', 'DC Comics', 'Dark Horse Comics', 'NBC - Heroes',\n",
       "       'Image Comics'],\n",
       "      dtype='object')"
      ]
     },
     "execution_count": 252,
     "metadata": {},
     "output_type": "execute_result"
    }
   ],
   "source": [
    "## Lets do the the top 5 most common Publishers\n",
    "publisher_list = df['Publisher'].value_counts().head().index\n",
    "publisher_list"
   ]
  },
  {
   "cell_type": "code",
   "execution_count": 253,
   "metadata": {},
   "outputs": [
    {
     "data": {
      "image/png": "[encoded data removed]",
      "text/plain": [
       "<Figure size 432x288 with 1 Axes>"
      ]
     },
     "metadata": {
      "needs_background": "light"
     },
     "output_type": "display_data"
    },
    {
     "data": {
      "image/png": "[encoded data removed]",
      "text/plain": [
       "<Figure size 432x288 with 1 Axes>"
      ]
     },
     "metadata": {
      "needs_background": "light"
     },
     "output_type": "display_data"
    },
    {
     "data": {
      "image/png": "[encoded data removed]",
      "text/plain": [
       "<Figure size 432x288 with 1 Axes>"
      ]
     },
     "metadata": {
      "needs_background": "light"
     },
     "output_type": "display_data"
    },
    {
     "data": {
      "image/png": "[encoded data removed]",
      "text/plain": [
       "<Figure size 432x288 with 1 Axes>"
      ]
     },
     "metadata": {
      "needs_background": "light"
     },
     "output_type": "display_data"
    },
    {
     "data": {
      "image/png": "[encoded data removed]",
      "text/plain": [
       "<Figure size 432x288 with 1 Axes>"
      ]
     },
     "metadata": {
      "needs_background": "light"
     },
     "output_type": "display_data"
    }
   ],
   "source": [
    "## Lets do the the top 5 most common Publishers\n",
    "publisher_figs = {}\n",
    "for publisher in publisher_list:\n",
    "    group_df = df.groupby('Publisher').get_group(publisher)\n",
    "    fig,ax = plot_top_corr_powers(group_df,power_cols)\n",
    "    \n",
    "    ax.set_title(f\"{publisher}: Top 10 Most Commonly Co-Occuring Powers \")\n",
    "    publisher_figs[publisher] = fig"
   ]
  },
  {
   "cell_type": "code",
   "execution_count": null,
   "metadata": {},
   "outputs": [],
   "source": [
    "## Use function in a looop and save publisher to dictionary\n"
   ]
  },
  {
   "cell_type": "code",
   "execution_count": 254,
   "metadata": {},
   "outputs": [
    {
     "data": {
      "image/png": "[encoded data removed]",
      "text/plain": [
       "<Figure size 432x288 with 1 Axes>"
      ]
     },
     "execution_count": 254,
     "metadata": {},
     "output_type": "execute_result"
    }
   ],
   "source": [
    "## Get DC Comics fig\n",
    "publisher_figs['DC Comics']"
   ]
  },
  {
   "cell_type": "markdown",
   "metadata": {},
   "source": [
    "## If there's time - Let's save dc and marvel figures to disk \n"
   ]
  },
  {
   "cell_type": "code",
   "execution_count": 255,
   "metadata": {},
   "outputs": [],
   "source": [
    "## If there's time - Let;s save dc and marvel figures to disk \n",
    "## If there's time - Let;s save dc and marvel figures to disk \n",
    "for publisher in ['DC Comics','Marvel Comics']:\n",
    "    fig = publisher_figs[publisher]\n",
    "    fig.savefig(f\"{publisher}-most-common-corr-powers.png\",transparent=False,\n",
    "                facecolor='white',dpi=300)"
   ]
  },
  {
   "cell_type": "code",
   "execution_count": null,
   "metadata": {},
   "outputs": [],
   "source": []
  }
 ],
 "metadata": {
  "kernelspec": {
   "display_name": "Python [conda env:learn-env-new]",
   "language": "python",
   "name": "conda-env-learn-env-new-py"
  },
  "language_info": {
   "codemirror_mode": {
    "name": "ipython",
    "version": 3
   },
   "file_extension": ".py",
   "mimetype": "text/x-python",
   "name": "python",
   "nbconvert_exporter": "python",
   "pygments_lexer": "ipython3",
   "version": "3.8.5"
  },
  "toc": {
   "base_numbering": 1,
   "nav_menu": {},
   "number_sections": true,
   "sideBar": true,
   "skip_h1_title": false,
   "title_cell": "Table of Contents",
   "title_sidebar": "Contents",
   "toc_cell": false,
   "toc_position": {
    "height": "calc(100% - 180px)",
    "left": "10px",
    "top": "150px",
    "width": "256px"
   },
   "toc_section_display": true,
   "toc_window_display": true
  },
  "varInspector": {
   "cols": {
    "lenName": 16,
    "lenType": 16,
    "lenVar": 40
   },
   "kernels_config": {
    "python": {
     "delete_cmd_postfix": "",
     "delete_cmd_prefix": "del ",
     "library": "var_list.py",
     "varRefreshCmd": "print(var_dic_list())"
    },
    "r": {
     "delete_cmd_postfix": ") ",
     "delete_cmd_prefix": "rm(",
     "library": "var_list.r",
     "varRefreshCmd": "cat(var_dic_list()) "
    }
   },
   "types_to_exclude": [
    "module",
    "function",
    "builtin_function_or_method",
    "instance",
    "_Feature"
   ],
   "window_display": false
  }
 },
 "nbformat": 4,
 "nbformat_minor": 2
}
