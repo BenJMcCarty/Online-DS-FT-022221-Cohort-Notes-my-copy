{
 "cells": [
  {
   "cell_type": "markdown",
   "metadata": {},
   "source": [
    "# CAPSTONE SHARING SESSION [02221FT Cohort]"
   ]
  },
  {
   "cell_type": "markdown",
   "metadata": {},
   "source": [
    "- 08/06/21"
   ]
  },
  {
   "cell_type": "markdown",
   "metadata": {},
   "source": [
    "##  📢 Announcements/Reminders"
   ]
  },
  {
   "cell_type": "markdown",
   "metadata": {},
   "source": [
    "\n",
    "> ### 👨‍🎓 🎉Graduation Ceremony is 08/12/21 at 7 pm EST. 🎉👩‍🎓    \n",
    "- **Look out for an email invite from Amber Yandow or David Jordan** and **make sure to fill out the survey** if you want your comments included when they read your name.\n"
   ]
  },
  {
   "cell_type": "markdown",
   "metadata": {},
   "source": [
    "- **Save Canvas resources!**\n",
    "    - Study Group Recordings Playlist\n",
    "    - Cohort Notes Repo\n",
    "    - Cohort Google Drive Folder\n",
    "        - Includes shared contact information.\n",
    "- **Check for email for instructions on how to export Canvas and Illumidesk material.**"
   ]
  },
  {
   "cell_type": "markdown",
   "metadata": {},
   "source": [
    "## 🎥 Presentations"
   ]
  },
  {
   "cell_type": "markdown",
   "metadata": {},
   "source": [
    "| # | Student | Capstone Title | Repo Link| App Link |\n",
    "| --- | --- | --- | --- | --- |\n",
    "|1. | Brian Bentson | \"Finding Stock Market Inefficiencies\" | [Repo Link](https://github.com/bentson1187/Stock-Market-Inefficiency-Analysis) | [Tableau Dashboard](https://public.tableau.com/app/profile/brian8863/viz/CapstoneDashboard_16252496264850/HoldingsDashboard?publish=yes)|\n",
    "|2. | Jessica Miles | \"How the New York Times can increase Facebook engagement\" | [Repo Link](https://github.com/thetriggestcove/nyt-engagement) |N/A|\n",
    "\n",
    "<!-- \n",
    "| # | Student | Capstone Title | Repo Link| App Link|\n",
    "| --- | --- | --- | --- | --- |\n",
    "|3. | Johnny Dryman | \"Halo 5 - Recommendations for Improved Player Experience through Data Visualization and Machine Learning\" | [Repo Link](https://github.com/Drymander/Capstone-Halo-5) | [App Link](https://share.streamlit.io/drymander/capstone-halo-5/main/halo.py)|\n",
    "|4. | Ethan Kunin | Sentiment Tracker | [Repo Link](https://github.com/kuninethan95/Sentiment_Tracker) | [App Link](https://share.streamlit.io/kuninethan95/Sentiment_Tracker/main/Sentiment_db.py)|\n",
    "|5. | Berke Tezcan | \"Leading the Charge: Predicting the Demand for Electric Vehicles and Chargers in Washington State\" | [Repo Link](https://github.com/ebtezcan/dsc-phase-5-project) | [Tableau Dashboard](https://public.tableau.com/views/ElectricVehiclePredictionsandExistingChargingInfrastructureinWashingtonState/Dashboard1?:showVizHome=no)|\n",
    "|6. | Nadir Sarigul  | \"Age and Relationsip Status Prediction With Artificial Intelligence: What Your Words Say About You\" | [Repo Link](https://github.com/dendar/Okcupid_nlp_Capstone) | [App Link](https://share.streamlit.io/dendar/okcupid_nlp_capstone/simple_streamlit_app.py)|\n",
    "|6. | Sam Lim | \"Comparing Consumer Sentiments of Apple, Google, and Android from Past to Present\" | [Repo Link](https://github.com/samlimish/Project5) | N/A| -->"
   ]
  },
  {
   "cell_type": "code",
   "execution_count": null,
   "metadata": {},
   "outputs": [],
   "source": []
  }
 ],
 "metadata": {
  "kernelspec": {
   "display_name": "learn-env",
   "language": "python",
   "name": "learn-env"
  },
  "language_info": {
   "codemirror_mode": {
    "name": "ipython",
    "version": 3
   },
   "file_extension": ".py",
   "mimetype": "text/x-python",
   "name": "python",
   "nbconvert_exporter": "python",
   "pygments_lexer": "ipython3",
   "version": "3.6.9"
  },
  "toc": {
   "base_numbering": 1,
   "nav_menu": {},
   "number_sections": false,
   "sideBar": true,
   "skip_h1_title": false,
   "title_cell": "Table of Contents",
   "title_sidebar": "Contents",
   "toc_cell": false,
   "toc_position": {},
   "toc_section_display": true,
   "toc_window_display": true
  }
 },
 "nbformat": 4,
 "nbformat_minor": 4
}
