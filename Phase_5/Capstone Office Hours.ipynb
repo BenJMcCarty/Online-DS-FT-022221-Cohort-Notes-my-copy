{
 "cells": [
  {
   "cell_type": "markdown",
   "metadata": {},
   "source": [
    "# Capstone Office Hours"
   ]
  },
  {
   "cell_type": "markdown",
   "metadata": {},
   "source": [
    "- 022221FT"
   ]
  },
  {
   "cell_type": "markdown",
   "metadata": {
    "toc": true
   },
   "source": [
    "<h1>Table of Contents<span class=\"tocSkip\"></span></h1>\n",
    "<div class=\"toc\"><ul class=\"toc-item\"><li><span><a href=\"#Capstone-Office-Hours\" data-toc-modified-id=\"Capstone-Office-Hours-1\">Capstone Office Hours</a></span><ul class=\"toc-item\"><li><span><a href=\"#06/24/21\" data-toc-modified-id=\"06/24/21-1.1\">06/24/21</a></span><ul class=\"toc-item\"><li><span><a href=\"#Scraping-Websites\" data-toc-modified-id=\"Scraping-Websites-1.1.1\">Scraping Websites</a></span></li><li><span><a href=\"#Anomaly-Detection\" data-toc-modified-id=\"Anomaly-Detection-1.1.2\">Anomaly Detection</a></span></li></ul></li><li><span><a href=\"#06/29/21-Office-Hours\" data-toc-modified-id=\"06/29/21-Office-Hours-1.2\">06/29/21 Office Hours</a></span><ul class=\"toc-item\"><li><span><a href=\"#Announcements\" data-toc-modified-id=\"Announcements-1.2.1\">Announcements</a></span></li><li><span><a href=\"#Today's-Bonus-Topic:-API's-Revisited\" data-toc-modified-id=\"Today's-Bonus-Topic:-API's-Revisited-1.2.2\">Today's Bonus Topic: API's Revisited</a></span></li><li><span><a href=\"#Questions\" data-toc-modified-id=\"Questions-1.2.3\">Questions</a></span></li></ul></li><li><span><a href=\"#06/30/21\" data-toc-modified-id=\"06/30/21-1.3\">06/30/21</a></span></li><li><span><a href=\"#07/01/21\" data-toc-modified-id=\"07/01/21-1.4\">07/01/21</a></span><ul class=\"toc-item\"><li><span><a href=\"#Announcements:\" data-toc-modified-id=\"Announcements:-1.4.1\">Announcements:</a></span></li></ul></li><li><span><a href=\"#07/02/21:-Capstone-Project---Week-2-Recap\" data-toc-modified-id=\"07/02/21:-Capstone-Project---Week-2-Recap-1.5\">07/02/21: Capstone Project - Week 2 Recap</a></span></li></ul></li><li><span><a href=\"#Capstone---Week-3\" data-toc-modified-id=\"Capstone---Week-3-2\">Capstone - Week 3</a></span><ul class=\"toc-item\"><li><span><a href=\"#07/06/21\" data-toc-modified-id=\"07/06/21-2.1\">07/06/21</a></span><ul class=\"toc-item\"><li><span><a href=\"#Dashboarding-Resources-(on-sale-today-and-tomorrow):\" data-toc-modified-id=\"Dashboarding-Resources-(on-sale-today-and-tomorrow):-2.1.1\">Dashboarding Resources (on sale today and tomorrow):</a></span></li><li><span><a href=\"#Env-Links\" data-toc-modified-id=\"Env-Links-2.1.2\">Env Links</a></span></li></ul></li></ul></li><li><span><a href=\"#📉📊📈Dashboarding-Study-Group-[07/07/21]\" data-toc-modified-id=\"📉📊📈Dashboarding-Study-Group-[07/07/21]-3\">📉📊📈<strong>Dashboarding Study Group [07/07/21]</strong></a></span></li><li><span><a href=\"#07/09/21-Office-Hours\" data-toc-modified-id=\"07/09/21-Office-Hours-4\">07/09/21 Office Hours</a></span><ul class=\"toc-item\"><li><span><a href=\"#Questions/Issues?\" data-toc-modified-id=\"Questions/Issues?-4.1\">Questions/Issues?</a></span></li><li><span><a href=\"#Planned-Content\" data-toc-modified-id=\"Planned-Content-4.2\">Planned Content</a></span><ul class=\"toc-item\"><li><span><a href=\"#Exploring-API-Results/Nested-Dictionaries\" data-toc-modified-id=\"Exploring-API-Results/Nested-Dictionaries-4.2.1\">Exploring API Results/Nested Dictionaries</a></span></li><li><span><a href=\"#Using-Models-in-Dashboards/Apps\" data-toc-modified-id=\"Using-Models-in-Dashboards/Apps-4.2.2\">Using Models in Dashboards/Apps</a></span></li></ul></li></ul></li></ul></div>"
   ]
  },
  {
   "cell_type": "markdown",
   "metadata": {},
   "source": [
    "## 06/24/21"
   ]
  },
  {
   "cell_type": "markdown",
   "metadata": {},
   "source": [
    "### Scraping Websites\n",
    "- `robots.txt`\n",
    "- randomly select a sleep time from a list for each loop\n",
    "- add a user agent to your requests.\n",
    "    - https://pypi.org/project/fake-useragent/ \n",
    "- Selenium's Web Driver\n",
    "    - https://www.selenium.dev/documentation/en/webdriver/\n",
    "    - https://selenium-python.readthedocs.io/\n",
    "    - https://www.guru99.com/selenium-tutorial.html"
   ]
  },
  {
   "cell_type": "markdown",
   "metadata": {},
   "source": [
    "### Anomaly Detection"
   ]
  },
  {
   "cell_type": "markdown",
   "metadata": {},
   "source": [
    "- https://machinelearningmastery.com/model-based-outlier-detection-and-removal-in-python/\n",
    "    - sklearn IsolationForest\n",
    "    - tunining `contamination` parameter using domain knowledge/test cases"
   ]
  },
  {
   "cell_type": "markdown",
   "metadata": {},
   "source": [
    "## 06/29/21 Office Hours"
   ]
  },
  {
   "cell_type": "markdown",
   "metadata": {},
   "source": [
    "### Announcements"
   ]
  },
  {
   "cell_type": "markdown",
   "metadata": {},
   "source": [
    "- Topic 43: AWS - moving to next week. Thurs/Friday\n",
    "- Topic 35: Big Data - just watch the CL recordings. I have very little value to add beyond what they cover. \n"
   ]
  },
  {
   "cell_type": "markdown",
   "metadata": {},
   "source": [
    "### Today's Bonus Topic: API's Revisited"
   ]
  },
  {
   "cell_type": "markdown",
   "metadata": {},
   "source": [
    "- Phase 5 folder: APIs"
   ]
  },
  {
   "cell_type": "markdown",
   "metadata": {},
   "source": [
    "### Questions"
   ]
  },
  {
   "cell_type": "markdown",
   "metadata": {},
   "source": [
    "- Is there a package to help sift through json results from an API, with nested dictonaries as columns\n",
    "    - https://pypi.org/project/nested-lookup/\n",
    "\n",
    "- Making dataframes from dict in loops\n",
    "\n",
    "- Whats the diff between pd.DataFrame.from_dict vs pd.DataFrame.from_records, and do we need them?\n"
   ]
  },
  {
   "cell_type": "markdown",
   "metadata": {},
   "source": [
    "## 06/30/21 "
   ]
  },
  {
   "cell_type": "markdown",
   "metadata": {},
   "source": [
    "- Reminder: Phase 4 project edits due by Sunday "
   ]
  },
  {
   "cell_type": "markdown",
   "metadata": {},
   "source": [
    "## 07/01/21"
   ]
  },
  {
   "cell_type": "markdown",
   "metadata": {},
   "source": [
    "### Announcements:"
   ]
  },
  {
   "cell_type": "markdown",
   "metadata": {},
   "source": [
    "- Flatiron is closed Monday in observance of July 04th\n",
    "\n",
    "- Planned Study Groups for Next Week:\n",
    "    - Wednesday 07/07/21: \n",
    "        - Making Dashboards in Python (with Plotly, Dash, and Streamlit)\n",
    "    - Thursday 07/08/21:\n",
    "        - Intro to Tableau Public\n",
    "    - Friday 07/09/21:\n",
    "        - Topic 43: Opertionalizing Code & AWS "
   ]
  },
  {
   "cell_type": "markdown",
   "metadata": {},
   "source": [
    "## 07/02/21: Capstone Project - Week 2 Recap"
   ]
  },
  {
   "cell_type": "markdown",
   "metadata": {},
   "source": [
    ">- As of this weekend, we are at the end of Capstone week 2. \n",
    "    - You should have your data and working on your modeling by the beginning of next week. \n",
    "\n",
    "- Reminder: we have 2 more full weeks (with O.H.) before the capstone is due. \n",
    "\n",
    "\n",
    "- **Project Submission Due Date = 07/18/21**\n",
    " \n",
    "- **Project Reviews - Week 1 = 07/19 - 07/23**\n"
   ]
  },
  {
   "cell_type": "code",
   "execution_count": null,
   "metadata": {},
   "outputs": [],
   "source": []
  },
  {
   "cell_type": "markdown",
   "metadata": {},
   "source": [
    "# Capstone - Week 3"
   ]
  },
  {
   "cell_type": "markdown",
   "metadata": {},
   "source": [
    "## 07/06/21 "
   ]
  },
  {
   "cell_type": "markdown",
   "metadata": {},
   "source": [
    "> - We are at ~halfway into Phase 5/ Capstone period. \n",
    "    - According to my (rough) guidelines: most of you should be modeling this week. \n"
   ]
  },
  {
   "cell_type": "markdown",
   "metadata": {},
   "source": [
    "- **Planned Study Groups for This Week:**\n",
    "    - Wednesday 07/07/21: \n",
    "        - Making Dashboards in Python (with Plotly, Dash, and Streamlit)\n",
    "    - Thursday 07/08/21:\n",
    "        - Intro to Tableau Public\n",
    "    - Friday 07/09/21:\n",
    "        - Topic 43: Opertionalizing Code & AWS "
   ]
  },
  {
   "cell_type": "markdown",
   "metadata": {},
   "source": [
    "### Dashboarding Resources (on sale today and tomorrow):\n",
    "- Streamlit: https://www.udemy.com/course/learn-streamlit-python/\n",
    "- Plotly/Dash: https://www.udemy.com/course/interactive-python-dashboards-with-plotly-and-dash/"
   ]
  },
  {
   "cell_type": "markdown",
   "metadata": {},
   "source": [
    "### Env Links"
   ]
  },
  {
   "cell_type": "markdown",
   "metadata": {},
   "source": [
    "- Learn-env setup repo from curriculum: https://github.com/learn-co-curriculum/dsc-data-science-env-config\n",
    "\n",
    "\n",
    "- [Anacodna: Cloning your environment](https://conda.io/projects/conda/en/latest/user-guide/tasks/manage-environments.html#cloning-an-environment)\n",
    "    - [Adding your new env to your Jupyter kernels](https://ipython.readthedocs.io/en/stable/install/kernel_install.html)"
   ]
  },
  {
   "cell_type": "markdown",
   "metadata": {},
   "source": [
    "# 📉📊📈**Dashboarding Study Group [07/07/21]**"
   ]
  },
  {
   "cell_type": "markdown",
   "metadata": {},
   "source": [
    "##### Dashboarding Resources (on sale through end of  today):\n",
    "- Streamlit: https://www.udemy.com/course/learn-streamlit-python/\n",
    "- Plotly/Dash: https://www.udemy.com/course/interactive-python-dashboards-with-plotly-and-dash/"
   ]
  },
  {
   "cell_type": "markdown",
   "metadata": {},
   "source": [
    ">- The repo for today's study group:\n",
    "    - https://github.com/flatiron-school/dashboarding-study-group-2021_022221FT\n",
    "        - The [exact commit with the empty S.G. Notebook](https://github.com/flatiron-school/dashboarding-study-group-2021_022221FT/tree/e684b10595aa5ad8c5f1f420870f65edf0b9bf71)"
   ]
  },
  {
   "cell_type": "markdown",
   "metadata": {},
   "source": [
    "# 07/09/21 Office Hours"
   ]
  },
  {
   "cell_type": "markdown",
   "metadata": {},
   "source": [
    "## Questions/Issues?"
   ]
  },
  {
   "cell_type": "markdown",
   "metadata": {},
   "source": [
    "-"
   ]
  },
  {
   "cell_type": "markdown",
   "metadata": {},
   "source": [
    "## Planned Content"
   ]
  },
  {
   "cell_type": "markdown",
   "metadata": {},
   "source": [
    "### Exploring API Results/Nested Dictionaries"
   ]
  },
  {
   "cell_type": "markdown",
   "metadata": {},
   "source": [
    "> Phase_5>Bonus Notebooks > `Halo API Exploration - Single Match-SG.ipynb`"
   ]
  },
  {
   "cell_type": "markdown",
   "metadata": {},
   "source": [
    "### Using Models in Dashboards/Apps"
   ]
  },
  {
   "cell_type": "markdown",
   "metadata": {},
   "source": [
    "\n",
    "- Repo: https://github.com/spags093/deepfake_image_detection\n",
    "     - App: https://github.com/spags093/deepfake_image_detection/blob/master/Deepfake%20Detection%20App/deepfakeimagedetection.py\n",
    "- Repo: https://github.com/tiaplagata/dash-travel-app\n",
    "    - App: https://github.com/tiaplagata/dash-travel-app/blob/master/app.py"
   ]
  },
  {
   "cell_type": "code",
   "execution_count": null,
   "metadata": {},
   "outputs": [],
   "source": []
  }
 ],
 "metadata": {
  "kernelspec": {
   "display_name": "learn-env-new",
   "language": "python",
   "name": "learn-env-new"
  },
  "language_info": {
   "codemirror_mode": {
    "name": "ipython",
    "version": 3
   },
   "file_extension": ".py",
   "mimetype": "text/x-python",
   "name": "python",
   "nbconvert_exporter": "python",
   "pygments_lexer": "ipython3",
   "version": "3.8.5"
  },
  "toc": {
   "base_numbering": 1,
   "nav_menu": {},
   "number_sections": false,
   "sideBar": true,
   "skip_h1_title": false,
   "title_cell": "Table of Contents",
   "title_sidebar": "Contents",
   "toc_cell": true,
   "toc_position": {
    "height": "calc(100% - 180px)",
    "left": "10px",
    "top": "150px",
    "width": "288px"
   },
   "toc_section_display": true,
   "toc_window_display": true
  }
 },
 "nbformat": 4,
 "nbformat_minor": 4
}
