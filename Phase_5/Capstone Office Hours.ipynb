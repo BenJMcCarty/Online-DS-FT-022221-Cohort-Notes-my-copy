{
 "cells": [
  {
   "cell_type": "markdown",
   "metadata": {},
   "source": [
    "# Capstone Office Hours"
   ]
  },
  {
   "cell_type": "markdown",
   "metadata": {},
   "source": [
    "- 022221FT"
   ]
  },
  {
   "cell_type": "markdown",
   "metadata": {},
   "source": [
    "## 06/24/21"
   ]
  },
  {
   "cell_type": "markdown",
   "metadata": {},
   "source": [
    "### Scraping Websites\n",
    "- `robots.txt`\n",
    "- randomly select a sleep time from a list for each loop\n",
    "- add a user agent to your requests.\n",
    "    - https://pypi.org/project/fake-useragent/ \n",
    "- Selenium's Web Driver\n",
    "    - https://www.selenium.dev/documentation/en/webdriver/\n",
    "    - https://selenium-python.readthedocs.io/\n",
    "    - https://www.guru99.com/selenium-tutorial.html"
   ]
  },
  {
   "cell_type": "markdown",
   "metadata": {},
   "source": [
    "### Anomaly Detection"
   ]
  },
  {
   "cell_type": "markdown",
   "metadata": {},
   "source": [
    "- https://machinelearningmastery.com/model-based-outlier-detection-and-removal-in-python/\n",
    "    - sklearn IsolationForest\n",
    "    - tunining `contamination` parameter using domain knowledge/test cases"
   ]
  },
  {
   "cell_type": "markdown",
   "metadata": {},
   "source": [
    "# 06/29/21 Office Hours"
   ]
  },
  {
   "cell_type": "markdown",
   "metadata": {},
   "source": [
    "### Announcements"
   ]
  },
  {
   "cell_type": "markdown",
   "metadata": {},
   "source": [
    "- Topic 43: AWS - moving to next week. Thurs/Friday\n",
    "- Topic 35: Big Data - just watch the CL recordings. I have very little value to add beyond what they cover. \n"
   ]
  },
  {
   "cell_type": "markdown",
   "metadata": {},
   "source": [
    "### Today's Bonus Topic: API's Revisited"
   ]
  },
  {
   "cell_type": "markdown",
   "metadata": {},
   "source": [
    "- Phase 5 folder: APIs"
   ]
  },
  {
   "cell_type": "markdown",
   "metadata": {},
   "source": [
    "### Questions"
   ]
  },
  {
   "cell_type": "markdown",
   "metadata": {},
   "source": [
    "- Is there a package to help sift through json results from an API, with nested dictonaries as columns\n",
    "    - https://pypi.org/project/nested-lookup/\n",
    "\n",
    "- Making dataframes from dict in loops\n",
    "\n",
    "- Whats the diff between pd.DataFrame.from_dict vs pd.DataFrame.from_records, and do we need them?\n"
   ]
  },
  {
   "cell_type": "markdown",
   "metadata": {},
   "source": [
    "# 06/30/21 "
   ]
  },
  {
   "cell_type": "markdown",
   "metadata": {},
   "source": [
    "- Reminder: Phase 4 project edits due by Sunday "
   ]
  },
  {
   "cell_type": "markdown",
   "metadata": {},
   "source": [
    "# 07/01/21"
   ]
  },
  {
   "cell_type": "markdown",
   "metadata": {},
   "source": [
    "## Announcements:"
   ]
  },
  {
   "cell_type": "markdown",
   "metadata": {},
   "source": [
    "- Flatiron is closed Monday in observance of July 04th\n",
    "\n",
    "- Planned Study Groups for Next Week:\n",
    "    - Wednesday 07/07/21: \n",
    "        - Making Dashboards in Python (with Plotly, Dash, and Streamlit)\n",
    "    - Thursday 07/08/21:\n",
    "        - Intro to Tableau Public\n",
    "    - Friday 07/09/21:\n",
    "        - Topic 43: Opertionalizing Code & AWS "
   ]
  },
  {
   "cell_type": "code",
   "execution_count": null,
   "metadata": {},
   "outputs": [],
   "source": []
  }
 ],
 "metadata": {
  "kernelspec": {
   "display_name": "learn-env-new",
   "language": "python",
   "name": "learn-env-new"
  },
  "language_info": {
   "codemirror_mode": {
    "name": "ipython",
    "version": 3
   },
   "file_extension": ".py",
   "mimetype": "text/x-python",
   "name": "python",
   "nbconvert_exporter": "python",
   "pygments_lexer": "ipython3",
   "version": "3.8.5"
  },
  "toc": {
   "base_numbering": 1,
   "nav_menu": {},
   "number_sections": false,
   "sideBar": true,
   "skip_h1_title": false,
   "title_cell": "Table of Contents",
   "title_sidebar": "Contents",
   "toc_cell": false,
   "toc_position": {},
   "toc_section_display": true,
   "toc_window_display": true
  }
 },
 "nbformat": 4,
 "nbformat_minor": 4
}
