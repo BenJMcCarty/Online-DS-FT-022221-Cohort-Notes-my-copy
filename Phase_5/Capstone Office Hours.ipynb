{
 "cells": [
  {
   "cell_type": "markdown",
   "metadata": {},
   "source": [
    "# Capstone Office Hours"
   ]
  },
  {
   "cell_type": "markdown",
   "metadata": {},
   "source": [
    "- 022221FT"
   ]
  },
  {
   "cell_type": "markdown",
   "metadata": {
    "toc": true
   },
   "source": [
    "<h1>Table of Contents<span class=\"tocSkip\"></span></h1>\n",
    "<div class=\"toc\"><ul class=\"toc-item\"><li><span><a href=\"#Capstone-Office-Hours\" data-toc-modified-id=\"Capstone-Office-Hours-1\">Capstone Office Hours</a></span><ul class=\"toc-item\"><li><span><a href=\"#06/24/21\" data-toc-modified-id=\"06/24/21-1.1\">06/24/21</a></span><ul class=\"toc-item\"><li><span><a href=\"#Scraping-Websites\" data-toc-modified-id=\"Scraping-Websites-1.1.1\">Scraping Websites</a></span></li><li><span><a href=\"#Anomaly-Detection\" data-toc-modified-id=\"Anomaly-Detection-1.1.2\">Anomaly Detection</a></span></li></ul></li><li><span><a href=\"#06/29/21-Office-Hours\" data-toc-modified-id=\"06/29/21-Office-Hours-1.2\">06/29/21 Office Hours</a></span><ul class=\"toc-item\"><li><span><a href=\"#Announcements\" data-toc-modified-id=\"Announcements-1.2.1\">Announcements</a></span></li><li><span><a href=\"#Today's-Bonus-Topic:-API's-Revisited\" data-toc-modified-id=\"Today's-Bonus-Topic:-API's-Revisited-1.2.2\">Today's Bonus Topic: API's Revisited</a></span></li><li><span><a href=\"#Questions\" data-toc-modified-id=\"Questions-1.2.3\">Questions</a></span></li></ul></li><li><span><a href=\"#06/30/21\" data-toc-modified-id=\"06/30/21-1.3\">06/30/21</a></span></li><li><span><a href=\"#07/01/21\" data-toc-modified-id=\"07/01/21-1.4\">07/01/21</a></span><ul class=\"toc-item\"><li><span><a href=\"#Announcements:\" data-toc-modified-id=\"Announcements:-1.4.1\">Announcements:</a></span></li></ul></li><li><span><a href=\"#07/02/21:-Capstone-Project---Week-2-Recap\" data-toc-modified-id=\"07/02/21:-Capstone-Project---Week-2-Recap-1.5\">07/02/21: Capstone Project - Week 2 Recap</a></span></li></ul></li><li><span><a href=\"#Capstone---Week-3\" data-toc-modified-id=\"Capstone---Week-3-2\">Capstone - Week 3</a></span><ul class=\"toc-item\"><li><span><a href=\"#07/06/21\" data-toc-modified-id=\"07/06/21-2.1\">07/06/21</a></span><ul class=\"toc-item\"><li><span><a href=\"#Dashboarding-Resources-(on-sale-today-and-tomorrow):\" data-toc-modified-id=\"Dashboarding-Resources-(on-sale-today-and-tomorrow):-2.1.1\">Dashboarding Resources (on sale today and tomorrow):</a></span></li><li><span><a href=\"#Env-Links\" data-toc-modified-id=\"Env-Links-2.1.2\">Env Links</a></span></li></ul></li></ul></li><li><span><a href=\"#📉📊📈Dashboarding-Study-Group-[07/07/21]\" data-toc-modified-id=\"📉📊📈Dashboarding-Study-Group-[07/07/21]-3\">📉📊📈<strong>Dashboarding Study Group [07/07/21]</strong></a></span></li><li><span><a href=\"#07/09/21-Office-Hours\" data-toc-modified-id=\"07/09/21-Office-Hours-4\">07/09/21 Office Hours</a></span><ul class=\"toc-item\"><li><span><a href=\"#Questions/Issues?\" data-toc-modified-id=\"Questions/Issues?-4.1\">Questions/Issues?</a></span></li><li><span><a href=\"#Planned-Content\" data-toc-modified-id=\"Planned-Content-4.2\">Planned Content</a></span><ul class=\"toc-item\"><li><span><a href=\"#Exploring-API-Results/Nested-Dictionaries\" data-toc-modified-id=\"Exploring-API-Results/Nested-Dictionaries-4.2.1\">Exploring API Results/Nested Dictionaries</a></span></li><li><span><a href=\"#Using-Models-in-Dashboards/Apps\" data-toc-modified-id=\"Using-Models-in-Dashboards/Apps-4.2.2\">Using Models in Dashboards/Apps</a></span></li></ul></li></ul></li><li><span><a href=\"#Capstone---Week-4\" data-toc-modified-id=\"Capstone---Week-4-5\">Capstone - Week 4</a></span><ul class=\"toc-item\"><li><span><a href=\"#07/13/21:\" data-toc-modified-id=\"07/13/21:-5.1\">07/13/21:</a></span><ul class=\"toc-item\"><li><span><a href=\"#Reminders:\" data-toc-modified-id=\"Reminders:-5.1.1\">Reminders:</a></span></li><li><span><a href=\"#Questions:\" data-toc-modified-id=\"Questions:-5.1.2\">Questions:</a></span></li></ul></li><li><span><a href=\"#07/14/21\" data-toc-modified-id=\"07/14/21-5.2\">07/14/21</a></span></li><li><span><a href=\"#07/15/21\" data-toc-modified-id=\"07/15/21-5.3\">07/15/21</a></span><ul class=\"toc-item\"><li><span><a href=\"#Questions\" data-toc-modified-id=\"Questions-5.3.1\">Questions</a></span></li></ul></li></ul></li><li><span><a href=\"#Final-Office-Hours---07/16/21\" data-toc-modified-id=\"Final-Office-Hours---07/16/21-6\"><strong>Final Office Hours - 07/16/21</strong></a></span><ul class=\"toc-item\"><li><span><a href=\"#Reminders:\" data-toc-modified-id=\"Reminders:-6.1\">Reminders:</a></span></li><li><span><a href=\"#Questions\" data-toc-modified-id=\"Questions-6.2\">Questions</a></span><ul class=\"toc-item\"><li><span><a href=\"#pip-install--r-requirements.txt\" data-toc-modified-id=\"pip-install--r-requirements.txt-6.2.1\"><code>pip install -r requirements.txt</code></a></span></li><li><span><a href=\"#To-Save-Your-Current-Environment-as-a-.yml-(the-type-of-file-you-used-to-make-learn-env)\" data-toc-modified-id=\"To-Save-Your-Current-Environment-as-a-.yml-(the-type-of-file-you-used-to-make-learn-env)-6.2.2\">To Save Your Current Environment as a .yml (the type of file you used to make learn-env)</a></span></li></ul></li><li><span><a href=\"#Topic-43:-AWS\" data-toc-modified-id=\"Topic-43:-AWS-6.3\">Topic 43: AWS</a></span></li></ul></li></ul></div>"
   ]
  },
  {
   "cell_type": "markdown",
   "metadata": {
    "heading_collapsed": true
   },
   "source": [
    "## 06/24/21"
   ]
  },
  {
   "cell_type": "markdown",
   "metadata": {
    "hidden": true
   },
   "source": [
    "### Scraping Websites\n",
    "- `robots.txt`\n",
    "- randomly select a sleep time from a list for each loop\n",
    "- add a user agent to your requests.\n",
    "    - https://pypi.org/project/fake-useragent/ \n",
    "- Selenium's Web Driver\n",
    "    - https://www.selenium.dev/documentation/en/webdriver/\n",
    "    - https://selenium-python.readthedocs.io/\n",
    "    - https://www.guru99.com/selenium-tutorial.html"
   ]
  },
  {
   "cell_type": "markdown",
   "metadata": {
    "hidden": true
   },
   "source": [
    "### Anomaly Detection"
   ]
  },
  {
   "cell_type": "markdown",
   "metadata": {
    "hidden": true
   },
   "source": [
    "- https://machinelearningmastery.com/model-based-outlier-detection-and-removal-in-python/\n",
    "    - sklearn IsolationForest\n",
    "    - tunining `contamination` parameter using domain knowledge/test cases"
   ]
  },
  {
   "cell_type": "markdown",
   "metadata": {
    "heading_collapsed": true
   },
   "source": [
    "## 06/29/21 Office Hours"
   ]
  },
  {
   "cell_type": "markdown",
   "metadata": {
    "hidden": true
   },
   "source": [
    "### Announcements"
   ]
  },
  {
   "cell_type": "markdown",
   "metadata": {
    "hidden": true
   },
   "source": [
    "- Topic 43: AWS - moving to next week. Thurs/Friday\n",
    "- Topic 35: Big Data - just watch the CL recordings. I have very little value to add beyond what they cover. \n"
   ]
  },
  {
   "cell_type": "markdown",
   "metadata": {
    "hidden": true
   },
   "source": [
    "### Today's Bonus Topic: API's Revisited"
   ]
  },
  {
   "cell_type": "markdown",
   "metadata": {
    "hidden": true
   },
   "source": [
    "- Phase 5 folder: APIs"
   ]
  },
  {
   "cell_type": "markdown",
   "metadata": {
    "hidden": true
   },
   "source": [
    "### Questions"
   ]
  },
  {
   "cell_type": "markdown",
   "metadata": {
    "hidden": true
   },
   "source": [
    "- Is there a package to help sift through json results from an API, with nested dictonaries as columns\n",
    "    - https://pypi.org/project/nested-lookup/\n",
    "\n",
    "- Making dataframes from dict in loops\n",
    "\n",
    "- Whats the diff between pd.DataFrame.from_dict vs pd.DataFrame.from_records, and do we need them?\n"
   ]
  },
  {
   "cell_type": "markdown",
   "metadata": {
    "heading_collapsed": true
   },
   "source": [
    "## 06/30/21 "
   ]
  },
  {
   "cell_type": "markdown",
   "metadata": {
    "hidden": true
   },
   "source": [
    "- Reminder: Phase 4 project edits due by Sunday "
   ]
  },
  {
   "cell_type": "markdown",
   "metadata": {
    "heading_collapsed": true
   },
   "source": [
    "## 07/01/21"
   ]
  },
  {
   "cell_type": "markdown",
   "metadata": {
    "hidden": true
   },
   "source": [
    "### Announcements:"
   ]
  },
  {
   "cell_type": "markdown",
   "metadata": {
    "hidden": true
   },
   "source": [
    "- Flatiron is closed Monday in observance of July 04th\n",
    "\n",
    "- Planned Study Groups for Next Week:\n",
    "    - Wednesday 07/07/21: \n",
    "        - Making Dashboards in Python (with Plotly, Dash, and Streamlit)\n",
    "    - Thursday 07/08/21:\n",
    "        - Intro to Tableau Public\n",
    "    - Friday 07/09/21:\n",
    "        - Topic 43: Opertionalizing Code & AWS "
   ]
  },
  {
   "cell_type": "markdown",
   "metadata": {
    "heading_collapsed": true
   },
   "source": [
    "## 07/02/21: Capstone Project - Week 2 Recap"
   ]
  },
  {
   "cell_type": "markdown",
   "metadata": {
    "hidden": true
   },
   "source": [
    ">- As of this weekend, we are at the end of Capstone week 2. \n",
    "    - You should have your data and working on your modeling by the beginning of next week. \n",
    "\n",
    "- Reminder: we have 2 more full weeks (with O.H.) before the capstone is due. \n",
    "\n",
    "\n",
    "- **Project Submission Due Date = 07/18/21**\n",
    " \n",
    "- **Project Reviews - Week 1 = 07/19 - 07/23**\n"
   ]
  },
  {
   "cell_type": "code",
   "execution_count": null,
   "metadata": {
    "hidden": true
   },
   "outputs": [],
   "source": []
  },
  {
   "cell_type": "markdown",
   "metadata": {
    "heading_collapsed": true
   },
   "source": [
    "# Capstone - Week 3"
   ]
  },
  {
   "cell_type": "markdown",
   "metadata": {
    "hidden": true
   },
   "source": [
    "## 07/06/21 "
   ]
  },
  {
   "cell_type": "markdown",
   "metadata": {
    "hidden": true
   },
   "source": [
    "> - We are at ~halfway into Phase 5/ Capstone period. \n",
    "    - According to my (rough) guidelines: most of you should be modeling this week. \n"
   ]
  },
  {
   "cell_type": "markdown",
   "metadata": {
    "hidden": true
   },
   "source": [
    "- **Planned Study Groups for This Week:**\n",
    "    - Wednesday 07/07/21: \n",
    "        - Making Dashboards in Python (with Plotly, Dash, and Streamlit)\n",
    "    - Thursday 07/08/21:\n",
    "        - Intro to Tableau Public\n",
    "    - Friday 07/09/21:\n",
    "        - Topic 43: Opertionalizing Code & AWS "
   ]
  },
  {
   "cell_type": "markdown",
   "metadata": {
    "hidden": true
   },
   "source": [
    "### Dashboarding Resources (on sale today and tomorrow):\n",
    "- Streamlit: https://www.udemy.com/course/learn-streamlit-python/\n",
    "- Plotly/Dash: https://www.udemy.com/course/interactive-python-dashboards-with-plotly-and-dash/"
   ]
  },
  {
   "cell_type": "markdown",
   "metadata": {
    "hidden": true
   },
   "source": [
    "### Env Links"
   ]
  },
  {
   "cell_type": "markdown",
   "metadata": {
    "hidden": true
   },
   "source": [
    "- Learn-env setup repo from curriculum: https://github.com/learn-co-curriculum/dsc-data-science-env-config\n",
    "\n",
    "\n",
    "- [Anacodna: Cloning your environment](https://conda.io/projects/conda/en/latest/user-guide/tasks/manage-environments.html#cloning-an-environment)\n",
    "    - [Adding your new env to your Jupyter kernels](https://ipython.readthedocs.io/en/stable/install/kernel_install.html)"
   ]
  },
  {
   "cell_type": "markdown",
   "metadata": {
    "heading_collapsed": true
   },
   "source": [
    "# 📉📊📈**Dashboarding Study Group [07/07/21]**"
   ]
  },
  {
   "cell_type": "markdown",
   "metadata": {
    "hidden": true
   },
   "source": [
    "##### Dashboarding Resources (on sale through end of  today):\n",
    "- Streamlit: https://www.udemy.com/course/learn-streamlit-python/\n",
    "- Plotly/Dash: https://www.udemy.com/course/interactive-python-dashboards-with-plotly-and-dash/"
   ]
  },
  {
   "cell_type": "markdown",
   "metadata": {
    "hidden": true
   },
   "source": [
    ">- The repo for today's study group:\n",
    "    - https://github.com/flatiron-school/dashboarding-study-group-2021_022221FT\n",
    "        - The [exact commit with the empty S.G. Notebook](https://github.com/flatiron-school/dashboarding-study-group-2021_022221FT/tree/e684b10595aa5ad8c5f1f420870f65edf0b9bf71)"
   ]
  },
  {
   "cell_type": "markdown",
   "metadata": {
    "heading_collapsed": true
   },
   "source": [
    "# 07/09/21 Office Hours"
   ]
  },
  {
   "cell_type": "markdown",
   "metadata": {
    "hidden": true
   },
   "source": [
    "## Questions/Issues?"
   ]
  },
  {
   "cell_type": "markdown",
   "metadata": {
    "hidden": true
   },
   "source": [
    "-"
   ]
  },
  {
   "cell_type": "markdown",
   "metadata": {
    "hidden": true
   },
   "source": [
    "## Planned Content"
   ]
  },
  {
   "cell_type": "markdown",
   "metadata": {
    "hidden": true
   },
   "source": [
    "### Exploring API Results/Nested Dictionaries"
   ]
  },
  {
   "cell_type": "markdown",
   "metadata": {
    "hidden": true
   },
   "source": [
    "> Phase_5>Bonus Notebooks > `Halo API Exploration - Single Match-SG.ipynb`"
   ]
  },
  {
   "cell_type": "markdown",
   "metadata": {
    "hidden": true
   },
   "source": [
    "### Using Models in Dashboards/Apps"
   ]
  },
  {
   "cell_type": "markdown",
   "metadata": {
    "hidden": true
   },
   "source": [
    "\n",
    "- Repo: https://github.com/spags093/deepfake_image_detection\n",
    "     - App: https://github.com/spags093/deepfake_image_detection/blob/master/Deepfake%20Detection%20App/deepfakeimagedetection.py\n",
    "- Repo: https://github.com/tiaplagata/dash-travel-app\n",
    "    - App: https://github.com/tiaplagata/dash-travel-app/blob/master/app.py"
   ]
  },
  {
   "cell_type": "markdown",
   "metadata": {
    "heading_collapsed": true
   },
   "source": [
    "# Capstone - Week 4"
   ]
  },
  {
   "cell_type": "markdown",
   "metadata": {
    "hidden": true
   },
   "source": [
    "## 07/13/21:"
   ]
  },
  {
   "cell_type": "markdown",
   "metadata": {
    "hidden": true
   },
   "source": [
    "### Reminders:"
   ]
  },
  {
   "cell_type": "markdown",
   "metadata": {
    "hidden": true
   },
   "source": [
    "- **We will cover AWS at Thursday's Study Group**\n",
    "- **Deadline for submitting projects and scheduling reviews is Sunday 07/18/21.**\n",
    "\n",
    "    - I HIGHLY recommend scheduling your review ASAP before the end of the week. \n",
    "    - No recurring one on ones during capstone review weeks. \n",
    "\n",
    "- **All 4 Blog posts must be completed by 07/30/21**"
   ]
  },
  {
   "cell_type": "markdown",
   "metadata": {
    "hidden": true
   },
   "source": [
    "### Questions:"
   ]
  },
  {
   "cell_type": "markdown",
   "metadata": {
    "hidden": true
   },
   "source": [
    "- Plotly show all x/y axis tick labels\n",
    "    -  Horizontal barplot using plotly express showing 30 index values and 30 values. The barplot itself is showing every other index value\n"
   ]
  },
  {
   "cell_type": "markdown",
   "metadata": {
    "hidden": true
   },
   "source": [
    "## 07/14/21"
   ]
  },
  {
   "cell_type": "markdown",
   "metadata": {
    "hidden": true
   },
   "source": [
    "- Workflow for Streamlit\n",
    "    - Is there a good way to manage functions between my Jupyter Notebook and .py files for Streamlit?\n",
    "    - It would be nice to be able to adjust my function code in my Jupyter Notebook without having to copy / paste the revised code over to my Streamlit.py file\n",
    "    - Would also be great to go over any best practices / recommendations for workflow\n"
   ]
  },
  {
   "cell_type": "markdown",
   "metadata": {
    "hidden": true
   },
   "source": [
    "## 07/15/21"
   ]
  },
  {
   "cell_type": "markdown",
   "metadata": {
    "hidden": true
   },
   "source": [
    "### Questions"
   ]
  },
  {
   "cell_type": "markdown",
   "metadata": {
    "hidden": true
   },
   "source": [
    "- How should I be interpreting feature coefficients for linear support vector classification for a non-technical stakeholder?\n",
    "\n",
    "    - Notebook for answer:\n",
    "        - Our notes repo> Phase_3/phase_3_project/explaining_models_plus_other_Qs/[`Capstone OH SVC Coeffs Question - Explaining Machine Learning Models.ipynb`](http://localhost:8888/notebooks/Phase_3/phase_3_project/explaining_models_plus_other_Qs/Capstone%20OH%20SVC%20Coeffs%20Question%20-%20Explaining%20Machine%20Learning%20Models.ipynb)"
   ]
  },
  {
   "cell_type": "markdown",
   "metadata": {},
   "source": [
    "# **Final Office Hours - 07/16/21**"
   ]
  },
  {
   "cell_type": "markdown",
   "metadata": {},
   "source": [
    "## Reminders:\n"
   ]
  },
  {
   "cell_type": "markdown",
   "metadata": {},
   "source": [
    "- **Capstones should be submitted by Sunday night** and you should schedule your review for ASAP.\n",
    "\n",
    "\n",
    "- You must **pass your capstone review by 07/30** to graduate on-time.\n",
    "- **You must have finished all blog 4 posts by 07/30 to graduate on time.**\n",
    "\n",
    "\n",
    "\n",
    "- **Cohort Capstone Sharing Session**:\n",
    "    - Scheduled for Friday, August 6, 2021\n",
    "    - 3:00 – 5:00pm\n",
    "    \n",
    "    \n",
    "- **🎓👨‍🎓Graduation Ceremony👩‍🎓🎉**\n",
    "    - Thursday, August 12,2021\n",
    "    - 7-8 pm EST\n"
   ]
  },
  {
   "cell_type": "markdown",
   "metadata": {},
   "source": [
    "## Questions"
   ]
  },
  {
   "cell_type": "markdown",
   "metadata": {},
   "source": [
    "- What is the best way to install requirements.txt? Is this a valid Python Library? https://github.com/binder-examples/requirements\n",
    "    - Do we need to manually write in the packages we are using or will it do so automatically?"
   ]
  },
  {
   "cell_type": "markdown",
   "metadata": {},
   "source": [
    "### `pip install -r requirements.txt`"
   ]
  },
  {
   "cell_type": "markdown",
   "metadata": {},
   "source": [
    "- When you are making an app or another project for deployment (or to share), you may want or need to include a `requirements.txt` file. \n",
    "\n",
    "    - This will contain all of the packages required to run the code in the repo/app.\n",
    "    \n",
    "#### To generate a requirements.txt\n",
    "- with pip:\n",
    "    - `pip freeze > requirements.txt`\n",
    "- or conda:\n",
    "    - `conda list --export > requirements.txt`\n"
   ]
  },
  {
   "cell_type": "code",
   "execution_count": 8,
   "metadata": {
    "ExecuteTime": {
     "end_time": "2021-07-16T16:05:28.242188Z",
     "start_time": "2021-07-16T16:05:26.496155Z"
    }
   },
   "outputs": [],
   "source": [
    "!pip freeze > requirements_pip.txt"
   ]
  },
  {
   "cell_type": "code",
   "execution_count": 9,
   "metadata": {
    "ExecuteTime": {
     "end_time": "2021-07-16T16:05:37.054875Z",
     "start_time": "2021-07-16T16:05:29.150608Z"
    }
   },
   "outputs": [],
   "source": [
    "!conda list --export > requirements_conda.txt"
   ]
  },
  {
   "cell_type": "markdown",
   "metadata": {},
   "source": [
    "#### To Install Packages from a `requirements.txt`"
   ]
  },
  {
   "cell_type": "markdown",
   "metadata": {},
   "source": [
    "- If using pip:\n",
    "    - `pip install -r requirements.txt`\n",
    "\n",
    "- If using Conda\n",
    "    - `conda create --name <env_name> --file requirements.txt`"
   ]
  },
  {
   "cell_type": "code",
   "execution_count": 5,
   "metadata": {
    "ExecuteTime": {
     "end_time": "2021-07-16T14:57:50.266538Z",
     "start_time": "2021-07-16T14:57:50.264581Z"
    }
   },
   "outputs": [],
   "source": [
    "# !pip install -r requirements_pip.txt\n",
    "# !conda create --name req_env --file requirements_conda.txt"
   ]
  },
  {
   "cell_type": "markdown",
   "metadata": {},
   "source": [
    "### To Save Your Current Environment as a .yml (the type of file you used to make learn-env)"
   ]
  },
  {
   "cell_type": "markdown",
   "metadata": {},
   "source": [
    "- https://conda.io/projects/conda/en/latest/user-guide/tasks/manage-environments.html#sharing-an-environment\n",
    "    - `conda env export > environment.yml`\n",
    "    \n",
    "    \n",
    "- if sharing across OS's (linux/mac/windows), add the `--no-builds` flag.\n",
    "    - `conda env export > environment.yml --no-builds` "
   ]
  },
  {
   "cell_type": "code",
   "execution_count": 10,
   "metadata": {
    "ExecuteTime": {
     "end_time": "2021-07-16T16:08:32.962581Z",
     "start_time": "2021-07-16T16:08:21.828011Z"
    }
   },
   "outputs": [],
   "source": [
    "!conda env export > learn-env-new.yml --no-builds"
   ]
  },
  {
   "cell_type": "markdown",
   "metadata": {},
   "source": [
    "#### To Install an Environment from .yml"
   ]
  },
  {
   "cell_type": "markdown",
   "metadata": {},
   "source": [
    "- https://conda.io/projects/conda/en/latest/user-guide/tasks/manage-environments.html#creating-an-environment-from-an-environment-yml-file\n",
    "    - `conda env create -f environment.yml`"
   ]
  },
  {
   "cell_type": "markdown",
   "metadata": {
    "heading_collapsed": true
   },
   "source": [
    "## Topic 43: AWS\n"
   ]
  },
  {
   "cell_type": "markdown",
   "metadata": {
    "hidden": true
   },
   "source": [
    "- [`Phase_4>Topic_43_AWS/topic_43_operationalizing_code_AWS_SG.ipynb`](http://localhost:8888/notebooks/Phase_4/topic_43_AWS/topic_43_operationalizing_code_AWS_SG.ipynb)"
   ]
  },
  {
   "cell_type": "code",
   "execution_count": null,
   "metadata": {
    "hidden": true
   },
   "outputs": [],
   "source": []
  }
 ],
 "metadata": {
  "kernelspec": {
   "display_name": "learn-env-new",
   "language": "python",
   "name": "learn-env-new"
  },
  "language_info": {
   "codemirror_mode": {
    "name": "ipython",
    "version": 3
   },
   "file_extension": ".py",
   "mimetype": "text/x-python",
   "name": "python",
   "nbconvert_exporter": "python",
   "pygments_lexer": "ipython3",
   "version": "3.8.5"
  },
  "toc": {
   "base_numbering": 1,
   "nav_menu": {},
   "number_sections": false,
   "sideBar": true,
   "skip_h1_title": false,
   "title_cell": "Table of Contents",
   "title_sidebar": "Contents",
   "toc_cell": true,
   "toc_position": {
    "height": "calc(100% - 180px)",
    "left": "10px",
    "top": "150px",
    "width": "287.997px"
   },
   "toc_section_display": true,
   "toc_window_display": true
  }
 },
 "nbformat": 4,
 "nbformat_minor": 4
}
