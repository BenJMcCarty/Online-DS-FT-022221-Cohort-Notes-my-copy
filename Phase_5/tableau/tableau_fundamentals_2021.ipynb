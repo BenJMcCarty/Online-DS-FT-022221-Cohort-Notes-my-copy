{
 "cells": [
  {
   "cell_type": "markdown",
   "metadata": {},
   "source": [
    "<img src=\"images/tableau_cmyk_2015.png\" width=50%>"
   ]
  },
  {
   "cell_type": "markdown",
   "metadata": {},
   "source": [
    "# Tableau Fundamentals"
   ]
  },
  {
   "cell_type": "markdown",
   "metadata": {},
   "source": [
    "- 02/04/21\n",
    "- 081720FT"
   ]
  },
  {
   "cell_type": "markdown",
   "metadata": {},
   "source": [
    "## Topics"
   ]
  },
  {
   "cell_type": "markdown",
   "metadata": {},
   "source": [
    "- Tableau vs Tableau Public\n",
    "- Installing Tableau Public\n",
    "- Loading Data Files \n",
    "- Key Vocabulary\n",
    "- Making Several Types of Plots\n",
    "    - Scatter Plots with Trendlines\n",
    "    - Histograms/Grouped Histogram\n",
    "    - Map scatter plot \n",
    "    - Map Shaded Area Plot\n",
    "- Customizing Plots\n",
    "- Your Tableau Profile\n"
   ]
  },
  {
   "cell_type": "markdown",
   "metadata": {},
   "source": [
    "## Resources/References"
   ]
  },
  {
   "cell_type": "markdown",
   "metadata": {},
   "source": [
    "- Udemy Course: **Tableau 2020 A-Z: Hands-On Tableau Training for Data Science**\n",
    "    - https://www.udemy.com/course/tableau10/\n",
    "- Official Tableau Video Resources:\n",
    " - https://public.tableau.com/en-us/s/resources"
   ]
  },
  {
   "cell_type": "markdown",
   "metadata": {},
   "source": [
    "# Tableau vs Tableau Public"
   ]
  },
  {
   "cell_type": "markdown",
   "metadata": {},
   "source": [
    "- Tableau Public is the free version of Tableau.\n",
    "- They are VERY similar, but there are important distinctions:\n",
    "    - Data Access\n",
    "        - Tableau can access SQL servers\n",
    "        - Tableau Public cannot.\n",
    "    - Saving Projects:\n",
    "        - Tableau can save and load projects locally.\n",
    "        - Tableau Public can only save to the cloud"
   ]
  },
  {
   "cell_type": "markdown",
   "metadata": {},
   "source": [
    "# Installing Tableau Public"
   ]
  },
  {
   "cell_type": "markdown",
   "metadata": {},
   "source": [
    "- https://public.tableau.com/en-us/s/"
   ]
  },
  {
   "cell_type": "markdown",
   "metadata": {},
   "source": [
    "# Loading Data"
   ]
  },
  {
   "cell_type": "markdown",
   "metadata": {},
   "source": [
    "- Tableau Public can load data from many file types:\n",
    "    - Excel\n",
    "    - Text Files (csv,tsv)\n",
    "    - JSON Files\n",
    "    - Google Sheets\n",
    "    - etc.\n",
    "    \n",
    "- We will download the 2 csv's we will be using into this repo's folder. "
   ]
  },
  {
   "cell_type": "markdown",
   "metadata": {},
   "source": [
    "## Saving Dataset for Demo"
   ]
  },
  {
   "cell_type": "code",
   "execution_count": null,
   "metadata": {
    "ExecuteTime": {
     "end_time": "2021-07-07T23:29:13.013434Z",
     "start_time": "2021-07-07T23:29:11.242868Z"
    }
   },
   "outputs": [],
   "source": [
    "# !pip install -U fsds\n",
    "from fsds.imports import *"
   ]
  },
  {
   "cell_type": "code",
   "execution_count": null,
   "metadata": {
    "ExecuteTime": {
     "end_time": "2021-07-07T23:29:16.784963Z",
     "start_time": "2021-07-07T23:29:13.017259Z"
    },
    "scrolled": true
   },
   "outputs": [],
   "source": [
    "df1 = fs.datasets.load_mod1_proj(read_csv_kwds={'index_col':0})\n",
    "display(df1.head(2))\n",
    "df1.to_csv('regression_data_complete.csv')"
   ]
  },
  {
   "cell_type": "code",
   "execution_count": null,
   "metadata": {
    "ExecuteTime": {
     "end_time": "2021-07-07T23:49:30.419822Z",
     "start_time": "2021-07-07T23:49:30.153520Z"
    },
    "scrolled": false
   },
   "outputs": [],
   "source": [
    "df2 = fs.datasets.load_ts_baltimore_crime_counts(read_csv_kwds={'parse_dates':['datetime']})\n",
    "display(df2.head(2))\n",
    "df2.to_csv('baltimore_crime_ts.csv')"
   ]
  },
  {
   "cell_type": "markdown",
   "metadata": {},
   "source": [
    "# Basic Tableau Vocab"
   ]
  },
  {
   "cell_type": "markdown",
   "metadata": {},
   "source": [
    "- Dimensions: \n",
    "    - categorical features/independent variables\n",
    "    - Show up in Blue on Columns/Row view\n",
    "\n",
    "- Measures: \n",
    "    - numeric features / dependent variables.\n",
    "    - Measures get aggregated (SUM, MEAN,etc)\n",
    "    - Shows up in Green on Columns/Row View\n",
    "\n",
    "- Attributes\n",
    "    - ?\n"
   ]
  },
  {
   "cell_type": "markdown",
   "metadata": {},
   "source": [
    "# Our Tasks"
   ]
  },
  {
   "cell_type": "markdown",
   "metadata": {},
   "source": [
    "## Load in `regression_data_details.csv`"
   ]
  },
  {
   "cell_type": "markdown",
   "metadata": {},
   "source": [
    "> - Open Tableau Public and load up the first housing regression dataset file (`regression_data_details.csv`)\n",
    "    - CSVs are technically \"Text Files\"   \n",
    "\n",
    "> - Notice that Tableau automatically replaced text values in numeric columns ('?' in sqft)\n",
    "    - It also cleaned up the column names (`sqft_living` -> \"Sqft Living\")\n",
    "  \n",
    "- Now click \"Go to Worksheet\" / \"Sheet 1\" at the bottom of the app.\n",
    "\n"
   ]
  },
  {
   "cell_type": "markdown",
   "metadata": {},
   "source": [
    "## Plots to Make: King's County Housing Data"
   ]
  },
  {
   "cell_type": "markdown",
   "metadata": {},
   "source": [
    "1. [ ] A scatter plot of Sqft Living vs Price + a trendline.\n",
    "2. [ ] A scatter plot of Sqft Living vs Price grouped by if its waterfront property (+ trendlines) <br><t>(first with null values then without)\n",
    "3. [ ] A histogram of price in in **\\$**100K-bins.\n",
    "4. [ ] A histogram of price in in **\\$**100K-bins broken out by Waterfront properties.\n",
    "5. [ ] A map of median prices by zipcode (with a Green color scale broken into 5 shades of green)- see note about maps below.\n",
    "6. [ ] A map of all homes with color-coded price with the smallest markers possible. \n",
    "\n",
    "    \n",
    "> - **Note: for our maps, we want:**\n",
    "    - A dark background,\n",
    "    - Add County names/borders\n",
    "    - Add major cities\n",
    "    - Add terrain\n",
    "    - Add major roadways. \n",
    "\n",
    "    \n",
    "- [ ] **Save the workbook to Tableau Public and make sure it shows all individual sheets.**\n",
    "\n"
   ]
  },
  {
   "cell_type": "markdown",
   "metadata": {},
   "source": [
    "###  1. A scatter plot of Sqft Living vs Price + a trendline."
   ]
  },
  {
   "cell_type": "markdown",
   "metadata": {},
   "source": [
    "#### Python Answer"
   ]
  },
  {
   "cell_type": "code",
   "execution_count": null,
   "metadata": {
    "ExecuteTime": {
     "end_time": "2021-07-07T23:49:35.842623Z",
     "start_time": "2021-07-07T23:49:34.919716Z"
    }
   },
   "outputs": [],
   "source": [
    "sns.regplot(data=df1, x='sqft_living',y='price')"
   ]
  },
  {
   "cell_type": "markdown",
   "metadata": {},
   "source": [
    "#### Tableau Answer"
   ]
  },
  {
   "cell_type": "markdown",
   "metadata": {},
   "source": [
    "\n",
    "- Answer: \n",
    "    - Columns = Sqft Living (Dimension)\n",
    "    - Rows = Price (Dimension)\n",
    "    - Change to Analysis Tab -> Trendline\n"
   ]
  },
  {
   "cell_type": "markdown",
   "metadata": {},
   "source": [
    "### 2. A scatter plot of Sqft Living vs Price grouped by if its waterfront property (+ trendlines) \n",
    "- (first with null values then without)\n",
    "    "
   ]
  },
  {
   "cell_type": "markdown",
   "metadata": {},
   "source": [
    "#### Python Answer"
   ]
  },
  {
   "cell_type": "code",
   "execution_count": null,
   "metadata": {
    "ExecuteTime": {
     "end_time": "2021-07-07T23:49:37.332034Z",
     "start_time": "2021-07-07T23:49:36.194672Z"
    }
   },
   "outputs": [],
   "source": [
    "sns.lmplot(data=df1,x='sqft_living',y='price',hue='waterfront')"
   ]
  },
  {
   "cell_type": "markdown",
   "metadata": {},
   "source": [
    "#### Tableau Answer"
   ]
  },
  {
   "cell_type": "markdown",
   "metadata": {},
   "source": [
    "- Answer:\n",
    "    - Duplicate sheet/plot #1\n",
    "    - Right Click Waterfront -> Convert to Dimension\n",
    "    - Drag Waterfront -> Color\n",
    "    \n",
    "    - To remove Null values:\n",
    "        - Right click on Null in legend > Exclude\n",
    "        "
   ]
  },
  {
   "cell_type": "markdown",
   "metadata": {},
   "source": [
    "### 3. A histogram of price in $100K-bins."
   ]
  },
  {
   "cell_type": "markdown",
   "metadata": {},
   "source": [
    "#### Python Answer"
   ]
  },
  {
   "cell_type": "code",
   "execution_count": null,
   "metadata": {
    "ExecuteTime": {
     "end_time": "2021-07-07T23:49:37.612158Z",
     "start_time": "2021-07-07T23:49:37.334062Z"
    }
   },
   "outputs": [],
   "source": [
    "sns.histplot(df1,x='price',binwidth=100_000)"
   ]
  },
  {
   "cell_type": "markdown",
   "metadata": {
    "heading_collapsed": true
   },
   "source": [
    "#### Tableau Answer"
   ]
  },
  {
   "cell_type": "markdown",
   "metadata": {
    "hidden": true
   },
   "source": [
    "- Answer 1: \n",
    "    - Click Price then click Show Me > select histogram. \n",
    "- Answer 2: \n",
    "    - Right click on Price > Create > Bins\n",
    "    - Columns = Price Bins\n",
    "    - Rows = Price (CNT)    \n",
    "    "
   ]
  },
  {
   "cell_type": "markdown",
   "metadata": {},
   "source": [
    "### 4. A histogram of price in in $100K-bins - by Waterfront"
   ]
  },
  {
   "cell_type": "markdown",
   "metadata": {},
   "source": [
    "#### Python Answer"
   ]
  },
  {
   "cell_type": "code",
   "execution_count": null,
   "metadata": {
    "ExecuteTime": {
     "end_time": "2021-07-07T23:49:38.560792Z",
     "start_time": "2021-07-07T23:49:38.084471Z"
    }
   },
   "outputs": [],
   "source": [
    "sns.histplot(df1,x='price',hue='waterfront',binwidth=100_000,stat='density')"
   ]
  },
  {
   "cell_type": "markdown",
   "metadata": {},
   "source": [
    "#### Tableau Answer"
   ]
  },
  {
   "cell_type": "markdown",
   "metadata": {},
   "source": [
    "- Answer:\n",
    "    - Duplicate plot #3\n",
    "    - Drag Waterfront dimension to Color."
   ]
  },
  {
   "cell_type": "markdown",
   "metadata": {},
   "source": [
    "### 5. A map of median prices by zipcode (with a Green color scale broken into 5 shades of green)- see note about maps below.\n",
    "\n",
    "    \n",
    "> - **Note: for our maps, we want:**\n",
    "    - A dark background,\n",
    "    - Add County names/borders\n",
    "    - Add major cities\n",
    "    - Add terrain\n",
    "    - Add major roadways. \n",
    "\n",
    "    "
   ]
  },
  {
   "cell_type": "markdown",
   "metadata": {},
   "source": [
    "#### Python Answer"
   ]
  },
  {
   "cell_type": "code",
   "execution_count": null,
   "metadata": {
    "ExecuteTime": {
     "end_time": "2021-07-07T23:53:24.023847Z",
     "start_time": "2021-07-07T23:53:24.016201Z"
    }
   },
   "outputs": [],
   "source": [
    "import plotly.express as px\n",
    "df1.rename({'long':'lon'},axis=1,inplace=True)\n",
    "center = dict(df1[['lat','lon']].mean())\n",
    "center"
   ]
  },
  {
   "cell_type": "code",
   "execution_count": null,
   "metadata": {
    "ExecuteTime": {
     "end_time": "2021-07-07T23:53:24.535824Z",
     "start_time": "2021-07-07T23:53:24.248768Z"
    }
   },
   "outputs": [],
   "source": [
    "px.scatter_mapbox(df1,lat='lat',lon='lon',color='price',\n",
    "              center=center,mapbox_style='carto-darkmatter')"
   ]
  },
  {
   "cell_type": "markdown",
   "metadata": {},
   "source": [
    "#### Tableau Answer"
   ]
  },
  {
   "cell_type": "markdown",
   "metadata": {},
   "source": [
    "- Answer:\n",
    "    - Drag Zipcode onto main pane of plot.\n",
    "        - Drag Price onto Color\n",
    "            - Change Price to Median\n",
    "        - Click on Dropdown Arrow next to Title of Color Scale:\n",
    "            - Edit Colors\n",
    "            - Select Green\n",
    "            - Select Stepped Color\n",
    "        - Visual Flair: \n",
    "            - Right Click on Map > Map Layers\n",
    "            - Select Dark\n",
    "            - Add County borders, county labels,\n",
    "            terrain, cities."
   ]
  },
  {
   "cell_type": "markdown",
   "metadata": {},
   "source": [
    "### 6. A map of all homes with color-coded price with the smallest markers possible. "
   ]
  },
  {
   "cell_type": "markdown",
   "metadata": {},
   "source": [
    "#### Python Answer"
   ]
  },
  {
   "cell_type": "markdown",
   "metadata": {},
   "source": [
    "- Not easily implementable without downloading US zipcode geojson file. "
   ]
  },
  {
   "cell_type": "markdown",
   "metadata": {},
   "source": [
    "#### Tableau Answer"
   ]
  },
  {
   "cell_type": "markdown",
   "metadata": {},
   "source": [
    "- Answer:\n",
    "    - Columns: Long\n",
    "    - Rows: Lat\n",
    "    - Color: Price\n",
    "    - Click on Size > Drag slider to the left."
   ]
  },
  {
   "cell_type": "markdown",
   "metadata": {
    "heading_collapsed": true
   },
   "source": [
    "### **Save the workbook to Tableau Public and make sure it shows all individual sheets.**"
   ]
  },
  {
   "cell_type": "markdown",
   "metadata": {},
   "source": [
    "## Load in `baltimore_crime_ts.csv`"
   ]
  },
  {
   "cell_type": "markdown",
   "metadata": {},
   "source": [
    "- After saving the first notebook, close it and load in the other text file. "
   ]
  },
  {
   "cell_type": "markdown",
   "metadata": {},
   "source": [
    "### Plots to Make: Baltimore Crime Data"
   ]
  },
  {
   "cell_type": "markdown",
   "metadata": {},
   "source": [
    "### 1. Create a time series plot of: shootings, Robbery-Street, Robbery-Carjacking, Homicide\n",
    "    \n",
    "    \n",
    "    "
   ]
  },
  {
   "cell_type": "markdown",
   "metadata": {},
   "source": [
    "#### Python Answer"
   ]
  },
  {
   "cell_type": "code",
   "execution_count": null,
   "metadata": {
    "ExecuteTime": {
     "end_time": "2021-07-07T23:49:44.610021Z",
     "start_time": "2021-07-07T23:49:44.606602Z"
    }
   },
   "outputs": [],
   "source": [
    "df2.set_index('datetime',inplace=True)"
   ]
  },
  {
   "cell_type": "code",
   "execution_count": null,
   "metadata": {
    "ExecuteTime": {
     "end_time": "2021-07-07T23:49:44.754672Z",
     "start_time": "2021-07-07T23:49:44.750632Z"
    }
   },
   "outputs": [],
   "source": [
    "df2.columns"
   ]
  },
  {
   "cell_type": "code",
   "execution_count": null,
   "metadata": {
    "ExecuteTime": {
     "end_time": "2021-07-07T23:49:45.719150Z",
     "start_time": "2021-07-07T23:49:45.411121Z"
    }
   },
   "outputs": [],
   "source": [
    "plot_df = df2[['SHOOTING','ROBBERY - STREET',\n",
    "               'ROBBERY - CARJACKING','HOMICIDE']].resample('W').sum()\n",
    "plot_df.plot(figsize=(12,4),alpha=.4)"
   ]
  },
  {
   "cell_type": "markdown",
   "metadata": {},
   "source": [
    "#### Tableau Answer"
   ]
  },
  {
   "cell_type": "markdown",
   "metadata": {},
   "source": [
    "- Answer:\n",
    "    - Double Click one of the crimes, e.g. Shooting\n",
    "    - Double click Date.\n",
    "    - Click on Date in the Columns box and click on Month from the second section of options. \n",
    "    - To add more crimes:\n",
    "        - Click and drag their name into the upper left area of the y-axis until the || icon appears. \n",
    "    - Reference: https://community.tableau.com/s/question/0D54T00000C5hf4SAB/multiple-series-on-line-graph\n",
    "    \n",
    "    "
   ]
  },
  {
   "cell_type": "markdown",
   "metadata": {},
   "source": [
    "### 2. Create a time series **area** plot of: shootings, Robbery-Street, Robbery-Carjacking, Homicide\n",
    "    "
   ]
  },
  {
   "cell_type": "markdown",
   "metadata": {},
   "source": [
    "#### Python Answer"
   ]
  },
  {
   "cell_type": "code",
   "execution_count": null,
   "metadata": {
    "ExecuteTime": {
     "end_time": "2021-07-07T23:50:18.099331Z",
     "start_time": "2021-07-07T23:50:17.777132Z"
    }
   },
   "outputs": [],
   "source": [
    "plot_df.plot.area(figsize=(12,4),alpha=.2)"
   ]
  },
  {
   "cell_type": "markdown",
   "metadata": {},
   "source": [
    "#### Tableau Answer"
   ]
  },
  {
   "cell_type": "markdown",
   "metadata": {},
   "source": [
    "- Answer:\n",
    "    - Duplicate the prior sheet\n",
    "    - To make an area chart: click drop down in Marks pane and select area. "
   ]
  },
  {
   "cell_type": "markdown",
   "metadata": {},
   "source": [
    "### Save the notebook to Tableau Public"
   ]
  }
 ],
 "metadata": {
  "kernelspec": {
   "display_name": "learn-env",
   "language": "python",
   "name": "learn-env"
  },
  "language_info": {
   "codemirror_mode": {
    "name": "ipython",
    "version": 3
   },
   "file_extension": ".py",
   "mimetype": "text/x-python",
   "name": "python",
   "nbconvert_exporter": "python",
   "pygments_lexer": "ipython3",
   "version": "3.6.9"
  },
  "toc": {
   "base_numbering": 1,
   "nav_menu": {},
   "number_sections": false,
   "sideBar": true,
   "skip_h1_title": false,
   "title_cell": "Table of Contents",
   "title_sidebar": "Contents",
   "toc_cell": false,
   "toc_position": {
    "height": "calc(100% - 180px)",
    "left": "10px",
    "top": "150px",
    "width": "290.909px"
   },
   "toc_section_display": true,
   "toc_window_display": true
  }
 },
 "nbformat": 4,
 "nbformat_minor": 4
}
