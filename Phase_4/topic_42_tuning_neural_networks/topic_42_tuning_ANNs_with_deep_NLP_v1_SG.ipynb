{
 "cells": [
  {
   "cell_type": "markdown",
   "metadata": {},
   "source": [
    "# Topic 42 - Tuning Neural Networks + Deep NLP"
   ]
  },
  {
   "cell_type": "markdown",
   "metadata": {},
   "source": [
    "- 06/08/21\n",
    "- onl01-dtsc-ft-022221"
   ]
  },
  {
   "cell_type": "markdown",
   "metadata": {},
   "source": [
    "## Learning Objectives"
   ]
  },
  {
   "cell_type": "markdown",
   "metadata": {},
   "source": [
    "- Learn about Word Embeddings.\n",
    "    - Discuss word Embeddings and their advantages\n",
    "    - Training Word2Vec models\n",
    "    - ~~Using pretrained word embeddings~~ [Another time]\n",
    "    \n",
    "- Learn about Sequence Models and Recurrent Neural Networks\n",
    "    - LSTMs with word embeddings. \n",
    "    \n",
    "    \n",
    "- Activity: Predicting Stack Overflow post quality. \n",
    "\n",
    "- Learn about Tuning Neural Networks\n",
    "    - Discuss the different options available for tuning neural networks\n",
    "\n",
    "    - Discuss some rules of thumb for tuning Neural Networks\n",
    "\n",
    "    - Learn how to use GridSearchCV with Keras neural neural networks.\n",
    "\n",
    "    - ~~Learn how to create your own custom scorer for sklearn (and why you'd want to)~~"
   ]
  },
  {
   "cell_type": "markdown",
   "metadata": {},
   "source": [
    "# Appendix Topic: Deep Natural Language Processing"
   ]
  },
  {
   "cell_type": "markdown",
   "metadata": {},
   "source": [
    "## Review: NLP & Word Vectorization"
   ]
  },
  {
   "cell_type": "markdown",
   "metadata": {},
   "source": [
    "> - As a reminder, machine learning models needed text to be converted to numbers (\"vectorization\") before training the model. \n",
    "    - We used frequency counts or tf-idf values to produce numeric values for each word. \n",
    "    - We trained the models to look for the presence/absence of words to classify texts."
   ]
  },
  {
   "cell_type": "markdown",
   "metadata": {},
   "source": [
    "# Word Embeddings"
   ]
  },
  {
   "cell_type": "markdown",
   "metadata": {},
   "source": [
    "- Word embeddings are vectorized words representing their **semantic meaning**.\n",
    "- They are created with an arbitrary length (typically 100 points).\n",
    "\n",
    "\n",
    "- Convert words into a vector space\n",
    "    - Each word gets its own unique vector. \n",
    "    - Vectors capture how similar various words are.\n",
    "   "
   ]
  },
  {
   "cell_type": "markdown",
   "metadata": {},
   "source": [
    "<img src=\"https://raw.githubusercontent.com/jirvingphd/dsc-word-embeddings-online-ds-ft-100719/master/images/vectors.png\">"
   ]
  },
  {
   "cell_type": "markdown",
   "metadata": {},
   "source": [
    ">- Once we have word embeddings, we can actually identify related words based on meaning. \n",
    "\n",
    "<img src=\"https://raw.githubusercontent.com/jirvingphd/dsc-word-embeddings-online-ds-ft-100719/master/images/embeddings.png\">"
   ]
  },
  {
   "cell_type": "markdown",
   "metadata": {},
   "source": [
    "## Resources"
   ]
  },
  {
   "cell_type": "markdown",
   "metadata": {},
   "source": [
    "- [How Embeddings are Created](https://calvinfeng.gitbook.io/machine-learning-notebook/supervised-learning/natural-language-processing/word2vec)\n",
    "- [Creating Word Embeddings: Coding the Word2Vec Algorithm in Python using Deep Learning](https://towardsdatascience.com/creating-word-embeddings-coding-the-word2vec-algorithm-in-python-using-deep-learning-b337d0ba17a8)\n",
    "- Kaggle Tutorial:  https://www.kaggle.com/learn/embeddings\n",
    "- Google Embedding Crash Course: https://developers.google.com/machine-learning/crash-course/embeddings"
   ]
  },
  {
   "cell_type": "markdown",
   "metadata": {},
   "source": [
    "## Word2Vec"
   ]
  },
  {
   "cell_type": "markdown",
   "metadata": {},
   "source": [
    "<img src=\"https://raw.githubusercontent.com/jirvingphd/dsc-using-word2vec-online-ds-ft-100719/master/images/training_data.png\">"
   ]
  },
  {
   "cell_type": "markdown",
   "metadata": {},
   "source": []
  },
  {
   "cell_type": "markdown",
   "metadata": {},
   "source": [
    "### Skip-Gram Model"
   ]
  },
  {
   "cell_type": "markdown",
   "metadata": {},
   "source": [
    "- Train the MLP to find the best weights (context) to map word-to-word\n",
    "- But since words close to another usually contain context, we're _really_ teaching it context in those weights\n",
    "- Gut check: similar contexted words can be exchanged\n",
    "    + EX: \"A fluffy **dog** is a great pet\" <--> \"A fluffy **cat** is a great pet\"\n",
    "\n",
    "- By training a text-generation model, we wind up with a lookup table where each word has its own vector "
   ]
  },
  {
   "cell_type": "markdown",
   "metadata": {},
   "source": [
    "- Resource: \n",
    "    - [skip-gram vs CBOW methods](https://towardsdatascience.com/nlp-101-word2vec-skip-gram-and-cbow-93512ee24314)"
   ]
  },
  {
   "cell_type": "markdown",
   "metadata": {},
   "source": [
    "#### How to create an emebding:\n",
    "- Resources:\n",
    "    - [How Embeddings are Created](https://calvinfeng.gitbook.io/machine-learning-notebook/supervised-learning/natural-language-processing/word2vec)\n",
    "    - [Creating Word Embeddings: Coding the Word2Vec Algorithm in Python using Deep Learning](https://towardsdatascience.com/creating-word-embeddings-coding-the-word2vec-algorithm-in-python-using-deep-learning-b337d0ba17a8)\n",
    "\n",
    "\n",
    "- To create a word embedding, we train a shallow neural network for a fake task. \n",
    "\n",
    "    - The fake task is to use one-hot-encoded text data to then predict the probability of seeing every other word in the corpus within the same context as the one-hot-encoded word.\n",
    "    \n",
    "\n",
    "<img src=\"https://raw.githubusercontent.com/jirvingphd/dsc-using-word2vec-online-ds-ft-100719/master/images/new_skip_gram_net_arch.png\">\n",
    "\n",
    "\n",
    "<img src=\"https://raw.githubusercontent.com/learn-co-students/dsc-using-word2vec-online-ds-ft-100719/master/images/new_word2vec_weight_matrix_lookup_table.png\">"
   ]
  },
  {
   "cell_type": "markdown",
   "metadata": {},
   "source": [
    "## GloVe - Global Vectors for Word Representation"
   ]
  },
  {
   "cell_type": "markdown",
   "metadata": {},
   "source": [
    "### Transfer Learning"
   ]
  },
  {
   "cell_type": "markdown",
   "metadata": {},
   "source": [
    "- Usually embeddings are hundreds of dimensions\n",
    "- Just use the word embeddings already learned from before!\n",
    "    + Unless very specific terminology, context will likely carry within language\n",
    "- Comparable to CNN transfer learning"
   ]
  },
  {
   "cell_type": "markdown",
   "metadata": {},
   "source": [
    "# Activity: Creating our own word embeddings"
   ]
  },
  {
   "cell_type": "markdown",
   "metadata": {},
   "source": [
    "### Data: Stack Overflow Questions"
   ]
  },
  {
   "cell_type": "markdown",
   "metadata": {},
   "source": [
    "- Stack Overflow Answers: https://www.kaggle.com/imoore/60k-stack-overflow-questions-with-quality-rate\n",
    "\n",
    "\n",
    "- Kaggle Description:\n",
    "    - We collected 60,000 Stack Overflow questions from 2016-2020 and classified them into three categories:\n",
    "\n",
    "        - HQ: High-quality posts with a total of 30+ score and without a single edit.\n",
    "        - LQ_EDIT: Low-quality posts with a negative score, and multiple community edits. However, they still remain open after those changes.\n",
    "        - LQ_CLOSE: Low-quality posts that were closed by the community without a single edit."
   ]
  },
  {
   "cell_type": "code",
   "execution_count": null,
   "metadata": {
    "ExecuteTime": {
     "end_time": "2021-06-08T15:34:10.868212Z",
     "start_time": "2021-06-08T15:34:07.762130Z"
    }
   },
   "outputs": [],
   "source": [
    "from tensorflow.random import set_seed\n",
    "set_seed(321)\n",
    "\n",
    "import tensorflow as tf\n",
    "print(tf.__version__)\n",
    "\n",
    "import numpy as np \n",
    "np.random.seed(321)\n",
    "\n",
    "import matplotlib as mpl\n",
    "import matplotlib.pyplot as plt\n",
    "import seaborn as sns\n",
    "import pandas as pd\n",
    "import os,sys\n",
    "\n",
    "plt.rcParams['figure.figsize'] = [8,4]"
   ]
  },
  {
   "cell_type": "code",
   "execution_count": null,
   "metadata": {
    "ExecuteTime": {
     "end_time": "2021-06-08T15:34:11.584292Z",
     "start_time": "2021-06-08T15:34:10.870348Z"
    }
   },
   "outputs": [],
   "source": [
    "df = pd.read_csv('data/stack_overflow.csv.gz')\n",
    "df"
   ]
  },
  {
   "cell_type": "markdown",
   "metadata": {},
   "source": [
    "### Dealing with HTML Tags"
   ]
  },
  {
   "cell_type": "markdown",
   "metadata": {},
   "source": [
    "- First, should we remove them?\n",
    "- If yes, use beautiful soup?"
   ]
  },
  {
   "cell_type": "code",
   "execution_count": null,
   "metadata": {
    "ExecuteTime": {
     "end_time": "2021-06-08T15:34:11.590750Z",
     "start_time": "2021-06-08T15:34:11.586758Z"
    }
   },
   "outputs": [],
   "source": [
    "## Getting text example for dealing with html tags\n",
    "test_body = df.loc[4,'Body']\n",
    "test_body"
   ]
  },
  {
   "cell_type": "code",
   "execution_count": null,
   "metadata": {
    "ExecuteTime": {
     "end_time": "2021-06-08T15:34:11.653626Z",
     "start_time": "2021-06-08T15:34:11.593004Z"
    }
   },
   "outputs": [],
   "source": [
    "from bs4 import BeautifulSoup\n",
    "test_soup = BeautifulSoup(test_body)\n",
    "test_soup.text"
   ]
  },
  {
   "cell_type": "code",
   "execution_count": null,
   "metadata": {
    "ExecuteTime": {
     "end_time": "2021-06-08T15:34:25.395375Z",
     "start_time": "2021-06-08T15:34:11.655501Z"
    }
   },
   "outputs": [],
   "source": [
    "\n",
    "df['soups'] = df['Body'].map(lambda x:BeautifulSoup(x).text )\n",
    "df"
   ]
  },
  {
   "cell_type": "code",
   "execution_count": null,
   "metadata": {
    "ExecuteTime": {
     "end_time": "2021-06-08T15:34:25.458570Z",
     "start_time": "2021-06-08T15:34:25.397241Z"
    }
   },
   "outputs": [],
   "source": [
    "## join together title and body. \n",
    "df['text'] = df['Title']+'; '+df['soups']\n",
    "df"
   ]
  },
  {
   "cell_type": "markdown",
   "metadata": {},
   "source": [
    "## Creating Word Embeddings with `Word2Vec`"
   ]
  },
  {
   "cell_type": "markdown",
   "metadata": {},
   "source": [
    "### Resources:\n",
    "\n",
    "- Two Part Word2Vec Tutorial  (linked from Canvas)\n",
    "    - [Part 1: The Skip-Gram Model](http://mccormickml.com/2016/04/19/word2vec-tutorial-the-skip-gram-model/)\n",
    "    - [Part 2: Negative Sampling](http://mccormickml.com/2017/01/11/word2vec-tutorial-part-2-negative-sampling/)\n",
    "    \n",
    "- White Paper on word2vec (downloads file):\n",
    "    - https://papers.nips.cc/paper/5021-distributed-representations-of-words-and-phrases-and-their-compositionality.pdf\n"
   ]
  },
  {
   "cell_type": "markdown",
   "metadata": {},
   "source": [
    "- `sentences`: dataset to train on\n",
    "- `size`: how big of a word vector do we want\n",
    "- `window`: how many words around the target word to train with\n",
    "- `min_count`: how many times the word shows up in corpus; we don't want words that are rarely used\n",
    "- `workers`: number of threads (individual task \"workers\")\n",
    "\n",
    "```python\n",
    "from gensim.models import Word2Vec\n",
    "\n",
    "model = Word2Vec(data, size=100, window=5, min_count=1, workers=4)\n",
    "\n",
    "model.train(data, total_examples=model.corpus_count)\n",
    "\n",
    "```\n",
    "\n",
    "<!-- \n",
    "#### Word2Vec params\n",
    "\n",
    "```python\n",
    "## For initializing model\n",
    "sentences=None,\n",
    "    size=100,\n",
    "    alpha=0.025,\n",
    "    window=5,\n",
    "    min_count=5,\n",
    "    max_vocab_size=None,\n",
    "    sample=0.001,\n",
    "    seed=1,\n",
    "    workers=3,\n",
    "    min_alpha=0.0001,\n",
    "    sg=0,\n",
    "    hs=0,\n",
    "    negative=5,\n",
    "    cbow_mean=1,\n",
    "    hashfxn=<built-in function hash>,\n",
    "    iter=5,\n",
    "    null_word=0,\n",
    "    trim_rule=None,\n",
    "    sorted_vocab=1,\n",
    "    batch_words=10000,\n",
    "    compute_loss=False,\n",
    "    callbacks=(),\n",
    "    \n",
    "    \n",
    "## For training \n",
    "    sentences,\n",
    "    total_examples=None,\n",
    "    total_words=None,\n",
    "    epochs=None,\n",
    "    start_alpha=None,\n",
    "    end_alpha=None,\n",
    "    word_count=0,\n",
    "    queue_factor=2,\n",
    "    report_delay=1.0,\n",
    "    compute_loss=False,\n",
    "    callbacks=(),\n",
    "``` -->"
   ]
  },
  {
   "cell_type": "code",
   "execution_count": null,
   "metadata": {
    "ExecuteTime": {
     "end_time": "2021-06-08T15:34:25.883499Z",
     "start_time": "2021-06-08T15:34:25.460349Z"
    }
   },
   "outputs": [],
   "source": [
    "## NLP imports\n",
    "from nltk import word_tokenize, TweetTokenizer, regexp_tokenize\n",
    "from gensim.utils import simple_preprocess\n",
    "from gensim.models import Word2Vec\n",
    "import gensim\n",
    "print(gensim.__version__)\n",
    "\n",
    "from sklearn.model_selection import train_test_split"
   ]
  },
  {
   "cell_type": "code",
   "execution_count": null,
   "metadata": {
    "ExecuteTime": {
     "end_time": "2021-06-08T15:34:39.421624Z",
     "start_time": "2021-06-08T15:34:25.887982Z"
    }
   },
   "outputs": [],
   "source": [
    "## use gensim's simple preprocess\n"
   ]
  },
  {
   "cell_type": "code",
   "execution_count": null,
   "metadata": {
    "ExecuteTime": {
     "end_time": "2021-06-08T15:34:59.895088Z",
     "start_time": "2021-06-08T15:34:39.424143Z"
    }
   },
   "outputs": [],
   "source": [
    "## set the embedding size (normally I'd do 100, but doing 50 for time)\n",
    "\n",
    "## intiitalize the w2v odel\n"
   ]
  },
  {
   "cell_type": "code",
   "execution_count": null,
   "metadata": {
    "ExecuteTime": {
     "end_time": "2021-06-08T15:35:08.067677Z",
     "start_time": "2021-06-08T15:34:59.896947Z"
    }
   },
   "outputs": [],
   "source": [
    "## Train w2v model\n"
   ]
  },
  {
   "cell_type": "code",
   "execution_count": null,
   "metadata": {
    "ExecuteTime": {
     "end_time": "2021-06-08T15:35:08.072329Z",
     "start_time": "2021-06-08T15:35:08.069272Z"
    }
   },
   "outputs": [],
   "source": [
    "# List of words the word2vec model learned word vectors for\n"
   ]
  },
  {
   "cell_type": "code",
   "execution_count": null,
   "metadata": {
    "ExecuteTime": {
     "end_time": "2021-06-08T15:35:08.076588Z",
     "start_time": "2021-06-08T15:35:08.073924Z"
    }
   },
   "outputs": [],
   "source": [
    "## w2v saves word vectors as .wv\n"
   ]
  },
  {
   "cell_type": "code",
   "execution_count": null,
   "metadata": {
    "ExecuteTime": {
     "end_time": "2021-06-08T15:35:08.080789Z",
     "start_time": "2021-06-08T15:35:08.078133Z"
    }
   },
   "outputs": [],
   "source": [
    "## Saving the keyed vectors as their own var\n"
   ]
  },
  {
   "cell_type": "code",
   "execution_count": null,
   "metadata": {
    "ExecuteTime": {
     "end_time": "2021-06-08T15:35:08.084828Z",
     "start_time": "2021-06-08T15:35:08.082077Z"
    }
   },
   "outputs": [],
   "source": [
    "## wv's vocab contains all words it learned\n"
   ]
  },
  {
   "cell_type": "code",
   "execution_count": null,
   "metadata": {
    "ExecuteTime": {
     "end_time": "2021-06-08T15:35:08.089203Z",
     "start_time": "2021-06-08T15:35:08.086066Z"
    }
   },
   "outputs": [],
   "source": [
    "## wv can be used as a dictionary to extract word vectors\n"
   ]
  },
  {
   "cell_type": "code",
   "execution_count": null,
   "metadata": {
    "ExecuteTime": {
     "end_time": "2021-06-08T15:35:08.111068Z",
     "start_time": "2021-06-08T15:35:08.090638Z"
    }
   },
   "outputs": [],
   "source": [
    "## Can get words that are similiar or dissimilar to specific word\n",
    "# get python, top 20\n"
   ]
  },
  {
   "cell_type": "code",
   "execution_count": null,
   "metadata": {
    "ExecuteTime": {
     "end_time": "2021-06-08T15:35:08.120060Z",
     "start_time": "2021-06-08T15:35:08.113323Z"
    }
   },
   "outputs": [],
   "source": [
    "## Can get words that are similiar or dissimilar to specific word\n",
    "# +python, -error, top 20\n"
   ]
  },
  {
   "cell_type": "code",
   "execution_count": null,
   "metadata": {
    "ExecuteTime": {
     "end_time": "2021-06-08T15:35:08.127237Z",
     "start_time": "2021-06-08T15:35:08.121969Z"
    }
   },
   "outputs": [],
   "source": [
    "##  can also do math on vectors \n",
    "# creating \"frustrating error\" from frustrating and error\n"
   ]
  },
  {
   "cell_type": "code",
   "execution_count": null,
   "metadata": {
    "ExecuteTime": {
     "end_time": "2021-06-08T15:35:08.134682Z",
     "start_time": "2021-06-08T15:35:08.129157Z"
    }
   },
   "outputs": [],
   "source": [
    "## Can also get most_similar to word vector\n",
    "# get the most simular words to our calculated frustrating_error\n",
    "\n"
   ]
  },
  {
   "cell_type": "code",
   "execution_count": null,
   "metadata": {
    "ExecuteTime": {
     "end_time": "2021-06-08T15:35:08.139213Z",
     "start_time": "2021-06-08T15:35:08.136825Z"
    }
   },
   "outputs": [],
   "source": [
    "# del w2v_model, df"
   ]
  },
  {
   "cell_type": "markdown",
   "metadata": {},
   "source": [
    "___"
   ]
  },
  {
   "cell_type": "markdown",
   "metadata": {},
   "source": [
    "## Using Embeddings in Classification"
   ]
  },
  {
   "cell_type": "markdown",
   "metadata": {},
   "source": [
    "### Embedding Layers\n",
    "You should make note of a couple caveats that come with using embedding layers in your neural network -- namely:\n",
    "\n",
    "* The embedding layer must always be the first layer of the network, meaning that it should immediately follow the `Input()` layer \n",
    "* All words in the text should be integer-encoded, with each unique word encoded as it's own unique integer  \n",
    "* The size of the embedding layer must always be greater than the total vocabulary size of the dataset! The first parameter denotes the vocabulary size, while the second denotes the size of the actual word vectors\n",
    "* The size of the sequences passed in as data must be set when creating the layer (all data will be converted to padded sequences of the same size during the preprocessing step) \n",
    "\n",
    "\n",
    "[Keras Documentation for Embedding Layers](https://keras.io/layers/embeddings/)."
   ]
  },
  {
   "cell_type": "markdown",
   "metadata": {},
   "source": [
    "# Sequence Models - Recurrent Neural Networks"
   ]
  },
  {
   "cell_type": "markdown",
   "metadata": {},
   "source": [
    "- One of the main disadvantages of machine learning NLP is that the models are assesing the presence or absence of words. \n",
    "- They are not analyzing the words in the context of the sentence."
   ]
  },
  {
   "cell_type": "markdown",
   "metadata": {},
   "source": [
    "<img src=\"https://raw.githubusercontent.com/jirvingphd/dsc-understanding-recurrent-neural-networks-online-ds-ft-100719/master/images/unrolled.gif\">"
   ]
  },
  {
   "cell_type": "markdown",
   "metadata": {},
   "source": [
    "<img src=\"https://raw.githubusercontent.com/jirvingphd/dsc-sequence-model-use-cases-online-ds-ft-100719/master/images/rnn.gif\">"
   ]
  },
  {
   "cell_type": "markdown",
   "metadata": {},
   "source": [
    "## LSTMs & GRUs"
   ]
  },
  {
   "cell_type": "markdown",
   "metadata": {},
   "source": [
    "- GRU (Gated Recurrent Units (GRUs)\n",
    "    - Reset Gate\n",
    "    - Update Gate\n",
    "    \n",
    "- LSTM (Long Short Term Memory Cells)\n",
    "   - Input Gate\n",
    "   - Forget Gate\n",
    "   - Output Gate"
   ]
  },
  {
   "cell_type": "markdown",
   "metadata": {},
   "source": [
    "<img src=\"https://raw.githubusercontent.com/jirvingphd/dsc-sequence-model-use-cases-online-ds-ft-100719/master/images/RNN-unrolled.png\">"
   ]
  },
  {
   "cell_type": "markdown",
   "metadata": {},
   "source": [
    "Each word will have a vector of contexts: the embeddings!"
   ]
  },
  {
   "cell_type": "markdown",
   "metadata": {},
   "source": [
    "# **Activity Part 2: Text Classification with Embeddings & Sequences**"
   ]
  },
  {
   "cell_type": "markdown",
   "metadata": {},
   "source": [
    "### Defining The Target"
   ]
  },
  {
   "cell_type": "code",
   "execution_count": null,
   "metadata": {
    "ExecuteTime": {
     "end_time": "2021-06-08T15:35:08.151451Z",
     "start_time": "2021-06-08T15:35:08.141135Z"
    }
   },
   "outputs": [],
   "source": [
    "## What is the distribution of classes in our target?\n",
    "df['Y'].value_counts()"
   ]
  },
  {
   "cell_type": "code",
   "execution_count": null,
   "metadata": {
    "ExecuteTime": {
     "end_time": "2021-06-08T15:35:08.156345Z",
     "start_time": "2021-06-08T15:35:08.153602Z"
    }
   },
   "outputs": [],
   "source": [
    "## Remapping target\n",
    "target_map = {\"LQ_CLOSE\":0, \n",
    "              'LQ_EDIT': 1,\n",
    "              \"HQ\":2}"
   ]
  },
  {
   "cell_type": "code",
   "execution_count": null,
   "metadata": {
    "ExecuteTime": {
     "end_time": "2021-06-08T15:35:08.196122Z",
     "start_time": "2021-06-08T15:35:08.164841Z"
    }
   },
   "outputs": [],
   "source": [
    "## map targets\n",
    "df['target'] = df['Y'].replace(target_map)\n",
    "df['target'].value_counts()"
   ]
  },
  {
   "cell_type": "markdown",
   "metadata": {},
   "source": [
    "#### *About that multi-classification*...\n",
    "- After a couple hours or fighting to improve the metrics for the 3-class task, I decided to create a Hot-Dog/ Not-Hot-Dog classifier. \n",
    "\n",
    "<img src=\"images/hot_dog_not_hot_dog.png\" width=30%>"
   ]
  },
  {
   "cell_type": "code",
   "execution_count": null,
   "metadata": {
    "ExecuteTime": {
     "end_time": "2021-06-08T15:35:08.230568Z",
     "start_time": "2021-06-08T15:35:08.200667Z"
    },
    "scrolled": true
   },
   "outputs": [],
   "source": [
    "## Making our hot-dog/not-dog target\n",
    "target_map_binary = {\"LQ_CLOSE\":0, \n",
    "                      'LQ_EDIT': 0,\n",
    "                      \"HQ\":1}\n",
    "df['target_binary'] = df['Y'].replace(target_map_binary)\n",
    "\n",
    "df['target_binary'].value_counts()"
   ]
  },
  {
   "cell_type": "code",
   "execution_count": null,
   "metadata": {
    "ExecuteTime": {
     "end_time": "2021-06-08T15:35:08.236189Z",
     "start_time": "2021-06-08T15:35:08.232759Z"
    }
   },
   "outputs": [],
   "source": [
    "from tensorflow.keras import layers,optimizers,callbacks, models\n",
    "from tensorflow.keras.utils import to_categorical\n",
    "from tensorflow.keras.preprocessing import text,sequence\n",
    "\n",
    "# from keras.preprocessing import text,sequence\n",
    "from sklearn.model_selection import train_test_split\n",
    "from nltk import word_tokenize\n",
    "from gensim.utils import simple_preprocess\n",
    "from sklearn import metrics"
   ]
  },
  {
   "cell_type": "markdown",
   "metadata": {},
   "source": [
    "### Defining X,y + train test split"
   ]
  },
  {
   "cell_type": "code",
   "execution_count": null,
   "metadata": {
    "ExecuteTime": {
     "end_time": "2021-06-08T15:35:08.244298Z",
     "start_time": "2021-06-08T15:35:08.238286Z"
    }
   },
   "outputs": [],
   "source": [
    "## Make X and y_t\n",
    "X = df['cleaned-text'].copy()\n",
    "\n",
    "# y_t = to_categorical(df['target'])\n",
    "y_t = to_categorical(df['target_binary'])\n",
    "\n",
    "y_t"
   ]
  },
  {
   "cell_type": "code",
   "execution_count": null,
   "metadata": {
    "ExecuteTime": {
     "end_time": "2021-06-08T15:35:08.267624Z",
     "start_time": "2021-06-08T15:35:08.246378Z"
    }
   },
   "outputs": [],
   "source": [
    "X_train, X_test, y_train, y_test =train_test_split(X,y_t,test_size=0.3,\n",
    "                                                   random_state=123) \n",
    "print(X_train.shape,y_test.shape)\n",
    "X_test"
   ]
  },
  {
   "cell_type": "markdown",
   "metadata": {},
   "source": [
    "### Tokenizing with Keras"
   ]
  },
  {
   "cell_type": "code",
   "execution_count": null,
   "metadata": {
    "ExecuteTime": {
     "end_time": "2021-06-08T15:35:10.265722Z",
     "start_time": "2021-06-08T15:35:08.269782Z"
    }
   },
   "outputs": [],
   "source": [
    "## Keras has its own Tokenizer\n"
   ]
  },
  {
   "cell_type": "code",
   "execution_count": null,
   "metadata": {
    "ExecuteTime": {
     "end_time": "2021-06-08T15:35:10.292262Z",
     "start_time": "2021-06-08T15:35:10.267533Z"
    }
   },
   "outputs": [],
   "source": [
    "## tokenizer has assigned integer lookup value for each word\n"
   ]
  },
  {
   "cell_type": "code",
   "execution_count": null,
   "metadata": {
    "ExecuteTime": {
     "end_time": "2021-06-08T15:35:10.318547Z",
     "start_time": "2021-06-08T15:35:10.294129Z"
    }
   },
   "outputs": [],
   "source": [
    "# lookup the words using their integer\n"
   ]
  },
  {
   "cell_type": "code",
   "execution_count": null,
   "metadata": {
    "ExecuteTime": {
     "end_time": "2021-06-08T15:35:12.082760Z",
     "start_time": "2021-06-08T15:35:10.320445Z"
    }
   },
   "outputs": [],
   "source": [
    "## Use tokenizer to convert texts to sequences\n",
    "\n",
    "\n",
    "## whatn does 1 sequence look like?\n"
   ]
  },
  {
   "cell_type": "code",
   "execution_count": null,
   "metadata": {
    "ExecuteTime": {
     "end_time": "2021-06-08T15:35:12.088226Z",
     "start_time": "2021-06-08T15:35:12.085072Z"
    }
   },
   "outputs": [],
   "source": [
    "## can lookup the words via the tokenizer's index_word \n"
   ]
  },
  {
   "cell_type": "code",
   "execution_count": null,
   "metadata": {
    "ExecuteTime": {
     "end_time": "2021-06-08T15:35:12.095695Z",
     "start_time": "2021-06-08T15:35:12.090172Z"
    }
   },
   "outputs": [],
   "source": [
    "## We need to get all sequences as same length\n",
    "# what is the len of each sequence?\n"
   ]
  },
  {
   "cell_type": "code",
   "execution_count": null,
   "metadata": {
    "ExecuteTime": {
     "end_time": "2021-06-08T15:35:12.100960Z",
     "start_time": "2021-06-08T15:35:12.097376Z"
    }
   },
   "outputs": [],
   "source": [
    "## what is the longest sequence?\n"
   ]
  },
  {
   "cell_type": "code",
   "execution_count": null,
   "metadata": {
    "ExecuteTime": {
     "end_time": "2021-06-08T15:35:13.301274Z",
     "start_time": "2021-06-08T15:35:12.102450Z"
    }
   },
   "outputs": [],
   "source": [
    "## visualize distribution of lengthsw\n"
   ]
  },
  {
   "cell_type": "code",
   "execution_count": null,
   "metadata": {
    "ExecuteTime": {
     "end_time": "2021-06-08T15:35:13.412041Z",
     "start_time": "2021-06-08T15:35:13.303172Z"
    }
   },
   "outputs": [],
   "source": [
    "## What would be an approx cutoff for outliers?\n"
   ]
  },
  {
   "cell_type": "code",
   "execution_count": null,
   "metadata": {
    "ExecuteTime": {
     "end_time": "2021-06-08T15:35:13.416820Z",
     "start_time": "2021-06-08T15:35:13.413878Z"
    }
   },
   "outputs": [],
   "source": [
    "## Defining a max sequence length\n",
    "MAX_SEQUENCE_LENGTH = None\n",
    "MAX_SEQUENCE_LENGTH"
   ]
  },
  {
   "cell_type": "code",
   "execution_count": null,
   "metadata": {
    "ExecuteTime": {
     "end_time": "2021-06-08T15:35:14.427335Z",
     "start_time": "2021-06-08T15:35:13.418432Z"
    }
   },
   "outputs": [],
   "source": [
    "## Plot our cutoff\n"
   ]
  },
  {
   "cell_type": "code",
   "execution_count": null,
   "metadata": {
    "ExecuteTime": {
     "end_time": "2021-06-08T15:35:14.833830Z",
     "start_time": "2021-06-08T15:35:14.428885Z"
    }
   },
   "outputs": [],
   "source": [
    "## pad X_train_seq and X_test_seq\n"
   ]
  },
  {
   "cell_type": "markdown",
   "metadata": {},
   "source": [
    "#### Making Our Neural Networks"
   ]
  },
  {
   "cell_type": "code",
   "execution_count": null,
   "metadata": {
    "ExecuteTime": {
     "end_time": "2021-06-08T15:35:14.838332Z",
     "start_time": "2021-06-08T15:35:14.835378Z"
    }
   },
   "outputs": [],
   "source": [
    "## Set the max words equal to tokenizer's word index\n",
    "MAX_WORDS = None\n",
    "MAX_WORDS"
   ]
  },
  {
   "cell_type": "code",
   "execution_count": null,
   "metadata": {
    "ExecuteTime": {
     "end_time": "2021-06-08T15:35:14.843143Z",
     "start_time": "2021-06-08T15:35:14.840174Z"
    }
   },
   "outputs": [],
   "source": [
    "## Save num classes for final layer\n",
    "n_classes = None\n",
    "n_classes"
   ]
  },
  {
   "cell_type": "markdown",
   "metadata": {},
   "source": [
    "## Fitting Our First Model"
   ]
  },
  {
   "cell_type": "code",
   "execution_count": null,
   "metadata": {
    "ExecuteTime": {
     "end_time": "2021-06-08T15:35:14.847764Z",
     "start_time": "2021-06-08T15:35:14.844812Z"
    }
   },
   "outputs": [],
   "source": [
    "EMBEDDING_SIZE"
   ]
  },
  {
   "cell_type": "code",
   "execution_count": null,
   "metadata": {
    "ExecuteTime": {
     "end_time": "2021-06-08T15:35:14.852921Z",
     "start_time": "2021-06-08T15:35:14.849521Z"
    }
   },
   "outputs": [],
   "source": [
    "def make_model():\n",
    "    \"\"\"Make a neural network with a new emebdding layer, \n",
    "    an LSTM layer with 25 unit, and a final Dense layer appropriate for the task\"\"\"\n",
    "    pass"
   ]
  },
  {
   "cell_type": "code",
   "execution_count": 1,
   "metadata": {
    "ExecuteTime": {
     "end_time": "2021-06-08T15:52:19.083333Z",
     "start_time": "2021-06-08T15:52:19.080574Z"
    }
   },
   "outputs": [],
   "source": [
    "## make model and fit \n"
   ]
  },
  {
   "cell_type": "markdown",
   "metadata": {},
   "source": [
    "### Model Evaluation Functions"
   ]
  },
  {
   "cell_type": "markdown",
   "metadata": {},
   "source": [
    ">- Below I broke down the larger evaluation function introduced in study group last week. \n",
    "    - I've created several helper functions to simplify the code for the evaluation function.\n",
    "    - Additionally, we can now use those smaller functions when we don't need a full model evaluation"
   ]
  },
  {
   "cell_type": "code",
   "execution_count": null,
   "metadata": {
    "ExecuteTime": {
     "end_time": "2021-06-08T15:36:06.422520Z",
     "start_time": "2021-06-08T15:36:06.083337Z"
    }
   },
   "outputs": [],
   "source": [
    "### BREAKING OUR BIG FUNCTION UP INTO HELPER FUNCTIONS\n",
    "def plot_history(history,model,figsize=(8,4)):\n",
    "    \"\"\"Takes a keras history and model and plots \n",
    "    all metrics in separate plots for each metric\"\"\"\n",
    "#     print(header,'\\t[i] MODEL HISTORY',header,sep='\\n')\n",
    "\n",
    "    ## Make a dataframe out of history\n",
    "    res_df = pd.DataFrame(history.history)#.plot()\n",
    "\n",
    "    ## Plot Losses\n",
    "    plot_kws = dict(marker='o',ls=':',lw=2,figsize=figsize)\n",
    "\n",
    "    ## Plot all metrics\n",
    "    metrics_list = model.metrics_names\n",
    "\n",
    "    for metric in metrics_list:\n",
    "        ax = res_df[[col for col in res_df.columns if metric in col]].plot(**plot_kws)\n",
    "        ax.set(xlabel='Epoch',ylabel=metric,title=metric)\n",
    "        ax.grid()\n",
    "        ax.xaxis.set_major_locator(mpl.ticker.MaxNLocator(integer=True))\n",
    "        plt.show()\n",
    "\n",
    "\n",
    "## testing function\n",
    "plot_history(history, model)"
   ]
  },
  {
   "cell_type": "code",
   "execution_count": null,
   "metadata": {
    "ExecuteTime": {
     "end_time": "2021-06-08T15:36:54.520245Z",
     "start_time": "2021-06-08T15:36:47.357655Z"
    }
   },
   "outputs": [],
   "source": [
    "def evaluate_scores(model,X_train,y_train,label='Training',verbose=0):\n",
    "    \"\"\"Evaluates a keras model and prints the scores using the provided label.\"\"\"\n",
    "    train_scores  = model.evaluate(X_train,y_train,verbose=verbose)#score()\n",
    "    for i,metric in enumerate(model.metrics_names):\n",
    "        print(f\"\\t{label} {metric}: {train_scores[i]:.3f}\")\n",
    "\n",
    "evaluate_scores(model, X_train_pad,y_train,verbose=1)\n",
    "evaluate_scores(model, X_test_pad,y_test,verbose=1,label='Test')"
   ]
  },
  {
   "cell_type": "code",
   "execution_count": null,
   "metadata": {
    "ExecuteTime": {
     "end_time": "2021-06-08T15:37:29.293741Z",
     "start_time": "2021-06-08T15:37:26.816559Z"
    }
   },
   "outputs": [],
   "source": [
    "  def classification_report_cm(model, X_train,y_train,label='TRAINING DATA',\n",
    "                            cm_figsize=(6,6),normalize='true',cmap='Greens'):\n",
    "    \"\"\"Gets predictions from a Keras neural network and get \n",
    "    classification report and confusion matrix.\"\"\"\n",
    "    ## Print report header, get preds, get class report, and conf matrix\n",
    "    header =  '==='*24\n",
    "    print(header,f\"\\t[i] CLASSIFICATION REPORT - {label}\",header,sep='\\n')\n",
    "    print()\n",
    "    \n",
    "    ## Get predictions\n",
    "    y_hat_train = model.predict(X_train)\n",
    "    \n",
    "    ## convert to 1D targets\n",
    "    y_train_class =y_train.argmax(axis=1)\n",
    "    y_hat_train_class = y_hat_train.argmax(axis=1)\n",
    "    \n",
    "    \n",
    "    ## Get classification report \n",
    "    print(metrics.classification_report(y_train_class,y_hat_train_class))\n",
    "    print()\n",
    "    \n",
    "    \n",
    "    ## Plot the confusion Matrix\n",
    "    cm = metrics.confusion_matrix(y_train_class, y_hat_train_class,\n",
    "                                  normalize=normalize)\n",
    "    \n",
    "    fig,ax = plt.subplots(figsize=cm_figsize)\n",
    "    sns.heatmap(cm, cmap=cmap, annot=True,square=True,ax=ax)\n",
    "    ax.set(ylabel='True Class',xlabel='Predicted Class',\n",
    "           title='Confusion Matrix - Training Data')    \n",
    "    plt.show()\n",
    "\n",
    "    \n",
    "classification_report_cm(model,X_test_pad, y_test, label='TEST DATA')   "
   ]
  },
  {
   "cell_type": "code",
   "execution_count": null,
   "metadata": {
    "ExecuteTime": {
     "end_time": "2021-06-08T15:38:48.326832Z",
     "start_time": "2021-06-08T15:38:48.321227Z"
    }
   },
   "outputs": [],
   "source": [
    "def evaluate_network(model, X_test, y_test, history=None, \n",
    "                        X_train = None, y_train = None,\n",
    "                        history_figsize = (8,4), cm_figsize=(8,8),\n",
    "                        cmap='Greens', normalize='true'):\n",
    "    \"\"\"Gets predictions and evaluates a classification model using\n",
    "    sklearn.\n",
    "\n",
    "    Args:\n",
    "        model (classifier): a fit keras classification model.\n",
    "        X_test (tensor/array): X data\n",
    "        y_test (tensor/array): y data\n",
    "        history (History object): model history from .fit\n",
    "        X_train (tensor/array): If provided, compare model.score \n",
    "                                for train and test. Defaults to None.\n",
    "        y_train (Series or Array, optional): If provided, compare model.score \n",
    "                                for train and test. Defaults to None.\n",
    "                                \n",
    "        history_figsize (tuple): figsize for each metric's history plot.\n",
    "        cm_figsize (tuple): figsize for confusion matrix plot\n",
    "      \n",
    "        cmap (str, optional): Colormap for confusion matrix. Defaults to 'Greens'.\n",
    "        normalize (str, optional): normalize argument for plot_confusion_matrix. \n",
    "                                    Defaults to 'true'.  \n",
    "    \"\"\"\n",
    "    \n",
    "    header =  '==='*24\n",
    "    \n",
    "    ## First, Plot History, if provided.\n",
    "    if history is not None:\n",
    "        print(header,'\\t[i] MODEL HISTORY',header,sep='\\n')\n",
    "        plot_history(history,model,figsize=history_figsize)\n",
    "        \n",
    "        \n",
    "    ## Evaluate Network for loss/acc scores\n",
    "    print(header,\"\\t[i] EVALUATING MODEL\",header,sep='\\n')\n",
    "    print()\n",
    "    if X_train is not None:\n",
    "        try:\n",
    "            evaluate_scores(model,X_train,y_train,label='Training')\n",
    "            print()\n",
    "\n",
    "        except Exception as e:\n",
    "            print(\"Error evaluating for accuracy for training data:\")\n",
    "            print(e)\n",
    "        \n",
    "\n",
    "    ## Evaluate test data\n",
    "    evaluate_scores(model,X_test,y_test,label='Test')\n",
    "    print(\"\\n\")\n",
    "\n",
    "    \n",
    "    ## Report for training data\n",
    "    if X_train is not None:\n",
    "        classification_report_cm(model, X_train, y_train, cmap=cmap,\n",
    "                                 normalize=normalize,\n",
    "                                 label='TRAINING DATA',cm_figsize=cm_figsize)       \n",
    "        print('\\n'*2)\n",
    "    ## Report for test data\n",
    "    classification_report_cm(model,X_test,y_test, cmap=cmap,\n",
    "                             normalize=normalize,\n",
    "                             label='TEST DATA',cm_figsize=cm_figsize)\n",
    "\n",
    "    "
   ]
  },
  {
   "cell_type": "code",
   "execution_count": null,
   "metadata": {
    "ExecuteTime": {
     "end_time": "2021-06-08T15:39:55.905948Z",
     "start_time": "2021-06-08T15:38:48.822527Z"
    },
    "scrolled": false
   },
   "outputs": [],
   "source": [
    "## make,fit model and evlaute\n",
    "model = make_model()\n",
    "history = model.fit(X_train_pad, y_train, epochs=3,\n",
    "                    batch_size=128, validation_split=0.2,\n",
    "                   workers=-1)\n",
    "evaluate_network(model,X_test_pad,y_test,history,\n",
    "                X_train = X_train_pad,y_train=y_train)"
   ]
  },
  {
   "cell_type": "markdown",
   "metadata": {},
   "source": [
    ">- **Q: Whats one thing we haven't addressed, as part of classification-modeling workflow?**\n",
    "    - Dealing with class imbalance/"
   ]
  },
  {
   "cell_type": "markdown",
   "metadata": {},
   "source": [
    "### Compute Class Weights"
   ]
  },
  {
   "cell_type": "code",
   "execution_count": null,
   "metadata": {
    "ExecuteTime": {
     "end_time": "2021-06-08T15:39:55.914683Z",
     "start_time": "2021-06-08T15:39:55.908486Z"
    }
   },
   "outputs": [],
   "source": [
    "## check class balance\n",
    "y_tr_classes = pd.Series(y_train.argmax(axis=1))\n",
    "y_tr_classes.value_counts(1)"
   ]
  },
  {
   "cell_type": "markdown",
   "metadata": {},
   "source": [
    "> Neural networks accept class weights, but cannot calculate them like sklearn models that accept `class_weight=\"balanced\"`.\n",
    "    - We can use sklearn's function to calculate the class weights to use in our neural netowork"
   ]
  },
  {
   "cell_type": "code",
   "execution_count": null,
   "metadata": {
    "ExecuteTime": {
     "end_time": "2021-06-08T15:39:55.930678Z",
     "start_time": "2021-06-08T15:39:55.917431Z"
    }
   },
   "outputs": [],
   "source": [
    "from sklearn.utils.class_weight import compute_class_weight\n",
    "\n",
    "## Get the array of weights for each unique class\n",
    "weights= compute_class_weight(\n",
    "           'balanced',\n",
    "            np.unique(y_tr_classes),\n",
    "            y_tr_classes)\n",
    "weights"
   ]
  },
  {
   "cell_type": "code",
   "execution_count": null,
   "metadata": {
    "ExecuteTime": {
     "end_time": "2021-06-08T15:40:05.877288Z",
     "start_time": "2021-06-08T15:40:05.872780Z"
    },
    "scrolled": true
   },
   "outputs": [],
   "source": [
    "## Turn the weights into a dict with the class name as the key\n",
    "weights_dict = dict(zip( np.unique(y_tr_classes),weights))\n",
    "weights_dict"
   ]
  },
  {
   "cell_type": "code",
   "execution_count": null,
   "metadata": {
    "ExecuteTime": {
     "end_time": "2021-06-08T15:41:15.663389Z",
     "start_time": "2021-06-08T15:40:06.105699Z"
    },
    "scrolled": false
   },
   "outputs": [],
   "source": [
    "## Make and fit a new model, adding the class_weights\n"
   ]
  },
  {
   "cell_type": "markdown",
   "metadata": {},
   "source": [
    "## Using our Previously Trained Word2Vec Embeddings in an Embedding Layer\n",
    "- https://ppasumarthi-69210.medium.com/word-embeddings-in-keras-be6bb3092831"
   ]
  },
  {
   "cell_type": "code",
   "execution_count": null,
   "metadata": {
    "ExecuteTime": {
     "end_time": "2021-06-08T15:43:11.867799Z",
     "start_time": "2021-06-08T15:43:11.864034Z"
    }
   },
   "outputs": [],
   "source": [
    "## Saving the total number of words as vocab size\n",
    "\n",
    "## Doubel check current embedding size and vocab size\n"
   ]
  },
  {
   "cell_type": "code",
   "execution_count": null,
   "metadata": {
    "ExecuteTime": {
     "end_time": "2021-06-08T15:43:12.433317Z",
     "start_time": "2021-06-08T15:43:12.265689Z"
    }
   },
   "outputs": [],
   "source": [
    "### make a metrix of embedding weights\n",
    "\n",
    "## for each item in the word index\n",
    "\n",
    "    ## if word in w2vec model, fill in the embedding matrix\n",
    " \n",
    "        \n"
   ]
  },
  {
   "cell_type": "code",
   "execution_count": null,
   "metadata": {
    "ExecuteTime": {
     "end_time": "2021-06-08T15:43:12.752979Z",
     "start_time": "2021-06-08T15:43:12.749590Z"
    }
   },
   "outputs": [],
   "source": [
    "## Make a keras embedding layer with emebdding_matrix\n",
    "embedding_layer = None"
   ]
  },
  {
   "cell_type": "code",
   "execution_count": null,
   "metadata": {
    "ExecuteTime": {
     "end_time": "2021-06-08T15:43:13.182350Z",
     "start_time": "2021-06-08T15:43:13.178084Z"
    }
   },
   "outputs": [],
   "source": [
    "## update our make_model_w2v func wth embedding layer\n"
   ]
  },
  {
   "cell_type": "code",
   "execution_count": 2,
   "metadata": {
    "ExecuteTime": {
     "end_time": "2021-06-08T15:54:53.407895Z",
     "start_time": "2021-06-08T15:54:53.406067Z"
    },
    "scrolled": false
   },
   "outputs": [],
   "source": [
    "## Train and evaluate ur model\n"
   ]
  },
  {
   "cell_type": "markdown",
   "metadata": {},
   "source": [
    "# Overview  - Neural Network Tuning "
   ]
  },
  {
   "cell_type": "markdown",
   "metadata": {},
   "source": [
    "## Helpful Resources"
   ]
  },
  {
   "cell_type": "markdown",
   "metadata": {},
   "source": [
    "- [Medium: Simple Guide to Hyperparameter Tuning in Neural Networks](https://towardsdatascience.com/simple-guide-to-hyperparameter-tuning-in-neural-networks-3fe03dad8594)\n",
    "- [Medium: A guide to an efficient way to build neural network architectures- Part I:](https://towardsdatascience.com/a-guide-to-an-efficient-way-to-build-neural-network-architectures-part-i-hyper-parameter-8129009f131b)\n",
    "- [Medium: Optimizers for Neural Networks](https://medium.com/@sdoshi579/optimizers-for-training-neural-network-59450d71caf6)"
   ]
  },
  {
   "cell_type": "markdown",
   "metadata": {},
   "source": [
    "## Rules of Thumb for Training Neural Networks"
   ]
  },
  {
   "cell_type": "markdown",
   "metadata": {},
   "source": [
    "- **Always use a train-test-validation split.**\n",
    "    - **Train-test-val splits:**\n",
    "        - Training set: for training the algorithm\n",
    "        - Validation set: used during training\n",
    "        - Testing set: after choosing the final model, use the test set for an unbiased estimate of performance.\n",
    "    - **Set sizes:**\n",
    "        - With big data, your val and test sets don't necessarily need to be 20-30% of all the data. \n",
    "        - You can choose test and hold-out sets that are of size 1-5%. \n",
    "            - eg. 96% train, 2% hold-out, 2% test set.\n",
    "            \n",
    "            \n",
    "- Consider using a `np.random.seed` for reproducibility/comparing models\n",
    "\n",
    "\n",
    "- **Use cross validation of some sort to compare Networks**\n",
    "\n",
    "\n",
    "- Normalize/Standardize features\n",
    "    \n",
    "    \n",
    "- **Add EarlyStopping and ModelCheckpoint [callbacks](https://keras.io/api/callbacks/)**\n",
    "\n",
    "    "
   ]
  },
  {
   "cell_type": "markdown",
   "metadata": {
    "colab_type": "text",
    "id": "lbzweQKTDPTl"
   },
   "source": [
    "#### Dealing with Bias/Variance\n",
    "\n",
    "- Balancing Bias/Variance:\n",
    "    - High Bias models are **underfit**\n",
    "    - High Variance models are **overfit**\n",
    "\n",
    "\n",
    "\n",
    "- **Rules of thumb re: bias/variance trade-off:**\n",
    "\n",
    "| High Bias? (training performance) | high variance? (validation performance)  |\n",
    "|---------------|-------------|\n",
    "| Use a bigger network|    More data     |\n",
    "| Train longer | Regularization   |\n",
    "| Look for other existing NN architextures |Look for other existing NN architextures |\n"
   ]
  },
  {
   "cell_type": "markdown",
   "metadata": {},
   "source": [
    "## Rules of Thumb - Hyperparameters to Tune \n"
   ]
  },
  {
   "cell_type": "markdown",
   "metadata": {},
   "source": [
    "- This section is partially based on the blog post below. \n",
    "- However, I ordered the steps with my recommended order of importance/what-to-tune-first\n",
    "- [Blog Post](https://towardsdatascience.com/a-guide-to-an-efficient-way-to-build-neural-network-architectures-part-i-hyper-parameter-8129009f131b)"
   ]
  },
  {
   "cell_type": "markdown",
   "metadata": {},
   "source": [
    "### Hyperparameters "
   ]
  },
  {
   "cell_type": "markdown",
   "metadata": {},
   "source": [
    "- Note: outline below is meant for Dense layers but will also generally be true for other layer types."
   ]
  },
  {
   "cell_type": "markdown",
   "metadata": {},
   "source": [
    "1. Number of layers (depends on the size of training data)\n",
    "\n",
    "\n",
    "2. Number of neurons(depends on the size of training data)\n",
    "\n",
    "\n",
    "3. Activation functions\n",
    "    - Popular choices:\n",
    "        - relu / leaky-relu\n",
    "        - sigmoid / tanh (for shallow networks)\n",
    "        \n",
    "        \n",
    "4. Optimizer:\n",
    "    - Popular choices:\n",
    "        - SGD (works well for shallow but gets stuck in local minima/saddle-points - if so use RMSProp)\n",
    "        - RMSProp\n",
    "        - Adam (general favorite)\n",
    "        \n",
    "        \n",
    "5. Learning Rate\n",
    "    - Try in powers of 10 (0.001,0.01,.1,1.0)\n",
    "    - Which optimizer changes which l.r. is best (but try the others too).\n",
    "        - SGD: 0.1\n",
    "        - Adam: 0.001/0.01\n",
    "    - Can use the `decay` parameter to reduce learning (though it is better to use adaptive optimizer than to adjust this)/.\n",
    "\n",
    "7. Batch Size\n",
    "    - Finding the \"right\" size is important\n",
    "        - Too small = weights update too quickly and convergence is difficult\n",
    "        - Too large = weights update too slowly (plus PC RAM issues)\n",
    "    - Try batch sizes that are powers of 2 (for memory optimization)\n",
    "    - Larger is better than smaller.\n",
    "    \n",
    "    \n",
    "8. Number of Epochs:\n",
    "    - Important parameter to tune\n",
    "    - Use EarlyStopping callback to prevent overfitting\n",
    "    \n",
    "\n",
    "9. Adding Dropout\n",
    "    - Usually use dropout rate of 0.2 to 0.5\n",
    "    \n",
    "    \n",
    "\n",
    "10. Adding regularization (L1,L2)\n",
    "    - Use when the model continues to over-fit even after adding Dropout\n",
    "    \n",
    "    \n",
    "6. Initialization\n",
    "    - Not as important as defaults (glorot-uniform) work well, but:\n",
    "        - Use He-normal/uniform initialization when using ReLu\n",
    "        - Use Glorot-normal/uniform when using Sigmoid\n",
    "    - Avoid using all zeros or any constant for all neurons\n",
    "\n"
   ]
  },
  {
   "cell_type": "markdown",
   "metadata": {},
   "source": [
    "### Easy-to-Add options to fight overfitting"
   ]
  },
  {
   "cell_type": "markdown",
   "metadata": {},
   "source": [
    "#### Dropout \n",
    "<img src=\"https://raw.githubusercontent.com/flatiron-school/Online-DS-FT-022221-Cohort-Notes/master/Phase_4/topic_40-41_neural_networks/CL%20Repos/ds-neural_network_architecture-video/img/drop_out.png\">"
   ]
  },
  {
   "cell_type": "markdown",
   "metadata": {
    "colab_type": "text",
    "id": "BlPs5Wd8GrNg"
   },
   "source": [
    "#### Early Stopping\n",
    "\n",
    "- Monitor performance for decrease or plateau in performance, terminate process when given criteria is reached.\n",
    "\n",
    "- **In Keras:**\n",
    "    - Can be applied using the [callbacks function](https://keras.io/callbacks/)\n",
    "```python    \n",
    "from keras.callbacks import EarlyStopping\n",
    "EarlyStopping(monitor='val_err', patience=5)\n",
    "```\n",
    "    - 'Monitor' denotes quanitity to check\n",
    "    - 'val_err' denotes validation error\n",
    "    - 'pateience' denotes # of epochs without improvement before stopping.\n",
    "        - Be careful, as sometimes models _will_ continue to improve after a stagnant period\n"
   ]
  },
  {
   "cell_type": "markdown",
   "metadata": {},
   "source": [
    "### Hyperparameter Details"
   ]
  },
  {
   "cell_type": "markdown",
   "metadata": {},
   "source": [
    "#### Kernel Initialization\n",
    "- Kernel Initializers\n",
    "```python\n",
    "# define the grid search parameters\n",
    "init_mode = ['uniform', 'lecun_uniform', 'normal', 'zero', \n",
    "             'glorot_normal', 'glorot_uniform', 'he_normal', 'he_uniform']```\n",
    "\n",
    "\n",
    "#### Loss Functions\n",
    "- MSE (regression)\n",
    "- categorical cross-entropy (classification with 2D labels )\n",
    "    - sparse categorical cross entropy (classification with 1D labels)\n",
    "- binary cross-entropy (classification)\n",
    "    - 2 categories\n",
    "- **can also uses custom scoring functions**"
   ]
  },
  {
   "cell_type": "markdown",
   "metadata": {},
   "source": [
    "## Using Regularization"
   ]
  },
  {
   "cell_type": "markdown",
   "metadata": {},
   "source": [
    "### L1 & L2 Regularlization\n",
    "- These methods of regularizaiton do so by penalizing coefficients(regression) or weights(neural networks),\n",
    "    - L1 & L2 exist in regression models as well. There, L1='Lasso Regressions' , L2='Ridge regression'\n",
    "    \n",
    "<!--     \n",
    "\n",
    "- **L1 & L2 regularization add a term to the cost function.**\n",
    "\n",
    "$$Cost function = Loss (say, binary cross entropy) + Regularization term$$\n",
    "\n",
    "$$ J (w^{[1]},b^{[1]},...,w^{[L]},b^{[L]}) = \\dfrac{1}{m} \\sum^m_{i=1}\\mathcal{L}(\\hat y^{(i)}, y^{(i)})+ \\dfrac{\\lambda}{2m}\\sum^L_{l=1}||w^{[l]}||^2$$\n",
    "- where $\\lambda$ is the regularization parameter. \n",
    "\n",
    "- **The difference between  L1 vs L2 is that L1 is just the sum of the weights whereas L2 is the sum of the _square_of the weights.**  \n",
    " -->\n",
    "\n",
    "<br><br>\n",
    "- **L1 Regularization:**\n",
    "    $$ Cost function = Loss + \\frac{\\lambda}{2m} * \\sum ||w||$$\n",
    "    - Uses the absolute value of weights and may reduce the weights down to 0. \n",
    "    \n",
    "        \n",
    "- **L2 Regularization:**:\n",
    "    $$ Cost function = Loss + \\frac{\\lambda}{2m} * \\sum ||w||^2$$\n",
    "    - Also known as weight decay, as it forces weights to decay towards zero, but never exactly 0.. \n",
    "\n",
    "#### L1/L2 Regularization\n",
    "\n",
    "- **CHOOSING L1 OR L2:**\n",
    "    - L1 is very useful when trying to compress a model. (since weights can decreae to 0)\n",
    "    - L2 is generally preferred otherwise.\n",
    "    \n",
    "    \n",
    "- **USING L1/L2 IN KERAS:**\n",
    "    - Add a kernel_regulaizer to a  layer.\n",
    "```python \n",
    "from keras import regularizers\n",
    "model.add(Dense(64, input_dim=64, kernel_regularizer=regularizers.l2(0.01))\n",
    "```\n",
    "    - here 0.01 = $\\lambda$"
   ]
  },
  {
   "cell_type": "markdown",
   "metadata": {},
   "source": [
    "# Activity Part 2: Tuning Our Neural Network"
   ]
  },
  {
   "cell_type": "markdown",
   "metadata": {},
   "source": [
    "## Adding Callbacks"
   ]
  },
  {
   "cell_type": "markdown",
   "metadata": {
    "id": "2r14qGFIVrfO"
   },
   "source": [
    "### Keras Callbacks\n",
    "\n"
   ]
  },
  {
   "cell_type": "markdown",
   "metadata": {
    "id": "JtTKy31agUb6"
   },
   "source": [
    "- [Official Callback documentation](https://keras.io/callbacks/)\n",
    "- CallBacks You'll Definitely Want to Use\n",
    " - `tensorflow.keras.callbacks.EarlyStopping`[ALWAYS!]\n",
    "  - `tensorflow.keras.callbacks.ModelCheckpoint` [Always, if on Colab]\n",
    "\n",
    "- Callbacks worth further exploration\n",
    " - `tensorflow.keras.callbacks.callbacks.LearningRateScheduler`\n",
    "     - May be outdated in tf 2.x"
   ]
  },
  {
   "cell_type": "code",
   "execution_count": null,
   "metadata": {
    "ExecuteTime": {
     "end_time": "2021-06-08T15:44:50.560370Z",
     "start_time": "2021-06-08T15:44:50.558053Z"
    }
   },
   "outputs": [],
   "source": [
    "## import callbacks\n",
    "from tensorflow.keras.callbacks import ModelCheckpoint, EarlyStopping, CSVLogger"
   ]
  },
  {
   "cell_type": "code",
   "execution_count": null,
   "metadata": {
    "ExecuteTime": {
     "end_time": "2021-06-08T15:44:50.839881Z",
     "start_time": "2021-06-08T15:44:50.834838Z"
    }
   },
   "outputs": [],
   "source": [
    "## Make folder for models\n",
    "model_folder = './models/'\n",
    "os.makedirs(model_folder,exist_ok=True)\n",
    "os.listdir(model_folder)"
   ]
  },
  {
   "cell_type": "code",
   "execution_count": null,
   "metadata": {
    "ExecuteTime": {
     "end_time": "2021-06-08T15:44:51.296360Z",
     "start_time": "2021-06-08T15:44:51.293509Z"
    }
   },
   "outputs": [],
   "source": [
    "## make checkpoints - early stopping and modelcheckpoint\n",
    "early_stop = EarlyStopping(monitor='val_accuracy',patience=4,verbose=1,\n",
    "                          restore_best_weights=True)\n",
    "\n",
    "checkpoint = ModelCheckpoint(model_folder,verbose=0,save_best_only=True)"
   ]
  },
  {
   "cell_type": "code",
   "execution_count": null,
   "metadata": {
    "ExecuteTime": {
     "end_time": "2021-06-08T15:44:52.103640Z",
     "start_time": "2021-06-08T15:44:52.101770Z"
    }
   },
   "outputs": [],
   "source": [
    "### You can use {} to insert values in your checkpoint names\n",
    "# filepath=folder+\"weights-improvement-{epoch:02d}-{val_loss:.2f}.hdf5\"\n",
    "# checkpoint = ModelCheckpoint(filepath,verbose=1,save_best_only=True,\n",
    "#                             save_weights_only=True)"
   ]
  },
  {
   "cell_type": "code",
   "execution_count": null,
   "metadata": {
    "ExecuteTime": {
     "end_time": "2021-06-08T15:45:41.898470Z",
     "start_time": "2021-06-08T15:44:53.684010Z"
    },
    "scrolled": false
   },
   "outputs": [],
   "source": [
    "## paste in our prior model function and fitting/eval code, but add callbacks\n",
    "\n"
   ]
  },
  {
   "cell_type": "markdown",
   "metadata": {},
   "source": [
    "# Gridsearching with Keras & Scikit-Learn"
   ]
  },
  {
   "cell_type": "markdown",
   "metadata": {},
   "source": [
    "## HyperParameter Tuning with GridSearchCV & Keras"
   ]
  },
  {
   "cell_type": "markdown",
   "metadata": {},
   "source": [
    "Original Source: https://chrisalbon.com/deep_learning/keras/tuning_neural_network_hyperparameters/\n",
    "<br><br>\n",
    "\n",
    "- To use `GridSearchCV` or other similar functions in scikit-learn with a Keras neural network, we need to wrap our keras model in `keras.wrappers.scikit_learn`'s `KerasClassifier` and `KerasRegressor`.\n",
    "\n",
    "1. To do this, we need to write a build function(`build_fn`) that creates our model such as `create_model`.\n",
    "    - This function must accept whatever parameters you wish to tune. \n",
    "    - It also must have a default argument for each parameter.\n",
    "    - This function must Return the model (and only the model)\n",
    "    \n",
    "<!-- \n",
    "```python\n",
    "\n",
    "## Define the build function\n",
    "def create_model(n_units=(50,25,7), activation='relu',final_activation='softmax',\n",
    "                optimizer='adam'):\n",
    "    \n",
    "    ## Pro tip:save the local variables now so you can print out the parameters used to create the model.\n",
    "    params_used = locals()\n",
    "    print('Parameters for model:\\n',params_used)\n",
    "    \n",
    "   \n",
    "    from keras.models import Sequential\n",
    "    from keras import layers\n",
    "    \n",
    "    model=Sequential()\n",
    "    model.add(layers.Dense(n_units[0], activation=activation, input_shape=(2000,)))\n",
    "    model.add(layers.Dense(n_units[1], activation=activation))\n",
    "    model.add(layers.Dense(n_units[2], activation=final_activation))\n",
    "    model.compile(optimizer=optimizer, loss='categorical_crossentropy',metrics=['accuracy'])\n",
    "    \n",
    "    display(model.summary())\n",
    "    return model \n",
    "```     -->\n",
    "\n",
    "2. We then create out model using the Keras wrapper:\n",
    "\n",
    "```python\n",
    "from tensorflow.keras.wrappers.scikit_learn import KerasClassifier\n",
    "neural_network =  KerasClassifier(build_fn=create_model,verbose=1)\n",
    "```\n",
    "\n",
    "3. Now, set up the hyperparameter space for grid search. (Remember, your `create_model` function must accept the parameter you want to tune)\n",
    "\n",
    "```python\n",
    "params_to_test = {'n_units':[(50,25,7),(100,50,7)],\n",
    "                  'optimizer':['adam','rmsprop','adadelta'],\n",
    "                  'activation':['linear','relu','tanh'],\n",
    "                  'final_activation':['softmax']}\n",
    "```\n",
    "\n",
    "4. Now instantiate your GridSearch function\n",
    "\n",
    "```python\n",
    "from sklearn.model_selection import GridSearchCV\n",
    "\n",
    "grid = GridSearchCV(estimator=neural_network,param_grid=params_to_test)\n",
    "grid_result = grid.fit(X_train, y_train)\n",
    "best_params = grid_result.best_params_\n",
    "```\n",
    "5. And thats it!"
   ]
  },
  {
   "cell_type": "code",
   "execution_count": null,
   "metadata": {
    "ExecuteTime": {
     "end_time": "2021-06-08T15:45:46.517976Z",
     "start_time": "2021-06-08T15:45:46.515350Z"
    }
   },
   "outputs": [],
   "source": [
    "from tensorflow.keras.wrappers.scikit_learn import KerasClassifier\n",
    "from sklearn.model_selection import GridSearchCV"
   ]
  },
  {
   "cell_type": "code",
   "execution_count": null,
   "metadata": {
    "ExecuteTime": {
     "end_time": "2021-06-08T15:45:46.801128Z",
     "start_time": "2021-06-08T15:45:46.796035Z"
    }
   },
   "outputs": [],
   "source": [
    "# make a new make_tune_model function to tune the # of units\n",
    "# and if embeddings are trainable\n",
    "def make_tune_model():\n",
    "    pass"
   ]
  },
  {
   "cell_type": "code",
   "execution_count": null,
   "metadata": {
    "ExecuteTime": {
     "end_time": "2021-06-08T15:45:47.276736Z",
     "start_time": "2021-06-08T15:45:47.274484Z"
    }
   },
   "outputs": [],
   "source": [
    "# ## make a model with sklearn wrapper\n",
    "# wrapped_model = KerasClassifier(make_tune_model)\n",
    "# wrapped_model.fit(X_train_pad,y_train, \n",
    "#                   epochs=3, validation_split=0.2)"
   ]
  },
  {
   "cell_type": "code",
   "execution_count": null,
   "metadata": {
    "ExecuteTime": {
     "end_time": "2021-06-08T15:45:47.697318Z",
     "start_time": "2021-06-08T15:45:47.694634Z"
    }
   },
   "outputs": [],
   "source": [
    "## make anew early stopping with shorter patience, do not restore best weights\n",
    "early_stop = EarlyStopping(monitor='val_accuracy',patience=0,verbose=1,\n",
    "                          restore_best_weights=False)"
   ]
  },
  {
   "cell_type": "code",
   "execution_count": null,
   "metadata": {
    "ExecuteTime": {
     "end_time": "2021-06-08T15:47:35.128212Z",
     "start_time": "2021-06-08T15:47:34.216666Z"
    }
   },
   "outputs": [],
   "source": [
    "## Set up params grid for 25,509 units and trianable true/false\n",
    "\n",
    "\n",
    "\n",
    "## Make and fit grid, check best params\n"
   ]
  },
  {
   "cell_type": "code",
   "execution_count": null,
   "metadata": {
    "ExecuteTime": {
     "end_time": "2021-06-08T15:46:37.528652Z",
     "start_time": "2021-06-08T15:45:48.777Z"
    }
   },
   "outputs": [],
   "source": [
    "## whats the best score?\n"
   ]
  },
  {
   "cell_type": "code",
   "execution_count": null,
   "metadata": {
    "ExecuteTime": {
     "end_time": "2021-06-08T15:32:31.233714Z",
     "start_time": "2021-06-08T15:27:33.823Z"
    }
   },
   "outputs": [],
   "source": [
    "raise Exception('The following cells are not guaranteed to run!')"
   ]
  },
  {
   "cell_type": "markdown",
   "metadata": {},
   "source": [
    "# APPENDIX"
   ]
  },
  {
   "cell_type": "markdown",
   "metadata": {},
   "source": [
    "## Tensorboard Callback\n",
    "- https://www.tensorflow.org/tensorboard/tensorboard_in_notebooks"
   ]
  },
  {
   "cell_type": "markdown",
   "metadata": {},
   "source": [
    "> Add tensorboard callback"
   ]
  },
  {
   "cell_type": "code",
   "execution_count": null,
   "metadata": {
    "ExecuteTime": {
     "end_time": "2021-06-08T15:32:31.235923Z",
     "start_time": "2021-06-08T15:27:33.828Z"
    }
   },
   "outputs": [],
   "source": [
    "%load_ext tensorboard\n",
    "logdir = './logs/'\n",
    "os.makedirs(logdir,exist_ok=True)\n",
    "tensorboard_callback = tf.keras.callbacks.TensorBoard(logdir, histogram_freq=1)\n"
   ]
  },
  {
   "cell_type": "code",
   "execution_count": null,
   "metadata": {
    "ExecuteTime": {
     "end_time": "2021-06-08T15:32:31.238603Z",
     "start_time": "2021-06-08T15:27:33.833Z"
    },
    "scrolled": false
   },
   "outputs": [],
   "source": [
    "## Test using function to train and evaluate\n",
    "model = make_model()\n",
    "history = model.fit(X_train_pad, y_train, epochs=3,\n",
    "                    batch_size=64, validation_split=0.2,\n",
    "                   workers=-1,callbacks=[tensorboard_callback])\n",
    "evaluate_network(model,X_test_pad,y_test,history,\n",
    "                X_train = X_train_pad,y_train=y_train)"
   ]
  },
  {
   "cell_type": "code",
   "execution_count": null,
   "metadata": {
    "ExecuteTime": {
     "end_time": "2021-06-08T15:32:31.240933Z",
     "start_time": "2021-06-08T15:27:33.837Z"
    }
   },
   "outputs": [],
   "source": [
    "# %tensorboard --logdir logs"
   ]
  },
  {
   "cell_type": "markdown",
   "metadata": {
    "ExecuteTime": {
     "end_time": "2020-02-17T00:18:01.708621Z",
     "start_time": "2020-02-17T00:18:00.772373Z"
    }
   },
   "source": [
    "## LSTM vs GRU"
   ]
  },
  {
   "cell_type": "code",
   "execution_count": null,
   "metadata": {
    "ExecuteTime": {
     "end_time": "2021-06-08T15:32:31.242995Z",
     "start_time": "2021-06-08T15:27:33.842Z"
    }
   },
   "outputs": [],
   "source": [
    "## GRU Model\n",
    "from keras import models, layers, optimizers, regularizers\n",
    "modelG = models.Sequential()\n",
    "\n",
    "## Get and add embedding_layer\n",
    "# embedding_layer = ji.make_keras_embedding_layer(wv, X_train)\n",
    "modelG.add(Embedding(MAX_WORDS, EMBEDDING_SIZE))\n",
    "\n",
    "# modelG.add(layers.SpatialDropout1D(0.5))\n",
    "# modelG.add(layers.Bidirectional(layers.GRU(units=100, dropout=0.5, recurrent_dropout=0.2,return_sequences=True)))\n",
    "modelG.add(layers.Bidirectional(layers.GRU(units=100, dropout=0.5, recurrent_dropout=0.2)))\n",
    "modelG.add(layers.Dense(2, activation='softmax'))\n",
    "\n",
    "modelG.compile(loss='categorical_crossentropy',optimizer=\"adam\",metrics=['acc'])#,'val_acc'])#, callbacks=callbacks)\n",
    "modelG.summary()"
   ]
  },
  {
   "cell_type": "code",
   "execution_count": null,
   "metadata": {
    "ExecuteTime": {
     "end_time": "2021-06-08T15:32:31.245008Z",
     "start_time": "2021-06-08T15:27:33.846Z"
    }
   },
   "outputs": [],
   "source": [
    "\n",
    "history = modelG.fit(X_train, y_train, epochs=10, batch_size=32, validation_split=0.2)\n",
    "\n",
    "y_hat_test = modelG.predict_classes(X_test)\n",
    "kg.evaluate_model(y_test,y_hat_test,history)"
   ]
  },
  {
   "cell_type": "markdown",
   "metadata": {},
   "source": [
    "## Using Pre-Trained Vectors"
   ]
  },
  {
   "cell_type": "code",
   "execution_count": null,
   "metadata": {
    "ExecuteTime": {
     "end_time": "2021-06-08T15:32:31.247707Z",
     "start_time": "2021-06-08T15:27:33.851Z"
    }
   },
   "outputs": [],
   "source": [
    "import os\n",
    "folder = '/Users/jamesirving/Datasets/'#glove.twitter.27B/'\n",
    "# print(os.listdir(folder))\n",
    "glove_file = folder+'glove.6B/glove.6B.50d.txt'#'glove.twitter.27B.50d.txt'\n",
    "glove_twitter_file = folder+'glove.twitter.27B/glove.twitter.27B.50d.txt'\n",
    "print(glove_file)\n",
    "print(glove_twitter_file)"
   ]
  },
  {
   "cell_type": "markdown",
   "metadata": {},
   "source": [
    "#### Keeping only the vectors needed"
   ]
  },
  {
   "cell_type": "code",
   "execution_count": null,
   "metadata": {
    "ExecuteTime": {
     "end_time": "2021-06-08T15:32:31.250269Z",
     "start_time": "2021-06-08T15:27:33.856Z"
    }
   },
   "outputs": [],
   "source": [
    "# ## This line of code for getting all words bugs me\n",
    "# total_vocabulary = set(word for tweet in data_lower for word in tweet)\n",
    "# len(total_vocabulary)"
   ]
  },
  {
   "cell_type": "code",
   "execution_count": null,
   "metadata": {
    "ExecuteTime": {
     "end_time": "2021-06-08T15:32:31.252282Z",
     "start_time": "2021-06-08T15:27:33.860Z"
    },
    "code_folding": []
   },
   "outputs": [],
   "source": [
    "# glove = {}\n",
    "# with open(glove_file,'rb') as f:#'glove.6B.50d.txt', 'rb') as f:\n",
    "#     for line in f:\n",
    "#         parts = line.split()\n",
    "#         word = parts[0].decode('utf-8')\n",
    "#         if word in total_vocabulary:\n",
    "#             vector = np.array(parts[1:], dtype=np.float32)\n",
    "#             glove[word] = vector"
   ]
  },
  {
   "cell_type": "code",
   "execution_count": null,
   "metadata": {
    "ExecuteTime": {
     "end_time": "2021-06-08T15:32:31.254186Z",
     "start_time": "2021-06-08T15:27:33.864Z"
    }
   },
   "outputs": [],
   "source": [
    "# glove['republican']"
   ]
  },
  {
   "cell_type": "markdown",
   "metadata": {},
   "source": [
    "### Converting Glove to Word2Vec format"
   ]
  },
  {
   "cell_type": "markdown",
   "metadata": {},
   "source": [
    "- Getting glove into w2vec format:\n",
    "    - https://radimrehurek.com/gensim/scripts/glove2word2vec.html"
   ]
  },
  {
   "cell_type": "code",
   "execution_count": null,
   "metadata": {
    "ExecuteTime": {
     "end_time": "2021-06-08T15:32:31.256277Z",
     "start_time": "2021-06-08T15:27:33.870Z"
    }
   },
   "outputs": [],
   "source": [
    "glove_folder = folder+'glove.twitter.27B'\n",
    "os.listdir(glove_folder)"
   ]
  },
  {
   "cell_type": "code",
   "execution_count": null,
   "metadata": {
    "ExecuteTime": {
     "end_time": "2021-06-08T15:32:31.258512Z",
     "start_time": "2021-06-08T15:27:33.874Z"
    }
   },
   "outputs": [],
   "source": [
    "from gensim.test.utils import datapath, get_tmpfile\n",
    "from gensim.models import KeyedVectors\n",
    "from gensim.scripts.glove2word2vec import glove2word2vec\n",
    "\n",
    "glove_file = datapath(glove_twitter_file)\n",
    "tmp_file = get_tmpfile(glove_folder+'glove_to_w2vec.txt')\n",
    "_ = glove2word2vec(glove_file, tmp_file)\n",
    "model_glove = KeyedVectors.load_word2vec_format(tmp_file)"
   ]
  },
  {
   "cell_type": "code",
   "execution_count": null,
   "metadata": {
    "ExecuteTime": {
     "end_time": "2021-06-08T15:32:31.260982Z",
     "start_time": "2021-06-08T15:27:33.879Z"
    }
   },
   "outputs": [],
   "source": [
    "model_glove.wv"
   ]
  },
  {
   "cell_type": "markdown",
   "metadata": {},
   "source": [
    "## Using Embeddings in Classification Models - sci-kit learn"
   ]
  },
  {
   "cell_type": "markdown",
   "metadata": {},
   "source": [
    "- Embeddings can be used in Artificial Neural Networks as an input Embedding Layer\n",
    "- Embeddings can be used in sci-kit learn models by taking the mean vector of a text/document and using the mean vector as the input into the model. "
   ]
  },
  {
   "cell_type": "markdown",
   "metadata": {},
   "source": [
    "### Creating Mean Embeddings"
   ]
  },
  {
   "cell_type": "code",
   "execution_count": null,
   "metadata": {
    "ExecuteTime": {
     "end_time": "2021-06-08T15:32:31.262738Z",
     "start_time": "2021-06-08T15:27:33.886Z"
    }
   },
   "outputs": [],
   "source": [
    "## This line of code for getting all words bugs me\n",
    "total_vocabulary = set(word for tweet in data_lower for word in tweet)\n",
    "len(total_vocabulary)"
   ]
  },
  {
   "cell_type": "code",
   "execution_count": null,
   "metadata": {
    "ExecuteTime": {
     "end_time": "2021-06-08T15:32:31.264529Z",
     "start_time": "2021-06-08T15:27:33.890Z"
    },
    "code_folding": []
   },
   "outputs": [],
   "source": [
    "glove = {}\n",
    "with open(glove_file,'rb') as f:#'glove.6B.50d.txt', 'rb') as f:\n",
    "    for line in f:\n",
    "        parts = line.split()\n",
    "        word = parts[0].decode('utf-8')\n",
    "        if word in total_vocabulary:\n",
    "            vector = np.array(parts[1:], dtype=np.float32)\n",
    "            glove[word] = vector"
   ]
  },
  {
   "cell_type": "code",
   "execution_count": null,
   "metadata": {
    "ExecuteTime": {
     "end_time": "2021-06-08T15:32:31.266202Z",
     "start_time": "2021-06-08T15:27:33.894Z"
    }
   },
   "outputs": [],
   "source": [
    "from sklearn.model_selection import train_test_split\n",
    "from nltk import word_tokenize\n",
    "\n",
    "y = pd.get_dummies(df['is_trump'],drop_first=True).values\n",
    "X = df['text'].str.lower().map(word_tokenize)\n",
    "\n",
    "X_idx = list(range(len(X)))\n",
    "train_idx,test_idx = train_test_split(X_idx,random_state=123)\n",
    "\n",
    "X[train_idx]"
   ]
  },
  {
   "cell_type": "code",
   "execution_count": null,
   "metadata": {
    "ExecuteTime": {
     "end_time": "2021-06-08T15:32:31.268347Z",
     "start_time": "2021-06-08T15:27:33.898Z"
    }
   },
   "outputs": [],
   "source": [
    "def train_test_split_idx(X, y, train_idx,test_idx):\n",
    "    # try count vectorized first\n",
    "    X_train = X[train_idx].copy()\n",
    "    y_train = y[train_idx].copy()\n",
    "    X_test = X[train_idx].copy()\n",
    "    y_test = y[train_idx].copy()\n",
    "    return X_train, X_test,y_train, y_test\n",
    "\n",
    "X_train, X_test,y_train, y_test = train_test_split_idx(X,y,train_idx,test_idx)"
   ]
  },
  {
   "cell_type": "code",
   "execution_count": null,
   "metadata": {
    "ExecuteTime": {
     "end_time": "2021-06-08T15:32:31.270707Z",
     "start_time": "2021-06-08T15:27:33.901Z"
    }
   },
   "outputs": [],
   "source": [
    "# df['combined_text'] = df['headline'] + ' ' + df['short_description']\n",
    "# data = df['combined_text'].map(word_tokenize).values"
   ]
  },
  {
   "cell_type": "code",
   "execution_count": null,
   "metadata": {
    "ExecuteTime": {
     "end_time": "2021-06-08T15:32:31.272800Z",
     "start_time": "2021-06-08T15:27:33.906Z"
    }
   },
   "outputs": [],
   "source": [
    "class W2vVectorizer(object):\n",
    "    \n",
    "    def __init__(self, w2v):\n",
    "        # Takes in a dictionary of words and vectors as input\n",
    "        self.w2v = w2v\n",
    "        if len(w2v) == 0:\n",
    "            self.dimensions = 0\n",
    "        else:\n",
    "            self.dimensions = len(w2v[next(iter(glove))])\n",
    "    \n",
    "    # Note: Even though it doesn't do anything, it's required that this object implement a fit method or else\n",
    "    # it can't be used in a scikit-learn pipeline  \n",
    "    def fit(self, X, y):\n",
    "        return self\n",
    "            \n",
    "    def transform(self, X):\n",
    "        return np.array([\n",
    "            np.mean([self.w2v[w] for w in words if w in self.w2v]\n",
    "                   or [np.zeros(self.dimensions)], axis=0) for words in X])"
   ]
  },
  {
   "cell_type": "markdown",
   "metadata": {},
   "source": [
    "## NLP Task Option 2"
   ]
  },
  {
   "cell_type": "markdown",
   "metadata": {},
   "source": [
    "2. Coronavirus Tweet Sentiment https://www.kaggle.com/datatattle/covid-19-nlp-text-classification"
   ]
  },
  {
   "cell_type": "code",
   "execution_count": null,
   "metadata": {
    "ExecuteTime": {
     "end_time": "2021-06-08T15:32:31.222926Z",
     "start_time": "2021-06-08T15:27:33.802Z"
    }
   },
   "outputs": [],
   "source": [
    "# os.listdir(\"/Users/jamesirving/Downloads/archive (1)/\")"
   ]
  },
  {
   "cell_type": "code",
   "execution_count": null,
   "metadata": {
    "ExecuteTime": {
     "end_time": "2021-06-08T15:32:31.225204Z",
     "start_time": "2021-06-08T15:27:33.806Z"
    }
   },
   "outputs": [],
   "source": [
    "# ### Saving smaller gz file\n",
    "# corona_df = pd.read_csv('/Users/jamesirving/Downloads/archive (1)/Corona_NLP_train.csv',\n",
    "#                        encoding='latin-1')\n",
    "# corona_df"
   ]
  },
  {
   "cell_type": "code",
   "execution_count": null,
   "metadata": {
    "ExecuteTime": {
     "end_time": "2021-06-08T15:32:31.227643Z",
     "start_time": "2021-06-08T15:27:33.810Z"
    }
   },
   "outputs": [],
   "source": [
    "# os.makedirs('./data/',exist_ok=True)\n",
    "# corona_df.to_csv('data/cornavirus_tweets.csv.gz',compression='gzip',index=False)"
   ]
  },
  {
   "cell_type": "code",
   "execution_count": null,
   "metadata": {
    "ExecuteTime": {
     "end_time": "2021-06-08T15:32:31.229716Z",
     "start_time": "2021-06-08T15:27:33.813Z"
    }
   },
   "outputs": [],
   "source": [
    "# corona_df = pd.read_csv('data/cornavirus_tweets.csv.gz',\n",
    "#                        encoding='latin-1')\n",
    "# corona_df"
   ]
  },
  {
   "cell_type": "code",
   "execution_count": null,
   "metadata": {
    "ExecuteTime": {
     "end_time": "2021-06-08T15:32:31.231758Z",
     "start_time": "2021-06-08T15:27:33.818Z"
    }
   },
   "outputs": [],
   "source": [
    "# corona_df['Sentiment'].value_counts(1)"
   ]
  }
 ],
 "metadata": {
  "kernelspec": {
   "display_name": "learn-env-new",
   "language": "python",
   "name": "learn-env-new"
  },
  "language_info": {
   "codemirror_mode": {
    "name": "ipython",
    "version": 3
   },
   "file_extension": ".py",
   "mimetype": "text/x-python",
   "name": "python",
   "nbconvert_exporter": "python",
   "pygments_lexer": "ipython3",
   "version": "3.8.5"
  },
  "toc": {
   "base_numbering": 1,
   "nav_menu": {},
   "number_sections": false,
   "sideBar": true,
   "skip_h1_title": false,
   "title_cell": "Table of Contents",
   "title_sidebar": "Contents",
   "toc_cell": false,
   "toc_position": {
    "height": "508px",
    "left": "869.328px",
    "top": "273px",
    "width": "410.672px"
   },
   "toc_section_display": true,
   "toc_window_display": false
  }
 },
 "nbformat": 4,
 "nbformat_minor": 2
}
