{
 "cells": [
  {
   "cell_type": "markdown",
   "metadata": {},
   "source": [
    "# Topic 39: Natural Language Processing"
   ]
  },
  {
   "cell_type": "markdown",
   "metadata": {},
   "source": [
    "- 06/03/21\n",
    "- onl01-dtsc-ft-022221"
   ]
  },
  {
   "cell_type": "markdown",
   "metadata": {},
   "source": [
    "## Learning Objectives"
   ]
  },
  {
   "cell_type": "markdown",
   "metadata": {},
   "source": [
    "- Introduce the field of Natural Language Processing\n",
    "- Learn about the extensive preprocessing involved with text data\n",
    "- Walk through text classification - Finding Trump \n"
   ]
  },
  {
   "cell_type": "markdown",
   "metadata": {},
   "source": [
    "## Questions"
   ]
  },
  {
   "cell_type": "markdown",
   "metadata": {},
   "source": [
    "-  "
   ]
  },
  {
   "cell_type": "markdown",
   "metadata": {},
   "source": [
    "# **`Part 1` Natural Language Processing**"
   ]
  },
  {
   "cell_type": "markdown",
   "metadata": {},
   "source": [
    "> **_Natural Language Processing_**, or **_NLP_**, is the study of how computers can interact with humans through the use of human language.  Although this is a field that is quite important to Data Scientists, it does not belong to Data Science alone.  NLP has been around for quite a while, and sits at the intersection of *Computer Science*, *Artificial Intelligence*, *Linguistics*, and *Information Theory*. "
   ]
  },
  {
   "cell_type": "markdown",
   "metadata": {},
   "source": [
    "## Where is NLP Used?"
   ]
  },
  {
   "cell_type": "markdown",
   "metadata": {},
   "source": [
    "\n",
    "- Reviews (i.e. Amazon)\n",
    "- AI Assistants\n",
    "- Spam Detection\n",
    "- Stock market trading - [Volvfefe Index]( https://www.bloomberg.com/news/articles/2019-09-09/jpmorgan-creates-volfefe-index-to-track-trump-tweet-impact)"
   ]
  },
  {
   "cell_type": "markdown",
   "metadata": {},
   "source": [
    "### Demonstrations\n",
    "- [Google Duplex AI Assistant](https://youtu.be/D5VN56jQMWM)\n",
    "- [GPT2 Blog Post](https://openai.com/blog/better-language-models/)"
   ]
  },
  {
   "cell_type": "markdown",
   "metadata": {},
   "source": [
    "## Working with Text Data"
   ]
  },
  {
   "cell_type": "markdown",
   "metadata": {},
   "source": [
    "### Preprocessing"
   ]
  },
  {
   "cell_type": "markdown",
   "metadata": {},
   "source": [
    "**Preparing text data requires more processing than normal data.**\n",
    "1. We must remove things like:\n",
    "    - punctuation\n",
    "    - numbers\n",
    "    - upper vs lowercase letters\n",
    "    \n",
    "    \n",
    "2. It is always recommended that go a step beyond this and remove **commonly used words that contain little information (called \"stopwords\")** for our machine learning algorithms. Words like: the,was,he,she, it,etc.\n",
    "\n",
    "\n",
    "3. Additionally, most analyses **need the text tokenzied** into a list of words and not in a natural sentence format. Instead, they are a list of words (**tokens**) separated by \"`,`\", which tells the algorithm what should be considered one word.\n",
    "\n",
    "\n",
    "4. While not always required, it is often a good idea to reduce similar words down to a shared core.\n",
    "There are often **multiple variants of the same word with the same/simiar meaning**,<br> but one may plural **(i.e. \"democrat\" and \"democrats\")**, or form of words is different **(i.e. run, running).**<br> Simplifying words down to the basic core word (or word *stem*) is referred to as **\"stemming\"**. <br><br> A more advanced form of this also understands things like words that are just in a **different tense** such as  i.e.  **\"ran\", \"run\", \"running\"**. This process is called  **\"lemmatization**, where the words are reduced to their simplest form, called \"**lemmas**\"<br>  \n",
    "    - Stemming<br><img src=\"https://raw.githubusercontent.com/learn-co-students/dsc-nlp-and-word-vectorization-online-ds-ft-100719/master/images/new_stemming.png\" width=40%>\n",
    "    - Lemmatization\n",
    "    \n",
    "|   Word   |  Stem | Lemma |\n",
    "|:--------:|:-----:|:-----:|\n",
    "|  Studies | Studi | Study |\n",
    "| Studying | Study | Study |\n",
    "\n",
    "5. Finally, we have to convert our text data into numeric form for our machine learning models to analyze, a process called **vectorization**."
   ]
  },
  {
   "cell_type": "markdown",
   "metadata": {},
   "source": [
    "## **Activity: Practicing Text Preprocessing - Trump's Tweets**"
   ]
  },
  {
   "cell_type": "markdown",
   "metadata": {},
   "source": [
    "### Tweet Natural Language Processing Overview"
   ]
  },
  {
   "cell_type": "markdown",
   "metadata": {},
   "source": [
    "To prepare Donal Trump's tweets for modeling, **it is essential to preprocess the text** and simplify its contents.\n",
    "<br><br>\n",
    "1. **At a minimum, things like:**\n",
    "    - punctuation\n",
    "    - numbers\n",
    "    - upper vs lowercase letters<br>\n",
    "    ***must*** be addressed before any initial analyses. I refer tho this initial cleaning as **\"minimal cleaning\"** of the text content<br>\n",
    "    \n",
    "> Version 1 of the tweet processing removes these items, as well as the removal of any urls in a tweet. The resulting data column is referred to here as \"content_min_clean\".\n",
    "\n",
    "<br><br>\n",
    "2. It is **always recommended** that go a step beyond this and<br> remove **commonly used words that contain little information** <br>for our machine learning algorithms. Words like: (the,was,he,she, it,etc.)<br> are called **\"stopwords\"**, and it is critical to address them as well.\n",
    "\n",
    "> Version 2 of the tweet processing removes these items and the resulting data column is referred here as `cleaned_stopped_content`\n",
    "\n",
    "<br>\n",
    "\n",
    "3. Additionally, many analyses **need the text tokenzied** into a list of words<br> and not in a natural sentence format. Instead, they are a list of words (**tokens**) separated by \",\", which tells the algorithm what should be considered one word.<br><br>For the tweet processing, I used a version of tokenization, called `regexp_tokenziation` <br>which uses pattern of letters and symbols (the `expression`) <br>that indicate what combination of alpha numeric characters should be considered a single token.<br><br>The pattern I used was `\"([a-zA-Z]+(?:'[a-z]+)?)\"`, which allows for words such as \"can't\" that contain \"'\" in the middle of word. This processes was actually applied in order to process Version 1 and 2 of the Tweets, but the resulting text was put back into sentence form. \n",
    "\n",
    "> Version 3 of the tweets keeps the text in their regexp-tokenized form and is reffered to as `cleaned_stopped_tokens`\n",
    "<br>\n",
    "\n",
    "4. While not always required, it is often a good idea to reduce similar words down to a shared core.\n",
    "There are often **multiple variants of the same word with the same/simiar meaning**,<br> but one may plural **(i.e. \"democrat\" and \"democrats\")**, or form of words is different **(i.e. run, running).**<br> Simplifying words down to the basic core word (or word *stem*) is referred to as **\"stemming\"**. <br><br> A more advanced form of this also understands things like words that are just in a **different tense** such as  i.e.  **\"ran\", \"run\", \"running\"**. This process is called  **\"lemmatization**, where the words are reduced to their simplest form, called \"**lemmas**\"<br>  \n",
    "\n",
    "> Version 4 of the tweets are all reduced down to their word lemmas, futher aiding the algorithm in learning the meaning of the texts.\n",
    "<!-- \n",
    "\n",
    "#### EXAMPLE TWEETS AND PROCESSING STEPS:\n",
    "\n",
    "**TWEET FROM 08-25-2017 12:25:10:**\n",
    "* **[\"content\"] column:**<p><blockquote>***\"Strange statement by Bob Corker considering that he is constantly asking me whether or not he should run again in '18. Tennessee not happy!\"***\n",
    "    \n",
    "    \n",
    "* **[\"content_min_clean\"] column:**<p><blockquote>***\"strange statement by bob corker considering that he is constantly asking me whether or not he should run again in  18  tennessee not happy \"***\n",
    "    \n",
    "    \n",
    "* **[\"cleaned_stopped_content\"] column:**<p><blockquote>***\"strange statement bob corker considering constantly asking whether run tennessee happy\"***\n",
    "    \n",
    "    \n",
    "* **[\"cleaned_stopped_tokens\"] column:**<p><blockquote>***\"['strange', 'statement', 'bob', 'corker', 'considering', 'constantly', 'asking', 'whether', 'run', 'tennessee', 'happy']\"***\n",
    "    \n",
    "    \n",
    "* **[\"cleaned_stopped_lemmas\"] column:**<p><blockquote>***\"strange statement bob corker considering constantly asking whether run tennessee happy\"*** -->"
   ]
  },
  {
   "cell_type": "code",
   "execution_count": 1,
   "metadata": {
    "ExecuteTime": {
     "end_time": "2021-06-03T00:16:37.629887Z",
     "start_time": "2021-06-03T00:16:36.671810Z"
    }
   },
   "outputs": [],
   "source": [
    "# !pip install -U fsds\n",
    "# from fsds.imports import *\n",
    "import pandas as pd\n",
    "import numpy as np\n",
    "import matplotlib.pyplot as plt\n",
    "import seaborn as sns\n",
    "sns.set_context('talk')"
   ]
  },
  {
   "cell_type": "code",
   "execution_count": 2,
   "metadata": {
    "ExecuteTime": {
     "end_time": "2021-06-03T00:16:37.699553Z",
     "start_time": "2021-06-03T00:16:37.632049Z"
    }
   },
   "outputs": [
    {
     "data": {
      "text/html": [
       "<div>\n",
       "<style scoped>\n",
       "    .dataframe tbody tr th:only-of-type {\n",
       "        vertical-align: middle;\n",
       "    }\n",
       "\n",
       "    .dataframe tbody tr th {\n",
       "        vertical-align: top;\n",
       "    }\n",
       "\n",
       "    .dataframe thead th {\n",
       "        text-align: right;\n",
       "    }\n",
       "</style>\n",
       "<table border=\"1\" class=\"dataframe\">\n",
       "  <thead>\n",
       "    <tr style=\"text-align: right;\">\n",
       "      <th></th>\n",
       "      <th>source</th>\n",
       "      <th>text</th>\n",
       "      <th>created_at</th>\n",
       "      <th>retweet_count</th>\n",
       "      <th>favorite_count</th>\n",
       "      <th>is_retweet</th>\n",
       "      <th>id_str</th>\n",
       "    </tr>\n",
       "  </thead>\n",
       "  <tbody>\n",
       "    <tr>\n",
       "      <th>0</th>\n",
       "      <td>Twitter Media Studio</td>\n",
       "      <td>https://t.co/EVAEYD1AgV</td>\n",
       "      <td>01-01-2020 03:12:07</td>\n",
       "      <td>25016</td>\n",
       "      <td>108830</td>\n",
       "      <td>False</td>\n",
       "      <td>1212209862094012416</td>\n",
       "    </tr>\n",
       "    <tr>\n",
       "      <th>1</th>\n",
       "      <td>Twitter for iPhone</td>\n",
       "      <td>HAPPY NEW YEAR!</td>\n",
       "      <td>01-01-2020 01:30:35</td>\n",
       "      <td>85409</td>\n",
       "      <td>576045</td>\n",
       "      <td>False</td>\n",
       "      <td>1212184310389850119</td>\n",
       "    </tr>\n",
       "    <tr>\n",
       "      <th>2</th>\n",
       "      <td>Twitter for iPhone</td>\n",
       "      <td>Our fantastic First Lady! https://t.co/6iswto4WDI</td>\n",
       "      <td>01-01-2020 01:22:28</td>\n",
       "      <td>27567</td>\n",
       "      <td>132633</td>\n",
       "      <td>False</td>\n",
       "      <td>1212182267113680896</td>\n",
       "    </tr>\n",
       "    <tr>\n",
       "      <th>3</th>\n",
       "      <td>Twitter for iPhone</td>\n",
       "      <td>RT @DanScavino: https://t.co/CJRPySkF1Z</td>\n",
       "      <td>01-01-2020 01:18:47</td>\n",
       "      <td>10796</td>\n",
       "      <td>0</td>\n",
       "      <td>True</td>\n",
       "      <td>1212181341078458369</td>\n",
       "    </tr>\n",
       "    <tr>\n",
       "      <th>4</th>\n",
       "      <td>Twitter for iPhone</td>\n",
       "      <td>RT @SenJohnKennedy: I think Speaker Pelosi is ...</td>\n",
       "      <td>01-01-2020 01:17:43</td>\n",
       "      <td>8893</td>\n",
       "      <td>0</td>\n",
       "      <td>True</td>\n",
       "      <td>1212181071988703232</td>\n",
       "    </tr>\n",
       "    <tr>\n",
       "      <th>...</th>\n",
       "      <td>...</td>\n",
       "      <td>...</td>\n",
       "      <td>...</td>\n",
       "      <td>...</td>\n",
       "      <td>...</td>\n",
       "      <td>...</td>\n",
       "      <td>...</td>\n",
       "    </tr>\n",
       "    <tr>\n",
       "      <th>14061</th>\n",
       "      <td>Twitter for Android</td>\n",
       "      <td>The President of Taiwan CALLED ME today to wis...</td>\n",
       "      <td>12-03-2016 00:44:20</td>\n",
       "      <td>24700</td>\n",
       "      <td>111106</td>\n",
       "      <td>False</td>\n",
       "      <td>804848711599882240</td>\n",
       "    </tr>\n",
       "    <tr>\n",
       "      <th>14062</th>\n",
       "      <td>Twitter for iPhone</td>\n",
       "      <td>Thank you Ohio! Together we made history – and...</td>\n",
       "      <td>12-02-2016 02:45:18</td>\n",
       "      <td>17283</td>\n",
       "      <td>72196</td>\n",
       "      <td>False</td>\n",
       "      <td>804516764562374656</td>\n",
       "    </tr>\n",
       "    <tr>\n",
       "      <th>14063</th>\n",
       "      <td>Twitter for iPhone</td>\n",
       "      <td>Heading to U.S. Bank Arena in Cincinnati Ohio ...</td>\n",
       "      <td>12-01-2016 22:52:10</td>\n",
       "      <td>5564</td>\n",
       "      <td>31256</td>\n",
       "      <td>False</td>\n",
       "      <td>804458095569158144</td>\n",
       "    </tr>\n",
       "    <tr>\n",
       "      <th>14064</th>\n",
       "      <td>Twitter for Android</td>\n",
       "      <td>Getting ready to leave for the Great State of ...</td>\n",
       "      <td>12-01-2016 14:38:09</td>\n",
       "      <td>9834</td>\n",
       "      <td>57249</td>\n",
       "      <td>False</td>\n",
       "      <td>804333771021570048</td>\n",
       "    </tr>\n",
       "    <tr>\n",
       "      <th>14065</th>\n",
       "      <td>Twitter for iPhone</td>\n",
       "      <td>My thoughts and prayers are with those affecte...</td>\n",
       "      <td>12-01-2016 14:37:57</td>\n",
       "      <td>12077</td>\n",
       "      <td>65724</td>\n",
       "      <td>False</td>\n",
       "      <td>804333718999539712</td>\n",
       "    </tr>\n",
       "  </tbody>\n",
       "</table>\n",
       "<p>14066 rows × 7 columns</p>\n",
       "</div>"
      ],
      "text/plain": [
       "                     source  \\\n",
       "0      Twitter Media Studio   \n",
       "1        Twitter for iPhone   \n",
       "2        Twitter for iPhone   \n",
       "3        Twitter for iPhone   \n",
       "4        Twitter for iPhone   \n",
       "...                     ...   \n",
       "14061   Twitter for Android   \n",
       "14062    Twitter for iPhone   \n",
       "14063    Twitter for iPhone   \n",
       "14064   Twitter for Android   \n",
       "14065    Twitter for iPhone   \n",
       "\n",
       "                                                    text           created_at  \\\n",
       "0                                https://t.co/EVAEYD1AgV  01-01-2020 03:12:07   \n",
       "1                                        HAPPY NEW YEAR!  01-01-2020 01:30:35   \n",
       "2      Our fantastic First Lady! https://t.co/6iswto4WDI  01-01-2020 01:22:28   \n",
       "3                RT @DanScavino: https://t.co/CJRPySkF1Z  01-01-2020 01:18:47   \n",
       "4      RT @SenJohnKennedy: I think Speaker Pelosi is ...  01-01-2020 01:17:43   \n",
       "...                                                  ...                  ...   \n",
       "14061  The President of Taiwan CALLED ME today to wis...  12-03-2016 00:44:20   \n",
       "14062  Thank you Ohio! Together we made history – and...  12-02-2016 02:45:18   \n",
       "14063  Heading to U.S. Bank Arena in Cincinnati Ohio ...  12-01-2016 22:52:10   \n",
       "14064  Getting ready to leave for the Great State of ...  12-01-2016 14:38:09   \n",
       "14065  My thoughts and prayers are with those affecte...  12-01-2016 14:37:57   \n",
       "\n",
       "       retweet_count  favorite_count is_retweet               id_str  \n",
       "0              25016          108830      False  1212209862094012416  \n",
       "1              85409          576045      False  1212184310389850119  \n",
       "2              27567          132633      False  1212182267113680896  \n",
       "3              10796               0       True  1212181341078458369  \n",
       "4               8893               0       True  1212181071988703232  \n",
       "...              ...             ...        ...                  ...  \n",
       "14061          24700          111106      False   804848711599882240  \n",
       "14062          17283           72196      False   804516764562374656  \n",
       "14063           5564           31256      False   804458095569158144  \n",
       "14064           9834           57249      False   804333771021570048  \n",
       "14065          12077           65724      False   804333718999539712  \n",
       "\n",
       "[14066 rows x 7 columns]"
      ]
     },
     "execution_count": 2,
     "metadata": {},
     "output_type": "execute_result"
    }
   ],
   "source": [
    "## Load in the finding-trump.csv\n",
    "finding_trump = '../finding-trump.csv'\n",
    "df = pd.read_csv(finding_trump)\n",
    "df"
   ]
  },
  {
   "cell_type": "code",
   "execution_count": 3,
   "metadata": {
    "ExecuteTime": {
     "end_time": "2021-06-03T00:16:37.709594Z",
     "start_time": "2021-06-03T00:16:37.705253Z"
    }
   },
   "outputs": [
    {
     "data": {
      "text/plain": [
       "['https://t.co/EVAEYD1AgV',\n",
       " 'HAPPY NEW YEAR!',\n",
       " 'Our fantastic First Lady! https://t.co/6iswto4WDI',\n",
       " 'RT @DanScavino: https://t.co/CJRPySkF1Z',\n",
       " 'RT @SenJohnKennedy: I think Speaker Pelosi is having 2nd thoughts about impeaching the President. The Senate should get back to work on USM…']"
      ]
     },
     "execution_count": 3,
     "metadata": {},
     "output_type": "execute_result"
    }
   ],
   "source": [
    "## Create a variable \"corpus\" containing all text\n",
    "corpus = df['text'].to_list()\n",
    "\n",
    "## Preview first 5 entries \n",
    "corpus[:5]"
   ]
  },
  {
   "cell_type": "markdown",
   "metadata": {},
   "source": [
    "### Make a Bag-of-Words Frequency Distribution "
   ]
  },
  {
   "cell_type": "markdown",
   "metadata": {},
   "source": [
    "- \"bag-of-words\": collection of all words from a corpus and their frequencies\n"
   ]
  },
  {
   "cell_type": "code",
   "execution_count": 4,
   "metadata": {
    "ExecuteTime": {
     "end_time": "2021-06-03T00:16:38.588741Z",
     "start_time": "2021-06-03T00:16:37.711592Z"
    }
   },
   "outputs": [],
   "source": [
    "from nltk import FreqDist"
   ]
  },
  {
   "cell_type": "code",
   "execution_count": 5,
   "metadata": {
    "ExecuteTime": {
     "end_time": "2021-06-03T00:16:39.559417Z",
     "start_time": "2021-06-03T00:16:38.590373Z"
    }
   },
   "outputs": [
    {
     "data": {
      "text/plain": [
       "[(' ', 355279),\n",
       " ('e', 193636),\n",
       " ('t', 151004),\n",
       " ('a', 133814),\n",
       " ('o', 132306),\n",
       " ('n', 115782),\n",
       " ('i', 111789),\n",
       " ('r', 107277),\n",
       " ('s', 97228),\n",
       " ('h', 76548),\n",
       " ('l', 67415),\n",
       " ('d', 57543),\n",
       " ('u', 46550),\n",
       " ('c', 45746),\n",
       " ('m', 43554),\n",
       " ('p', 37247),\n",
       " ('g', 35477),\n",
       " ('y', 33375),\n",
       " ('.', 32244),\n",
       " ('w', 30005),\n",
       " ('f', 29211),\n",
       " ('b', 22246),\n",
       " ('T', 19911),\n",
       " ('v', 17186),\n",
       " (',', 14545),\n",
       " ('k', 13783),\n",
       " ('/', 13588),\n",
       " ('S', 12999),\n",
       " ('A', 12922),\n",
       " ('R', 12294),\n",
       " ('C', 10866),\n",
       " ('I', 10743),\n",
       " (':', 9821),\n",
       " ('N', 9009),\n",
       " ('!', 8861),\n",
       " ('D', 8787),\n",
       " ('@', 8646),\n",
       " ('M', 8063),\n",
       " ('E', 8008),\n",
       " ('P', 7726),\n",
       " ('W', 7249),\n",
       " ('O', 6828),\n",
       " ('H', 6614),\n",
       " ('B', 6115),\n",
       " ('G', 5937),\n",
       " ('F', 5701),\n",
       " ('L', 4774),\n",
       " ('U', 4765),\n",
       " ('0', 4659),\n",
       " ('x', 4068),\n",
       " ('J', 4060),\n",
       " ('’', 3445),\n",
       " ('1', 3191),\n",
       " ('j', 3084),\n",
       " ('…', 2956),\n",
       " ('2', 2812),\n",
       " ('-', 2672),\n",
       " ('K', 2622),\n",
       " ('V', 2460),\n",
       " ('Y', 2194),\n",
       " (';', 2105),\n",
       " ('z', 2082),\n",
       " ('&', 2079),\n",
       " ('“', 1993),\n",
       " ('”', 1890),\n",
       " ('5', 1848),\n",
       " ('#', 1785),\n",
       " ('3', 1730),\n",
       " ('4', 1620),\n",
       " ('7', 1534),\n",
       " ('6', 1491),\n",
       " ('8', 1468),\n",
       " ('9', 1437),\n",
       " ('q', 1346),\n",
       " ('(', 1181),\n",
       " (')', 1174),\n",
       " (\"'\", 1145),\n",
       " ('?', 1007),\n",
       " ('Z', 922),\n",
       " ('X', 862),\n",
       " ('Q', 828),\n",
       " ('\"', 797),\n",
       " ('%', 487),\n",
       " ('_', 469),\n",
       " ('🇺', 308),\n",
       " ('🇸', 305),\n",
       " ('$', 257),\n",
       " ('–', 166),\n",
       " ('—', 148),\n",
       " ('️', 131),\n",
       " ('\\n', 80),\n",
       " ('‘', 60),\n",
       " ('➡', 59),\n",
       " ('\\u2066', 52),\n",
       " ('\\u2069', 47),\n",
       " ('🚨', 45),\n",
       " ('*', 43),\n",
       " ('✅', 36),\n",
       " ('+', 33),\n",
       " ('、', 30)]"
      ]
     },
     "execution_count": 5,
     "metadata": {},
     "output_type": "execute_result"
    }
   ],
   "source": [
    "## Make a FreqDist from the corpus\n",
    "freq = FreqDist(','.join(corpus))\n",
    "## Display 100 most common words\n",
    "freq.most_common(100)"
   ]
  },
  {
   "cell_type": "markdown",
   "metadata": {},
   "source": [
    "> That's not quite right..."
   ]
  },
  {
   "cell_type": "code",
   "execution_count": 6,
   "metadata": {
    "ExecuteTime": {
     "end_time": "2021-06-03T00:16:41.839349Z",
     "start_time": "2021-06-03T00:16:39.561907Z"
    }
   },
   "outputs": [
    {
     "name": "stdout",
     "output_type": "stream",
     "text": [
      "['https', ':', '//t.co/EVAEYD1AgV', ',', 'HAPPY']\n"
     ]
    }
   ],
   "source": [
    "## Tokenize corpus then generate FreqDist\n",
    "from nltk import word_tokenize\n",
    "\n",
    "## Convert Corpus to Tokens\n",
    "tokens = word_tokenize(','.join(corpus))\n",
    "\n",
    "## Check first 5 tokens\n",
    "print(tokens[:5])"
   ]
  },
  {
   "cell_type": "code",
   "execution_count": 7,
   "metadata": {
    "ExecuteTime": {
     "end_time": "2021-06-03T00:16:42.602950Z",
     "start_time": "2021-06-03T00:16:41.844275Z"
    }
   },
   "outputs": [
    {
     "data": {
      "image/png": "[encoded data removed]",
      "text/plain": [
       "<Figure size 864x576 with 1 Axes>"
      ]
     },
     "metadata": {
      "needs_background": "light"
     },
     "output_type": "display_data"
    },
    {
     "data": {
      "image/png": "[encoded data removed]",
      "text/plain": [
       "<Figure size 864x576 with 1 Axes>"
      ]
     },
     "execution_count": 7,
     "metadata": {},
     "output_type": "execute_result"
    }
   ],
   "source": [
    "## Get FreqDist and plot the 25 most_common tokens\n",
    "freq = FreqDist(tokens)\n",
    "\n",
    "fig, ax = plt.subplots(figsize=(12,8))\n",
    "freq.plot(25);\n",
    "\n",
    "## Rotate \n",
    "ax.set_xticklabels(ax.get_xticklabels(),\n",
    "                   rotation=45,ha='right');\n",
    "fig\n"
   ]
  },
  {
   "cell_type": "code",
   "execution_count": 8,
   "metadata": {
    "ExecuteTime": {
     "end_time": "2021-06-03T00:16:42.901827Z",
     "start_time": "2021-06-03T00:16:42.605849Z"
    }
   },
   "outputs": [
    {
     "data": {
      "text/plain": [
       "<AxesSubplot:ylabel='word'>"
      ]
     },
     "execution_count": 8,
     "metadata": {},
     "output_type": "execute_result"
    },
    {
     "data": {
      "image/png": "[encoded data removed]",
      "text/plain": [
       "<Figure size 864x360 with 1 Axes>"
      ]
     },
     "metadata": {
      "needs_background": "light"
     },
     "output_type": "display_data"
    }
   ],
   "source": [
    "## Get the most_common 100 and make into a dataframe\n",
    "most_common = pd.DataFrame(freq.most_common(100),\n",
    "                           columns=['word','count']).sort_values('count',\n",
    "                                                                 ascending=True)\n",
    "most_common.set_index('word').tail(25).plot(kind='barh',figsize=(12,5))"
   ]
  },
  {
   "cell_type": "code",
   "execution_count": 9,
   "metadata": {
    "ExecuteTime": {
     "end_time": "2021-06-03T00:16:43.190133Z",
     "start_time": "2021-06-03T00:16:42.903905Z"
    }
   },
   "outputs": [
    {
     "data": {
      "image/png": "[encoded data removed]",
      "text/plain": [
       "<Figure size 864x360 with 1 Axes>"
      ]
     },
     "metadata": {
      "needs_background": "light"
     },
     "output_type": "display_data"
    }
   ],
   "source": [
    "def plot_most_common(freq,n=25,figsize=(12,5)):\n",
    "    most_common = pd.DataFrame(freq.most_common(n),\n",
    "                           columns=['word','count']).sort_values('count',\n",
    "                                                                 ascending=True)\n",
    "    most_common.set_index('word').tail(n).plot(kind='barh',figsize=figsize)\n",
    "    \n",
    "plot_most_common(freq)"
   ]
  },
  {
   "cell_type": "markdown",
   "metadata": {},
   "source": [
    "### Dealing with URLs, RT's, and @'s with `TweetTokenizer`"
   ]
  },
  {
   "cell_type": "code",
   "execution_count": 10,
   "metadata": {
    "ExecuteTime": {
     "end_time": "2021-06-03T00:16:45.099833Z",
     "start_time": "2021-06-03T00:16:43.191863Z"
    }
   },
   "outputs": [
    {
     "data": {
      "text/plain": [
       "['https://t.co/EVAEYD1AgV,HAPPY', 'new', 'year', '!', ',']"
      ]
     },
     "execution_count": 10,
     "metadata": {},
     "output_type": "execute_result"
    }
   ],
   "source": [
    "from nltk import TweetTokenizer\n",
    "tokenizer = TweetTokenizer(preserve_case=False,)\n",
    "tweet_tokens = tokenizer.tokenize(','.join(corpus))\n",
    "tweet_tokens[:5]"
   ]
  },
  {
   "cell_type": "code",
   "execution_count": 11,
   "metadata": {
    "ExecuteTime": {
     "end_time": "2021-06-03T00:16:45.528047Z",
     "start_time": "2021-06-03T00:16:45.102239Z"
    }
   },
   "outputs": [
    {
     "data": {
      "image/png": "[encoded data removed]",
      "text/plain": [
       "<Figure size 864x360 with 1 Axes>"
      ]
     },
     "metadata": {
      "needs_background": "light"
     },
     "output_type": "display_data"
    }
   ],
   "source": [
    "## Make a new freq dist for tweet tokens and plot most common\n",
    "tweet_freq = FreqDist(tweet_tokens)\n",
    "plot_most_common(tweet_freq)"
   ]
  },
  {
   "cell_type": "markdown",
   "metadata": {},
   "source": [
    "> Better...but what's our next issue?"
   ]
  },
  {
   "cell_type": "code",
   "execution_count": 12,
   "metadata": {
    "ExecuteTime": {
     "end_time": "2021-06-03T00:16:45.532564Z",
     "start_time": "2021-06-03T00:16:45.530067Z"
    }
   },
   "outputs": [],
   "source": [
    "## Make a list of stopwords to remove\n",
    "from nltk.corpus import stopwords\n",
    "import string"
   ]
  },
  {
   "cell_type": "code",
   "execution_count": 13,
   "metadata": {
    "ExecuteTime": {
     "end_time": "2021-06-03T00:16:45.539620Z",
     "start_time": "2021-06-03T00:16:45.534737Z"
    }
   },
   "outputs": [
    {
     "data": {
      "text/plain": [
       "['i',\n",
       " 'me',\n",
       " 'my',\n",
       " 'myself',\n",
       " 'we',\n",
       " 'our',\n",
       " 'ours',\n",
       " 'ourselves',\n",
       " 'you',\n",
       " \"you're\",\n",
       " \"you've\",\n",
       " \"you'll\",\n",
       " \"you'd\",\n",
       " 'your',\n",
       " 'yours',\n",
       " 'yourself',\n",
       " 'yourselves',\n",
       " 'he',\n",
       " 'him',\n",
       " 'his',\n",
       " 'himself',\n",
       " 'she',\n",
       " \"she's\",\n",
       " 'her',\n",
       " 'hers']"
      ]
     },
     "execution_count": 13,
     "metadata": {},
     "output_type": "execute_result"
    }
   ],
   "source": [
    "# Get all the stop words in the English language and preview first 10\n",
    "stopwords_list = stopwords.words('english')\n",
    "stopwords_list[:25]"
   ]
  },
  {
   "cell_type": "code",
   "execution_count": 14,
   "metadata": {
    "ExecuteTime": {
     "end_time": "2021-06-03T00:16:45.543982Z",
     "start_time": "2021-06-03T00:16:45.540866Z"
    }
   },
   "outputs": [
    {
     "data": {
      "text/plain": [
       "['[', '\\\\', ']', '^', '_', '`', '{', '|', '}', '~']"
      ]
     },
     "execution_count": 14,
     "metadata": {},
     "output_type": "execute_result"
    }
   ],
   "source": [
    "## Add punctuation to stopwords_list\n",
    "stopwords_list.extend(string.punctuation)\n",
    "stopwords_list[-10:]"
   ]
  },
  {
   "cell_type": "code",
   "execution_count": 15,
   "metadata": {
    "ExecuteTime": {
     "end_time": "2021-06-03T00:16:45.547226Z",
     "start_time": "2021-06-03T00:16:45.545260Z"
    }
   },
   "outputs": [],
   "source": [
    "## Add the additional Tweet Punctuation below to stopwords_list\n",
    "additional_punc = ['“','”','...',\"''\",'’','``']\n",
    "stopwords_list.extend(additional_punc)"
   ]
  },
  {
   "cell_type": "code",
   "execution_count": 16,
   "metadata": {
    "ExecuteTime": {
     "end_time": "2021-06-03T00:16:45.551200Z",
     "start_time": "2021-06-03T00:16:45.548713Z"
    }
   },
   "outputs": [
    {
     "name": "stdout",
     "output_type": "stream",
     "text": [
      "True\n"
     ]
    }
   ],
   "source": [
    "## Commentary on not always accepting what is or isn't in stopwords\n",
    "print('until' in stopwords_list)\n"
   ]
  },
  {
   "cell_type": "code",
   "execution_count": 17,
   "metadata": {
    "ExecuteTime": {
     "end_time": "2021-06-03T00:16:45.555033Z",
     "start_time": "2021-06-03T00:16:45.552982Z"
    }
   },
   "outputs": [
    {
     "name": "stdout",
     "output_type": "stream",
     "text": [
      "False\n"
     ]
    }
   ],
   "source": [
    "## Remove until from stopwords_list and check for it again\n",
    "stopwords_list.remove('until')\n",
    "print('until' in stopwords_list)\n"
   ]
  },
  {
   "cell_type": "code",
   "execution_count": 18,
   "metadata": {
    "ExecuteTime": {
     "end_time": "2021-06-03T00:16:46.506024Z",
     "start_time": "2021-06-03T00:16:45.556400Z"
    }
   },
   "outputs": [
    {
     "data": {
      "text/plain": [
       "['https://t.co/evaeyd1agv,happy',\n",
       " 'new',\n",
       " 'year',\n",
       " 'fantastic',\n",
       " 'first',\n",
       " 'lady',\n",
       " 'https://t.co/6iswto4wdi,rt',\n",
       " '@danscavino',\n",
       " 'https://t.co/cjrpyskf1z,rt',\n",
       " '@senjohnkennedy',\n",
       " 'think',\n",
       " 'speaker',\n",
       " 'pelosi',\n",
       " '2nd',\n",
       " 'thoughts',\n",
       " 'impeaching',\n",
       " 'president',\n",
       " 'senate',\n",
       " 'get',\n",
       " 'back',\n",
       " 'work',\n",
       " 'usm',\n",
       " '…',\n",
       " 'thank',\n",
       " 'steve',\n",
       " 'greatest',\n",
       " 'witch',\n",
       " 'hunt',\n",
       " 'u',\n",
       " 'history',\n",
       " 'https://t.co/i3bsnvp6gc,rt',\n",
       " '@thisweekabc',\n",
       " 'sen',\n",
       " 'ron',\n",
       " 'johnson',\n",
       " 'says',\n",
       " 'charges',\n",
       " 'pres',\n",
       " 'trump',\n",
       " 'pretty',\n",
       " 'thin',\n",
       " 'gruel',\n",
       " 'speaker',\n",
       " 'nancy',\n",
       " \"pelosi's\",\n",
       " 'decision',\n",
       " 'withhold',\n",
       " '…',\n",
       " 'rt',\n",
       " '@senjohnkennedy']"
      ]
     },
     "execution_count": 18,
     "metadata": {},
     "output_type": "execute_result"
    }
   ],
   "source": [
    "## Remove stopwords\n",
    "stopped_tokens= [w.lower() for w in tweet_tokens  if w.lower() not in stopwords_list]\n",
    "stopped_tokens[:50]"
   ]
  },
  {
   "cell_type": "code",
   "execution_count": 19,
   "metadata": {
    "ExecuteTime": {
     "end_time": "2021-06-03T00:16:46.919339Z",
     "start_time": "2021-06-03T00:16:46.508024Z"
    }
   },
   "outputs": [
    {
     "data": {
      "image/png": "[encoded data removed]",
      "text/plain": [
       "<Figure size 864x360 with 1 Axes>"
      ]
     },
     "metadata": {
      "needs_background": "light"
     },
     "output_type": "display_data"
    }
   ],
   "source": [
    "## Remake the FreqDist from stopped_tokens\n",
    "freq = FreqDist(stopped_tokens)\n",
    "# freq.most_common(100)\n",
    "plot_most_common(freq,25)"
   ]
  },
  {
   "cell_type": "code",
   "execution_count": 20,
   "metadata": {
    "ExecuteTime": {
     "end_time": "2021-06-03T00:16:46.928797Z",
     "start_time": "2021-06-03T00:16:46.921519Z"
    }
   },
   "outputs": [
    {
     "data": {
      "text/plain": [
       "[('…', 2721),\n",
       " ('rt', 2604),\n",
       " ('great', 2495),\n",
       " ('president', 1626),\n",
       " ('people', 1324),\n",
       " ('trump', 1196),\n",
       " ('democrats', 1163),\n",
       " ('@realdonaldtrump', 1066),\n",
       " ('country', 965),\n",
       " ('news', 937)]"
      ]
     },
     "execution_count": 20,
     "metadata": {},
     "output_type": "execute_result"
    }
   ],
   "source": [
    "freq.most_common(10)"
   ]
  },
  {
   "cell_type": "code",
   "execution_count": 21,
   "metadata": {
    "ExecuteTime": {
     "end_time": "2021-06-03T00:16:46.935063Z",
     "start_time": "2021-06-03T00:16:46.931103Z"
    }
   },
   "outputs": [
    {
     "data": {
      "text/plain": [
       "'co'"
      ]
     },
     "execution_count": 21,
     "metadata": {},
     "output_type": "execute_result"
    }
   ],
   "source": [
    "#### Appending our stopwords list\n",
    "stopwords_list.extend(['…','rt','http','https','co'])\n",
    "stopwords_list[-1]"
   ]
  },
  {
   "cell_type": "code",
   "execution_count": 22,
   "metadata": {
    "ExecuteTime": {
     "end_time": "2021-06-03T00:16:48.378153Z",
     "start_time": "2021-06-03T00:16:46.942360Z"
    }
   },
   "outputs": [
    {
     "data": {
      "image/png": "[encoded data removed]",
      "text/plain": [
       "<Figure size 864x360 with 1 Axes>"
      ]
     },
     "metadata": {
      "needs_background": "light"
     },
     "output_type": "display_data"
    }
   ],
   "source": [
    "## Remake the FreqDist from stopped_tokens\n",
    "stopped_tokens= [w.lower() for w in tweet_tokens  if w.lower() not in stopwords_list]\n",
    "freq = FreqDist(stopped_tokens)\n",
    "# freq.most_common(100)\n",
    "plot_most_common(freq,25)"
   ]
  },
  {
   "cell_type": "markdown",
   "metadata": {},
   "source": [
    "### Additional Ways to Show Frequency"
   ]
  },
  {
   "cell_type": "markdown",
   "metadata": {},
   "source": [
    "- [Word Clouds](https://www.geeksforgeeks.org/generating-word-cloud-python/)"
   ]
  },
  {
   "cell_type": "code",
   "execution_count": 23,
   "metadata": {
    "ExecuteTime": {
     "end_time": "2021-06-03T00:16:49.135529Z",
     "start_time": "2021-06-03T00:16:48.383552Z"
    }
   },
   "outputs": [
    {
     "data": {
      "text/plain": [
       "(-0.5, 399.5, 199.5, -0.5)"
      ]
     },
     "execution_count": 23,
     "metadata": {},
     "output_type": "execute_result"
    },
    {
     "data": {
      "image/png": "[encoded data removed]",
      "text/plain": [
       "<Figure size 864x864 with 1 Axes>"
      ]
     },
     "metadata": {
      "needs_background": "light"
     },
     "output_type": "display_data"
    }
   ],
   "source": [
    "from wordcloud import WordCloud\n",
    "\n",
    "## Initalize a WordCloud with our stopwords_list and no bigrams\n",
    "wordcloud = WordCloud(stopwords=stopwords_list,collocations=False)\n",
    "\n",
    "## Generate wordcloud from stopped_tokens\n",
    "wordcloud.generate(','.join(stopped_tokens))\n",
    "\n",
    "## Plot with matplotlib\n",
    "plt.figure(figsize = (12, 12), facecolor = None) \n",
    "plt.imshow(wordcloud) \n",
    "plt.axis('off')"
   ]
  },
  {
   "cell_type": "markdown",
   "metadata": {},
   "source": [
    "### Comparing Phases of Proprocessing/Tokenization"
   ]
  },
  {
   "cell_type": "code",
   "execution_count": 24,
   "metadata": {
    "ExecuteTime": {
     "end_time": "2021-06-03T00:16:49.162807Z",
     "start_time": "2021-06-03T00:16:49.137796Z"
    }
   },
   "outputs": [
    {
     "data": {
      "application/vnd.jupyter.widget-view+json": {
       "model_id": "1989e13775384856905bd5e8dac53607",
       "version_major": 2,
       "version_minor": 0
      },
      "text/plain": [
       "interactive(children=(IntSlider(value=7032, description='i', max=14065), Output()), _dom_classes=('widget-inte…"
      ]
     },
     "metadata": {},
     "output_type": "display_data"
    }
   ],
   "source": [
    "from ipywidgets import interact\n",
    "\n",
    "@interact\n",
    "def tokenize_tweet(i=(0,len(corpus)-1)):\n",
    "    from nltk.corpus import stopwords\n",
    "    import string\n",
    "    from nltk import word_tokenize,regexp_tokenize\n",
    "    \n",
    "    print(f\"- Tweet #{i}:\\n\")\n",
    "    print(corpus[i],'\\n')\n",
    "    tokens = word_tokenize(corpus[i])\n",
    "\n",
    "    # Get all the stop words in the English language\n",
    "    stopwords_list = stopwords.words('english')\n",
    "    stopwords_list += string.punctuation\n",
    "    stopwords_list += additional_punc\n",
    "    stopped_tokens = [w.lower() for w in tokens if w.lower() not in stopwords_list]\n",
    "    \n",
    "    print(tokens,end='\\n\\n')\n",
    "    print(stopped_tokens)"
   ]
  },
  {
   "cell_type": "markdown",
   "metadata": {},
   "source": [
    "> What recognizable pattern of characters is high on the frequency list?"
   ]
  },
  {
   "cell_type": "markdown",
   "metadata": {},
   "source": [
    "### Other Bag of Words Statistics"
   ]
  },
  {
   "cell_type": "markdown",
   "metadata": {},
   "source": [
    "#### Bigrams"
   ]
  },
  {
   "cell_type": "code",
   "execution_count": 25,
   "metadata": {
    "ExecuteTime": {
     "end_time": "2021-06-03T00:16:50.374261Z",
     "start_time": "2021-06-03T00:16:49.165522Z"
    }
   },
   "outputs": [],
   "source": [
    "import nltk\n",
    "bigram_measures = nltk.collocations.BigramAssocMeasures()\n",
    "tweet_finder = nltk.BigramCollocationFinder.from_words(stopped_tokens)\n",
    "tweets_scored = tweet_finder.score_ngrams(bigram_measures.raw_freq)"
   ]
  },
  {
   "cell_type": "code",
   "execution_count": 26,
   "metadata": {
    "ExecuteTime": {
     "end_time": "2021-06-03T00:16:50.473641Z",
     "start_time": "2021-06-03T00:16:50.376804Z"
    }
   },
   "outputs": [
    {
     "data": {
      "text/html": [
       "<div>\n",
       "<style scoped>\n",
       "    .dataframe tbody tr th:only-of-type {\n",
       "        vertical-align: middle;\n",
       "    }\n",
       "\n",
       "    .dataframe tbody tr th {\n",
       "        vertical-align: top;\n",
       "    }\n",
       "\n",
       "    .dataframe thead th {\n",
       "        text-align: right;\n",
       "    }\n",
       "</style>\n",
       "<table border=\"1\" class=\"dataframe\">\n",
       "  <thead>\n",
       "    <tr style=\"text-align: right;\">\n",
       "      <th></th>\n",
       "      <th>Word</th>\n",
       "      <th>Freq</th>\n",
       "    </tr>\n",
       "  </thead>\n",
       "  <tbody>\n",
       "    <tr>\n",
       "      <th>0</th>\n",
       "      <td>(fake, news)</td>\n",
       "      <td>0.002985</td>\n",
       "    </tr>\n",
       "    <tr>\n",
       "      <th>1</th>\n",
       "      <td>(united, states)</td>\n",
       "      <td>0.002166</td>\n",
       "    </tr>\n",
       "    <tr>\n",
       "      <th>2</th>\n",
       "      <td>(witch, hunt)</td>\n",
       "      <td>0.001576</td>\n",
       "    </tr>\n",
       "    <tr>\n",
       "      <th>3</th>\n",
       "      <td>(president, trump)</td>\n",
       "      <td>0.001481</td>\n",
       "    </tr>\n",
       "    <tr>\n",
       "      <th>4</th>\n",
       "      <td>(🇺, 🇸)</td>\n",
       "      <td>0.001394</td>\n",
       "    </tr>\n",
       "    <tr>\n",
       "      <th>5</th>\n",
       "      <td>(white, house)</td>\n",
       "      <td>0.001092</td>\n",
       "    </tr>\n",
       "    <tr>\n",
       "      <th>6</th>\n",
       "      <td>(america, great)</td>\n",
       "      <td>0.001078</td>\n",
       "    </tr>\n",
       "    <tr>\n",
       "      <th>7</th>\n",
       "      <td>(news, media)</td>\n",
       "      <td>0.000987</td>\n",
       "    </tr>\n",
       "    <tr>\n",
       "      <th>8</th>\n",
       "      <td>(president, @realdonaldtrump)</td>\n",
       "      <td>0.000973</td>\n",
       "    </tr>\n",
       "    <tr>\n",
       "      <th>9</th>\n",
       "      <td>(north, korea)</td>\n",
       "      <td>0.000886</td>\n",
       "    </tr>\n",
       "  </tbody>\n",
       "</table>\n",
       "</div>"
      ],
      "text/plain": [
       "                            Word      Freq\n",
       "0                   (fake, news)  0.002985\n",
       "1               (united, states)  0.002166\n",
       "2                  (witch, hunt)  0.001576\n",
       "3             (president, trump)  0.001481\n",
       "4                         (🇺, 🇸)  0.001394\n",
       "5                 (white, house)  0.001092\n",
       "6               (america, great)  0.001078\n",
       "7                  (news, media)  0.000987\n",
       "8  (president, @realdonaldtrump)  0.000973\n",
       "9                 (north, korea)  0.000886"
      ]
     },
     "execution_count": 26,
     "metadata": {},
     "output_type": "execute_result"
    }
   ],
   "source": [
    "## Make a DataFrame from the Bigrams\n",
    "pd.DataFrame(tweets_scored, columns=[\"Word\",\"Freq\"]).head(10)"
   ]
  },
  {
   "cell_type": "markdown",
   "metadata": {},
   "source": [
    "#### Mutual Information Scores"
   ]
  },
  {
   "cell_type": "code",
   "execution_count": 27,
   "metadata": {
    "ExecuteTime": {
     "end_time": "2021-06-03T00:16:51.023293Z",
     "start_time": "2021-06-03T00:16:50.476290Z"
    }
   },
   "outputs": [],
   "source": [
    "import nltk\n",
    "bigram_measures = nltk.collocations.BigramAssocMeasures()\n",
    "\n",
    "tweet_pmi_finder = nltk.BigramCollocationFinder.from_words(stopped_tokens)\n",
    "tweet_pmi_finder.apply_freq_filter(3)\n",
    "\n",
    "tweet_pmi_scored = tweet_pmi_finder.score_ngrams(bigram_measures.pmi)"
   ]
  },
  {
   "cell_type": "code",
   "execution_count": 28,
   "metadata": {
    "ExecuteTime": {
     "end_time": "2021-06-03T00:16:51.042087Z",
     "start_time": "2021-06-03T00:16:51.025282Z"
    }
   },
   "outputs": [
    {
     "data": {
      "text/html": [
       "<div>\n",
       "<style scoped>\n",
       "    .dataframe tbody tr th:only-of-type {\n",
       "        vertical-align: middle;\n",
       "    }\n",
       "\n",
       "    .dataframe tbody tr th {\n",
       "        vertical-align: top;\n",
       "    }\n",
       "\n",
       "    .dataframe thead th {\n",
       "        text-align: right;\n",
       "    }\n",
       "</style>\n",
       "<table border=\"1\" class=\"dataframe\">\n",
       "  <thead>\n",
       "    <tr style=\"text-align: right;\">\n",
       "      <th></th>\n",
       "      <th>Words</th>\n",
       "      <th>PMI</th>\n",
       "    </tr>\n",
       "  </thead>\n",
       "  <tbody>\n",
       "    <tr>\n",
       "      <th>0</th>\n",
       "      <td>(arnold, schwarzenegger)</td>\n",
       "      <td>16.086109</td>\n",
       "    </tr>\n",
       "    <tr>\n",
       "      <th>1</th>\n",
       "      <td>(bashar, al-assad)</td>\n",
       "      <td>16.086109</td>\n",
       "    </tr>\n",
       "    <tr>\n",
       "      <th>2</th>\n",
       "      <td>(des, moines)</td>\n",
       "      <td>16.086109</td>\n",
       "    </tr>\n",
       "    <tr>\n",
       "      <th>3</th>\n",
       "      <td>(geary, higgins)</td>\n",
       "      <td>16.086109</td>\n",
       "    </tr>\n",
       "    <tr>\n",
       "      <th>4</th>\n",
       "      <td>(jamie, dimon)</td>\n",
       "      <td>16.086109</td>\n",
       "    </tr>\n",
       "    <tr>\n",
       "      <th>5</th>\n",
       "      <td>(pam, bondi)</td>\n",
       "      <td>16.086109</td>\n",
       "    </tr>\n",
       "    <tr>\n",
       "      <th>6</th>\n",
       "      <td>(vadym, prystaiko)</td>\n",
       "      <td>16.086109</td>\n",
       "    </tr>\n",
       "    <tr>\n",
       "      <th>7</th>\n",
       "      <td>(۴۰, سال)</td>\n",
       "      <td>16.086109</td>\n",
       "    </tr>\n",
       "    <tr>\n",
       "      <th>8</th>\n",
       "      <td>(⛈, 🌪)</td>\n",
       "      <td>16.086109</td>\n",
       "    </tr>\n",
       "    <tr>\n",
       "      <th>9</th>\n",
       "      <td>(@erik_paulsen, @jason2cd)</td>\n",
       "      <td>15.671071</td>\n",
       "    </tr>\n",
       "    <tr>\n",
       "      <th>10</th>\n",
       "      <td>(alexandria, ocasio-cortez)</td>\n",
       "      <td>15.671071</td>\n",
       "    </tr>\n",
       "    <tr>\n",
       "      <th>11</th>\n",
       "      <td>(bin, laden)</td>\n",
       "      <td>15.671071</td>\n",
       "    </tr>\n",
       "    <tr>\n",
       "      <th>12</th>\n",
       "      <td>(cape, girardeau)</td>\n",
       "      <td>15.671071</td>\n",
       "    </tr>\n",
       "    <tr>\n",
       "      <th>13</th>\n",
       "      <td>(ernie, els)</td>\n",
       "      <td>15.671071</td>\n",
       "    </tr>\n",
       "    <tr>\n",
       "      <th>14</th>\n",
       "      <td>(estate, developers)</td>\n",
       "      <td>15.671071</td>\n",
       "    </tr>\n",
       "    <tr>\n",
       "      <th>15</th>\n",
       "      <td>(giuseppe, conte)</td>\n",
       "      <td>15.671071</td>\n",
       "    </tr>\n",
       "    <tr>\n",
       "      <th>16</th>\n",
       "      <td>(julian, assange)</td>\n",
       "      <td>15.671071</td>\n",
       "    </tr>\n",
       "    <tr>\n",
       "      <th>17</th>\n",
       "      <td>(mariano, rivera)</td>\n",
       "      <td>15.671071</td>\n",
       "    </tr>\n",
       "    <tr>\n",
       "      <th>18</th>\n",
       "      <td>(mcas, cherry)</td>\n",
       "      <td>15.671071</td>\n",
       "    </tr>\n",
       "    <tr>\n",
       "      <th>19</th>\n",
       "      <td>(solitary, confinement)</td>\n",
       "      <td>15.671071</td>\n",
       "    </tr>\n",
       "  </tbody>\n",
       "</table>\n",
       "</div>"
      ],
      "text/plain": [
       "                          Words        PMI\n",
       "0      (arnold, schwarzenegger)  16.086109\n",
       "1            (bashar, al-assad)  16.086109\n",
       "2                 (des, moines)  16.086109\n",
       "3              (geary, higgins)  16.086109\n",
       "4                (jamie, dimon)  16.086109\n",
       "5                  (pam, bondi)  16.086109\n",
       "6            (vadym, prystaiko)  16.086109\n",
       "7                     (۴۰, سال)  16.086109\n",
       "8                        (⛈, 🌪)  16.086109\n",
       "9    (@erik_paulsen, @jason2cd)  15.671071\n",
       "10  (alexandria, ocasio-cortez)  15.671071\n",
       "11                 (bin, laden)  15.671071\n",
       "12            (cape, girardeau)  15.671071\n",
       "13                 (ernie, els)  15.671071\n",
       "14         (estate, developers)  15.671071\n",
       "15            (giuseppe, conte)  15.671071\n",
       "16            (julian, assange)  15.671071\n",
       "17            (mariano, rivera)  15.671071\n",
       "18               (mcas, cherry)  15.671071\n",
       "19      (solitary, confinement)  15.671071"
      ]
     },
     "execution_count": 28,
     "metadata": {},
     "output_type": "execute_result"
    }
   ],
   "source": [
    "## Make a DataFrame from the Bigrams with PMI\n",
    "pd.DataFrame(tweet_pmi_scored,columns=['Words','PMI']).head(20)"
   ]
  },
  {
   "cell_type": "markdown",
   "metadata": {},
   "source": [
    "### Regular Expressions"
   ]
  },
  {
   "cell_type": "markdown",
   "metadata": {},
   "source": [
    "- Regular expressions can help us capture/remove complicated patterns in our text.\n",
    "- Best regexp resource and tester: https://regex101.com/\n",
    "\n",
    "    - Make sure to check \"Python\" under Flavor menu on left side.\n",
    "    \n",
    "    \n",
    "- Let's use regular expressions to remove URLs"
   ]
  },
  {
   "cell_type": "code",
   "execution_count": 29,
   "metadata": {
    "ExecuteTime": {
     "end_time": "2021-06-03T00:16:51.048564Z",
     "start_time": "2021-06-03T00:16:51.044250Z"
    }
   },
   "outputs": [
    {
     "data": {
      "text/plain": [
       "'I will be in Green Bay Wisconsin on Saturday April 27th at the Resch Center — 7:00pm (CDT). Big crowd expected! #MAGA https://t.co/BPYK8PF0O8'"
      ]
     },
     "execution_count": 29,
     "metadata": {},
     "output_type": "execute_result"
    }
   ],
   "source": [
    "## Select an example tweet\n",
    "text =  corpus[6615]\n",
    "text"
   ]
  },
  {
   "cell_type": "code",
   "execution_count": 30,
   "metadata": {
    "ExecuteTime": {
     "end_time": "2021-06-03T00:16:51.054516Z",
     "start_time": "2021-06-03T00:16:51.050987Z"
    }
   },
   "outputs": [
    {
     "data": {
      "text/plain": [
       "'RT @real_defender: @realDonaldTrump Protecting America and putting Americans first. Thank you Mr. President!'"
      ]
     },
     "execution_count": 30,
     "metadata": {},
     "output_type": "execute_result"
    }
   ],
   "source": [
    "## Select a second example tweet\n",
    "text2=corpus[7347]\n",
    "text2"
   ]
  },
  {
   "cell_type": "code",
   "execution_count": 31,
   "metadata": {
    "ExecuteTime": {
     "end_time": "2021-06-03T00:16:51.061119Z",
     "start_time": "2021-06-03T00:16:51.056605Z"
    }
   },
   "outputs": [
    {
     "data": {
      "text/plain": [
       "['I',\n",
       " 'will',\n",
       " 'be',\n",
       " 'in',\n",
       " 'Green',\n",
       " 'Bay',\n",
       " 'Wisconsin',\n",
       " 'on',\n",
       " 'Saturday',\n",
       " 'April',\n",
       " 'th',\n",
       " 'at',\n",
       " 'the',\n",
       " 'Resch',\n",
       " 'Center',\n",
       " 'pm',\n",
       " 'CDT',\n",
       " 'Big',\n",
       " 'crowd',\n",
       " 'expected',\n",
       " 'MAGA',\n",
       " 'https',\n",
       " 't',\n",
       " 'co',\n",
       " 'BPYK',\n",
       " 'PF',\n",
       " 'O']"
      ]
     },
     "execution_count": 31,
     "metadata": {},
     "output_type": "execute_result"
    }
   ],
   "source": [
    "## From tjhe lessons\n",
    "from nltk import regexp_tokenize\n",
    "pattern = r\"([a-zA-Z]+(?:'[a-z]+)?)\"\n",
    "regexp_tokenize(text,pattern)"
   ]
  },
  {
   "cell_type": "markdown",
   "metadata": {},
   "source": [
    "### Let's use regex to find/remove URLS"
   ]
  },
  {
   "cell_type": "markdown",
   "metadata": {},
   "source": [
    "- www.regex101.com\n",
    "    - Copy and paste example text to search\n",
    "    - Test out regular expressions and see what they pick up"
   ]
  },
  {
   "cell_type": "code",
   "execution_count": 32,
   "metadata": {
    "ExecuteTime": {
     "end_time": "2021-06-03T00:16:51.066674Z",
     "start_time": "2021-06-03T00:16:51.063750Z"
    }
   },
   "outputs": [
    {
     "name": "stdout",
     "output_type": "stream",
     "text": [
      "I will be in Green Bay Wisconsin on Saturday April 27th at the Resch Center — 7:00pm (CDT). Big crowd expected! #MAGA https://t.co/BPYK8PF0O8 RT @real_defender: @realDonaldTrump Protecting America and putting Americans first. Thank you Mr. President!\n"
     ]
    }
   ],
   "source": [
    "print(text,text2)"
   ]
  },
  {
   "cell_type": "code",
   "execution_count": 33,
   "metadata": {
    "ExecuteTime": {
     "end_time": "2021-06-03T00:16:51.072325Z",
     "start_time": "2021-06-03T00:16:51.068918Z"
    }
   },
   "outputs": [
    {
     "data": {
      "text/plain": [
       "['https://t.co/BPYK8PF0O8']"
      ]
     },
     "execution_count": 33,
     "metadata": {},
     "output_type": "execute_result"
    }
   ],
   "source": [
    "import re\n",
    "re.findall(r\"(https://\\w*\\.\\w*/+\\w+)\",text)"
   ]
  },
  {
   "cell_type": "code",
   "execution_count": 34,
   "metadata": {
    "ExecuteTime": {
     "end_time": "2021-06-03T00:16:51.078475Z",
     "start_time": "2021-06-03T00:16:51.074155Z"
    }
   },
   "outputs": [],
   "source": [
    "def clean_text(text,regex=True):\n",
    "    from nltk.corpus import stopwords\n",
    "    import string\n",
    "    from nltk import word_tokenize,regexp_tokenize\n",
    "\n",
    "    ## tokenize text\n",
    "    if regex:\n",
    "        pattern = r\"([a-zA-Z]+(?:'[a-z]+)?)\"\n",
    "        tokens= regexp_tokenize(text,pattern)\n",
    "    else:\n",
    "        tokens = word_tokenize(text)\n",
    "        \n",
    "    # Get all the stop words in the English language\n",
    "    stopwords_list = stopwords.words('english')\n",
    "    stopwords_list += string.punctuation\n",
    "    \n",
    "    stopped_tokens = [w.lower() for w in tokens if w not in stopwords_list]\n",
    "    \n",
    "    return stopped_tokens"
   ]
  },
  {
   "cell_type": "code",
   "execution_count": 35,
   "metadata": {
    "ExecuteTime": {
     "end_time": "2021-06-03T00:16:51.084750Z",
     "start_time": "2021-06-03T00:16:51.080876Z"
    }
   },
   "outputs": [],
   "source": [
    "## Other uses of RegEx for Tweet preprocessing\n",
    "import re\n",
    "\n",
    "def find_urls(string): \n",
    "    return re.findall(r\"(http[s]?://\\w*\\.\\w*/+\\w+)\",string)\n",
    "\n",
    "def find_hashtags(string):\n",
    "    return re.findall(r'\\#\\w*',string)\n",
    "\n",
    "def find_retweets(string):\n",
    "    return re.findall(r'RT [@]?\\w*:',string)\n",
    "\n",
    "def find_mentions(string):\n",
    "    return re.findall(r'\\@\\w*',string)"
   ]
  },
  {
   "cell_type": "code",
   "execution_count": 36,
   "metadata": {
    "ExecuteTime": {
     "end_time": "2021-06-03T00:16:51.090854Z",
     "start_time": "2021-06-03T00:16:51.086930Z"
    }
   },
   "outputs": [
    {
     "data": {
      "text/plain": [
       "'I will be in Green Bay Wisconsin on Saturday April 27th at the Resch Center — 7:00pm (CDT). Big crowd expected! #MAGA https://t.co/BPYK8PF0O8'"
      ]
     },
     "execution_count": 36,
     "metadata": {},
     "output_type": "execute_result"
    }
   ],
   "source": [
    "text"
   ]
  },
  {
   "cell_type": "code",
   "execution_count": 37,
   "metadata": {
    "ExecuteTime": {
     "end_time": "2021-06-03T00:16:51.096565Z",
     "start_time": "2021-06-03T00:16:51.092774Z"
    }
   },
   "outputs": [
    {
     "data": {
      "text/plain": [
       "['https://t.co/BPYK8PF0O8']"
      ]
     },
     "execution_count": 37,
     "metadata": {},
     "output_type": "execute_result"
    }
   ],
   "source": [
    "find_urls(text)"
   ]
  },
  {
   "cell_type": "code",
   "execution_count": 38,
   "metadata": {
    "ExecuteTime": {
     "end_time": "2021-06-03T00:16:51.102444Z",
     "start_time": "2021-06-03T00:16:51.098551Z"
    }
   },
   "outputs": [
    {
     "data": {
      "text/plain": [
       "['@real_defender', '@realDonaldTrump']"
      ]
     },
     "execution_count": 38,
     "metadata": {},
     "output_type": "execute_result"
    }
   ],
   "source": [
    "find_mentions(text2)"
   ]
  },
  {
   "cell_type": "markdown",
   "metadata": {},
   "source": [
    "## Stemming/Lemmatization"
   ]
  },
  {
   "cell_type": "code",
   "execution_count": 39,
   "metadata": {
    "ExecuteTime": {
     "end_time": "2021-06-03T00:16:52.939134Z",
     "start_time": "2021-06-03T00:16:51.104449Z"
    }
   },
   "outputs": [
    {
     "name": "stdout",
     "output_type": "stream",
     "text": [
      "foot\n",
      "running\n"
     ]
    }
   ],
   "source": [
    "from nltk.stem.wordnet import WordNetLemmatizer\n",
    "\n",
    "lemmatizer = WordNetLemmatizer()\n",
    "\n",
    "print(lemmatizer.lemmatize('feet')) # foot\n",
    "print(lemmatizer.lemmatize('running')) # run [?!] Does not match expected output"
   ]
  },
  {
   "cell_type": "code",
   "execution_count": 40,
   "metadata": {
    "ExecuteTime": {
     "end_time": "2021-06-03T00:16:52.944267Z",
     "start_time": "2021-06-03T00:16:52.940983Z"
    }
   },
   "outputs": [
    {
     "data": {
      "text/plain": [
       "'I will be in Green Bay Wisconsin on Saturday April 27th at the Resch Center — 7:00pm (CDT). Big crowd expected! #MAGA https://t.co/BPYK8PF0O8'"
      ]
     },
     "execution_count": 40,
     "metadata": {},
     "output_type": "execute_result"
    }
   ],
   "source": [
    "text_in =  corpus[6615]\n",
    "text_in"
   ]
  },
  {
   "cell_type": "code",
   "execution_count": 41,
   "metadata": {
    "ExecuteTime": {
     "end_time": "2021-06-03T00:16:52.949938Z",
     "start_time": "2021-06-03T00:16:52.945862Z"
    }
   },
   "outputs": [],
   "source": [
    "def process_tweet(text,as_lemmas=False,as_tokens=True):\n",
    "#     text=text.copy()\n",
    "    for x in find_urls(text):\n",
    "        text = text.replace(x,'')\n",
    "        \n",
    "    for x in find_retweets(text):\n",
    "        text = text.replace(x,'')    \n",
    "        \n",
    "    for x in find_hashtags(text):\n",
    "        text = text.replace(x,'')    \n",
    "\n",
    "    if as_lemmas:\n",
    "        from nltk.stem.wordnet import WordNetLemmatizer\n",
    "        lemmatizer = WordNetLemmatizer()\n",
    "        text = lemmatizer.lemmatize(text)\n",
    "    \n",
    "    if as_tokens:\n",
    "        text = clean_text(text)\n",
    "    \n",
    "    if len(text)==0:\n",
    "        text=''\n",
    "            \n",
    "    return text"
   ]
  },
  {
   "cell_type": "code",
   "execution_count": 42,
   "metadata": {
    "ExecuteTime": {
     "end_time": "2021-06-03T00:16:52.977446Z",
     "start_time": "2021-06-03T00:16:52.951731Z"
    }
   },
   "outputs": [
    {
     "data": {
      "application/vnd.jupyter.widget-view+json": {
       "model_id": "f0e12d1387544d9a8381707889e119e9",
       "version_major": 2,
       "version_minor": 0
      },
      "text/plain": [
       "interactive(children=(IntSlider(value=7032, description='i', max=14065), Output()), _dom_classes=('widget-inte…"
      ]
     },
     "metadata": {},
     "output_type": "display_data"
    }
   ],
   "source": [
    "@interact\n",
    "def show_processed_text(i=(0,len(corpus)-1)):\n",
    "    text_in = corpus[i]#.copy()\n",
    "    print(text_in)\n",
    "    text_out = process_tweet(text_in)\n",
    "    print(text_out)\n",
    "    text_out2 = process_tweet(text_in,as_lemmas=True)\n",
    "    print(text_out2)"
   ]
  },
  {
   "cell_type": "code",
   "execution_count": 43,
   "metadata": {
    "ExecuteTime": {
     "end_time": "2021-06-03T00:16:52.983980Z",
     "start_time": "2021-06-03T00:16:52.979480Z"
    }
   },
   "outputs": [
    {
     "data": {
      "text/plain": [
       "['https://t.co/EVAEYD1AgV',\n",
       " 'HAPPY NEW YEAR!',\n",
       " 'Our fantastic First Lady! https://t.co/6iswto4WDI',\n",
       " 'RT @DanScavino: https://t.co/CJRPySkF1Z',\n",
       " 'RT @SenJohnKennedy: I think Speaker Pelosi is having 2nd thoughts about impeaching the President. The Senate should get back to work on USM…',\n",
       " 'Thank you Steve. The greatest Witch Hunt in U.S. history! https://t.co/I3bSNVp6gC']"
      ]
     },
     "execution_count": 43,
     "metadata": {},
     "output_type": "execute_result"
    }
   ],
   "source": [
    "corpus[:6]"
   ]
  },
  {
   "cell_type": "markdown",
   "metadata": {},
   "source": [
    "## Text Vectorization"
   ]
  },
  {
   "cell_type": "markdown",
   "metadata": {},
   "source": [
    "- For computers to process text it needs to be converted to a numerical representation of the text.\n",
    "- **There are several different ways we can vectorize our text:**\n",
    "    - Count vectorization\n",
    "    - Term Frequency-Inverse Document Frequency (TF-IDF)\n",
    "        -  Used for multiple texts\n",
    "    - Word Embeddings (Deep NLP)\n",
    "    \n",
    "    \n",
    ">- **_Term Frequency_** is calculated with the following formula:\n",
    "$$ \\text{Term Frequency}(t) = \\frac{\\text{number of times it appears in a document}} {\\text{total number of terms in the document}} $$ <br>\n",
    "- Which can also be represented as:\n",
    "$$\\begin{align}\n",
    " \\text{tf}_{i,j} = \\dfrac{n_{i,j}}{\\displaystyle \\sum_k n_{i,j} }\n",
    "\\end{align} $$\n",
    "\n",
    "> - **_Inverse Document Frequency_** is calculated with the following formula:\n",
    "$$ IDF(t) = log_e(\\frac{\\text{Total Number of Documents}}{\\text{Number of Documents with it in it}})$$<br>\n",
    "- Which can also be represented as: \n",
    "$$\\begin{align}\n",
    "idf(w) = \\log \\dfrac{N}{df_t}\n",
    "\\end{align} $$\n",
    "\n",
    "> The **_TF-IDF_** value for a given word in a given document is just found by multiplying the two!\n",
    "$$ \\begin{align}\n",
    "w_{i,j} = tf_{i,j} \\times \\log \\dfrac{N}{df_i} \\\\\n",
    "tf_{i,j} = \\text{number of occurences of } i \\text{ in} j \\\\\n",
    "df_i = \\text{number of documents containing } i \\\\\n",
    "N = \\text{total number of documents}\n",
    "\\end{align} $$\n",
    "\n",
    "- There are additional ways to vectorize using Deep Neural Networks to create Word Embeddings (see Module 4 > Appendix: Deep NLP)"
   ]
  },
  {
   "cell_type": "markdown",
   "metadata": {},
   "source": [
    "## Summary: Feature Engineering for Text Data"
   ]
  },
  {
   "cell_type": "markdown",
   "metadata": {},
   "source": [
    "\n",
    "* Do we remove stop words or not?    \n",
    "* Do we stem or lemmatize our text data, or leave the words as is?   \n",
    "* Is basic tokenization enough, or do we need to support special edge cases through the use of regex?  \n",
    "* Do we use the entire vocabulary, or just limit the model to a subset of the most frequently used words? If so, how many?  \n",
    "* Do we engineer other features, such as bigrams, or POS tags, or Mutual Information Scores?   \n",
    "* What sort of vectorization should we use in our model? Boolean Vectorization? Count Vectorization? TF-IDF? More advanced vectorization strategies such as Word2Vec?  \n"
   ]
  },
  {
   "cell_type": "markdown",
   "metadata": {},
   "source": [
    "# ACTIVITY: Text Classifcation - Finding Trump"
   ]
  },
  {
   "cell_type": "markdown",
   "metadata": {},
   "source": [
    "## The Task - Finding Trump\n",
    "\n",
    "> - All presidents have staffers help maintain their social media presence on their behalf. \n",
    "- Early During His Presidency, Donald Trump refused to stop using his insecure and unofficial Android Phone\n",
    "- During this time period, his staffers were the ones Tweeting from the official presidential iPhone.\n",
    "\n",
    "> - Therefore, if we isolate our dataset to ONLY the times where Trump's account was posting from BOTH android and iphone, we can then assume that Android Tweets are Trump and that iPhone tweets are his staffers.\n",
    "\n",
    "> #### Now that we know that... let's build a NLP classification model to Find Trump!"
   ]
  },
  {
   "cell_type": "code",
   "execution_count": 46,
   "metadata": {
    "ExecuteTime": {
     "end_time": "2021-06-03T00:17:06.408602Z",
     "start_time": "2021-06-03T00:17:05.291387Z"
    }
   },
   "outputs": [
    {
     "data": {
      "text/html": [
       "<div>\n",
       "<style scoped>\n",
       "    .dataframe tbody tr th:only-of-type {\n",
       "        vertical-align: middle;\n",
       "    }\n",
       "\n",
       "    .dataframe tbody tr th {\n",
       "        vertical-align: top;\n",
       "    }\n",
       "\n",
       "    .dataframe thead th {\n",
       "        text-align: right;\n",
       "    }\n",
       "</style>\n",
       "<table border=\"1\" class=\"dataframe\">\n",
       "  <thead>\n",
       "    <tr style=\"text-align: right;\">\n",
       "      <th></th>\n",
       "      <th>source</th>\n",
       "      <th>text</th>\n",
       "      <th>retweet_count</th>\n",
       "      <th>favorite_count</th>\n",
       "      <th>is_retweet</th>\n",
       "      <th>id_str</th>\n",
       "    </tr>\n",
       "    <tr>\n",
       "      <th>created_at</th>\n",
       "      <th></th>\n",
       "      <th></th>\n",
       "      <th></th>\n",
       "      <th></th>\n",
       "      <th></th>\n",
       "      <th></th>\n",
       "    </tr>\n",
       "  </thead>\n",
       "  <tbody>\n",
       "    <tr>\n",
       "      <th>2016-12-01 14:37:57</th>\n",
       "      <td>Twitter for iPhone</td>\n",
       "      <td>My thoughts and prayers are with those affecte...</td>\n",
       "      <td>12077</td>\n",
       "      <td>65724</td>\n",
       "      <td>False</td>\n",
       "      <td>804333718999539712</td>\n",
       "    </tr>\n",
       "    <tr>\n",
       "      <th>2016-12-01 14:38:09</th>\n",
       "      <td>Twitter for Android</td>\n",
       "      <td>Getting ready to leave for the Great State of ...</td>\n",
       "      <td>9834</td>\n",
       "      <td>57249</td>\n",
       "      <td>False</td>\n",
       "      <td>804333771021570048</td>\n",
       "    </tr>\n",
       "    <tr>\n",
       "      <th>2016-12-01 22:52:10</th>\n",
       "      <td>Twitter for iPhone</td>\n",
       "      <td>Heading to U.S. Bank Arena in Cincinnati Ohio ...</td>\n",
       "      <td>5564</td>\n",
       "      <td>31256</td>\n",
       "      <td>False</td>\n",
       "      <td>804458095569158144</td>\n",
       "    </tr>\n",
       "    <tr>\n",
       "      <th>2016-12-02 02:45:18</th>\n",
       "      <td>Twitter for iPhone</td>\n",
       "      <td>Thank you Ohio! Together we made history – and...</td>\n",
       "      <td>17283</td>\n",
       "      <td>72196</td>\n",
       "      <td>False</td>\n",
       "      <td>804516764562374656</td>\n",
       "    </tr>\n",
       "    <tr>\n",
       "      <th>2016-12-03 00:44:20</th>\n",
       "      <td>Twitter for Android</td>\n",
       "      <td>The President of Taiwan CALLED ME today to wis...</td>\n",
       "      <td>24700</td>\n",
       "      <td>111106</td>\n",
       "      <td>False</td>\n",
       "      <td>804848711599882240</td>\n",
       "    </tr>\n",
       "  </tbody>\n",
       "</table>\n",
       "</div>"
      ],
      "text/plain": [
       "                                  source  \\\n",
       "created_at                                 \n",
       "2016-12-01 14:37:57   Twitter for iPhone   \n",
       "2016-12-01 14:38:09  Twitter for Android   \n",
       "2016-12-01 22:52:10   Twitter for iPhone   \n",
       "2016-12-02 02:45:18   Twitter for iPhone   \n",
       "2016-12-03 00:44:20  Twitter for Android   \n",
       "\n",
       "                                                                  text  \\\n",
       "created_at                                                               \n",
       "2016-12-01 14:37:57  My thoughts and prayers are with those affecte...   \n",
       "2016-12-01 14:38:09  Getting ready to leave for the Great State of ...   \n",
       "2016-12-01 22:52:10  Heading to U.S. Bank Arena in Cincinnati Ohio ...   \n",
       "2016-12-02 02:45:18  Thank you Ohio! Together we made history – and...   \n",
       "2016-12-03 00:44:20  The President of Taiwan CALLED ME today to wis...   \n",
       "\n",
       "                     retweet_count  favorite_count is_retweet  \\\n",
       "created_at                                                      \n",
       "2016-12-01 14:37:57          12077           65724      False   \n",
       "2016-12-01 14:38:09           9834           57249      False   \n",
       "2016-12-01 22:52:10           5564           31256      False   \n",
       "2016-12-02 02:45:18          17283           72196      False   \n",
       "2016-12-03 00:44:20          24700          111106      False   \n",
       "\n",
       "                                 id_str  \n",
       "created_at                               \n",
       "2016-12-01 14:37:57  804333718999539712  \n",
       "2016-12-01 14:38:09  804333771021570048  \n",
       "2016-12-01 22:52:10  804458095569158144  \n",
       "2016-12-02 02:45:18  804516764562374656  \n",
       "2016-12-03 00:44:20  804848711599882240  "
      ]
     },
     "execution_count": 46,
     "metadata": {},
     "output_type": "execute_result"
    }
   ],
   "source": [
    "import pandas as pd\n",
    "## Load in the df with created_at as dt index\n",
    "finding_trump = '../finding-trump.csv'#'https://raw.githubusercontent.com/jirvingphd/online-ds-pt-1007109-text-classification-finding-trump/master/finding-trump.csv'\n",
    "\n",
    "df = pd.read_csv(finding_trump,#'https://raw.githubusercontent.com/jirvingphd/capstone-project-using-trumps-tweets-to-predict-stock-market/master/data/trump_tweets_12012016_to_01012020.csv',\n",
    "                index_col='created_at',\n",
    "                 parse_dates=['created_at'])\n",
    "df.sort_index(inplace=True)\n",
    "\n",
    "df.head()"
   ]
  },
  {
   "cell_type": "code",
   "execution_count": 47,
   "metadata": {
    "ExecuteTime": {
     "end_time": "2021-06-03T00:17:06.417556Z",
     "start_time": "2021-06-03T00:17:06.411556Z"
    }
   },
   "outputs": [
    {
     "data": {
      "text/plain": [
       "Twitter for iPhone      13277\n",
       "Twitter for Android       364\n",
       "Media Studio              153\n",
       "Twitter Media Studio      136\n",
       "Twitter Web Client         61\n",
       "Twitter for iPad           38\n",
       "Twitter Ads                33\n",
       "Twitter Web App             4\n",
       "Name: source, dtype: int64"
      ]
     },
     "execution_count": 47,
     "metadata": {},
     "output_type": "execute_result"
    }
   ],
   "source": [
    "## Check Value Counts for Source\n",
    "df['source'].value_counts()"
   ]
  },
  {
   "cell_type": "code",
   "execution_count": 48,
   "metadata": {
    "ExecuteTime": {
     "end_time": "2021-06-03T00:17:06.424938Z",
     "start_time": "2021-06-03T00:17:06.419756Z"
    }
   },
   "outputs": [
    {
     "data": {
      "text/plain": [
       "DatetimeIndex(['2016-12-01 14:38:09', '2016-12-03 00:44:20',\n",
       "               '2016-12-03 01:41:30', '2016-12-03 03:06:41',\n",
       "               '2016-12-03 16:37:27', '2016-12-04 05:13:58',\n",
       "               '2016-12-04 11:41:47', '2016-12-04 11:49:06',\n",
       "               '2016-12-04 11:57:41', '2016-12-04 12:05:35',\n",
       "               ...\n",
       "               '2017-03-05 11:40:20', '2017-03-07 12:04:13',\n",
       "               '2017-03-07 12:13:59', '2017-03-07 13:13:20',\n",
       "               '2017-03-07 13:41:58', '2017-03-07 13:46:28',\n",
       "               '2017-03-07 14:14:03', '2017-03-08 12:11:25',\n",
       "               '2017-03-25 14:37:52', '2017-03-25 14:41:14'],\n",
       "              dtype='datetime64[ns]', name='created_at', length=364, freq=None)"
      ]
     },
     "execution_count": 48,
     "metadata": {},
     "output_type": "execute_result"
    }
   ],
   "source": [
    "## Get time period where Trump still had his personal Android\n",
    "index = df[ df['source']=='Twitter for Android'].index\n",
    "index"
   ]
  },
  {
   "cell_type": "code",
   "execution_count": 49,
   "metadata": {
    "ExecuteTime": {
     "end_time": "2021-06-03T00:17:06.430203Z",
     "start_time": "2021-06-03T00:17:06.426994Z"
    }
   },
   "outputs": [
    {
     "data": {
      "text/plain": [
       "(Timestamp('2016-12-01 14:38:09'), Timestamp('2017-03-25 14:41:14'))"
      ]
     },
     "execution_count": 49,
     "metadata": {},
     "output_type": "execute_result"
    }
   ],
   "source": [
    "## Get Start_ts and end_ts\n",
    "start_ts,end_ts = index[0],index[-1]\n",
    "start_ts,end_ts"
   ]
  },
  {
   "cell_type": "code",
   "execution_count": 50,
   "metadata": {
    "ExecuteTime": {
     "end_time": "2021-06-03T00:17:06.444049Z",
     "start_time": "2021-06-03T00:17:06.431461Z"
    }
   },
   "outputs": [
    {
     "data": {
      "text/html": [
       "<div>\n",
       "<style scoped>\n",
       "    .dataframe tbody tr th:only-of-type {\n",
       "        vertical-align: middle;\n",
       "    }\n",
       "\n",
       "    .dataframe tbody tr th {\n",
       "        vertical-align: top;\n",
       "    }\n",
       "\n",
       "    .dataframe thead th {\n",
       "        text-align: right;\n",
       "    }\n",
       "</style>\n",
       "<table border=\"1\" class=\"dataframe\">\n",
       "  <thead>\n",
       "    <tr style=\"text-align: right;\">\n",
       "      <th></th>\n",
       "      <th>source</th>\n",
       "      <th>text</th>\n",
       "      <th>retweet_count</th>\n",
       "      <th>favorite_count</th>\n",
       "      <th>is_retweet</th>\n",
       "      <th>id_str</th>\n",
       "    </tr>\n",
       "    <tr>\n",
       "      <th>created_at</th>\n",
       "      <th></th>\n",
       "      <th></th>\n",
       "      <th></th>\n",
       "      <th></th>\n",
       "      <th></th>\n",
       "      <th></th>\n",
       "    </tr>\n",
       "  </thead>\n",
       "  <tbody>\n",
       "    <tr>\n",
       "      <th>2016-12-01 14:38:09</th>\n",
       "      <td>Twitter for Android</td>\n",
       "      <td>Getting ready to leave for the Great State of ...</td>\n",
       "      <td>9834</td>\n",
       "      <td>57249</td>\n",
       "      <td>False</td>\n",
       "      <td>804333771021570048</td>\n",
       "    </tr>\n",
       "    <tr>\n",
       "      <th>2016-12-01 22:52:10</th>\n",
       "      <td>Twitter for iPhone</td>\n",
       "      <td>Heading to U.S. Bank Arena in Cincinnati Ohio ...</td>\n",
       "      <td>5564</td>\n",
       "      <td>31256</td>\n",
       "      <td>False</td>\n",
       "      <td>804458095569158144</td>\n",
       "    </tr>\n",
       "    <tr>\n",
       "      <th>2016-12-02 02:45:18</th>\n",
       "      <td>Twitter for iPhone</td>\n",
       "      <td>Thank you Ohio! Together we made history – and...</td>\n",
       "      <td>17283</td>\n",
       "      <td>72196</td>\n",
       "      <td>False</td>\n",
       "      <td>804516764562374656</td>\n",
       "    </tr>\n",
       "    <tr>\n",
       "      <th>2016-12-03 00:44:20</th>\n",
       "      <td>Twitter for Android</td>\n",
       "      <td>The President of Taiwan CALLED ME today to wis...</td>\n",
       "      <td>24700</td>\n",
       "      <td>111106</td>\n",
       "      <td>False</td>\n",
       "      <td>804848711599882240</td>\n",
       "    </tr>\n",
       "    <tr>\n",
       "      <th>2016-12-03 01:41:30</th>\n",
       "      <td>Twitter for Android</td>\n",
       "      <td>Interesting how the U.S. sells Taiwan billions...</td>\n",
       "      <td>38805</td>\n",
       "      <td>122905</td>\n",
       "      <td>False</td>\n",
       "      <td>804863098138005504</td>\n",
       "    </tr>\n",
       "    <tr>\n",
       "      <th>...</th>\n",
       "      <td>...</td>\n",
       "      <td>...</td>\n",
       "      <td>...</td>\n",
       "      <td>...</td>\n",
       "      <td>...</td>\n",
       "      <td>...</td>\n",
       "    </tr>\n",
       "    <tr>\n",
       "      <th>2017-03-24 17:03:46</th>\n",
       "      <td>Twitter for iPhone</td>\n",
       "      <td>Today I was pleased to announce the official a...</td>\n",
       "      <td>12933</td>\n",
       "      <td>66692</td>\n",
       "      <td>False</td>\n",
       "      <td>845320243614547968</td>\n",
       "    </tr>\n",
       "    <tr>\n",
       "      <th>2017-03-24 17:59:42</th>\n",
       "      <td>Twitter for iPhone</td>\n",
       "      <td>Today I was thrilled to announce a commitment ...</td>\n",
       "      <td>20212</td>\n",
       "      <td>89339</td>\n",
       "      <td>False</td>\n",
       "      <td>845334323045765121</td>\n",
       "    </tr>\n",
       "    <tr>\n",
       "      <th>2017-03-25 13:29:17</th>\n",
       "      <td>Twitter for iPhone</td>\n",
       "      <td>Happy #MedalOfHonorDay to our heroes! ➡️https:...</td>\n",
       "      <td>14139</td>\n",
       "      <td>68302</td>\n",
       "      <td>False</td>\n",
       "      <td>845628655493677056</td>\n",
       "    </tr>\n",
       "    <tr>\n",
       "      <th>2017-03-25 14:37:52</th>\n",
       "      <td>Twitter for Android</td>\n",
       "      <td>ObamaCare will explode and we will all get tog...</td>\n",
       "      <td>22518</td>\n",
       "      <td>104321</td>\n",
       "      <td>False</td>\n",
       "      <td>845645916732358656</td>\n",
       "    </tr>\n",
       "    <tr>\n",
       "      <th>2017-03-25 14:41:14</th>\n",
       "      <td>Twitter for Android</td>\n",
       "      <td>Watch @JudgeJeanine on @FoxNews tonight at 9:0...</td>\n",
       "      <td>10116</td>\n",
       "      <td>51247</td>\n",
       "      <td>False</td>\n",
       "      <td>845646761704243200</td>\n",
       "    </tr>\n",
       "  </tbody>\n",
       "</table>\n",
       "<p>617 rows × 6 columns</p>\n",
       "</div>"
      ],
      "text/plain": [
       "                                  source  \\\n",
       "created_at                                 \n",
       "2016-12-01 14:38:09  Twitter for Android   \n",
       "2016-12-01 22:52:10   Twitter for iPhone   \n",
       "2016-12-02 02:45:18   Twitter for iPhone   \n",
       "2016-12-03 00:44:20  Twitter for Android   \n",
       "2016-12-03 01:41:30  Twitter for Android   \n",
       "...                                  ...   \n",
       "2017-03-24 17:03:46   Twitter for iPhone   \n",
       "2017-03-24 17:59:42   Twitter for iPhone   \n",
       "2017-03-25 13:29:17   Twitter for iPhone   \n",
       "2017-03-25 14:37:52  Twitter for Android   \n",
       "2017-03-25 14:41:14  Twitter for Android   \n",
       "\n",
       "                                                                  text  \\\n",
       "created_at                                                               \n",
       "2016-12-01 14:38:09  Getting ready to leave for the Great State of ...   \n",
       "2016-12-01 22:52:10  Heading to U.S. Bank Arena in Cincinnati Ohio ...   \n",
       "2016-12-02 02:45:18  Thank you Ohio! Together we made history – and...   \n",
       "2016-12-03 00:44:20  The President of Taiwan CALLED ME today to wis...   \n",
       "2016-12-03 01:41:30  Interesting how the U.S. sells Taiwan billions...   \n",
       "...                                                                ...   \n",
       "2017-03-24 17:03:46  Today I was pleased to announce the official a...   \n",
       "2017-03-24 17:59:42  Today I was thrilled to announce a commitment ...   \n",
       "2017-03-25 13:29:17  Happy #MedalOfHonorDay to our heroes! ➡️https:...   \n",
       "2017-03-25 14:37:52  ObamaCare will explode and we will all get tog...   \n",
       "2017-03-25 14:41:14  Watch @JudgeJeanine on @FoxNews tonight at 9:0...   \n",
       "\n",
       "                     retweet_count  favorite_count is_retweet  \\\n",
       "created_at                                                      \n",
       "2016-12-01 14:38:09           9834           57249      False   \n",
       "2016-12-01 22:52:10           5564           31256      False   \n",
       "2016-12-02 02:45:18          17283           72196      False   \n",
       "2016-12-03 00:44:20          24700          111106      False   \n",
       "2016-12-03 01:41:30          38805          122905      False   \n",
       "...                            ...             ...        ...   \n",
       "2017-03-24 17:03:46          12933           66692      False   \n",
       "2017-03-24 17:59:42          20212           89339      False   \n",
       "2017-03-25 13:29:17          14139           68302      False   \n",
       "2017-03-25 14:37:52          22518          104321      False   \n",
       "2017-03-25 14:41:14          10116           51247      False   \n",
       "\n",
       "                                 id_str  \n",
       "created_at                               \n",
       "2016-12-01 14:38:09  804333771021570048  \n",
       "2016-12-01 22:52:10  804458095569158144  \n",
       "2016-12-02 02:45:18  804516764562374656  \n",
       "2016-12-03 00:44:20  804848711599882240  \n",
       "2016-12-03 01:41:30  804863098138005504  \n",
       "...                                 ...  \n",
       "2017-03-24 17:03:46  845320243614547968  \n",
       "2017-03-24 17:59:42  845334323045765121  \n",
       "2017-03-25 13:29:17  845628655493677056  \n",
       "2017-03-25 14:37:52  845645916732358656  \n",
       "2017-03-25 14:41:14  845646761704243200  \n",
       "\n",
       "[617 rows x 6 columns]"
      ]
     },
     "execution_count": 50,
     "metadata": {},
     "output_type": "execute_result"
    }
   ],
   "source": [
    "## Slice out the data from start_ts to end_ts\n",
    "df = df.loc[start_ts:end_ts]\n",
    "df"
   ]
  },
  {
   "cell_type": "code",
   "execution_count": 51,
   "metadata": {
    "ExecuteTime": {
     "end_time": "2021-06-03T00:17:06.452700Z",
     "start_time": "2021-06-03T00:17:06.445914Z"
    }
   },
   "outputs": [
    {
     "data": {
      "text/plain": [
       "Twitter for Android    0.589951\n",
       "Twitter for iPhone     0.387358\n",
       "Twitter Web Client     0.022690\n",
       "Name: source, dtype: float64"
      ]
     },
     "execution_count": 51,
     "metadata": {},
     "output_type": "execute_result"
    }
   ],
   "source": [
    "## Check new value counts \n",
    "df['source'].value_counts(1)"
   ]
  },
  {
   "cell_type": "code",
   "execution_count": 52,
   "metadata": {
    "ExecuteTime": {
     "end_time": "2021-06-03T00:17:06.468194Z",
     "start_time": "2021-06-03T00:17:06.454212Z"
    }
   },
   "outputs": [
    {
     "data": {
      "text/html": [
       "<div>\n",
       "<style scoped>\n",
       "    .dataframe tbody tr th:only-of-type {\n",
       "        vertical-align: middle;\n",
       "    }\n",
       "\n",
       "    .dataframe tbody tr th {\n",
       "        vertical-align: top;\n",
       "    }\n",
       "\n",
       "    .dataframe thead th {\n",
       "        text-align: right;\n",
       "    }\n",
       "</style>\n",
       "<table border=\"1\" class=\"dataframe\">\n",
       "  <thead>\n",
       "    <tr style=\"text-align: right;\">\n",
       "      <th></th>\n",
       "      <th>source</th>\n",
       "      <th>text</th>\n",
       "      <th>retweet_count</th>\n",
       "      <th>favorite_count</th>\n",
       "      <th>is_retweet</th>\n",
       "      <th>id_str</th>\n",
       "    </tr>\n",
       "    <tr>\n",
       "      <th>created_at</th>\n",
       "      <th></th>\n",
       "      <th></th>\n",
       "      <th></th>\n",
       "      <th></th>\n",
       "      <th></th>\n",
       "      <th></th>\n",
       "    </tr>\n",
       "  </thead>\n",
       "  <tbody>\n",
       "    <tr>\n",
       "      <th>2016-12-01 14:38:09</th>\n",
       "      <td>Twitter for Android</td>\n",
       "      <td>Getting ready to leave for the Great State of ...</td>\n",
       "      <td>9834</td>\n",
       "      <td>57249</td>\n",
       "      <td>False</td>\n",
       "      <td>804333771021570048</td>\n",
       "    </tr>\n",
       "    <tr>\n",
       "      <th>2016-12-01 22:52:10</th>\n",
       "      <td>Twitter for iPhone</td>\n",
       "      <td>Heading to U.S. Bank Arena in Cincinnati Ohio ...</td>\n",
       "      <td>5564</td>\n",
       "      <td>31256</td>\n",
       "      <td>False</td>\n",
       "      <td>804458095569158144</td>\n",
       "    </tr>\n",
       "    <tr>\n",
       "      <th>2016-12-02 02:45:18</th>\n",
       "      <td>Twitter for iPhone</td>\n",
       "      <td>Thank you Ohio! Together we made history – and...</td>\n",
       "      <td>17283</td>\n",
       "      <td>72196</td>\n",
       "      <td>False</td>\n",
       "      <td>804516764562374656</td>\n",
       "    </tr>\n",
       "    <tr>\n",
       "      <th>2016-12-03 00:44:20</th>\n",
       "      <td>Twitter for Android</td>\n",
       "      <td>The President of Taiwan CALLED ME today to wis...</td>\n",
       "      <td>24700</td>\n",
       "      <td>111106</td>\n",
       "      <td>False</td>\n",
       "      <td>804848711599882240</td>\n",
       "    </tr>\n",
       "    <tr>\n",
       "      <th>2016-12-03 01:41:30</th>\n",
       "      <td>Twitter for Android</td>\n",
       "      <td>Interesting how the U.S. sells Taiwan billions...</td>\n",
       "      <td>38805</td>\n",
       "      <td>122905</td>\n",
       "      <td>False</td>\n",
       "      <td>804863098138005504</td>\n",
       "    </tr>\n",
       "    <tr>\n",
       "      <th>...</th>\n",
       "      <td>...</td>\n",
       "      <td>...</td>\n",
       "      <td>...</td>\n",
       "      <td>...</td>\n",
       "      <td>...</td>\n",
       "      <td>...</td>\n",
       "    </tr>\n",
       "    <tr>\n",
       "      <th>2017-03-24 17:03:46</th>\n",
       "      <td>Twitter for iPhone</td>\n",
       "      <td>Today I was pleased to announce the official a...</td>\n",
       "      <td>12933</td>\n",
       "      <td>66692</td>\n",
       "      <td>False</td>\n",
       "      <td>845320243614547968</td>\n",
       "    </tr>\n",
       "    <tr>\n",
       "      <th>2017-03-24 17:59:42</th>\n",
       "      <td>Twitter for iPhone</td>\n",
       "      <td>Today I was thrilled to announce a commitment ...</td>\n",
       "      <td>20212</td>\n",
       "      <td>89339</td>\n",
       "      <td>False</td>\n",
       "      <td>845334323045765121</td>\n",
       "    </tr>\n",
       "    <tr>\n",
       "      <th>2017-03-25 13:29:17</th>\n",
       "      <td>Twitter for iPhone</td>\n",
       "      <td>Happy #MedalOfHonorDay to our heroes! ➡️https:...</td>\n",
       "      <td>14139</td>\n",
       "      <td>68302</td>\n",
       "      <td>False</td>\n",
       "      <td>845628655493677056</td>\n",
       "    </tr>\n",
       "    <tr>\n",
       "      <th>2017-03-25 14:37:52</th>\n",
       "      <td>Twitter for Android</td>\n",
       "      <td>ObamaCare will explode and we will all get tog...</td>\n",
       "      <td>22518</td>\n",
       "      <td>104321</td>\n",
       "      <td>False</td>\n",
       "      <td>845645916732358656</td>\n",
       "    </tr>\n",
       "    <tr>\n",
       "      <th>2017-03-25 14:41:14</th>\n",
       "      <td>Twitter for Android</td>\n",
       "      <td>Watch @JudgeJeanine on @FoxNews tonight at 9:0...</td>\n",
       "      <td>10116</td>\n",
       "      <td>51247</td>\n",
       "      <td>False</td>\n",
       "      <td>845646761704243200</td>\n",
       "    </tr>\n",
       "  </tbody>\n",
       "</table>\n",
       "<p>603 rows × 6 columns</p>\n",
       "</div>"
      ],
      "text/plain": [
       "                                  source  \\\n",
       "created_at                                 \n",
       "2016-12-01 14:38:09  Twitter for Android   \n",
       "2016-12-01 22:52:10   Twitter for iPhone   \n",
       "2016-12-02 02:45:18   Twitter for iPhone   \n",
       "2016-12-03 00:44:20  Twitter for Android   \n",
       "2016-12-03 01:41:30  Twitter for Android   \n",
       "...                                  ...   \n",
       "2017-03-24 17:03:46   Twitter for iPhone   \n",
       "2017-03-24 17:59:42   Twitter for iPhone   \n",
       "2017-03-25 13:29:17   Twitter for iPhone   \n",
       "2017-03-25 14:37:52  Twitter for Android   \n",
       "2017-03-25 14:41:14  Twitter for Android   \n",
       "\n",
       "                                                                  text  \\\n",
       "created_at                                                               \n",
       "2016-12-01 14:38:09  Getting ready to leave for the Great State of ...   \n",
       "2016-12-01 22:52:10  Heading to U.S. Bank Arena in Cincinnati Ohio ...   \n",
       "2016-12-02 02:45:18  Thank you Ohio! Together we made history – and...   \n",
       "2016-12-03 00:44:20  The President of Taiwan CALLED ME today to wis...   \n",
       "2016-12-03 01:41:30  Interesting how the U.S. sells Taiwan billions...   \n",
       "...                                                                ...   \n",
       "2017-03-24 17:03:46  Today I was pleased to announce the official a...   \n",
       "2017-03-24 17:59:42  Today I was thrilled to announce a commitment ...   \n",
       "2017-03-25 13:29:17  Happy #MedalOfHonorDay to our heroes! ➡️https:...   \n",
       "2017-03-25 14:37:52  ObamaCare will explode and we will all get tog...   \n",
       "2017-03-25 14:41:14  Watch @JudgeJeanine on @FoxNews tonight at 9:0...   \n",
       "\n",
       "                     retweet_count  favorite_count is_retweet  \\\n",
       "created_at                                                      \n",
       "2016-12-01 14:38:09           9834           57249      False   \n",
       "2016-12-01 22:52:10           5564           31256      False   \n",
       "2016-12-02 02:45:18          17283           72196      False   \n",
       "2016-12-03 00:44:20          24700          111106      False   \n",
       "2016-12-03 01:41:30          38805          122905      False   \n",
       "...                            ...             ...        ...   \n",
       "2017-03-24 17:03:46          12933           66692      False   \n",
       "2017-03-24 17:59:42          20212           89339      False   \n",
       "2017-03-25 13:29:17          14139           68302      False   \n",
       "2017-03-25 14:37:52          22518          104321      False   \n",
       "2017-03-25 14:41:14          10116           51247      False   \n",
       "\n",
       "                                 id_str  \n",
       "created_at                               \n",
       "2016-12-01 14:38:09  804333771021570048  \n",
       "2016-12-01 22:52:10  804458095569158144  \n",
       "2016-12-02 02:45:18  804516764562374656  \n",
       "2016-12-03 00:44:20  804848711599882240  \n",
       "2016-12-03 01:41:30  804863098138005504  \n",
       "...                                 ...  \n",
       "2017-03-24 17:03:46  845320243614547968  \n",
       "2017-03-24 17:59:42  845334323045765121  \n",
       "2017-03-25 13:29:17  845628655493677056  \n",
       "2017-03-25 14:37:52  845645916732358656  \n",
       "2017-03-25 14:41:14  845646761704243200  \n",
       "\n",
       "[603 rows x 6 columns]"
      ]
     },
     "execution_count": 52,
     "metadata": {},
     "output_type": "execute_result"
    }
   ],
   "source": [
    "## Remove the Web tweets\n",
    "df = df[df['source'] != 'Twitter Web Client']\n",
    "df"
   ]
  },
  {
   "cell_type": "code",
   "execution_count": 53,
   "metadata": {
    "ExecuteTime": {
     "end_time": "2021-06-03T00:17:06.478989Z",
     "start_time": "2021-06-03T00:17:06.471821Z"
    }
   },
   "outputs": [
    {
     "name": "stderr",
     "output_type": "stream",
     "text": [
      "<ipython-input-53-b41e70b2c595>:2: SettingWithCopyWarning: \n",
      "A value is trying to be set on a copy of a slice from a DataFrame.\n",
      "Try using .loc[row_indexer,col_indexer] = value instead\n",
      "\n",
      "See the caveats in the documentation: https://pandas.pydata.org/pandas-docs/stable/user_guide/indexing.html#returning-a-view-versus-a-copy\n",
      "  df['trump_tweet'] = (df['source'] == 'Twitter for Android').astype(int)\n"
     ]
    },
    {
     "data": {
      "text/plain": [
       "1    0.603648\n",
       "0    0.396352\n",
       "Name: trump_tweet, dtype: float64"
      ]
     },
     "execution_count": 53,
     "metadata": {},
     "output_type": "execute_result"
    }
   ],
   "source": [
    "## Make new Trump Tweet Column of 0 and 1s\n",
    "df['trump_tweet'] = (df['source'] == 'Twitter for Android').astype(int)\n",
    "df['trump_tweet'].value_counts(1)"
   ]
  },
  {
   "cell_type": "markdown",
   "metadata": {},
   "source": [
    "## Preprocessing"
   ]
  },
  {
   "cell_type": "code",
   "execution_count": 54,
   "metadata": {
    "ExecuteTime": {
     "end_time": "2021-06-03T00:17:06.487099Z",
     "start_time": "2021-06-03T00:17:06.481804Z"
    }
   },
   "outputs": [
    {
     "data": {
      "text/plain": [
       "created_at\n",
       "2016-12-01 14:38:09    Getting ready to leave for the Great State of ...\n",
       "2016-12-01 22:52:10    Heading to U.S. Bank Arena in Cincinnati Ohio ...\n",
       "2016-12-02 02:45:18    Thank you Ohio! Together we made history – and...\n",
       "2016-12-03 00:44:20    The President of Taiwan CALLED ME today to wis...\n",
       "2016-12-03 01:41:30    Interesting how the U.S. sells Taiwan billions...\n",
       "                                             ...                        \n",
       "2017-03-24 17:03:46    Today I was pleased to announce the official a...\n",
       "2017-03-24 17:59:42    Today I was thrilled to announce a commitment ...\n",
       "2017-03-25 13:29:17    Happy #MedalOfHonorDay to our heroes! ➡️https:...\n",
       "2017-03-25 14:37:52    ObamaCare will explode and we will all get tog...\n",
       "2017-03-25 14:41:14    Watch @JudgeJeanine on @FoxNews tonight at 9:0...\n",
       "Name: text, Length: 603, dtype: object"
      ]
     },
     "execution_count": 54,
     "metadata": {},
     "output_type": "execute_result"
    }
   ],
   "source": [
    "## Make X and y\n",
    "y = df['trump_tweet'].copy()\n",
    "X = df['text'].copy()\n",
    "X"
   ]
  },
  {
   "cell_type": "code",
   "execution_count": 55,
   "metadata": {
    "ExecuteTime": {
     "end_time": "2021-06-03T00:17:06.496119Z",
     "start_time": "2021-06-03T00:17:06.488901Z"
    }
   },
   "outputs": [
    {
     "data": {
      "text/plain": [
       "created_at\n",
       "2017-01-20 17:54:36    We will bring back our jobs. We will bring bac...\n",
       "2017-03-25 14:41:14    Watch @JudgeJeanine on @FoxNews tonight at 9:0...\n",
       "2017-02-25 21:53:21    I will not be attending the White House Corres...\n",
       "2017-02-15 19:17:59    Welcome to the United States @IsraeliPM Benjam...\n",
       "2017-03-15 10:55:30    Does anybody really believe that a reporter wh...\n",
       "                                             ...                        \n",
       "2016-12-15 22:27:16    Join me in Mobile Alabama on Sat. at 3pm! #Tha...\n",
       "2016-12-24 00:13:02    Vladimir Putin said today about Hillary and De...\n",
       "2017-01-20 17:53:17    January 20th 2017 will be remembered as the da...\n",
       "2017-02-15 13:13:10    The real scandal here is that classified infor...\n",
       "2016-12-23 11:58:36    my presidency. Isn't this a ridiculous shame? ...\n",
       "Name: text, Length: 422, dtype: object"
      ]
     },
     "execution_count": 55,
     "metadata": {},
     "output_type": "execute_result"
    }
   ],
   "source": [
    "## Train Test Split (random state=42)\n",
    "from sklearn.model_selection import train_test_split\n",
    "X_train, X_test, y_train, y_test = train_test_split(X,y, test_size=0.3,\n",
    "                                                    random_state=42)\n",
    "X_train"
   ]
  },
  {
   "cell_type": "code",
   "execution_count": 56,
   "metadata": {
    "ExecuteTime": {
     "end_time": "2021-06-03T00:17:06.502484Z",
     "start_time": "2021-06-03T00:17:06.497755Z"
    }
   },
   "outputs": [
    {
     "data": {
      "text/plain": [
       "1    0.604265\n",
       "0    0.395735\n",
       "Name: trump_tweet, dtype: float64"
      ]
     },
     "execution_count": 56,
     "metadata": {},
     "output_type": "execute_result"
    }
   ],
   "source": [
    "## Check y_train and y_test value counts\n",
    "y_train.value_counts(1)"
   ]
  },
  {
   "cell_type": "markdown",
   "metadata": {},
   "source": [
    "### Tokenization & Vectorization "
   ]
  },
  {
   "cell_type": "code",
   "execution_count": 57,
   "metadata": {
    "ExecuteTime": {
     "end_time": "2021-06-03T00:17:06.570383Z",
     "start_time": "2021-06-03T00:17:06.504065Z"
    }
   },
   "outputs": [],
   "source": [
    "import nltk\n",
    "from sklearn.feature_extraction.text import TfidfVectorizer,CountVectorizer\n",
    "from sklearn.ensemble import RandomForestClassifier\n",
    "from sklearn import metrics\n",
    "\n",
    "\n",
    "from sklearn.pipeline import Pipeline\n",
    "from sklearn.feature_extraction.text import CountVectorizer,TfidfTransformer #TfidfVectorizer\n",
    "from sklearn.ensemble import RandomForestClassifier\n",
    "from sklearn.naive_bayes import MultinomialNB"
   ]
  },
  {
   "cell_type": "code",
   "execution_count": 58,
   "metadata": {
    "ExecuteTime": {
     "end_time": "2021-06-03T00:17:06.575866Z",
     "start_time": "2021-06-03T00:17:06.572216Z"
    }
   },
   "outputs": [
    {
     "data": {
      "text/plain": [
       "<nltk.tokenize.casual.TweetTokenizer at 0x7fd699e3d5b0>"
      ]
     },
     "execution_count": 58,
     "metadata": {},
     "output_type": "execute_result"
    }
   ],
   "source": [
    "## Make a TweekTokenizer from nltk.tokenize (preserve_case=False)\n",
    "tokenizer = nltk.TweetTokenizer(preserve_case=False)\n",
    "tokenizer"
   ]
  },
  {
   "cell_type": "code",
   "execution_count": 59,
   "metadata": {
    "ExecuteTime": {
     "end_time": "2021-06-03T00:17:06.685230Z",
     "start_time": "2021-06-03T00:17:06.577659Z"
    }
   },
   "outputs": [
    {
     "data": {
      "text/plain": [
       "<422x2094 sparse matrix of type '<class 'numpy.float64'>'\n",
       "\twith 4689 stored elements in Compressed Sparse Row format>"
      ]
     },
     "execution_count": 59,
     "metadata": {},
     "output_type": "execute_result"
    }
   ],
   "source": [
    "## Make a TfIdf Vectorizer using tweet tokenizer's .tokenize method\n",
    "vectorizer = TfidfVectorizer(tokenizer=tokenizer.tokenize,\n",
    "                            stop_words=stopwords_list)\n",
    "\n",
    "# Vectorize data and make X_train_tfidf and X_test_tfidf\n",
    "X_train_tfidf = vectorizer.fit_transform(X_train)\n",
    "X_test_tfidf = vectorizer.transform(X_test)\n",
    "X_train_tfidf"
   ]
  },
  {
   "cell_type": "code",
   "execution_count": 60,
   "metadata": {
    "ExecuteTime": {
     "end_time": "2021-06-03T00:17:06.689866Z",
     "start_time": "2021-06-03T00:17:06.687078Z"
    }
   },
   "outputs": [
    {
     "name": "stdout",
     "output_type": "stream",
     "text": [
      "(422,)\n",
      "(422, 2094)\n"
     ]
    }
   ],
   "source": [
    "## Compare the shape of X_train to X_train_tfidf\n",
    "print(X_train.shape)\n",
    "\n",
    "print(X_train_tfidf.shape)"
   ]
  },
  {
   "cell_type": "code",
   "execution_count": 61,
   "metadata": {
    "ExecuteTime": {
     "end_time": "2021-06-03T00:17:06.694403Z",
     "start_time": "2021-06-03T00:17:06.691552Z"
    }
   },
   "outputs": [
    {
     "data": {
      "text/plain": [
       "2094"
      ]
     },
     "execution_count": 61,
     "metadata": {},
     "output_type": "execute_result"
    }
   ],
   "source": [
    "## Check the len of the vectorizer's vocabulary\n",
    "len(vectorizer.vocabulary_)"
   ]
  },
  {
   "cell_type": "markdown",
   "metadata": {},
   "source": [
    "## Modeling "
   ]
  },
  {
   "cell_type": "markdown",
   "metadata": {},
   "source": [
    "### RandomForest (Baseline)"
   ]
  },
  {
   "cell_type": "code",
   "execution_count": 62,
   "metadata": {
    "ExecuteTime": {
     "end_time": "2021-06-03T00:17:06.903280Z",
     "start_time": "2021-06-03T00:17:06.696018Z"
    }
   },
   "outputs": [
    {
     "data": {
      "text/plain": [
       "RandomForestClassifier(class_weight='balanced')"
      ]
     },
     "execution_count": 62,
     "metadata": {},
     "output_type": "execute_result"
    }
   ],
   "source": [
    "\n",
    "## Make and fit a random forest  (class_weight='balanced')\n",
    "rf = RandomForestClassifier(class_weight='balanced')\n",
    "rf.fit(X_train_tfidf,y_train)"
   ]
  },
  {
   "cell_type": "code",
   "execution_count": 63,
   "metadata": {
    "ExecuteTime": {
     "end_time": "2021-06-03T00:17:06.922050Z",
     "start_time": "2021-06-03T00:17:06.905094Z"
    }
   },
   "outputs": [],
   "source": [
    "## Get predictions for train and test\n",
    "y_hat_test = rf.predict(X_test_tfidf)"
   ]
  },
  {
   "cell_type": "code",
   "execution_count": 64,
   "metadata": {
    "ExecuteTime": {
     "end_time": "2021-06-03T00:17:06.930504Z",
     "start_time": "2021-06-03T00:17:06.923908Z"
    },
    "code_folding": []
   },
   "outputs": [],
   "source": [
    "def evaluate_classification(model, X_test_tf,y_test,cmap='Greens',\n",
    "                            normalize='true',classes=None,figsize=(10,4),\n",
    "                            X_train = None, y_train = None,):\n",
    "    \"\"\"Evaluates a scikit-learn binary classification model.\n",
    "\n",
    "    Args:\n",
    "        model (classifier): any sklearn classification model.\n",
    "        X_test_tf (Frame or Array): X data\n",
    "        y_test (Series or Array): y data\n",
    "        cmap (str, optional): Colormap for confusion matrix. Defaults to 'Greens'.\n",
    "        normalize (str, optional): normalize argument for plot_confusion_matrix. \n",
    "                                    Defaults to 'true'.\n",
    "        classes (list, optional): List of class names for display. Defaults to None.\n",
    "        figsize (tuple, optional): figure size Defaults to (8,4).\n",
    "        \n",
    "        X_train (Frame or Array, optional): If provided, compare model.score \n",
    "                                for train and test. Defaults to None.\n",
    "        y_train (Series or Array, optional): If provided, compare model.score \n",
    "                                for train and test. Defaults to None.\n",
    "    \"\"\"\n",
    "    \n",
    "    ## Get Predictions and Classification Report\n",
    "    y_hat_test = model.predict(X_test_tf)\n",
    "    print(metrics.classification_report(y_test, y_hat_test,target_names=classes))\n",
    "    \n",
    "    ## Plot Confusion Matrid and roc curve\n",
    "    fig,ax = plt.subplots(ncols=2, figsize=figsize)\n",
    "    metrics.plot_confusion_matrix(model, X_test_tf,y_test,cmap=cmap, \n",
    "                                  normalize=normalize,display_labels=classes,\n",
    "                                 ax=ax[0])\n",
    "    \n",
    "    ## if roc curve erorrs, delete second ax\n",
    "    try:\n",
    "        curve = metrics.plot_roc_curve(model,X_test_tf,y_test,ax=ax[1])\n",
    "        curve.ax_.grid()\n",
    "        curve.ax_.plot([0,1],[0,1],ls=':')\n",
    "        fig.tight_layout()\n",
    "    except:\n",
    "        fig.delaxes(ax[1])\n",
    "    plt.show()\n",
    "    \n",
    "    ## Add comparing Scores if X_train and y_train provided.\n",
    "    if (X_train is not None) & (y_train is not None):\n",
    "        print(f\"Training Score = {model.score(X_train,y_train):.2f}\")\n",
    "        print(f\"Test Score = {model.score(X_test_tf,y_test):.2f}\")\n",
    "        \n",
    "        \n",
    "\n",
    "    \n",
    "def plot_importance(tree, X_train_df, top_n=20,figsize=(10,10)):\n",
    "    \n",
    "    df_importance = pd.Series(tree.feature_importances_,\n",
    "                              index=X_train_df.columns)\n",
    "    df_importance.sort_values(ascending=True).tail(top_n).plot(\n",
    "        kind='barh',figsize=figsize,title='Feature Importances',\n",
    "    ylabel='Feature',)\n",
    "    return df_importance\n",
    "\n"
   ]
  },
  {
   "cell_type": "code",
   "execution_count": 65,
   "metadata": {
    "ExecuteTime": {
     "end_time": "2021-06-03T00:17:07.359584Z",
     "start_time": "2021-06-03T00:17:06.932391Z"
    }
   },
   "outputs": [
    {
     "name": "stdout",
     "output_type": "stream",
     "text": [
      "              precision    recall  f1-score   support\n",
      "\n",
      "           0       0.77      0.61      0.68        72\n",
      "           1       0.77      0.88      0.82       109\n",
      "\n",
      "    accuracy                           0.77       181\n",
      "   macro avg       0.77      0.75      0.75       181\n",
      "weighted avg       0.77      0.77      0.77       181\n",
      "\n"
     ]
    },
    {
     "data": {
      "image/png": "[encoded data removed]",
      "text/plain": [
       "<Figure size 720x288 with 3 Axes>"
      ]
     },
     "metadata": {
      "needs_background": "light"
     },
     "output_type": "display_data"
    },
    {
     "name": "stdout",
     "output_type": "stream",
     "text": [
      "Training Score = 1.00\n",
      "Test Score = 0.77\n"
     ]
    }
   ],
   "source": [
    "## Evaluate Model using function\n",
    "evaluate_classification(rf,X_test_tfidf,y_test,\n",
    "                        X_train=X_train_tfidf,y_train=y_train)"
   ]
  },
  {
   "cell_type": "code",
   "execution_count": 66,
   "metadata": {
    "ExecuteTime": {
     "end_time": "2021-06-03T00:17:07.698425Z",
     "start_time": "2021-06-03T00:17:07.361286Z"
    }
   },
   "outputs": [
    {
     "name": "stderr",
     "output_type": "stream",
     "text": [
      "/opt/anaconda3/envs/learn-env-new/lib/python3.8/site-packages/matplotlib/backends/backend_agg.py:238: RuntimeWarning: Glyph 127482 missing from current font.\n",
      "  font.set_text(s, 0.0, flags=flags)\n",
      "/opt/anaconda3/envs/learn-env-new/lib/python3.8/site-packages/matplotlib/backends/backend_agg.py:238: RuntimeWarning: Glyph 127480 missing from current font.\n",
      "  font.set_text(s, 0.0, flags=flags)\n",
      "/opt/anaconda3/envs/learn-env-new/lib/python3.8/site-packages/matplotlib/backends/backend_agg.py:201: RuntimeWarning: Glyph 127482 missing from current font.\n",
      "  font.set_text(s, 0, flags=flags)\n",
      "/opt/anaconda3/envs/learn-env-new/lib/python3.8/site-packages/matplotlib/backends/backend_agg.py:201: RuntimeWarning: Glyph 127480 missing from current font.\n",
      "  font.set_text(s, 0, flags=flags)\n"
     ]
    },
    {
     "data": {
      "image/png": "[encoded data removed]",
      "text/plain": [
       "<Figure size 748.8x514.8 with 1 Axes>"
      ]
     },
     "metadata": {
      "needs_background": "light"
     },
     "output_type": "display_data"
    }
   ],
   "source": [
    "# Plot the top 30 most important features\n",
    "with plt.style.context('seaborn-talk'):\n",
    "\n",
    "    ## Get Feature Importance\n",
    "    importance = pd.Series(rf.feature_importances_,\n",
    "                           index=vectorizer.get_feature_names())\n",
    "\n",
    "    ## Take the .tail 30 and plot kind='barh'\n",
    "    importance.sort_values().tail(30).plot(kind='barh')"
   ]
  },
  {
   "cell_type": "markdown",
   "metadata": {},
   "source": [
    "## Pipelines and GridSearch for NLP"
   ]
  },
  {
   "cell_type": "markdown",
   "metadata": {},
   "source": [
    "- You may want to to this process in multiple steps (first Count Vectorize, then transform to TF or TF-IDF.\n",
    "- Can then use these in a Pipeline to be able to GridSearch more aspects of the text preprocessing\n",
    "\n",
    "```python\n",
    "from sklearn.feature_extraction.text import CountVectorizer,TfidfTransformer #TfidfVectorizer\n",
    "from sklearn.pipeline import Pipeline\n",
    "\n",
    "text_pipe = Pipeline(steps=[\n",
    "    ('count_vectorizer',CountVectorizer()),\n",
    "    ('tf_transformer',TfidfTransformer(use_idf=False))\n",
    "])\n",
    "\n",
    "\n",
    "```\n"
   ]
  },
  {
   "cell_type": "code",
   "execution_count": 67,
   "metadata": {
    "ExecuteTime": {
     "end_time": "2021-06-03T00:17:07.702842Z",
     "start_time": "2021-06-03T00:17:07.700436Z"
    }
   },
   "outputs": [],
   "source": [
    "from sklearn import set_config\n",
    "set_config(display='diagram')"
   ]
  },
  {
   "cell_type": "code",
   "execution_count": 68,
   "metadata": {
    "ExecuteTime": {
     "end_time": "2021-06-03T00:17:07.724620Z",
     "start_time": "2021-06-03T00:17:07.710894Z"
    }
   },
   "outputs": [
    {
     "data": {
      "text/html": [
       "<style>div.sk-top-container {color: black;background-color: white;}div.sk-toggleable {background-color: white;}label.sk-toggleable__label {cursor: pointer;display: block;width: 100%;margin-bottom: 0;padding: 0.2em 0.3em;box-sizing: border-box;text-align: center;}div.sk-toggleable__content {max-height: 0;max-width: 0;overflow: hidden;text-align: left;background-color: #f0f8ff;}div.sk-toggleable__content pre {margin: 0.2em;color: black;border-radius: 0.25em;background-color: #f0f8ff;}input.sk-toggleable__control:checked~div.sk-toggleable__content {max-height: 200px;max-width: 100%;overflow: auto;}div.sk-estimator input.sk-toggleable__control:checked~label.sk-toggleable__label {background-color: #d4ebff;}div.sk-label input.sk-toggleable__control:checked~label.sk-toggleable__label {background-color: #d4ebff;}input.sk-hidden--visually {border: 0;clip: rect(1px 1px 1px 1px);clip: rect(1px, 1px, 1px, 1px);height: 1px;margin: -1px;overflow: hidden;padding: 0;position: absolute;width: 1px;}div.sk-estimator {font-family: monospace;background-color: #f0f8ff;margin: 0.25em 0.25em;border: 1px dotted black;border-radius: 0.25em;box-sizing: border-box;}div.sk-estimator:hover {background-color: #d4ebff;}div.sk-parallel-item::after {content: \"\";width: 100%;border-bottom: 1px solid gray;flex-grow: 1;}div.sk-label:hover label.sk-toggleable__label {background-color: #d4ebff;}div.sk-serial::before {content: \"\";position: absolute;border-left: 1px solid gray;box-sizing: border-box;top: 2em;bottom: 0;left: 50%;}div.sk-serial {display: flex;flex-direction: column;align-items: center;background-color: white;}div.sk-item {z-index: 1;}div.sk-parallel {display: flex;align-items: stretch;justify-content: center;background-color: white;}div.sk-parallel-item {display: flex;flex-direction: column;position: relative;background-color: white;}div.sk-parallel-item:first-child::after {align-self: flex-end;width: 50%;}div.sk-parallel-item:last-child::after {align-self: flex-start;width: 50%;}div.sk-parallel-item:only-child::after {width: 0;}div.sk-dashed-wrapped {border: 1px dashed gray;margin: 0.2em;box-sizing: border-box;padding-bottom: 0.1em;background-color: white;position: relative;}div.sk-label label {font-family: monospace;font-weight: bold;background-color: white;display: inline-block;line-height: 1.2em;}div.sk-label-container {position: relative;z-index: 2;text-align: center;}div.sk-container {display: inline-block;position: relative;}</style><div class=\"sk-top-container\"><div class=\"sk-container\"><div class=\"sk-item sk-dashed-wrapped\"><div class=\"sk-label-container\"><div class=\"sk-label sk-toggleable\"><input class=\"sk-toggleable__control sk-hidden--visually\" id=\"3d8b7241-f374-429a-9c5a-80e4ee1c3712\" type=\"checkbox\" ><label class=\"sk-toggleable__label\" for=\"3d8b7241-f374-429a-9c5a-80e4ee1c3712\">Pipeline</label><div class=\"sk-toggleable__content\"><pre>Pipeline(steps=[('count_vectorizer',\n",
       "                 CountVectorizer(tokenizer=<bound method TweetTokenizer.tokenize of <nltk.tokenize.casual.TweetTokenizer object at 0x7fd6970b24c0>>)),\n",
       "                ('tf_transformer', TfidfTransformer())])</pre></div></div></div><div class=\"sk-serial\"><div class=\"sk-item\"><div class=\"sk-estimator sk-toggleable\"><input class=\"sk-toggleable__control sk-hidden--visually\" id=\"03643327-7fbe-4733-8907-f3cf576dea7f\" type=\"checkbox\" ><label class=\"sk-toggleable__label\" for=\"03643327-7fbe-4733-8907-f3cf576dea7f\">CountVectorizer</label><div class=\"sk-toggleable__content\"><pre>CountVectorizer(tokenizer=<bound method TweetTokenizer.tokenize of <nltk.tokenize.casual.TweetTokenizer object at 0x7fd6970b24c0>>)</pre></div></div></div><div class=\"sk-item\"><div class=\"sk-estimator sk-toggleable\"><input class=\"sk-toggleable__control sk-hidden--visually\" id=\"36684491-ecf1-466e-9daf-979035889a1f\" type=\"checkbox\" ><label class=\"sk-toggleable__label\" for=\"36684491-ecf1-466e-9daf-979035889a1f\">TfidfTransformer</label><div class=\"sk-toggleable__content\"><pre>TfidfTransformer()</pre></div></div></div></div></div></div></div>"
      ],
      "text/plain": [
       "Pipeline(steps=[('count_vectorizer',\n",
       "                 CountVectorizer(tokenizer=<bound method TweetTokenizer.tokenize of <nltk.tokenize.casual.TweetTokenizer object at 0x7fd6970b24c0>>)),\n",
       "                ('tf_transformer', TfidfTransformer())])"
      ]
     },
     "execution_count": 68,
     "metadata": {},
     "output_type": "execute_result"
    }
   ],
   "source": [
    "## Make a text preprocessing pipeline\n",
    "tokenizer = TweetTokenizer(preserve_case=True)\n",
    "\n",
    "text_pipe = Pipeline(steps=[\n",
    "    ('count_vectorizer',CountVectorizer(tokenizer=tokenizer.tokenize)),\n",
    "    ('tf_transformer',TfidfTransformer(use_idf=True))])\n",
    "text_pipe"
   ]
  },
  {
   "cell_type": "code",
   "execution_count": 69,
   "metadata": {
    "ExecuteTime": {
     "end_time": "2021-06-03T00:17:07.735238Z",
     "start_time": "2021-06-03T00:17:07.730023Z"
    }
   },
   "outputs": [
    {
     "data": {
      "text/plain": [
       "created_at\n",
       "2017-01-20 17:54:36    We will bring back our jobs. We will bring bac...\n",
       "2017-03-25 14:41:14    Watch @JudgeJeanine on @FoxNews tonight at 9:0...\n",
       "2017-02-25 21:53:21    I will not be attending the White House Corres...\n",
       "2017-02-15 19:17:59    Welcome to the United States @IsraeliPM Benjam...\n",
       "2017-03-15 10:55:30    Does anybody really believe that a reporter wh...\n",
       "                                             ...                        \n",
       "2016-12-15 22:27:16    Join me in Mobile Alabama on Sat. at 3pm! #Tha...\n",
       "2016-12-24 00:13:02    Vladimir Putin said today about Hillary and De...\n",
       "2017-01-20 17:53:17    January 20th 2017 will be remembered as the da...\n",
       "2017-02-15 13:13:10    The real scandal here is that classified infor...\n",
       "2016-12-23 11:58:36    my presidency. Isn't this a ridiculous shame? ...\n",
       "Name: text, Length: 422, dtype: object"
      ]
     },
     "execution_count": 69,
     "metadata": {},
     "output_type": "execute_result"
    }
   ],
   "source": [
    "## Remind ourselves what X_train looks like \n",
    "X_train"
   ]
  },
  {
   "cell_type": "code",
   "execution_count": 70,
   "metadata": {
    "ExecuteTime": {
     "end_time": "2021-06-03T00:17:07.803416Z",
     "start_time": "2021-06-03T00:17:07.738058Z"
    }
   },
   "outputs": [
    {
     "data": {
      "text/plain": [
       "matrix([[0.03837935, 0.        , 0.        , ..., 0.        , 0.        ,\n",
       "         0.        ],\n",
       "        [0.        , 0.        , 0.        , ..., 0.        , 0.        ,\n",
       "         0.        ],\n",
       "        [0.06925551, 0.        , 0.        , ..., 0.        , 0.        ,\n",
       "         0.        ],\n",
       "        ...,\n",
       "        [0.        , 0.        , 0.        , ..., 0.        , 0.        ,\n",
       "         0.        ],\n",
       "        [0.06910537, 0.31617248, 0.        , ..., 0.        , 0.        ,\n",
       "         0.        ],\n",
       "        [0.06084864, 0.        , 0.        , ..., 0.        , 0.        ,\n",
       "         0.        ]])"
      ]
     },
     "execution_count": 70,
     "metadata": {},
     "output_type": "execute_result"
    }
   ],
   "source": [
    "## Test out the text pipeline on X_train\n",
    "test_text_pipe = text_pipe.fit_transform(X_train)\n",
    "test_text_pipe.todense()#.shape"
   ]
  },
  {
   "cell_type": "code",
   "execution_count": 71,
   "metadata": {
    "ExecuteTime": {
     "end_time": "2021-06-03T00:17:07.857404Z",
     "start_time": "2021-06-03T00:17:07.805886Z"
    }
   },
   "outputs": [
    {
     "data": {
      "text/html": [
       "<style>div.sk-top-container {color: black;background-color: white;}div.sk-toggleable {background-color: white;}label.sk-toggleable__label {cursor: pointer;display: block;width: 100%;margin-bottom: 0;padding: 0.2em 0.3em;box-sizing: border-box;text-align: center;}div.sk-toggleable__content {max-height: 0;max-width: 0;overflow: hidden;text-align: left;background-color: #f0f8ff;}div.sk-toggleable__content pre {margin: 0.2em;color: black;border-radius: 0.25em;background-color: #f0f8ff;}input.sk-toggleable__control:checked~div.sk-toggleable__content {max-height: 200px;max-width: 100%;overflow: auto;}div.sk-estimator input.sk-toggleable__control:checked~label.sk-toggleable__label {background-color: #d4ebff;}div.sk-label input.sk-toggleable__control:checked~label.sk-toggleable__label {background-color: #d4ebff;}input.sk-hidden--visually {border: 0;clip: rect(1px 1px 1px 1px);clip: rect(1px, 1px, 1px, 1px);height: 1px;margin: -1px;overflow: hidden;padding: 0;position: absolute;width: 1px;}div.sk-estimator {font-family: monospace;background-color: #f0f8ff;margin: 0.25em 0.25em;border: 1px dotted black;border-radius: 0.25em;box-sizing: border-box;}div.sk-estimator:hover {background-color: #d4ebff;}div.sk-parallel-item::after {content: \"\";width: 100%;border-bottom: 1px solid gray;flex-grow: 1;}div.sk-label:hover label.sk-toggleable__label {background-color: #d4ebff;}div.sk-serial::before {content: \"\";position: absolute;border-left: 1px solid gray;box-sizing: border-box;top: 2em;bottom: 0;left: 50%;}div.sk-serial {display: flex;flex-direction: column;align-items: center;background-color: white;}div.sk-item {z-index: 1;}div.sk-parallel {display: flex;align-items: stretch;justify-content: center;background-color: white;}div.sk-parallel-item {display: flex;flex-direction: column;position: relative;background-color: white;}div.sk-parallel-item:first-child::after {align-self: flex-end;width: 50%;}div.sk-parallel-item:last-child::after {align-self: flex-start;width: 50%;}div.sk-parallel-item:only-child::after {width: 0;}div.sk-dashed-wrapped {border: 1px dashed gray;margin: 0.2em;box-sizing: border-box;padding-bottom: 0.1em;background-color: white;position: relative;}div.sk-label label {font-family: monospace;font-weight: bold;background-color: white;display: inline-block;line-height: 1.2em;}div.sk-label-container {position: relative;z-index: 2;text-align: center;}div.sk-container {display: inline-block;position: relative;}</style><div class=\"sk-top-container\"><div class=\"sk-container\"><div class=\"sk-item sk-dashed-wrapped\"><div class=\"sk-label-container\"><div class=\"sk-label sk-toggleable\"><input class=\"sk-toggleable__control sk-hidden--visually\" id=\"257cea6a-77d9-4f24-bf87-c7379fa6792d\" type=\"checkbox\" ><label class=\"sk-toggleable__label\" for=\"257cea6a-77d9-4f24-bf87-c7379fa6792d\">Pipeline</label><div class=\"sk-toggleable__content\"><pre>Pipeline(steps=[('text_pipe',\n",
       "                 Pipeline(steps=[('count_vectorizer',\n",
       "                                  CountVectorizer(tokenizer=<bound method TweetTokenizer.tokenize of <nltk.tokenize.casual.TweetTokenizer object at 0x7fd6970b24c0>>)),\n",
       "                                 ('tf_transformer', TfidfTransformer())])),\n",
       "                ('clf', RandomForestClassifier(class_weight='balanced'))])</pre></div></div></div><div class=\"sk-serial\"><div class=\"sk-item\"><div class=\"sk-label-container\"><div class=\"sk-label sk-toggleable\"><input class=\"sk-toggleable__control sk-hidden--visually\" id=\"24548c14-8261-4c94-b8bf-59848f5a42e1\" type=\"checkbox\" ><label class=\"sk-toggleable__label\" for=\"24548c14-8261-4c94-b8bf-59848f5a42e1\">text_pipe: Pipeline</label><div class=\"sk-toggleable__content\"><pre>Pipeline(steps=[('count_vectorizer',\n",
       "                 CountVectorizer(tokenizer=<bound method TweetTokenizer.tokenize of <nltk.tokenize.casual.TweetTokenizer object at 0x7fd6970b24c0>>)),\n",
       "                ('tf_transformer', TfidfTransformer())])</pre></div></div></div><div class=\"sk-serial\"><div class=\"sk-item\"><div class=\"sk-estimator sk-toggleable\"><input class=\"sk-toggleable__control sk-hidden--visually\" id=\"ca8bd77d-4460-4cc6-8811-401fa33894c2\" type=\"checkbox\" ><label class=\"sk-toggleable__label\" for=\"ca8bd77d-4460-4cc6-8811-401fa33894c2\">CountVectorizer</label><div class=\"sk-toggleable__content\"><pre>CountVectorizer(tokenizer=<bound method TweetTokenizer.tokenize of <nltk.tokenize.casual.TweetTokenizer object at 0x7fd6970b24c0>>)</pre></div></div></div><div class=\"sk-item\"><div class=\"sk-estimator sk-toggleable\"><input class=\"sk-toggleable__control sk-hidden--visually\" id=\"b89a978b-7e6c-4785-8db0-8647a858a30c\" type=\"checkbox\" ><label class=\"sk-toggleable__label\" for=\"b89a978b-7e6c-4785-8db0-8647a858a30c\">TfidfTransformer</label><div class=\"sk-toggleable__content\"><pre>TfidfTransformer()</pre></div></div></div></div></div><div class=\"sk-item\"><div class=\"sk-estimator sk-toggleable\"><input class=\"sk-toggleable__control sk-hidden--visually\" id=\"d3bdf33c-5bb3-43d4-9ef5-7cccd84c5d1d\" type=\"checkbox\" ><label class=\"sk-toggleable__label\" for=\"d3bdf33c-5bb3-43d4-9ef5-7cccd84c5d1d\">RandomForestClassifier</label><div class=\"sk-toggleable__content\"><pre>RandomForestClassifier(class_weight='balanced')</pre></div></div></div></div></div></div></div>"
      ],
      "text/plain": [
       "Pipeline(steps=[('text_pipe',\n",
       "                 Pipeline(steps=[('count_vectorizer',\n",
       "                                  CountVectorizer(tokenizer=<bound method TweetTokenizer.tokenize of <nltk.tokenize.casual.TweetTokenizer object at 0x7fd6970b24c0>>)),\n",
       "                                 ('tf_transformer', TfidfTransformer())])),\n",
       "                ('clf', RandomForestClassifier(class_weight='balanced'))])"
      ]
     },
     "execution_count": 71,
     "metadata": {},
     "output_type": "execute_result"
    }
   ],
   "source": [
    "## Make a full pipeline with the random forest model as the second step\n",
    "rf_pipe = Pipeline(steps=[\n",
    "    ('text_pipe',text_pipe),\n",
    "    ('clf',RandomForestClassifier(class_weight='balanced'))\n",
    "])\n",
    "rf_pipe"
   ]
  },
  {
   "cell_type": "code",
   "execution_count": 72,
   "metadata": {
    "ExecuteTime": {
     "end_time": "2021-06-03T00:17:08.746857Z",
     "start_time": "2021-06-03T00:17:07.859388Z"
    }
   },
   "outputs": [
    {
     "name": "stdout",
     "output_type": "stream",
     "text": [
      "              precision    recall  f1-score   support\n",
      "\n",
      "           0       0.87      0.75      0.81        72\n",
      "           1       0.85      0.93      0.89       109\n",
      "\n",
      "    accuracy                           0.86       181\n",
      "   macro avg       0.86      0.84      0.85       181\n",
      "weighted avg       0.86      0.86      0.85       181\n",
      "\n"
     ]
    },
    {
     "data": {
      "image/png": "[encoded data removed]",
      "text/plain": [
       "<Figure size 720x288 with 3 Axes>"
      ]
     },
     "metadata": {
      "needs_background": "light"
     },
     "output_type": "display_data"
    },
    {
     "name": "stdout",
     "output_type": "stream",
     "text": [
      "Training Score = 1.00\n",
      "Test Score = 0.86\n"
     ]
    }
   ],
   "source": [
    "## Modeling with full pipeline\n",
    "rf_pipe.fit(X_train,y_train)\n",
    "evaluate_classification(rf_pipe,X_test, y_test,X_train=X_train,\n",
    "                        y_train=y_train)"
   ]
  },
  {
   "cell_type": "markdown",
   "metadata": {},
   "source": [
    "### GridSearching NLP Pipeline"
   ]
  },
  {
   "cell_type": "code",
   "execution_count": 73,
   "metadata": {
    "ExecuteTime": {
     "end_time": "2021-06-03T00:17:08.751737Z",
     "start_time": "2021-06-03T00:17:08.749092Z"
    }
   },
   "outputs": [],
   "source": [
    "set_config(display='text')"
   ]
  },
  {
   "cell_type": "code",
   "execution_count": 74,
   "metadata": {
    "ExecuteTime": {
     "end_time": "2021-06-03T00:20:05.260654Z",
     "start_time": "2021-06-03T00:17:08.753692Z"
    }
   },
   "outputs": [
    {
     "name": "stdout",
     "output_type": "stream",
     "text": [
      "Fitting 3 folds for each of 1152 candidates, totalling 3456 fits\n"
     ]
    },
    {
     "name": "stderr",
     "output_type": "stream",
     "text": [
      "[Parallel(n_jobs=-1)]: Using backend LokyBackend with 12 concurrent workers.\n",
      "[Parallel(n_jobs=-1)]: Done  17 tasks      | elapsed:    4.4s\n",
      "[Parallel(n_jobs=-1)]: Done 138 tasks      | elapsed:    8.9s\n",
      "[Parallel(n_jobs=-1)]: Done 341 tasks      | elapsed:   19.0s\n",
      "[Parallel(n_jobs=-1)]: Done 624 tasks      | elapsed:   31.9s\n",
      "[Parallel(n_jobs=-1)]: Done 989 tasks      | elapsed:   48.9s\n",
      "[Parallel(n_jobs=-1)]: Done 1434 tasks      | elapsed:  1.2min\n",
      "[Parallel(n_jobs=-1)]: Done 1961 tasks      | elapsed:  1.6min\n",
      "[Parallel(n_jobs=-1)]: Done 2568 tasks      | elapsed:  2.1min\n",
      "[Parallel(n_jobs=-1)]: Done 3257 tasks      | elapsed:  2.8min\n",
      "[Parallel(n_jobs=-1)]: Done 3456 out of 3456 | elapsed:  2.9min finished\n"
     ]
    },
    {
     "data": {
      "text/plain": [
       "{'clf__criterion': 'gini',\n",
       " 'clf__max_depth': 10,\n",
       " 'text_pipe__count_vectorizer__max_df': 1.0,\n",
       " 'text_pipe__count_vectorizer__min_df': 2,\n",
       " 'text_pipe__count_vectorizer__stop_words': ['i',\n",
       "  'me',\n",
       "  'my',\n",
       "  'myself',\n",
       "  'we',\n",
       "  'our',\n",
       "  'ours',\n",
       "  'ourselves',\n",
       "  'you',\n",
       "  \"you're\",\n",
       "  \"you've\",\n",
       "  \"you'll\",\n",
       "  \"you'd\",\n",
       "  'your',\n",
       "  'yours',\n",
       "  'yourself',\n",
       "  'yourselves',\n",
       "  'he',\n",
       "  'him',\n",
       "  'his',\n",
       "  'himself',\n",
       "  'she',\n",
       "  \"she's\",\n",
       "  'her',\n",
       "  'hers',\n",
       "  'herself',\n",
       "  'it',\n",
       "  \"it's\",\n",
       "  'its',\n",
       "  'itself',\n",
       "  'they',\n",
       "  'them',\n",
       "  'their',\n",
       "  'theirs',\n",
       "  'themselves',\n",
       "  'what',\n",
       "  'which',\n",
       "  'who',\n",
       "  'whom',\n",
       "  'this',\n",
       "  'that',\n",
       "  \"that'll\",\n",
       "  'these',\n",
       "  'those',\n",
       "  'am',\n",
       "  'is',\n",
       "  'are',\n",
       "  'was',\n",
       "  'were',\n",
       "  'be',\n",
       "  'been',\n",
       "  'being',\n",
       "  'have',\n",
       "  'has',\n",
       "  'had',\n",
       "  'having',\n",
       "  'do',\n",
       "  'does',\n",
       "  'did',\n",
       "  'doing',\n",
       "  'a',\n",
       "  'an',\n",
       "  'the',\n",
       "  'and',\n",
       "  'but',\n",
       "  'if',\n",
       "  'or',\n",
       "  'because',\n",
       "  'as',\n",
       "  'while',\n",
       "  'of',\n",
       "  'at',\n",
       "  'by',\n",
       "  'for',\n",
       "  'with',\n",
       "  'about',\n",
       "  'against',\n",
       "  'between',\n",
       "  'into',\n",
       "  'through',\n",
       "  'during',\n",
       "  'before',\n",
       "  'after',\n",
       "  'above',\n",
       "  'below',\n",
       "  'to',\n",
       "  'from',\n",
       "  'up',\n",
       "  'down',\n",
       "  'in',\n",
       "  'out',\n",
       "  'on',\n",
       "  'off',\n",
       "  'over',\n",
       "  'under',\n",
       "  'again',\n",
       "  'further',\n",
       "  'then',\n",
       "  'once',\n",
       "  'here',\n",
       "  'there',\n",
       "  'when',\n",
       "  'where',\n",
       "  'why',\n",
       "  'how',\n",
       "  'all',\n",
       "  'any',\n",
       "  'both',\n",
       "  'each',\n",
       "  'few',\n",
       "  'more',\n",
       "  'most',\n",
       "  'other',\n",
       "  'some',\n",
       "  'such',\n",
       "  'no',\n",
       "  'nor',\n",
       "  'not',\n",
       "  'only',\n",
       "  'own',\n",
       "  'same',\n",
       "  'so',\n",
       "  'than',\n",
       "  'too',\n",
       "  'very',\n",
       "  's',\n",
       "  't',\n",
       "  'can',\n",
       "  'will',\n",
       "  'just',\n",
       "  'don',\n",
       "  \"don't\",\n",
       "  'should',\n",
       "  \"should've\",\n",
       "  'now',\n",
       "  'd',\n",
       "  'll',\n",
       "  'm',\n",
       "  'o',\n",
       "  're',\n",
       "  've',\n",
       "  'y',\n",
       "  'ain',\n",
       "  'aren',\n",
       "  \"aren't\",\n",
       "  'couldn',\n",
       "  \"couldn't\",\n",
       "  'didn',\n",
       "  \"didn't\",\n",
       "  'doesn',\n",
       "  \"doesn't\",\n",
       "  'hadn',\n",
       "  \"hadn't\",\n",
       "  'hasn',\n",
       "  \"hasn't\",\n",
       "  'haven',\n",
       "  \"haven't\",\n",
       "  'isn',\n",
       "  \"isn't\",\n",
       "  'ma',\n",
       "  'mightn',\n",
       "  \"mightn't\",\n",
       "  'mustn',\n",
       "  \"mustn't\",\n",
       "  'needn',\n",
       "  \"needn't\",\n",
       "  'shan',\n",
       "  \"shan't\",\n",
       "  'shouldn',\n",
       "  \"shouldn't\",\n",
       "  'wasn',\n",
       "  \"wasn't\",\n",
       "  'weren',\n",
       "  \"weren't\",\n",
       "  'won',\n",
       "  \"won't\",\n",
       "  'wouldn',\n",
       "  \"wouldn't\",\n",
       "  '!',\n",
       "  '\"',\n",
       "  '#',\n",
       "  '$',\n",
       "  '%',\n",
       "  '&',\n",
       "  \"'\",\n",
       "  '(',\n",
       "  ')',\n",
       "  '*',\n",
       "  '+',\n",
       "  ',',\n",
       "  '-',\n",
       "  '.',\n",
       "  '/',\n",
       "  ':',\n",
       "  ';',\n",
       "  '<',\n",
       "  '=',\n",
       "  '>',\n",
       "  '?',\n",
       "  '@',\n",
       "  '[',\n",
       "  '\\\\',\n",
       "  ']',\n",
       "  '^',\n",
       "  '_',\n",
       "  '`',\n",
       "  '{',\n",
       "  '|',\n",
       "  '}',\n",
       "  '~',\n",
       "  '“',\n",
       "  '”',\n",
       "  '...',\n",
       "  \"''\",\n",
       "  '’',\n",
       "  '``',\n",
       "  '…',\n",
       "  'rt',\n",
       "  'http',\n",
       "  'https',\n",
       "  'co'],\n",
       " 'text_pipe__count_vectorizer__tokenizer': <bound method TweetTokenizer.tokenize of <nltk.tokenize.casual.TweetTokenizer object at 0x7fd6a2a32c40>>,\n",
       " 'text_pipe__tf_transformer__norm': 'l2',\n",
       " 'text_pipe__tf_transformer__smooth_idf': False,\n",
       " 'text_pipe__tf_transformer__use_idf': True}"
      ]
     },
     "execution_count": 74,
     "metadata": {},
     "output_type": "execute_result"
    }
   ],
   "source": [
    "from sklearn.model_selection import GridSearchCV\n",
    "## Make a tokenizer with TweetTokenizer\n",
    "tokenizer = nltk.tokenize.TweetTokenizer(preserve_case=False,)\n",
    "\n",
    "## Make params grid\n",
    "params = {'text_pipe__tf_transformer__use_idf':[True, False],\n",
    "          'text_pipe__tf_transformer__norm':['l2','l1'],\n",
    "          'text_pipe__tf_transformer__use_idf':[True,False],\n",
    "          'text_pipe__tf_transformer__smooth_idf':[True,False],\n",
    "          \n",
    "          'text_pipe__count_vectorizer__tokenizer':[ \n",
    "#               None,                                       \n",
    "              TweetTokenizer(preserve_case=True).tokenize,\n",
    "              TweetTokenizer(preserve_case=False).tokenize,\n",
    "              TweetTokenizer(preserve_case=False, strip_handles=True).tokenize\n",
    "          ],\n",
    "          'text_pipe__count_vectorizer__stop_words':[stopwords_list],#None,\n",
    "          'text_pipe__count_vectorizer__max_df':[1.0,0.95],\n",
    "          'text_pipe__count_vectorizer__min_df':[1,2,3],\n",
    "          \n",
    "         'clf__criterion':['gini', 'entropy'],\n",
    "         'clf__max_depth':[10,25,50,100]}\n",
    "\n",
    "## Make and fit grid\n",
    "grid = GridSearchCV(rf_pipe,params,cv=3,scoring='recall_macro',\n",
    "                   verbose=2, n_jobs=-1)\n",
    "grid.fit(X_train,y_train)\n",
    "## Display best params\n",
    "grid.best_params_"
   ]
  },
  {
   "cell_type": "code",
   "execution_count": 75,
   "metadata": {
    "ExecuteTime": {
     "end_time": "2021-06-03T00:20:05.320354Z",
     "start_time": "2021-06-03T00:20:05.263387Z"
    }
   },
   "outputs": [
    {
     "data": {
      "text/plain": [
       "Pipeline(steps=[('text_pipe',\n",
       "                 Pipeline(steps=[('count_vectorizer',\n",
       "                                  CountVectorizer(min_df=2,\n",
       "                                                  stop_words=['i', 'me', 'my',\n",
       "                                                              'myself', 'we',\n",
       "                                                              'our', 'ours',\n",
       "                                                              'ourselves',\n",
       "                                                              'you', \"you're\",\n",
       "                                                              \"you've\",\n",
       "                                                              \"you'll\", \"you'd\",\n",
       "                                                              'your', 'yours',\n",
       "                                                              'yourself',\n",
       "                                                              'yourselves',\n",
       "                                                              'he', 'him',\n",
       "                                                              'his', 'himself',\n",
       "                                                              'she', \"she's\",\n",
       "                                                              'her', 'hers',\n",
       "                                                              'herself', 'it',\n",
       "                                                              \"it's\", 'its',\n",
       "                                                              'itself', ...],\n",
       "                                                  tokenizer=<bound method TweetTokenizer.tokenize of <nltk.tokenize.casual.TweetTokenizer object at 0x7fd6a2ac7580>>)),\n",
       "                                 ('tf_transformer',\n",
       "                                  TfidfTransformer(smooth_idf=False))])),\n",
       "                ('clf',\n",
       "                 RandomForestClassifier(class_weight='balanced',\n",
       "                                        max_depth=10))])"
      ]
     },
     "execution_count": 75,
     "metadata": {},
     "output_type": "execute_result"
    }
   ],
   "source": [
    "## Evluate the best_estimator\n",
    "best_pipe = grid.best_estimator_\n",
    "best_pipe"
   ]
  },
  {
   "cell_type": "code",
   "execution_count": 76,
   "metadata": {
    "ExecuteTime": {
     "end_time": "2021-06-03T00:20:05.328253Z",
     "start_time": "2021-06-03T00:20:05.322614Z"
    }
   },
   "outputs": [
    {
     "data": {
      "text/plain": [
       "{'analyzer': 'word',\n",
       " 'binary': False,\n",
       " 'decode_error': 'strict',\n",
       " 'dtype': numpy.int64,\n",
       " 'encoding': 'utf-8',\n",
       " 'input': 'content',\n",
       " 'lowercase': True,\n",
       " 'max_df': 1.0,\n",
       " 'max_features': None,\n",
       " 'min_df': 1,\n",
       " 'ngram_range': (1, 1),\n",
       " 'preprocessor': None,\n",
       " 'stop_words': None,\n",
       " 'strip_accents': None,\n",
       " 'token_pattern': '(?u)\\\\b\\\\w\\\\w+\\\\b',\n",
       " 'tokenizer': <bound method TweetTokenizer.tokenize of <nltk.tokenize.casual.TweetTokenizer object at 0x7fd6970b24c0>>,\n",
       " 'vocabulary': None}"
      ]
     },
     "execution_count": 76,
     "metadata": {},
     "output_type": "execute_result"
    }
   ],
   "source": [
    "## Check the named steps for text_pipe, count_vectorizer, and get params\n",
    "rf_pipe.named_steps['text_pipe'].named_steps['count_vectorizer'].get_params()"
   ]
  },
  {
   "cell_type": "code",
   "execution_count": 77,
   "metadata": {
    "ExecuteTime": {
     "end_time": "2021-06-03T00:20:05.335150Z",
     "start_time": "2021-06-03T00:20:05.330872Z"
    }
   },
   "outputs": [
    {
     "data": {
      "text/plain": [
       "<bound method TweetTokenizer.tokenize of <nltk.tokenize.casual.TweetTokenizer object at 0x7fd6970b24c0>>"
      ]
     },
     "execution_count": 77,
     "metadata": {},
     "output_type": "execute_result"
    }
   ],
   "source": [
    "vectorizer_params = rf_pipe.named_steps['text_pipe'].named_steps['count_vectorizer'].get_params()\n",
    "vectorizer_params['tokenizer']#.get_params()\n"
   ]
  },
  {
   "cell_type": "code",
   "execution_count": 78,
   "metadata": {
    "ExecuteTime": {
     "end_time": "2021-06-03T00:20:05.351253Z",
     "start_time": "2021-06-03T00:20:05.338039Z"
    }
   },
   "outputs": [
    {
     "data": {
      "text/plain": [
       "Pipeline(steps=[('count_vectorizer',\n",
       "                 CountVectorizer(min_df=2,\n",
       "                                 stop_words=['i', 'me', 'my', 'myself', 'we',\n",
       "                                             'our', 'ours', 'ourselves', 'you',\n",
       "                                             \"you're\", \"you've\", \"you'll\",\n",
       "                                             \"you'd\", 'your', 'yours',\n",
       "                                             'yourself', 'yourselves', 'he',\n",
       "                                             'him', 'his', 'himself', 'she',\n",
       "                                             \"she's\", 'her', 'hers', 'herself',\n",
       "                                             'it', \"it's\", 'its', 'itself', ...],\n",
       "                                 tokenizer=<bound method TweetTokenizer.tokenize of <nltk.tokenize.casual.TweetTokenizer object at 0x7fd6a2ac7580>>)),\n",
       "                ('tf_transformer', TfidfTransformer(smooth_idf=False))])"
      ]
     },
     "execution_count": 78,
     "metadata": {},
     "output_type": "execute_result"
    }
   ],
   "source": [
    "## Which topkenizer did it use?\n",
    "best_pipe.named_steps['text_pipe']#.named_steps['tokenizer']"
   ]
  },
  {
   "cell_type": "code",
   "execution_count": 79,
   "metadata": {
    "ExecuteTime": {
     "end_time": "2021-06-03T00:20:06.045566Z",
     "start_time": "2021-06-03T00:20:05.353464Z"
    }
   },
   "outputs": [
    {
     "name": "stdout",
     "output_type": "stream",
     "text": [
      "              precision    recall  f1-score   support\n",
      "\n",
      "           0       0.79      0.62      0.70        72\n",
      "           1       0.78      0.89      0.83       109\n",
      "\n",
      "    accuracy                           0.78       181\n",
      "   macro avg       0.79      0.76      0.77       181\n",
      "weighted avg       0.79      0.78      0.78       181\n",
      "\n"
     ]
    },
    {
     "data": {
      "image/png": "[encoded data removed]",
      "text/plain": [
       "<Figure size 720x288 with 3 Axes>"
      ]
     },
     "metadata": {
      "needs_background": "light"
     },
     "output_type": "display_data"
    },
    {
     "name": "stdout",
     "output_type": "stream",
     "text": [
      "Training Score = 0.89\n",
      "Test Score = 0.78\n"
     ]
    }
   ],
   "source": [
    "### evalaute the best pipe\n",
    "evaluate_classification(best_pipe,X_test, y_test,X_train=X_train,\n",
    "                        y_train=y_train)"
   ]
  },
  {
   "cell_type": "markdown",
   "metadata": {},
   "source": [
    "## Get feature importances as text"
   ]
  },
  {
   "cell_type": "code",
   "execution_count": 80,
   "metadata": {
    "ExecuteTime": {
     "end_time": "2021-06-03T00:20:06.148066Z",
     "start_time": "2021-06-03T00:20:06.048713Z"
    }
   },
   "outputs": [
    {
     "data": {
      "text/plain": [
       "<422x2240 sparse matrix of type '<class 'numpy.float64'>'\n",
       "\twith 8768 stored elements in Compressed Sparse Row format>"
      ]
     },
     "execution_count": 80,
     "metadata": {},
     "output_type": "execute_result"
    }
   ],
   "source": [
    "X_train_pipe = text_pipe.fit_transform(X_train)\n",
    "X_test_pipe = text_pipe.transform(X_test)\n",
    "X_train_pipe"
   ]
  },
  {
   "cell_type": "code",
   "execution_count": 81,
   "metadata": {
    "ExecuteTime": {
     "end_time": "2021-06-03T00:20:06.153965Z",
     "start_time": "2021-06-03T00:20:06.150356Z"
    }
   },
   "outputs": [
    {
     "data": {
      "text/plain": [
       "(422, 2240)"
      ]
     },
     "execution_count": 81,
     "metadata": {},
     "output_type": "execute_result"
    }
   ],
   "source": [
    "X_train_pipe.shape"
   ]
  },
  {
   "cell_type": "code",
   "execution_count": 82,
   "metadata": {
    "ExecuteTime": {
     "end_time": "2021-06-03T00:20:06.161551Z",
     "start_time": "2021-06-03T00:20:06.156045Z"
    }
   },
   "outputs": [
    {
     "data": {
      "text/plain": [
       "CountVectorizer(min_df=2,\n",
       "                stop_words=['i', 'me', 'my', 'myself', 'we', 'our', 'ours',\n",
       "                            'ourselves', 'you', \"you're\", \"you've\", \"you'll\",\n",
       "                            \"you'd\", 'your', 'yours', 'yourself', 'yourselves',\n",
       "                            'he', 'him', 'his', 'himself', 'she', \"she's\",\n",
       "                            'her', 'hers', 'herself', 'it', \"it's\", 'its',\n",
       "                            'itself', ...],\n",
       "                tokenizer=<bound method TweetTokenizer.tokenize of <nltk.tokenize.casual.TweetTokenizer object at 0x7fd6a2ac7580>>)"
      ]
     },
     "execution_count": 82,
     "metadata": {},
     "output_type": "execute_result"
    }
   ],
   "source": [
    "## Get CountVectorizer from pipe\n",
    "vect_from_pipe = best_pipe.named_steps['text_pipe'].named_steps['count_vectorizer']\n",
    "vect_from_pipe"
   ]
  },
  {
   "cell_type": "code",
   "execution_count": 83,
   "metadata": {
    "ExecuteTime": {
     "end_time": "2021-06-03T00:20:06.168132Z",
     "start_time": "2021-06-03T00:20:06.163827Z"
    }
   },
   "outputs": [
    {
     "data": {
      "text/plain": [
       "TfidfTransformer()"
      ]
     },
     "execution_count": 83,
     "metadata": {},
     "output_type": "execute_result"
    }
   ],
   "source": [
    "## Get TfidfTransformer from pipe\n",
    "tf_from_pipe = rf_pipe.named_steps['text_pipe'].named_steps['tf_transformer']\n",
    "tf_from_pipe"
   ]
  },
  {
   "cell_type": "code",
   "execution_count": 84,
   "metadata": {
    "ExecuteTime": {
     "end_time": "2021-06-03T00:20:06.174816Z",
     "start_time": "2021-06-03T00:20:06.170207Z"
    }
   },
   "outputs": [
    {
     "data": {
      "text/plain": [
       "['#americafirst',\n",
       " '#icymi',\n",
       " '#inauguration2017',\n",
       " '#maga',\n",
       " '#marchforlife',\n",
       " '#thankyoutour2016',\n",
       " '..',\n",
       " '00',\n",
       " '1',\n",
       " '10']"
      ]
     },
     "execution_count": 84,
     "metadata": {},
     "output_type": "execute_result"
    }
   ],
   "source": [
    "## Get feature naames from vectorizer\n",
    "features = vect_from_pipe.get_feature_names()\n",
    "features[:10]"
   ]
  },
  {
   "cell_type": "code",
   "execution_count": 85,
   "metadata": {
    "ExecuteTime": {
     "end_time": "2021-06-03T00:20:06.182020Z",
     "start_time": "2021-06-03T00:20:06.177447Z"
    }
   },
   "outputs": [
    {
     "data": {
      "text/plain": [
       "783"
      ]
     },
     "execution_count": 85,
     "metadata": {},
     "output_type": "execute_result"
    }
   ],
   "source": [
    "## Check the len of features \n",
    "len(features)"
   ]
  },
  {
   "cell_type": "code",
   "execution_count": 86,
   "metadata": {
    "ExecuteTime": {
     "end_time": "2021-06-03T00:20:06.203676Z",
     "start_time": "2021-06-03T00:20:06.185195Z"
    }
   },
   "outputs": [
    {
     "data": {
      "text/plain": [
       "783"
      ]
     },
     "execution_count": 86,
     "metadata": {},
     "output_type": "execute_result"
    }
   ],
   "source": [
    "## Check the length of feature importanceas\n",
    "len(best_pipe.named_steps['clf'].feature_importances_)"
   ]
  },
  {
   "cell_type": "code",
   "execution_count": 87,
   "metadata": {
    "ExecuteTime": {
     "end_time": "2021-06-03T00:20:06.227381Z",
     "start_time": "2021-06-03T00:20:06.205904Z"
    }
   },
   "outputs": [
    {
     "data": {
      "text/plain": [
       "join                 0.046316\n",
       "jobs                 0.037419\n",
       "#thankyoutour2016    0.024480\n",
       "election             0.022632\n",
       "thank                0.021529\n",
       "                       ...   \n",
       "etc                  0.000000\n",
       "spoke                0.000000\n",
       "lose                 0.000000\n",
       "ever                 0.000000\n",
       "knew                 0.000000\n",
       "Length: 783, dtype: float64"
      ]
     },
     "execution_count": 87,
     "metadata": {},
     "output_type": "execute_result"
    }
   ],
   "source": [
    "## Save feature importances as a series\n",
    "importance = pd.Series(best_pipe.named_steps['clf'].feature_importances_,\n",
    "                       index= features)\n",
    "importance.sort_values(ascending=False)"
   ]
  },
  {
   "cell_type": "code",
   "execution_count": 88,
   "metadata": {
    "ExecuteTime": {
     "end_time": "2021-06-03T00:20:06.560044Z",
     "start_time": "2021-06-03T00:20:06.229698Z"
    }
   },
   "outputs": [
    {
     "name": "stderr",
     "output_type": "stream",
     "text": [
      "/opt/anaconda3/envs/learn-env-new/lib/python3.8/site-packages/matplotlib/backends/backend_agg.py:238: RuntimeWarning: Glyph 127480 missing from current font.\n",
      "  font.set_text(s, 0.0, flags=flags)\n",
      "/opt/anaconda3/envs/learn-env-new/lib/python3.8/site-packages/matplotlib/backends/backend_agg.py:238: RuntimeWarning: Glyph 127482 missing from current font.\n",
      "  font.set_text(s, 0.0, flags=flags)\n",
      "/opt/anaconda3/envs/learn-env-new/lib/python3.8/site-packages/matplotlib/backends/backend_agg.py:201: RuntimeWarning: Glyph 127480 missing from current font.\n",
      "  font.set_text(s, 0, flags=flags)\n",
      "/opt/anaconda3/envs/learn-env-new/lib/python3.8/site-packages/matplotlib/backends/backend_agg.py:201: RuntimeWarning: Glyph 127482 missing from current font.\n",
      "  font.set_text(s, 0, flags=flags)\n"
     ]
    },
    {
     "data": {
      "image/png": "[encoded data removed]",
      "text/plain": [
       "<Figure size 748.8x514.8 with 1 Axes>"
      ]
     },
     "metadata": {
      "needs_background": "light"
     },
     "output_type": "display_data"
    }
   ],
   "source": [
    "with plt.style.context('seaborn-talk'):\n",
    "    importance.sort_values().tail(30).plot(kind='barh')"
   ]
  },
  {
   "cell_type": "code",
   "execution_count": 89,
   "metadata": {
    "ExecuteTime": {
     "end_time": "2021-06-03T00:20:06.565258Z",
     "start_time": "2021-06-03T00:20:06.562222Z"
    }
   },
   "outputs": [],
   "source": [
    "# df[df['text'].str.contains('...',regex=False)]['source'].value_counts(normalize=True)"
   ]
  },
  {
   "cell_type": "code",
   "execution_count": 90,
   "metadata": {
    "ExecuteTime": {
     "end_time": "2021-06-03T00:20:06.615841Z",
     "start_time": "2021-06-03T00:20:06.567644Z"
    },
    "scrolled": false
   },
   "outputs": [],
   "source": [
    "## Saving the probability of \n",
    "top_word_probs = {}\n",
    "for word in importance.tail(20).index:\n",
    "    rows = df['text'].str.contains(word,regex=False,case=False)\n",
    "    val_count= df[rows]['source'].value_counts(normalize=True)\n",
    "    top_word_probs[word] = val_count\n",
    "#     print(f'\\n\\n{word}:\\n{val_count}')"
   ]
  },
  {
   "cell_type": "code",
   "execution_count": 91,
   "metadata": {
    "ExecuteTime": {
     "end_time": "2021-06-03T00:20:06.707473Z",
     "start_time": "2021-06-03T00:20:06.617999Z"
    }
   },
   "outputs": [
    {
     "data": {
      "text/html": [
       "<style  type=\"text/css\" >\n",
       "#T_72ebea90_c401_11eb_8d00_acde48001122row0_col0,#T_72ebea90_c401_11eb_8d00_acde48001122row1_col0,#T_72ebea90_c401_11eb_8d00_acde48001122row3_col0,#T_72ebea90_c401_11eb_8d00_acde48001122row4_col0,#T_72ebea90_c401_11eb_8d00_acde48001122row5_col0,#T_72ebea90_c401_11eb_8d00_acde48001122row7_col0,#T_72ebea90_c401_11eb_8d00_acde48001122row8_col0,#T_72ebea90_c401_11eb_8d00_acde48001122row9_col0,#T_72ebea90_c401_11eb_8d00_acde48001122row10_col1,#T_72ebea90_c401_11eb_8d00_acde48001122row11_col0,#T_72ebea90_c401_11eb_8d00_acde48001122row12_col0,#T_72ebea90_c401_11eb_8d00_acde48001122row13_col1,#T_72ebea90_c401_11eb_8d00_acde48001122row14_col1,#T_72ebea90_c401_11eb_8d00_acde48001122row15_col1,#T_72ebea90_c401_11eb_8d00_acde48001122row16_col1,#T_72ebea90_c401_11eb_8d00_acde48001122row17_col1,#T_72ebea90_c401_11eb_8d00_acde48001122row18_col1,#T_72ebea90_c401_11eb_8d00_acde48001122row19_col1{\n",
       "            background-color:  #023858;\n",
       "            color:  #f1f1f1;\n",
       "        }#T_72ebea90_c401_11eb_8d00_acde48001122row0_col1,#T_72ebea90_c401_11eb_8d00_acde48001122row1_col1,#T_72ebea90_c401_11eb_8d00_acde48001122row2_col0,#T_72ebea90_c401_11eb_8d00_acde48001122row2_col1,#T_72ebea90_c401_11eb_8d00_acde48001122row3_col1,#T_72ebea90_c401_11eb_8d00_acde48001122row4_col1,#T_72ebea90_c401_11eb_8d00_acde48001122row5_col1,#T_72ebea90_c401_11eb_8d00_acde48001122row6_col0,#T_72ebea90_c401_11eb_8d00_acde48001122row6_col1,#T_72ebea90_c401_11eb_8d00_acde48001122row7_col1,#T_72ebea90_c401_11eb_8d00_acde48001122row8_col1,#T_72ebea90_c401_11eb_8d00_acde48001122row9_col1,#T_72ebea90_c401_11eb_8d00_acde48001122row10_col0,#T_72ebea90_c401_11eb_8d00_acde48001122row11_col1,#T_72ebea90_c401_11eb_8d00_acde48001122row12_col1,#T_72ebea90_c401_11eb_8d00_acde48001122row13_col0,#T_72ebea90_c401_11eb_8d00_acde48001122row14_col0,#T_72ebea90_c401_11eb_8d00_acde48001122row15_col0,#T_72ebea90_c401_11eb_8d00_acde48001122row16_col0,#T_72ebea90_c401_11eb_8d00_acde48001122row17_col0,#T_72ebea90_c401_11eb_8d00_acde48001122row18_col0,#T_72ebea90_c401_11eb_8d00_acde48001122row19_col0{\n",
       "            background-color:  #fff7fb;\n",
       "            color:  #000000;\n",
       "        }</style><table id=\"T_72ebea90_c401_11eb_8d00_acde48001122\" ><thead>    <tr>        <th class=\"blank level0\" ></th>        <th class=\"col_heading level0 col0\" >Twitter for Android</th>        <th class=\"col_heading level0 col1\" >Twitter for iPhone</th>    </tr></thead><tbody>\n",
       "                <tr>\n",
       "                        <th id=\"T_72ebea90_c401_11eb_8d00_acde48001122level0_row0\" class=\"row_heading level0 row0\" >wonderful</th>\n",
       "                        <td id=\"T_72ebea90_c401_11eb_8d00_acde48001122row0_col0\" class=\"data row0 col0\" >0.571429</td>\n",
       "                        <td id=\"T_72ebea90_c401_11eb_8d00_acde48001122row0_col1\" class=\"data row0 col1\" >0.428571</td>\n",
       "            </tr>\n",
       "            <tr>\n",
       "                        <th id=\"T_72ebea90_c401_11eb_8d00_acde48001122level0_row1\" class=\"row_heading level0 row1\" >work</th>\n",
       "                        <td id=\"T_72ebea90_c401_11eb_8d00_acde48001122row1_col0\" class=\"data row1 col0\" >0.793103</td>\n",
       "                        <td id=\"T_72ebea90_c401_11eb_8d00_acde48001122row1_col1\" class=\"data row1 col1\" >0.206897</td>\n",
       "            </tr>\n",
       "            <tr>\n",
       "                        <th id=\"T_72ebea90_c401_11eb_8d00_acde48001122level0_row2\" class=\"row_heading level0 row2\" >workforce</th>\n",
       "                        <td id=\"T_72ebea90_c401_11eb_8d00_acde48001122row2_col0\" class=\"data row2 col0\" >0.500000</td>\n",
       "                        <td id=\"T_72ebea90_c401_11eb_8d00_acde48001122row2_col1\" class=\"data row2 col1\" >0.500000</td>\n",
       "            </tr>\n",
       "            <tr>\n",
       "                        <th id=\"T_72ebea90_c401_11eb_8d00_acde48001122level0_row3\" class=\"row_heading level0 row3\" >working</th>\n",
       "                        <td id=\"T_72ebea90_c401_11eb_8d00_acde48001122row3_col0\" class=\"data row3 col0\" >0.700000</td>\n",
       "                        <td id=\"T_72ebea90_c401_11eb_8d00_acde48001122row3_col1\" class=\"data row3 col1\" >0.300000</td>\n",
       "            </tr>\n",
       "            <tr>\n",
       "                        <th id=\"T_72ebea90_c401_11eb_8d00_acde48001122level0_row4\" class=\"row_heading level0 row4\" >world</th>\n",
       "                        <td id=\"T_72ebea90_c401_11eb_8d00_acde48001122row4_col0\" class=\"data row4 col0\" >0.812500</td>\n",
       "                        <td id=\"T_72ebea90_c401_11eb_8d00_acde48001122row4_col1\" class=\"data row4 col1\" >0.187500</td>\n",
       "            </tr>\n",
       "            <tr>\n",
       "                        <th id=\"T_72ebea90_c401_11eb_8d00_acde48001122level0_row5\" class=\"row_heading level0 row5\" >worse</th>\n",
       "                        <td id=\"T_72ebea90_c401_11eb_8d00_acde48001122row5_col0\" class=\"data row5 col0\" >0.857143</td>\n",
       "                        <td id=\"T_72ebea90_c401_11eb_8d00_acde48001122row5_col1\" class=\"data row5 col1\" >0.142857</td>\n",
       "            </tr>\n",
       "            <tr>\n",
       "                        <th id=\"T_72ebea90_c401_11eb_8d00_acde48001122level0_row6\" class=\"row_heading level0 row6\" >worst</th>\n",
       "                        <td id=\"T_72ebea90_c401_11eb_8d00_acde48001122row6_col0\" class=\"data row6 col0\" >0.500000</td>\n",
       "                        <td id=\"T_72ebea90_c401_11eb_8d00_acde48001122row6_col1\" class=\"data row6 col1\" >0.500000</td>\n",
       "            </tr>\n",
       "            <tr>\n",
       "                        <th id=\"T_72ebea90_c401_11eb_8d00_acde48001122level0_row7\" class=\"row_heading level0 row7\" >would</th>\n",
       "                        <td id=\"T_72ebea90_c401_11eb_8d00_acde48001122row7_col0\" class=\"data row7 col0\" >0.850000</td>\n",
       "                        <td id=\"T_72ebea90_c401_11eb_8d00_acde48001122row7_col1\" class=\"data row7 col1\" >0.150000</td>\n",
       "            </tr>\n",
       "            <tr>\n",
       "                        <th id=\"T_72ebea90_c401_11eb_8d00_acde48001122level0_row8\" class=\"row_heading level0 row8\" >wrong</th>\n",
       "                        <td id=\"T_72ebea90_c401_11eb_8d00_acde48001122row8_col0\" class=\"data row8 col0\" >1.000000</td>\n",
       "                        <td id=\"T_72ebea90_c401_11eb_8d00_acde48001122row8_col1\" class=\"data row8 col1\" >0.000000</td>\n",
       "            </tr>\n",
       "            <tr>\n",
       "                        <th id=\"T_72ebea90_c401_11eb_8d00_acde48001122level0_row9\" class=\"row_heading level0 row9\" >year</th>\n",
       "                        <td id=\"T_72ebea90_c401_11eb_8d00_acde48001122row9_col0\" class=\"data row9 col0\" >0.575758</td>\n",
       "                        <td id=\"T_72ebea90_c401_11eb_8d00_acde48001122row9_col1\" class=\"data row9 col1\" >0.424242</td>\n",
       "            </tr>\n",
       "            <tr>\n",
       "                        <th id=\"T_72ebea90_c401_11eb_8d00_acde48001122level0_row10\" class=\"row_heading level0 row10\" >years</th>\n",
       "                        <td id=\"T_72ebea90_c401_11eb_8d00_acde48001122row10_col0\" class=\"data row10 col0\" >0.466667</td>\n",
       "                        <td id=\"T_72ebea90_c401_11eb_8d00_acde48001122row10_col1\" class=\"data row10 col1\" >0.533333</td>\n",
       "            </tr>\n",
       "            <tr>\n",
       "                        <th id=\"T_72ebea90_c401_11eb_8d00_acde48001122level0_row11\" class=\"row_heading level0 row11\" >yes</th>\n",
       "                        <td id=\"T_72ebea90_c401_11eb_8d00_acde48001122row11_col0\" class=\"data row11 col0\" >0.909091</td>\n",
       "                        <td id=\"T_72ebea90_c401_11eb_8d00_acde48001122row11_col1\" class=\"data row11 col1\" >0.090909</td>\n",
       "            </tr>\n",
       "            <tr>\n",
       "                        <th id=\"T_72ebea90_c401_11eb_8d00_acde48001122level0_row12\" class=\"row_heading level0 row12\" >yesterday</th>\n",
       "                        <td id=\"T_72ebea90_c401_11eb_8d00_acde48001122row12_col0\" class=\"data row12 col0\" >0.888889</td>\n",
       "                        <td id=\"T_72ebea90_c401_11eb_8d00_acde48001122row12_col1\" class=\"data row12 col1\" >0.111111</td>\n",
       "            </tr>\n",
       "            <tr>\n",
       "                        <th id=\"T_72ebea90_c401_11eb_8d00_acde48001122level0_row13\" class=\"row_heading level0 row13\" >yet</th>\n",
       "                        <td id=\"T_72ebea90_c401_11eb_8d00_acde48001122row13_col0\" class=\"data row13 col0\" >0.444444</td>\n",
       "                        <td id=\"T_72ebea90_c401_11eb_8d00_acde48001122row13_col1\" class=\"data row13 col1\" >0.555556</td>\n",
       "            </tr>\n",
       "            <tr>\n",
       "                        <th id=\"T_72ebea90_c401_11eb_8d00_acde48001122level0_row14\" class=\"row_heading level0 row14\" >–</th>\n",
       "                        <td id=\"T_72ebea90_c401_11eb_8d00_acde48001122row14_col0\" class=\"data row14 col0\" >0.200000</td>\n",
       "                        <td id=\"T_72ebea90_c401_11eb_8d00_acde48001122row14_col1\" class=\"data row14 col1\" >0.800000</td>\n",
       "            </tr>\n",
       "            <tr>\n",
       "                        <th id=\"T_72ebea90_c401_11eb_8d00_acde48001122level0_row15\" class=\"row_heading level0 row15\" >—</th>\n",
       "                        <td id=\"T_72ebea90_c401_11eb_8d00_acde48001122row15_col0\" class=\"data row15 col0\" >0.000000</td>\n",
       "                        <td id=\"T_72ebea90_c401_11eb_8d00_acde48001122row15_col1\" class=\"data row15 col1\" >1.000000</td>\n",
       "            </tr>\n",
       "            <tr>\n",
       "                        <th id=\"T_72ebea90_c401_11eb_8d00_acde48001122level0_row16\" class=\"row_heading level0 row16\" >➡</th>\n",
       "                        <td id=\"T_72ebea90_c401_11eb_8d00_acde48001122row16_col0\" class=\"data row16 col0\" >0.000000</td>\n",
       "                        <td id=\"T_72ebea90_c401_11eb_8d00_acde48001122row16_col1\" class=\"data row16 col1\" >1.000000</td>\n",
       "            </tr>\n",
       "            <tr>\n",
       "                        <th id=\"T_72ebea90_c401_11eb_8d00_acde48001122level0_row17\" class=\"row_heading level0 row17\" >️https</th>\n",
       "                        <td id=\"T_72ebea90_c401_11eb_8d00_acde48001122row17_col0\" class=\"data row17 col0\" >0.000000</td>\n",
       "                        <td id=\"T_72ebea90_c401_11eb_8d00_acde48001122row17_col1\" class=\"data row17 col1\" >1.000000</td>\n",
       "            </tr>\n",
       "            <tr>\n",
       "                        <th id=\"T_72ebea90_c401_11eb_8d00_acde48001122level0_row18\" class=\"row_heading level0 row18\" >🇸</th>\n",
       "                        <td id=\"T_72ebea90_c401_11eb_8d00_acde48001122row18_col0\" class=\"data row18 col0\" >0.000000</td>\n",
       "                        <td id=\"T_72ebea90_c401_11eb_8d00_acde48001122row18_col1\" class=\"data row18 col1\" >1.000000</td>\n",
       "            </tr>\n",
       "            <tr>\n",
       "                        <th id=\"T_72ebea90_c401_11eb_8d00_acde48001122level0_row19\" class=\"row_heading level0 row19\" >🇺</th>\n",
       "                        <td id=\"T_72ebea90_c401_11eb_8d00_acde48001122row19_col0\" class=\"data row19 col0\" >0.000000</td>\n",
       "                        <td id=\"T_72ebea90_c401_11eb_8d00_acde48001122row19_col1\" class=\"data row19 col1\" >1.000000</td>\n",
       "            </tr>\n",
       "    </tbody></table>"
      ],
      "text/plain": [
       "<pandas.io.formats.style.Styler at 0x7fd6a2da7c40>"
      ]
     },
     "execution_count": 91,
     "metadata": {},
     "output_type": "execute_result"
    }
   ],
   "source": [
    "top_probs = pd.DataFrame(top_word_probs).T.fillna(0.0)\n",
    "top_probs.style.background_gradient(axis=1)"
   ]
  },
  {
   "cell_type": "markdown",
   "metadata": {},
   "source": [
    "# **`Part 2` Topic 28: Bayesian Classification**"
   ]
  },
  {
   "cell_type": "markdown",
   "metadata": {},
   "source": [
    "## Learning Objectives"
   ]
  },
  {
   "cell_type": "markdown",
   "metadata": {},
   "source": [
    "- Understand how Bayes theorem can be applied to classify data using conditional probabilities.\n",
    "\n",
    "- Understand Gaussian Naive Bayes and how it uses the Probability Density Function of a Normal Distribution \n",
    "\n",
    "- Understand the \"underflow\" issue and how to fix.\n",
    "\n",
    "\n",
    "- Apply Naive Bayes manually and with sklearn\n",
    "\n",
    "    - Activity 1: Gaussian Naive Bayes Lab\n",
    "    - Activity 2: Document Classification with Naive Bayes"
   ]
  },
  {
   "cell_type": "markdown",
   "metadata": {},
   "source": [
    "## Bayes Theorem Revisited"
   ]
  },
  {
   "cell_type": "markdown",
   "metadata": {},
   "source": [
    "$$ \\large P(A|B) = \\dfrac{P(B|A)(A)}{P(B)}$$\n",
    "\n",
    "\n",
    "\n",
    "\n",
    "\n",
    "$$ \\Large P(y|x_1, x_2, ..., x_n) = \\frac{P(y)\\prod_{i}^{n}P(x_i|y)}{P(x_1, x_2, ..., x_n)}$$ \n"
   ]
  },
  {
   "cell_type": "markdown",
   "metadata": {},
   "source": [
    "***The Bayesian interpretation of this formula is***\n",
    "\n",
    "\n",
    "\n",
    "$$ \\large P(A|B) = \\dfrac{P(B|A)P(A)}{P(B)}$$\n",
    "\n",
    "\n",
    "$$ \\large \\text{Posterior} = \\dfrac{\\text{Likelihood} \\cdot \\text{Prior}}{\\text{Evidence}}$$"
   ]
  },
  {
   "cell_type": "markdown",
   "metadata": {},
   "source": [
    "## Gaussian Naive Bayes [Non-Text Data]"
   ]
  },
  {
   "cell_type": "markdown",
   "metadata": {},
   "source": [
    "- Gaussian Naive Bayes makes the assumption that our probabilities follow a normal distribution.\n",
    "- It uses the Probability Density Function for a Normal (Gaussian) Distribution to get point estimates of the probabilities.\n",
    "\n",
    "> **Note: above we used the normal distribution probability density function to estimate likelihood, which is essentiall what Guassian Naive Bayes does!!**\n"
   ]
  },
  {
   "cell_type": "code",
   "execution_count": 92,
   "metadata": {
    "ExecuteTime": {
     "end_time": "2021-06-03T00:20:06.726501Z",
     "start_time": "2021-06-03T00:20:06.710065Z"
    }
   },
   "outputs": [
    {
     "data": {
      "text/html": [
       "<div>\n",
       "<style scoped>\n",
       "    .dataframe tbody tr th:only-of-type {\n",
       "        vertical-align: middle;\n",
       "    }\n",
       "\n",
       "    .dataframe tbody tr th {\n",
       "        vertical-align: top;\n",
       "    }\n",
       "\n",
       "    .dataframe thead th {\n",
       "        text-align: right;\n",
       "    }\n",
       "</style>\n",
       "<table border=\"1\" class=\"dataframe\">\n",
       "  <thead>\n",
       "    <tr style=\"text-align: right;\">\n",
       "      <th></th>\n",
       "      <th>sepal length (cm)</th>\n",
       "      <th>sepal width (cm)</th>\n",
       "      <th>petal length (cm)</th>\n",
       "      <th>petal width (cm)</th>\n",
       "      <th>Target</th>\n",
       "    </tr>\n",
       "  </thead>\n",
       "  <tbody>\n",
       "    <tr>\n",
       "      <th>0</th>\n",
       "      <td>5.1</td>\n",
       "      <td>3.5</td>\n",
       "      <td>1.4</td>\n",
       "      <td>0.2</td>\n",
       "      <td>0</td>\n",
       "    </tr>\n",
       "    <tr>\n",
       "      <th>1</th>\n",
       "      <td>4.9</td>\n",
       "      <td>3.0</td>\n",
       "      <td>1.4</td>\n",
       "      <td>0.2</td>\n",
       "      <td>0</td>\n",
       "    </tr>\n",
       "    <tr>\n",
       "      <th>2</th>\n",
       "      <td>4.7</td>\n",
       "      <td>3.2</td>\n",
       "      <td>1.3</td>\n",
       "      <td>0.2</td>\n",
       "      <td>0</td>\n",
       "    </tr>\n",
       "    <tr>\n",
       "      <th>3</th>\n",
       "      <td>4.6</td>\n",
       "      <td>3.1</td>\n",
       "      <td>1.5</td>\n",
       "      <td>0.2</td>\n",
       "      <td>0</td>\n",
       "    </tr>\n",
       "    <tr>\n",
       "      <th>4</th>\n",
       "      <td>5.0</td>\n",
       "      <td>3.6</td>\n",
       "      <td>1.4</td>\n",
       "      <td>0.2</td>\n",
       "      <td>0</td>\n",
       "    </tr>\n",
       "  </tbody>\n",
       "</table>\n",
       "</div>"
      ],
      "text/plain": [
       "   sepal length (cm)  sepal width (cm)  petal length (cm)  petal width (cm)  \\\n",
       "0                5.1               3.5                1.4               0.2   \n",
       "1                4.9               3.0                1.4               0.2   \n",
       "2                4.7               3.2                1.3               0.2   \n",
       "3                4.6               3.1                1.5               0.2   \n",
       "4                5.0               3.6                1.4               0.2   \n",
       "\n",
       "   Target  \n",
       "0       0  \n",
       "1       0  \n",
       "2       0  \n",
       "3       0  \n",
       "4       0  "
      ]
     },
     "execution_count": 92,
     "metadata": {},
     "output_type": "execute_result"
    }
   ],
   "source": [
    "from scipy import stats\n",
    "from sklearn import datasets\n",
    "iris = datasets.load_iris()\n",
    "\n",
    "X = pd.DataFrame(iris.data)\n",
    "X.columns = iris.feature_names\n",
    "\n",
    "y = pd.DataFrame(iris.target)\n",
    "y.columns = ['Target']\n",
    "\n",
    "df = pd.concat([X, y], axis=1)\n",
    "df.head()"
   ]
  },
  {
   "cell_type": "code",
   "execution_count": 93,
   "metadata": {
    "ExecuteTime": {
     "end_time": "2021-06-03T00:20:06.752650Z",
     "start_time": "2021-06-03T00:20:06.728506Z"
    }
   },
   "outputs": [
    {
     "data": {
      "text/html": [
       "<div>\n",
       "<style scoped>\n",
       "    .dataframe tbody tr th:only-of-type {\n",
       "        vertical-align: middle;\n",
       "    }\n",
       "\n",
       "    .dataframe tbody tr th {\n",
       "        vertical-align: top;\n",
       "    }\n",
       "\n",
       "    .dataframe thead tr th {\n",
       "        text-align: left;\n",
       "    }\n",
       "\n",
       "    .dataframe thead tr:last-of-type th {\n",
       "        text-align: right;\n",
       "    }\n",
       "</style>\n",
       "<table border=\"1\" class=\"dataframe\">\n",
       "  <thead>\n",
       "    <tr>\n",
       "      <th></th>\n",
       "      <th colspan=\"2\" halign=\"left\">sepal length (cm)</th>\n",
       "      <th colspan=\"2\" halign=\"left\">sepal width (cm)</th>\n",
       "      <th colspan=\"2\" halign=\"left\">petal length (cm)</th>\n",
       "      <th colspan=\"2\" halign=\"left\">petal width (cm)</th>\n",
       "    </tr>\n",
       "    <tr>\n",
       "      <th></th>\n",
       "      <th>mean</th>\n",
       "      <th>std</th>\n",
       "      <th>mean</th>\n",
       "      <th>std</th>\n",
       "      <th>mean</th>\n",
       "      <th>std</th>\n",
       "      <th>mean</th>\n",
       "      <th>std</th>\n",
       "    </tr>\n",
       "    <tr>\n",
       "      <th>Target</th>\n",
       "      <th></th>\n",
       "      <th></th>\n",
       "      <th></th>\n",
       "      <th></th>\n",
       "      <th></th>\n",
       "      <th></th>\n",
       "      <th></th>\n",
       "      <th></th>\n",
       "    </tr>\n",
       "  </thead>\n",
       "  <tbody>\n",
       "    <tr>\n",
       "      <th>0</th>\n",
       "      <td>5.006</td>\n",
       "      <td>0.352490</td>\n",
       "      <td>3.428</td>\n",
       "      <td>0.379064</td>\n",
       "      <td>1.462</td>\n",
       "      <td>0.173664</td>\n",
       "      <td>0.246</td>\n",
       "      <td>0.105386</td>\n",
       "    </tr>\n",
       "    <tr>\n",
       "      <th>1</th>\n",
       "      <td>5.936</td>\n",
       "      <td>0.516171</td>\n",
       "      <td>2.770</td>\n",
       "      <td>0.313798</td>\n",
       "      <td>4.260</td>\n",
       "      <td>0.469911</td>\n",
       "      <td>1.326</td>\n",
       "      <td>0.197753</td>\n",
       "    </tr>\n",
       "    <tr>\n",
       "      <th>2</th>\n",
       "      <td>6.588</td>\n",
       "      <td>0.635880</td>\n",
       "      <td>2.974</td>\n",
       "      <td>0.322497</td>\n",
       "      <td>5.552</td>\n",
       "      <td>0.551895</td>\n",
       "      <td>2.026</td>\n",
       "      <td>0.274650</td>\n",
       "    </tr>\n",
       "  </tbody>\n",
       "</table>\n",
       "</div>"
      ],
      "text/plain": [
       "       sepal length (cm)           sepal width (cm)            \\\n",
       "                    mean       std             mean       std   \n",
       "Target                                                          \n",
       "0                  5.006  0.352490            3.428  0.379064   \n",
       "1                  5.936  0.516171            2.770  0.313798   \n",
       "2                  6.588  0.635880            2.974  0.322497   \n",
       "\n",
       "       petal length (cm)           petal width (cm)            \n",
       "                    mean       std             mean       std  \n",
       "Target                                                         \n",
       "0                  1.462  0.173664            0.246  0.105386  \n",
       "1                  4.260  0.469911            1.326  0.197753  \n",
       "2                  5.552  0.551895            2.026  0.274650  "
      ]
     },
     "execution_count": 93,
     "metadata": {},
     "output_type": "execute_result"
    }
   ],
   "source": [
    "aggs = df.groupby('Target').agg(['mean', 'std'])\n",
    "aggs"
   ]
  },
  {
   "cell_type": "markdown",
   "metadata": {},
   "source": [
    "$$ \\Large P(x_i|y) = \\frac{1}{\\sqrt{2 \\pi \\sigma_i^2}}e^{\\frac{-(x-\\mu_i)^2}{2\\sigma_i^2}}$$"
   ]
  },
  {
   "cell_type": "markdown",
   "metadata": {},
   "source": [
    "$$ \\Large P(y|x_1, x_2, ..., x_n) = \\frac{P(y)\\prod_{i}^{n}P(x_i|y)}{P(x_1, x_2, ..., x_n)}$$ \n"
   ]
  },
  {
   "cell_type": "code",
   "execution_count": 94,
   "metadata": {
    "ExecuteTime": {
     "end_time": "2021-06-03T00:20:06.763597Z",
     "start_time": "2021-06-03T00:20:06.755186Z"
    }
   },
   "outputs": [
    {
     "data": {
      "text/plain": [
       "2.1553774365786804"
      ]
     },
     "execution_count": 94,
     "metadata": {},
     "output_type": "execute_result"
    }
   ],
   "source": [
    "def p_x_given_class(obs_row, feature, class_):\n",
    "    mu = aggs[feature]['mean'][class_]\n",
    "    std = aggs[feature]['std'][class_]\n",
    "    \n",
    "    # A single observation\n",
    "    obs = df.iloc[obs_row][feature] \n",
    "    \n",
    "    p_x_given_y = stats.norm.pdf(obs, loc=mu, scale=std)\n",
    "    return p_x_given_y\n",
    "\n",
    "# Notice how this is not a true probability; you can get values > 1\n",
    "p_x_given_class(0, 'petal length (cm)', 0) "
   ]
  },
  {
   "cell_type": "code",
   "execution_count": 95,
   "metadata": {
    "ExecuteTime": {
     "end_time": "2021-06-03T00:20:06.788573Z",
     "start_time": "2021-06-03T00:20:06.765533Z"
    }
   },
   "outputs": [
    {
     "data": {
      "text/plain": [
       "[0.0004469582872647558,\n",
       " 0.00044432855867026464,\n",
       " 5.436807559640758e-152,\n",
       " 9.529514999027405e-251,\n",
       " 0.20091323410933296,\n",
       " 0.06135077392562668,\n",
       " 5.488088968636944e-05,\n",
       " 2.460149009916488e-12,\n",
       " 0.1887425821931875,\n",
       " 0.140076102721696,\n",
       " 0.0728335779635225,\n",
       " 0.023861042537402642]"
      ]
     },
     "execution_count": 95,
     "metadata": {},
     "output_type": "execute_result"
    }
   ],
   "source": [
    "row = 100\n",
    "c_probs = []\n",
    "for c in range(3):\n",
    "    # Initialize probability to relative probability of class \n",
    "    p = len(df[df['Target'] == c])/len(df) \n",
    "    for feature in X.columns:\n",
    "        p *= p_x_given_class(row, feature, c) \n",
    "        # Update the probability using the point estimate for each feature\n",
    "        c_probs.append(p)\n",
    "\n",
    "c_probs"
   ]
  },
  {
   "cell_type": "code",
   "execution_count": 96,
   "metadata": {
    "ExecuteTime": {
     "end_time": "2021-06-03T00:20:06.795026Z",
     "start_time": "2021-06-03T00:20:06.791200Z"
    }
   },
   "outputs": [],
   "source": [
    "def predict_class(row):\n",
    "    c_probs = []\n",
    "    for c in range(3):\n",
    "        # Initialize probability to relative probability of class\n",
    "        p = len(df[df['Target'] == c])/len(df) \n",
    "        for feature in X.columns:\n",
    "            p *= p_x_given_class(row, feature, c)\n",
    "        c_probs.append(p)\n",
    "    return np.argmax(c_probs)"
   ]
  },
  {
   "cell_type": "code",
   "execution_count": 97,
   "metadata": {
    "ExecuteTime": {
     "end_time": "2021-06-03T00:20:06.818372Z",
     "start_time": "2021-06-03T00:20:06.797133Z"
    }
   },
   "outputs": [
    {
     "data": {
      "text/plain": [
       "0"
      ]
     },
     "execution_count": 97,
     "metadata": {},
     "output_type": "execute_result"
    }
   ],
   "source": [
    "row = 0\n",
    "df.iloc[row]\n",
    "predict_class(row)"
   ]
  },
  {
   "cell_type": "code",
   "execution_count": 98,
   "metadata": {
    "ExecuteTime": {
     "end_time": "2021-06-03T00:20:08.874837Z",
     "start_time": "2021-06-03T00:20:06.820281Z"
    }
   },
   "outputs": [
    {
     "data": {
      "text/plain": [
       "True     0.96\n",
       "False    0.04\n",
       "Name: Correct?, dtype: float64"
      ]
     },
     "execution_count": 98,
     "metadata": {},
     "output_type": "execute_result"
    }
   ],
   "source": [
    "df['Predictions'] =  [predict_class(row) for row in df.index]\n",
    "df['Correct?'] = df['Target'] == df['Predictions']\n",
    "df['Correct?'].value_counts(normalize=True)"
   ]
  },
  {
   "cell_type": "markdown",
   "metadata": {},
   "source": [
    "### Avoiding \"underflow\"\n",
    "\n",
    "> \"...repeatedly multiplying small probabilities can lead to underflow; rounding to zero due to numerical approximation limitations. As such, a common alternative is to add the logarithms of the probabilities as opposed to multiplying the raw probabilities themselves...\"<br>\n",
    "$$ \\large e^x \\cdot e^y = e^{x+y}$$  \n",
    "$$ \\large log_{e}(e)=1 $$  \n",
    "$$\\large  e^{log(x)} = x$$ \n",
    "\n",
    "With that, here's an updated version of the function using log probabilities to avoid underflow:"
   ]
  },
  {
   "cell_type": "code",
   "execution_count": 99,
   "metadata": {
    "ExecuteTime": {
     "end_time": "2021-06-03T00:20:08.880126Z",
     "start_time": "2021-06-03T00:20:08.876831Z"
    }
   },
   "outputs": [],
   "source": [
    "def predict_class_log(row):\n",
    "    c_probs = []\n",
    "    for c in range(3):\n",
    "        # Initialize probability to relative probability of class\n",
    "        p = len(df[df['Target'] == c])/len(df) \n",
    "        for feature in X.columns:\n",
    "            p += np.log(p_x_given_class(row, feature, c))\n",
    "        c_probs.append(p)\n",
    "    return np.argmax(c_probs)"
   ]
  },
  {
   "cell_type": "code",
   "execution_count": 100,
   "metadata": {
    "ExecuteTime": {
     "end_time": "2021-06-03T00:20:10.661412Z",
     "start_time": "2021-06-03T00:20:08.882724Z"
    },
    "scrolled": false
   },
   "outputs": [
    {
     "name": "stdout",
     "output_type": "stream",
     "text": [
      "0\n"
     ]
    },
    {
     "data": {
      "text/plain": [
       "True     0.96\n",
       "False    0.04\n",
       "Name: Correct?, dtype: float64"
      ]
     },
     "execution_count": 100,
     "metadata": {},
     "output_type": "execute_result"
    }
   ],
   "source": [
    "row = 0\n",
    "\n",
    "df.iloc[row]\n",
    "print(predict_class_log(row))\n",
    "df['Predictions'] =  [predict_class_log(row) for row in df.index]\n",
    "df['Correct?'] = df['Target'] == df['Predictions']\n",
    "df['Correct?'].value_counts(normalize=True)"
   ]
  },
  {
   "cell_type": "markdown",
   "metadata": {},
   "source": [
    "## Text Classification with Naive Bayes"
   ]
  },
  {
   "cell_type": "markdown",
   "metadata": {},
   "source": [
    " $$ \\large P(\\text{Spam | Word}) = \\dfrac{P(\\text{Word | Spam})P(\\text{Spam})}{P(\\text{Word})}$$  \n",
    "\n",
    "- Where $P(\\text{Word | Spam})$ is\n",
    "\n",
    " $$ \\large P(\\text{Word | Spam}) = \\dfrac{\\text{Word Frequency in Document}}{\\text{Word Frequency Across All Spam Documents}}$$  "
   ]
  },
  {
   "cell_type": "markdown",
   "metadata": {},
   "source": [
    "> \"However, this formulation has a problem: **what if you encounter a word in the test set that was not present in the training set?** This new word would have a frequency of zero! To effectively counteract these issues, Laplacian smoothing is often used giving:\"  \n",
    "\n",
    "- ***Laplacian smoothing:***\n",
    "\n",
    " $$P(\\text{Word | Spam}) = \\dfrac{\\text{Word Frequency in Document} + 1}{\\text{Word Frequency Across All Spam Documents + Number of Words in Corpus Vocabulary}}$$  \n"
   ]
  },
  {
   "cell_type": "markdown",
   "metadata": {},
   "source": [
    "# ⏰ **Activity Continued:  Finding Trump with Naive Bayes**"
   ]
  },
  {
   "cell_type": "code",
   "execution_count": 101,
   "metadata": {
    "ExecuteTime": {
     "end_time": "2021-06-03T00:20:10.669176Z",
     "start_time": "2021-06-03T00:20:10.663058Z"
    }
   },
   "outputs": [
    {
     "data": {
      "text/plain": [
       "Pipeline(steps=[('count_vectorizer',\n",
       "                 CountVectorizer(tokenizer=<bound method TweetTokenizer.tokenize of <nltk.tokenize.casual.TweetTokenizer object at 0x7fd6970b24c0>>)),\n",
       "                ('tf_transformer', TfidfTransformer())])"
      ]
     },
     "execution_count": 101,
     "metadata": {},
     "output_type": "execute_result"
    }
   ],
   "source": [
    "text_pipe"
   ]
  },
  {
   "cell_type": "code",
   "execution_count": 102,
   "metadata": {
    "ExecuteTime": {
     "end_time": "2021-06-03T00:20:10.749017Z",
     "start_time": "2021-06-03T00:20:10.671840Z"
    }
   },
   "outputs": [
    {
     "data": {
      "text/plain": [
       "<422x2240 sparse matrix of type '<class 'numpy.float64'>'\n",
       "\twith 8768 stored elements in Compressed Sparse Row format>"
      ]
     },
     "execution_count": 102,
     "metadata": {},
     "output_type": "execute_result"
    }
   ],
   "source": [
    "## Use text pipe to \n",
    "X_train_pipe = text_pipe.fit_transform(X_train)\n",
    "X_test_pipe = text_pipe.transform(X_test)\n",
    "X_train_pipe"
   ]
  },
  {
   "cell_type": "code",
   "execution_count": 103,
   "metadata": {
    "ExecuteTime": {
     "end_time": "2021-06-03T00:20:11.149168Z",
     "start_time": "2021-06-03T00:20:10.750854Z"
    },
    "scrolled": false
   },
   "outputs": [
    {
     "name": "stdout",
     "output_type": "stream",
     "text": [
      "              precision    recall  f1-score   support\n",
      "\n",
      "           0       1.00      0.50      0.67        72\n",
      "           1       0.75      1.00      0.86       109\n",
      "\n",
      "    accuracy                           0.80       181\n",
      "   macro avg       0.88      0.75      0.76       181\n",
      "weighted avg       0.85      0.80      0.78       181\n",
      "\n"
     ]
    },
    {
     "data": {
      "image/png": "[encoded data removed]",
      "text/plain": [
       "<Figure size 720x288 with 3 Axes>"
      ]
     },
     "metadata": {
      "needs_background": "light"
     },
     "output_type": "display_data"
    },
    {
     "name": "stdout",
     "output_type": "stream",
     "text": [
      "Training Score = 0.90\n",
      "Test Score = 0.80\n"
     ]
    }
   ],
   "source": [
    "## Make a naive bayes classifier\n",
    "nb_classifier = MultinomialNB()#alpha = 1.0e-08)\n",
    "nb_classifier.fit(X_train_pipe,y_train)\n",
    "evaluate_classification(nb_classifier,X_test_pipe,y_test, X_train=X_train_pipe,\n",
    "                       y_train=y_train)\n"
   ]
  },
  {
   "cell_type": "code",
   "execution_count": 104,
   "metadata": {
    "ExecuteTime": {
     "end_time": "2021-06-03T00:20:54.961302Z",
     "start_time": "2021-06-03T00:20:11.151266Z"
    }
   },
   "outputs": [
    {
     "name": "stdout",
     "output_type": "stream",
     "text": [
      "Fitting 3 folds for each of 1152 candidates, totalling 3456 fits\n"
     ]
    },
    {
     "name": "stderr",
     "output_type": "stream",
     "text": [
      "[Parallel(n_jobs=-1)]: Using backend LokyBackend with 12 concurrent workers.\n",
      "[Parallel(n_jobs=-1)]: Done  17 tasks      | elapsed:    0.3s\n",
      "[Parallel(n_jobs=-1)]: Done 252 tasks      | elapsed:    2.9s\n",
      "[Parallel(n_jobs=-1)]: Done 658 tasks      | elapsed:    7.8s\n",
      "[Parallel(n_jobs=-1)]: Done 1224 tasks      | elapsed:   14.9s\n",
      "[Parallel(n_jobs=-1)]: Done 1954 tasks      | elapsed:   24.0s\n",
      "[Parallel(n_jobs=-1)]: Done 2844 tasks      | elapsed:   35.0s\n",
      "[Parallel(n_jobs=-1)]: Done 3456 out of 3456 | elapsed:   43.7s finished\n"
     ]
    },
    {
     "data": {
      "text/plain": [
       "{'clf__alpha': 1,\n",
       " 'clf__fit_prior': False,\n",
       " 'text_pipe__count_vectorizer__max_df': 1.0,\n",
       " 'text_pipe__count_vectorizer__min_df': 2,\n",
       " 'text_pipe__count_vectorizer__stop_words': None,\n",
       " 'text_pipe__count_vectorizer__tokenizer': <bound method TweetTokenizer.tokenize of <nltk.tokenize.casual.TweetTokenizer object at 0x7fd6a3414370>>,\n",
       " 'text_pipe__tf_transformer__norm': 'l2',\n",
       " 'text_pipe__tf_transformer__smooth_idf': True,\n",
       " 'text_pipe__tf_transformer__use_idf': True}"
      ]
     },
     "execution_count": 104,
     "metadata": {},
     "output_type": "execute_result"
    }
   ],
   "source": [
    "### Make a new pipeline for bayes\n",
    "\n",
    "nb_pipe = Pipeline(steps=[\n",
    "    ('text_pipe',text_pipe),\n",
    "    ('clf',MultinomialNB())\n",
    "])\n",
    "\n",
    "\n",
    "params = {'text_pipe__tf_transformer__use_idf':[True, False],\n",
    "          'text_pipe__tf_transformer__norm':['l2','l1'],\n",
    "          'text_pipe__tf_transformer__use_idf':[True,False],\n",
    "          'text_pipe__tf_transformer__smooth_idf':[True,False],\n",
    "          'text_pipe__count_vectorizer__tokenizer':[ \n",
    "#               None,                                       \n",
    "              TweetTokenizer(preserve_case=True).tokenize,\n",
    "              TweetTokenizer(preserve_case=False).tokenize],\n",
    "          \n",
    "          'text_pipe__count_vectorizer__stop_words':[None,stopwords_list],\n",
    "          'text_pipe__count_vectorizer__max_df':[1.0,0.95,0.9],\n",
    "          'text_pipe__count_vectorizer__min_df':[1,2,3],\n",
    "          \n",
    "         'clf__alpha':[0, 1],\n",
    "         'clf__fit_prior':[True,False]}\n",
    "\n",
    "\n",
    "## Make and fit grid\n",
    "grid = GridSearchCV(nb_pipe,params,cv=3,scoring='recall_macro',\n",
    "                   verbose=2, n_jobs=-1)\n",
    "grid.fit(X_train,y_train)\n",
    "## Display best params\n",
    "grid.best_params_"
   ]
  },
  {
   "cell_type": "code",
   "execution_count": 105,
   "metadata": {
    "ExecuteTime": {
     "end_time": "2021-06-03T00:20:55.599893Z",
     "start_time": "2021-06-03T00:20:54.963672Z"
    }
   },
   "outputs": [
    {
     "name": "stdout",
     "output_type": "stream",
     "text": [
      "              precision    recall  f1-score   support\n",
      "\n",
      "           0       0.92      0.76      0.83        72\n",
      "           1       0.86      0.95      0.90       109\n",
      "\n",
      "    accuracy                           0.88       181\n",
      "   macro avg       0.89      0.86      0.87       181\n",
      "weighted avg       0.88      0.88      0.88       181\n",
      "\n"
     ]
    },
    {
     "data": {
      "image/png": "[encoded data removed]",
      "text/plain": [
       "<Figure size 720x288 with 3 Axes>"
      ]
     },
     "metadata": {
      "needs_background": "light"
     },
     "output_type": "display_data"
    },
    {
     "name": "stdout",
     "output_type": "stream",
     "text": [
      "Training Score = 0.92\n",
      "Test Score = 0.88\n"
     ]
    }
   ],
   "source": [
    "## Evluate the best_estimator\n",
    "best_pipe = grid.best_estimator_\n",
    "evaluate_classification(best_pipe,X_test,y_test,X_train=X_train,y_train=y_train)"
   ]
  },
  {
   "cell_type": "code",
   "execution_count": null,
   "metadata": {},
   "outputs": [],
   "source": []
  },
  {
   "cell_type": "markdown",
   "metadata": {},
   "source": [
    "# APPENDIX"
   ]
  },
  {
   "cell_type": "code",
   "execution_count": 106,
   "metadata": {
    "ExecuteTime": {
     "end_time": "2021-06-03T00:20:55.637114Z",
     "start_time": "2021-06-03T00:20:55.602299Z"
    }
   },
   "outputs": [
    {
     "ename": "Exception",
     "evalue": "Stop!",
     "output_type": "error",
     "traceback": [
      "\u001b[0;31m---------------------------------------------------------------------------\u001b[0m",
      "\u001b[0;31mException\u001b[0m                                 Traceback (most recent call last)",
      "\u001b[0;32m<ipython-input-106-13ea235d7be4>\u001b[0m in \u001b[0;36m<module>\u001b[0;34m\u001b[0m\n\u001b[0;32m----> 1\u001b[0;31m \u001b[0;32mraise\u001b[0m \u001b[0mException\u001b[0m\u001b[0;34m(\u001b[0m\u001b[0;34m\"Stop!\"\u001b[0m\u001b[0;34m)\u001b[0m\u001b[0;34m\u001b[0m\u001b[0;34m\u001b[0m\u001b[0m\n\u001b[0m",
      "\u001b[0;31mException\u001b[0m: Stop!"
     ]
    }
   ],
   "source": [
    "raise Exception(\"Stop!\")"
   ]
  },
  {
   "cell_type": "markdown",
   "metadata": {},
   "source": [
    "## T-SNE (for Student Question)"
   ]
  },
  {
   "cell_type": "code",
   "execution_count": null,
   "metadata": {
    "ExecuteTime": {
     "end_time": "2021-06-03T00:20:55.639806Z",
     "start_time": "2021-06-03T00:17:05.552Z"
    }
   },
   "outputs": [],
   "source": [
    "X_train_pipe.todense()"
   ]
  },
  {
   "cell_type": "code",
   "execution_count": null,
   "metadata": {
    "ExecuteTime": {
     "end_time": "2021-06-03T00:20:55.641514Z",
     "start_time": "2021-06-03T00:17:05.556Z"
    }
   },
   "outputs": [],
   "source": [
    "from sklearn.manifold import TSNE\n",
    "from mpl_toolkits.mplot3d import Axes3D"
   ]
  },
  {
   "cell_type": "code",
   "execution_count": null,
   "metadata": {
    "ExecuteTime": {
     "end_time": "2021-06-03T00:20:55.643302Z",
     "start_time": "2021-06-03T00:17:05.560Z"
    }
   },
   "outputs": [],
   "source": [
    "## TSNE For Visualizing High Dimensional Data\n",
    "t_sne_object_3d = TSNE(n_components=3)\n",
    "transformed_data_3d = t_sne_object_3d.fit_transform(X_train_pipe)\n",
    "transformed_data_3d"
   ]
  },
  {
   "cell_type": "code",
   "execution_count": null,
   "metadata": {
    "ExecuteTime": {
     "end_time": "2021-06-03T00:20:55.645249Z",
     "start_time": "2021-06-03T00:17:05.563Z"
    }
   },
   "outputs": [],
   "source": [
    "## Separate into Trump/Not Trump\n",
    "trump = transformed_data_3d[y_train==1]\n",
    "not_trump = transformed_data_3d[y_train==0]"
   ]
  },
  {
   "cell_type": "code",
   "execution_count": null,
   "metadata": {
    "ExecuteTime": {
     "end_time": "2021-06-03T00:20:55.646722Z",
     "start_time": "2021-06-03T00:17:05.567Z"
    }
   },
   "outputs": [],
   "source": [
    "fig = plt.figure(figsize=(20,10))\n",
    "ax = fig.add_subplot(projection='3d')\n",
    "\n",
    "ax.scatter(trump[:,0],trump[:,1],\n",
    "           trump[:,2],c='orange',label='Trump')\n",
    "ax.scatter(not_trump[:,0],not_trump[:,1],\n",
    "           not_trump[:,2],c='black',label='Not Trump')\n",
    "ax.legend()\n",
    "ax.view_init(30, 10)\n",
    "\n",
    "\n",
    "fig.tight_layout()"
   ]
  },
  {
   "cell_type": "code",
   "execution_count": null,
   "metadata": {
    "ExecuteTime": {
     "end_time": "2021-06-03T00:20:55.649491Z",
     "start_time": "2021-06-03T00:17:05.571Z"
    }
   },
   "outputs": [],
   "source": [
    "## TSNE For Visualizing High Dimensional Data\n",
    "t_sne_object_2d = TSNE(n_components=2)\n",
    "transformed_data_2d = t_sne_object_2d.fit_transform(X_train_pipe)\n",
    "## Separate into Trump/Not Trump\n",
    "trump = transformed_data_2d[y_train==1]\n",
    "not_trump = transformed_data_2d[y_train==0]"
   ]
  },
  {
   "cell_type": "code",
   "execution_count": null,
   "metadata": {
    "ExecuteTime": {
     "end_time": "2021-06-03T00:20:55.651639Z",
     "start_time": "2021-06-03T00:17:05.575Z"
    },
    "scrolled": true
   },
   "outputs": [],
   "source": [
    "fig,ax = plt.subplots(figsize=(20,10))\n",
    "ax.scatter(trump[:,0],trump[:,1],c='orange',label='Trump')\n",
    "ax.scatter(not_trump[:,0],not_trump[:,1],c='black',label='Not Trump')\n",
    "ax.legend()\n",
    "\n",
    "fig.tight_layout()"
   ]
  },
  {
   "cell_type": "markdown",
   "metadata": {},
   "source": [
    "## Excluded Code"
   ]
  },
  {
   "cell_type": "markdown",
   "metadata": {},
   "source": [
    "### Summary table from Finding Trump"
   ]
  },
  {
   "cell_type": "code",
   "execution_count": null,
   "metadata": {
    "ExecuteTime": {
     "end_time": "2021-06-03T00:20:55.653115Z",
     "start_time": "2021-06-03T00:17:05.579Z"
    }
   },
   "outputs": [],
   "source": [
    "# ## Summary Table with Most Frequent Words \n",
    "# prob_cols =['Twitter for Android','Twitter for iPhone']\n",
    "# top_probs['importance'] = importance.loc[top_probs.index]\n",
    "\n",
    "# top_probs['max_prob'] = top_probs[prob_cols].max(axis=1)\n",
    "# top_probs['Max Prob Class'] = top_probs[prob_cols].idxmax(axis=1)\n",
    "# top_probs.sort_values('importance',0,0,inplace=True)\n",
    "# top_probs.style.bar('importance')\\\n",
    "#                     .background_gradient(subset=['max_prob'])\\\n",
    "#                     .highlight_max(subset=prob_cols,axis=1,color='lightgreen')\n",
    "# #.background_gradient(subset=prob_cols,axis=1,cmap='Reds')"
   ]
  },
  {
   "cell_type": "code",
   "execution_count": null,
   "metadata": {},
   "outputs": [],
   "source": []
  },
  {
   "cell_type": "code",
   "execution_count": null,
   "metadata": {
    "ExecuteTime": {
     "end_time": "2021-06-03T00:20:55.654851Z",
     "start_time": "2021-06-03T00:17:05.585Z"
    }
   },
   "outputs": [],
   "source": [
    "# results = top_probs[['Max Prob Class','max_prob','importance']]\n",
    "# display(results.style.bar('importance').background_gradient(subset=['max_prob']))\n",
    "# results['Max Prob Class'].value_counts(1)\n"
   ]
  },
  {
   "cell_type": "markdown",
   "metadata": {},
   "source": [
    "### Interactive Tokenizer Example"
   ]
  },
  {
   "cell_type": "code",
   "execution_count": null,
   "metadata": {
    "ExecuteTime": {
     "end_time": "2021-06-03T00:20:55.656361Z",
     "start_time": "2021-06-03T00:17:05.589Z"
    }
   },
   "outputs": [],
   "source": [
    "from nltk import word_tokenize\n",
    "from ipywidgets import interact\n",
    "\n",
    "@interact\n",
    "def tokenize_tweet(i=(0,len(corpus)-1)):\n",
    "    from nltk.corpus import stopwords\n",
    "    import string\n",
    "    from nltk import word_tokenize,regexp_tokenize\n",
    "    \n",
    "    print(f\"- Tweet #{i}:\\n\")\n",
    "    print(corpus[i],'\\n')\n",
    "    tokens = word_tokenize(corpus[i])\n",
    "\n",
    "    # Get all the stop words in the English language\n",
    "    stopwords_list = stopwords.words('english')\n",
    "    stopwords_list += string.punctuation\n",
    "    stopped_tokens = [w.lower() for w in tokens if w not in stopwords_list]\n",
    "    \n",
    "    print(tokens,end='\\n\\n')\n",
    "    print(stopped_tokens)"
   ]
  },
  {
   "cell_type": "markdown",
   "metadata": {},
   "source": [
    "### NLP Vocabulary\n",
    "- Corpus\n",
    "    - Body of text\n",
    "    \n",
    "- Bag of Words\n",
    "    - Collection of all words from a corpus.\n"
   ]
  },
  {
   "cell_type": "markdown",
   "metadata": {},
   "source": [
    "## Regular Expressions"
   ]
  },
  {
   "cell_type": "markdown",
   "metadata": {},
   "source": [
    "- Use https://regex101.com/ to test out regular expressions"
   ]
  },
  {
   "cell_type": "markdown",
   "metadata": {},
   "source": [
    "## Context-Free Grammers and POS Tagging"
   ]
  },
  {
   "cell_type": "markdown",
   "metadata": {},
   "source": [
    "<img src=\"https://raw.githubusercontent.com/jirvingphd/dsc-context-free-grammars-and-POS-tagging-online-ds-ft-100719/master/images/new_LevelsOfLanguage-Graph.png\">"
   ]
  },
  {
   "cell_type": "markdown",
   "metadata": {},
   "source": [
    "#### Syntax and Meaning Can be Difficult for Computers \n",
    "\n",
    "In English, sentences consist of a **_Noun Phrase_** followed by a **_Verb Phrase_**, which may optionally be followed by a **_Prepositional Phrase_**.\n",
    "\n",
    "This ***seems simple, but it gets more tricky*** when we realize that there is a recursive structure to these phrases.\n",
    "\n",
    "- A noun phrase may consist of multiple smaller noun phrases, and in some cases, even a verb phrase. \n",
    "- Similarly, a verb phrase can consist of multiple smaller verb phrases and noun phrases, which can themselves be made up of smaller noun phrases and verb phrases. \n",
    "\n",
    "\n",
    "This leads levels of **_ambiguity_** that can be troublesome for computers. NLTK's documentation explains this by examining the classic Groucho Marx joke:\n",
    "\n",
    "> ***\"While hunting in Africa, I shot an elephant in my pajamas. How he got into my pajamas, I don't know.\"***\n",
    "\n"
   ]
  },
  {
   "cell_type": "markdown",
   "metadata": {},
   "source": [
    "<img src=\"https://raw.githubusercontent.com/jirvingphd/dsc-context-free-grammars-and-POS-tagging-online-ds-ft-100719/master/images/parse_tree.png\">"
   ]
  },
  {
   "cell_type": "code",
   "execution_count": null,
   "metadata": {},
   "outputs": [],
   "source": [
    "\n"
   ]
  },
  {
   "cell_type": "code",
   "execution_count": null,
   "metadata": {},
   "outputs": [],
   "source": []
  }
 ],
 "metadata": {
  "kernelspec": {
   "display_name": "learn-env-new",
   "language": "python",
   "name": "learn-env-new"
  },
  "language_info": {
   "codemirror_mode": {
    "name": "ipython",
    "version": 3
   },
   "file_extension": ".py",
   "mimetype": "text/x-python",
   "name": "python",
   "nbconvert_exporter": "python",
   "pygments_lexer": "ipython3",
   "version": "3.8.5"
  },
  "toc": {
   "base_numbering": 1,
   "nav_menu": {},
   "number_sections": true,
   "sideBar": true,
   "skip_h1_title": false,
   "title_cell": "Table of Contents",
   "title_sidebar": "Contents",
   "toc_cell": false,
   "toc_position": {
    "height": "calc(100% - 180px)",
    "left": "10px",
    "top": "150px",
    "width": "320px"
   },
   "toc_section_display": true,
   "toc_window_display": true
  },
  "widgets": {
   "application/vnd.jupyter.widget-state+json": {
    "state": {
     "0cd25ab07e664e839a42b9ac2fa6ad99": {
      "model_module": "@jupyter-widgets/base",
      "model_module_version": "1.2.0",
      "model_name": "LayoutModel",
      "state": {}
     },
     "1989e13775384856905bd5e8dac53607": {
      "model_module": "@jupyter-widgets/controls",
      "model_module_version": "1.5.0",
      "model_name": "VBoxModel",
      "state": {
       "_dom_classes": [
        "widget-interact"
       ],
       "children": [
        "IPY_MODEL_3609ecab94854243bf79cb6c88be6df3",
        "IPY_MODEL_50da50b1cf844dc19c5b14f6bbe62c88"
       ],
       "layout": "IPY_MODEL_cc1c3e4707244fba8956fb015f6c74c3"
      }
     },
     "269bf34c50e742acbef263e949284945": {
      "model_module": "@jupyter-widgets/base",
      "model_module_version": "1.2.0",
      "model_name": "LayoutModel",
      "state": {}
     },
     "3609ecab94854243bf79cb6c88be6df3": {
      "model_module": "@jupyter-widgets/controls",
      "model_module_version": "1.5.0",
      "model_name": "IntSliderModel",
      "state": {
       "description": "i",
       "layout": "IPY_MODEL_0cd25ab07e664e839a42b9ac2fa6ad99",
       "max": 14065,
       "style": "IPY_MODEL_4043f03f151c4f6e9f347a05645b281b",
       "value": 7032
      }
     },
     "3b8d9ff671cc4b8cb711bd4259467459": {
      "model_module": "@jupyter-widgets/output",
      "model_module_version": "1.0.0",
      "model_name": "OutputModel",
      "state": {
       "layout": "IPY_MODEL_269bf34c50e742acbef263e949284945",
       "outputs": [
        {
         "name": "stdout",
         "output_type": "stream",
         "text": "Comey testified (under oath) that it was a “unanimous” decision on Crooked Hillary. Lisa Page transcripts show he LIED. @jasoninthehouse\n['comey', 'testified', 'oath', 'unanimous', 'decision', 'crooked', 'hillary', 'lisa', 'page', 'transcripts', 'show', 'lied', 'jasoninthehouse']\n['comey', 'testified', 'oath', 'unanimous', 'decision', 'crooked', 'hillary', 'lisa', 'page', 'transcripts', 'show', 'lied', 'jasoninthehouse']\n"
        }
       ]
      }
     },
     "3f8a7f7f6ca84d909af45f28ade6e250": {
      "model_module": "@jupyter-widgets/base",
      "model_module_version": "1.2.0",
      "model_name": "LayoutModel",
      "state": {}
     },
     "4043f03f151c4f6e9f347a05645b281b": {
      "model_module": "@jupyter-widgets/controls",
      "model_module_version": "1.5.0",
      "model_name": "SliderStyleModel",
      "state": {
       "description_width": ""
      }
     },
     "50da50b1cf844dc19c5b14f6bbe62c88": {
      "model_module": "@jupyter-widgets/output",
      "model_module_version": "1.0.0",
      "model_name": "OutputModel",
      "state": {
       "layout": "IPY_MODEL_3f8a7f7f6ca84d909af45f28ade6e250",
       "outputs": [
        {
         "name": "stdout",
         "output_type": "stream",
         "text": "- Tweet #7032:\n\nComey testified (under oath) that it was a “unanimous” decision on Crooked Hillary. Lisa Page transcripts show he LIED. @jasoninthehouse \n\n['Comey', 'testified', '(', 'under', 'oath', ')', 'that', 'it', 'was', 'a', '“', 'unanimous', '”', 'decision', 'on', 'Crooked', 'Hillary', '.', 'Lisa', 'Page', 'transcripts', 'show', 'he', 'LIED', '.', '@', 'jasoninthehouse']\n\n['comey', 'testified', 'oath', 'unanimous', 'decision', 'crooked', 'hillary', 'lisa', 'page', 'transcripts', 'show', 'lied', 'jasoninthehouse']\n"
        }
       ]
      }
     },
     "60024863b7e24c3f886103a999a60fb2": {
      "model_module": "@jupyter-widgets/base",
      "model_module_version": "1.2.0",
      "model_name": "LayoutModel",
      "state": {}
     },
     "7328dc93e0534ed892df5a9d4431a28f": {
      "model_module": "@jupyter-widgets/base",
      "model_module_version": "1.2.0",
      "model_name": "LayoutModel",
      "state": {}
     },
     "93231fb165ca4b02a9a13fef729e4071": {
      "model_module": "@jupyter-widgets/controls",
      "model_module_version": "1.5.0",
      "model_name": "SliderStyleModel",
      "state": {
       "description_width": ""
      }
     },
     "cc1c3e4707244fba8956fb015f6c74c3": {
      "model_module": "@jupyter-widgets/base",
      "model_module_version": "1.2.0",
      "model_name": "LayoutModel",
      "state": {}
     },
     "eacdf6995a6b410d9a381da547d8f674": {
      "model_module": "@jupyter-widgets/controls",
      "model_module_version": "1.5.0",
      "model_name": "IntSliderModel",
      "state": {
       "description": "i",
       "layout": "IPY_MODEL_60024863b7e24c3f886103a999a60fb2",
       "max": 14065,
       "style": "IPY_MODEL_93231fb165ca4b02a9a13fef729e4071",
       "value": 7032
      }
     },
     "f0e12d1387544d9a8381707889e119e9": {
      "model_module": "@jupyter-widgets/controls",
      "model_module_version": "1.5.0",
      "model_name": "VBoxModel",
      "state": {
       "_dom_classes": [
        "widget-interact"
       ],
       "children": [
        "IPY_MODEL_eacdf6995a6b410d9a381da547d8f674",
        "IPY_MODEL_3b8d9ff671cc4b8cb711bd4259467459"
       ],
       "layout": "IPY_MODEL_7328dc93e0534ed892df5a9d4431a28f"
      }
     }
    },
    "version_major": 2,
    "version_minor": 0
   }
  }
 },
 "nbformat": 4,
 "nbformat_minor": 2
}
